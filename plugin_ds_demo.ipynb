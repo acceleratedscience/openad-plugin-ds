{
 "cells": [
  {
   "cell_type": "code",
   "execution_count": null,
   "id": "83f5abe4-7205-4fc1-a2bf-a75c76bbbd23",
   "metadata": {
    "tags": []
   },
   "outputs": [],
   "source": [
    "%reload_ext openad.notebooks.styles"
   ]
  },
  {
   "cell_type": "markdown",
   "id": "2350625b-139b-457e-8857-d6c6c33eabc8",
   "metadata": {},
   "source": [
    "<!-- Header banner -->\n",
    "<div class=\"banner\"><div>Working with the Deep Search Plugin</div><b>OpenAD <span>Tutorial</span></b></div>"
   ]
  },
  {
   "cell_type": "markdown",
   "id": "b38aac2b-5086-4741-9607-ac535634ef18",
   "metadata": {},
   "source": [
    "### Table of Contents\n",
    "\n",
    "1. [Getting Started](#Getting-Started)\n",
    "    1. [Installation](#Installation)\n",
    "    1. [Authentication](#Authentication)\n",
    "    1. [Magic Commands](#Magic-Commands)\n",
    "    1. [About Deep Search](#About-Deep-Search)\n",
    "    1. [Command Documentation](#Command-Documentation)\n",
    "1. [Searching for Molecules](#Searching-for-Molecules)\n",
    "    1. [Similar Molecules](#Similar-Molecules)\n",
    "    1. [By Substructure](#By-Substructure)\n",
    "    1. [Across Patents](#Across-Patents)\n",
    "1. [Exploring Collections](#Exploring-Collections)\n",
    "    1. [Overview of Collections](#Overview-of-Collections)\n",
    "    1. [Find Collections by Domain](#Find-Collections-by-Domain)\n",
    "    1. [Find Collections by Content](#Find-Collections-by-Content)\n",
    "1. [Searching a Collection](#Searching-a-Collection)\n",
    "    1. [Search Parameters](#Search-Parameters)\n",
    "    1. [Example A: Search for \"Ibuprofen\" on PubChem](#Example-A:-Search-for-\"Ibuprofen\"-on-PubChem)\n",
    "    1. [Example B: Query arXiv for \"power conversion efficiency\"](#Example-B:-Query-arXiv-for-\"power-conversion-efficiency\")\n",
    "1. [Enriching your Molecules with Deep Search Results](#Enriching-your-Molecules-with-Deep-Search-Results)"
   ]
  },
  {
   "cell_type": "markdown",
   "id": "96aae46b-4f93-483c-b600-4f67a2a946a6",
   "metadata": {
    "tags": []
   },
   "source": [
    "## Getting Started"
   ]
  },
  {
   "cell_type": "markdown",
   "id": "fb3d1678-f853-465c-a58f-006ac76559be",
   "metadata": {},
   "source": [
    "### Installation\n",
    "If you haven't already, you can install the plugin directly from its [GitHub repo](https://github.com/acceleratedscience/openad-plugin-ds#readme).\n",
    "    \n",
    "    pip install git+https://github.com/acceleratedscience/openad-plugin-ds\n",
    "\n",
    "### Authentication\n",
    "Before you can work with the Deep Search plugin, you'll need to sign up for a Deep Search account and create an API key.<br>We have [detailed instructions in the plugin's README](https://github.com/acceleratedscience/openad-plugin-ds#authentication). \n",
    "\n",
    "### Magic Commands\n",
    "Magic commands let you interact with the OpenAD shell.\n",
    "1. `%openad` - Display results directly in your notebook<br>\n",
    "2. `%openadd` - Store the returned data in a variable\n",
    "\n",
    "To learn more, check the [OpenAD intro to magic commands](https://github.com/acceleratedscience/openad-toolkit/blob/main/openad/notebooks/magic_commands.ipynb).\n",
    "\n",
    "### About Deep Search\n",
    "To learn about what this plugin does and list all available commands, run:\n",
    "\n",
    "    ds"
   ]
  },
  {
   "cell_type": "code",
   "execution_count": null,
   "id": "b089a7c4-be38-4447-9e05-335e8f4d08e6",
   "metadata": {
    "tags": []
   },
   "outputs": [],
   "source": [
    "%openad ds"
   ]
  },
  {
   "cell_type": "markdown",
   "id": "b304f72a-11a9-427c-9e01-8f815d5d42d6",
   "metadata": {},
   "source": [
    "### Command Documentation\n",
    "\n",
    "Every command has detailed documentation where you can find everything you need to know, including optional parameters and examples.\n",
    "\n",
    "To see the documentation of a command, just run the beginning of the command followed by a question mark."
   ]
  },
  {
   "cell_type": "code",
   "execution_count": null,
   "id": "ea1b8a35-dd08-4244-82fc-0f4d944a30c0",
   "metadata": {
    "tags": []
   },
   "outputs": [],
   "source": [
    "%openad ds reset ?"
   ]
  },
  {
   "cell_type": "markdown",
   "id": "7c2852cf-6dfc-46fd-8bc5-c04e9ff6dae8",
   "metadata": {
    "tags": []
   },
   "source": [
    "## Searching for Molecules"
   ]
  },
  {
   "cell_type": "markdown",
   "id": "ca86ea8f-068d-492f-a144-9c56aff2535b",
   "metadata": {},
   "source": [
    "### Similar Molecules\n",
    "\n",
    "    ds search for molecules similar to <smiles>"
   ]
  },
  {
   "cell_type": "code",
   "execution_count": null,
   "id": "3a70b37a-7ce9-484d-87d6-aa6d754520ab",
   "metadata": {
    "tags": []
   },
   "outputs": [],
   "source": [
    "%openad ds search for molecules similar to 'CC(C)(c1ccccn1)C(CC(=O)O)Nc1nc(-c2c[nH]c3ncc(Cl)cc23)c(C#N)cc1F'"
   ]
  },
  {
   "cell_type": "markdown",
   "id": "e21c1295-a57c-4e74-a205-da378507b658",
   "metadata": {},
   "source": [
    "### By Substructure\n",
    "\n",
    "    ds search for molecules with substructure <smiles>"
   ]
  },
  {
   "cell_type": "code",
   "execution_count": null,
   "id": "38ab8f80-ca83-4d6d-9ae5-1a752f492628",
   "metadata": {
    "tags": []
   },
   "outputs": [],
   "source": [
    "%openad ds search for molecules with  substructure 'C1(C(=C)C([O-])C1C)=O'"
   ]
  },
  {
   "cell_type": "markdown",
   "id": "d0a0ca22-e573-432c-bfaa-444deaaf086f",
   "metadata": {},
   "source": [
    "### Across Patents\n",
    "\n",
    "#### From a List\n",
    "\n",
    "    ds search for molecules in patents from list ['<patent_id>','<patent_id>',...]"
   ]
  },
  {
   "cell_type": "code",
   "execution_count": null,
   "id": "4f858d6a-5f7a-4feb-aa42-f72b50992cb2",
   "metadata": {
    "tags": []
   },
   "outputs": [],
   "source": [
    "# Basic example\n",
    "%openad ds search for molecules in patents from list ['CN108473493B','US20190023713A1']"
   ]
  },
  {
   "cell_type": "code",
   "execution_count": null,
   "id": "0cc24caa-c670-4530-b72e-daed0c212334",
   "metadata": {
    "tags": []
   },
   "outputs": [],
   "source": [
    "# Practical example\n",
    "from IPython.display import display, HTML\n",
    "\n",
    "# 1) Find patents containing a certain molecule\n",
    "smiles = 'CC(C)(c1ccccn1)C(CC(=O)O)Nc1nc(-c2c[nH]c3ncc(Cl)cc23)c(C#N)cc1F'\n",
    "patents = None\n",
    "patents = %openadd ds search for patents containing molecule {smiles}\n",
    "patents\n",
    "\n",
    "# 2) Search for other molecules in these patents\n",
    "if patents is not None:\n",
    "    patent_ids = list(patents[\"publication_id\"])\n",
    "    %openad ds search for molecules in patents from list {patent_ids}\n",
    "else:\n",
    "    display(HTML(f'<span style=\"color:#d00\">Something went wrong finding patents containing {smiles}</span>'))"
   ]
  },
  {
   "cell_type": "markdown",
   "id": "a16a797d-55a5-496b-999d-da16438a159e",
   "metadata": {},
   "source": [
    "#### From a DataFrame\n",
    "\n",
    "    ds search for molecules in patents from dataframe <dataframe_name>\n",
    "\n",
    "Please note that your patent ids should be stored in a column named `patent id` for this command to work."
   ]
  },
  {
   "cell_type": "code",
   "execution_count": null,
   "id": "acb2caeb-f432-476c-9112-1f4b161c755a",
   "metadata": {
    "tags": []
   },
   "outputs": [],
   "source": [
    "import pandas as py\n",
    "\n",
    "# Create a Pandas DataFrame with patent ids\n",
    "patent_ids = ['CN108473493B','US20190023713A1']\n",
    "df = py.DataFrame(patent_ids, columns=['patent id'])"
   ]
  },
  {
   "cell_type": "code",
   "execution_count": null,
   "id": "4a09e95c-29ad-4d63-bdcd-d636475ed0c0",
   "metadata": {
    "tags": []
   },
   "outputs": [],
   "source": [
    "%openad ds search for molecules in patents from dataframe df"
   ]
  },
  {
   "cell_type": "markdown",
   "id": "11ae5f7d-76e7-4671-be8a-bcf46a6b179d",
   "metadata": {},
   "source": [
    "#### From a File\n",
    "\n",
    "    ds search for molecules in patents from file '<filename.csv>'\n",
    "\n",
    "Please note that your patent ids should be stored in a column named `patent id` for this command to work.\n",
    "\n",
    "For the purpose of this demo, we'll store a .csv file with patent ids in your workspace."
   ]
  },
  {
   "cell_type": "code",
   "execution_count": null,
   "id": "1f3aeac4-2fc2-4437-88a0-ac1dc8cc55cb",
   "metadata": {
    "tags": []
   },
   "outputs": [],
   "source": [
    "# Prep\n",
    "patent_ids = ['CN108473493B','US20190023713A1']\n",
    "cmd_pointer = %openadd cmd_pointer\n",
    "workspace_path = cmd_pointer.workspace_path()\n",
    "csv_file_path = f'{workspace_path}/ds_demo_patents.csv'\n",
    "\n",
    "# Store reactions in a CSV file in your workspace\n",
    "df = py.DataFrame(patent_ids, columns=['patent id'])\n",
    "df.to_csv(csv_file_path)"
   ]
  },
  {
   "cell_type": "code",
   "execution_count": null,
   "id": "d67fd0f8-c39a-4673-b034-8623660e9ddc",
   "metadata": {
    "tags": []
   },
   "outputs": [],
   "source": [
    "# Inspect the file we just created\n",
    "import subprocess\n",
    "_ = subprocess.run([\"open\", csv_file_path])"
   ]
  },
  {
   "cell_type": "code",
   "execution_count": null,
   "id": "0b9b3938-b3ef-4c10-8885-7d0ad1deb228",
   "metadata": {
    "tags": []
   },
   "outputs": [],
   "source": [
    "%openad ds search for molecules in patents from file 'ds_demo_patents.csv'"
   ]
  },
  {
   "cell_type": "markdown",
   "id": "25f43ae7-35fb-407d-aa3b-03cc1738f844",
   "metadata": {
    "tags": []
   },
   "source": [
    "## Exploring Collections"
   ]
  },
  {
   "cell_type": "markdown",
   "id": "f0087be2-ec2d-4f45-82fd-82885eb70fec",
   "metadata": {},
   "source": [
    "Before you can search a collection, you'll need to know _what_ collections to search."
   ]
  },
  {
   "cell_type": "markdown",
   "id": "1dcbc391-eb4d-4240-9cfb-ea85ee38e982",
   "metadata": {},
   "source": [
    "### Overview of Collections\n",
    "\n",
    "    ds list all collections [ details ]"
   ]
  },
  {
   "cell_type": "code",
   "execution_count": null,
   "id": "3c9b2efb-551a-44de-a5de-ad6c385eed2b",
   "metadata": {
    "tags": []
   },
   "outputs": [],
   "source": [
    "# Overview of all available collections\n",
    "%openad ds list all collections"
   ]
  },
  {
   "cell_type": "code",
   "execution_count": null,
   "id": "503cdf92-0ccf-4938-9ec9-2fa7e5bfbf6b",
   "metadata": {
    "tags": []
   },
   "outputs": [],
   "source": [
    "# Description of all available collections\n",
    "%openad ds list all collections details"
   ]
  },
  {
   "cell_type": "markdown",
   "id": "8b51be6a-99f1-4db6-8a03-22ab6ff0c1d4",
   "metadata": {},
   "source": [
    "You can also request the description of a single collection.\n",
    "\n",
    "    ds list collection details '<collection_name_or_key>'"
   ]
  },
  {
   "cell_type": "code",
   "execution_count": null,
   "id": "34c29853-cea6-4497-a773-5205c2edfc23",
   "metadata": {
    "tags": []
   },
   "outputs": [],
   "source": [
    "%openad ds list collection details 'ipcc'"
   ]
  },
  {
   "cell_type": "markdown",
   "id": "2cdc75b1-c7d5-424e-a339-1883906b34ee",
   "metadata": {},
   "source": [
    "### Find Collections by Domain\n",
    "\n",
    "If you are looking for collections within a certain domain, you can first list the available domains...\n",
    "\n",
    "    ds list all domains\n",
    "    \n",
    "... and then list the collections for the domain(s) you want.\n",
    "\n",
    "    ds list collections for domain '<domain_name>'\n",
    "    ds list collections for domains ['<domain_name>','<domain_name>',...]"
   ]
  },
  {
   "cell_type": "code",
   "execution_count": null,
   "id": "cd79c608-cba6-4164-b725-564c791058f9",
   "metadata": {
    "tags": []
   },
   "outputs": [],
   "source": [
    "%openad ds list all domains"
   ]
  },
  {
   "cell_type": "code",
   "execution_count": null,
   "id": "31814777-2ef8-40a9-bc95-7cc0e4011f80",
   "metadata": {
    "tags": []
   },
   "outputs": [],
   "source": [
    "%openad ds list collections for domain 'Materials Science'"
   ]
  },
  {
   "cell_type": "code",
   "execution_count": null,
   "id": "79f04224-7310-42e4-8b58-fcd7df077141",
   "metadata": {
    "tags": []
   },
   "outputs": [],
   "source": [
    "%openad ds list collections for domains ['Materials Science','Scientific Literature']"
   ]
  },
  {
   "cell_type": "markdown",
   "id": "ae1e9772-80fa-482d-9b59-2fb6c0367c19",
   "metadata": {},
   "source": [
    "### Find Collections by Content\n",
    "\n",
    "If you're still not sure what collection to search, you can find collections relevant to your topic.\n",
    "\n",
    "    ds list collections containing '<search_query>'"
   ]
  },
  {
   "cell_type": "code",
   "execution_count": null,
   "id": "f91628c3-94a0-4320-9cf1-7ef9583b7e6a",
   "metadata": {
    "tags": []
   },
   "outputs": [],
   "source": [
    "%openad ds list collections containing '\"carbon capture\"'"
   ]
  },
  {
   "cell_type": "markdown",
   "id": "cd7da774-e660-43d3-88ac-da7290d3f705",
   "metadata": {
    "tags": []
   },
   "source": [
    "## Searching a Collection"
   ]
  },
  {
   "cell_type": "markdown",
   "id": "69fdeec1-5243-4a8e-89dc-ffbc8d5efa1c",
   "metadata": {},
   "source": [
    "Deep Search allows you to search across a variety of collections, returning documents with snippets highlighting the data matching your search criteria.\n",
    "\n",
    "    ds search collection '<collection_name_or_key>' for '<search_query>'"
   ]
  },
  {
   "cell_type": "markdown",
   "id": "3a3f0fd9-5ff2-4d2a-9260-c9a4dcbb8e0e",
   "metadata": {},
   "source": [
    "### Search Parameters\n",
    "Because of the large number of parameters, it is recommended to start by looking at the available options, only some of which we'll cover here."
   ]
  },
  {
   "cell_type": "code",
   "execution_count": null,
   "id": "6be9cddb-ac2e-4698-a147-8a55e3afd18f",
   "metadata": {
    "tags": []
   },
   "outputs": [],
   "source": [
    "%openad ds search collection ?"
   ]
  },
  {
   "cell_type": "markdown",
   "id": "60ea37ce-370c-4ae7-8f1d-a33b495e9062",
   "metadata": {},
   "source": [
    "### <span style=\"color: green\">Example A:</span> Search for \"_Ibuprofen_\" on PubChem\n",
    "\n",
    "In this basic example we'll search for all PubChem entries which contain the string _Ibuprofen_, then visualize all molecules that are listed.\n"
   ]
  },
  {
   "cell_type": "code",
   "execution_count": null,
   "id": "d5b67595-9fc9-4a73-a8d9-d421347628f9",
   "metadata": {
    "tags": []
   },
   "outputs": [],
   "source": [
    "# Search pubchem for mention of Ibuprofen\n",
    "%openad ds search collection 'pubchem' for 'Ibuprofen' show (data)"
   ]
  },
  {
   "cell_type": "markdown",
   "id": "45f2130a-b7d4-43f5-99c0-177f774c6388",
   "metadata": {},
   "source": [
    "#### Visualizing Results"
   ]
  },
  {
   "cell_type": "markdown",
   "id": "502ae30a-9885-4c42-bab8-04ea4086c33e",
   "metadata": {},
   "source": [
    "By using the `%openadd` magic command, we can store the results in a dataframe and manipulate them as we wish."
   ]
  },
  {
   "cell_type": "code",
   "execution_count": null,
   "id": "40bcd50f-7c33-4aa7-9932-01d2e9a24e05",
   "metadata": {
    "tags": []
   },
   "outputs": [],
   "source": [
    "# Load results in a dataframe\n",
    "pubchem_df = %openadd ds search collection 'pubchem' for 'Ibuprofen' show (data)"
   ]
  },
  {
   "cell_type": "code",
   "execution_count": null,
   "id": "477542cf-d6c8-4236-8dda-3cbfc697cea3",
   "metadata": {
    "tags": []
   },
   "outputs": [],
   "source": [
    "# Display the dataframe\n",
    "pubchem_df"
   ]
  },
  {
   "cell_type": "code",
   "execution_count": null,
   "id": "60ba9560-9309-4727-b3cc-b2498b48d8e2",
   "metadata": {
    "tags": []
   },
   "outputs": [],
   "source": [
    "# Count the results\n",
    "result_count = len(pubchem_df.index)\n",
    "print(f'Your query returned {result_count} molecules:')\n",
    "\n",
    "# List the returned smiles\n",
    "smiles_list = pubchem_df['SMILES'].tolist()\n",
    "for sm in smiles_list:\n",
    "    print('- ' + sm)"
   ]
  },
  {
   "cell_type": "code",
   "execution_count": null,
   "id": "8f08e1ec-0105-4d40-a6a2-3be145444ce4",
   "metadata": {
    "tags": []
   },
   "outputs": [],
   "source": [
    "# Load the results in your molecule working set and enrich them with PubChem data\n",
    "%openad load molecules from dataframe pubchem_df enrich"
   ]
  },
  {
   "cell_type": "code",
   "execution_count": null,
   "id": "6baba46a-7bfa-45e2-9d28-8f43fa6846d3",
   "metadata": {
    "tags": []
   },
   "outputs": [],
   "source": [
    "# List the molecules in your working set\n",
    "%openad list molecules"
   ]
  },
  {
   "cell_type": "code",
   "execution_count": null,
   "id": "53878552-aa5b-4661-8d81-4ceac6269e4b",
   "metadata": {
    "tags": []
   },
   "outputs": [],
   "source": [
    "# Visualize the molecules in your working set\n",
    "%openad show molecules"
   ]
  },
  {
   "cell_type": "code",
   "execution_count": null,
   "id": "d1003b58-cae0-4164-8c13-c6759550887a",
   "metadata": {
    "tags": []
   },
   "outputs": [],
   "source": [
    "# Visualize a single molecule\n",
    "%openad show molecule CC(C)C1CC2=C(C1)C=C(C=C2)C(C)C(=O)O"
   ]
  },
  {
   "cell_type": "markdown",
   "id": "8a4de9c8-e326-458b-a922-b2ab84863908",
   "metadata": {},
   "source": [
    "### <span style=\"color: green\">Example B:</span> Query arXiv for \"*power conversion efficiency*\"\n",
    "\n",
    "In this example we'll search for the input query in documents from the arXiv.org data collection. For each matched document we'll return the title, authors as well as the link to the original document on arXix.org\n",
    "\n",
    "#### Getting the result estimate\n",
    "\n",
    "Before launching our query, we can get an estimate of how many documents may be. returned, so we can massage our query as needed to get more or less results."
   ]
  },
  {
   "cell_type": "code",
   "execution_count": null,
   "id": "4ed06152-60d2-49ce-808e-5a9840b3f364",
   "metadata": {
    "tags": []
   },
   "outputs": [],
   "source": [
    "# Estimate results\n",
    "%openad ds search collection 'arXiv abstracts' for 'ide(\"power conversion efficiency\" OR PCE) AND organ*' show (docs) estimate only"
   ]
  },
  {
   "cell_type": "markdown",
   "id": "1b8c1754-56f1-475c-9ac5-4b4bb1e553b0",
   "metadata": {},
   "source": [
    "For queries that would return more than 100 results, you get the option to abort, as fetching the results may take a considerable amoung of time."
   ]
  },
  {
   "cell_type": "code",
   "execution_count": null,
   "id": "f71ef20d-03c5-432b-95a6-f73184c54535",
   "metadata": {
    "tags": []
   },
   "outputs": [],
   "source": [
    "# A too general query won't be executed unless you confirm\n",
    "%openad ds search collection 'arXiv abstracts' for 'organ*' show (docs)"
   ]
  },
  {
   "cell_type": "markdown",
   "id": "43ee1342-9026-451c-9784-7e3c6c5991f1",
   "metadata": {},
   "source": [
    "#### Displaying Results\n",
    "\n",
    "Your results table will be displayed with the matching snippets highlighted."
   ]
  },
  {
   "cell_type": "code",
   "execution_count": null,
   "id": "727d010f-fa72-4a6f-83b9-36304fd5b37d",
   "metadata": {
    "scrolled": true,
    "tags": []
   },
   "outputs": [],
   "source": [
    "%openad ds search collection 'arXiv abstracts' for 'ide(\"power conversion efficiency\" OR PCE) AND organ* ' using (slop=5) show (data docs)"
   ]
  },
  {
   "cell_type": "code",
   "execution_count": null,
   "id": "39d4ba12-6bd4-47b6-918f-615cadea8325",
   "metadata": {
    "scrolled": true,
    "tags": []
   },
   "outputs": [],
   "source": [
    "%openad ds search collection 'arXiv abstracts' for 'ide(\"power conversion efficiency\" OR PCE) AND organ* ' using (slop=5) show (data)"
   ]
  },
  {
   "cell_type": "code",
   "execution_count": 83,
   "id": "0c4a84c1-32e1-4654-baf5-67b7c111f147",
   "metadata": {
    "scrolled": true,
    "tags": []
   },
   "outputs": [
    {
     "data": {
      "text/markdown": [
       "Estimated results: 75 <br> \n"
      ],
      "text/plain": [
       "<IPython.core.display.Markdown object>"
      ]
     },
     "metadata": {},
     "output_type": "display_data"
    },
    {
     "data": {
      "application/vnd.jupyter.widget-view+json": {
       "model_id": "",
       "version_major": 2,
       "version_minor": 0
      },
      "text/plain": [
       "  0%|          "
      ]
     },
     "metadata": {},
     "output_type": "display_data"
    },
    {
     "data": {
      "text/markdown": [
       "**Result distribution by year** <br> \n"
      ],
      "text/plain": [
       "<IPython.core.display.Markdown object>"
      ]
     },
     "metadata": {},
     "output_type": "display_data"
    },
    {
     "data": {
      "text/html": [
       "<style type=\"text/css\">\n",
       "</style>\n",
       "<table id=\"T_938b4\">\n",
       "  <thead>\n",
       "    <tr>\n",
       "      <th id=\"T_938b4_level0_col0\" class=\"col_heading level0 col0\" >2008</th>\n",
       "      <th id=\"T_938b4_level0_col1\" class=\"col_heading level0 col1\" >2009</th>\n",
       "      <th id=\"T_938b4_level0_col2\" class=\"col_heading level0 col2\" >2010</th>\n",
       "      <th id=\"T_938b4_level0_col3\" class=\"col_heading level0 col3\" >2011</th>\n",
       "      <th id=\"T_938b4_level0_col4\" class=\"col_heading level0 col4\" >2012</th>\n",
       "      <th id=\"T_938b4_level0_col5\" class=\"col_heading level0 col5\" >2013</th>\n",
       "      <th id=\"T_938b4_level0_col6\" class=\"col_heading level0 col6\" >2014</th>\n",
       "      <th id=\"T_938b4_level0_col7\" class=\"col_heading level0 col7\" >2015</th>\n",
       "      <th id=\"T_938b4_level0_col8\" class=\"col_heading level0 col8\" >2016</th>\n",
       "      <th id=\"T_938b4_level0_col9\" class=\"col_heading level0 col9\" >2017</th>\n",
       "      <th id=\"T_938b4_level0_col10\" class=\"col_heading level0 col10\" >2018</th>\n",
       "      <th id=\"T_938b4_level0_col11\" class=\"col_heading level0 col11\" >2019</th>\n",
       "      <th id=\"T_938b4_level0_col12\" class=\"col_heading level0 col12\" >2020</th>\n",
       "      <th id=\"T_938b4_level0_col13\" class=\"col_heading level0 col13\" >2021</th>\n",
       "      <th id=\"T_938b4_level0_col14\" class=\"col_heading level0 col14\" >2022</th>\n",
       "      <th id=\"T_938b4_level0_col15\" class=\"col_heading level0 col15\" >2023</th>\n",
       "    </tr>\n",
       "  </thead>\n",
       "  <tbody>\n",
       "    <tr>\n",
       "      <td id=\"T_938b4_row0_col0\" class=\"data row0 col0\" >4</td>\n",
       "      <td id=\"T_938b4_row0_col1\" class=\"data row0 col1\" >0</td>\n",
       "      <td id=\"T_938b4_row0_col2\" class=\"data row0 col2\" >4</td>\n",
       "      <td id=\"T_938b4_row0_col3\" class=\"data row0 col3\" >12</td>\n",
       "      <td id=\"T_938b4_row0_col4\" class=\"data row0 col4\" >8</td>\n",
       "      <td id=\"T_938b4_row0_col5\" class=\"data row0 col5\" >8</td>\n",
       "      <td id=\"T_938b4_row0_col6\" class=\"data row0 col6\" >4</td>\n",
       "      <td id=\"T_938b4_row0_col7\" class=\"data row0 col7\" >28</td>\n",
       "      <td id=\"T_938b4_row0_col8\" class=\"data row0 col8\" >20</td>\n",
       "      <td id=\"T_938b4_row0_col9\" class=\"data row0 col9\" >52</td>\n",
       "      <td id=\"T_938b4_row0_col10\" class=\"data row0 col10\" >28</td>\n",
       "      <td id=\"T_938b4_row0_col11\" class=\"data row0 col11\" >32</td>\n",
       "      <td id=\"T_938b4_row0_col12\" class=\"data row0 col12\" >28</td>\n",
       "      <td id=\"T_938b4_row0_col13\" class=\"data row0 col13\" >32</td>\n",
       "      <td id=\"T_938b4_row0_col14\" class=\"data row0 col14\" >20</td>\n",
       "      <td id=\"T_938b4_row0_col15\" class=\"data row0 col15\" >20</td>\n",
       "    </tr>\n",
       "  </tbody>\n",
       "</table>\n"
      ],
      "text/plain": [
       "<pandas.io.formats.style.Styler at 0x307694670>"
      ]
     },
     "metadata": {},
     "output_type": "display_data"
    },
    {
     "data": {
      "text/markdown": [
       "<span style=\"color: #ccc\">Next up, you can run: </span>`result open`/`edit`/`copy`/`display`/`as dataframe`/`save [as '<filename.csv>']` <br> \n"
      ],
      "text/plain": [
       "<IPython.core.display.Markdown object>"
      ]
     },
     "metadata": {},
     "output_type": "display_data"
    },
    {
     "data": {
      "text/html": [
       "<style type=\"text/css\">\n",
       "#T_55e12 th {\n",
       "  text-align: left;\n",
       "}\n",
       "#T_55e12_row0_col0, #T_55e12_row0_col1, #T_55e12_row0_col2, #T_55e12_row0_col3, #T_55e12_row0_col4, #T_55e12_row0_col5, #T_55e12_row0_col6, #T_55e12_row0_col7, #T_55e12_row1_col0, #T_55e12_row1_col1, #T_55e12_row1_col2, #T_55e12_row1_col3, #T_55e12_row1_col4, #T_55e12_row1_col5, #T_55e12_row1_col6, #T_55e12_row1_col7, #T_55e12_row2_col0, #T_55e12_row2_col1, #T_55e12_row2_col2, #T_55e12_row2_col3, #T_55e12_row2_col4, #T_55e12_row2_col5, #T_55e12_row2_col6, #T_55e12_row2_col7, #T_55e12_row3_col0, #T_55e12_row3_col1, #T_55e12_row3_col2, #T_55e12_row3_col3, #T_55e12_row3_col4, #T_55e12_row3_col5, #T_55e12_row3_col6, #T_55e12_row3_col7, #T_55e12_row4_col0, #T_55e12_row4_col1, #T_55e12_row4_col2, #T_55e12_row4_col3, #T_55e12_row4_col4, #T_55e12_row4_col5, #T_55e12_row4_col6, #T_55e12_row4_col7, #T_55e12_row5_col0, #T_55e12_row5_col1, #T_55e12_row5_col2, #T_55e12_row5_col3, #T_55e12_row5_col4, #T_55e12_row5_col5, #T_55e12_row5_col6, #T_55e12_row5_col7, #T_55e12_row6_col0, #T_55e12_row6_col1, #T_55e12_row6_col2, #T_55e12_row6_col3, #T_55e12_row6_col4, #T_55e12_row6_col5, #T_55e12_row6_col6, #T_55e12_row6_col7, #T_55e12_row7_col0, #T_55e12_row7_col1, #T_55e12_row7_col2, #T_55e12_row7_col3, #T_55e12_row7_col4, #T_55e12_row7_col5, #T_55e12_row7_col6, #T_55e12_row7_col7, #T_55e12_row8_col0, #T_55e12_row8_col1, #T_55e12_row8_col2, #T_55e12_row8_col3, #T_55e12_row8_col4, #T_55e12_row8_col5, #T_55e12_row8_col6, #T_55e12_row8_col7, #T_55e12_row9_col0, #T_55e12_row9_col1, #T_55e12_row9_col2, #T_55e12_row9_col3, #T_55e12_row9_col4, #T_55e12_row9_col5, #T_55e12_row9_col6, #T_55e12_row9_col7, #T_55e12_row10_col0, #T_55e12_row10_col1, #T_55e12_row10_col2, #T_55e12_row10_col3, #T_55e12_row10_col4, #T_55e12_row10_col5, #T_55e12_row10_col6, #T_55e12_row10_col7, #T_55e12_row11_col0, #T_55e12_row11_col1, #T_55e12_row11_col2, #T_55e12_row11_col3, #T_55e12_row11_col4, #T_55e12_row11_col5, #T_55e12_row11_col6, #T_55e12_row11_col7, #T_55e12_row12_col0, #T_55e12_row12_col1, #T_55e12_row12_col2, #T_55e12_row12_col3, #T_55e12_row12_col4, #T_55e12_row12_col5, #T_55e12_row12_col6, #T_55e12_row12_col7, #T_55e12_row13_col0, #T_55e12_row13_col1, #T_55e12_row13_col2, #T_55e12_row13_col3, #T_55e12_row13_col4, #T_55e12_row13_col5, #T_55e12_row13_col6, #T_55e12_row13_col7, #T_55e12_row14_col0, #T_55e12_row14_col1, #T_55e12_row14_col2, #T_55e12_row14_col3, #T_55e12_row14_col4, #T_55e12_row14_col5, #T_55e12_row14_col6, #T_55e12_row14_col7, #T_55e12_row15_col0, #T_55e12_row15_col1, #T_55e12_row15_col2, #T_55e12_row15_col3, #T_55e12_row15_col4, #T_55e12_row15_col5, #T_55e12_row15_col6, #T_55e12_row15_col7, #T_55e12_row16_col0, #T_55e12_row16_col1, #T_55e12_row16_col2, #T_55e12_row16_col3, #T_55e12_row16_col4, #T_55e12_row16_col5, #T_55e12_row16_col6, #T_55e12_row16_col7, #T_55e12_row17_col0, #T_55e12_row17_col1, #T_55e12_row17_col2, #T_55e12_row17_col3, #T_55e12_row17_col4, #T_55e12_row17_col5, #T_55e12_row17_col6, #T_55e12_row17_col7, #T_55e12_row18_col0, #T_55e12_row18_col1, #T_55e12_row18_col2, #T_55e12_row18_col3, #T_55e12_row18_col4, #T_55e12_row18_col5, #T_55e12_row18_col6, #T_55e12_row18_col7, #T_55e12_row19_col0, #T_55e12_row19_col1, #T_55e12_row19_col2, #T_55e12_row19_col3, #T_55e12_row19_col4, #T_55e12_row19_col5, #T_55e12_row19_col6, #T_55e12_row19_col7, #T_55e12_row20_col0, #T_55e12_row20_col1, #T_55e12_row20_col2, #T_55e12_row20_col3, #T_55e12_row20_col4, #T_55e12_row20_col5, #T_55e12_row20_col6, #T_55e12_row20_col7, #T_55e12_row21_col0, #T_55e12_row21_col1, #T_55e12_row21_col2, #T_55e12_row21_col3, #T_55e12_row21_col4, #T_55e12_row21_col5, #T_55e12_row21_col6, #T_55e12_row21_col7, #T_55e12_row22_col0, #T_55e12_row22_col1, #T_55e12_row22_col2, #T_55e12_row22_col3, #T_55e12_row22_col4, #T_55e12_row22_col5, #T_55e12_row22_col6, #T_55e12_row22_col7, #T_55e12_row23_col0, #T_55e12_row23_col1, #T_55e12_row23_col2, #T_55e12_row23_col3, #T_55e12_row23_col4, #T_55e12_row23_col5, #T_55e12_row23_col6, #T_55e12_row23_col7, #T_55e12_row24_col0, #T_55e12_row24_col1, #T_55e12_row24_col2, #T_55e12_row24_col3, #T_55e12_row24_col4, #T_55e12_row24_col5, #T_55e12_row24_col6, #T_55e12_row24_col7, #T_55e12_row25_col0, #T_55e12_row25_col1, #T_55e12_row25_col2, #T_55e12_row25_col3, #T_55e12_row25_col4, #T_55e12_row25_col5, #T_55e12_row25_col6, #T_55e12_row25_col7, #T_55e12_row26_col0, #T_55e12_row26_col1, #T_55e12_row26_col2, #T_55e12_row26_col3, #T_55e12_row26_col4, #T_55e12_row26_col5, #T_55e12_row26_col6, #T_55e12_row26_col7, #T_55e12_row27_col0, #T_55e12_row27_col1, #T_55e12_row27_col2, #T_55e12_row27_col3, #T_55e12_row27_col4, #T_55e12_row27_col5, #T_55e12_row27_col6, #T_55e12_row27_col7, #T_55e12_row28_col0, #T_55e12_row28_col1, #T_55e12_row28_col2, #T_55e12_row28_col3, #T_55e12_row28_col4, #T_55e12_row28_col5, #T_55e12_row28_col6, #T_55e12_row28_col7, #T_55e12_row29_col0, #T_55e12_row29_col1, #T_55e12_row29_col2, #T_55e12_row29_col3, #T_55e12_row29_col4, #T_55e12_row29_col5, #T_55e12_row29_col6, #T_55e12_row29_col7, #T_55e12_row30_col0, #T_55e12_row30_col1, #T_55e12_row30_col2, #T_55e12_row30_col3, #T_55e12_row30_col4, #T_55e12_row30_col5, #T_55e12_row30_col6, #T_55e12_row30_col7, #T_55e12_row31_col0, #T_55e12_row31_col1, #T_55e12_row31_col2, #T_55e12_row31_col3, #T_55e12_row31_col4, #T_55e12_row31_col5, #T_55e12_row31_col6, #T_55e12_row31_col7, #T_55e12_row32_col0, #T_55e12_row32_col1, #T_55e12_row32_col2, #T_55e12_row32_col3, #T_55e12_row32_col4, #T_55e12_row32_col5, #T_55e12_row32_col6, #T_55e12_row32_col7, #T_55e12_row33_col0, #T_55e12_row33_col1, #T_55e12_row33_col2, #T_55e12_row33_col3, #T_55e12_row33_col4, #T_55e12_row33_col5, #T_55e12_row33_col6, #T_55e12_row33_col7, #T_55e12_row34_col0, #T_55e12_row34_col1, #T_55e12_row34_col2, #T_55e12_row34_col3, #T_55e12_row34_col4, #T_55e12_row34_col5, #T_55e12_row34_col6, #T_55e12_row34_col7, #T_55e12_row35_col0, #T_55e12_row35_col1, #T_55e12_row35_col2, #T_55e12_row35_col3, #T_55e12_row35_col4, #T_55e12_row35_col5, #T_55e12_row35_col6, #T_55e12_row35_col7, #T_55e12_row36_col0, #T_55e12_row36_col1, #T_55e12_row36_col2, #T_55e12_row36_col3, #T_55e12_row36_col4, #T_55e12_row36_col5, #T_55e12_row36_col6, #T_55e12_row36_col7, #T_55e12_row37_col0, #T_55e12_row37_col1, #T_55e12_row37_col2, #T_55e12_row37_col3, #T_55e12_row37_col4, #T_55e12_row37_col5, #T_55e12_row37_col6, #T_55e12_row37_col7, #T_55e12_row38_col0, #T_55e12_row38_col1, #T_55e12_row38_col2, #T_55e12_row38_col3, #T_55e12_row38_col4, #T_55e12_row38_col5, #T_55e12_row38_col6, #T_55e12_row38_col7, #T_55e12_row39_col0, #T_55e12_row39_col1, #T_55e12_row39_col2, #T_55e12_row39_col3, #T_55e12_row39_col4, #T_55e12_row39_col5, #T_55e12_row39_col6, #T_55e12_row39_col7, #T_55e12_row40_col0, #T_55e12_row40_col1, #T_55e12_row40_col2, #T_55e12_row40_col3, #T_55e12_row40_col4, #T_55e12_row40_col5, #T_55e12_row40_col6, #T_55e12_row40_col7, #T_55e12_row41_col0, #T_55e12_row41_col1, #T_55e12_row41_col2, #T_55e12_row41_col3, #T_55e12_row41_col4, #T_55e12_row41_col5, #T_55e12_row41_col6, #T_55e12_row41_col7, #T_55e12_row42_col0, #T_55e12_row42_col1, #T_55e12_row42_col2, #T_55e12_row42_col3, #T_55e12_row42_col4, #T_55e12_row42_col5, #T_55e12_row42_col6, #T_55e12_row42_col7, #T_55e12_row43_col0, #T_55e12_row43_col1, #T_55e12_row43_col2, #T_55e12_row43_col3, #T_55e12_row43_col4, #T_55e12_row43_col5, #T_55e12_row43_col6, #T_55e12_row43_col7, #T_55e12_row44_col0, #T_55e12_row44_col1, #T_55e12_row44_col2, #T_55e12_row44_col3, #T_55e12_row44_col4, #T_55e12_row44_col5, #T_55e12_row44_col6, #T_55e12_row44_col7, #T_55e12_row45_col0, #T_55e12_row45_col1, #T_55e12_row45_col2, #T_55e12_row45_col3, #T_55e12_row45_col4, #T_55e12_row45_col5, #T_55e12_row45_col6, #T_55e12_row45_col7, #T_55e12_row46_col0, #T_55e12_row46_col1, #T_55e12_row46_col2, #T_55e12_row46_col3, #T_55e12_row46_col4, #T_55e12_row46_col5, #T_55e12_row46_col6, #T_55e12_row46_col7, #T_55e12_row47_col0, #T_55e12_row47_col1, #T_55e12_row47_col2, #T_55e12_row47_col3, #T_55e12_row47_col4, #T_55e12_row47_col5, #T_55e12_row47_col6, #T_55e12_row47_col7, #T_55e12_row48_col0, #T_55e12_row48_col1, #T_55e12_row48_col2, #T_55e12_row48_col3, #T_55e12_row48_col4, #T_55e12_row48_col5, #T_55e12_row48_col6, #T_55e12_row48_col7, #T_55e12_row49_col0, #T_55e12_row49_col1, #T_55e12_row49_col2, #T_55e12_row49_col3, #T_55e12_row49_col4, #T_55e12_row49_col5, #T_55e12_row49_col6, #T_55e12_row49_col7, #T_55e12_row50_col0, #T_55e12_row50_col1, #T_55e12_row50_col2, #T_55e12_row50_col3, #T_55e12_row50_col4, #T_55e12_row50_col5, #T_55e12_row50_col6, #T_55e12_row50_col7, #T_55e12_row51_col0, #T_55e12_row51_col1, #T_55e12_row51_col2, #T_55e12_row51_col3, #T_55e12_row51_col4, #T_55e12_row51_col5, #T_55e12_row51_col6, #T_55e12_row51_col7, #T_55e12_row52_col0, #T_55e12_row52_col1, #T_55e12_row52_col2, #T_55e12_row52_col3, #T_55e12_row52_col4, #T_55e12_row52_col5, #T_55e12_row52_col6, #T_55e12_row52_col7, #T_55e12_row53_col0, #T_55e12_row53_col1, #T_55e12_row53_col2, #T_55e12_row53_col3, #T_55e12_row53_col4, #T_55e12_row53_col5, #T_55e12_row53_col6, #T_55e12_row53_col7, #T_55e12_row54_col0, #T_55e12_row54_col1, #T_55e12_row54_col2, #T_55e12_row54_col3, #T_55e12_row54_col4, #T_55e12_row54_col5, #T_55e12_row54_col6, #T_55e12_row54_col7, #T_55e12_row55_col0, #T_55e12_row55_col1, #T_55e12_row55_col2, #T_55e12_row55_col3, #T_55e12_row55_col4, #T_55e12_row55_col5, #T_55e12_row55_col6, #T_55e12_row55_col7, #T_55e12_row56_col0, #T_55e12_row56_col1, #T_55e12_row56_col2, #T_55e12_row56_col3, #T_55e12_row56_col4, #T_55e12_row56_col5, #T_55e12_row56_col6, #T_55e12_row56_col7, #T_55e12_row57_col0, #T_55e12_row57_col1, #T_55e12_row57_col2, #T_55e12_row57_col3, #T_55e12_row57_col4, #T_55e12_row57_col5, #T_55e12_row57_col6, #T_55e12_row57_col7, #T_55e12_row58_col0, #T_55e12_row58_col1, #T_55e12_row58_col2, #T_55e12_row58_col3, #T_55e12_row58_col4, #T_55e12_row58_col5, #T_55e12_row58_col6, #T_55e12_row58_col7, #T_55e12_row59_col0, #T_55e12_row59_col1, #T_55e12_row59_col2, #T_55e12_row59_col3, #T_55e12_row59_col4, #T_55e12_row59_col5, #T_55e12_row59_col6, #T_55e12_row59_col7, #T_55e12_row60_col0, #T_55e12_row60_col1, #T_55e12_row60_col2, #T_55e12_row60_col3, #T_55e12_row60_col4, #T_55e12_row60_col5, #T_55e12_row60_col6, #T_55e12_row60_col7, #T_55e12_row61_col0, #T_55e12_row61_col1, #T_55e12_row61_col2, #T_55e12_row61_col3, #T_55e12_row61_col4, #T_55e12_row61_col5, #T_55e12_row61_col6, #T_55e12_row61_col7, #T_55e12_row62_col0, #T_55e12_row62_col1, #T_55e12_row62_col2, #T_55e12_row62_col3, #T_55e12_row62_col4, #T_55e12_row62_col5, #T_55e12_row62_col6, #T_55e12_row62_col7, #T_55e12_row63_col0, #T_55e12_row63_col1, #T_55e12_row63_col2, #T_55e12_row63_col3, #T_55e12_row63_col4, #T_55e12_row63_col5, #T_55e12_row63_col6, #T_55e12_row63_col7, #T_55e12_row64_col0, #T_55e12_row64_col1, #T_55e12_row64_col2, #T_55e12_row64_col3, #T_55e12_row64_col4, #T_55e12_row64_col5, #T_55e12_row64_col6, #T_55e12_row64_col7, #T_55e12_row65_col0, #T_55e12_row65_col1, #T_55e12_row65_col2, #T_55e12_row65_col3, #T_55e12_row65_col4, #T_55e12_row65_col5, #T_55e12_row65_col6, #T_55e12_row65_col7, #T_55e12_row66_col0, #T_55e12_row66_col1, #T_55e12_row66_col2, #T_55e12_row66_col3, #T_55e12_row66_col4, #T_55e12_row66_col5, #T_55e12_row66_col6, #T_55e12_row66_col7, #T_55e12_row67_col0, #T_55e12_row67_col1, #T_55e12_row67_col2, #T_55e12_row67_col3, #T_55e12_row67_col4, #T_55e12_row67_col5, #T_55e12_row67_col6, #T_55e12_row67_col7, #T_55e12_row68_col0, #T_55e12_row68_col1, #T_55e12_row68_col2, #T_55e12_row68_col3, #T_55e12_row68_col4, #T_55e12_row68_col5, #T_55e12_row68_col6, #T_55e12_row68_col7, #T_55e12_row69_col0, #T_55e12_row69_col1, #T_55e12_row69_col2, #T_55e12_row69_col3, #T_55e12_row69_col4, #T_55e12_row69_col5, #T_55e12_row69_col6, #T_55e12_row69_col7, #T_55e12_row70_col0, #T_55e12_row70_col1, #T_55e12_row70_col2, #T_55e12_row70_col3, #T_55e12_row70_col4, #T_55e12_row70_col5, #T_55e12_row70_col6, #T_55e12_row70_col7, #T_55e12_row71_col0, #T_55e12_row71_col1, #T_55e12_row71_col2, #T_55e12_row71_col3, #T_55e12_row71_col4, #T_55e12_row71_col5, #T_55e12_row71_col6, #T_55e12_row71_col7, #T_55e12_row72_col0, #T_55e12_row72_col1, #T_55e12_row72_col2, #T_55e12_row72_col3, #T_55e12_row72_col4, #T_55e12_row72_col5, #T_55e12_row72_col6, #T_55e12_row72_col7, #T_55e12_row73_col0, #T_55e12_row73_col1, #T_55e12_row73_col2, #T_55e12_row73_col3, #T_55e12_row73_col4, #T_55e12_row73_col5, #T_55e12_row73_col6, #T_55e12_row73_col7, #T_55e12_row74_col0, #T_55e12_row74_col1, #T_55e12_row74_col2, #T_55e12_row74_col3, #T_55e12_row74_col4, #T_55e12_row74_col5, #T_55e12_row74_col6, #T_55e12_row74_col7 {\n",
       "  text-align: left;\n",
       "}\n",
       "</style>\n",
       "<table id=\"T_55e12\">\n",
       "  <thead>\n",
       "    <tr>\n",
       "      <th class=\"blank level0\" >&nbsp;</th>\n",
       "      <th id=\"T_55e12_level0_col0\" class=\"col_heading level0 col0\" >Title</th>\n",
       "      <th id=\"T_55e12_level0_col1\" class=\"col_heading level0 col1\" >Authors</th>\n",
       "      <th id=\"T_55e12_level0_col2\" class=\"col_heading level0 col2\" >Snippet</th>\n",
       "      <th id=\"T_55e12_level0_col3\" class=\"col_heading level0 col3\" >arXiv</th>\n",
       "      <th id=\"T_55e12_level0_col4\" class=\"col_heading level0 col4\" >DOI</th>\n",
       "      <th id=\"T_55e12_level0_col5\" class=\"col_heading level0 col5\" >DS_URL</th>\n",
       "      <th id=\"T_55e12_level0_col6\" class=\"col_heading level0 col6\" >Report</th>\n",
       "      <th id=\"T_55e12_level0_col7\" class=\"col_heading level0 col7\" >Field</th>\n",
       "    </tr>\n",
       "  </thead>\n",
       "  <tbody>\n",
       "    <tr>\n",
       "      <th id=\"T_55e12_level0_row0\" class=\"row_heading level0 row0\" >0</th>\n",
       "      <td id=\"T_55e12_row0_col0\" class=\"data row0 col0\" >Energetics and Kinetics Requirements for Organic Solar Cells to 2 Break\n",
       "  the 20% Power Conversion Efficiency Barrier</td>\n",
       "      <td id=\"T_55e12_row0_col1\" class=\"data row0 col1\" >Oskar J Sandberg,Ardalan Armin</td>\n",
       "      <td id=\"T_55e12_row0_col2\" class=\"data row0 col2\" >These findings provide vital insights into the operation of state-of-art non-fullerene <span style='font-weight: bold; background-color: #FFFF00'>organic</span> solar cells with low offsets.</td>\n",
       "      <td id=\"T_55e12_row0_col3\" class=\"data row0 col3\" ><a href=\"https://arxiv.org/abs/2104.11357\"  target=\"_blank\"> arXiv </a></td>\n",
       "      <td id=\"T_55e12_row0_col4\" class=\"data row0 col4\" ><a href=\"https://doi.org/10.1021/acs.jpcc.1c03656\"  target=\"_blank\"> DOI </a></td>\n",
       "      <td id=\"T_55e12_row0_col5\" class=\"data row0 col5\" ><a href=\"https://sds.app.accelerate.science/projects/1234567890abcdefghijklmnopqrstvwyz123456/library/public?search=JTdCJTIyY29sbGVjdGlvbnMlMjIlM0ElNUIlMjJhcnhpdi1hYnN0cmFjdCUyMiU1RCUyQyUyMnR5cGUlMjIlM0ElMjJEb2N1bWVudCUyMiUyQyUyMmV4cHJlc3Npb24lMjIlM0ElMjJmaWxlLWluZm8uZG9jdW1lbnQtaGFzaCUzQSUyMCU1QyUyMjAyNjkyNjg4ZTRjMjA0ZWQxNWRkZDVmYmUxODE3MDQ3MmY0MTg4NzJmZWUwOTFhMzU3NmJjMWE0YzAyZTA1MmUlNUMlMjIlMjIlMkMlMjJmaWx0ZXJzJTIyJTNBJTVCJTVEJTJDJTIyc2VsZWN0JTIyJTNBJTVCJTIyX25hbWUlMjIlMkMlMjJkZXNjcmlwdGlvbi5jb2xsZWN0aW9uJTIyJTJDJTIycHJvdiUyMiUyQyUyMmRlc2NyaXB0aW9uLnRpdGxlJTIyJTJDJTIyZGVzY3JpcHRpb24ucHVibGljYXRpb25fZGF0ZSUyMiUyQyUyMmRlc2NyaXB0aW9uLnVybF9yZWZzJTIyJTVEJTJDJTIyaXRlbUluZGV4JTIyJTNBMCUyQyUyMnBhZ2VTaXplJTIyJTNBMTAlMkMlMjJzZWFyY2hBZnRlckhpc3RvcnklMjIlM0ElNUIlNUQlMkMlMjJ2aWV3VHlwZSUyMiUzQSUyMnNuaXBwZXRzJTIyJTJDJTIycmVjb3JkU2VsZWN0aW9uJTIyJTNBJTdCJTIycmVjb3JkJTIyJTNBJTdCJTIyaWQlMjIlM0ElMjIwMjY5MjY4OGU0YzIwNGVkMTVkZGQ1ZmJlMTgxNzA0NzJmNDE4ODcyZmVlMDkxYTM1NzZiYzFhNGMwMmUwNTJlJTIyJTdEJTdEJTdE\"  target=\"_blank\"> DS </a></td>\n",
       "      <td id=\"T_55e12_row0_col6\" class=\"data row0 col6\" >2104.11357</td>\n",
       "      <td id=\"T_55e12_row0_col7\" class=\"data row0 col7\" >main-text</td>\n",
       "    </tr>\n",
       "    <tr>\n",
       "      <th id=\"T_55e12_level0_row1\" class=\"row_heading level0 row1\" >1</th>\n",
       "      <td id=\"T_55e12_row1_col0\" class=\"data row1 col0\" >New 3,3'-(ethane-1, 2-diylidene)bis(indolin-2-one) (EBI)-based small\n",
       "  molecule semiconductors for organic solar cells</td>\n",
       "      <td id=\"T_55e12_row1_col1\" class=\"data row1 col1\" >Mylene Le Borgne,Jesse Quinn,Jaime Mart\\'in,Natalie Stingelin,Yuning Li,Guillaume Wantz</td>\n",
       "      <td id=\"T_55e12_row1_col2\" class=\"data row1 col2\" >The best performing photovoltaic devices are based on the EBI derivative using the bithiophene end-capping moiety (EBI-2T) with a maximum <span style='font-weight: bold; background-color: #FFFF00'>power</span> <span style='font-weight: bold; background-color: #FFFF00'>conversion</span> <span style='font-weight: bold; background-color: #FFFF00'>efficiency</span> (<span style='font-weight: bold; background-color: #FFFF00'>PCE</span>) of 1.92%, owing to the broad absorption spectra of EBI-2T and the appropriate morphology of the BHJ.</td>\n",
       "      <td id=\"T_55e12_row1_col3\" class=\"data row1 col3\" ><a href=\"https://arxiv.org/abs/1706.08074\"  target=\"_blank\"> arXiv </a></td>\n",
       "      <td id=\"T_55e12_row1_col4\" class=\"data row1 col4\" ></td>\n",
       "      <td id=\"T_55e12_row1_col5\" class=\"data row1 col5\" ><a href=\"https://sds.app.accelerate.science/projects/1234567890abcdefghijklmnopqrstvwyz123456/library/public?search=JTdCJTIyY29sbGVjdGlvbnMlMjIlM0ElNUIlMjJhcnhpdi1hYnN0cmFjdCUyMiU1RCUyQyUyMnR5cGUlMjIlM0ElMjJEb2N1bWVudCUyMiUyQyUyMmV4cHJlc3Npb24lMjIlM0ElMjJmaWxlLWluZm8uZG9jdW1lbnQtaGFzaCUzQSUyMCU1QyUyMjAzNmY2MGYwZDhiY2NjNTdjNjdkZjY3OWMwZTUwNGFjMzM2ZTJjZWQxODhmNDg4YTg4ZDk3MjkyZmI2ZDc2MjklNUMlMjIlMjIlMkMlMjJmaWx0ZXJzJTIyJTNBJTVCJTVEJTJDJTIyc2VsZWN0JTIyJTNBJTVCJTIyX25hbWUlMjIlMkMlMjJkZXNjcmlwdGlvbi5jb2xsZWN0aW9uJTIyJTJDJTIycHJvdiUyMiUyQyUyMmRlc2NyaXB0aW9uLnRpdGxlJTIyJTJDJTIyZGVzY3JpcHRpb24ucHVibGljYXRpb25fZGF0ZSUyMiUyQyUyMmRlc2NyaXB0aW9uLnVybF9yZWZzJTIyJTVEJTJDJTIyaXRlbUluZGV4JTIyJTNBMCUyQyUyMnBhZ2VTaXplJTIyJTNBMTAlMkMlMjJzZWFyY2hBZnRlckhpc3RvcnklMjIlM0ElNUIlNUQlMkMlMjJ2aWV3VHlwZSUyMiUzQSUyMnNuaXBwZXRzJTIyJTJDJTIycmVjb3JkU2VsZWN0aW9uJTIyJTNBJTdCJTIycmVjb3JkJTIyJTNBJTdCJTIyaWQlMjIlM0ElMjIwMzZmNjBmMGQ4YmNjYzU3YzY3ZGY2NzljMGU1MDRhYzMzNmUyY2VkMTg4ZjQ4OGE4OGQ5NzI5MmZiNmQ3NjI5JTIyJTdEJTdEJTdE\"  target=\"_blank\"> DS </a></td>\n",
       "      <td id=\"T_55e12_row1_col6\" class=\"data row1 col6\" >1706.08074</td>\n",
       "      <td id=\"T_55e12_row1_col7\" class=\"data row1 col7\" >main-text</td>\n",
       "    </tr>\n",
       "    <tr>\n",
       "      <th id=\"T_55e12_level0_row2\" class=\"row_heading level0 row2\" >2</th>\n",
       "      <td id=\"T_55e12_row2_col0\" class=\"data row2 col0\" >How Good Can 2D Excitonic Solar Cells Be?</td>\n",
       "      <td id=\"T_55e12_row2_col1\" class=\"data row2 col1\" >Zekun Hu,Da Lin,Jason Lynch,Kevin Xu,Deep Jariwala</td>\n",
       "      <td id=\"T_55e12_row2_col2\" class=\"data row2 col2\" >Our analysis suggests that, while the <span style='font-weight: bold; background-color: #FFFF00'>PCE</span> for 2D excitonic solar cells may be limited to < 10%, a specific power > 100 W g-1 may be achieved with our proposed designs, making them attractive in aerospace, distributed remote sensing, and wearable electronics.</td>\n",
       "      <td id=\"T_55e12_row2_col3\" class=\"data row2 col3\" ><a href=\"https://arxiv.org/abs/2302.04788\"  target=\"_blank\"> arXiv </a></td>\n",
       "      <td id=\"T_55e12_row2_col4\" class=\"data row2 col4\" ></td>\n",
       "      <td id=\"T_55e12_row2_col5\" class=\"data row2 col5\" ><a href=\"https://sds.app.accelerate.science/projects/1234567890abcdefghijklmnopqrstvwyz123456/library/public?search=JTdCJTIyY29sbGVjdGlvbnMlMjIlM0ElNUIlMjJhcnhpdi1hYnN0cmFjdCUyMiU1RCUyQyUyMnR5cGUlMjIlM0ElMjJEb2N1bWVudCUyMiUyQyUyMmV4cHJlc3Npb24lMjIlM0ElMjJmaWxlLWluZm8uZG9jdW1lbnQtaGFzaCUzQSUyMCU1QyUyMjA0NzBkMmJmODI3YWRiMWVmN2EyOTk3M2I3NjhkNmE0ZDVlZGE1NWE5ZWI0ZGIwN2M2ODJjNzY3NDgzODFkZGYlNUMlMjIlMjIlMkMlMjJmaWx0ZXJzJTIyJTNBJTVCJTVEJTJDJTIyc2VsZWN0JTIyJTNBJTVCJTIyX25hbWUlMjIlMkMlMjJkZXNjcmlwdGlvbi5jb2xsZWN0aW9uJTIyJTJDJTIycHJvdiUyMiUyQyUyMmRlc2NyaXB0aW9uLnRpdGxlJTIyJTJDJTIyZGVzY3JpcHRpb24ucHVibGljYXRpb25fZGF0ZSUyMiUyQyUyMmRlc2NyaXB0aW9uLnVybF9yZWZzJTIyJTVEJTJDJTIyaXRlbUluZGV4JTIyJTNBMCUyQyUyMnBhZ2VTaXplJTIyJTNBMTAlMkMlMjJzZWFyY2hBZnRlckhpc3RvcnklMjIlM0ElNUIlNUQlMkMlMjJ2aWV3VHlwZSUyMiUzQSUyMnNuaXBwZXRzJTIyJTJDJTIycmVjb3JkU2VsZWN0aW9uJTIyJTNBJTdCJTIycmVjb3JkJTIyJTNBJTdCJTIyaWQlMjIlM0ElMjIwNDcwZDJiZjgyN2FkYjFlZjdhMjk5NzNiNzY4ZDZhNGQ1ZWRhNTVhOWViNGRiMDdjNjgyYzc2NzQ4MzgxZGRmJTIyJTdEJTdEJTdE\"  target=\"_blank\"> DS </a></td>\n",
       "      <td id=\"T_55e12_row2_col6\" class=\"data row2 col6\" >2302.04788</td>\n",
       "      <td id=\"T_55e12_row2_col7\" class=\"data row2 col7\" >main-text</td>\n",
       "    </tr>\n",
       "    <tr>\n",
       "      <th id=\"T_55e12_level0_row3\" class=\"row_heading level0 row3\" >3</th>\n",
       "      <td id=\"T_55e12_row3_col0\" class=\"data row3 col0\" >The role of charge recombination to spin-triplet excitons in\n",
       "  non-fullerene acceptor organic solar cells</td>\n",
       "      <td id=\"T_55e12_row3_col1\" class=\"data row3 col1\" >Alexander J. Gillett,Alberto Privitera,Rishat Dilmurat,Akchheta Karki,Deping Qian,Anton Pershin,Giacomo Londi,William K. Myers,Jaewon Lee,Jun Yuan,Seo-Jin Ko,Moritz K. Riede,Feng Gao,Guillermo C. Bazan,Akshay Rao,Thuc-Quyen Nguyen,David Beljonne,Richard H. Friend</td>\n",
       "      <td id=\"T_55e12_row3_col2\" class=\"data row3 col2\" >This work therefore provides a clear design pathway for improved OSC performance to 20% <span style='font-weight: bold; background-color: #FFFF00'>PCE</span> and beyond.</td>\n",
       "      <td id=\"T_55e12_row3_col3\" class=\"data row3 col3\" ><a href=\"https://arxiv.org/abs/2010.10978\"  target=\"_blank\"> arXiv </a></td>\n",
       "      <td id=\"T_55e12_row3_col4\" class=\"data row3 col4\" ><a href=\"https://doi.org/10.1038/s41586-021-03840-5\"  target=\"_blank\"> DOI </a></td>\n",
       "      <td id=\"T_55e12_row3_col5\" class=\"data row3 col5\" ><a href=\"https://sds.app.accelerate.science/projects/1234567890abcdefghijklmnopqrstvwyz123456/library/public?search=JTdCJTIyY29sbGVjdGlvbnMlMjIlM0ElNUIlMjJhcnhpdi1hYnN0cmFjdCUyMiU1RCUyQyUyMnR5cGUlMjIlM0ElMjJEb2N1bWVudCUyMiUyQyUyMmV4cHJlc3Npb24lMjIlM0ElMjJmaWxlLWluZm8uZG9jdW1lbnQtaGFzaCUzQSUyMCU1QyUyMjBhMDg2MTY0NTFhNDY5NDZlODBjYzIyNmUyYThkMGNmMGJhNmVmNDZjOGYzYjIwODVhNjY4NzA0MzRmZThjYzIlNUMlMjIlMjIlMkMlMjJmaWx0ZXJzJTIyJTNBJTVCJTVEJTJDJTIyc2VsZWN0JTIyJTNBJTVCJTIyX25hbWUlMjIlMkMlMjJkZXNjcmlwdGlvbi5jb2xsZWN0aW9uJTIyJTJDJTIycHJvdiUyMiUyQyUyMmRlc2NyaXB0aW9uLnRpdGxlJTIyJTJDJTIyZGVzY3JpcHRpb24ucHVibGljYXRpb25fZGF0ZSUyMiUyQyUyMmRlc2NyaXB0aW9uLnVybF9yZWZzJTIyJTVEJTJDJTIyaXRlbUluZGV4JTIyJTNBMCUyQyUyMnBhZ2VTaXplJTIyJTNBMTAlMkMlMjJzZWFyY2hBZnRlckhpc3RvcnklMjIlM0ElNUIlNUQlMkMlMjJ2aWV3VHlwZSUyMiUzQSUyMnNuaXBwZXRzJTIyJTJDJTIycmVjb3JkU2VsZWN0aW9uJTIyJTNBJTdCJTIycmVjb3JkJTIyJTNBJTdCJTIyaWQlMjIlM0ElMjIwYTA4NjE2NDUxYTQ2OTQ2ZTgwY2MyMjZlMmE4ZDBjZjBiYTZlZjQ2YzhmM2IyMDg1YTY2ODcwNDM0ZmU4Y2MyJTIyJTdEJTdEJTdE\"  target=\"_blank\"> DS </a></td>\n",
       "      <td id=\"T_55e12_row3_col6\" class=\"data row3 col6\" >2010.10978</td>\n",
       "      <td id=\"T_55e12_row3_col7\" class=\"data row3 col7\" >main-text</td>\n",
       "    </tr>\n",
       "    <tr>\n",
       "      <th id=\"T_55e12_level0_row4\" class=\"row_heading level0 row4\" >4</th>\n",
       "      <td id=\"T_55e12_row4_col0\" class=\"data row4 col0\" >Design of Lead-Free Inorganic Halide Perovskites for Solar Cells via\n",
       "  Cation-Transmutation</td>\n",
       "      <td id=\"T_55e12_row4_col1\" class=\"data row4 col1\" >Xin-Gang Zhao,Ji-Hui Yang,Yuhao Fu,Dongwen Yang,Qiaoling Xu,Liping Yu,Su-Huai Wei,Lijun Zhang</td>\n",
       "      <td id=\"T_55e12_row4_col2\" class=\"data row4 col2\" >Despite the high <span style='font-weight: bold; background-color: #FFFF00'>power</span> <span style='font-weight: bold; background-color: #FFFF00'>conversion</span> <span style='font-weight: bold; background-color: #FFFF00'>efficiency</span> exceeding 20% achieved by their solar cells, two key issues -- the poor device stabilities associated with their intrinsic material instability and the toxicity due to water soluble Pb$^{2+}$ -- need to be resolved before large-scale commercialization.</td>\n",
       "      <td id=\"T_55e12_row4_col3\" class=\"data row4 col3\" ><a href=\"https://arxiv.org/abs/1705.10014\"  target=\"_blank\"> arXiv </a></td>\n",
       "      <td id=\"T_55e12_row4_col4\" class=\"data row4 col4\" ><a href=\"https://doi.org/10.1021/jacs.6b09645\"  target=\"_blank\"> DOI </a></td>\n",
       "      <td id=\"T_55e12_row4_col5\" class=\"data row4 col5\" ><a href=\"https://sds.app.accelerate.science/projects/1234567890abcdefghijklmnopqrstvwyz123456/library/public?search=JTdCJTIyY29sbGVjdGlvbnMlMjIlM0ElNUIlMjJhcnhpdi1hYnN0cmFjdCUyMiU1RCUyQyUyMnR5cGUlMjIlM0ElMjJEb2N1bWVudCUyMiUyQyUyMmV4cHJlc3Npb24lMjIlM0ElMjJmaWxlLWluZm8uZG9jdW1lbnQtaGFzaCUzQSUyMCU1QyUyMjBkNTkyYTNlYmJjNTEyYTY3YjRlODFjNDc3N2EyYmQ4NjY0NDI0YTkwZGJhNjY1MTNmNDgyM2Y2NzdmZjkyZjAlNUMlMjIlMjIlMkMlMjJmaWx0ZXJzJTIyJTNBJTVCJTVEJTJDJTIyc2VsZWN0JTIyJTNBJTVCJTIyX25hbWUlMjIlMkMlMjJkZXNjcmlwdGlvbi5jb2xsZWN0aW9uJTIyJTJDJTIycHJvdiUyMiUyQyUyMmRlc2NyaXB0aW9uLnRpdGxlJTIyJTJDJTIyZGVzY3JpcHRpb24ucHVibGljYXRpb25fZGF0ZSUyMiUyQyUyMmRlc2NyaXB0aW9uLnVybF9yZWZzJTIyJTVEJTJDJTIyaXRlbUluZGV4JTIyJTNBMCUyQyUyMnBhZ2VTaXplJTIyJTNBMTAlMkMlMjJzZWFyY2hBZnRlckhpc3RvcnklMjIlM0ElNUIlNUQlMkMlMjJ2aWV3VHlwZSUyMiUzQSUyMnNuaXBwZXRzJTIyJTJDJTIycmVjb3JkU2VsZWN0aW9uJTIyJTNBJTdCJTIycmVjb3JkJTIyJTNBJTdCJTIyaWQlMjIlM0ElMjIwZDU5MmEzZWJiYzUxMmE2N2I0ZTgxYzQ3NzdhMmJkODY2NDQyNGE5MGRiYTY2NTEzZjQ4MjNmNjc3ZmY5MmYwJTIyJTdEJTdEJTdE\"  target=\"_blank\"> DS </a></td>\n",
       "      <td id=\"T_55e12_row4_col6\" class=\"data row4 col6\" >1705.10014</td>\n",
       "      <td id=\"T_55e12_row4_col7\" class=\"data row4 col7\" >main-text</td>\n",
       "    </tr>\n",
       "    <tr>\n",
       "      <th id=\"T_55e12_level0_row5\" class=\"row_heading level0 row5\" >5</th>\n",
       "      <td id=\"T_55e12_row5_col0\" class=\"data row5 col0\" >On the Absence of Triplet Exciton Loss Pathways in Non-Fullerene\n",
       "  Acceptor based Organic Solar Cells</td>\n",
       "      <td id=\"T_55e12_row5_col1\" class=\"data row5 col1\" >Maria S. Kotova,Giacomo Londi,Johannes Junker,Stefanie Dietz,Alberto Privitera,Kristofer Tvingstedt,David Beljonne,Andreas Sperlich,Vladimir Dyakonov</td>\n",
       "      <td id=\"T_55e12_row5_col2\" class=\"data row5 col2\" >These results correlate well with the high <span style='font-weight: bold; background-color: #FFFF00'>power</span> <span style='font-weight: bold; background-color: #FFFF00'>conversion</span> <span style='font-weight: bold; background-color: #FFFF00'>efficiency</span> of the PBDB-T:ITIC-based OSCs and their high stability.</td>\n",
       "      <td id=\"T_55e12_row5_col3\" class=\"data row5 col3\" ><a href=\"https://arxiv.org/abs/2002.07531\"  target=\"_blank\"> arXiv </a></td>\n",
       "      <td id=\"T_55e12_row5_col4\" class=\"data row5 col4\" ><a href=\"https://doi.org/10.1039/D0MH00286K\"  target=\"_blank\"> DOI </a></td>\n",
       "      <td id=\"T_55e12_row5_col5\" class=\"data row5 col5\" ><a href=\"https://sds.app.accelerate.science/projects/1234567890abcdefghijklmnopqrstvwyz123456/library/public?search=JTdCJTIyY29sbGVjdGlvbnMlMjIlM0ElNUIlMjJhcnhpdi1hYnN0cmFjdCUyMiU1RCUyQyUyMnR5cGUlMjIlM0ElMjJEb2N1bWVudCUyMiUyQyUyMmV4cHJlc3Npb24lMjIlM0ElMjJmaWxlLWluZm8uZG9jdW1lbnQtaGFzaCUzQSUyMCU1QyUyMjBkNjlmZWJlYjk0NGQzMWNhMmY1MTA3ZTFjNDMxY2YzOGRiNjc1NGRmNjk2ZjlmODE3Yjg4N2JlOGNkOWNkYjYlNUMlMjIlMjIlMkMlMjJmaWx0ZXJzJTIyJTNBJTVCJTVEJTJDJTIyc2VsZWN0JTIyJTNBJTVCJTIyX25hbWUlMjIlMkMlMjJkZXNjcmlwdGlvbi5jb2xsZWN0aW9uJTIyJTJDJTIycHJvdiUyMiUyQyUyMmRlc2NyaXB0aW9uLnRpdGxlJTIyJTJDJTIyZGVzY3JpcHRpb24ucHVibGljYXRpb25fZGF0ZSUyMiUyQyUyMmRlc2NyaXB0aW9uLnVybF9yZWZzJTIyJTVEJTJDJTIyaXRlbUluZGV4JTIyJTNBMCUyQyUyMnBhZ2VTaXplJTIyJTNBMTAlMkMlMjJzZWFyY2hBZnRlckhpc3RvcnklMjIlM0ElNUIlNUQlMkMlMjJ2aWV3VHlwZSUyMiUzQSUyMnNuaXBwZXRzJTIyJTJDJTIycmVjb3JkU2VsZWN0aW9uJTIyJTNBJTdCJTIycmVjb3JkJTIyJTNBJTdCJTIyaWQlMjIlM0ElMjIwZDY5ZmViZWI5NDRkMzFjYTJmNTEwN2UxYzQzMWNmMzhkYjY3NTRkZjY5NmY5ZjgxN2I4ODdiZThjZDljZGI2JTIyJTdEJTdEJTdE\"  target=\"_blank\"> DS </a></td>\n",
       "      <td id=\"T_55e12_row5_col6\" class=\"data row5 col6\" >2002.07531</td>\n",
       "      <td id=\"T_55e12_row5_col7\" class=\"data row5 col7\" >main-text</td>\n",
       "    </tr>\n",
       "    <tr>\n",
       "      <th id=\"T_55e12_level0_row6\" class=\"row_heading level0 row6\" >6</th>\n",
       "      <td id=\"T_55e12_row6_col0\" class=\"data row6 col0\" >Correlated In-Situ Low-Frequency Noise and Impedance Spectroscopy Reveal\n",
       "  Recombination Dynamics in Organic Solar Cells using Fullerene and\n",
       "  Non-Fullerene Acceptors</td>\n",
       "      <td id=\"T_55e12_row6_col1\" class=\"data row6 col1\" >Kyle A. Luck,Vinod K. Sangwan,Patrick E. Hartnett,Heather N. Arnold,Michael R. Wasielewski,Tobin J. Marks,Mark C. Hersam</td>\n",
       "      <td id=\"T_55e12_row6_col2\" class=\"data row6 col2\" >An inverse correlation is also observed between noise spectral density and <span style='font-weight: bold; background-color: #FFFF00'>power</span> <span style='font-weight: bold; background-color: #FFFF00'>conversion</span> <span style='font-weight: bold; background-color: #FFFF00'>efficiency</span>.</td>\n",
       "      <td id=\"T_55e12_row6_col3\" class=\"data row6 col3\" ><a href=\"https://arxiv.org/abs/1709.07133\"  target=\"_blank\"> arXiv </a></td>\n",
       "      <td id=\"T_55e12_row6_col4\" class=\"data row6 col4\" ></td>\n",
       "      <td id=\"T_55e12_row6_col5\" class=\"data row6 col5\" ><a href=\"https://sds.app.accelerate.science/projects/1234567890abcdefghijklmnopqrstvwyz123456/library/public?search=JTdCJTIyY29sbGVjdGlvbnMlMjIlM0ElNUIlMjJhcnhpdi1hYnN0cmFjdCUyMiU1RCUyQyUyMnR5cGUlMjIlM0ElMjJEb2N1bWVudCUyMiUyQyUyMmV4cHJlc3Npb24lMjIlM0ElMjJmaWxlLWluZm8uZG9jdW1lbnQtaGFzaCUzQSUyMCU1QyUyMjBkOTE5MGViZjI0YWJkNmFhYzM0MTgwODEyMTg2N2JkMGUwODdlMzZlY2FmNWViZGI0MDBlYmRkMjhlYmE0MjklNUMlMjIlMjIlMkMlMjJmaWx0ZXJzJTIyJTNBJTVCJTVEJTJDJTIyc2VsZWN0JTIyJTNBJTVCJTIyX25hbWUlMjIlMkMlMjJkZXNjcmlwdGlvbi5jb2xsZWN0aW9uJTIyJTJDJTIycHJvdiUyMiUyQyUyMmRlc2NyaXB0aW9uLnRpdGxlJTIyJTJDJTIyZGVzY3JpcHRpb24ucHVibGljYXRpb25fZGF0ZSUyMiUyQyUyMmRlc2NyaXB0aW9uLnVybF9yZWZzJTIyJTVEJTJDJTIyaXRlbUluZGV4JTIyJTNBMCUyQyUyMnBhZ2VTaXplJTIyJTNBMTAlMkMlMjJzZWFyY2hBZnRlckhpc3RvcnklMjIlM0ElNUIlNUQlMkMlMjJ2aWV3VHlwZSUyMiUzQSUyMnNuaXBwZXRzJTIyJTJDJTIycmVjb3JkU2VsZWN0aW9uJTIyJTNBJTdCJTIycmVjb3JkJTIyJTNBJTdCJTIyaWQlMjIlM0ElMjIwZDkxOTBlYmYyNGFiZDZhYWMzNDE4MDgxMjE4NjdiZDBlMDg3ZTM2ZWNhZjVlYmRiNDAwZWJkZDI4ZWJhNDI5JTIyJTdEJTdEJTdE\"  target=\"_blank\"> DS </a></td>\n",
       "      <td id=\"T_55e12_row6_col6\" class=\"data row6 col6\" >1709.07133</td>\n",
       "      <td id=\"T_55e12_row6_col7\" class=\"data row6 col7\" >main-text</td>\n",
       "    </tr>\n",
       "    <tr>\n",
       "      <th id=\"T_55e12_level0_row7\" class=\"row_heading level0 row7\" >7</th>\n",
       "      <td id=\"T_55e12_row7_col0\" class=\"data row7 col0\" >Organic solar cell design as a function of radiative quantum efficiency</td>\n",
       "      <td id=\"T_55e12_row7_col1\" class=\"data row7 col1\" >Blaise Godefroid,Gregory Kozyreff</td>\n",
       "      <td id=\"T_55e12_row7_col2\" class=\"data row7 col2\" >To demonstrate this fact, we use realistic material parameters inspired from literature data and obtain an increase of <span style='font-weight: bold; background-color: #FFFF00'>power</span> <span style='font-weight: bold; background-color: #FFFF00'>conversion</span> <span style='font-weight: bold; background-color: #FFFF00'>efficiency</span> from 11.3% to 12.7%.</td>\n",
       "      <td id=\"T_55e12_row7_col3\" class=\"data row7 col3\" ><a href=\"https://arxiv.org/abs/1705.07814\"  target=\"_blank\"> arXiv </a></td>\n",
       "      <td id=\"T_55e12_row7_col4\" class=\"data row7 col4\" ><a href=\"https://doi.org/10.1103/PhysRevApplied.8.034024\"  target=\"_blank\"> DOI </a></td>\n",
       "      <td id=\"T_55e12_row7_col5\" class=\"data row7 col5\" ><a href=\"https://sds.app.accelerate.science/projects/1234567890abcdefghijklmnopqrstvwyz123456/library/public?search=JTdCJTIyY29sbGVjdGlvbnMlMjIlM0ElNUIlMjJhcnhpdi1hYnN0cmFjdCUyMiU1RCUyQyUyMnR5cGUlMjIlM0ElMjJEb2N1bWVudCUyMiUyQyUyMmV4cHJlc3Npb24lMjIlM0ElMjJmaWxlLWluZm8uZG9jdW1lbnQtaGFzaCUzQSUyMCU1QyUyMjE3ZTY0NGQ1N2UzZTA4NjcwYWRkYzg4OTA3MzM2ZjdjYzdlZmUwMTJlMzRmZDgzYzI2MzI0MDM1MTBjM2MwNmElNUMlMjIlMjIlMkMlMjJmaWx0ZXJzJTIyJTNBJTVCJTVEJTJDJTIyc2VsZWN0JTIyJTNBJTVCJTIyX25hbWUlMjIlMkMlMjJkZXNjcmlwdGlvbi5jb2xsZWN0aW9uJTIyJTJDJTIycHJvdiUyMiUyQyUyMmRlc2NyaXB0aW9uLnRpdGxlJTIyJTJDJTIyZGVzY3JpcHRpb24ucHVibGljYXRpb25fZGF0ZSUyMiUyQyUyMmRlc2NyaXB0aW9uLnVybF9yZWZzJTIyJTVEJTJDJTIyaXRlbUluZGV4JTIyJTNBMCUyQyUyMnBhZ2VTaXplJTIyJTNBMTAlMkMlMjJzZWFyY2hBZnRlckhpc3RvcnklMjIlM0ElNUIlNUQlMkMlMjJ2aWV3VHlwZSUyMiUzQSUyMnNuaXBwZXRzJTIyJTJDJTIycmVjb3JkU2VsZWN0aW9uJTIyJTNBJTdCJTIycmVjb3JkJTIyJTNBJTdCJTIyaWQlMjIlM0ElMjIxN2U2NDRkNTdlM2UwODY3MGFkZGM4ODkwNzMzNmY3Y2M3ZWZlMDEyZTM0ZmQ4M2MyNjMyNDAzNTEwYzNjMDZhJTIyJTdEJTdEJTdE\"  target=\"_blank\"> DS </a></td>\n",
       "      <td id=\"T_55e12_row7_col6\" class=\"data row7 col6\" >1705.07814</td>\n",
       "      <td id=\"T_55e12_row7_col7\" class=\"data row7 col7\" >main-text</td>\n",
       "    </tr>\n",
       "    <tr>\n",
       "      <th id=\"T_55e12_level0_row8\" class=\"row_heading level0 row8\" >8</th>\n",
       "      <td id=\"T_55e12_row8_col0\" class=\"data row8 col0\" >Enhanced Organic Solar Cells Efficiency through Additive Electronic and\n",
       "  Electro-optic Effects Resulting from Doping a Polymer Hole Transport Layer</td>\n",
       "      <td id=\"T_55e12_row8_col1\" class=\"data row8 col1\" >C.T. Howells,K. Marbou,H. Kim,K.J. Lee,B. Heinrich,S.J. Kim,A. Nakao,T. Aoyama,S. Furukawa,J.-H. Kim,E.S. Kim,F. Mathevet,S. Mery,I.D.W. Samuel,A. Al Ghaferi,M. S. Dahlem,M. Uchiyama,S.Y. Kim,J.W. Wu,J.-C. Ribierre,C. Adachi,D.-W. Kim,P. Andr\\'e</td>\n",
       "      <td id=\"T_55e12_row8_col2\" class=\"data row8 col2\" >This work points towards fluorination as a promising strategy toward combining both external quantum efficiency modulation and <span style='font-weight: bold; background-color: #FFFF00'>power</span> <span style='font-weight: bold; background-color: #FFFF00'>conversion</span> <span style='font-weight: bold; background-color: #FFFF00'>efficiency</span> enhancement in OPVs.</td>\n",
       "      <td id=\"T_55e12_row8_col3\" class=\"data row8 col3\" ><a href=\"https://arxiv.org/abs/1512.04314\"  target=\"_blank\"> arXiv </a></td>\n",
       "      <td id=\"T_55e12_row8_col4\" class=\"data row8 col4\" ><a href=\"https://doi.org/10.1039/C6TA00677A\"  target=\"_blank\"> DOI </a></td>\n",
       "      <td id=\"T_55e12_row8_col5\" class=\"data row8 col5\" ><a href=\"https://sds.app.accelerate.science/projects/1234567890abcdefghijklmnopqrstvwyz123456/library/public?search=JTdCJTIyY29sbGVjdGlvbnMlMjIlM0ElNUIlMjJhcnhpdi1hYnN0cmFjdCUyMiU1RCUyQyUyMnR5cGUlMjIlM0ElMjJEb2N1bWVudCUyMiUyQyUyMmV4cHJlc3Npb24lMjIlM0ElMjJmaWxlLWluZm8uZG9jdW1lbnQtaGFzaCUzQSUyMCU1QyUyMjFjOWY2MGNiNzAxN2EzNjlhNjI2NzMwYWM5Njg0NmI4N2Y1MTdhZWY5OWQyZDY2YzAyZGFkMWQxMWFkZWU0MzUlNUMlMjIlMjIlMkMlMjJmaWx0ZXJzJTIyJTNBJTVCJTVEJTJDJTIyc2VsZWN0JTIyJTNBJTVCJTIyX25hbWUlMjIlMkMlMjJkZXNjcmlwdGlvbi5jb2xsZWN0aW9uJTIyJTJDJTIycHJvdiUyMiUyQyUyMmRlc2NyaXB0aW9uLnRpdGxlJTIyJTJDJTIyZGVzY3JpcHRpb24ucHVibGljYXRpb25fZGF0ZSUyMiUyQyUyMmRlc2NyaXB0aW9uLnVybF9yZWZzJTIyJTVEJTJDJTIyaXRlbUluZGV4JTIyJTNBMCUyQyUyMnBhZ2VTaXplJTIyJTNBMTAlMkMlMjJzZWFyY2hBZnRlckhpc3RvcnklMjIlM0ElNUIlNUQlMkMlMjJ2aWV3VHlwZSUyMiUzQSUyMnNuaXBwZXRzJTIyJTJDJTIycmVjb3JkU2VsZWN0aW9uJTIyJTNBJTdCJTIycmVjb3JkJTIyJTNBJTdCJTIyaWQlMjIlM0ElMjIxYzlmNjBjYjcwMTdhMzY5YTYyNjczMGFjOTY4NDZiODdmNTE3YWVmOTlkMmQ2NmMwMmRhZDFkMTFhZGVlNDM1JTIyJTdEJTdEJTdE\"  target=\"_blank\"> DS </a></td>\n",
       "      <td id=\"T_55e12_row8_col6\" class=\"data row8 col6\" >1512.04314</td>\n",
       "      <td id=\"T_55e12_row8_col7\" class=\"data row8 col7\" >main-text</td>\n",
       "    </tr>\n",
       "    <tr>\n",
       "      <th id=\"T_55e12_level0_row9\" class=\"row_heading level0 row9\" >9</th>\n",
       "      <td id=\"T_55e12_row9_col0\" class=\"data row9 col0\" >Molecular-Level Switching of Polymer/Nanocrystal Non-Covalent\n",
       "  Interactions and Application in Hybrid Solar Cells</td>\n",
       "      <td id=\"T_55e12_row9_col1\" class=\"data row9 col1\" >Carlo Giansante,Rosanna Mastria,Giovanni Lerario,Luca Moretti,Ilka Kriegel,Francesco Scotognella,Guglielmo Lanzani,Sonia Carallo,Marco Esposito,Mariano Biasiucci,Aurora Rizzo,Giuseppe Gigli</td>\n",
       "      <td id=\"T_55e12_row9_col2\" class=\"data row9 col2\" >Upon (quasi)steady-state and time-resolved analisys of the photo-induced processes in the nanocomposites and their <span style='font-weight: bold; background-color: #FFFF00'>organic</span> and inorganic components, we ascertained that electron transfer occurs at the hybrid interface yielding long-lived separated charge carriers, whereas interfacial hole transfer appears slow.</td>\n",
       "      <td id=\"T_55e12_row9_col3\" class=\"data row9 col3\" ><a href=\"https://arxiv.org/abs/1312.6240\"  target=\"_blank\"> arXiv </a></td>\n",
       "      <td id=\"T_55e12_row9_col4\" class=\"data row9 col4\" ><a href=\"https://doi.org/10.1002/adfm.201401841\"  target=\"_blank\"> DOI </a></td>\n",
       "      <td id=\"T_55e12_row9_col5\" class=\"data row9 col5\" ><a href=\"https://sds.app.accelerate.science/projects/1234567890abcdefghijklmnopqrstvwyz123456/library/public?search=JTdCJTIyY29sbGVjdGlvbnMlMjIlM0ElNUIlMjJhcnhpdi1hYnN0cmFjdCUyMiU1RCUyQyUyMnR5cGUlMjIlM0ElMjJEb2N1bWVudCUyMiUyQyUyMmV4cHJlc3Npb24lMjIlM0ElMjJmaWxlLWluZm8uZG9jdW1lbnQtaGFzaCUzQSUyMCU1QyUyMjIyMjI3ZDlkYTZjMzMyOWYyZWMwMTEwOTk3ZDJkZDYxZjcyYTBjMzE0ZjliY2RkYWNkYjUxMGY4NDVlNzY4YWYlNUMlMjIlMjIlMkMlMjJmaWx0ZXJzJTIyJTNBJTVCJTVEJTJDJTIyc2VsZWN0JTIyJTNBJTVCJTIyX25hbWUlMjIlMkMlMjJkZXNjcmlwdGlvbi5jb2xsZWN0aW9uJTIyJTJDJTIycHJvdiUyMiUyQyUyMmRlc2NyaXB0aW9uLnRpdGxlJTIyJTJDJTIyZGVzY3JpcHRpb24ucHVibGljYXRpb25fZGF0ZSUyMiUyQyUyMmRlc2NyaXB0aW9uLnVybF9yZWZzJTIyJTVEJTJDJTIyaXRlbUluZGV4JTIyJTNBMCUyQyUyMnBhZ2VTaXplJTIyJTNBMTAlMkMlMjJzZWFyY2hBZnRlckhpc3RvcnklMjIlM0ElNUIlNUQlMkMlMjJ2aWV3VHlwZSUyMiUzQSUyMnNuaXBwZXRzJTIyJTJDJTIycmVjb3JkU2VsZWN0aW9uJTIyJTNBJTdCJTIycmVjb3JkJTIyJTNBJTdCJTIyaWQlMjIlM0ElMjIyMjIyN2Q5ZGE2YzMzMjlmMmVjMDExMDk5N2QyZGQ2MWY3MmEwYzMxNGY5YmNkZGFjZGI1MTBmODQ1ZTc2OGFmJTIyJTdEJTdEJTdE\"  target=\"_blank\"> DS </a></td>\n",
       "      <td id=\"T_55e12_row9_col6\" class=\"data row9 col6\" >1312.6240</td>\n",
       "      <td id=\"T_55e12_row9_col7\" class=\"data row9 col7\" >main-text</td>\n",
       "    </tr>\n",
       "    <tr>\n",
       "      <th id=\"T_55e12_level0_row10\" class=\"row_heading level0 row10\" >10</th>\n",
       "      <td id=\"T_55e12_row10_col0\" class=\"data row10 col0\" >A Bayesian Approach to Calibrating High-Throughput Virtual Screening\n",
       "  Results and Application to Organic Photovoltaic Materials</td>\n",
       "      <td id=\"T_55e12_row10_col1\" class=\"data row10 col1\" >Edward O. Pyzer-Knapp,Gregor N. Simm,Alan Aspuru-Guzik</td>\n",
       "      <td id=\"T_55e12_row10_col2\" class=\"data row10 col2\" >Information on the molecular graph is extracted through the use of extended connectivity fingerprints, and exploited using a Gaussian process to calibrate both electronic properties such as frontier orbital energies, and optical gaps and device properties such as short circuit current density, open circuit voltage and <span style='font-weight: bold; background-color: #FFFF00'>power</span> <span style='font-weight: bold; background-color: #FFFF00'>conversion</span> <span style='font-weight: bold; background-color: #FFFF00'>efficiency</span>.</td>\n",
       "      <td id=\"T_55e12_row10_col3\" class=\"data row10 col3\" ><a href=\"https://arxiv.org/abs/1510.00388\"  target=\"_blank\"> arXiv </a></td>\n",
       "      <td id=\"T_55e12_row10_col4\" class=\"data row10 col4\" ></td>\n",
       "      <td id=\"T_55e12_row10_col5\" class=\"data row10 col5\" ><a href=\"https://sds.app.accelerate.science/projects/1234567890abcdefghijklmnopqrstvwyz123456/library/public?search=JTdCJTIyY29sbGVjdGlvbnMlMjIlM0ElNUIlMjJhcnhpdi1hYnN0cmFjdCUyMiU1RCUyQyUyMnR5cGUlMjIlM0ElMjJEb2N1bWVudCUyMiUyQyUyMmV4cHJlc3Npb24lMjIlM0ElMjJmaWxlLWluZm8uZG9jdW1lbnQtaGFzaCUzQSUyMCU1QyUyMjI5MDIwMDNkYmU4M2EzYWViZDZkOGJkMmE0YTZmNjIxYWQwZTE3M2RmYjdiZmJiYTk0MmExNmEyNWEwYjc3NWUlNUMlMjIlMjIlMkMlMjJmaWx0ZXJzJTIyJTNBJTVCJTVEJTJDJTIyc2VsZWN0JTIyJTNBJTVCJTIyX25hbWUlMjIlMkMlMjJkZXNjcmlwdGlvbi5jb2xsZWN0aW9uJTIyJTJDJTIycHJvdiUyMiUyQyUyMmRlc2NyaXB0aW9uLnRpdGxlJTIyJTJDJTIyZGVzY3JpcHRpb24ucHVibGljYXRpb25fZGF0ZSUyMiUyQyUyMmRlc2NyaXB0aW9uLnVybF9yZWZzJTIyJTVEJTJDJTIyaXRlbUluZGV4JTIyJTNBMCUyQyUyMnBhZ2VTaXplJTIyJTNBMTAlMkMlMjJzZWFyY2hBZnRlckhpc3RvcnklMjIlM0ElNUIlNUQlMkMlMjJ2aWV3VHlwZSUyMiUzQSUyMnNuaXBwZXRzJTIyJTJDJTIycmVjb3JkU2VsZWN0aW9uJTIyJTNBJTdCJTIycmVjb3JkJTIyJTNBJTdCJTIyaWQlMjIlM0ElMjIyOTAyMDAzZGJlODNhM2FlYmQ2ZDhiZDJhNGE2ZjYyMWFkMGUxNzNkZmI3YmZiYmE5NDJhMTZhMjVhMGI3NzVlJTIyJTdEJTdEJTdE\"  target=\"_blank\"> DS </a></td>\n",
       "      <td id=\"T_55e12_row10_col6\" class=\"data row10 col6\" >1510.00388</td>\n",
       "      <td id=\"T_55e12_row10_col7\" class=\"data row10 col7\" >main-text</td>\n",
       "    </tr>\n",
       "    <tr>\n",
       "      <th id=\"T_55e12_level0_row11\" class=\"row_heading level0 row11\" >11</th>\n",
       "      <td id=\"T_55e12_row11_col0\" class=\"data row11 col0\" >Stability enhancement of ITO-free non-inverted PTB7:PC71BM solar cell\n",
       "  using two-step post-treated PEDOT:PSS</td>\n",
       "      <td id=\"T_55e12_row11_col1\" class=\"data row11 col1\" >Mehrdad Kankanan,Abdolnabi Kosarian,Ebrahim Farshidi</td>\n",
       "      <td id=\"T_55e12_row11_col2\" class=\"data row11 col2\" >The <span style='font-weight: bold; background-color: #FFFF00'>power</span> <span style='font-weight: bold; background-color: #FFFF00'>conversion</span> <span style='font-weight: bold; background-color: #FFFF00'>efficiency</span> of the resulting cell is 5.8%.</td>\n",
       "      <td id=\"T_55e12_row11_col3\" class=\"data row11 col3\" ><a href=\"https://arxiv.org/abs/2106.06938\"  target=\"_blank\"> arXiv </a></td>\n",
       "      <td id=\"T_55e12_row11_col4\" class=\"data row11 col4\" ><a href=\"https://doi.org/10.1007/s10854-018-9354-z\"  target=\"_blank\"> DOI </a></td>\n",
       "      <td id=\"T_55e12_row11_col5\" class=\"data row11 col5\" ><a href=\"https://sds.app.accelerate.science/projects/1234567890abcdefghijklmnopqrstvwyz123456/library/public?search=JTdCJTIyY29sbGVjdGlvbnMlMjIlM0ElNUIlMjJhcnhpdi1hYnN0cmFjdCUyMiU1RCUyQyUyMnR5cGUlMjIlM0ElMjJEb2N1bWVudCUyMiUyQyUyMmV4cHJlc3Npb24lMjIlM0ElMjJmaWxlLWluZm8uZG9jdW1lbnQtaGFzaCUzQSUyMCU1QyUyMjJjMjg5OTA5MzJmZTUwMmFlMTkxNDg3YzcyNjdhMDFmYzJkNWUyYjM0MDBiOGU3MDRlMjUzMzk1ZDZkZDg5MjAlNUMlMjIlMjIlMkMlMjJmaWx0ZXJzJTIyJTNBJTVCJTVEJTJDJTIyc2VsZWN0JTIyJTNBJTVCJTIyX25hbWUlMjIlMkMlMjJkZXNjcmlwdGlvbi5jb2xsZWN0aW9uJTIyJTJDJTIycHJvdiUyMiUyQyUyMmRlc2NyaXB0aW9uLnRpdGxlJTIyJTJDJTIyZGVzY3JpcHRpb24ucHVibGljYXRpb25fZGF0ZSUyMiUyQyUyMmRlc2NyaXB0aW9uLnVybF9yZWZzJTIyJTVEJTJDJTIyaXRlbUluZGV4JTIyJTNBMCUyQyUyMnBhZ2VTaXplJTIyJTNBMTAlMkMlMjJzZWFyY2hBZnRlckhpc3RvcnklMjIlM0ElNUIlNUQlMkMlMjJ2aWV3VHlwZSUyMiUzQSUyMnNuaXBwZXRzJTIyJTJDJTIycmVjb3JkU2VsZWN0aW9uJTIyJTNBJTdCJTIycmVjb3JkJTIyJTNBJTdCJTIyaWQlMjIlM0ElMjIyYzI4OTkwOTMyZmU1MDJhZTE5MTQ4N2M3MjY3YTAxZmMyZDVlMmIzNDAwYjhlNzA0ZTI1MzM5NWQ2ZGQ4OTIwJTIyJTdEJTdEJTdE\"  target=\"_blank\"> DS </a></td>\n",
       "      <td id=\"T_55e12_row11_col6\" class=\"data row11 col6\" >2106.06938</td>\n",
       "      <td id=\"T_55e12_row11_col7\" class=\"data row11 col7\" >main-text</td>\n",
       "    </tr>\n",
       "    <tr>\n",
       "      <th id=\"T_55e12_level0_row12\" class=\"row_heading level0 row12\" >12</th>\n",
       "      <td id=\"T_55e12_row12_col0\" class=\"data row12 col0\" >Printed high-mobility p-type buffer layers on perovskite photovoltaics\n",
       "  for efficient semi-transparent devices</td>\n",
       "      <td id=\"T_55e12_row12_col1\" class=\"data row12 col1\" >Robert A. Jagt,Tahmida N. Huq,Sam A. Hill,Maung Thway,Tianyuan Liu,Mari Napari,Bart Roose,Krzysztof Ga{\\l}kowsk,Weiwei Li,Serena Fen Lin,Samuel D. Stranks,Judith L. MacManus-Driscoll,Robert L. Z. Hoye</td>\n",
       "      <td id=\"T_55e12_row12_col2\" class=\"data row12 col2\" >In this work we develop a p-type CuOx buffer layer, which can be grown uniformly over the perovskite device without damaging the perovskite or <span style='font-weight: bold; background-color: #FFFF00'>organic</span> charge transport layers, can be grown using industrially scalable techniques and has high hole mobility (4.3 +/- 2 cm2 V-1 s-1), high transmittance (>95%), and a suitable ionisation potential for hole extraction (5.3 +/- 0.2 eV).</td>\n",
       "      <td id=\"T_55e12_row12_col3\" class=\"data row12 col3\" ><a href=\"https://arxiv.org/abs/2001.07755\"  target=\"_blank\"> arXiv </a></td>\n",
       "      <td id=\"T_55e12_row12_col4\" class=\"data row12 col4\" ><a href=\"https://doi.org/10.1021/acsenergylett.0c00763\"  target=\"_blank\"> DOI </a></td>\n",
       "      <td id=\"T_55e12_row12_col5\" class=\"data row12 col5\" ><a href=\"https://sds.app.accelerate.science/projects/1234567890abcdefghijklmnopqrstvwyz123456/library/public?search=JTdCJTIyY29sbGVjdGlvbnMlMjIlM0ElNUIlMjJhcnhpdi1hYnN0cmFjdCUyMiU1RCUyQyUyMnR5cGUlMjIlM0ElMjJEb2N1bWVudCUyMiUyQyUyMmV4cHJlc3Npb24lMjIlM0ElMjJmaWxlLWluZm8uZG9jdW1lbnQtaGFzaCUzQSUyMCU1QyUyMjM0NTJmZDZlM2ZjYTJkNDEyYjlhZDMwYTEyMmE0ZTZlMTVhZWIyN2UxYTY4MjRmYzczNWE3YTM1MWZlYjRlNTUlNUMlMjIlMjIlMkMlMjJmaWx0ZXJzJTIyJTNBJTVCJTVEJTJDJTIyc2VsZWN0JTIyJTNBJTVCJTIyX25hbWUlMjIlMkMlMjJkZXNjcmlwdGlvbi5jb2xsZWN0aW9uJTIyJTJDJTIycHJvdiUyMiUyQyUyMmRlc2NyaXB0aW9uLnRpdGxlJTIyJTJDJTIyZGVzY3JpcHRpb24ucHVibGljYXRpb25fZGF0ZSUyMiUyQyUyMmRlc2NyaXB0aW9uLnVybF9yZWZzJTIyJTVEJTJDJTIyaXRlbUluZGV4JTIyJTNBMCUyQyUyMnBhZ2VTaXplJTIyJTNBMTAlMkMlMjJzZWFyY2hBZnRlckhpc3RvcnklMjIlM0ElNUIlNUQlMkMlMjJ2aWV3VHlwZSUyMiUzQSUyMnNuaXBwZXRzJTIyJTJDJTIycmVjb3JkU2VsZWN0aW9uJTIyJTNBJTdCJTIycmVjb3JkJTIyJTNBJTdCJTIyaWQlMjIlM0ElMjIzNDUyZmQ2ZTNmY2EyZDQxMmI5YWQzMGExMjJhNGU2ZTE1YWViMjdlMWE2ODI0ZmM3MzVhN2EzNTFmZWI0ZTU1JTIyJTdEJTdEJTdE\"  target=\"_blank\"> DS </a></td>\n",
       "      <td id=\"T_55e12_row12_col6\" class=\"data row12 col6\" >2001.07755</td>\n",
       "      <td id=\"T_55e12_row12_col7\" class=\"data row12 col7\" >main-text</td>\n",
       "    </tr>\n",
       "    <tr>\n",
       "      <th id=\"T_55e12_level0_row13\" class=\"row_heading level0 row13\" >13</th>\n",
       "      <td id=\"T_55e12_row13_col0\" class=\"data row13 col0\" >Flexible Organic Photovoltaic Cells with In-situ Non-thermal\n",
       "  Photoreduction of Spin Coated Graphene Oxide Electrodes</td>\n",
       "      <td id=\"T_55e12_row13_col1\" class=\"data row13 col1\" >Emmanuel Kymakis,Kyriaki Savva,Minas M. Stylianakis,Costas Fotakis,Emmanuel Stratakis</td>\n",
       "      <td id=\"T_55e12_row13_col2\" class=\"data row13 col2\" >The devices displayed a <span style='font-weight: bold; background-color: #FFFF00'>power</span>-<span style='font-weight: bold; background-color: #FFFF00'>conversion</span> <span style='font-weight: bold; background-color: #FFFF00'>efficiency</span> of 1.1 %, which is the highest reported so far for OPV device incorporating reduced GO as the transparent electrode.</td>\n",
       "      <td id=\"T_55e12_row13_col3\" class=\"data row13 col3\" ><a href=\"https://arxiv.org/abs/1208.0988\"  target=\"_blank\"> arXiv </a></td>\n",
       "      <td id=\"T_55e12_row13_col4\" class=\"data row13 col4\" ></td>\n",
       "      <td id=\"T_55e12_row13_col5\" class=\"data row13 col5\" ><a href=\"https://sds.app.accelerate.science/projects/1234567890abcdefghijklmnopqrstvwyz123456/library/public?search=JTdCJTIyY29sbGVjdGlvbnMlMjIlM0ElNUIlMjJhcnhpdi1hYnN0cmFjdCUyMiU1RCUyQyUyMnR5cGUlMjIlM0ElMjJEb2N1bWVudCUyMiUyQyUyMmV4cHJlc3Npb24lMjIlM0ElMjJmaWxlLWluZm8uZG9jdW1lbnQtaGFzaCUzQSUyMCU1QyUyMjM1NTg0ZGY0OGU2MTU5NDc0M2MyMmZlNmNkZmJkMjVjMDg4MjQxMmJlODkyYWE0OTE5YTBlOTgzZDJhMDE2ZDklNUMlMjIlMjIlMkMlMjJmaWx0ZXJzJTIyJTNBJTVCJTVEJTJDJTIyc2VsZWN0JTIyJTNBJTVCJTIyX25hbWUlMjIlMkMlMjJkZXNjcmlwdGlvbi5jb2xsZWN0aW9uJTIyJTJDJTIycHJvdiUyMiUyQyUyMmRlc2NyaXB0aW9uLnRpdGxlJTIyJTJDJTIyZGVzY3JpcHRpb24ucHVibGljYXRpb25fZGF0ZSUyMiUyQyUyMmRlc2NyaXB0aW9uLnVybF9yZWZzJTIyJTVEJTJDJTIyaXRlbUluZGV4JTIyJTNBMCUyQyUyMnBhZ2VTaXplJTIyJTNBMTAlMkMlMjJzZWFyY2hBZnRlckhpc3RvcnklMjIlM0ElNUIlNUQlMkMlMjJ2aWV3VHlwZSUyMiUzQSUyMnNuaXBwZXRzJTIyJTJDJTIycmVjb3JkU2VsZWN0aW9uJTIyJTNBJTdCJTIycmVjb3JkJTIyJTNBJTdCJTIyaWQlMjIlM0ElMjIzNTU4NGRmNDhlNjE1OTQ3NDNjMjJmZTZjZGZiZDI1YzA4ODI0MTJiZTg5MmFhNDkxOWEwZTk4M2QyYTAxNmQ5JTIyJTdEJTdEJTdE\"  target=\"_blank\"> DS </a></td>\n",
       "      <td id=\"T_55e12_row13_col6\" class=\"data row13 col6\" >1208.0988</td>\n",
       "      <td id=\"T_55e12_row13_col7\" class=\"data row13 col7\" >main-text</td>\n",
       "    </tr>\n",
       "    <tr>\n",
       "      <th id=\"T_55e12_level0_row14\" class=\"row_heading level0 row14\" >14</th>\n",
       "      <td id=\"T_55e12_row14_col0\" class=\"data row14 col0\" >Atomistic origins of high-performance in hybrid halide perovskite solar\n",
       "  cells</td>\n",
       "      <td id=\"T_55e12_row14_col1\" class=\"data row14 col1\" >Jarvist M. Frost,Keith T. Butler,Federico Brivio,Christopher H. Hendon,Mark van Schilfgaarde,Aron Walsh</td>\n",
       "      <td id=\"T_55e12_row14_col2\" class=\"data row14 col2\" >As we show, hybrid perovskites exhibit spontaneous electric polarisation; we also suggest ways in which this can be tuned through judicious choice of the <span style='font-weight: bold; background-color: #FFFF00'>organic</span> cation.</td>\n",
       "      <td id=\"T_55e12_row14_col3\" class=\"data row14 col3\" ><a href=\"https://arxiv.org/abs/1402.4980\"  target=\"_blank\"> arXiv </a></td>\n",
       "      <td id=\"T_55e12_row14_col4\" class=\"data row14 col4\" ><a href=\"https://doi.org/10.1021/nl500390f\"  target=\"_blank\"> DOI </a></td>\n",
       "      <td id=\"T_55e12_row14_col5\" class=\"data row14 col5\" ><a href=\"https://sds.app.accelerate.science/projects/1234567890abcdefghijklmnopqrstvwyz123456/library/public?search=JTdCJTIyY29sbGVjdGlvbnMlMjIlM0ElNUIlMjJhcnhpdi1hYnN0cmFjdCUyMiU1RCUyQyUyMnR5cGUlMjIlM0ElMjJEb2N1bWVudCUyMiUyQyUyMmV4cHJlc3Npb24lMjIlM0ElMjJmaWxlLWluZm8uZG9jdW1lbnQtaGFzaCUzQSUyMCU1QyUyMjM3NjBjMjg5OTFlYzA2ZTE2NzdmYzkxYWFiODcxZDJiY2Q3OTU0OGQ3ZGEyNDQ2MDBiNGZhYmRhM2ViYWU5MzIlNUMlMjIlMjIlMkMlMjJmaWx0ZXJzJTIyJTNBJTVCJTVEJTJDJTIyc2VsZWN0JTIyJTNBJTVCJTIyX25hbWUlMjIlMkMlMjJkZXNjcmlwdGlvbi5jb2xsZWN0aW9uJTIyJTJDJTIycHJvdiUyMiUyQyUyMmRlc2NyaXB0aW9uLnRpdGxlJTIyJTJDJTIyZGVzY3JpcHRpb24ucHVibGljYXRpb25fZGF0ZSUyMiUyQyUyMmRlc2NyaXB0aW9uLnVybF9yZWZzJTIyJTVEJTJDJTIyaXRlbUluZGV4JTIyJTNBMCUyQyUyMnBhZ2VTaXplJTIyJTNBMTAlMkMlMjJzZWFyY2hBZnRlckhpc3RvcnklMjIlM0ElNUIlNUQlMkMlMjJ2aWV3VHlwZSUyMiUzQSUyMnNuaXBwZXRzJTIyJTJDJTIycmVjb3JkU2VsZWN0aW9uJTIyJTNBJTdCJTIycmVjb3JkJTIyJTNBJTdCJTIyaWQlMjIlM0ElMjIzNzYwYzI4OTkxZWMwNmUxNjc3ZmM5MWFhYjg3MWQyYmNkNzk1NDhkN2RhMjQ0NjAwYjRmYWJkYTNlYmFlOTMyJTIyJTdEJTdEJTdE\"  target=\"_blank\"> DS </a></td>\n",
       "      <td id=\"T_55e12_row14_col6\" class=\"data row14 col6\" >1402.4980</td>\n",
       "      <td id=\"T_55e12_row14_col7\" class=\"data row14 col7\" >main-text</td>\n",
       "    </tr>\n",
       "    <tr>\n",
       "      <th id=\"T_55e12_level0_row15\" class=\"row_heading level0 row15\" >15</th>\n",
       "      <td id=\"T_55e12_row15_col0\" class=\"data row15 col0\" >Organic-inorganic Copper(II)-based Material: a Low-Toxic, Highly Stable\n",
       "  Light Absorber beyond Organolead Perovskites</td>\n",
       "      <td id=\"T_55e12_row15_col1\" class=\"data row15 col1\" >Xiaolei Li,Xiangli Zhong,Yue Hu,Bochao Li,Yusong Sheng,Yang Zhang,Chao Weng,Ming Feng,Hongwei Han,Jinbin Wang</td>\n",
       "      <td id=\"T_55e12_row15_col2\" class=\"data row15 col2\" >Our study represents an alternative pathway to develop low-toxic and highly stable <span style='font-weight: bold; background-color: #FFFF00'>organic</span>-inorganic hybrid materials for photovoltaic application.</td>\n",
       "      <td id=\"T_55e12_row15_col3\" class=\"data row15 col3\" ><a href=\"https://arxiv.org/abs/1703.02401\"  target=\"_blank\"> arXiv </a></td>\n",
       "      <td id=\"T_55e12_row15_col4\" class=\"data row15 col4\" ></td>\n",
       "      <td id=\"T_55e12_row15_col5\" class=\"data row15 col5\" ><a href=\"https://sds.app.accelerate.science/projects/1234567890abcdefghijklmnopqrstvwyz123456/library/public?search=JTdCJTIyY29sbGVjdGlvbnMlMjIlM0ElNUIlMjJhcnhpdi1hYnN0cmFjdCUyMiU1RCUyQyUyMnR5cGUlMjIlM0ElMjJEb2N1bWVudCUyMiUyQyUyMmV4cHJlc3Npb24lMjIlM0ElMjJmaWxlLWluZm8uZG9jdW1lbnQtaGFzaCUzQSUyMCU1QyUyMjM4M2E5NmQ2MjlkZWFjN2E1MDY2MDE1MjJmMmY4N2RjY2Y3ODRjM2RiN2RiNmQzNmY5NWQwYjk1YWU5ZjkzNGMlNUMlMjIlMjIlMkMlMjJmaWx0ZXJzJTIyJTNBJTVCJTVEJTJDJTIyc2VsZWN0JTIyJTNBJTVCJTIyX25hbWUlMjIlMkMlMjJkZXNjcmlwdGlvbi5jb2xsZWN0aW9uJTIyJTJDJTIycHJvdiUyMiUyQyUyMmRlc2NyaXB0aW9uLnRpdGxlJTIyJTJDJTIyZGVzY3JpcHRpb24ucHVibGljYXRpb25fZGF0ZSUyMiUyQyUyMmRlc2NyaXB0aW9uLnVybF9yZWZzJTIyJTVEJTJDJTIyaXRlbUluZGV4JTIyJTNBMCUyQyUyMnBhZ2VTaXplJTIyJTNBMTAlMkMlMjJzZWFyY2hBZnRlckhpc3RvcnklMjIlM0ElNUIlNUQlMkMlMjJ2aWV3VHlwZSUyMiUzQSUyMnNuaXBwZXRzJTIyJTJDJTIycmVjb3JkU2VsZWN0aW9uJTIyJTNBJTdCJTIycmVjb3JkJTIyJTNBJTdCJTIyaWQlMjIlM0ElMjIzODNhOTZkNjI5ZGVhYzdhNTA2NjAxNTIyZjJmODdkY2NmNzg0YzNkYjdkYjZkMzZmOTVkMGI5NWFlOWY5MzRjJTIyJTdEJTdEJTdE\"  target=\"_blank\"> DS </a></td>\n",
       "      <td id=\"T_55e12_row15_col6\" class=\"data row15 col6\" >1703.02401</td>\n",
       "      <td id=\"T_55e12_row15_col7\" class=\"data row15 col7\" >main-text</td>\n",
       "    </tr>\n",
       "    <tr>\n",
       "      <th id=\"T_55e12_level0_row16\" class=\"row_heading level0 row16\" >16</th>\n",
       "      <td id=\"T_55e12_row16_col0\" class=\"data row16 col0\" >Influence of Perfluorinated Ionomer in PEDOT:PSS on the Rectification\n",
       "  and Degradation of Organic Photovoltaic Cells</td>\n",
       "      <td id=\"T_55e12_row16_col1\" class=\"data row16 col1\" >Calvyn T. Howells,Sueda Saylan,Haeri Kim,Khalid Marbou,Tetsua Aoyama,Aiko Nakao,Masanobu Uchiyama,Ifor D.W. Samuel,Dong-Wook Kim,Marcus S. Dahlem,Pascal Andr\\'e</td>\n",
       "      <td id=\"T_55e12_row16_col2\" class=\"data row16 col2\" >Above the PFI concentration threshold, we recover the <span style='font-weight: bold; background-color: #FFFF00'>PCE</span> before it is improved beyond the pristine PEDOT:PSS layer based OPV devices.</td>\n",
       "      <td id=\"T_55e12_row16_col3\" class=\"data row16 col3\" ><a href=\"https://arxiv.org/abs/1807.10783\"  target=\"_blank\"> arXiv </a></td>\n",
       "      <td id=\"T_55e12_row16_col4\" class=\"data row16 col4\" ><a href=\"https://doi.org/10.1039/C8TA04098B\"  target=\"_blank\"> DOI </a></td>\n",
       "      <td id=\"T_55e12_row16_col5\" class=\"data row16 col5\" ><a href=\"https://sds.app.accelerate.science/projects/1234567890abcdefghijklmnopqrstvwyz123456/library/public?search=JTdCJTIyY29sbGVjdGlvbnMlMjIlM0ElNUIlMjJhcnhpdi1hYnN0cmFjdCUyMiU1RCUyQyUyMnR5cGUlMjIlM0ElMjJEb2N1bWVudCUyMiUyQyUyMmV4cHJlc3Npb24lMjIlM0ElMjJmaWxlLWluZm8uZG9jdW1lbnQtaGFzaCUzQSUyMCU1QyUyMjNiYzEyZmYzNmNlMDU4YmMwZjNjYTBhM2UyZGE2MmY4MmRiMWQ4MTBlMzU2ODFiYWU4NTRmYzI0MzEwY2Q2OTglNUMlMjIlMjIlMkMlMjJmaWx0ZXJzJTIyJTNBJTVCJTVEJTJDJTIyc2VsZWN0JTIyJTNBJTVCJTIyX25hbWUlMjIlMkMlMjJkZXNjcmlwdGlvbi5jb2xsZWN0aW9uJTIyJTJDJTIycHJvdiUyMiUyQyUyMmRlc2NyaXB0aW9uLnRpdGxlJTIyJTJDJTIyZGVzY3JpcHRpb24ucHVibGljYXRpb25fZGF0ZSUyMiUyQyUyMmRlc2NyaXB0aW9uLnVybF9yZWZzJTIyJTVEJTJDJTIyaXRlbUluZGV4JTIyJTNBMCUyQyUyMnBhZ2VTaXplJTIyJTNBMTAlMkMlMjJzZWFyY2hBZnRlckhpc3RvcnklMjIlM0ElNUIlNUQlMkMlMjJ2aWV3VHlwZSUyMiUzQSUyMnNuaXBwZXRzJTIyJTJDJTIycmVjb3JkU2VsZWN0aW9uJTIyJTNBJTdCJTIycmVjb3JkJTIyJTNBJTdCJTIyaWQlMjIlM0ElMjIzYmMxMmZmMzZjZTA1OGJjMGYzY2EwYTNlMmRhNjJmODJkYjFkODEwZTM1NjgxYmFlODU0ZmMyNDMxMGNkNjk4JTIyJTdEJTdEJTdE\"  target=\"_blank\"> DS </a></td>\n",
       "      <td id=\"T_55e12_row16_col6\" class=\"data row16 col6\" >1807.10783</td>\n",
       "      <td id=\"T_55e12_row16_col7\" class=\"data row16 col7\" >main-text</td>\n",
       "    </tr>\n",
       "    <tr>\n",
       "      <th id=\"T_55e12_level0_row17\" class=\"row_heading level0 row17\" >17</th>\n",
       "      <td id=\"T_55e12_row17_col0\" class=\"data row17 col0\" >Organic Solar Cells; Fabrication Technique, Operating Principle,\n",
       "  Characterization and Improvement</td>\n",
       "      <td id=\"T_55e12_row17_col1\" class=\"data row17 col1\" >Fahmi F. Muhammadsharif</td>\n",
       "      <td id=\"T_55e12_row17_col2\" class=\"data row17 col2\" >The <span style='font-weight: bold; background-color: #FFFF00'>power</span> <span style='font-weight: bold; background-color: #FFFF00'>conversion</span> <span style='font-weight: bold; background-color: #FFFF00'>efficiency</span> of these devices has been significantly increased over the past decades from 1% in 1986 to 5% in 2005 and to up to 13% in 2017 thanks to the molecular optimization and the use of non-fullerene acceptors in their active materials.</td>\n",
       "      <td id=\"T_55e12_row17_col3\" class=\"data row17 col3\" ><a href=\"https://arxiv.org/abs/2007.12734\"  target=\"_blank\"> arXiv </a></td>\n",
       "      <td id=\"T_55e12_row17_col4\" class=\"data row17 col4\" ></td>\n",
       "      <td id=\"T_55e12_row17_col5\" class=\"data row17 col5\" ><a href=\"https://sds.app.accelerate.science/projects/1234567890abcdefghijklmnopqrstvwyz123456/library/public?search=JTdCJTIyY29sbGVjdGlvbnMlMjIlM0ElNUIlMjJhcnhpdi1hYnN0cmFjdCUyMiU1RCUyQyUyMnR5cGUlMjIlM0ElMjJEb2N1bWVudCUyMiUyQyUyMmV4cHJlc3Npb24lMjIlM0ElMjJmaWxlLWluZm8uZG9jdW1lbnQtaGFzaCUzQSUyMCU1QyUyMjNlZTY0ZDA0ZjE5MDdkNDdjMGEwNzM4YzI3MTAzZTQyYmE5MmRiOTYxZWQ2OGNkMTg2YmQ4YTZhYjI0N2JlNTYlNUMlMjIlMjIlMkMlMjJmaWx0ZXJzJTIyJTNBJTVCJTVEJTJDJTIyc2VsZWN0JTIyJTNBJTVCJTIyX25hbWUlMjIlMkMlMjJkZXNjcmlwdGlvbi5jb2xsZWN0aW9uJTIyJTJDJTIycHJvdiUyMiUyQyUyMmRlc2NyaXB0aW9uLnRpdGxlJTIyJTJDJTIyZGVzY3JpcHRpb24ucHVibGljYXRpb25fZGF0ZSUyMiUyQyUyMmRlc2NyaXB0aW9uLnVybF9yZWZzJTIyJTVEJTJDJTIyaXRlbUluZGV4JTIyJTNBMCUyQyUyMnBhZ2VTaXplJTIyJTNBMTAlMkMlMjJzZWFyY2hBZnRlckhpc3RvcnklMjIlM0ElNUIlNUQlMkMlMjJ2aWV3VHlwZSUyMiUzQSUyMnNuaXBwZXRzJTIyJTJDJTIycmVjb3JkU2VsZWN0aW9uJTIyJTNBJTdCJTIycmVjb3JkJTIyJTNBJTdCJTIyaWQlMjIlM0ElMjIzZWU2NGQwNGYxOTA3ZDQ3YzBhMDczOGMyNzEwM2U0MmJhOTJkYjk2MWVkNjhjZDE4NmJkOGE2YWIyNDdiZTU2JTIyJTdEJTdEJTdE\"  target=\"_blank\"> DS </a></td>\n",
       "      <td id=\"T_55e12_row17_col6\" class=\"data row17 col6\" >2007.12734</td>\n",
       "      <td id=\"T_55e12_row17_col7\" class=\"data row17 col7\" >main-text</td>\n",
       "    </tr>\n",
       "    <tr>\n",
       "      <th id=\"T_55e12_level0_row18\" class=\"row_heading level0 row18\" >18</th>\n",
       "      <td id=\"T_55e12_row18_col0\" class=\"data row18 col0\" >Ultrafast polarization control of zero-bias photocurrent and terahertz\n",
       "  emission in hybrid organic perovskites</td>\n",
       "      <td id=\"T_55e12_row18_col1\" class=\"data row18 col1\" >Petr A. Obraztsov,Dmitry Lyashenko,Pavel A. Chizhov,Kuniaki Konishi,Natsuki Nemoto,Makoto Kuwata-Gonokami,Eric Welch,Alexander N. Obraztsov,Alex Zakhidov</td>\n",
       "      <td id=\"T_55e12_row18_col2\" class=\"data row18 col2\" >Methylammonium lead iodide (MAPI) is a benchmark hybrid <span style='font-weight: bold; background-color: #FFFF00'>organic</span> perovskite material, which is used for the low-cost, printed solar cells with over 20 percent <span style='font-weight: bold; background-color: #FFFF00'>power</span> <span style='font-weight: bold; background-color: #FFFF00'>conversion</span> <span style='font-weight: bold; background-color: #FFFF00'>efficiency</span>.</td>\n",
       "      <td id=\"T_55e12_row18_col3\" class=\"data row18 col3\" ><a href=\"https://arxiv.org/abs/1710.09728\"  target=\"_blank\"> arXiv </a></td>\n",
       "      <td id=\"T_55e12_row18_col4\" class=\"data row18 col4\" ><a href=\"https://doi.org/10.1038/s42005-018-0013-8\"  target=\"_blank\"> DOI </a></td>\n",
       "      <td id=\"T_55e12_row18_col5\" class=\"data row18 col5\" ><a href=\"https://sds.app.accelerate.science/projects/1234567890abcdefghijklmnopqrstvwyz123456/library/public?search=JTdCJTIyY29sbGVjdGlvbnMlMjIlM0ElNUIlMjJhcnhpdi1hYnN0cmFjdCUyMiU1RCUyQyUyMnR5cGUlMjIlM0ElMjJEb2N1bWVudCUyMiUyQyUyMmV4cHJlc3Npb24lMjIlM0ElMjJmaWxlLWluZm8uZG9jdW1lbnQtaGFzaCUzQSUyMCU1QyUyMjNmYjRkN2RjZTMzNjYwMjYzZjEyNzk4MWM4YWZlY2VhOGFhMGY1Njg4NzU1MzQ2Nzg2NjI0NWRhOWViY2VkYzMlNUMlMjIlMjIlMkMlMjJmaWx0ZXJzJTIyJTNBJTVCJTVEJTJDJTIyc2VsZWN0JTIyJTNBJTVCJTIyX25hbWUlMjIlMkMlMjJkZXNjcmlwdGlvbi5jb2xsZWN0aW9uJTIyJTJDJTIycHJvdiUyMiUyQyUyMmRlc2NyaXB0aW9uLnRpdGxlJTIyJTJDJTIyZGVzY3JpcHRpb24ucHVibGljYXRpb25fZGF0ZSUyMiUyQyUyMmRlc2NyaXB0aW9uLnVybF9yZWZzJTIyJTVEJTJDJTIyaXRlbUluZGV4JTIyJTNBMCUyQyUyMnBhZ2VTaXplJTIyJTNBMTAlMkMlMjJzZWFyY2hBZnRlckhpc3RvcnklMjIlM0ElNUIlNUQlMkMlMjJ2aWV3VHlwZSUyMiUzQSUyMnNuaXBwZXRzJTIyJTJDJTIycmVjb3JkU2VsZWN0aW9uJTIyJTNBJTdCJTIycmVjb3JkJTIyJTNBJTdCJTIyaWQlMjIlM0ElMjIzZmI0ZDdkY2UzMzY2MDI2M2YxMjc5ODFjOGFmZWNlYThhYTBmNTY4ODc1NTM0Njc4NjYyNDVkYTllYmNlZGMzJTIyJTdEJTdEJTdE\"  target=\"_blank\"> DS </a></td>\n",
       "      <td id=\"T_55e12_row18_col6\" class=\"data row18 col6\" >1710.09728</td>\n",
       "      <td id=\"T_55e12_row18_col7\" class=\"data row18 col7\" >main-text</td>\n",
       "    </tr>\n",
       "    <tr>\n",
       "      <th id=\"T_55e12_level0_row19\" class=\"row_heading level0 row19\" >19</th>\n",
       "      <td id=\"T_55e12_row19_col0\" class=\"data row19 col0\" >Exciton delocalization incorporated drift-diffusion model for\n",
       "  bulk-heterojunction organic solar cells</td>\n",
       "      <td id=\"T_55e12_row19_col1\" class=\"data row19 col1\" >Zi Shuai Wang,Wei E. I. Sha,Wallace C. H. Choy</td>\n",
       "      <td id=\"T_55e12_row19_col2\" class=\"data row19 col2\" >The theoretical results match well with the state-of-the-art high-performance <span style='font-weight: bold; background-color: #FFFF00'>organic</span> solar cells.</td>\n",
       "      <td id=\"T_55e12_row19_col3\" class=\"data row19 col3\" ><a href=\"https://arxiv.org/abs/1612.01083\"  target=\"_blank\"> arXiv </a></td>\n",
       "      <td id=\"T_55e12_row19_col4\" class=\"data row19 col4\" ><a href=\"https://doi.org/10.1063/1.4970958\"  target=\"_blank\"> DOI </a></td>\n",
       "      <td id=\"T_55e12_row19_col5\" class=\"data row19 col5\" ><a href=\"https://sds.app.accelerate.science/projects/1234567890abcdefghijklmnopqrstvwyz123456/library/public?search=JTdCJTIyY29sbGVjdGlvbnMlMjIlM0ElNUIlMjJhcnhpdi1hYnN0cmFjdCUyMiU1RCUyQyUyMnR5cGUlMjIlM0ElMjJEb2N1bWVudCUyMiUyQyUyMmV4cHJlc3Npb24lMjIlM0ElMjJmaWxlLWluZm8uZG9jdW1lbnQtaGFzaCUzQSUyMCU1QyUyMjQyYzljNDhkNWU3NzdhMDQ2ZGI2OGM5ZjE2OTU3MjA2N2YzMWFiNjI5NzRmMjE3MTE2YTU3YTZmNDM5NjQwNjQlNUMlMjIlMjIlMkMlMjJmaWx0ZXJzJTIyJTNBJTVCJTVEJTJDJTIyc2VsZWN0JTIyJTNBJTVCJTIyX25hbWUlMjIlMkMlMjJkZXNjcmlwdGlvbi5jb2xsZWN0aW9uJTIyJTJDJTIycHJvdiUyMiUyQyUyMmRlc2NyaXB0aW9uLnRpdGxlJTIyJTJDJTIyZGVzY3JpcHRpb24ucHVibGljYXRpb25fZGF0ZSUyMiUyQyUyMmRlc2NyaXB0aW9uLnVybF9yZWZzJTIyJTVEJTJDJTIyaXRlbUluZGV4JTIyJTNBMCUyQyUyMnBhZ2VTaXplJTIyJTNBMTAlMkMlMjJzZWFyY2hBZnRlckhpc3RvcnklMjIlM0ElNUIlNUQlMkMlMjJ2aWV3VHlwZSUyMiUzQSUyMnNuaXBwZXRzJTIyJTJDJTIycmVjb3JkU2VsZWN0aW9uJTIyJTNBJTdCJTIycmVjb3JkJTIyJTNBJTdCJTIyaWQlMjIlM0ElMjI0MmM5YzQ4ZDVlNzc3YTA0NmRiNjhjOWYxNjk1NzIwNjdmMzFhYjYyOTc0ZjIxNzExNmE1N2E2ZjQzOTY0MDY0JTIyJTdEJTdEJTdE\"  target=\"_blank\"> DS </a></td>\n",
       "      <td id=\"T_55e12_row19_col6\" class=\"data row19 col6\" >1612.01083</td>\n",
       "      <td id=\"T_55e12_row19_col7\" class=\"data row19 col7\" >main-text</td>\n",
       "    </tr>\n",
       "    <tr>\n",
       "      <th id=\"T_55e12_level0_row20\" class=\"row_heading level0 row20\" >20</th>\n",
       "      <td id=\"T_55e12_row20_col0\" class=\"data row20 col0\" >Density-Functional Theory (DFT) and Time-Dependent DFT Study of the\n",
       "  Chemical and Physical Origins of Key Photoproperties of End-Group Derivatives\n",
       "  of the Nonfullerene Bulk Heterojunction Organic Solar Cell Acceptor Molecule\n",
       "  IDIC</td>\n",
       "      <td id=\"T_55e12_row20_col1\" class=\"data row20 col1\" >Taouali W,Alimi K,Nangraj A.S.,Casida M.E</td>\n",
       "      <td id=\"T_55e12_row20_col2\" class=\"data row20 col2\" >We predict that only the candidate molecule with the least good acceptor A, with the highest frontier molecular orbital energies, and one of the larger CV lowest unoccupied molecular orbital (LUMO) highest unoccupied molecular orbital (HOMO) gaps, will yield a PM6:ACC <span style='font-weight: bold; background-color: #FFFF00'>PCE</span> exceeding that of the parent IDIC-4Cl ACC.</td>\n",
       "      <td id=\"T_55e12_row20_col3\" class=\"data row20 col3\" ><a href=\"https://arxiv.org/abs/2305.18085\"  target=\"_blank\"> arXiv </a></td>\n",
       "      <td id=\"T_55e12_row20_col4\" class=\"data row20 col4\" ></td>\n",
       "      <td id=\"T_55e12_row20_col5\" class=\"data row20 col5\" ><a href=\"https://sds.app.accelerate.science/projects/1234567890abcdefghijklmnopqrstvwyz123456/library/public?search=JTdCJTIyY29sbGVjdGlvbnMlMjIlM0ElNUIlMjJhcnhpdi1hYnN0cmFjdCUyMiU1RCUyQyUyMnR5cGUlMjIlM0ElMjJEb2N1bWVudCUyMiUyQyUyMmV4cHJlc3Npb24lMjIlM0ElMjJmaWxlLWluZm8uZG9jdW1lbnQtaGFzaCUzQSUyMCU1QyUyMjQ5YmUyNjMxZWE5ODZiODIwY2JiODdiZjJhMDMyZmIwY2Y4YTcyZDY1NDZjYmExMWUxZTY0NDQyNDI0Zjc5MzQlNUMlMjIlMjIlMkMlMjJmaWx0ZXJzJTIyJTNBJTVCJTVEJTJDJTIyc2VsZWN0JTIyJTNBJTVCJTIyX25hbWUlMjIlMkMlMjJkZXNjcmlwdGlvbi5jb2xsZWN0aW9uJTIyJTJDJTIycHJvdiUyMiUyQyUyMmRlc2NyaXB0aW9uLnRpdGxlJTIyJTJDJTIyZGVzY3JpcHRpb24ucHVibGljYXRpb25fZGF0ZSUyMiUyQyUyMmRlc2NyaXB0aW9uLnVybF9yZWZzJTIyJTVEJTJDJTIyaXRlbUluZGV4JTIyJTNBMCUyQyUyMnBhZ2VTaXplJTIyJTNBMTAlMkMlMjJzZWFyY2hBZnRlckhpc3RvcnklMjIlM0ElNUIlNUQlMkMlMjJ2aWV3VHlwZSUyMiUzQSUyMnNuaXBwZXRzJTIyJTJDJTIycmVjb3JkU2VsZWN0aW9uJTIyJTNBJTdCJTIycmVjb3JkJTIyJTNBJTdCJTIyaWQlMjIlM0ElMjI0OWJlMjYzMWVhOTg2YjgyMGNiYjg3YmYyYTAzMmZiMGNmOGE3MmQ2NTQ2Y2JhMTFlMWU2NDQ0MjQyNGY3OTM0JTIyJTdEJTdEJTdE\"  target=\"_blank\"> DS </a></td>\n",
       "      <td id=\"T_55e12_row20_col6\" class=\"data row20 col6\" >2305.18085</td>\n",
       "      <td id=\"T_55e12_row20_col7\" class=\"data row20 col7\" >main-text</td>\n",
       "    </tr>\n",
       "    <tr>\n",
       "      <th id=\"T_55e12_level0_row21\" class=\"row_heading level0 row21\" >21</th>\n",
       "      <td id=\"T_55e12_row21_col0\" class=\"data row21 col0\" >Photophysical Properties of BODIPY-derivatives for the Implementation of\n",
       "  Organic Solar Cells: A Computational Approach</td>\n",
       "      <td id=\"T_55e12_row21_col1\" class=\"data row21 col1\" >Duvalier Madrid-Usuga,Alejandro Ortiz,John H. Reina</td>\n",
       "      <td id=\"T_55e12_row21_col2\" class=\"data row21 col2\" >The theoretical characterization of the electronic properties of the BODIPY-derivatives here provided, computed with a combination of ab-initio methods and quantum models, can be readily applied to other sets of molecular complexes in order to hierarchize optimal <span style='font-weight: bold; background-color: #FFFF00'>power</span> <span style='font-weight: bold; background-color: #FFFF00'>conversion</span> <span style='font-weight: bold; background-color: #FFFF00'>efficiency</span>.</td>\n",
       "      <td id=\"T_55e12_row21_col3\" class=\"data row21 col3\" ><a href=\"https://arxiv.org/abs/2112.10492\"  target=\"_blank\"> arXiv </a></td>\n",
       "      <td id=\"T_55e12_row21_col4\" class=\"data row21 col4\" ><a href=\"https://doi.org/10.1021/acsomega.1c04598\"  target=\"_blank\"> DOI </a></td>\n",
       "      <td id=\"T_55e12_row21_col5\" class=\"data row21 col5\" ><a href=\"https://sds.app.accelerate.science/projects/1234567890abcdefghijklmnopqrstvwyz123456/library/public?search=JTdCJTIyY29sbGVjdGlvbnMlMjIlM0ElNUIlMjJhcnhpdi1hYnN0cmFjdCUyMiU1RCUyQyUyMnR5cGUlMjIlM0ElMjJEb2N1bWVudCUyMiUyQyUyMmV4cHJlc3Npb24lMjIlM0ElMjJmaWxlLWluZm8uZG9jdW1lbnQtaGFzaCUzQSUyMCU1QyUyMjRhZjYwNWI5YTNjNzA3OGY2MDA1ODgzZWM4MGEyZDRkZTU5YWJiZmRjMDlkODVmZGY2MGNiMDgwYmNmYTA4ZDAlNUMlMjIlMjIlMkMlMjJmaWx0ZXJzJTIyJTNBJTVCJTVEJTJDJTIyc2VsZWN0JTIyJTNBJTVCJTIyX25hbWUlMjIlMkMlMjJkZXNjcmlwdGlvbi5jb2xsZWN0aW9uJTIyJTJDJTIycHJvdiUyMiUyQyUyMmRlc2NyaXB0aW9uLnRpdGxlJTIyJTJDJTIyZGVzY3JpcHRpb24ucHVibGljYXRpb25fZGF0ZSUyMiUyQyUyMmRlc2NyaXB0aW9uLnVybF9yZWZzJTIyJTVEJTJDJTIyaXRlbUluZGV4JTIyJTNBMCUyQyUyMnBhZ2VTaXplJTIyJTNBMTAlMkMlMjJzZWFyY2hBZnRlckhpc3RvcnklMjIlM0ElNUIlNUQlMkMlMjJ2aWV3VHlwZSUyMiUzQSUyMnNuaXBwZXRzJTIyJTJDJTIycmVjb3JkU2VsZWN0aW9uJTIyJTNBJTdCJTIycmVjb3JkJTIyJTNBJTdCJTIyaWQlMjIlM0ElMjI0YWY2MDViOWEzYzcwNzhmNjAwNTg4M2VjODBhMmQ0ZGU1OWFiYmZkYzA5ZDg1ZmRmNjBjYjA4MGJjZmEwOGQwJTIyJTdEJTdEJTdE\"  target=\"_blank\"> DS </a></td>\n",
       "      <td id=\"T_55e12_row21_col6\" class=\"data row21 col6\" >2112.10492</td>\n",
       "      <td id=\"T_55e12_row21_col7\" class=\"data row21 col7\" >main-text</td>\n",
       "    </tr>\n",
       "    <tr>\n",
       "      <th id=\"T_55e12_level0_row22\" class=\"row_heading level0 row22\" >22</th>\n",
       "      <td id=\"T_55e12_row22_col0\" class=\"data row22 col0\" >Enhanced stability of 2D organic-inorganic halide perovskites by doping\n",
       "  and heterostructure engineering</td>\n",
       "      <td id=\"T_55e12_row22_col1\" class=\"data row22 col1\" >Rahul Singh,Prashant Singh,Ganesh Balasubramanian</td>\n",
       "      <td id=\"T_55e12_row22_col2\" class=\"data row22 col2\" >We show that the energetic stability of two-dimensional <span style='font-weight: bold; background-color: #FFFF00'>organic</span>-inorganic halide perovskites can be significantly enhanced by chemically depositing MoS2 monolayer as a precursor in the system by heterostructure engineering.</td>\n",
       "      <td id=\"T_55e12_row22_col3\" class=\"data row22 col3\" ><a href=\"https://arxiv.org/abs/1807.01221\"  target=\"_blank\"> arXiv </a></td>\n",
       "      <td id=\"T_55e12_row22_col4\" class=\"data row22 col4\" ></td>\n",
       "      <td id=\"T_55e12_row22_col5\" class=\"data row22 col5\" ><a href=\"https://sds.app.accelerate.science/projects/1234567890abcdefghijklmnopqrstvwyz123456/library/public?search=JTdCJTIyY29sbGVjdGlvbnMlMjIlM0ElNUIlMjJhcnhpdi1hYnN0cmFjdCUyMiU1RCUyQyUyMnR5cGUlMjIlM0ElMjJEb2N1bWVudCUyMiUyQyUyMmV4cHJlc3Npb24lMjIlM0ElMjJmaWxlLWluZm8uZG9jdW1lbnQtaGFzaCUzQSUyMCU1QyUyMjUwOGQ3YmFiOGE1ZWEwZDQ4OWIzZGMzOGMzMDI2MTJhMzUxZmFiZTJiODFjNjdlZjE2ODljZDQ4OGE3ZjYyNzQlNUMlMjIlMjIlMkMlMjJmaWx0ZXJzJTIyJTNBJTVCJTVEJTJDJTIyc2VsZWN0JTIyJTNBJTVCJTIyX25hbWUlMjIlMkMlMjJkZXNjcmlwdGlvbi5jb2xsZWN0aW9uJTIyJTJDJTIycHJvdiUyMiUyQyUyMmRlc2NyaXB0aW9uLnRpdGxlJTIyJTJDJTIyZGVzY3JpcHRpb24ucHVibGljYXRpb25fZGF0ZSUyMiUyQyUyMmRlc2NyaXB0aW9uLnVybF9yZWZzJTIyJTVEJTJDJTIyaXRlbUluZGV4JTIyJTNBMCUyQyUyMnBhZ2VTaXplJTIyJTNBMTAlMkMlMjJzZWFyY2hBZnRlckhpc3RvcnklMjIlM0ElNUIlNUQlMkMlMjJ2aWV3VHlwZSUyMiUzQSUyMnNuaXBwZXRzJTIyJTJDJTIycmVjb3JkU2VsZWN0aW9uJTIyJTNBJTdCJTIycmVjb3JkJTIyJTNBJTdCJTIyaWQlMjIlM0ElMjI1MDhkN2JhYjhhNWVhMGQ0ODliM2RjMzhjMzAyNjEyYTM1MWZhYmUyYjgxYzY3ZWYxNjg5Y2Q0ODhhN2Y2Mjc0JTIyJTdEJTdEJTdE\"  target=\"_blank\"> DS </a></td>\n",
       "      <td id=\"T_55e12_row22_col6\" class=\"data row22 col6\" >1807.01221</td>\n",
       "      <td id=\"T_55e12_row22_col7\" class=\"data row22 col7\" >main-text</td>\n",
       "    </tr>\n",
       "    <tr>\n",
       "      <th id=\"T_55e12_level0_row23\" class=\"row_heading level0 row23\" >23</th>\n",
       "      <td id=\"T_55e12_row23_col0\" class=\"data row23 col0\" >Gate-tunable diode and photovoltaic effect in an organic-2D layered\n",
       "  material p-n junction</td>\n",
       "      <td id=\"T_55e12_row23_col1\" class=\"data row23 col1\" >Sa\\\"ul V\\'elez,David Ciudad,Joshua Island,Michele Buscema,Oihana Txoperena,Subir Parui,Gary A. Steele,F\\`elix Casanova,Herre S. J. van der Zant,Andres Castellanos-Gomez,Luis E. Hueso</td>\n",
       "      <td id=\"T_55e12_row23_col2\" class=\"data row23 col2\" >The extended catalogue of known <span style='font-weight: bold; background-color: #FFFF00'>organic</span> semiconductors and two-dimensional materials offer the prospect for tailoring the properties and the performance of the resulting devices, making <span style='font-weight: bold; background-color: #FFFF00'>organic</span>-2D p-n junctions promising candidates for future technological applications.</td>\n",
       "      <td id=\"T_55e12_row23_col3\" class=\"data row23 col3\" ><a href=\"https://arxiv.org/abs/1512.04484\"  target=\"_blank\"> arXiv </a></td>\n",
       "      <td id=\"T_55e12_row23_col4\" class=\"data row23 col4\" ><a href=\"https://doi.org/10.1039/c5nr04083c\"  target=\"_blank\"> DOI </a></td>\n",
       "      <td id=\"T_55e12_row23_col5\" class=\"data row23 col5\" ><a href=\"https://sds.app.accelerate.science/projects/1234567890abcdefghijklmnopqrstvwyz123456/library/public?search=JTdCJTIyY29sbGVjdGlvbnMlMjIlM0ElNUIlMjJhcnhpdi1hYnN0cmFjdCUyMiU1RCUyQyUyMnR5cGUlMjIlM0ElMjJEb2N1bWVudCUyMiUyQyUyMmV4cHJlc3Npb24lMjIlM0ElMjJmaWxlLWluZm8uZG9jdW1lbnQtaGFzaCUzQSUyMCU1QyUyMjU2MGZjMDAwNWQwOWY3YzE5MGEyNzg1NzExYjU5N2EwMjEzYzZiNzI2NDIyZTY0MmQxZWI4MjgwNmExYTE3YTglNUMlMjIlMjIlMkMlMjJmaWx0ZXJzJTIyJTNBJTVCJTVEJTJDJTIyc2VsZWN0JTIyJTNBJTVCJTIyX25hbWUlMjIlMkMlMjJkZXNjcmlwdGlvbi5jb2xsZWN0aW9uJTIyJTJDJTIycHJvdiUyMiUyQyUyMmRlc2NyaXB0aW9uLnRpdGxlJTIyJTJDJTIyZGVzY3JpcHRpb24ucHVibGljYXRpb25fZGF0ZSUyMiUyQyUyMmRlc2NyaXB0aW9uLnVybF9yZWZzJTIyJTVEJTJDJTIyaXRlbUluZGV4JTIyJTNBMCUyQyUyMnBhZ2VTaXplJTIyJTNBMTAlMkMlMjJzZWFyY2hBZnRlckhpc3RvcnklMjIlM0ElNUIlNUQlMkMlMjJ2aWV3VHlwZSUyMiUzQSUyMnNuaXBwZXRzJTIyJTJDJTIycmVjb3JkU2VsZWN0aW9uJTIyJTNBJTdCJTIycmVjb3JkJTIyJTNBJTdCJTIyaWQlMjIlM0ElMjI1NjBmYzAwMDVkMDlmN2MxOTBhMjc4NTcxMWI1OTdhMDIxM2M2YjcyNjQyMmU2NDJkMWViODI4MDZhMWExN2E4JTIyJTdEJTdEJTdE\"  target=\"_blank\"> DS </a></td>\n",
       "      <td id=\"T_55e12_row23_col6\" class=\"data row23 col6\" >1512.04484</td>\n",
       "      <td id=\"T_55e12_row23_col7\" class=\"data row23 col7\" >main-text</td>\n",
       "    </tr>\n",
       "    <tr>\n",
       "      <th id=\"T_55e12_level0_row24\" class=\"row_heading level0 row24\" >24</th>\n",
       "      <td id=\"T_55e12_row24_col0\" class=\"data row24 col0\" >The impact of the halide cage on the electronic properties of fully\n",
       "  inorganic caesium lead halide perovskites</td>\n",
       "      <td id=\"T_55e12_row24_col1\" class=\"data row24 col1\" >Z. Yang,A. Surrente,K. Galkowski,A. Miyata,O. Portugall,R. J. Sutton,A. A. Haghighirad,H. J. Snaith,D. K. Maude,P. Plochocka,R. J. Nicholas</td>\n",
       "      <td id=\"T_55e12_row24_col2\" class=\"data row24 col2\" >The experimentally determined dielectric constants indicate that at low temperature, when the motion of the <span style='font-weight: bold; background-color: #FFFF00'>organic</span> cation is frozen, the dielectric screening mechanism is essentially the same both for hybrid and inorganic perovskites, and is dominated by the relative motion of atoms within the lead-halide cage.</td>\n",
       "      <td id=\"T_55e12_row24_col3\" class=\"data row24 col3\" ><a href=\"https://arxiv.org/abs/1706.04489\"  target=\"_blank\"> arXiv </a></td>\n",
       "      <td id=\"T_55e12_row24_col4\" class=\"data row24 col4\" ><a href=\"https://doi.org/10.1021/acsenergylett.7b00416\"  target=\"_blank\"> DOI </a></td>\n",
       "      <td id=\"T_55e12_row24_col5\" class=\"data row24 col5\" ><a href=\"https://sds.app.accelerate.science/projects/1234567890abcdefghijklmnopqrstvwyz123456/library/public?search=JTdCJTIyY29sbGVjdGlvbnMlMjIlM0ElNUIlMjJhcnhpdi1hYnN0cmFjdCUyMiU1RCUyQyUyMnR5cGUlMjIlM0ElMjJEb2N1bWVudCUyMiUyQyUyMmV4cHJlc3Npb24lMjIlM0ElMjJmaWxlLWluZm8uZG9jdW1lbnQtaGFzaCUzQSUyMCU1QyUyMjU5YWM5ZWY0NTg0MTQzYTUzY2UxYThjNTlmNzI5Yjc1NWU5NDYyMjdhY2E3NGUzNzFjZjlmMTUxMGEwMjBmYzUlNUMlMjIlMjIlMkMlMjJmaWx0ZXJzJTIyJTNBJTVCJTVEJTJDJTIyc2VsZWN0JTIyJTNBJTVCJTIyX25hbWUlMjIlMkMlMjJkZXNjcmlwdGlvbi5jb2xsZWN0aW9uJTIyJTJDJTIycHJvdiUyMiUyQyUyMmRlc2NyaXB0aW9uLnRpdGxlJTIyJTJDJTIyZGVzY3JpcHRpb24ucHVibGljYXRpb25fZGF0ZSUyMiUyQyUyMmRlc2NyaXB0aW9uLnVybF9yZWZzJTIyJTVEJTJDJTIyaXRlbUluZGV4JTIyJTNBMCUyQyUyMnBhZ2VTaXplJTIyJTNBMTAlMkMlMjJzZWFyY2hBZnRlckhpc3RvcnklMjIlM0ElNUIlNUQlMkMlMjJ2aWV3VHlwZSUyMiUzQSUyMnNuaXBwZXRzJTIyJTJDJTIycmVjb3JkU2VsZWN0aW9uJTIyJTNBJTdCJTIycmVjb3JkJTIyJTNBJTdCJTIyaWQlMjIlM0ElMjI1OWFjOWVmNDU4NDE0M2E1M2NlMWE4YzU5ZjcyOWI3NTVlOTQ2MjI3YWNhNzRlMzcxY2Y5ZjE1MTBhMDIwZmM1JTIyJTdEJTdEJTdE\"  target=\"_blank\"> DS </a></td>\n",
       "      <td id=\"T_55e12_row24_col6\" class=\"data row24 col6\" >1706.04489</td>\n",
       "      <td id=\"T_55e12_row24_col7\" class=\"data row24 col7\" >main-text</td>\n",
       "    </tr>\n",
       "    <tr>\n",
       "      <th id=\"T_55e12_level0_row25\" class=\"row_heading level0 row25\" >25</th>\n",
       "      <td id=\"T_55e12_row25_col0\" class=\"data row25 col0\" >Direct quantification of quasi-Fermi level splitting in organic\n",
       "  semiconductor devices</td>\n",
       "      <td id=\"T_55e12_row25_col1\" class=\"data row25 col1\" >Drew B. Riley,Oskar J. Sandberg,Nora M. Wilson,Wei Li,Stefan Zeiske,Nasim Zarrabi,Paul Meredith,Ronald Osterbacka,Ardalan Armin</td>\n",
       "      <td id=\"T_55e12_row25_col2\" class=\"data row25 col2\" >The reported method will be useful in not only characterizing and understanding losses in <span style='font-weight: bold; background-color: #FFFF00'>organic</span> solar cells, but also other device platforms such as light-emitting diodes and photodetectors.</td>\n",
       "      <td id=\"T_55e12_row25_col3\" class=\"data row25 col3\" ><a href=\"https://arxiv.org/abs/2103.01267\"  target=\"_blank\"> arXiv </a></td>\n",
       "      <td id=\"T_55e12_row25_col4\" class=\"data row25 col4\" ><a href=\"https://doi.org/10.1103/PhysRevApplied.15.064035\"  target=\"_blank\"> DOI </a></td>\n",
       "      <td id=\"T_55e12_row25_col5\" class=\"data row25 col5\" ><a href=\"https://sds.app.accelerate.science/projects/1234567890abcdefghijklmnopqrstvwyz123456/library/public?search=JTdCJTIyY29sbGVjdGlvbnMlMjIlM0ElNUIlMjJhcnhpdi1hYnN0cmFjdCUyMiU1RCUyQyUyMnR5cGUlMjIlM0ElMjJEb2N1bWVudCUyMiUyQyUyMmV4cHJlc3Npb24lMjIlM0ElMjJmaWxlLWluZm8uZG9jdW1lbnQtaGFzaCUzQSUyMCU1QyUyMjU5ZGM5MTAxMmJjMDE3ZWI1ZWIwNTE5YTRjZGRmZTk3Yjc0ZDlhOTYyZTk1NDQwMjMxMmQ3NzFiN2VkNWFlNTIlNUMlMjIlMjIlMkMlMjJmaWx0ZXJzJTIyJTNBJTVCJTVEJTJDJTIyc2VsZWN0JTIyJTNBJTVCJTIyX25hbWUlMjIlMkMlMjJkZXNjcmlwdGlvbi5jb2xsZWN0aW9uJTIyJTJDJTIycHJvdiUyMiUyQyUyMmRlc2NyaXB0aW9uLnRpdGxlJTIyJTJDJTIyZGVzY3JpcHRpb24ucHVibGljYXRpb25fZGF0ZSUyMiUyQyUyMmRlc2NyaXB0aW9uLnVybF9yZWZzJTIyJTVEJTJDJTIyaXRlbUluZGV4JTIyJTNBMCUyQyUyMnBhZ2VTaXplJTIyJTNBMTAlMkMlMjJzZWFyY2hBZnRlckhpc3RvcnklMjIlM0ElNUIlNUQlMkMlMjJ2aWV3VHlwZSUyMiUzQSUyMnNuaXBwZXRzJTIyJTJDJTIycmVjb3JkU2VsZWN0aW9uJTIyJTNBJTdCJTIycmVjb3JkJTIyJTNBJTdCJTIyaWQlMjIlM0ElMjI1OWRjOTEwMTJiYzAxN2ViNWViMDUxOWE0Y2RkZmU5N2I3NGQ5YTk2MmU5NTQ0MDIzMTJkNzcxYjdlZDVhZTUyJTIyJTdEJTdEJTdE\"  target=\"_blank\"> DS </a></td>\n",
       "      <td id=\"T_55e12_row25_col6\" class=\"data row25 col6\" >2103.01267</td>\n",
       "      <td id=\"T_55e12_row25_col7\" class=\"data row25 col7\" >main-text</td>\n",
       "    </tr>\n",
       "    <tr>\n",
       "      <th id=\"T_55e12_level0_row26\" class=\"row_heading level0 row26\" >26</th>\n",
       "      <td id=\"T_55e12_row26_col0\" class=\"data row26 col0\" >Hybrid Halide Perovskites: Fundamental Theory and Materials Design</td>\n",
       "      <td id=\"T_55e12_row26_col1\" class=\"data row26 col1\" >Marina R. Filip,George Volonakis,Feliciano Giustino</td>\n",
       "      <td id=\"T_55e12_row26_col2\" class=\"data row26 col2\" >The remarkable development of perovskite solar cells is due to the ideal optoelectronic properties of <span style='font-weight: bold; background-color: #FFFF00'>organic</span>-inorganic lead-halide perovskites.</td>\n",
       "      <td id=\"T_55e12_row26_col3\" class=\"data row26 col3\" ><a href=\"https://arxiv.org/abs/1808.06526\"  target=\"_blank\"> arXiv </a></td>\n",
       "      <td id=\"T_55e12_row26_col4\" class=\"data row26 col4\" ><a href=\"https://doi.org/10.1007/978-3-319-50257-1_23-1\"  target=\"_blank\"> DOI </a></td>\n",
       "      <td id=\"T_55e12_row26_col5\" class=\"data row26 col5\" ><a href=\"https://sds.app.accelerate.science/projects/1234567890abcdefghijklmnopqrstvwyz123456/library/public?search=JTdCJTIyY29sbGVjdGlvbnMlMjIlM0ElNUIlMjJhcnhpdi1hYnN0cmFjdCUyMiU1RCUyQyUyMnR5cGUlMjIlM0ElMjJEb2N1bWVudCUyMiUyQyUyMmV4cHJlc3Npb24lMjIlM0ElMjJmaWxlLWluZm8uZG9jdW1lbnQtaGFzaCUzQSUyMCU1QyUyMjViMmYzZjliOTRlNDAyNTM1NDE3YWNlMGUxMGI2MmUxOWVhOWViNDFiZmVmZDk1YTIxZDUzOGJkOWNiMDA3ZmUlNUMlMjIlMjIlMkMlMjJmaWx0ZXJzJTIyJTNBJTVCJTVEJTJDJTIyc2VsZWN0JTIyJTNBJTVCJTIyX25hbWUlMjIlMkMlMjJkZXNjcmlwdGlvbi5jb2xsZWN0aW9uJTIyJTJDJTIycHJvdiUyMiUyQyUyMmRlc2NyaXB0aW9uLnRpdGxlJTIyJTJDJTIyZGVzY3JpcHRpb24ucHVibGljYXRpb25fZGF0ZSUyMiUyQyUyMmRlc2NyaXB0aW9uLnVybF9yZWZzJTIyJTVEJTJDJTIyaXRlbUluZGV4JTIyJTNBMCUyQyUyMnBhZ2VTaXplJTIyJTNBMTAlMkMlMjJzZWFyY2hBZnRlckhpc3RvcnklMjIlM0ElNUIlNUQlMkMlMjJ2aWV3VHlwZSUyMiUzQSUyMnNuaXBwZXRzJTIyJTJDJTIycmVjb3JkU2VsZWN0aW9uJTIyJTNBJTdCJTIycmVjb3JkJTIyJTNBJTdCJTIyaWQlMjIlM0ElMjI1YjJmM2Y5Yjk0ZTQwMjUzNTQxN2FjZTBlMTBiNjJlMTllYTllYjQxYmZlZmQ5NWEyMWQ1MzhiZDljYjAwN2ZlJTIyJTdEJTdEJTdE\"  target=\"_blank\"> DS </a></td>\n",
       "      <td id=\"T_55e12_row26_col6\" class=\"data row26 col6\" >1808.06526</td>\n",
       "      <td id=\"T_55e12_row26_col7\" class=\"data row26 col7\" >main-text</td>\n",
       "    </tr>\n",
       "    <tr>\n",
       "      <th id=\"T_55e12_level0_row27\" class=\"row_heading level0 row27\" >27</th>\n",
       "      <td id=\"T_55e12_row27_col0\" class=\"data row27 col0\" >Unraveling Energetic Disorder in Organic Bulk Heterojunction\n",
       "  Photovoltaics by Capacitance-Voltage Spectroscopy</td>\n",
       "      <td id=\"T_55e12_row27_col1\" class=\"data row27 col1\" >Xixiang Zhu,Kai Wang,Changfeng Han,Qin Yang,Xiaojuan Sun,Haomiao Yu,Ming Shao,Fujun Zhang,Bin Hu</td>\n",
       "      <td id=\"T_55e12_row27_col2\" class=\"data row27 col2\" >Our study provides device physicists a different perspective view for tailoring the <span style='font-weight: bold; background-color: #FFFF00'>organic</span> energetic disorder parameter via interfaces in order to enhance photo-electron conversion efficiencies (<span style='font-weight: bold; background-color: #FFFF00'>PCE</span>).</td>\n",
       "      <td id=\"T_55e12_row27_col3\" class=\"data row27 col3\" ><a href=\"https://arxiv.org/abs/1702.04484\"  target=\"_blank\"> arXiv </a></td>\n",
       "      <td id=\"T_55e12_row27_col4\" class=\"data row27 col4\" ></td>\n",
       "      <td id=\"T_55e12_row27_col5\" class=\"data row27 col5\" ><a href=\"https://sds.app.accelerate.science/projects/1234567890abcdefghijklmnopqrstvwyz123456/library/public?search=JTdCJTIyY29sbGVjdGlvbnMlMjIlM0ElNUIlMjJhcnhpdi1hYnN0cmFjdCUyMiU1RCUyQyUyMnR5cGUlMjIlM0ElMjJEb2N1bWVudCUyMiUyQyUyMmV4cHJlc3Npb24lMjIlM0ElMjJmaWxlLWluZm8uZG9jdW1lbnQtaGFzaCUzQSUyMCU1QyUyMjViZmVjZTQ1YjM0ZThkNjE4MzFmNjMwZmQwNDY1NDM4OTZiMGZhMDU0NzRiNjBmYzlhNjA4N2IzNTcwOWEwMzIlNUMlMjIlMjIlMkMlMjJmaWx0ZXJzJTIyJTNBJTVCJTVEJTJDJTIyc2VsZWN0JTIyJTNBJTVCJTIyX25hbWUlMjIlMkMlMjJkZXNjcmlwdGlvbi5jb2xsZWN0aW9uJTIyJTJDJTIycHJvdiUyMiUyQyUyMmRlc2NyaXB0aW9uLnRpdGxlJTIyJTJDJTIyZGVzY3JpcHRpb24ucHVibGljYXRpb25fZGF0ZSUyMiUyQyUyMmRlc2NyaXB0aW9uLnVybF9yZWZzJTIyJTVEJTJDJTIyaXRlbUluZGV4JTIyJTNBMCUyQyUyMnBhZ2VTaXplJTIyJTNBMTAlMkMlMjJzZWFyY2hBZnRlckhpc3RvcnklMjIlM0ElNUIlNUQlMkMlMjJ2aWV3VHlwZSUyMiUzQSUyMnNuaXBwZXRzJTIyJTJDJTIycmVjb3JkU2VsZWN0aW9uJTIyJTNBJTdCJTIycmVjb3JkJTIyJTNBJTdCJTIyaWQlMjIlM0ElMjI1YmZlY2U0NWIzNGU4ZDYxODMxZjYzMGZkMDQ2NTQzODk2YjBmYTA1NDc0YjYwZmM5YTYwODdiMzU3MDlhMDMyJTIyJTdEJTdEJTdE\"  target=\"_blank\"> DS </a></td>\n",
       "      <td id=\"T_55e12_row27_col6\" class=\"data row27 col6\" >1702.04484</td>\n",
       "      <td id=\"T_55e12_row27_col7\" class=\"data row27 col7\" >main-text</td>\n",
       "    </tr>\n",
       "    <tr>\n",
       "      <th id=\"T_55e12_level0_row28\" class=\"row_heading level0 row28\" >28</th>\n",
       "      <td id=\"T_55e12_row28_col0\" class=\"data row28 col0\" >A van der Waals pn heterojunction with organic/inorganic semiconductors</td>\n",
       "      <td id=\"T_55e12_row28_col1\" class=\"data row28 col1\" >Daowei He,Yiming Pan,Haiyan Nan,Shuai Gu,Ziyi Yang,Bing Wu,Xiaoguang Luo,Bingchen Xu,Yuhan Zhang,Yun Li,Zhenhua Ni,Baigeng Wang,Jia Zhu,Yang Chai,Yi Shi,Xinran Wang</td>\n",
       "      <td id=\"T_55e12_row28_col2\" class=\"data row28 col2\" >Our devices also exhibit photovoltaic responses with <span style='font-weight: bold; background-color: #FFFF00'>power</span> <span style='font-weight: bold; background-color: #FFFF00'>conversion</span> <span style='font-weight: bold; background-color: #FFFF00'>efficiency</span> of 0.31% and photoresponsivity of 22mA/W.</td>\n",
       "      <td id=\"T_55e12_row28_col3\" class=\"data row28 col3\" ><a href=\"https://arxiv.org/abs/1511.02361\"  target=\"_blank\"> arXiv </a></td>\n",
       "      <td id=\"T_55e12_row28_col4\" class=\"data row28 col4\" ></td>\n",
       "      <td id=\"T_55e12_row28_col5\" class=\"data row28 col5\" ><a href=\"https://sds.app.accelerate.science/projects/1234567890abcdefghijklmnopqrstvwyz123456/library/public?search=JTdCJTIyY29sbGVjdGlvbnMlMjIlM0ElNUIlMjJhcnhpdi1hYnN0cmFjdCUyMiU1RCUyQyUyMnR5cGUlMjIlM0ElMjJEb2N1bWVudCUyMiUyQyUyMmV4cHJlc3Npb24lMjIlM0ElMjJmaWxlLWluZm8uZG9jdW1lbnQtaGFzaCUzQSUyMCU1QyUyMjVlZDc5NzJhNTcxNGZlOTM1YWE2MzYwOGQxZDdlMDc2MWQyNThhZTEwYjFkNjkzYmM1YTMxMWVmZWQ4NTM0YzAlNUMlMjIlMjIlMkMlMjJmaWx0ZXJzJTIyJTNBJTVCJTVEJTJDJTIyc2VsZWN0JTIyJTNBJTVCJTIyX25hbWUlMjIlMkMlMjJkZXNjcmlwdGlvbi5jb2xsZWN0aW9uJTIyJTJDJTIycHJvdiUyMiUyQyUyMmRlc2NyaXB0aW9uLnRpdGxlJTIyJTJDJTIyZGVzY3JpcHRpb24ucHVibGljYXRpb25fZGF0ZSUyMiUyQyUyMmRlc2NyaXB0aW9uLnVybF9yZWZzJTIyJTVEJTJDJTIyaXRlbUluZGV4JTIyJTNBMCUyQyUyMnBhZ2VTaXplJTIyJTNBMTAlMkMlMjJzZWFyY2hBZnRlckhpc3RvcnklMjIlM0ElNUIlNUQlMkMlMjJ2aWV3VHlwZSUyMiUzQSUyMnNuaXBwZXRzJTIyJTJDJTIycmVjb3JkU2VsZWN0aW9uJTIyJTNBJTdCJTIycmVjb3JkJTIyJTNBJTdCJTIyaWQlMjIlM0ElMjI1ZWQ3OTcyYTU3MTRmZTkzNWFhNjM2MDhkMWQ3ZTA3NjFkMjU4YWUxMGIxZDY5M2JjNWEzMTFlZmVkODUzNGMwJTIyJTdEJTdEJTdE\"  target=\"_blank\"> DS </a></td>\n",
       "      <td id=\"T_55e12_row28_col6\" class=\"data row28 col6\" >1511.02361</td>\n",
       "      <td id=\"T_55e12_row28_col7\" class=\"data row28 col7\" >main-text</td>\n",
       "    </tr>\n",
       "    <tr>\n",
       "      <th id=\"T_55e12_level0_row29\" class=\"row_heading level0 row29\" >29</th>\n",
       "      <td id=\"T_55e12_row29_col0\" class=\"data row29 col0\" >Efficiency Enhancement in Organic Solar Cells by Incorporating\n",
       "  Silica-coated Gold Nanorods at the Buffer/Active interface</td>\n",
       "      <td id=\"T_55e12_row29_col1\" class=\"data row29 col1\" >Haoyang Zhao,Fan Yang,Peiqian Tong,Yanxia Cui,Yuying Hao,Qinjun Sun,Fang Shi,Qiuqiang Zhan,Hua Wang,Furong Zhu</td>\n",
       "      <td id=\"T_55e12_row29_col2\" class=\"data row29 col2\" >As a result, while the high open circuit voltage being maintained, the optimized plasmonic OSCs possess an increased short circuit current, and correspondingly an elevated <span style='font-weight: bold; background-color: #FFFF00'>power</span> <span style='font-weight: bold; background-color: #FFFF00'>conversion</span> <span style='font-weight: bold; background-color: #FFFF00'>efficiency</span> with the enhancement factor of ~11%.</td>\n",
       "      <td id=\"T_55e12_row29_col3\" class=\"data row29 col3\" ><a href=\"https://arxiv.org/abs/1504.08124\"  target=\"_blank\"> arXiv </a></td>\n",
       "      <td id=\"T_55e12_row29_col4\" class=\"data row29 col4\" ></td>\n",
       "      <td id=\"T_55e12_row29_col5\" class=\"data row29 col5\" ><a href=\"https://sds.app.accelerate.science/projects/1234567890abcdefghijklmnopqrstvwyz123456/library/public?search=JTdCJTIyY29sbGVjdGlvbnMlMjIlM0ElNUIlMjJhcnhpdi1hYnN0cmFjdCUyMiU1RCUyQyUyMnR5cGUlMjIlM0ElMjJEb2N1bWVudCUyMiUyQyUyMmV4cHJlc3Npb24lMjIlM0ElMjJmaWxlLWluZm8uZG9jdW1lbnQtaGFzaCUzQSUyMCU1QyUyMjYwYzlkZjFjZjhjY2ExNmRkOGM0OGVlMDZkODBkOTdlMjdmMjZlOWZiMDRhZWI3Yzk1MmNlZjZjYzkyNzkyOGIlNUMlMjIlMjIlMkMlMjJmaWx0ZXJzJTIyJTNBJTVCJTVEJTJDJTIyc2VsZWN0JTIyJTNBJTVCJTIyX25hbWUlMjIlMkMlMjJkZXNjcmlwdGlvbi5jb2xsZWN0aW9uJTIyJTJDJTIycHJvdiUyMiUyQyUyMmRlc2NyaXB0aW9uLnRpdGxlJTIyJTJDJTIyZGVzY3JpcHRpb24ucHVibGljYXRpb25fZGF0ZSUyMiUyQyUyMmRlc2NyaXB0aW9uLnVybF9yZWZzJTIyJTVEJTJDJTIyaXRlbUluZGV4JTIyJTNBMCUyQyUyMnBhZ2VTaXplJTIyJTNBMTAlMkMlMjJzZWFyY2hBZnRlckhpc3RvcnklMjIlM0ElNUIlNUQlMkMlMjJ2aWV3VHlwZSUyMiUzQSUyMnNuaXBwZXRzJTIyJTJDJTIycmVjb3JkU2VsZWN0aW9uJTIyJTNBJTdCJTIycmVjb3JkJTIyJTNBJTdCJTIyaWQlMjIlM0ElMjI2MGM5ZGYxY2Y4Y2NhMTZkZDhjNDhlZTA2ZDgwZDk3ZTI3ZjI2ZTlmYjA0YWViN2M5NTJjZWY2Y2M5Mjc5MjhiJTIyJTdEJTdEJTdE\"  target=\"_blank\"> DS </a></td>\n",
       "      <td id=\"T_55e12_row29_col6\" class=\"data row29 col6\" >1504.08124</td>\n",
       "      <td id=\"T_55e12_row29_col7\" class=\"data row29 col7\" >main-text</td>\n",
       "    </tr>\n",
       "    <tr>\n",
       "      <th id=\"T_55e12_level0_row30\" class=\"row_heading level0 row30\" >30</th>\n",
       "      <td id=\"T_55e12_row30_col0\" class=\"data row30 col0\" >Understanding the Effect of Lead Iodide Excess on the Performance of\n",
       "  Methylammonium Lead Iodide Perovskite Solar Cells</td>\n",
       "      <td id=\"T_55e12_row30_col1\" class=\"data row30 col1\" >Zeeshan Ahmad,Rebecca A. Scheidt,Matthew P. Hautzinger,Kai Zhu,Matthew C. Beard,Giulia Galli</td>\n",
       "      <td id=\"T_55e12_row30_col2\" class=\"data row30 col2\" >The presence of unreacted lead iodide in <span style='font-weight: bold; background-color: #FFFF00'>organic</span>-inorganic lead halide perovskite solar cells is widely correlated with an increase in <span style='font-weight: bold; background-color: #FFFF00'>power</span> <span style='font-weight: bold; background-color: #FFFF00'>conversion</span> <span style='font-weight: bold; background-color: #FFFF00'>efficiency</span>.</td>\n",
       "      <td id=\"T_55e12_row30_col3\" class=\"data row30 col3\" ><a href=\"https://arxiv.org/abs/2201.12473\"  target=\"_blank\"> arXiv </a></td>\n",
       "      <td id=\"T_55e12_row30_col4\" class=\"data row30 col4\" ></td>\n",
       "      <td id=\"T_55e12_row30_col5\" class=\"data row30 col5\" ><a href=\"https://sds.app.accelerate.science/projects/1234567890abcdefghijklmnopqrstvwyz123456/library/public?search=JTdCJTIyY29sbGVjdGlvbnMlMjIlM0ElNUIlMjJhcnhpdi1hYnN0cmFjdCUyMiU1RCUyQyUyMnR5cGUlMjIlM0ElMjJEb2N1bWVudCUyMiUyQyUyMmV4cHJlc3Npb24lMjIlM0ElMjJmaWxlLWluZm8uZG9jdW1lbnQtaGFzaCUzQSUyMCU1QyUyMjY2MGQwNWVlYmMyYjQ5YjA5MDIyMmQ1NmRjNjMzN2FkYWZmNGE2ZjcyM2RiNjkzMTUwNGI5MTI5NjJlNTFkMjglNUMlMjIlMjIlMkMlMjJmaWx0ZXJzJTIyJTNBJTVCJTVEJTJDJTIyc2VsZWN0JTIyJTNBJTVCJTIyX25hbWUlMjIlMkMlMjJkZXNjcmlwdGlvbi5jb2xsZWN0aW9uJTIyJTJDJTIycHJvdiUyMiUyQyUyMmRlc2NyaXB0aW9uLnRpdGxlJTIyJTJDJTIyZGVzY3JpcHRpb24ucHVibGljYXRpb25fZGF0ZSUyMiUyQyUyMmRlc2NyaXB0aW9uLnVybF9yZWZzJTIyJTVEJTJDJTIyaXRlbUluZGV4JTIyJTNBMCUyQyUyMnBhZ2VTaXplJTIyJTNBMTAlMkMlMjJzZWFyY2hBZnRlckhpc3RvcnklMjIlM0ElNUIlNUQlMkMlMjJ2aWV3VHlwZSUyMiUzQSUyMnNuaXBwZXRzJTIyJTJDJTIycmVjb3JkU2VsZWN0aW9uJTIyJTNBJTdCJTIycmVjb3JkJTIyJTNBJTdCJTIyaWQlMjIlM0ElMjI2NjBkMDVlZWJjMmI0OWIwOTAyMjJkNTZkYzYzMzdhZGFmZjRhNmY3MjNkYjY5MzE1MDRiOTEyOTYyZTUxZDI4JTIyJTdEJTdEJTdE\"  target=\"_blank\"> DS </a></td>\n",
       "      <td id=\"T_55e12_row30_col6\" class=\"data row30 col6\" >2201.12473</td>\n",
       "      <td id=\"T_55e12_row30_col7\" class=\"data row30 col7\" >main-text</td>\n",
       "    </tr>\n",
       "    <tr>\n",
       "      <th id=\"T_55e12_level0_row31\" class=\"row_heading level0 row31\" >31</th>\n",
       "      <td id=\"T_55e12_row31_col0\" class=\"data row31 col0\" >Technology ready use of single layer graphene as a transparent electrode\n",
       "  for hybrid photovoltaic devices</td>\n",
       "      <td id=\"T_55e12_row31_col1\" class=\"data row31 col1\" >Zhibing Wang,Conor P. Puls,Neal E. Staley,Yu Zhang,Aaron Todd,Jian Xu,Casey A. Howsare,Matthew J. Hollander,Joshua A. Robinson,Ying Liu</td>\n",
       "      <td id=\"T_55e12_row31_col2\" class=\"data row31 col2\" >We demonstrated <span style='font-weight: bold; background-color: #FFFF00'>power</span> <span style='font-weight: bold; background-color: #FFFF00'>conversion</span> <span style='font-weight: bold; background-color: #FFFF00'>efficiency</span> up to 3.98%, higher than that of the ITO device (3.86%), showing that layer-transferred graphene promises to be a high quality, low-cost, flexible material for transparent electrodes in solar cell technology.</td>\n",
       "      <td id=\"T_55e12_row31_col3\" class=\"data row31 col3\" ><a href=\"https://arxiv.org/abs/1110.4349\"  target=\"_blank\"> arXiv </a></td>\n",
       "      <td id=\"T_55e12_row31_col4\" class=\"data row31 col4\" ><a href=\"https://doi.org/10.1016/j.physe.2011.10.003\"  target=\"_blank\"> DOI </a></td>\n",
       "      <td id=\"T_55e12_row31_col5\" class=\"data row31 col5\" ><a href=\"https://sds.app.accelerate.science/projects/1234567890abcdefghijklmnopqrstvwyz123456/library/public?search=JTdCJTIyY29sbGVjdGlvbnMlMjIlM0ElNUIlMjJhcnhpdi1hYnN0cmFjdCUyMiU1RCUyQyUyMnR5cGUlMjIlM0ElMjJEb2N1bWVudCUyMiUyQyUyMmV4cHJlc3Npb24lMjIlM0ElMjJmaWxlLWluZm8uZG9jdW1lbnQtaGFzaCUzQSUyMCU1QyUyMjczMjU3YTE5NjViMTlmMDE0MDZkYjNhYTRkNWM1YWVkNzA0M2M4YmI2MTQyNzE5YTVkNjkwZmE0NTM0MzU0ZDglNUMlMjIlMjIlMkMlMjJmaWx0ZXJzJTIyJTNBJTVCJTVEJTJDJTIyc2VsZWN0JTIyJTNBJTVCJTIyX25hbWUlMjIlMkMlMjJkZXNjcmlwdGlvbi5jb2xsZWN0aW9uJTIyJTJDJTIycHJvdiUyMiUyQyUyMmRlc2NyaXB0aW9uLnRpdGxlJTIyJTJDJTIyZGVzY3JpcHRpb24ucHVibGljYXRpb25fZGF0ZSUyMiUyQyUyMmRlc2NyaXB0aW9uLnVybF9yZWZzJTIyJTVEJTJDJTIyaXRlbUluZGV4JTIyJTNBMCUyQyUyMnBhZ2VTaXplJTIyJTNBMTAlMkMlMjJzZWFyY2hBZnRlckhpc3RvcnklMjIlM0ElNUIlNUQlMkMlMjJ2aWV3VHlwZSUyMiUzQSUyMnNuaXBwZXRzJTIyJTJDJTIycmVjb3JkU2VsZWN0aW9uJTIyJTNBJTdCJTIycmVjb3JkJTIyJTNBJTdCJTIyaWQlMjIlM0ElMjI3MzI1N2ExOTY1YjE5ZjAxNDA2ZGIzYWE0ZDVjNWFlZDcwNDNjOGJiNjE0MjcxOWE1ZDY5MGZhNDUzNDM1NGQ4JTIyJTdEJTdEJTdE\"  target=\"_blank\"> DS </a></td>\n",
       "      <td id=\"T_55e12_row31_col6\" class=\"data row31 col6\" >1110.4349</td>\n",
       "      <td id=\"T_55e12_row31_col7\" class=\"data row31 col7\" >main-text</td>\n",
       "    </tr>\n",
       "    <tr>\n",
       "      <th id=\"T_55e12_level0_row32\" class=\"row_heading level0 row32\" >32</th>\n",
       "      <td id=\"T_55e12_row32_col0\" class=\"data row32 col0\" >Influence of Charge Carrier Mobility on the Performance of Organic Solar\n",
       "  Cells</td>\n",
       "      <td id=\"T_55e12_row32_col1\" class=\"data row32 col1\" >C. Deibel,A. Wagenpfahl,V. Dyakonov</td>\n",
       "      <td id=\"T_55e12_row32_col2\" class=\"data row32 col2\" >Using a macroscopic effective medium simulation, we calculate the optimum charge carrier mobility for the highest <span style='font-weight: bold; background-color: #FFFF00'>power</span> <span style='font-weight: bold; background-color: #FFFF00'>conversion</span> <span style='font-weight: bold; background-color: #FFFF00'>efficiency</span>, for the first time accounting for injection barriers and a reduced Langevin-type recombination.</td>\n",
       "      <td id=\"T_55e12_row32_col3\" class=\"data row32 col3\" ><a href=\"https://arxiv.org/abs/0806.2249\"  target=\"_blank\"> arXiv </a></td>\n",
       "      <td id=\"T_55e12_row32_col4\" class=\"data row32 col4\" ><a href=\"https://doi.org/10.1002/pssr.200802110\"  target=\"_blank\"> DOI </a></td>\n",
       "      <td id=\"T_55e12_row32_col5\" class=\"data row32 col5\" ><a href=\"https://sds.app.accelerate.science/projects/1234567890abcdefghijklmnopqrstvwyz123456/library/public?search=JTdCJTIyY29sbGVjdGlvbnMlMjIlM0ElNUIlMjJhcnhpdi1hYnN0cmFjdCUyMiU1RCUyQyUyMnR5cGUlMjIlM0ElMjJEb2N1bWVudCUyMiUyQyUyMmV4cHJlc3Npb24lMjIlM0ElMjJmaWxlLWluZm8uZG9jdW1lbnQtaGFzaCUzQSUyMCU1QyUyMjc4ZTk2ZjMwNDMxNmU3Njc4NjQxMDA3MGVlMTAyN2ZkYzAwOWM0ZDVkYWZlYzU5NTQ0MjgxY2ZiNzJmODRmODYlNUMlMjIlMjIlMkMlMjJmaWx0ZXJzJTIyJTNBJTVCJTVEJTJDJTIyc2VsZWN0JTIyJTNBJTVCJTIyX25hbWUlMjIlMkMlMjJkZXNjcmlwdGlvbi5jb2xsZWN0aW9uJTIyJTJDJTIycHJvdiUyMiUyQyUyMmRlc2NyaXB0aW9uLnRpdGxlJTIyJTJDJTIyZGVzY3JpcHRpb24ucHVibGljYXRpb25fZGF0ZSUyMiUyQyUyMmRlc2NyaXB0aW9uLnVybF9yZWZzJTIyJTVEJTJDJTIyaXRlbUluZGV4JTIyJTNBMCUyQyUyMnBhZ2VTaXplJTIyJTNBMTAlMkMlMjJzZWFyY2hBZnRlckhpc3RvcnklMjIlM0ElNUIlNUQlMkMlMjJ2aWV3VHlwZSUyMiUzQSUyMnNuaXBwZXRzJTIyJTJDJTIycmVjb3JkU2VsZWN0aW9uJTIyJTNBJTdCJTIycmVjb3JkJTIyJTNBJTdCJTIyaWQlMjIlM0ElMjI3OGU5NmYzMDQzMTZlNzY3ODY0MTAwNzBlZTEwMjdmZGMwMDljNGQ1ZGFmZWM1OTU0NDI4MWNmYjcyZjg0Zjg2JTIyJTdEJTdEJTdE\"  target=\"_blank\"> DS </a></td>\n",
       "      <td id=\"T_55e12_row32_col6\" class=\"data row32 col6\" >0806.2249</td>\n",
       "      <td id=\"T_55e12_row32_col7\" class=\"data row32 col7\" >main-text</td>\n",
       "    </tr>\n",
       "    <tr>\n",
       "      <th id=\"T_55e12_level0_row33\" class=\"row_heading level0 row33\" >33</th>\n",
       "      <td id=\"T_55e12_row33_col0\" class=\"data row33 col0\" >Semitransparent Polymer-Based Solar Cells with Aluminum-Doped Zinc Oxide\n",
       "  Electrodes</td>\n",
       "      <td id=\"T_55e12_row33_col1\" class=\"data row33 col1\" >Sebastian Wilken,Verena Wilkens,Dorothea Scheunemann,Regina-Elisabeth Nowak,Karsten von Maydell,J\\\"urgen Parisi,Holger Borchert</td>\n",
       "      <td id=\"T_55e12_row33_col2\" class=\"data row33 col2\" >With the conventional absorber materials studied herein, optimized ITO-free and semitransparent devices reached 2.0% <span style='font-weight: bold; background-color: #FFFF00'>power</span> <span style='font-weight: bold; background-color: #FFFF00'>conversion</span> <span style='font-weight: bold; background-color: #FFFF00'>efficiency</span> and a maximum optical transmission of 60%, with the device concept being potentially transferable to other absorber materials.</td>\n",
       "      <td id=\"T_55e12_row33_col3\" class=\"data row33 col3\" ><a href=\"https://arxiv.org/abs/1905.00112\"  target=\"_blank\"> arXiv </a></td>\n",
       "      <td id=\"T_55e12_row33_col4\" class=\"data row33 col4\" ><a href=\"https://doi.org/10.1021/am5061917\"  target=\"_blank\"> DOI </a></td>\n",
       "      <td id=\"T_55e12_row33_col5\" class=\"data row33 col5\" ><a href=\"https://sds.app.accelerate.science/projects/1234567890abcdefghijklmnopqrstvwyz123456/library/public?search=JTdCJTIyY29sbGVjdGlvbnMlMjIlM0ElNUIlMjJhcnhpdi1hYnN0cmFjdCUyMiU1RCUyQyUyMnR5cGUlMjIlM0ElMjJEb2N1bWVudCUyMiUyQyUyMmV4cHJlc3Npb24lMjIlM0ElMjJmaWxlLWluZm8uZG9jdW1lbnQtaGFzaCUzQSUyMCU1QyUyMjc5M2U5Mzc1ZmQ2YjI2OTA4YzJhMmY2N2IwYTg4NjJlMzRiZWI3YjRjNmE5NDk4ZDY3YTQ1ZTczNTI2NzY4MzMlNUMlMjIlMjIlMkMlMjJmaWx0ZXJzJTIyJTNBJTVCJTVEJTJDJTIyc2VsZWN0JTIyJTNBJTVCJTIyX25hbWUlMjIlMkMlMjJkZXNjcmlwdGlvbi5jb2xsZWN0aW9uJTIyJTJDJTIycHJvdiUyMiUyQyUyMmRlc2NyaXB0aW9uLnRpdGxlJTIyJTJDJTIyZGVzY3JpcHRpb24ucHVibGljYXRpb25fZGF0ZSUyMiUyQyUyMmRlc2NyaXB0aW9uLnVybF9yZWZzJTIyJTVEJTJDJTIyaXRlbUluZGV4JTIyJTNBMCUyQyUyMnBhZ2VTaXplJTIyJTNBMTAlMkMlMjJzZWFyY2hBZnRlckhpc3RvcnklMjIlM0ElNUIlNUQlMkMlMjJ2aWV3VHlwZSUyMiUzQSUyMnNuaXBwZXRzJTIyJTJDJTIycmVjb3JkU2VsZWN0aW9uJTIyJTNBJTdCJTIycmVjb3JkJTIyJTNBJTdCJTIyaWQlMjIlM0ElMjI3OTNlOTM3NWZkNmIyNjkwOGMyYTJmNjdiMGE4ODYyZTM0YmViN2I0YzZhOTQ5OGQ2N2E0NWU3MzUyNjc2ODMzJTIyJTdEJTdEJTdE\"  target=\"_blank\"> DS </a></td>\n",
       "      <td id=\"T_55e12_row33_col6\" class=\"data row33 col6\" >1905.00112</td>\n",
       "      <td id=\"T_55e12_row33_col7\" class=\"data row33 col7\" >main-text</td>\n",
       "    </tr>\n",
       "    <tr>\n",
       "      <th id=\"T_55e12_level0_row34\" class=\"row_heading level0 row34\" >34</th>\n",
       "      <td id=\"T_55e12_row34_col0\" class=\"data row34 col0\" >Controlling selenization equilibrium enables high-quality Cu2ZnSn(S,\n",
       "  Se)4 absorbers for efficient solar cells</td>\n",
       "      <td id=\"T_55e12_row34_col1\" class=\"data row34 col1\" >Xiao Xu,Jiazheng Zhou,Kang Yin,Jinlin Wang,Licheng Lou,Menghan Jiao,Bowen Zhang,Dongmei Li,Jiangjian Shi,Huijue Wu,Yanhong Luo,Qingbo Meng</td>\n",
       "      <td id=\"T_55e12_row34_col2\" class=\"data row34 col2\" >We achieve a high-performance CZTSSe solar cell with a remarkable <span style='font-weight: bold; background-color: #FFFF00'>PCE</span> of 13.6%, and the highest large-area <span style='font-weight: bold; background-color: #FFFF00'>PCE</span> of 12.0% (over 1cm2).</td>\n",
       "      <td id=\"T_55e12_row34_col3\" class=\"data row34 col3\" ><a href=\"https://arxiv.org/abs/2303.02368\"  target=\"_blank\"> arXiv </a></td>\n",
       "      <td id=\"T_55e12_row34_col4\" class=\"data row34 col4\" ></td>\n",
       "      <td id=\"T_55e12_row34_col5\" class=\"data row34 col5\" ><a href=\"https://sds.app.accelerate.science/projects/1234567890abcdefghijklmnopqrstvwyz123456/library/public?search=JTdCJTIyY29sbGVjdGlvbnMlMjIlM0ElNUIlMjJhcnhpdi1hYnN0cmFjdCUyMiU1RCUyQyUyMnR5cGUlMjIlM0ElMjJEb2N1bWVudCUyMiUyQyUyMmV4cHJlc3Npb24lMjIlM0ElMjJmaWxlLWluZm8uZG9jdW1lbnQtaGFzaCUzQSUyMCU1QyUyMjdjNjE0NTg1ZGE5YjdhMDRkMGE3ZTVlNTQzMWY5MDVkMGY5MWViMDllMzlhYzU0NTJhOTZhZjI4MTYwNTM0NGElNUMlMjIlMjIlMkMlMjJmaWx0ZXJzJTIyJTNBJTVCJTVEJTJDJTIyc2VsZWN0JTIyJTNBJTVCJTIyX25hbWUlMjIlMkMlMjJkZXNjcmlwdGlvbi5jb2xsZWN0aW9uJTIyJTJDJTIycHJvdiUyMiUyQyUyMmRlc2NyaXB0aW9uLnRpdGxlJTIyJTJDJTIyZGVzY3JpcHRpb24ucHVibGljYXRpb25fZGF0ZSUyMiUyQyUyMmRlc2NyaXB0aW9uLnVybF9yZWZzJTIyJTVEJTJDJTIyaXRlbUluZGV4JTIyJTNBMCUyQyUyMnBhZ2VTaXplJTIyJTNBMTAlMkMlMjJzZWFyY2hBZnRlckhpc3RvcnklMjIlM0ElNUIlNUQlMkMlMjJ2aWV3VHlwZSUyMiUzQSUyMnNuaXBwZXRzJTIyJTJDJTIycmVjb3JkU2VsZWN0aW9uJTIyJTNBJTdCJTIycmVjb3JkJTIyJTNBJTdCJTIyaWQlMjIlM0ElMjI3YzYxNDU4NWRhOWI3YTA0ZDBhN2U1ZTU0MzFmOTA1ZDBmOTFlYjA5ZTM5YWM1NDUyYTk2YWYyODE2MDUzNDRhJTIyJTdEJTdEJTdE\"  target=\"_blank\"> DS </a></td>\n",
       "      <td id=\"T_55e12_row34_col6\" class=\"data row34 col6\" >2303.02368</td>\n",
       "      <td id=\"T_55e12_row34_col7\" class=\"data row34 col7\" >main-text</td>\n",
       "    </tr>\n",
       "    <tr>\n",
       "      <th id=\"T_55e12_level0_row35\" class=\"row_heading level0 row35\" >35</th>\n",
       "      <td id=\"T_55e12_row35_col0\" class=\"data row35 col0\" >Ionically gated perovskite solar cell with tunable carbon nanotube\n",
       "  interface at thick fullerene electron transporting layer: comparison to gated\n",
       "  OPV</td>\n",
       "      <td id=\"T_55e12_row35_col1\" class=\"data row35 col1\" >D.S. Saranin,D.S. Muratov,R. Haroldson,A. G. Nasibulin,A.R. Ishteev,D.V. Kuznetsov,M.N. Orlova,S.I. Didenko,A.A. Zakhidov</td>\n",
       "      <td id=\"T_55e12_row35_col2\" class=\"data row35 col2\" >Surprisingly Voc is not sensitive in PS-PV to external Vg gating, on the contrary, to strongly enhanced Voc in ionically gated <span style='font-weight: bold; background-color: #FFFF00'>organic</span> PV, where it is the main gating effect.</td>\n",
       "      <td id=\"T_55e12_row35_col3\" class=\"data row35 col3\" ><a href=\"https://arxiv.org/abs/1911.02619\"  target=\"_blank\"> arXiv </a></td>\n",
       "      <td id=\"T_55e12_row35_col4\" class=\"data row35 col4\" ></td>\n",
       "      <td id=\"T_55e12_row35_col5\" class=\"data row35 col5\" ><a href=\"https://sds.app.accelerate.science/projects/1234567890abcdefghijklmnopqrstvwyz123456/library/public?search=JTdCJTIyY29sbGVjdGlvbnMlMjIlM0ElNUIlMjJhcnhpdi1hYnN0cmFjdCUyMiU1RCUyQyUyMnR5cGUlMjIlM0ElMjJEb2N1bWVudCUyMiUyQyUyMmV4cHJlc3Npb24lMjIlM0ElMjJmaWxlLWluZm8uZG9jdW1lbnQtaGFzaCUzQSUyMCU1QyUyMjdkODczYmI4NTcyNDIxNjhmNGRiOWUxMmE1NjQzNmViMDQwNWZmMTJkODA3NTE3YjdlZWM4MDQyNzQ3ZGY5YWElNUMlMjIlMjIlMkMlMjJmaWx0ZXJzJTIyJTNBJTVCJTVEJTJDJTIyc2VsZWN0JTIyJTNBJTVCJTIyX25hbWUlMjIlMkMlMjJkZXNjcmlwdGlvbi5jb2xsZWN0aW9uJTIyJTJDJTIycHJvdiUyMiUyQyUyMmRlc2NyaXB0aW9uLnRpdGxlJTIyJTJDJTIyZGVzY3JpcHRpb24ucHVibGljYXRpb25fZGF0ZSUyMiUyQyUyMmRlc2NyaXB0aW9uLnVybF9yZWZzJTIyJTVEJTJDJTIyaXRlbUluZGV4JTIyJTNBMCUyQyUyMnBhZ2VTaXplJTIyJTNBMTAlMkMlMjJzZWFyY2hBZnRlckhpc3RvcnklMjIlM0ElNUIlNUQlMkMlMjJ2aWV3VHlwZSUyMiUzQSUyMnNuaXBwZXRzJTIyJTJDJTIycmVjb3JkU2VsZWN0aW9uJTIyJTNBJTdCJTIycmVjb3JkJTIyJTNBJTdCJTIyaWQlMjIlM0ElMjI3ZDg3M2JiODU3MjQyMTY4ZjRkYjllMTJhNTY0MzZlYjA0MDVmZjEyZDgwNzUxN2I3ZWVjODA0Mjc0N2RmOWFhJTIyJTdEJTdEJTdE\"  target=\"_blank\"> DS </a></td>\n",
       "      <td id=\"T_55e12_row35_col6\" class=\"data row35 col6\" >1911.02619</td>\n",
       "      <td id=\"T_55e12_row35_col7\" class=\"data row35 col7\" >main-text</td>\n",
       "    </tr>\n",
       "    <tr>\n",
       "      <th id=\"T_55e12_level0_row36\" class=\"row_heading level0 row36\" >36</th>\n",
       "      <td id=\"T_55e12_row36_col0\" class=\"data row36 col0\" >Quieting a noisy antenna reproduces photosynthetic light harvesting\n",
       "  spectra</td>\n",
       "      <td id=\"T_55e12_row36_col1\" class=\"data row36 col1\" >Trevor B. Arp,Jed Kistner-Morris,Vivek Aji,Richard Cogdell,Rienk van Grondelle,Nathaniel M. Gabor</td>\n",
       "      <td id=\"T_55e12_row36_col2\" class=\"data row36 col2\" >We show how light harvesting antennae can be finely tuned to maximize <span style='font-weight: bold; background-color: #FFFF00'>power</span> <span style='font-weight: bold; background-color: #FFFF00'>conversion</span> <span style='font-weight: bold; background-color: #FFFF00'>efficiency</span> by minimizing excitation noise, thus providing a unified theoretical basis for the experimentally observed wavelength dependence of light absorption in green plants, purple bacteria, and green sulfur bacteria.</td>\n",
       "      <td id=\"T_55e12_row36_col3\" class=\"data row36 col3\" ><a href=\"https://arxiv.org/abs/1912.12281\"  target=\"_blank\"> arXiv </a></td>\n",
       "      <td id=\"T_55e12_row36_col4\" class=\"data row36 col4\" ><a href=\"https://doi.org/10.1126/science.aba6630\"  target=\"_blank\"> DOI </a></td>\n",
       "      <td id=\"T_55e12_row36_col5\" class=\"data row36 col5\" ><a href=\"https://sds.app.accelerate.science/projects/1234567890abcdefghijklmnopqrstvwyz123456/library/public?search=JTdCJTIyY29sbGVjdGlvbnMlMjIlM0ElNUIlMjJhcnhpdi1hYnN0cmFjdCUyMiU1RCUyQyUyMnR5cGUlMjIlM0ElMjJEb2N1bWVudCUyMiUyQyUyMmV4cHJlc3Npb24lMjIlM0ElMjJmaWxlLWluZm8uZG9jdW1lbnQtaGFzaCUzQSUyMCU1QyUyMjdlZjAxOTA0N2JiMDY3MmVlYjI3ODFlOTIzMDA5YzY1ZDU2NmQxNWE2ODQ1NWY3ODZkODQwNTdmMDIzNzY1NWYlNUMlMjIlMjIlMkMlMjJmaWx0ZXJzJTIyJTNBJTVCJTVEJTJDJTIyc2VsZWN0JTIyJTNBJTVCJTIyX25hbWUlMjIlMkMlMjJkZXNjcmlwdGlvbi5jb2xsZWN0aW9uJTIyJTJDJTIycHJvdiUyMiUyQyUyMmRlc2NyaXB0aW9uLnRpdGxlJTIyJTJDJTIyZGVzY3JpcHRpb24ucHVibGljYXRpb25fZGF0ZSUyMiUyQyUyMmRlc2NyaXB0aW9uLnVybF9yZWZzJTIyJTVEJTJDJTIyaXRlbUluZGV4JTIyJTNBMCUyQyUyMnBhZ2VTaXplJTIyJTNBMTAlMkMlMjJzZWFyY2hBZnRlckhpc3RvcnklMjIlM0ElNUIlNUQlMkMlMjJ2aWV3VHlwZSUyMiUzQSUyMnNuaXBwZXRzJTIyJTJDJTIycmVjb3JkU2VsZWN0aW9uJTIyJTNBJTdCJTIycmVjb3JkJTIyJTNBJTdCJTIyaWQlMjIlM0ElMjI3ZWYwMTkwNDdiYjA2NzJlZWIyNzgxZTkyMzAwOWM2NWQ1NjZkMTVhNjg0NTVmNzg2ZDg0MDU3ZjAyMzc2NTVmJTIyJTdEJTdEJTdE\"  target=\"_blank\"> DS </a></td>\n",
       "      <td id=\"T_55e12_row36_col6\" class=\"data row36 col6\" >1912.12281</td>\n",
       "      <td id=\"T_55e12_row36_col7\" class=\"data row36 col7\" >main-text</td>\n",
       "    </tr>\n",
       "    <tr>\n",
       "      <th id=\"T_55e12_level0_row37\" class=\"row_heading level0 row37\" >37</th>\n",
       "      <td id=\"T_55e12_row37_col0\" class=\"data row37 col0\" >Influence of the Hole Transporting Layer on the Thermal Stability of\n",
       "  Inverted Organic Photovoltaics Using Accelerated Heat Lifetime Protocols</td>\n",
       "      <td id=\"T_55e12_row37_col1\" class=\"data row37 col1\" >Felix Hermerschmidt,Achilleas Savva,Efthymios Georgiou,Sachetan M Tuladhar,James R Durrant,Iain McCulloch,Donal DC Bradley,Christoph J Brabec,Jenny Nelson,Stelios A Choulis</td>\n",
       "      <td id=\"T_55e12_row37_col2\" class=\"data row37 col2\" >Despite the high <span style='font-weight: bold; background-color: #FFFF00'>PCE</span> values reported, stability investigations are still limited and the exact degradation mechanisms of inverted OPVs using thermally evaporated MoO3 HTL remain unclear under different environmental stress factors.</td>\n",
       "      <td id=\"T_55e12_row37_col3\" class=\"data row37 col3\" ><a href=\"https://arxiv.org/abs/1807.07326\"  target=\"_blank\"> arXiv </a></td>\n",
       "      <td id=\"T_55e12_row37_col4\" class=\"data row37 col4\" ><a href=\"https://doi.org/10.1021/acsami.7b01183\"  target=\"_blank\"> DOI </a></td>\n",
       "      <td id=\"T_55e12_row37_col5\" class=\"data row37 col5\" ><a href=\"https://sds.app.accelerate.science/projects/1234567890abcdefghijklmnopqrstvwyz123456/library/public?search=JTdCJTIyY29sbGVjdGlvbnMlMjIlM0ElNUIlMjJhcnhpdi1hYnN0cmFjdCUyMiU1RCUyQyUyMnR5cGUlMjIlM0ElMjJEb2N1bWVudCUyMiUyQyUyMmV4cHJlc3Npb24lMjIlM0ElMjJmaWxlLWluZm8uZG9jdW1lbnQtaGFzaCUzQSUyMCU1QyUyMjgxOGYwNTQ1ZDhhNGVmNDAzODE2MDg2YTUxZGM2MDYwMWQ4M2QzYTBhZmIyOTQ5MjU4MDYyOTNmOTZmNzhjYjQlNUMlMjIlMjIlMkMlMjJmaWx0ZXJzJTIyJTNBJTVCJTVEJTJDJTIyc2VsZWN0JTIyJTNBJTVCJTIyX25hbWUlMjIlMkMlMjJkZXNjcmlwdGlvbi5jb2xsZWN0aW9uJTIyJTJDJTIycHJvdiUyMiUyQyUyMmRlc2NyaXB0aW9uLnRpdGxlJTIyJTJDJTIyZGVzY3JpcHRpb24ucHVibGljYXRpb25fZGF0ZSUyMiUyQyUyMmRlc2NyaXB0aW9uLnVybF9yZWZzJTIyJTVEJTJDJTIyaXRlbUluZGV4JTIyJTNBMCUyQyUyMnBhZ2VTaXplJTIyJTNBMTAlMkMlMjJzZWFyY2hBZnRlckhpc3RvcnklMjIlM0ElNUIlNUQlMkMlMjJ2aWV3VHlwZSUyMiUzQSUyMnNuaXBwZXRzJTIyJTJDJTIycmVjb3JkU2VsZWN0aW9uJTIyJTNBJTdCJTIycmVjb3JkJTIyJTNBJTdCJTIyaWQlMjIlM0ElMjI4MThmMDU0NWQ4YTRlZjQwMzgxNjA4NmE1MWRjNjA2MDFkODNkM2EwYWZiMjk0OTI1ODA2MjkzZjk2Zjc4Y2I0JTIyJTdEJTdEJTdE\"  target=\"_blank\"> DS </a></td>\n",
       "      <td id=\"T_55e12_row37_col6\" class=\"data row37 col6\" >1807.07326</td>\n",
       "      <td id=\"T_55e12_row37_col7\" class=\"data row37 col7\" >main-text</td>\n",
       "    </tr>\n",
       "    <tr>\n",
       "      <th id=\"T_55e12_level0_row38\" class=\"row_heading level0 row38\" >38</th>\n",
       "      <td id=\"T_55e12_row38_col0\" class=\"data row38 col0\" >MoS2 Quantum Dot/Graphene Hybrids for Advanced Interface Engineering of\n",
       "  CH3NH3PbI3 Perovskite Solar Cell with Efficiency over 20%</td>\n",
       "      <td id=\"T_55e12_row38_col1\" class=\"data row38 col1\" >Leyla Najafi,Babak Taheri,Beatriz Martin-Garcia,Sebastiano Bellani,Diego Di Girolamo,Antonio Agresti,Reinier Oropesa-Nunez,Sara Pescetelli,Luigi Vesce,Emanuele Calabro,Mirko Prato,Antonio E. Del Rio Castillo,Aldo Di Carlo,Francesco Bonaccorso</td>\n",
       "      <td id=\"T_55e12_row38_col2\" class=\"data row38 col2\" >Our graphene interface engineering (GIE) strategy based on van der Waals MoS2 QD/graphene hybrids enable MAPbI3-based PSCs to achieve <span style='font-weight: bold; background-color: #FFFF00'>PCE</span> up to 20.12% (average <span style='font-weight: bold; background-color: #FFFF00'>PCE</span> of 18.8%).</td>\n",
       "      <td id=\"T_55e12_row38_col3\" class=\"data row38 col3\" ><a href=\"https://arxiv.org/abs/1903.08954\"  target=\"_blank\"> arXiv </a></td>\n",
       "      <td id=\"T_55e12_row38_col4\" class=\"data row38 col4\" ><a href=\"https://doi.org/10.1021/acsnano.8b05514\"  target=\"_blank\"> DOI </a></td>\n",
       "      <td id=\"T_55e12_row38_col5\" class=\"data row38 col5\" ><a href=\"https://sds.app.accelerate.science/projects/1234567890abcdefghijklmnopqrstvwyz123456/library/public?search=JTdCJTIyY29sbGVjdGlvbnMlMjIlM0ElNUIlMjJhcnhpdi1hYnN0cmFjdCUyMiU1RCUyQyUyMnR5cGUlMjIlM0ElMjJEb2N1bWVudCUyMiUyQyUyMmV4cHJlc3Npb24lMjIlM0ElMjJmaWxlLWluZm8uZG9jdW1lbnQtaGFzaCUzQSUyMCU1QyUyMjg2NDI1MTQxZDdkNTExZTI3M2M1ZWI4MWFjNzdkNjY1OGZmYTA2ZGNjZDE4OTRhZTVkNzY0MjYzZGExMGRhODclNUMlMjIlMjIlMkMlMjJmaWx0ZXJzJTIyJTNBJTVCJTVEJTJDJTIyc2VsZWN0JTIyJTNBJTVCJTIyX25hbWUlMjIlMkMlMjJkZXNjcmlwdGlvbi5jb2xsZWN0aW9uJTIyJTJDJTIycHJvdiUyMiUyQyUyMmRlc2NyaXB0aW9uLnRpdGxlJTIyJTJDJTIyZGVzY3JpcHRpb24ucHVibGljYXRpb25fZGF0ZSUyMiUyQyUyMmRlc2NyaXB0aW9uLnVybF9yZWZzJTIyJTVEJTJDJTIyaXRlbUluZGV4JTIyJTNBMCUyQyUyMnBhZ2VTaXplJTIyJTNBMTAlMkMlMjJzZWFyY2hBZnRlckhpc3RvcnklMjIlM0ElNUIlNUQlMkMlMjJ2aWV3VHlwZSUyMiUzQSUyMnNuaXBwZXRzJTIyJTJDJTIycmVjb3JkU2VsZWN0aW9uJTIyJTNBJTdCJTIycmVjb3JkJTIyJTNBJTdCJTIyaWQlMjIlM0ElMjI4NjQyNTE0MWQ3ZDUxMWUyNzNjNWViODFhYzc3ZDY2NThmZmEwNmRjY2QxODk0YWU1ZDc2NDI2M2RhMTBkYTg3JTIyJTdEJTdEJTdE\"  target=\"_blank\"> DS </a></td>\n",
       "      <td id=\"T_55e12_row38_col6\" class=\"data row38 col6\" >1903.08954</td>\n",
       "      <td id=\"T_55e12_row38_col7\" class=\"data row38 col7\" >main-text</td>\n",
       "    </tr>\n",
       "    <tr>\n",
       "      <th id=\"T_55e12_level0_row39\" class=\"row_heading level0 row39\" >39</th>\n",
       "      <td id=\"T_55e12_row39_col0\" class=\"data row39 col0\" >Dopant-free molecular hole transport material that mediates a 20% power\n",
       "  conversion efficiency in a perovskite solar cell</td>\n",
       "      <td id=\"T_55e12_row39_col1\" class=\"data row39 col1\" >Yang Cao,Yunlong Li,Thomas Morrissey,Brian Lam,Brian O. Patrick,David J. Dvorak,Zhicheng Xia,Timothy L. Kelly,Curtis P. Berlinguette</td>\n",
       "      <td id=\"T_55e12_row39_col2\" class=\"data row39 col2\" >DFH can also be isolated at a fraction of the cost of any other <span style='font-weight: bold; background-color: #FFFF00'>organic</span> HTM.</td>\n",
       "      <td id=\"T_55e12_row39_col3\" class=\"data row39 col3\" ><a href=\"https://arxiv.org/abs/1908.04439\"  target=\"_blank\"> arXiv </a></td>\n",
       "      <td id=\"T_55e12_row39_col4\" class=\"data row39 col4\" ></td>\n",
       "      <td id=\"T_55e12_row39_col5\" class=\"data row39 col5\" ><a href=\"https://sds.app.accelerate.science/projects/1234567890abcdefghijklmnopqrstvwyz123456/library/public?search=JTdCJTIyY29sbGVjdGlvbnMlMjIlM0ElNUIlMjJhcnhpdi1hYnN0cmFjdCUyMiU1RCUyQyUyMnR5cGUlMjIlM0ElMjJEb2N1bWVudCUyMiUyQyUyMmV4cHJlc3Npb24lMjIlM0ElMjJmaWxlLWluZm8uZG9jdW1lbnQtaGFzaCUzQSUyMCU1QyUyMjhhYjExMmU0ZmQ4MWQxNmQ0YWFmZmMzNGUxZWRkOWIyMTljNjY3YmExYzRiMDExMjQwY2YzYWEyNGM2NjMwNTIlNUMlMjIlMjIlMkMlMjJmaWx0ZXJzJTIyJTNBJTVCJTVEJTJDJTIyc2VsZWN0JTIyJTNBJTVCJTIyX25hbWUlMjIlMkMlMjJkZXNjcmlwdGlvbi5jb2xsZWN0aW9uJTIyJTJDJTIycHJvdiUyMiUyQyUyMmRlc2NyaXB0aW9uLnRpdGxlJTIyJTJDJTIyZGVzY3JpcHRpb24ucHVibGljYXRpb25fZGF0ZSUyMiUyQyUyMmRlc2NyaXB0aW9uLnVybF9yZWZzJTIyJTVEJTJDJTIyaXRlbUluZGV4JTIyJTNBMCUyQyUyMnBhZ2VTaXplJTIyJTNBMTAlMkMlMjJzZWFyY2hBZnRlckhpc3RvcnklMjIlM0ElNUIlNUQlMkMlMjJ2aWV3VHlwZSUyMiUzQSUyMnNuaXBwZXRzJTIyJTJDJTIycmVjb3JkU2VsZWN0aW9uJTIyJTNBJTdCJTIycmVjb3JkJTIyJTNBJTdCJTIyaWQlMjIlM0ElMjI4YWIxMTJlNGZkODFkMTZkNGFhZmZjMzRlMWVkZDliMjE5YzY2N2JhMWM0YjAxMTI0MGNmM2FhMjRjNjYzMDUyJTIyJTdEJTdEJTdE\"  target=\"_blank\"> DS </a></td>\n",
       "      <td id=\"T_55e12_row39_col6\" class=\"data row39 col6\" >1908.04439</td>\n",
       "      <td id=\"T_55e12_row39_col7\" class=\"data row39 col7\" >main-text</td>\n",
       "    </tr>\n",
       "    <tr>\n",
       "      <th id=\"T_55e12_level0_row40\" class=\"row_heading level0 row40\" >40</th>\n",
       "      <td id=\"T_55e12_row40_col0\" class=\"data row40 col0\" >Compound-Specific Chlorine Isotope Analysis of Organochlorines Using Gas\n",
       "  Chromatography-Double Focus Magnetic-Sector High Resolution Mass Spectrometry</td>\n",
       "      <td id=\"T_55e12_row40_col1\" class=\"data row40 col1\" >Caiming Tang,Jianhua Tan</td>\n",
       "      <td id=\"T_55e12_row40_col2\" class=\"data row40 col2\" >The CSIA-Cl method developed in this study will be conducive to future studies concerning transformation processes and source apportionment of <span style='font-weight: bold; background-color: #FFFF00'>PCE</span> and TCE, and light the ways to method development of CSIA-Cl for more <span style='font-weight: bold; background-color: #FFFF00'>organochlorines</span>.</td>\n",
       "      <td id=\"T_55e12_row40_col3\" class=\"data row40 col3\" ><a href=\"https://arxiv.org/abs/1709.03718\"  target=\"_blank\"> arXiv </a></td>\n",
       "      <td id=\"T_55e12_row40_col4\" class=\"data row40 col4\" ></td>\n",
       "      <td id=\"T_55e12_row40_col5\" class=\"data row40 col5\" ><a href=\"https://sds.app.accelerate.science/projects/1234567890abcdefghijklmnopqrstvwyz123456/library/public?search=JTdCJTIyY29sbGVjdGlvbnMlMjIlM0ElNUIlMjJhcnhpdi1hYnN0cmFjdCUyMiU1RCUyQyUyMnR5cGUlMjIlM0ElMjJEb2N1bWVudCUyMiUyQyUyMmV4cHJlc3Npb24lMjIlM0ElMjJmaWxlLWluZm8uZG9jdW1lbnQtaGFzaCUzQSUyMCU1QyUyMjhkODlhNDJlM2JmOWRiNzJlMjY1YjA0YjljYWZhZDNlNGYzZDYzYjhiNDg3ZDE5MDZiY2JmNmViMDE4OGZiNjglNUMlMjIlMjIlMkMlMjJmaWx0ZXJzJTIyJTNBJTVCJTVEJTJDJTIyc2VsZWN0JTIyJTNBJTVCJTIyX25hbWUlMjIlMkMlMjJkZXNjcmlwdGlvbi5jb2xsZWN0aW9uJTIyJTJDJTIycHJvdiUyMiUyQyUyMmRlc2NyaXB0aW9uLnRpdGxlJTIyJTJDJTIyZGVzY3JpcHRpb24ucHVibGljYXRpb25fZGF0ZSUyMiUyQyUyMmRlc2NyaXB0aW9uLnVybF9yZWZzJTIyJTVEJTJDJTIyaXRlbUluZGV4JTIyJTNBMCUyQyUyMnBhZ2VTaXplJTIyJTNBMTAlMkMlMjJzZWFyY2hBZnRlckhpc3RvcnklMjIlM0ElNUIlNUQlMkMlMjJ2aWV3VHlwZSUyMiUzQSUyMnNuaXBwZXRzJTIyJTJDJTIycmVjb3JkU2VsZWN0aW9uJTIyJTNBJTdCJTIycmVjb3JkJTIyJTNBJTdCJTIyaWQlMjIlM0ElMjI4ZDg5YTQyZTNiZjlkYjcyZTI2NWIwNGI5Y2FmYWQzZTRmM2Q2M2I4YjQ4N2QxOTA2YmNiZjZlYjAxODhmYjY4JTIyJTdEJTdEJTdE\"  target=\"_blank\"> DS </a></td>\n",
       "      <td id=\"T_55e12_row40_col6\" class=\"data row40 col6\" >1709.03718</td>\n",
       "      <td id=\"T_55e12_row40_col7\" class=\"data row40 col7\" >main-text</td>\n",
       "    </tr>\n",
       "    <tr>\n",
       "      <th id=\"T_55e12_level0_row41\" class=\"row_heading level0 row41\" >41</th>\n",
       "      <td id=\"T_55e12_row41_col0\" class=\"data row41 col0\" >Heterojunction organic photovoltaic cells as molecular heat engines: A\n",
       "  simple model for the performance analysis</td>\n",
       "      <td id=\"T_55e12_row41_col1\" class=\"data row41 col1\" >Mario Einax,Marcel Dierl,Abraham Nitzan</td>\n",
       "      <td id=\"T_55e12_row41_col2\" class=\"data row41 col2\" >The model yields explicit results for current-voltage behavior as well as performance characteristics expressed in terms of the thermodynamic efficiency as well as the <span style='font-weight: bold; background-color: #FFFF00'>power</span> <span style='font-weight: bold; background-color: #FFFF00'>conversion</span> <span style='font-weight: bold; background-color: #FFFF00'>efficiency</span> at maximum power, making it possible to evaluate the optimal setup for this device model.</td>\n",
       "      <td id=\"T_55e12_row41_col3\" class=\"data row41 col3\" ><a href=\"https://arxiv.org/abs/1107.0924\"  target=\"_blank\"> arXiv </a></td>\n",
       "      <td id=\"T_55e12_row41_col4\" class=\"data row41 col4\" ></td>\n",
       "      <td id=\"T_55e12_row41_col5\" class=\"data row41 col5\" ><a href=\"https://sds.app.accelerate.science/projects/1234567890abcdefghijklmnopqrstvwyz123456/library/public?search=JTdCJTIyY29sbGVjdGlvbnMlMjIlM0ElNUIlMjJhcnhpdi1hYnN0cmFjdCUyMiU1RCUyQyUyMnR5cGUlMjIlM0ElMjJEb2N1bWVudCUyMiUyQyUyMmV4cHJlc3Npb24lMjIlM0ElMjJmaWxlLWluZm8uZG9jdW1lbnQtaGFzaCUzQSUyMCU1QyUyMjhmMzg2OWJhZDBkODY0MDBhMTE5MzJmZGUwNGNhMjM1MTVmMWQyODcxNzRjYWNmMTQ1ODZlNzA4NGMzN2JmZDglNUMlMjIlMjIlMkMlMjJmaWx0ZXJzJTIyJTNBJTVCJTVEJTJDJTIyc2VsZWN0JTIyJTNBJTVCJTIyX25hbWUlMjIlMkMlMjJkZXNjcmlwdGlvbi5jb2xsZWN0aW9uJTIyJTJDJTIycHJvdiUyMiUyQyUyMmRlc2NyaXB0aW9uLnRpdGxlJTIyJTJDJTIyZGVzY3JpcHRpb24ucHVibGljYXRpb25fZGF0ZSUyMiUyQyUyMmRlc2NyaXB0aW9uLnVybF9yZWZzJTIyJTVEJTJDJTIyaXRlbUluZGV4JTIyJTNBMCUyQyUyMnBhZ2VTaXplJTIyJTNBMTAlMkMlMjJzZWFyY2hBZnRlckhpc3RvcnklMjIlM0ElNUIlNUQlMkMlMjJ2aWV3VHlwZSUyMiUzQSUyMnNuaXBwZXRzJTIyJTJDJTIycmVjb3JkU2VsZWN0aW9uJTIyJTNBJTdCJTIycmVjb3JkJTIyJTNBJTdCJTIyaWQlMjIlM0ElMjI4ZjM4NjliYWQwZDg2NDAwYTExOTMyZmRlMDRjYTIzNTE1ZjFkMjg3MTc0Y2FjZjE0NTg2ZTcwODRjMzdiZmQ4JTIyJTdEJTdEJTdE\"  target=\"_blank\"> DS </a></td>\n",
       "      <td id=\"T_55e12_row41_col6\" class=\"data row41 col6\" >1107.0924</td>\n",
       "      <td id=\"T_55e12_row41_col7\" class=\"data row41 col7\" >main-text</td>\n",
       "    </tr>\n",
       "    <tr>\n",
       "      <th id=\"T_55e12_level0_row42\" class=\"row_heading level0 row42\" >42</th>\n",
       "      <td id=\"T_55e12_row42_col0\" class=\"data row42 col0\" >Ionically Gated Small Molecule OPV: Interfacial doping of Charge\n",
       "  collector and Transport layer</td>\n",
       "      <td id=\"T_55e12_row42_col1\" class=\"data row42 col1\" >Danila S. Saranin,Abolfazl Mahmoodpoor,Pavel M. Voroshilov,Constantin R. Simovski,Anvar A. Zakhidov</td>\n",
       "      <td id=\"T_55e12_row42_col2\" class=\"data row42 col2\" >Overall <span style='font-weight: bold; background-color: #FFFF00'>power</span> <span style='font-weight: bold; background-color: #FFFF00'>conversion</span> <span style='font-weight: bold; background-color: #FFFF00'>efficiency</span> (<span style='font-weight: bold; background-color: #FFFF00'>PCE</span>) increases nearly 50 times in CuPc/fullerene OPV with MWCNT cathode.</td>\n",
       "      <td id=\"T_55e12_row42_col3\" class=\"data row42 col3\" ><a href=\"https://arxiv.org/abs/1805.10954\"  target=\"_blank\"> arXiv </a></td>\n",
       "      <td id=\"T_55e12_row42_col4\" class=\"data row42 col4\" ></td>\n",
       "      <td id=\"T_55e12_row42_col5\" class=\"data row42 col5\" ><a href=\"https://sds.app.accelerate.science/projects/1234567890abcdefghijklmnopqrstvwyz123456/library/public?search=JTdCJTIyY29sbGVjdGlvbnMlMjIlM0ElNUIlMjJhcnhpdi1hYnN0cmFjdCUyMiU1RCUyQyUyMnR5cGUlMjIlM0ElMjJEb2N1bWVudCUyMiUyQyUyMmV4cHJlc3Npb24lMjIlM0ElMjJmaWxlLWluZm8uZG9jdW1lbnQtaGFzaCUzQSUyMCU1QyUyMjkwM2M0NjU0ODQ1MTIxZWY0ZGYxYjg4NGQ4ZTYyMjBiNWViYjVhMjY3NmU5MWM3MDc2ZGMzMjQzNGY1YjM3YjElNUMlMjIlMjIlMkMlMjJmaWx0ZXJzJTIyJTNBJTVCJTVEJTJDJTIyc2VsZWN0JTIyJTNBJTVCJTIyX25hbWUlMjIlMkMlMjJkZXNjcmlwdGlvbi5jb2xsZWN0aW9uJTIyJTJDJTIycHJvdiUyMiUyQyUyMmRlc2NyaXB0aW9uLnRpdGxlJTIyJTJDJTIyZGVzY3JpcHRpb24ucHVibGljYXRpb25fZGF0ZSUyMiUyQyUyMmRlc2NyaXB0aW9uLnVybF9yZWZzJTIyJTVEJTJDJTIyaXRlbUluZGV4JTIyJTNBMCUyQyUyMnBhZ2VTaXplJTIyJTNBMTAlMkMlMjJzZWFyY2hBZnRlckhpc3RvcnklMjIlM0ElNUIlNUQlMkMlMjJ2aWV3VHlwZSUyMiUzQSUyMnNuaXBwZXRzJTIyJTJDJTIycmVjb3JkU2VsZWN0aW9uJTIyJTNBJTdCJTIycmVjb3JkJTIyJTNBJTdCJTIyaWQlMjIlM0ElMjI5MDNjNDY1NDg0NTEyMWVmNGRmMWI4ODRkOGU2MjIwYjVlYmI1YTI2NzZlOTFjNzA3NmRjMzI0MzRmNWIzN2IxJTIyJTdEJTdEJTdE\"  target=\"_blank\"> DS </a></td>\n",
       "      <td id=\"T_55e12_row42_col6\" class=\"data row42 col6\" >1805.10954</td>\n",
       "      <td id=\"T_55e12_row42_col7\" class=\"data row42 col7\" >main-text</td>\n",
       "    </tr>\n",
       "    <tr>\n",
       "      <th id=\"T_55e12_level0_row43\" class=\"row_heading level0 row43\" >43</th>\n",
       "      <td id=\"T_55e12_row43_col0\" class=\"data row43 col0\" >Optimization and effect of UV-ozone exposure of electron transport layer\n",
       "  on the efficiency of the dye-sensitized solar cells</td>\n",
       "      <td id=\"T_55e12_row43_col1\" class=\"data row43 col1\" >Chandan Dawo,Mohammad Adil Afroz,Parameswar Krishnan Iyer,Harsh Chaturvedi</td>\n",
       "      <td id=\"T_55e12_row43_col2\" class=\"data row43 col2\" >This increase in efficiency is attributed to the enhanced crystallization and reduction in the <span style='font-weight: bold; background-color: #FFFF00'>organic</span> contaminants C-C/C-H from 57.90 to 52.40% as shown by the X-ray diffraction (XRD) and X-ray photoelectron spectroscopy (XPS), respectively.</td>\n",
       "      <td id=\"T_55e12_row43_col3\" class=\"data row43 col3\" ><a href=\"https://arxiv.org/abs/2002.12071\"  target=\"_blank\"> arXiv </a></td>\n",
       "      <td id=\"T_55e12_row43_col4\" class=\"data row43 col4\" ></td>\n",
       "      <td id=\"T_55e12_row43_col5\" class=\"data row43 col5\" ><a href=\"https://sds.app.accelerate.science/projects/1234567890abcdefghijklmnopqrstvwyz123456/library/public?search=JTdCJTIyY29sbGVjdGlvbnMlMjIlM0ElNUIlMjJhcnhpdi1hYnN0cmFjdCUyMiU1RCUyQyUyMnR5cGUlMjIlM0ElMjJEb2N1bWVudCUyMiUyQyUyMmV4cHJlc3Npb24lMjIlM0ElMjJmaWxlLWluZm8uZG9jdW1lbnQtaGFzaCUzQSUyMCU1QyUyMjkyZDU5NDYyOGJkZWQ0MGEwYjZjNDY0N2MwNjI0ZjA0MWE1MzBjYzc0MjI0ZDViNGIwMmFiNGM4NTgyNjgzNjklNUMlMjIlMjIlMkMlMjJmaWx0ZXJzJTIyJTNBJTVCJTVEJTJDJTIyc2VsZWN0JTIyJTNBJTVCJTIyX25hbWUlMjIlMkMlMjJkZXNjcmlwdGlvbi5jb2xsZWN0aW9uJTIyJTJDJTIycHJvdiUyMiUyQyUyMmRlc2NyaXB0aW9uLnRpdGxlJTIyJTJDJTIyZGVzY3JpcHRpb24ucHVibGljYXRpb25fZGF0ZSUyMiUyQyUyMmRlc2NyaXB0aW9uLnVybF9yZWZzJTIyJTVEJTJDJTIyaXRlbUluZGV4JTIyJTNBMCUyQyUyMnBhZ2VTaXplJTIyJTNBMTAlMkMlMjJzZWFyY2hBZnRlckhpc3RvcnklMjIlM0ElNUIlNUQlMkMlMjJ2aWV3VHlwZSUyMiUzQSUyMnNuaXBwZXRzJTIyJTJDJTIycmVjb3JkU2VsZWN0aW9uJTIyJTNBJTdCJTIycmVjb3JkJTIyJTNBJTdCJTIyaWQlMjIlM0ElMjI5MmQ1OTQ2MjhiZGVkNDBhMGI2YzQ2NDdjMDYyNGYwNDFhNTMwY2M3NDIyNGQ1YjRiMDJhYjRjODU4MjY4MzY5JTIyJTdEJTdEJTdE\"  target=\"_blank\"> DS </a></td>\n",
       "      <td id=\"T_55e12_row43_col6\" class=\"data row43 col6\" >2002.12071</td>\n",
       "      <td id=\"T_55e12_row43_col7\" class=\"data row43 col7\" >main-text</td>\n",
       "    </tr>\n",
       "    <tr>\n",
       "      <th id=\"T_55e12_level0_row44\" class=\"row_heading level0 row44\" >44</th>\n",
       "      <td id=\"T_55e12_row44_col0\" class=\"data row44 col0\" >Effective Absorption Enhancement in Small Molecule Organic Solar Cells\n",
       "  by Employing Trapezoid Gratings</td>\n",
       "      <td id=\"T_55e12_row44_col1\" class=\"data row44 col1\" >Xiang Chun-Ping,Liu Jie-Tao,Jin Yu,Xu Bin-Zong,Wang Wei-Min,Wei Xin,Song Guo-Feng,Xu Yun</td>\n",
       "      <td id=\"T_55e12_row44_col2\" class=\"data row44 col2\" >The <span style='font-weight: bold; background-color: #FFFF00'>power</span> <span style='font-weight: bold; background-color: #FFFF00'>conversion</span> <span style='font-weight: bold; background-color: #FFFF00'>efficiency</span> of the grating sample obtained in experiment exhibits an enhancement of 7.7 %.</td>\n",
       "      <td id=\"T_55e12_row44_col3\" class=\"data row44 col3\" ><a href=\"https://arxiv.org/abs/1307.5217\"  target=\"_blank\"> arXiv </a></td>\n",
       "      <td id=\"T_55e12_row44_col4\" class=\"data row44 col4\" ></td>\n",
       "      <td id=\"T_55e12_row44_col5\" class=\"data row44 col5\" ><a href=\"https://sds.app.accelerate.science/projects/1234567890abcdefghijklmnopqrstvwyz123456/library/public?search=JTdCJTIyY29sbGVjdGlvbnMlMjIlM0ElNUIlMjJhcnhpdi1hYnN0cmFjdCUyMiU1RCUyQyUyMnR5cGUlMjIlM0ElMjJEb2N1bWVudCUyMiUyQyUyMmV4cHJlc3Npb24lMjIlM0ElMjJmaWxlLWluZm8uZG9jdW1lbnQtaGFzaCUzQSUyMCU1QyUyMjk3NTNjNjQ4ZDI2NmYzOWVhZTJkN2MxNzQ3NzVjNWFhOWM0ODhiZjFkMTA3ZDdiOTI0YjUyNjVjNWQ2YjU3MTglNUMlMjIlMjIlMkMlMjJmaWx0ZXJzJTIyJTNBJTVCJTVEJTJDJTIyc2VsZWN0JTIyJTNBJTVCJTIyX25hbWUlMjIlMkMlMjJkZXNjcmlwdGlvbi5jb2xsZWN0aW9uJTIyJTJDJTIycHJvdiUyMiUyQyUyMmRlc2NyaXB0aW9uLnRpdGxlJTIyJTJDJTIyZGVzY3JpcHRpb24ucHVibGljYXRpb25fZGF0ZSUyMiUyQyUyMmRlc2NyaXB0aW9uLnVybF9yZWZzJTIyJTVEJTJDJTIyaXRlbUluZGV4JTIyJTNBMCUyQyUyMnBhZ2VTaXplJTIyJTNBMTAlMkMlMjJzZWFyY2hBZnRlckhpc3RvcnklMjIlM0ElNUIlNUQlMkMlMjJ2aWV3VHlwZSUyMiUzQSUyMnNuaXBwZXRzJTIyJTJDJTIycmVjb3JkU2VsZWN0aW9uJTIyJTNBJTdCJTIycmVjb3JkJTIyJTNBJTdCJTIyaWQlMjIlM0ElMjI5NzUzYzY0OGQyNjZmMzllYWUyZDdjMTc0Nzc1YzVhYTljNDg4YmYxZDEwN2Q3YjkyNGI1MjY1YzVkNmI1NzE4JTIyJTdEJTdEJTdE\"  target=\"_blank\"> DS </a></td>\n",
       "      <td id=\"T_55e12_row44_col6\" class=\"data row44 col6\" >1307.5217</td>\n",
       "      <td id=\"T_55e12_row44_col7\" class=\"data row44 col7\" >main-text</td>\n",
       "    </tr>\n",
       "    <tr>\n",
       "      <th id=\"T_55e12_level0_row45\" class=\"row_heading level0 row45\" >45</th>\n",
       "      <td id=\"T_55e12_row45_col0\" class=\"data row45 col0\" >Low Frequency Carrier Kinetics in Perovskite Solar Cells</td>\n",
       "      <td id=\"T_55e12_row45_col1\" class=\"data row45 col1\" >Vinod K. Sangwan,Menghua Zhu,Sarah Clark,Kyle A. Luck,Tobin J. Marks,Mercouri G. Kanatzidis,Mark C. Hersam</td>\n",
       "      <td id=\"T_55e12_row45_col2\" class=\"data row45 col2\" >Through a systematic study of more than a dozen solar cells, we establish a correlation with noise amplitude, <span style='font-weight: bold; background-color: #FFFF00'>power</span> <span style='font-weight: bold; background-color: #FFFF00'>conversion</span> <span style='font-weight: bold; background-color: #FFFF00'>efficiency</span>, and fill factor.</td>\n",
       "      <td id=\"T_55e12_row45_col3\" class=\"data row45 col3\" ><a href=\"https://arxiv.org/abs/1903.09281\"  target=\"_blank\"> arXiv </a></td>\n",
       "      <td id=\"T_55e12_row45_col4\" class=\"data row45 col4\" ><a href=\"https://doi.org/10.1021/acsami.9b03884\"  target=\"_blank\"> DOI </a></td>\n",
       "      <td id=\"T_55e12_row45_col5\" class=\"data row45 col5\" ><a href=\"https://sds.app.accelerate.science/projects/1234567890abcdefghijklmnopqrstvwyz123456/library/public?search=JTdCJTIyY29sbGVjdGlvbnMlMjIlM0ElNUIlMjJhcnhpdi1hYnN0cmFjdCUyMiU1RCUyQyUyMnR5cGUlMjIlM0ElMjJEb2N1bWVudCUyMiUyQyUyMmV4cHJlc3Npb24lMjIlM0ElMjJmaWxlLWluZm8uZG9jdW1lbnQtaGFzaCUzQSUyMCU1QyUyMjliOGMyZjc2NjBlN2RmYTEwZGU2OWNmMTM0YmNkNjkzMGYxNDhkMjYyODIwYTE1MTM5Y2VhYTkzNDhkZmVhM2MlNUMlMjIlMjIlMkMlMjJmaWx0ZXJzJTIyJTNBJTVCJTVEJTJDJTIyc2VsZWN0JTIyJTNBJTVCJTIyX25hbWUlMjIlMkMlMjJkZXNjcmlwdGlvbi5jb2xsZWN0aW9uJTIyJTJDJTIycHJvdiUyMiUyQyUyMmRlc2NyaXB0aW9uLnRpdGxlJTIyJTJDJTIyZGVzY3JpcHRpb24ucHVibGljYXRpb25fZGF0ZSUyMiUyQyUyMmRlc2NyaXB0aW9uLnVybF9yZWZzJTIyJTVEJTJDJTIyaXRlbUluZGV4JTIyJTNBMCUyQyUyMnBhZ2VTaXplJTIyJTNBMTAlMkMlMjJzZWFyY2hBZnRlckhpc3RvcnklMjIlM0ElNUIlNUQlMkMlMjJ2aWV3VHlwZSUyMiUzQSUyMnNuaXBwZXRzJTIyJTJDJTIycmVjb3JkU2VsZWN0aW9uJTIyJTNBJTdCJTIycmVjb3JkJTIyJTNBJTdCJTIyaWQlMjIlM0ElMjI5YjhjMmY3NjYwZTdkZmExMGRlNjljZjEzNGJjZDY5MzBmMTQ4ZDI2MjgyMGExNTEzOWNlYWE5MzQ4ZGZlYTNjJTIyJTdEJTdEJTdE\"  target=\"_blank\"> DS </a></td>\n",
       "      <td id=\"T_55e12_row45_col6\" class=\"data row45 col6\" >1903.09281</td>\n",
       "      <td id=\"T_55e12_row45_col7\" class=\"data row45 col7\" >main-text</td>\n",
       "    </tr>\n",
       "    <tr>\n",
       "      <th id=\"T_55e12_level0_row46\" class=\"row_heading level0 row46\" >46</th>\n",
       "      <td id=\"T_55e12_row46_col0\" class=\"data row46 col0\" >Room-Temperature Processing of Inorganic Perovskite Films to Enable\n",
       "  Flexible Solar Cells</td>\n",
       "      <td id=\"T_55e12_row46_col1\" class=\"data row46 col1\" >Dianyi Liu,Chenchen Yang,Matthew Bates,Richard R. Lunt</td>\n",
       "      <td id=\"T_55e12_row46_col2\" class=\"data row46 col2\" >Unencapsulated devices achieved the <span style='font-weight: bold; background-color: #FFFF00'>power</span> <span style='font-weight: bold; background-color: #FFFF00'>conversion</span> <span style='font-weight: bold; background-color: #FFFF00'>efficiency</span> up to 8.67% when measured under 1-sun irradiation.</td>\n",
       "      <td id=\"T_55e12_row46_col3\" class=\"data row46 col3\" ><a href=\"https://arxiv.org/abs/1806.06855\"  target=\"_blank\"> arXiv </a></td>\n",
       "      <td id=\"T_55e12_row46_col4\" class=\"data row46 col4\" ><a href=\"https://doi.org/10.1016/j.isci.2018.08.005\"  target=\"_blank\"> DOI </a></td>\n",
       "      <td id=\"T_55e12_row46_col5\" class=\"data row46 col5\" ><a href=\"https://sds.app.accelerate.science/projects/1234567890abcdefghijklmnopqrstvwyz123456/library/public?search=JTdCJTIyY29sbGVjdGlvbnMlMjIlM0ElNUIlMjJhcnhpdi1hYnN0cmFjdCUyMiU1RCUyQyUyMnR5cGUlMjIlM0ElMjJEb2N1bWVudCUyMiUyQyUyMmV4cHJlc3Npb24lMjIlM0ElMjJmaWxlLWluZm8uZG9jdW1lbnQtaGFzaCUzQSUyMCU1QyUyMjllYTY5NGUyYTBhYzE0YmZhMGJjYzU3NjE5ZDMwNDBiZjMyOTMwNTE3MjJhMDU1NWUzMDcwOTYzMjdlODQ2MmElNUMlMjIlMjIlMkMlMjJmaWx0ZXJzJTIyJTNBJTVCJTVEJTJDJTIyc2VsZWN0JTIyJTNBJTVCJTIyX25hbWUlMjIlMkMlMjJkZXNjcmlwdGlvbi5jb2xsZWN0aW9uJTIyJTJDJTIycHJvdiUyMiUyQyUyMmRlc2NyaXB0aW9uLnRpdGxlJTIyJTJDJTIyZGVzY3JpcHRpb24ucHVibGljYXRpb25fZGF0ZSUyMiUyQyUyMmRlc2NyaXB0aW9uLnVybF9yZWZzJTIyJTVEJTJDJTIyaXRlbUluZGV4JTIyJTNBMCUyQyUyMnBhZ2VTaXplJTIyJTNBMTAlMkMlMjJzZWFyY2hBZnRlckhpc3RvcnklMjIlM0ElNUIlNUQlMkMlMjJ2aWV3VHlwZSUyMiUzQSUyMnNuaXBwZXRzJTIyJTJDJTIycmVjb3JkU2VsZWN0aW9uJTIyJTNBJTdCJTIycmVjb3JkJTIyJTNBJTdCJTIyaWQlMjIlM0ElMjI5ZWE2OTRlMmEwYWMxNGJmYTBiY2M1NzYxOWQzMDQwYmYzMjkzMDUxNzIyYTA1NTVlMzA3MDk2MzI3ZTg0NjJhJTIyJTdEJTdEJTdE\"  target=\"_blank\"> DS </a></td>\n",
       "      <td id=\"T_55e12_row46_col6\" class=\"data row46 col6\" >1806.06855</td>\n",
       "      <td id=\"T_55e12_row46_col7\" class=\"data row46 col7\" >main-text</td>\n",
       "    </tr>\n",
       "    <tr>\n",
       "      <th id=\"T_55e12_level0_row47\" class=\"row_heading level0 row47\" >47</th>\n",
       "      <td id=\"T_55e12_row47_col0\" class=\"data row47 col0\" >High Performance Inverted Organic Photovoltaics Without Hole Selective\n",
       "  Contact</td>\n",
       "      <td id=\"T_55e12_row47_col1\" class=\"data row47 col1\" >Achilleas Savva,Ignasi Burgues-Ceballos,Giannis Papazoglou,Stelios A. Choulis</td>\n",
       "      <td id=\"T_55e12_row47_col2\" class=\"data row47 col2\" >Inverted OPVs comprised of ITO/ZnO/poly(3-hexylthiophene-2,5-diyl):phenyl-C61-butyric acid methyl ester (P3HT:PCBM)/Ag demonstrate over 3.5% <span style='font-weight: bold; background-color: #FFFF00'>power</span> <span style='font-weight: bold; background-color: #FFFF00'>conversion</span> <span style='font-weight: bold; background-color: #FFFF00'>efficiency</span> only if the devices are exposed in air for over 4 days.</td>\n",
       "      <td id=\"T_55e12_row47_col3\" class=\"data row47 col3\" ><a href=\"https://arxiv.org/abs/1610.10063\"  target=\"_blank\"> arXiv </a></td>\n",
       "      <td id=\"T_55e12_row47_col4\" class=\"data row47 col4\" ><a href=\"https://doi.org/10.1021/acsami.5b06578\"  target=\"_blank\"> DOI </a></td>\n",
       "      <td id=\"T_55e12_row47_col5\" class=\"data row47 col5\" ><a href=\"https://sds.app.accelerate.science/projects/1234567890abcdefghijklmnopqrstvwyz123456/library/public?search=JTdCJTIyY29sbGVjdGlvbnMlMjIlM0ElNUIlMjJhcnhpdi1hYnN0cmFjdCUyMiU1RCUyQyUyMnR5cGUlMjIlM0ElMjJEb2N1bWVudCUyMiUyQyUyMmV4cHJlc3Npb24lMjIlM0ElMjJmaWxlLWluZm8uZG9jdW1lbnQtaGFzaCUzQSUyMCU1QyUyMmE1YTQ1NDE3MWJjYTQ2NzEyMmRlOWE2OTQwYWVjZWU1N2EzZDIyOTA3YmE2ZjJhMzljNjNlYWYyZTM5NWI5M2QlNUMlMjIlMjIlMkMlMjJmaWx0ZXJzJTIyJTNBJTVCJTVEJTJDJTIyc2VsZWN0JTIyJTNBJTVCJTIyX25hbWUlMjIlMkMlMjJkZXNjcmlwdGlvbi5jb2xsZWN0aW9uJTIyJTJDJTIycHJvdiUyMiUyQyUyMmRlc2NyaXB0aW9uLnRpdGxlJTIyJTJDJTIyZGVzY3JpcHRpb24ucHVibGljYXRpb25fZGF0ZSUyMiUyQyUyMmRlc2NyaXB0aW9uLnVybF9yZWZzJTIyJTVEJTJDJTIyaXRlbUluZGV4JTIyJTNBMCUyQyUyMnBhZ2VTaXplJTIyJTNBMTAlMkMlMjJzZWFyY2hBZnRlckhpc3RvcnklMjIlM0ElNUIlNUQlMkMlMjJ2aWV3VHlwZSUyMiUzQSUyMnNuaXBwZXRzJTIyJTJDJTIycmVjb3JkU2VsZWN0aW9uJTIyJTNBJTdCJTIycmVjb3JkJTIyJTNBJTdCJTIyaWQlMjIlM0ElMjJhNWE0NTQxNzFiY2E0NjcxMjJkZTlhNjk0MGFlY2VlNTdhM2QyMjkwN2JhNmYyYTM5YzYzZWFmMmUzOTViOTNkJTIyJTdEJTdEJTdE\"  target=\"_blank\"> DS </a></td>\n",
       "      <td id=\"T_55e12_row47_col6\" class=\"data row47 col6\" >1610.10063</td>\n",
       "      <td id=\"T_55e12_row47_col7\" class=\"data row47 col7\" >main-text</td>\n",
       "    </tr>\n",
       "    <tr>\n",
       "      <th id=\"T_55e12_level0_row48\" class=\"row_heading level0 row48\" >48</th>\n",
       "      <td id=\"T_55e12_row48_col0\" class=\"data row48 col0\" >New Strategies for Solar Cells Beyond the Visible Spectral Range</td>\n",
       "      <td id=\"T_55e12_row48_col1\" class=\"data row48 col1\" >Fabio Marangi,Matteo Lombardo,Andrea Villa,Francesco Scotognella</td>\n",
       "      <td id=\"T_55e12_row48_col2\" class=\"data row48 col2\" >In addition, the use of upconverting nanostructures will be introduced as a way to indirectly exploit infrared radiation to increase <span style='font-weight: bold; background-color: #FFFF00'>power</span> <span style='font-weight: bold; background-color: #FFFF00'>conversion</span> <span style='font-weight: bold; background-color: #FFFF00'>efficiency</span> of photovoltaic devices.</td>\n",
       "      <td id=\"T_55e12_row48_col3\" class=\"data row48 col3\" ><a href=\"https://arxiv.org/abs/2104.06657\"  target=\"_blank\"> arXiv </a></td>\n",
       "      <td id=\"T_55e12_row48_col4\" class=\"data row48 col4\" ></td>\n",
       "      <td id=\"T_55e12_row48_col5\" class=\"data row48 col5\" ><a href=\"https://sds.app.accelerate.science/projects/1234567890abcdefghijklmnopqrstvwyz123456/library/public?search=JTdCJTIyY29sbGVjdGlvbnMlMjIlM0ElNUIlMjJhcnhpdi1hYnN0cmFjdCUyMiU1RCUyQyUyMnR5cGUlMjIlM0ElMjJEb2N1bWVudCUyMiUyQyUyMmV4cHJlc3Npb24lMjIlM0ElMjJmaWxlLWluZm8uZG9jdW1lbnQtaGFzaCUzQSUyMCU1QyUyMmE3OTgzN2RhZWI1Yjg0Y2Q1NTAxNmZhMTljYzI5MTNkNjVkZmZlYTdlNzhhMGYzMTdiYTc4YTA2Y2Y5MTAyMmIlNUMlMjIlMjIlMkMlMjJmaWx0ZXJzJTIyJTNBJTVCJTVEJTJDJTIyc2VsZWN0JTIyJTNBJTVCJTIyX25hbWUlMjIlMkMlMjJkZXNjcmlwdGlvbi5jb2xsZWN0aW9uJTIyJTJDJTIycHJvdiUyMiUyQyUyMmRlc2NyaXB0aW9uLnRpdGxlJTIyJTJDJTIyZGVzY3JpcHRpb24ucHVibGljYXRpb25fZGF0ZSUyMiUyQyUyMmRlc2NyaXB0aW9uLnVybF9yZWZzJTIyJTVEJTJDJTIyaXRlbUluZGV4JTIyJTNBMCUyQyUyMnBhZ2VTaXplJTIyJTNBMTAlMkMlMjJzZWFyY2hBZnRlckhpc3RvcnklMjIlM0ElNUIlNUQlMkMlMjJ2aWV3VHlwZSUyMiUzQSUyMnNuaXBwZXRzJTIyJTJDJTIycmVjb3JkU2VsZWN0aW9uJTIyJTNBJTdCJTIycmVjb3JkJTIyJTNBJTdCJTIyaWQlMjIlM0ElMjJhNzk4MzdkYWViNWI4NGNkNTUwMTZmYTE5Y2MyOTEzZDY1ZGZmZWE3ZTc4YTBmMzE3YmE3OGEwNmNmOTEwMjJiJTIyJTdEJTdEJTdE\"  target=\"_blank\"> DS </a></td>\n",
       "      <td id=\"T_55e12_row48_col6\" class=\"data row48 col6\" >2104.06657</td>\n",
       "      <td id=\"T_55e12_row48_col7\" class=\"data row48 col7\" >main-text</td>\n",
       "    </tr>\n",
       "    <tr>\n",
       "      <th id=\"T_55e12_level0_row49\" class=\"row_heading level0 row49\" >49</th>\n",
       "      <td id=\"T_55e12_row49_col0\" class=\"data row49 col0\" >Organic solar cell efficiencies under the aspect of reduced surface\n",
       "  recombination velocities</td>\n",
       "      <td id=\"T_55e12_row49_col1\" class=\"data row49 col1\" >A. Wagenpfahl,C. Deibel,V. Dyakonov</td>\n",
       "      <td id=\"T_55e12_row49_col2\" class=\"data row49 col2\" >In this manuscript, using a macroscopic effective medium simulation, we consider how a reduced bulk recombination process in combination with finite surface recombination velocities affect the <span style='font-weight: bold; background-color: #FFFF00'>power</span> <span style='font-weight: bold; background-color: #FFFF00'>conversion</span> <span style='font-weight: bold; background-color: #FFFF00'>efficiency</span>.</td>\n",
       "      <td id=\"T_55e12_row49_col3\" class=\"data row49 col3\" ><a href=\"https://arxiv.org/abs/1001.4963\"  target=\"_blank\"> arXiv </a></td>\n",
       "      <td id=\"T_55e12_row49_col4\" class=\"data row49 col4\" ><a href=\"https://doi.org/10.1109/JSTQE.2010.2042142\"  target=\"_blank\"> DOI </a></td>\n",
       "      <td id=\"T_55e12_row49_col5\" class=\"data row49 col5\" ><a href=\"https://sds.app.accelerate.science/projects/1234567890abcdefghijklmnopqrstvwyz123456/library/public?search=JTdCJTIyY29sbGVjdGlvbnMlMjIlM0ElNUIlMjJhcnhpdi1hYnN0cmFjdCUyMiU1RCUyQyUyMnR5cGUlMjIlM0ElMjJEb2N1bWVudCUyMiUyQyUyMmV4cHJlc3Npb24lMjIlM0ElMjJmaWxlLWluZm8uZG9jdW1lbnQtaGFzaCUzQSUyMCU1QyUyMmFiMzA3MzFkZDVmMGJjMTY4M2I5OWZiNjIzZTlkYTc1OTMxNTczM2U0MWRhZjk3NGJkNjU0OGJkNjFiMjE5YWElNUMlMjIlMjIlMkMlMjJmaWx0ZXJzJTIyJTNBJTVCJTVEJTJDJTIyc2VsZWN0JTIyJTNBJTVCJTIyX25hbWUlMjIlMkMlMjJkZXNjcmlwdGlvbi5jb2xsZWN0aW9uJTIyJTJDJTIycHJvdiUyMiUyQyUyMmRlc2NyaXB0aW9uLnRpdGxlJTIyJTJDJTIyZGVzY3JpcHRpb24ucHVibGljYXRpb25fZGF0ZSUyMiUyQyUyMmRlc2NyaXB0aW9uLnVybF9yZWZzJTIyJTVEJTJDJTIyaXRlbUluZGV4JTIyJTNBMCUyQyUyMnBhZ2VTaXplJTIyJTNBMTAlMkMlMjJzZWFyY2hBZnRlckhpc3RvcnklMjIlM0ElNUIlNUQlMkMlMjJ2aWV3VHlwZSUyMiUzQSUyMnNuaXBwZXRzJTIyJTJDJTIycmVjb3JkU2VsZWN0aW9uJTIyJTNBJTdCJTIycmVjb3JkJTIyJTNBJTdCJTIyaWQlMjIlM0ElMjJhYjMwNzMxZGQ1ZjBiYzE2ODNiOTlmYjYyM2U5ZGE3NTkzMTU3MzNlNDFkYWY5NzRiZDY1NDhiZDYxYjIxOWFhJTIyJTdEJTdEJTdE\"  target=\"_blank\"> DS </a></td>\n",
       "      <td id=\"T_55e12_row49_col6\" class=\"data row49 col6\" >1001.4963</td>\n",
       "      <td id=\"T_55e12_row49_col7\" class=\"data row49 col7\" >main-text</td>\n",
       "    </tr>\n",
       "    <tr>\n",
       "      <th id=\"T_55e12_level0_row50\" class=\"row_heading level0 row50\" >50</th>\n",
       "      <td id=\"T_55e12_row50_col0\" class=\"data row50 col0\" >Optical Spintronics in Organic-Inorganic Perovskite Photovoltaics</td>\n",
       "      <td id=\"T_55e12_row50_col1\" class=\"data row50 col1\" >Junwen Li,Paul M. Haney</td>\n",
       "      <td id=\"T_55e12_row50_col2\" class=\"data row50 col2\" ><span style='font-weight: bold; background-color: #FFFF00'>Organic</span>-inorganic halide CH$_3$NH$_3$PbI$_3$ solar cells have attracted enormous attention in recent years due to their remarkable <span style='font-weight: bold; background-color: #FFFF00'>power</span> <span style='font-weight: bold; background-color: #FFFF00'>conversion</span> <span style='font-weight: bold; background-color: #FFFF00'>efficiency</span>.</td>\n",
       "      <td id=\"T_55e12_row50_col3\" class=\"data row50 col3\" ><a href=\"https://arxiv.org/abs/1601.04003\"  target=\"_blank\"> arXiv </a></td>\n",
       "      <td id=\"T_55e12_row50_col4\" class=\"data row50 col4\" ><a href=\"https://doi.org/10.1103/PhysRevB.93.155432\"  target=\"_blank\"> DOI </a></td>\n",
       "      <td id=\"T_55e12_row50_col5\" class=\"data row50 col5\" ><a href=\"https://sds.app.accelerate.science/projects/1234567890abcdefghijklmnopqrstvwyz123456/library/public?search=JTdCJTIyY29sbGVjdGlvbnMlMjIlM0ElNUIlMjJhcnhpdi1hYnN0cmFjdCUyMiU1RCUyQyUyMnR5cGUlMjIlM0ElMjJEb2N1bWVudCUyMiUyQyUyMmV4cHJlc3Npb24lMjIlM0ElMjJmaWxlLWluZm8uZG9jdW1lbnQtaGFzaCUzQSUyMCU1QyUyMmFlNmZlZmFkNzc1YmQ1OGQzY2JjZmY4NDU3NjE5MDE5ODJjN2Q5ZjY1YTRjNmU5MTQ5ZTk2OTI0YmI0MzRiNDIlNUMlMjIlMjIlMkMlMjJmaWx0ZXJzJTIyJTNBJTVCJTVEJTJDJTIyc2VsZWN0JTIyJTNBJTVCJTIyX25hbWUlMjIlMkMlMjJkZXNjcmlwdGlvbi5jb2xsZWN0aW9uJTIyJTJDJTIycHJvdiUyMiUyQyUyMmRlc2NyaXB0aW9uLnRpdGxlJTIyJTJDJTIyZGVzY3JpcHRpb24ucHVibGljYXRpb25fZGF0ZSUyMiUyQyUyMmRlc2NyaXB0aW9uLnVybF9yZWZzJTIyJTVEJTJDJTIyaXRlbUluZGV4JTIyJTNBMCUyQyUyMnBhZ2VTaXplJTIyJTNBMTAlMkMlMjJzZWFyY2hBZnRlckhpc3RvcnklMjIlM0ElNUIlNUQlMkMlMjJ2aWV3VHlwZSUyMiUzQSUyMnNuaXBwZXRzJTIyJTJDJTIycmVjb3JkU2VsZWN0aW9uJTIyJTNBJTdCJTIycmVjb3JkJTIyJTNBJTdCJTIyaWQlMjIlM0ElMjJhZTZmZWZhZDc3NWJkNThkM2NiY2ZmODQ1NzYxOTAxOTgyYzdkOWY2NWE0YzZlOTE0OWU5NjkyNGJiNDM0YjQyJTIyJTdEJTdEJTdE\"  target=\"_blank\"> DS </a></td>\n",
       "      <td id=\"T_55e12_row50_col6\" class=\"data row50 col6\" >1601.04003</td>\n",
       "      <td id=\"T_55e12_row50_col7\" class=\"data row50 col7\" >main-text</td>\n",
       "    </tr>\n",
       "    <tr>\n",
       "      <th id=\"T_55e12_level0_row51\" class=\"row_heading level0 row51\" >51</th>\n",
       "      <td id=\"T_55e12_row51_col0\" class=\"data row51 col0\" >Tetracene ultrathin film growth on silicon</td>\n",
       "      <td id=\"T_55e12_row51_col1\" class=\"data row51 col1\" >Jens Niederhausen,Hazem Aldahhak,Rowan W. MacQueen,Wolf Gero Schmidt,Uwe Gerstmann,Klaus Lips</td>\n",
       "      <td id=\"T_55e12_row51_col2\" class=\"data row51 col2\" >Inorganic-<span style='font-weight: bold; background-color: #FFFF00'>organic</span> interfaces are important for enhancing the <span style='font-weight: bold; background-color: #FFFF00'>power</span> <span style='font-weight: bold; background-color: #FFFF00'>conversion</span> <span style='font-weight: bold; background-color: #FFFF00'>efficiency</span> of silicon-based solar cells through singlet exciton fission (SF).</td>\n",
       "      <td id=\"T_55e12_row51_col3\" class=\"data row51 col3\" ><a href=\"https://arxiv.org/abs/2004.08562\"  target=\"_blank\"> arXiv </a></td>\n",
       "      <td id=\"T_55e12_row51_col4\" class=\"data row51 col4\" ><a href=\"https://doi.org/10.1021/acs.langmuir.0c01154\"  target=\"_blank\"> DOI </a></td>\n",
       "      <td id=\"T_55e12_row51_col5\" class=\"data row51 col5\" ><a href=\"https://sds.app.accelerate.science/projects/1234567890abcdefghijklmnopqrstvwyz123456/library/public?search=JTdCJTIyY29sbGVjdGlvbnMlMjIlM0ElNUIlMjJhcnhpdi1hYnN0cmFjdCUyMiU1RCUyQyUyMnR5cGUlMjIlM0ElMjJEb2N1bWVudCUyMiUyQyUyMmV4cHJlc3Npb24lMjIlM0ElMjJmaWxlLWluZm8uZG9jdW1lbnQtaGFzaCUzQSUyMCU1QyUyMmIzNmEzOTU2ODYxZTg2M2NlNTIxOTA1ZWRhOWQ2YmM3MDE4NTBjNWFhMjBlODkxZmI4YTVjZWI3OTQ2NTg2OGIlNUMlMjIlMjIlMkMlMjJmaWx0ZXJzJTIyJTNBJTVCJTVEJTJDJTIyc2VsZWN0JTIyJTNBJTVCJTIyX25hbWUlMjIlMkMlMjJkZXNjcmlwdGlvbi5jb2xsZWN0aW9uJTIyJTJDJTIycHJvdiUyMiUyQyUyMmRlc2NyaXB0aW9uLnRpdGxlJTIyJTJDJTIyZGVzY3JpcHRpb24ucHVibGljYXRpb25fZGF0ZSUyMiUyQyUyMmRlc2NyaXB0aW9uLnVybF9yZWZzJTIyJTVEJTJDJTIyaXRlbUluZGV4JTIyJTNBMCUyQyUyMnBhZ2VTaXplJTIyJTNBMTAlMkMlMjJzZWFyY2hBZnRlckhpc3RvcnklMjIlM0ElNUIlNUQlMkMlMjJ2aWV3VHlwZSUyMiUzQSUyMnNuaXBwZXRzJTIyJTJDJTIycmVjb3JkU2VsZWN0aW9uJTIyJTNBJTdCJTIycmVjb3JkJTIyJTNBJTdCJTIyaWQlMjIlM0ElMjJiMzZhMzk1Njg2MWU4NjNjZTUyMTkwNWVkYTlkNmJjNzAxODUwYzVhYTIwZTg5MWZiOGE1Y2ViNzk0NjU4NjhiJTIyJTdEJTdEJTdE\"  target=\"_blank\"> DS </a></td>\n",
       "      <td id=\"T_55e12_row51_col6\" class=\"data row51 col6\" >2004.08562</td>\n",
       "      <td id=\"T_55e12_row51_col7\" class=\"data row51 col7\" >main-text</td>\n",
       "    </tr>\n",
       "    <tr>\n",
       "      <th id=\"T_55e12_level0_row52\" class=\"row_heading level0 row52\" >52</th>\n",
       "      <td id=\"T_55e12_row52_col0\" class=\"data row52 col0\" >A First-principles study on ABBr3 (A = Cs, Rb, K, Na; B = Ge, Sn) halide\n",
       "  perovskites for photovoltaic applications</td>\n",
       "      <td id=\"T_55e12_row52_col1\" class=\"data row52 col1\" >Dibyajyoti Saikia,Mahfooz Alam,Jayanta Bera,Atanu Betal,Appala Naidu Gandhi,Satyajit Sahu</td>\n",
       "      <td id=\"T_55e12_row52_col2\" class=\"data row52 col2\" >With regard to the toxicity of Pb and the instability of <span style='font-weight: bold; background-color: #FFFF00'>organic</span> elements, all inorganic lead-free perovskites (ILPs) have been extensively studied to achieve comparable or greater photovoltaic performance.</td>\n",
       "      <td id=\"T_55e12_row52_col3\" class=\"data row52 col3\" ><a href=\"https://arxiv.org/abs/2205.01384\"  target=\"_blank\"> arXiv </a></td>\n",
       "      <td id=\"T_55e12_row52_col4\" class=\"data row52 col4\" ></td>\n",
       "      <td id=\"T_55e12_row52_col5\" class=\"data row52 col5\" ><a href=\"https://sds.app.accelerate.science/projects/1234567890abcdefghijklmnopqrstvwyz123456/library/public?search=JTdCJTIyY29sbGVjdGlvbnMlMjIlM0ElNUIlMjJhcnhpdi1hYnN0cmFjdCUyMiU1RCUyQyUyMnR5cGUlMjIlM0ElMjJEb2N1bWVudCUyMiUyQyUyMmV4cHJlc3Npb24lMjIlM0ElMjJmaWxlLWluZm8uZG9jdW1lbnQtaGFzaCUzQSUyMCU1QyUyMmI1NjdjNjExM2RlZTg2ODc0M2E3NTc0OGM3ZDYyMmM5YjNjMjYzMzg5N2JiYjZlMjNjYTIxZWY1MjhlYzljOGUlNUMlMjIlMjIlMkMlMjJmaWx0ZXJzJTIyJTNBJTVCJTVEJTJDJTIyc2VsZWN0JTIyJTNBJTVCJTIyX25hbWUlMjIlMkMlMjJkZXNjcmlwdGlvbi5jb2xsZWN0aW9uJTIyJTJDJTIycHJvdiUyMiUyQyUyMmRlc2NyaXB0aW9uLnRpdGxlJTIyJTJDJTIyZGVzY3JpcHRpb24ucHVibGljYXRpb25fZGF0ZSUyMiUyQyUyMmRlc2NyaXB0aW9uLnVybF9yZWZzJTIyJTVEJTJDJTIyaXRlbUluZGV4JTIyJTNBMCUyQyUyMnBhZ2VTaXplJTIyJTNBMTAlMkMlMjJzZWFyY2hBZnRlckhpc3RvcnklMjIlM0ElNUIlNUQlMkMlMjJ2aWV3VHlwZSUyMiUzQSUyMnNuaXBwZXRzJTIyJTJDJTIycmVjb3JkU2VsZWN0aW9uJTIyJTNBJTdCJTIycmVjb3JkJTIyJTNBJTdCJTIyaWQlMjIlM0ElMjJiNTY3YzYxMTNkZWU4Njg3NDNhNzU3NDhjN2Q2MjJjOWIzYzI2MzM4OTdiYmI2ZTIzY2EyMWVmNTI4ZWM5YzhlJTIyJTdEJTdEJTdE\"  target=\"_blank\"> DS </a></td>\n",
       "      <td id=\"T_55e12_row52_col6\" class=\"data row52 col6\" >2205.01384</td>\n",
       "      <td id=\"T_55e12_row52_col7\" class=\"data row52 col7\" >main-text</td>\n",
       "    </tr>\n",
       "    <tr>\n",
       "      <th id=\"T_55e12_level0_row53\" class=\"row_heading level0 row53\" >53</th>\n",
       "      <td id=\"T_55e12_row53_col0\" class=\"data row53 col0\" >Understanding the Role of Non-Fullerene Acceptors Crystallinity on the\n",
       "  Charge Transport Properties and Performance of Organic Solar Cells</td>\n",
       "      <td id=\"T_55e12_row53_col1\" class=\"data row53 col1\" >Pierluigi Mondelli,Pascal Kaienburg,Francesco Silvestri,Rebecca Scatena,Claire Welton,Martine Grandjean,Vincent Lemaur,Eduardo Solano,Mathias Nyman,Peter Horton,Simon Coles,Esther Barrena,Moritz Riede,Paolo Radaelli,David Beljonne,Manjunatha Reddy,Graham Morse</td>\n",
       "      <td id=\"T_55e12_row53_col2\" class=\"data row53 col2\" >Although that NFA crystallinity is required to obtain high mobility, the domain purity is more important to limit the bimolecular recombination and to obtain high efficiency <span style='font-weight: bold; background-color: #FFFF00'>organic</span> solar cells.</td>\n",
       "      <td id=\"T_55e12_row53_col3\" class=\"data row53 col3\" ><a href=\"https://arxiv.org/abs/2301.00214\"  target=\"_blank\"> arXiv </a></td>\n",
       "      <td id=\"T_55e12_row53_col4\" class=\"data row53 col4\" ></td>\n",
       "      <td id=\"T_55e12_row53_col5\" class=\"data row53 col5\" ><a href=\"https://sds.app.accelerate.science/projects/1234567890abcdefghijklmnopqrstvwyz123456/library/public?search=JTdCJTIyY29sbGVjdGlvbnMlMjIlM0ElNUIlMjJhcnhpdi1hYnN0cmFjdCUyMiU1RCUyQyUyMnR5cGUlMjIlM0ElMjJEb2N1bWVudCUyMiUyQyUyMmV4cHJlc3Npb24lMjIlM0ElMjJmaWxlLWluZm8uZG9jdW1lbnQtaGFzaCUzQSUyMCU1QyUyMmI2MDgwM2ZkMDEzMTg2ODg1NzcwYzc1YTEwYzYxNWE1YTg0N2NmMDI0ODE1NjM3OTcyYjdhYjRkYmQ0NDNmOTElNUMlMjIlMjIlMkMlMjJmaWx0ZXJzJTIyJTNBJTVCJTVEJTJDJTIyc2VsZWN0JTIyJTNBJTVCJTIyX25hbWUlMjIlMkMlMjJkZXNjcmlwdGlvbi5jb2xsZWN0aW9uJTIyJTJDJTIycHJvdiUyMiUyQyUyMmRlc2NyaXB0aW9uLnRpdGxlJTIyJTJDJTIyZGVzY3JpcHRpb24ucHVibGljYXRpb25fZGF0ZSUyMiUyQyUyMmRlc2NyaXB0aW9uLnVybF9yZWZzJTIyJTVEJTJDJTIyaXRlbUluZGV4JTIyJTNBMCUyQyUyMnBhZ2VTaXplJTIyJTNBMTAlMkMlMjJzZWFyY2hBZnRlckhpc3RvcnklMjIlM0ElNUIlNUQlMkMlMjJ2aWV3VHlwZSUyMiUzQSUyMnNuaXBwZXRzJTIyJTJDJTIycmVjb3JkU2VsZWN0aW9uJTIyJTNBJTdCJTIycmVjb3JkJTIyJTNBJTdCJTIyaWQlMjIlM0ElMjJiNjA4MDNmZDAxMzE4Njg4NTc3MGM3NWExMGM2MTVhNWE4NDdjZjAyNDgxNTYzNzk3MmI3YWI0ZGJkNDQzZjkxJTIyJTdEJTdEJTdE\"  target=\"_blank\"> DS </a></td>\n",
       "      <td id=\"T_55e12_row53_col6\" class=\"data row53 col6\" >2301.00214</td>\n",
       "      <td id=\"T_55e12_row53_col7\" class=\"data row53 col7\" >main-text</td>\n",
       "    </tr>\n",
       "    <tr>\n",
       "      <th id=\"T_55e12_level0_row54\" class=\"row_heading level0 row54\" >54</th>\n",
       "      <td id=\"T_55e12_row54_col0\" class=\"data row54 col0\" >Triplet Exciton Generation in Bulk-Heterojunction Solar Cells based on\n",
       "  Endohedral Fullerenes</td>\n",
       "      <td id=\"T_55e12_row54_col1\" class=\"data row54 col1\" >Moritz Liedtke,Andreas Sperlich,Hannes Kraus,Andreas Baumann,Carsten Deibel,Maarten J. M. Wirix,Joachim Loos,Claudia M. Cardona,Vladimir Dyakonov</td>\n",
       "      <td id=\"T_55e12_row54_col2\" class=\"data row54 col2\" >To fully exploit the potential of this acceptor molecule with respect to the <span style='font-weight: bold; background-color: #FFFF00'>power</span> <span style='font-weight: bold; background-color: #FFFF00'>conversion</span> <span style='font-weight: bold; background-color: #FFFF00'>efficiency</span> (<span style='font-weight: bold; background-color: #FFFF00'>PCE</span>) of solar cells, the short circuit current (JSC) should be improved to become competitive with the state of the art solar cells.</td>\n",
       "      <td id=\"T_55e12_row54_col3\" class=\"data row54 col3\" ><a href=\"https://arxiv.org/abs/1107.3525\"  target=\"_blank\"> arXiv </a></td>\n",
       "      <td id=\"T_55e12_row54_col4\" class=\"data row54 col4\" ><a href=\"https://doi.org/10.1021/ja2025432\"  target=\"_blank\"> DOI </a></td>\n",
       "      <td id=\"T_55e12_row54_col5\" class=\"data row54 col5\" ><a href=\"https://sds.app.accelerate.science/projects/1234567890abcdefghijklmnopqrstvwyz123456/library/public?search=JTdCJTIyY29sbGVjdGlvbnMlMjIlM0ElNUIlMjJhcnhpdi1hYnN0cmFjdCUyMiU1RCUyQyUyMnR5cGUlMjIlM0ElMjJEb2N1bWVudCUyMiUyQyUyMmV4cHJlc3Npb24lMjIlM0ElMjJmaWxlLWluZm8uZG9jdW1lbnQtaGFzaCUzQSUyMCU1QyUyMmI3NjgzOTllNGMyMDIzMGE5MjkyNzc5ODI1Njk0NWNkZjE5YzUzNTYxODdiNzQ5YTUyMmNmODhjZjc4NWE2NTAlNUMlMjIlMjIlMkMlMjJmaWx0ZXJzJTIyJTNBJTVCJTVEJTJDJTIyc2VsZWN0JTIyJTNBJTVCJTIyX25hbWUlMjIlMkMlMjJkZXNjcmlwdGlvbi5jb2xsZWN0aW9uJTIyJTJDJTIycHJvdiUyMiUyQyUyMmRlc2NyaXB0aW9uLnRpdGxlJTIyJTJDJTIyZGVzY3JpcHRpb24ucHVibGljYXRpb25fZGF0ZSUyMiUyQyUyMmRlc2NyaXB0aW9uLnVybF9yZWZzJTIyJTVEJTJDJTIyaXRlbUluZGV4JTIyJTNBMCUyQyUyMnBhZ2VTaXplJTIyJTNBMTAlMkMlMjJzZWFyY2hBZnRlckhpc3RvcnklMjIlM0ElNUIlNUQlMkMlMjJ2aWV3VHlwZSUyMiUzQSUyMnNuaXBwZXRzJTIyJTJDJTIycmVjb3JkU2VsZWN0aW9uJTIyJTNBJTdCJTIycmVjb3JkJTIyJTNBJTdCJTIyaWQlMjIlM0ElMjJiNzY4Mzk5ZTRjMjAyMzBhOTI5Mjc3OTgyNTY5NDVjZGYxOWM1MzU2MTg3Yjc0OWE1MjJjZjg4Y2Y3ODVhNjUwJTIyJTdEJTdEJTdE\"  target=\"_blank\"> DS </a></td>\n",
       "      <td id=\"T_55e12_row54_col6\" class=\"data row54 col6\" >1107.3525</td>\n",
       "      <td id=\"T_55e12_row54_col7\" class=\"data row54 col7\" >main-text</td>\n",
       "    </tr>\n",
       "    <tr>\n",
       "      <th id=\"T_55e12_level0_row55\" class=\"row_heading level0 row55\" >55</th>\n",
       "      <td id=\"T_55e12_row55_col0\" class=\"data row55 col0\" >Ultraviolet and Near-Infrared Dual Band Selective-Harvesting Transparent\n",
       "  Luminescent Solar Concentrators</td>\n",
       "      <td id=\"T_55e12_row55_col1\" class=\"data row55 col1\" >Chenchen Yang,Wei Sheng,Mehdi Moemeni,Matthew Bates,Christopher K. Herrera,Babak Borhan,Richard R. Lunt</td>\n",
       "      <td id=\"T_55e12_row55_col2\" class=\"data row55 col2\" >With distinct wavelength-selectivity and effective utilization of the invisible portion of the solar spectrum, this work reports the highest light utilization efficiency (<span style='font-weight: bold; background-color: #FFFF00'>PCE</span> x AVT) of 2.6 for a TLSC system, the highest <span style='font-weight: bold; background-color: #FFFF00'>PCE</span> of any transparent photovoltaic device with AVT greater than 70%, and outperforms the practical limit for non-wavelength-selective transparent photovoltaics.</td>\n",
       "      <td id=\"T_55e12_row55_col3\" class=\"data row55 col3\" ><a href=\"https://arxiv.org/abs/2009.09542\"  target=\"_blank\"> arXiv </a></td>\n",
       "      <td id=\"T_55e12_row55_col4\" class=\"data row55 col4\" ></td>\n",
       "      <td id=\"T_55e12_row55_col5\" class=\"data row55 col5\" ><a href=\"https://sds.app.accelerate.science/projects/1234567890abcdefghijklmnopqrstvwyz123456/library/public?search=JTdCJTIyY29sbGVjdGlvbnMlMjIlM0ElNUIlMjJhcnhpdi1hYnN0cmFjdCUyMiU1RCUyQyUyMnR5cGUlMjIlM0ElMjJEb2N1bWVudCUyMiUyQyUyMmV4cHJlc3Npb24lMjIlM0ElMjJmaWxlLWluZm8uZG9jdW1lbnQtaGFzaCUzQSUyMCU1QyUyMmMyZmE2MmY4ZjI2MGU4NzgwN2RiOGU1OGI0MmVkODYyMTUxYWNkMTNiMmVhMDNmM2RiNjBjOWRiZjhhMDYyZGIlNUMlMjIlMjIlMkMlMjJmaWx0ZXJzJTIyJTNBJTVCJTVEJTJDJTIyc2VsZWN0JTIyJTNBJTVCJTIyX25hbWUlMjIlMkMlMjJkZXNjcmlwdGlvbi5jb2xsZWN0aW9uJTIyJTJDJTIycHJvdiUyMiUyQyUyMmRlc2NyaXB0aW9uLnRpdGxlJTIyJTJDJTIyZGVzY3JpcHRpb24ucHVibGljYXRpb25fZGF0ZSUyMiUyQyUyMmRlc2NyaXB0aW9uLnVybF9yZWZzJTIyJTVEJTJDJTIyaXRlbUluZGV4JTIyJTNBMCUyQyUyMnBhZ2VTaXplJTIyJTNBMTAlMkMlMjJzZWFyY2hBZnRlckhpc3RvcnklMjIlM0ElNUIlNUQlMkMlMjJ2aWV3VHlwZSUyMiUzQSUyMnNuaXBwZXRzJTIyJTJDJTIycmVjb3JkU2VsZWN0aW9uJTIyJTNBJTdCJTIycmVjb3JkJTIyJTNBJTdCJTIyaWQlMjIlM0ElMjJjMmZhNjJmOGYyNjBlODc4MDdkYjhlNThiNDJlZDg2MjE1MWFjZDEzYjJlYTAzZjNkYjYwYzlkYmY4YTA2MmRiJTIyJTdEJTdEJTdE\"  target=\"_blank\"> DS </a></td>\n",
       "      <td id=\"T_55e12_row55_col6\" class=\"data row55 col6\" >2009.09542</td>\n",
       "      <td id=\"T_55e12_row55_col7\" class=\"data row55 col7\" >main-text</td>\n",
       "    </tr>\n",
       "    <tr>\n",
       "      <th id=\"T_55e12_level0_row56\" class=\"row_heading level0 row56\" >56</th>\n",
       "      <td id=\"T_55e12_row56_col0\" class=\"data row56 col0\" >Structural Dynamics of Polymer:Non-Fullerene Organic Solar Cell Blends:\n",
       "  A Neutron Spectroscopy Perspective</td>\n",
       "      <td id=\"T_55e12_row56_col1\" class=\"data row56 col1\" >Mohamed Zbiri,Peter A. Gilhooly-Finn,Peter Fouquet,Christian B. Nielsen,Anne A. Y. Guilbert</td>\n",
       "      <td id=\"T_55e12_row56_col2\" class=\"data row56 col2\" >The absence or the weak vitrification evidenced here is in line with recent reports and is likely related to the improved <span style='font-weight: bold; background-color: #FFFF00'>PCE</span> exhibited by the ADA-type NFA-based OSCs.</td>\n",
       "      <td id=\"T_55e12_row56_col3\" class=\"data row56 col3\" ><a href=\"https://arxiv.org/abs/2209.00106\"  target=\"_blank\"> arXiv </a></td>\n",
       "      <td id=\"T_55e12_row56_col4\" class=\"data row56 col4\" ><a href=\"https://doi.org/10.1021/acs.chemmater.2c01705\"  target=\"_blank\"> DOI </a></td>\n",
       "      <td id=\"T_55e12_row56_col5\" class=\"data row56 col5\" ><a href=\"https://sds.app.accelerate.science/projects/1234567890abcdefghijklmnopqrstvwyz123456/library/public?search=JTdCJTIyY29sbGVjdGlvbnMlMjIlM0ElNUIlMjJhcnhpdi1hYnN0cmFjdCUyMiU1RCUyQyUyMnR5cGUlMjIlM0ElMjJEb2N1bWVudCUyMiUyQyUyMmV4cHJlc3Npb24lMjIlM0ElMjJmaWxlLWluZm8uZG9jdW1lbnQtaGFzaCUzQSUyMCU1QyUyMmM0ODc5OWQzZjcwMzM0Y2ViYzg5ZDlhNjJiYjAzNzVlYzQ1MWNjNTQyZDdiNzhiNTFjMGRkNTg1ZDA4YzYzZTQlNUMlMjIlMjIlMkMlMjJmaWx0ZXJzJTIyJTNBJTVCJTVEJTJDJTIyc2VsZWN0JTIyJTNBJTVCJTIyX25hbWUlMjIlMkMlMjJkZXNjcmlwdGlvbi5jb2xsZWN0aW9uJTIyJTJDJTIycHJvdiUyMiUyQyUyMmRlc2NyaXB0aW9uLnRpdGxlJTIyJTJDJTIyZGVzY3JpcHRpb24ucHVibGljYXRpb25fZGF0ZSUyMiUyQyUyMmRlc2NyaXB0aW9uLnVybF9yZWZzJTIyJTVEJTJDJTIyaXRlbUluZGV4JTIyJTNBMCUyQyUyMnBhZ2VTaXplJTIyJTNBMTAlMkMlMjJzZWFyY2hBZnRlckhpc3RvcnklMjIlM0ElNUIlNUQlMkMlMjJ2aWV3VHlwZSUyMiUzQSUyMnNuaXBwZXRzJTIyJTJDJTIycmVjb3JkU2VsZWN0aW9uJTIyJTNBJTdCJTIycmVjb3JkJTIyJTNBJTdCJTIyaWQlMjIlM0ElMjJjNDg3OTlkM2Y3MDMzNGNlYmM4OWQ5YTYyYmIwMzc1ZWM0NTFjYzU0MmQ3Yjc4YjUxYzBkZDU4NWQwOGM2M2U0JTIyJTdEJTdEJTdE\"  target=\"_blank\"> DS </a></td>\n",
       "      <td id=\"T_55e12_row56_col6\" class=\"data row56 col6\" >2209.00106</td>\n",
       "      <td id=\"T_55e12_row56_col7\" class=\"data row56 col7\" >main-text</td>\n",
       "    </tr>\n",
       "    <tr>\n",
       "      <th id=\"T_55e12_level0_row57\" class=\"row_heading level0 row57\" >57</th>\n",
       "      <td id=\"T_55e12_row57_col0\" class=\"data row57 col0\" >An efficient method for performance improvement of organometal halide\n",
       "  perovskite solar cell via external electric field</td>\n",
       "      <td id=\"T_55e12_row57_col1\" class=\"data row57 col1\" >Xiu Gong,Heng Ma,Yu-Rong Jiang,Meng Li,Zhao-Kui Wang,Tetsuo Soga</td>\n",
       "      <td id=\"T_55e12_row57_col2\" class=\"data row57 col2\" >Using the simplest planar device, the largest positive EEF of 2.5*10^6 V/m makes <span style='font-weight: bold; background-color: #FFFF00'>PCE</span> increase from 12.86 to 14.33, whose increment reaches 11.4% compared with non-EFE sample.</td>\n",
       "      <td id=\"T_55e12_row57_col3\" class=\"data row57 col3\" ><a href=\"https://arxiv.org/abs/1507.02353\"  target=\"_blank\"> arXiv </a></td>\n",
       "      <td id=\"T_55e12_row57_col4\" class=\"data row57 col4\" ></td>\n",
       "      <td id=\"T_55e12_row57_col5\" class=\"data row57 col5\" ><a href=\"https://sds.app.accelerate.science/projects/1234567890abcdefghijklmnopqrstvwyz123456/library/public?search=JTdCJTIyY29sbGVjdGlvbnMlMjIlM0ElNUIlMjJhcnhpdi1hYnN0cmFjdCUyMiU1RCUyQyUyMnR5cGUlMjIlM0ElMjJEb2N1bWVudCUyMiUyQyUyMmV4cHJlc3Npb24lMjIlM0ElMjJmaWxlLWluZm8uZG9jdW1lbnQtaGFzaCUzQSUyMCU1QyUyMmM0YmNiM2MzNTg4YjU3Y2E5ZTk5Yjg4ZWMzMmZiMjUwMDhmN2Q3ODY2YzRhMzk2MTMwYjllMTllOWI5ZDNlMzIlNUMlMjIlMjIlMkMlMjJmaWx0ZXJzJTIyJTNBJTVCJTVEJTJDJTIyc2VsZWN0JTIyJTNBJTVCJTIyX25hbWUlMjIlMkMlMjJkZXNjcmlwdGlvbi5jb2xsZWN0aW9uJTIyJTJDJTIycHJvdiUyMiUyQyUyMmRlc2NyaXB0aW9uLnRpdGxlJTIyJTJDJTIyZGVzY3JpcHRpb24ucHVibGljYXRpb25fZGF0ZSUyMiUyQyUyMmRlc2NyaXB0aW9uLnVybF9yZWZzJTIyJTVEJTJDJTIyaXRlbUluZGV4JTIyJTNBMCUyQyUyMnBhZ2VTaXplJTIyJTNBMTAlMkMlMjJzZWFyY2hBZnRlckhpc3RvcnklMjIlM0ElNUIlNUQlMkMlMjJ2aWV3VHlwZSUyMiUzQSUyMnNuaXBwZXRzJTIyJTJDJTIycmVjb3JkU2VsZWN0aW9uJTIyJTNBJTdCJTIycmVjb3JkJTIyJTNBJTdCJTIyaWQlMjIlM0ElMjJjNGJjYjNjMzU4OGI1N2NhOWU5OWI4OGVjMzJmYjI1MDA4ZjdkNzg2NmM0YTM5NjEzMGI5ZTE5ZTliOWQzZTMyJTIyJTdEJTdEJTdE\"  target=\"_blank\"> DS </a></td>\n",
       "      <td id=\"T_55e12_row57_col6\" class=\"data row57 col6\" >1507.02353</td>\n",
       "      <td id=\"T_55e12_row57_col7\" class=\"data row57 col7\" >main-text</td>\n",
       "    </tr>\n",
       "    <tr>\n",
       "      <th id=\"T_55e12_level0_row58\" class=\"row_heading level0 row58\" >58</th>\n",
       "      <td id=\"T_55e12_row58_col0\" class=\"data row58 col0\" >The Thermodynamic Limit of Indoor Photovoltaics Based on\n",
       "  Energetically-Disordered Molecular Semiconductors</td>\n",
       "      <td id=\"T_55e12_row58_col1\" class=\"data row58 col1\" >Austin M. Kay,Maura E. Fitzsimons,Gregory Burwell,Paul Meredith,Ardalan Armin,Oskar J. Sandberg</td>\n",
       "      <td id=\"T_55e12_row58_col2\" class=\"data row58 col2\" >Based on these considerations, we provide realistic upper estimates for the <span style='font-weight: bold; background-color: #FFFF00'>power</span> <span style='font-weight: bold; background-color: #FFFF00'>conversion</span> <span style='font-weight: bold; background-color: #FFFF00'>efficiency</span>.</td>\n",
       "      <td id=\"T_55e12_row58_col3\" class=\"data row58 col3\" ><a href=\"https://arxiv.org/abs/2303.02004\"  target=\"_blank\"> arXiv </a></td>\n",
       "      <td id=\"T_55e12_row58_col4\" class=\"data row58 col4\" ></td>\n",
       "      <td id=\"T_55e12_row58_col5\" class=\"data row58 col5\" ><a href=\"https://sds.app.accelerate.science/projects/1234567890abcdefghijklmnopqrstvwyz123456/library/public?search=JTdCJTIyY29sbGVjdGlvbnMlMjIlM0ElNUIlMjJhcnhpdi1hYnN0cmFjdCUyMiU1RCUyQyUyMnR5cGUlMjIlM0ElMjJEb2N1bWVudCUyMiUyQyUyMmV4cHJlc3Npb24lMjIlM0ElMjJmaWxlLWluZm8uZG9jdW1lbnQtaGFzaCUzQSUyMCU1QyUyMmM0ZDk3ZjVkMDFmOGU3OTZmM2QwYWVmNTkxMWI5YmQxZjFiZjEzYWMxZmJhYTRjYjViYzQxYjk3MTFlNjkwMzIlNUMlMjIlMjIlMkMlMjJmaWx0ZXJzJTIyJTNBJTVCJTVEJTJDJTIyc2VsZWN0JTIyJTNBJTVCJTIyX25hbWUlMjIlMkMlMjJkZXNjcmlwdGlvbi5jb2xsZWN0aW9uJTIyJTJDJTIycHJvdiUyMiUyQyUyMmRlc2NyaXB0aW9uLnRpdGxlJTIyJTJDJTIyZGVzY3JpcHRpb24ucHVibGljYXRpb25fZGF0ZSUyMiUyQyUyMmRlc2NyaXB0aW9uLnVybF9yZWZzJTIyJTVEJTJDJTIyaXRlbUluZGV4JTIyJTNBMCUyQyUyMnBhZ2VTaXplJTIyJTNBMTAlMkMlMjJzZWFyY2hBZnRlckhpc3RvcnklMjIlM0ElNUIlNUQlMkMlMjJ2aWV3VHlwZSUyMiUzQSUyMnNuaXBwZXRzJTIyJTJDJTIycmVjb3JkU2VsZWN0aW9uJTIyJTNBJTdCJTIycmVjb3JkJTIyJTNBJTdCJTIyaWQlMjIlM0ElMjJjNGQ5N2Y1ZDAxZjhlNzk2ZjNkMGFlZjU5MTFiOWJkMWYxYmYxM2FjMWZiYWE0Y2I1YmM0MWI5NzExZTY5MDMyJTIyJTdEJTdEJTdE\"  target=\"_blank\"> DS </a></td>\n",
       "      <td id=\"T_55e12_row58_col6\" class=\"data row58 col6\" >2303.02004</td>\n",
       "      <td id=\"T_55e12_row58_col7\" class=\"data row58 col7\" >main-text</td>\n",
       "    </tr>\n",
       "    <tr>\n",
       "      <th id=\"T_55e12_level0_row59\" class=\"row_heading level0 row59\" >59</th>\n",
       "      <td id=\"T_55e12_row59_col0\" class=\"data row59 col0\" >Antimony doped Tin Oxide/Polyethylenimine Electron Selective Contact for\n",
       "  reliable and light soaking-free high Performance Inverted Organic Solar Cells</td>\n",
       "      <td id=\"T_55e12_row59_col1\" class=\"data row59 col1\" >Efthymios Georgiou,Ioannis T. Papadas,Ioanna Antoniou,Marek F. Oszajca,Benjamin Hartmeier,Michael Rossier,Norman A. Luechinger,Stelios. A. Choulis</td>\n",
       "      <td id=\"T_55e12_row59_col2\" class=\"data row59 col2\" >Furthermore, by increasing the thickness of ATO layer from 40 to 120 nm the <span style='font-weight: bold; background-color: #FFFF00'>power</span> <span style='font-weight: bold; background-color: #FFFF00'>conversion</span> <span style='font-weight: bold; background-color: #FFFF00'>efficiency</span> of the corresponding inverted OPVs remain unaffected a parameter which indicates the potential of the proposed ATO/PEI carrier selective contact for high performance light-soaking-free and reliable roll-to-roll printing solutions processed inverted OPVs.</td>\n",
       "      <td id=\"T_55e12_row59_col3\" class=\"data row59 col3\" ><a href=\"https://arxiv.org/abs/1910.04017\"  target=\"_blank\"> arXiv </a></td>\n",
       "      <td id=\"T_55e12_row59_col4\" class=\"data row59 col4\" ><a href=\"https://doi.org/10.1063/1.5115260\"  target=\"_blank\"> DOI </a></td>\n",
       "      <td id=\"T_55e12_row59_col5\" class=\"data row59 col5\" ><a href=\"https://sds.app.accelerate.science/projects/1234567890abcdefghijklmnopqrstvwyz123456/library/public?search=JTdCJTIyY29sbGVjdGlvbnMlMjIlM0ElNUIlMjJhcnhpdi1hYnN0cmFjdCUyMiU1RCUyQyUyMnR5cGUlMjIlM0ElMjJEb2N1bWVudCUyMiUyQyUyMmV4cHJlc3Npb24lMjIlM0ElMjJmaWxlLWluZm8uZG9jdW1lbnQtaGFzaCUzQSUyMCU1QyUyMmM4YmUzN2ZjZTgzOTBkMjg4OTZiZGRlYjQ5M2U2OWZhNTYwMWRjMzBjZjdlMGNhNWY5YjUzYWY0NTc0MGViMWIlNUMlMjIlMjIlMkMlMjJmaWx0ZXJzJTIyJTNBJTVCJTVEJTJDJTIyc2VsZWN0JTIyJTNBJTVCJTIyX25hbWUlMjIlMkMlMjJkZXNjcmlwdGlvbi5jb2xsZWN0aW9uJTIyJTJDJTIycHJvdiUyMiUyQyUyMmRlc2NyaXB0aW9uLnRpdGxlJTIyJTJDJTIyZGVzY3JpcHRpb24ucHVibGljYXRpb25fZGF0ZSUyMiUyQyUyMmRlc2NyaXB0aW9uLnVybF9yZWZzJTIyJTVEJTJDJTIyaXRlbUluZGV4JTIyJTNBMCUyQyUyMnBhZ2VTaXplJTIyJTNBMTAlMkMlMjJzZWFyY2hBZnRlckhpc3RvcnklMjIlM0ElNUIlNUQlMkMlMjJ2aWV3VHlwZSUyMiUzQSUyMnNuaXBwZXRzJTIyJTJDJTIycmVjb3JkU2VsZWN0aW9uJTIyJTNBJTdCJTIycmVjb3JkJTIyJTNBJTdCJTIyaWQlMjIlM0ElMjJjOGJlMzdmY2U4MzkwZDI4ODk2YmRkZWI0OTNlNjlmYTU2MDFkYzMwY2Y3ZTBjYTVmOWI1M2FmNDU3NDBlYjFiJTIyJTdEJTdEJTdE\"  target=\"_blank\"> DS </a></td>\n",
       "      <td id=\"T_55e12_row59_col6\" class=\"data row59 col6\" >1910.04017</td>\n",
       "      <td id=\"T_55e12_row59_col7\" class=\"data row59 col7\" >main-text</td>\n",
       "    </tr>\n",
       "    <tr>\n",
       "      <th id=\"T_55e12_level0_row60\" class=\"row_heading level0 row60\" >60</th>\n",
       "      <td id=\"T_55e12_row60_col0\" class=\"data row60 col0\" >Transfer Learning Using Ensemble Neural Networks for Organic Solar Cell\n",
       "  Screening</td>\n",
       "      <td id=\"T_55e12_row60_col1\" class=\"data row60 col1\" >Arindam Paul,Dipendra Jha,Reda Al-Bahrani,Wei-keng Liao,Alok Choudhary,Ankit Agrawal</td>\n",
       "      <td id=\"T_55e12_row60_col2\" class=\"data row60 col2\" >Recently, machine learning techniques have proved to be very useful in building predictive models for HOMO values of donor structures of <span style='font-weight: bold; background-color: #FFFF00'>Organic</span> Photovoltaic Cells (OPVs).</td>\n",
       "      <td id=\"T_55e12_row60_col3\" class=\"data row60 col3\" ><a href=\"https://arxiv.org/abs/1903.03178\"  target=\"_blank\"> arXiv </a></td>\n",
       "      <td id=\"T_55e12_row60_col4\" class=\"data row60 col4\" ></td>\n",
       "      <td id=\"T_55e12_row60_col5\" class=\"data row60 col5\" ><a href=\"https://sds.app.accelerate.science/projects/1234567890abcdefghijklmnopqrstvwyz123456/library/public?search=JTdCJTIyY29sbGVjdGlvbnMlMjIlM0ElNUIlMjJhcnhpdi1hYnN0cmFjdCUyMiU1RCUyQyUyMnR5cGUlMjIlM0ElMjJEb2N1bWVudCUyMiUyQyUyMmV4cHJlc3Npb24lMjIlM0ElMjJmaWxlLWluZm8uZG9jdW1lbnQtaGFzaCUzQSUyMCU1QyUyMmM4ZGE2NGQ3NTk3NDYzODY5OGY5NjNmYzRmOTlhZWE1MGI4NDBjYTNlM2M4Y2VhYzgxMDE1MTAxMmVlODhjMGIlNUMlMjIlMjIlMkMlMjJmaWx0ZXJzJTIyJTNBJTVCJTVEJTJDJTIyc2VsZWN0JTIyJTNBJTVCJTIyX25hbWUlMjIlMkMlMjJkZXNjcmlwdGlvbi5jb2xsZWN0aW9uJTIyJTJDJTIycHJvdiUyMiUyQyUyMmRlc2NyaXB0aW9uLnRpdGxlJTIyJTJDJTIyZGVzY3JpcHRpb24ucHVibGljYXRpb25fZGF0ZSUyMiUyQyUyMmRlc2NyaXB0aW9uLnVybF9yZWZzJTIyJTVEJTJDJTIyaXRlbUluZGV4JTIyJTNBMCUyQyUyMnBhZ2VTaXplJTIyJTNBMTAlMkMlMjJzZWFyY2hBZnRlckhpc3RvcnklMjIlM0ElNUIlNUQlMkMlMjJ2aWV3VHlwZSUyMiUzQSUyMnNuaXBwZXRzJTIyJTJDJTIycmVjb3JkU2VsZWN0aW9uJTIyJTNBJTdCJTIycmVjb3JkJTIyJTNBJTdCJTIyaWQlMjIlM0ElMjJjOGRhNjRkNzU5NzQ2Mzg2OThmOTYzZmM0Zjk5YWVhNTBiODQwY2EzZTNjOGNlYWM4MTAxNTEwMTJlZTg4YzBiJTIyJTdEJTdEJTdE\"  target=\"_blank\"> DS </a></td>\n",
       "      <td id=\"T_55e12_row60_col6\" class=\"data row60 col6\" >1903.03178</td>\n",
       "      <td id=\"T_55e12_row60_col7\" class=\"data row60 col7\" >main-text</td>\n",
       "    </tr>\n",
       "    <tr>\n",
       "      <th id=\"T_55e12_level0_row61\" class=\"row_heading level0 row61\" >61</th>\n",
       "      <td id=\"T_55e12_row61_col0\" class=\"data row61 col0\" >Triple-cation perovskite solar cells fabricated by hybrid PVD/blade\n",
       "  coating process using green solvents</td>\n",
       "      <td id=\"T_55e12_row61_col1\" class=\"data row61 col1\" >Severin Siegrist,Shih-Chi Yang,Evgeniia Gilshtein,Xiaoxiao Sun,Ayodhya N. Tiwari,Fan Fu</td>\n",
       "      <td id=\"T_55e12_row61_col2\" class=\"data row61 col2\" >The fabricated PSCs have yielded open-circuit voltage up to 1.16 V and <span style='font-weight: bold; background-color: #FFFF00'>power</span> <span style='font-weight: bold; background-color: #FFFF00'>conversion</span> <span style='font-weight: bold; background-color: #FFFF00'>efficiency</span> of 18.7 % with good uniformity on 5 cm x 5 cm substrates.</td>\n",
       "      <td id=\"T_55e12_row61_col3\" class=\"data row61 col3\" ><a href=\"https://arxiv.org/abs/2108.13794\"  target=\"_blank\"> arXiv </a></td>\n",
       "      <td id=\"T_55e12_row61_col4\" class=\"data row61 col4\" ><a href=\"https://doi.org/10.1039/D1TA07579A\"  target=\"_blank\"> DOI </a></td>\n",
       "      <td id=\"T_55e12_row61_col5\" class=\"data row61 col5\" ><a href=\"https://sds.app.accelerate.science/projects/1234567890abcdefghijklmnopqrstvwyz123456/library/public?search=JTdCJTIyY29sbGVjdGlvbnMlMjIlM0ElNUIlMjJhcnhpdi1hYnN0cmFjdCUyMiU1RCUyQyUyMnR5cGUlMjIlM0ElMjJEb2N1bWVudCUyMiUyQyUyMmV4cHJlc3Npb24lMjIlM0ElMjJmaWxlLWluZm8uZG9jdW1lbnQtaGFzaCUzQSUyMCU1QyUyMmNkMDg3YTQ2OGJhMTRhMTQwNmM0ZDMzMDIwYzdiNjk3MDc3ODYzZDVlZmVhNTJkNjI1NjQ2ZDk4NTdmNjk5NzAlNUMlMjIlMjIlMkMlMjJmaWx0ZXJzJTIyJTNBJTVCJTVEJTJDJTIyc2VsZWN0JTIyJTNBJTVCJTIyX25hbWUlMjIlMkMlMjJkZXNjcmlwdGlvbi5jb2xsZWN0aW9uJTIyJTJDJTIycHJvdiUyMiUyQyUyMmRlc2NyaXB0aW9uLnRpdGxlJTIyJTJDJTIyZGVzY3JpcHRpb24ucHVibGljYXRpb25fZGF0ZSUyMiUyQyUyMmRlc2NyaXB0aW9uLnVybF9yZWZzJTIyJTVEJTJDJTIyaXRlbUluZGV4JTIyJTNBMCUyQyUyMnBhZ2VTaXplJTIyJTNBMTAlMkMlMjJzZWFyY2hBZnRlckhpc3RvcnklMjIlM0ElNUIlNUQlMkMlMjJ2aWV3VHlwZSUyMiUzQSUyMnNuaXBwZXRzJTIyJTJDJTIycmVjb3JkU2VsZWN0aW9uJTIyJTNBJTdCJTIycmVjb3JkJTIyJTNBJTdCJTIyaWQlMjIlM0ElMjJjZDA4N2E0NjhiYTE0YTE0MDZjNGQzMzAyMGM3YjY5NzA3Nzg2M2Q1ZWZlYTUyZDYyNTY0NmQ5ODU3ZjY5OTcwJTIyJTdEJTdEJTdE\"  target=\"_blank\"> DS </a></td>\n",
       "      <td id=\"T_55e12_row61_col6\" class=\"data row61 col6\" >2108.13794</td>\n",
       "      <td id=\"T_55e12_row61_col7\" class=\"data row61 col7\" >main-text</td>\n",
       "    </tr>\n",
       "    <tr>\n",
       "      <th id=\"T_55e12_level0_row62\" class=\"row_heading level0 row62\" >62</th>\n",
       "      <td id=\"T_55e12_row62_col0\" class=\"data row62 col0\" >The Effect of Hole Transporting Layer in Charge Accumulation Properties\n",
       "  of p-i-n Perovskite Solar Cells</td>\n",
       "      <td id=\"T_55e12_row62_col1\" class=\"data row62 col1\" >Fedros Galatopoulos,Achilleas Savva,Ioannis T. Papadas,Stelios A. Choulis</td>\n",
       "      <td id=\"T_55e12_row62_col2\" class=\"data row62 col2\" >These charge accumulation properties of the three HTLs have resulted in an increase to the <span style='font-weight: bold; background-color: #FFFF00'>power</span> <span style='font-weight: bold; background-color: #FFFF00'>conversion</span> <span style='font-weight: bold; background-color: #FFFF00'>efficiency</span> between the PEDOT:PSS (8.44%), Cu:NiOx (11.45%) and CuO (15.3%)-based devices.</td>\n",
       "      <td id=\"T_55e12_row62_col3\" class=\"data row62 col3\" ><a href=\"https://arxiv.org/abs/1807.07308\"  target=\"_blank\"> arXiv </a></td>\n",
       "      <td id=\"T_55e12_row62_col4\" class=\"data row62 col4\" ><a href=\"https://doi.org/10.1063/1.4991030\"  target=\"_blank\"> DOI </a></td>\n",
       "      <td id=\"T_55e12_row62_col5\" class=\"data row62 col5\" ><a href=\"https://sds.app.accelerate.science/projects/1234567890abcdefghijklmnopqrstvwyz123456/library/public?search=JTdCJTIyY29sbGVjdGlvbnMlMjIlM0ElNUIlMjJhcnhpdi1hYnN0cmFjdCUyMiU1RCUyQyUyMnR5cGUlMjIlM0ElMjJEb2N1bWVudCUyMiUyQyUyMmV4cHJlc3Npb24lMjIlM0ElMjJmaWxlLWluZm8uZG9jdW1lbnQtaGFzaCUzQSUyMCU1QyUyMmQ0ODBiYmI0ZTk1NTFhNzc4OGY4NmRiODQ5YzFlOTczOTE5MDE1YjZkZThhNGUyY2RkNGZiMDhjZTY5MzBkODglNUMlMjIlMjIlMkMlMjJmaWx0ZXJzJTIyJTNBJTVCJTVEJTJDJTIyc2VsZWN0JTIyJTNBJTVCJTIyX25hbWUlMjIlMkMlMjJkZXNjcmlwdGlvbi5jb2xsZWN0aW9uJTIyJTJDJTIycHJvdiUyMiUyQyUyMmRlc2NyaXB0aW9uLnRpdGxlJTIyJTJDJTIyZGVzY3JpcHRpb24ucHVibGljYXRpb25fZGF0ZSUyMiUyQyUyMmRlc2NyaXB0aW9uLnVybF9yZWZzJTIyJTVEJTJDJTIyaXRlbUluZGV4JTIyJTNBMCUyQyUyMnBhZ2VTaXplJTIyJTNBMTAlMkMlMjJzZWFyY2hBZnRlckhpc3RvcnklMjIlM0ElNUIlNUQlMkMlMjJ2aWV3VHlwZSUyMiUzQSUyMnNuaXBwZXRzJTIyJTJDJTIycmVjb3JkU2VsZWN0aW9uJTIyJTNBJTdCJTIycmVjb3JkJTIyJTNBJTdCJTIyaWQlMjIlM0ElMjJkNDgwYmJiNGU5NTUxYTc3ODhmODZkYjg0OWMxZTk3MzkxOTAxNWI2ZGU4YTRlMmNkZDRmYjA4Y2U2OTMwZDg4JTIyJTdEJTdEJTdE\"  target=\"_blank\"> DS </a></td>\n",
       "      <td id=\"T_55e12_row62_col6\" class=\"data row62 col6\" >1807.07308</td>\n",
       "      <td id=\"T_55e12_row62_col7\" class=\"data row62 col7\" >main-text</td>\n",
       "    </tr>\n",
       "    <tr>\n",
       "      <th id=\"T_55e12_level0_row63\" class=\"row_heading level0 row63\" >63</th>\n",
       "      <td id=\"T_55e12_row63_col0\" class=\"data row63 col0\" >Two-dimensional bimetal-embedded expanded phthalocyanine monolayers: a\n",
       "  class of multifunctional materials with fascinating properties</td>\n",
       "      <td id=\"T_55e12_row63_col1\" class=\"data row63 col1\" >De-Bing Long,Nikolay V. Tkachenko,Qingqing Feng,Xingxing Li,Alexander I. Boldyrev,Jinlong Yang,Li-Ming Yang</td>\n",
       "      <td id=\"T_55e12_row63_col2\" class=\"data row63 col2\" >Notably, the designed type-II heterojunctions Fe2EPc/SnC, Co2EPc/GeS, and Ni2EPc/2H-WSe2 have high <span style='font-weight: bold; background-color: #FFFF00'>power</span> <span style='font-weight: bold; background-color: #FFFF00'>conversion</span> <span style='font-weight: bold; background-color: #FFFF00'>efficiency</span> (<span style='font-weight: bold; background-color: #FFFF00'>PCE</span> > 15%), especially the <span style='font-weight: bold; background-color: #FFFF00'>PCE</span> of Ni2EPc/2H-WSe2 reaches 25.19%, which has great potential in solar cell applications.</td>\n",
       "      <td id=\"T_55e12_row63_col3\" class=\"data row63 col3\" ><a href=\"https://arxiv.org/abs/2307.05237\"  target=\"_blank\"> arXiv </a></td>\n",
       "      <td id=\"T_55e12_row63_col4\" class=\"data row63 col4\" ></td>\n",
       "      <td id=\"T_55e12_row63_col5\" class=\"data row63 col5\" ><a href=\"https://sds.app.accelerate.science/projects/1234567890abcdefghijklmnopqrstvwyz123456/library/public?search=JTdCJTIyY29sbGVjdGlvbnMlMjIlM0ElNUIlMjJhcnhpdi1hYnN0cmFjdCUyMiU1RCUyQyUyMnR5cGUlMjIlM0ElMjJEb2N1bWVudCUyMiUyQyUyMmV4cHJlc3Npb24lMjIlM0ElMjJmaWxlLWluZm8uZG9jdW1lbnQtaGFzaCUzQSUyMCU1QyUyMmQ2YjYzZTQ3ODM2NmU5NTg1MzkyN2MwMzg2ZmFhMDk3MDRiZWEwMDhhZmEzMDM3ZTMwOWZhZWIwZWY0ODcyYzUlNUMlMjIlMjIlMkMlMjJmaWx0ZXJzJTIyJTNBJTVCJTVEJTJDJTIyc2VsZWN0JTIyJTNBJTVCJTIyX25hbWUlMjIlMkMlMjJkZXNjcmlwdGlvbi5jb2xsZWN0aW9uJTIyJTJDJTIycHJvdiUyMiUyQyUyMmRlc2NyaXB0aW9uLnRpdGxlJTIyJTJDJTIyZGVzY3JpcHRpb24ucHVibGljYXRpb25fZGF0ZSUyMiUyQyUyMmRlc2NyaXB0aW9uLnVybF9yZWZzJTIyJTVEJTJDJTIyaXRlbUluZGV4JTIyJTNBMCUyQyUyMnBhZ2VTaXplJTIyJTNBMTAlMkMlMjJzZWFyY2hBZnRlckhpc3RvcnklMjIlM0ElNUIlNUQlMkMlMjJ2aWV3VHlwZSUyMiUzQSUyMnNuaXBwZXRzJTIyJTJDJTIycmVjb3JkU2VsZWN0aW9uJTIyJTNBJTdCJTIycmVjb3JkJTIyJTNBJTdCJTIyaWQlMjIlM0ElMjJkNmI2M2U0NzgzNjZlOTU4NTM5MjdjMDM4NmZhYTA5NzA0YmVhMDA4YWZhMzAzN2UzMDlmYWViMGVmNDg3MmM1JTIyJTdEJTdEJTdE\"  target=\"_blank\"> DS </a></td>\n",
       "      <td id=\"T_55e12_row63_col6\" class=\"data row63 col6\" >2307.05237</td>\n",
       "      <td id=\"T_55e12_row63_col7\" class=\"data row63 col7\" >main-text</td>\n",
       "    </tr>\n",
       "    <tr>\n",
       "      <th id=\"T_55e12_level0_row64\" class=\"row_heading level0 row64\" >64</th>\n",
       "      <td id=\"T_55e12_row64_col0\" class=\"data row64 col0\" >Magnetic field enhancement of organic photovoltaic cells performance</td>\n",
       "      <td id=\"T_55e12_row64_col1\" class=\"data row64 col1\" >S. Oviedo-Casado,A. Urbina,J. Prior</td>\n",
       "      <td id=\"T_55e12_row64_col2\" class=\"data row64 col2\" >Using the open quantum systems formalism we demonstrate that not only the population of triplet charge transfer states grows in the presence of a magnetic field, but also how the power outcome of an <span style='font-weight: bold; background-color: #FFFF00'>organic</span> photovoltaic cell is in that way increased.</td>\n",
       "      <td id=\"T_55e12_row64_col3\" class=\"data row64 col3\" ><a href=\"https://arxiv.org/abs/1702.05130\"  target=\"_blank\"> arXiv </a></td>\n",
       "      <td id=\"T_55e12_row64_col4\" class=\"data row64 col4\" ><a href=\"https://doi.org/10.1038/s41598-017-04621-9\"  target=\"_blank\"> DOI </a></td>\n",
       "      <td id=\"T_55e12_row64_col5\" class=\"data row64 col5\" ><a href=\"https://sds.app.accelerate.science/projects/1234567890abcdefghijklmnopqrstvwyz123456/library/public?search=JTdCJTIyY29sbGVjdGlvbnMlMjIlM0ElNUIlMjJhcnhpdi1hYnN0cmFjdCUyMiU1RCUyQyUyMnR5cGUlMjIlM0ElMjJEb2N1bWVudCUyMiUyQyUyMmV4cHJlc3Npb24lMjIlM0ElMjJmaWxlLWluZm8uZG9jdW1lbnQtaGFzaCUzQSUyMCU1QyUyMmQ3N2I1N2VkYjA3OWM3MDg5NjU4NzI0OTA0M2E2NDNkOTQ3ZThmMzg5MTY2MTk1NTdkM2Q1ZDNhMDRlZTkzZTAlNUMlMjIlMjIlMkMlMjJmaWx0ZXJzJTIyJTNBJTVCJTVEJTJDJTIyc2VsZWN0JTIyJTNBJTVCJTIyX25hbWUlMjIlMkMlMjJkZXNjcmlwdGlvbi5jb2xsZWN0aW9uJTIyJTJDJTIycHJvdiUyMiUyQyUyMmRlc2NyaXB0aW9uLnRpdGxlJTIyJTJDJTIyZGVzY3JpcHRpb24ucHVibGljYXRpb25fZGF0ZSUyMiUyQyUyMmRlc2NyaXB0aW9uLnVybF9yZWZzJTIyJTVEJTJDJTIyaXRlbUluZGV4JTIyJTNBMCUyQyUyMnBhZ2VTaXplJTIyJTNBMTAlMkMlMjJzZWFyY2hBZnRlckhpc3RvcnklMjIlM0ElNUIlNUQlMkMlMjJ2aWV3VHlwZSUyMiUzQSUyMnNuaXBwZXRzJTIyJTJDJTIycmVjb3JkU2VsZWN0aW9uJTIyJTNBJTdCJTIycmVjb3JkJTIyJTNBJTdCJTIyaWQlMjIlM0ElMjJkNzdiNTdlZGIwNzljNzA4OTY1ODcyNDkwNDNhNjQzZDk0N2U4ZjM4OTE2NjE5NTU3ZDNkNWQzYTA0ZWU5M2UwJTIyJTdEJTdEJTdE\"  target=\"_blank\"> DS </a></td>\n",
       "      <td id=\"T_55e12_row64_col6\" class=\"data row64 col6\" >1702.05130</td>\n",
       "      <td id=\"T_55e12_row64_col7\" class=\"data row64 col7\" >main-text</td>\n",
       "    </tr>\n",
       "    <tr>\n",
       "      <th id=\"T_55e12_level0_row65\" class=\"row_heading level0 row65\" >65</th>\n",
       "      <td id=\"T_55e12_row65_col0\" class=\"data row65 col0\" >Tin(II) thiocyanate Sn(SCN)$_2$ as an ultrathin anode interlayer in\n",
       "  organic photovoltaics</td>\n",
       "      <td id=\"T_55e12_row65_col1\" class=\"data row65 col1\" >Jidapa Chaopaknam,Chayanit Wechwithayakhlung,Hideki Nakajima,Tossaporn Lertvanithphol,Mati Horprathum,Taweesak Sudyoadsuk,Vinich Promarak,Akinori Saeki,Pichaya Pattanasattayavong</td>\n",
       "      <td id=\"T_55e12_row65_col2\" class=\"data row65 col2\" >At the optimum thickness of 7 nm, an average <span style='font-weight: bold; background-color: #FFFF00'>power</span> <span style='font-weight: bold; background-color: #FFFF00'>conversion</span> <span style='font-weight: bold; background-color: #FFFF00'>efficiency</span> (<span style='font-weight: bold; background-color: #FFFF00'>PCE</span>) of 7.6% and a maximum of 8.1% were obtained.</td>\n",
       "      <td id=\"T_55e12_row65_col3\" class=\"data row65 col3\" ><a href=\"https://arxiv.org/abs/2105.01024\"  target=\"_blank\"> arXiv </a></td>\n",
       "      <td id=\"T_55e12_row65_col4\" class=\"data row65 col4\" ><a href=\"https://doi.org/10.1063/5.0055649\"  target=\"_blank\"> DOI </a></td>\n",
       "      <td id=\"T_55e12_row65_col5\" class=\"data row65 col5\" ><a href=\"https://sds.app.accelerate.science/projects/1234567890abcdefghijklmnopqrstvwyz123456/library/public?search=JTdCJTIyY29sbGVjdGlvbnMlMjIlM0ElNUIlMjJhcnhpdi1hYnN0cmFjdCUyMiU1RCUyQyUyMnR5cGUlMjIlM0ElMjJEb2N1bWVudCUyMiUyQyUyMmV4cHJlc3Npb24lMjIlM0ElMjJmaWxlLWluZm8uZG9jdW1lbnQtaGFzaCUzQSUyMCU1QyUyMmRhMTZiZmNlZGZkY2E4MDBjZGRjYTdmMzRkMzVjMDMwMTcwZjIyYjhjZjYwNmEyNTJmZTJkYWJkNTk5MGJkMGElNUMlMjIlMjIlMkMlMjJmaWx0ZXJzJTIyJTNBJTVCJTVEJTJDJTIyc2VsZWN0JTIyJTNBJTVCJTIyX25hbWUlMjIlMkMlMjJkZXNjcmlwdGlvbi5jb2xsZWN0aW9uJTIyJTJDJTIycHJvdiUyMiUyQyUyMmRlc2NyaXB0aW9uLnRpdGxlJTIyJTJDJTIyZGVzY3JpcHRpb24ucHVibGljYXRpb25fZGF0ZSUyMiUyQyUyMmRlc2NyaXB0aW9uLnVybF9yZWZzJTIyJTVEJTJDJTIyaXRlbUluZGV4JTIyJTNBMCUyQyUyMnBhZ2VTaXplJTIyJTNBMTAlMkMlMjJzZWFyY2hBZnRlckhpc3RvcnklMjIlM0ElNUIlNUQlMkMlMjJ2aWV3VHlwZSUyMiUzQSUyMnNuaXBwZXRzJTIyJTJDJTIycmVjb3JkU2VsZWN0aW9uJTIyJTNBJTdCJTIycmVjb3JkJTIyJTNBJTdCJTIyaWQlMjIlM0ElMjJkYTE2YmZjZWRmZGNhODAwY2RkY2E3ZjM0ZDM1YzAzMDE3MGYyMmI4Y2Y2MDZhMjUyZmUyZGFiZDU5OTBiZDBhJTIyJTdEJTdEJTdE\"  target=\"_blank\"> DS </a></td>\n",
       "      <td id=\"T_55e12_row65_col6\" class=\"data row65 col6\" >2105.01024</td>\n",
       "      <td id=\"T_55e12_row65_col7\" class=\"data row65 col7\" >main-text</td>\n",
       "    </tr>\n",
       "    <tr>\n",
       "      <th id=\"T_55e12_level0_row66\" class=\"row_heading level0 row66\" >66</th>\n",
       "      <td id=\"T_55e12_row66_col0\" class=\"data row66 col0\" >Theoretical limit of power conversion efficiency for organic and hybrid\n",
       "  halide perovskite photovoltaics</td>\n",
       "      <td id=\"T_55e12_row66_col1\" class=\"data row66 col1\" >Kazuhiko Seki,Akihiro Furube,Yuji Yoshida</td>\n",
       "      <td id=\"T_55e12_row66_col2\" class=\"data row66 col2\" >We also studied the theoretical limit of <span style='font-weight: bold; background-color: #FFFF00'>power</span> <span style='font-weight: bold; background-color: #FFFF00'>conversion</span> <span style='font-weight: bold; background-color: #FFFF00'>efficiency</span> of hybrid halide perovskite by taking into account the energy loss involved in the carrier transfer from the perovskite phase to the metal oxide charge transport layer.</td>\n",
       "      <td id=\"T_55e12_row66_col3\" class=\"data row66 col3\" ><a href=\"https://arxiv.org/abs/1504.07729\"  target=\"_blank\"> arXiv </a></td>\n",
       "      <td id=\"T_55e12_row66_col4\" class=\"data row66 col4\" ><a href=\"https://doi.org/10.7567/JJAP.54.08KF04\"  target=\"_blank\"> DOI </a></td>\n",
       "      <td id=\"T_55e12_row66_col5\" class=\"data row66 col5\" ><a href=\"https://sds.app.accelerate.science/projects/1234567890abcdefghijklmnopqrstvwyz123456/library/public?search=JTdCJTIyY29sbGVjdGlvbnMlMjIlM0ElNUIlMjJhcnhpdi1hYnN0cmFjdCUyMiU1RCUyQyUyMnR5cGUlMjIlM0ElMjJEb2N1bWVudCUyMiUyQyUyMmV4cHJlc3Npb24lMjIlM0ElMjJmaWxlLWluZm8uZG9jdW1lbnQtaGFzaCUzQSUyMCU1QyUyMmRkOTg4YTJlZTY1ODYwMWJkYzdmMDQxZjkxMzU0MGZhNWVkN2Q2NjdhYmRlZDE4ODJkYTdiOTQ1YTA1MjZhNTMlNUMlMjIlMjIlMkMlMjJmaWx0ZXJzJTIyJTNBJTVCJTVEJTJDJTIyc2VsZWN0JTIyJTNBJTVCJTIyX25hbWUlMjIlMkMlMjJkZXNjcmlwdGlvbi5jb2xsZWN0aW9uJTIyJTJDJTIycHJvdiUyMiUyQyUyMmRlc2NyaXB0aW9uLnRpdGxlJTIyJTJDJTIyZGVzY3JpcHRpb24ucHVibGljYXRpb25fZGF0ZSUyMiUyQyUyMmRlc2NyaXB0aW9uLnVybF9yZWZzJTIyJTVEJTJDJTIyaXRlbUluZGV4JTIyJTNBMCUyQyUyMnBhZ2VTaXplJTIyJTNBMTAlMkMlMjJzZWFyY2hBZnRlckhpc3RvcnklMjIlM0ElNUIlNUQlMkMlMjJ2aWV3VHlwZSUyMiUzQSUyMnNuaXBwZXRzJTIyJTJDJTIycmVjb3JkU2VsZWN0aW9uJTIyJTNBJTdCJTIycmVjb3JkJTIyJTNBJTdCJTIyaWQlMjIlM0ElMjJkZDk4OGEyZWU2NTg2MDFiZGM3ZjA0MWY5MTM1NDBmYTVlZDdkNjY3YWJkZWQxODgyZGE3Yjk0NWEwNTI2YTUzJTIyJTdEJTdEJTdE\"  target=\"_blank\"> DS </a></td>\n",
       "      <td id=\"T_55e12_row66_col6\" class=\"data row66 col6\" >1504.07729</td>\n",
       "      <td id=\"T_55e12_row66_col7\" class=\"data row66 col7\" >main-text</td>\n",
       "    </tr>\n",
       "    <tr>\n",
       "      <th id=\"T_55e12_level0_row67\" class=\"row_heading level0 row67\" >67</th>\n",
       "      <td id=\"T_55e12_row67_col0\" class=\"data row67 col0\" >Fingerprinting of Compound-Specific Chlorine Isotopologue Distribution\n",
       "  of Organochlorines by GC-HRMS</td>\n",
       "      <td id=\"T_55e12_row67_col1\" class=\"data row67 col1\" >Caiming Tang,Jianhua Tan</td>\n",
       "      <td id=\"T_55e12_row67_col2\" class=\"data row67 col2\" >This method opens a new way to perform fingerprinting analysis of compound-specific chlorine isotopologue distribution of <span style='font-weight: bold; background-color: #FFFF00'>organochlorines</span>, and will be a promising high-performance approach in source delineation and apportionment for chlorinated <span style='font-weight: bold; background-color: #FFFF00'>organic</span> compounds.</td>\n",
       "      <td id=\"T_55e12_row67_col3\" class=\"data row67 col3\" ><a href=\"https://arxiv.org/abs/1710.06597\"  target=\"_blank\"> arXiv </a></td>\n",
       "      <td id=\"T_55e12_row67_col4\" class=\"data row67 col4\" ></td>\n",
       "      <td id=\"T_55e12_row67_col5\" class=\"data row67 col5\" ><a href=\"https://sds.app.accelerate.science/projects/1234567890abcdefghijklmnopqrstvwyz123456/library/public?search=JTdCJTIyY29sbGVjdGlvbnMlMjIlM0ElNUIlMjJhcnhpdi1hYnN0cmFjdCUyMiU1RCUyQyUyMnR5cGUlMjIlM0ElMjJEb2N1bWVudCUyMiUyQyUyMmV4cHJlc3Npb24lMjIlM0ElMjJmaWxlLWluZm8uZG9jdW1lbnQtaGFzaCUzQSUyMCU1QyUyMmUxMzUwZmFkNWJlOTAyYjRhZjQxMzhiZmMwZWY4MWE3NWZmMzE3YzUyNjFjMWZiMWM2NDUxYWM3NTYwZDY0MTclNUMlMjIlMjIlMkMlMjJmaWx0ZXJzJTIyJTNBJTVCJTVEJTJDJTIyc2VsZWN0JTIyJTNBJTVCJTIyX25hbWUlMjIlMkMlMjJkZXNjcmlwdGlvbi5jb2xsZWN0aW9uJTIyJTJDJTIycHJvdiUyMiUyQyUyMmRlc2NyaXB0aW9uLnRpdGxlJTIyJTJDJTIyZGVzY3JpcHRpb24ucHVibGljYXRpb25fZGF0ZSUyMiUyQyUyMmRlc2NyaXB0aW9uLnVybF9yZWZzJTIyJTVEJTJDJTIyaXRlbUluZGV4JTIyJTNBMCUyQyUyMnBhZ2VTaXplJTIyJTNBMTAlMkMlMjJzZWFyY2hBZnRlckhpc3RvcnklMjIlM0ElNUIlNUQlMkMlMjJ2aWV3VHlwZSUyMiUzQSUyMnNuaXBwZXRzJTIyJTJDJTIycmVjb3JkU2VsZWN0aW9uJTIyJTNBJTdCJTIycmVjb3JkJTIyJTNBJTdCJTIyaWQlMjIlM0ElMjJlMTM1MGZhZDViZTkwMmI0YWY0MTM4YmZjMGVmODFhNzVmZjMxN2M1MjYxYzFmYjFjNjQ1MWFjNzU2MGQ2NDE3JTIyJTdEJTdEJTdE\"  target=\"_blank\"> DS </a></td>\n",
       "      <td id=\"T_55e12_row67_col6\" class=\"data row67 col6\" >1710.06597</td>\n",
       "      <td id=\"T_55e12_row67_col7\" class=\"data row67 col7\" >main-text</td>\n",
       "    </tr>\n",
       "    <tr>\n",
       "      <th id=\"T_55e12_level0_row68\" class=\"row_heading level0 row68\" >68</th>\n",
       "      <td id=\"T_55e12_row68_col0\" class=\"data row68 col0\" >Enhancing thermal stability of solution-processed small molecule\n",
       "  semiconductor thin films using a flexible linker approach</td>\n",
       "      <td id=\"T_55e12_row68_col1\" class=\"data row68 col1\" >Andrea Gasperini,Xavier Jeanbourquin,Aiman Rahmanudin,Xiaoyun Yu,Kevin Sivula</td>\n",
       "      <td id=\"T_55e12_row68_col2\" class=\"data row68 col2\" >Solution-processed <span style='font-weight: bold; background-color: #FFFF00'>organic</span> photovoltaics (OPV) have recently reached the target 10% <span style='font-weight: bold; background-color: #FFFF00'>power</span> <span style='font-weight: bold; background-color: #FFFF00'>conversion</span> <span style='font-weight: bold; background-color: #FFFF00'>efficiency</span> expected to signal their viable commercialization as an inexpensive and scalable energy conversion technology.</td>\n",
       "      <td id=\"T_55e12_row68_col3\" class=\"data row68 col3\" ><a href=\"https://arxiv.org/abs/1610.02205\"  target=\"_blank\"> arXiv </a></td>\n",
       "      <td id=\"T_55e12_row68_col4\" class=\"data row68 col4\" ><a href=\"https://doi.org/10.1002/adma.201501826\"  target=\"_blank\"> DOI </a></td>\n",
       "      <td id=\"T_55e12_row68_col5\" class=\"data row68 col5\" ><a href=\"https://sds.app.accelerate.science/projects/1234567890abcdefghijklmnopqrstvwyz123456/library/public?search=JTdCJTIyY29sbGVjdGlvbnMlMjIlM0ElNUIlMjJhcnhpdi1hYnN0cmFjdCUyMiU1RCUyQyUyMnR5cGUlMjIlM0ElMjJEb2N1bWVudCUyMiUyQyUyMmV4cHJlc3Npb24lMjIlM0ElMjJmaWxlLWluZm8uZG9jdW1lbnQtaGFzaCUzQSUyMCU1QyUyMmVhOWI3MmU5NDI5ODIwMTRiNzk0NjczZDZkODE4YzUzZjk0ZGNhNzU5ZjdiNDU1YjUxZDFkYzg4ODJmNzYyZTMlNUMlMjIlMjIlMkMlMjJmaWx0ZXJzJTIyJTNBJTVCJTVEJTJDJTIyc2VsZWN0JTIyJTNBJTVCJTIyX25hbWUlMjIlMkMlMjJkZXNjcmlwdGlvbi5jb2xsZWN0aW9uJTIyJTJDJTIycHJvdiUyMiUyQyUyMmRlc2NyaXB0aW9uLnRpdGxlJTIyJTJDJTIyZGVzY3JpcHRpb24ucHVibGljYXRpb25fZGF0ZSUyMiUyQyUyMmRlc2NyaXB0aW9uLnVybF9yZWZzJTIyJTVEJTJDJTIyaXRlbUluZGV4JTIyJTNBMCUyQyUyMnBhZ2VTaXplJTIyJTNBMTAlMkMlMjJzZWFyY2hBZnRlckhpc3RvcnklMjIlM0ElNUIlNUQlMkMlMjJ2aWV3VHlwZSUyMiUzQSUyMnNuaXBwZXRzJTIyJTJDJTIycmVjb3JkU2VsZWN0aW9uJTIyJTNBJTdCJTIycmVjb3JkJTIyJTNBJTdCJTIyaWQlMjIlM0ElMjJlYTliNzJlOTQyOTgyMDE0Yjc5NDY3M2Q2ZDgxOGM1M2Y5NGRjYTc1OWY3YjQ1NWI1MWQxZGM4ODgyZjc2MmUzJTIyJTdEJTdEJTdE\"  target=\"_blank\"> DS </a></td>\n",
       "      <td id=\"T_55e12_row68_col6\" class=\"data row68 col6\" >1610.02205</td>\n",
       "      <td id=\"T_55e12_row68_col7\" class=\"data row68 col7\" >main-text</td>\n",
       "    </tr>\n",
       "    <tr>\n",
       "      <th id=\"T_55e12_level0_row69\" class=\"row_heading level0 row69\" >69</th>\n",
       "      <td id=\"T_55e12_row69_col0\" class=\"data row69 col0\" >Effect of heterostructure engineering on electronic structure and\n",
       "  transport properties of two-dimensional halide perovskites</td>\n",
       "      <td id=\"T_55e12_row69_col1\" class=\"data row69 col1\" >Rahul Singh,Prashant Singh,Ganesh Balasubramania</td>\n",
       "      <td id=\"T_55e12_row69_col2\" class=\"data row69 col2\" >Here, we explore the effect of reduced dimensionality and heterostructure engineering on the intrinsic material properties, such as energy stability, bandgap and transport properties of 2D hybrid <span style='font-weight: bold; background-color: #FFFF00'>organic</span>-inorganic halide perovskites using first-principles density functional theory.</td>\n",
       "      <td id=\"T_55e12_row69_col3\" class=\"data row69 col3\" ><a href=\"https://arxiv.org/abs/2108.07426\"  target=\"_blank\"> arXiv </a></td>\n",
       "      <td id=\"T_55e12_row69_col4\" class=\"data row69 col4\" ><a href=\"https://doi.org/10.1016/j.commatsci.2021.110823\"  target=\"_blank\"> DOI </a></td>\n",
       "      <td id=\"T_55e12_row69_col5\" class=\"data row69 col5\" ><a href=\"https://sds.app.accelerate.science/projects/1234567890abcdefghijklmnopqrstvwyz123456/library/public?search=JTdCJTIyY29sbGVjdGlvbnMlMjIlM0ElNUIlMjJhcnhpdi1hYnN0cmFjdCUyMiU1RCUyQyUyMnR5cGUlMjIlM0ElMjJEb2N1bWVudCUyMiUyQyUyMmV4cHJlc3Npb24lMjIlM0ElMjJmaWxlLWluZm8uZG9jdW1lbnQtaGFzaCUzQSUyMCU1QyUyMmViODUwNjA5MTM2ZmNiMGNjNjgzNTg1MTJkZmY1YmVmNzZlNWU0YmY3Y2VlNGM0ZWIzYjc5ZWFkYWQxYWNiMjglNUMlMjIlMjIlMkMlMjJmaWx0ZXJzJTIyJTNBJTVCJTVEJTJDJTIyc2VsZWN0JTIyJTNBJTVCJTIyX25hbWUlMjIlMkMlMjJkZXNjcmlwdGlvbi5jb2xsZWN0aW9uJTIyJTJDJTIycHJvdiUyMiUyQyUyMmRlc2NyaXB0aW9uLnRpdGxlJTIyJTJDJTIyZGVzY3JpcHRpb24ucHVibGljYXRpb25fZGF0ZSUyMiUyQyUyMmRlc2NyaXB0aW9uLnVybF9yZWZzJTIyJTVEJTJDJTIyaXRlbUluZGV4JTIyJTNBMCUyQyUyMnBhZ2VTaXplJTIyJTNBMTAlMkMlMjJzZWFyY2hBZnRlckhpc3RvcnklMjIlM0ElNUIlNUQlMkMlMjJ2aWV3VHlwZSUyMiUzQSUyMnNuaXBwZXRzJTIyJTJDJTIycmVjb3JkU2VsZWN0aW9uJTIyJTNBJTdCJTIycmVjb3JkJTIyJTNBJTdCJTIyaWQlMjIlM0ElMjJlYjg1MDYwOTEzNmZjYjBjYzY4MzU4NTEyZGZmNWJlZjc2ZTVlNGJmN2NlZTRjNGViM2I3OWVhZGFkMWFjYjI4JTIyJTdEJTdEJTdE\"  target=\"_blank\"> DS </a></td>\n",
       "      <td id=\"T_55e12_row69_col6\" class=\"data row69 col6\" >2108.07426</td>\n",
       "      <td id=\"T_55e12_row69_col7\" class=\"data row69 col7\" >main-text</td>\n",
       "    </tr>\n",
       "    <tr>\n",
       "      <th id=\"T_55e12_level0_row70\" class=\"row_heading level0 row70\" >70</th>\n",
       "      <td id=\"T_55e12_row70_col0\" class=\"data row70 col0\" >Observation of Concerted and Stepwise Multiple Dechlorination Reactions\n",
       "  of Perchlorethylene in Electron Ionization Mass Spectrometry According to\n",
       "  Measured Chlorine Isotope Effects</td>\n",
       "      <td id=\"T_55e12_row70_col1\" class=\"data row70 col1\" >Caiming Tang,Jianhua Tan</td>\n",
       "      <td id=\"T_55e12_row70_col2\" class=\"data row70 col2\" >This study investigated the concertedness of the multiple dechlorination reactions of perchlorethylene (<span style='font-weight: bold; background-color: #FFFF00'>PCE</span>) in EI-MS in light of the observed chlorine isotope effects during different dechlorination reactions along with the detected MS signal intensities.</td>\n",
       "      <td id=\"T_55e12_row70_col3\" class=\"data row70 col3\" ><a href=\"https://arxiv.org/abs/1709.01739\"  target=\"_blank\"> arXiv </a></td>\n",
       "      <td id=\"T_55e12_row70_col4\" class=\"data row70 col4\" ></td>\n",
       "      <td id=\"T_55e12_row70_col5\" class=\"data row70 col5\" ><a href=\"https://sds.app.accelerate.science/projects/1234567890abcdefghijklmnopqrstvwyz123456/library/public?search=JTdCJTIyY29sbGVjdGlvbnMlMjIlM0ElNUIlMjJhcnhpdi1hYnN0cmFjdCUyMiU1RCUyQyUyMnR5cGUlMjIlM0ElMjJEb2N1bWVudCUyMiUyQyUyMmV4cHJlc3Npb24lMjIlM0ElMjJmaWxlLWluZm8uZG9jdW1lbnQtaGFzaCUzQSUyMCU1QyUyMmVkMjE2MjViNDQ4MjJmNDA2ZWZkN2U2ZjY0NDZmZmJjYzhkZGZkOWNkODU0ZjFjZGEwY2NhMmJjNjQ2NjcyNmElNUMlMjIlMjIlMkMlMjJmaWx0ZXJzJTIyJTNBJTVCJTVEJTJDJTIyc2VsZWN0JTIyJTNBJTVCJTIyX25hbWUlMjIlMkMlMjJkZXNjcmlwdGlvbi5jb2xsZWN0aW9uJTIyJTJDJTIycHJvdiUyMiUyQyUyMmRlc2NyaXB0aW9uLnRpdGxlJTIyJTJDJTIyZGVzY3JpcHRpb24ucHVibGljYXRpb25fZGF0ZSUyMiUyQyUyMmRlc2NyaXB0aW9uLnVybF9yZWZzJTIyJTVEJTJDJTIyaXRlbUluZGV4JTIyJTNBMCUyQyUyMnBhZ2VTaXplJTIyJTNBMTAlMkMlMjJzZWFyY2hBZnRlckhpc3RvcnklMjIlM0ElNUIlNUQlMkMlMjJ2aWV3VHlwZSUyMiUzQSUyMnNuaXBwZXRzJTIyJTJDJTIycmVjb3JkU2VsZWN0aW9uJTIyJTNBJTdCJTIycmVjb3JkJTIyJTNBJTdCJTIyaWQlMjIlM0ElMjJlZDIxNjI1YjQ0ODIyZjQwNmVmZDdlNmY2NDQ2ZmZiY2M4ZGRmZDljZDg1NGYxY2RhMGNjYTJiYzY0NjY3MjZhJTIyJTdEJTdEJTdE\"  target=\"_blank\"> DS </a></td>\n",
       "      <td id=\"T_55e12_row70_col6\" class=\"data row70 col6\" >1709.01739</td>\n",
       "      <td id=\"T_55e12_row70_col7\" class=\"data row70 col7\" >main-text</td>\n",
       "    </tr>\n",
       "    <tr>\n",
       "      <th id=\"T_55e12_level0_row71\" class=\"row_heading level0 row71\" >71</th>\n",
       "      <td id=\"T_55e12_row71_col0\" class=\"data row71 col0\" >Thickness dependent effects of an intermediate molecular blocking layer\n",
       "  on the optoelectronic characteristics of organic bilayer photovoltaic cells</td>\n",
       "      <td id=\"T_55e12_row71_col1\" class=\"data row71 col1\" >A. Steindamm,M. Brendel,A. K. Topczak,J. Pflaum</td>\n",
       "      <td id=\"T_55e12_row71_col2\" class=\"data row71 col2\" >In contrast, an optimal trade-off between exciton blocking, suppression of metal penetration and electron transport is achieved for a 5 nm thick BPhen layer yielding an improvement of <span style='font-weight: bold; background-color: #FFFF00'>power</span> <span style='font-weight: bold; background-color: #FFFF00'>conversion</span> <span style='font-weight: bold; background-color: #FFFF00'>efficiency</span> by more than a factor of 2.</td>\n",
       "      <td id=\"T_55e12_row71_col3\" class=\"data row71 col3\" ><a href=\"https://arxiv.org/abs/1207.1179\"  target=\"_blank\"> arXiv </a></td>\n",
       "      <td id=\"T_55e12_row71_col4\" class=\"data row71 col4\" ><a href=\"https://doi.org/10.1063/1.4757297\"  target=\"_blank\"> DOI </a></td>\n",
       "      <td id=\"T_55e12_row71_col5\" class=\"data row71 col5\" ><a href=\"https://sds.app.accelerate.science/projects/1234567890abcdefghijklmnopqrstvwyz123456/library/public?search=JTdCJTIyY29sbGVjdGlvbnMlMjIlM0ElNUIlMjJhcnhpdi1hYnN0cmFjdCUyMiU1RCUyQyUyMnR5cGUlMjIlM0ElMjJEb2N1bWVudCUyMiUyQyUyMmV4cHJlc3Npb24lMjIlM0ElMjJmaWxlLWluZm8uZG9jdW1lbnQtaGFzaCUzQSUyMCU1QyUyMmVlYzRlM2QzZjI2NDAwZWZiNzcyM2E0Njc4MmE4ZTBlZTQ4NTczNThhYmRmZTQwMzJiODMyYzkxNmUwMTNiNTklNUMlMjIlMjIlMkMlMjJmaWx0ZXJzJTIyJTNBJTVCJTVEJTJDJTIyc2VsZWN0JTIyJTNBJTVCJTIyX25hbWUlMjIlMkMlMjJkZXNjcmlwdGlvbi5jb2xsZWN0aW9uJTIyJTJDJTIycHJvdiUyMiUyQyUyMmRlc2NyaXB0aW9uLnRpdGxlJTIyJTJDJTIyZGVzY3JpcHRpb24ucHVibGljYXRpb25fZGF0ZSUyMiUyQyUyMmRlc2NyaXB0aW9uLnVybF9yZWZzJTIyJTVEJTJDJTIyaXRlbUluZGV4JTIyJTNBMCUyQyUyMnBhZ2VTaXplJTIyJTNBMTAlMkMlMjJzZWFyY2hBZnRlckhpc3RvcnklMjIlM0ElNUIlNUQlMkMlMjJ2aWV3VHlwZSUyMiUzQSUyMnNuaXBwZXRzJTIyJTJDJTIycmVjb3JkU2VsZWN0aW9uJTIyJTNBJTdCJTIycmVjb3JkJTIyJTNBJTdCJTIyaWQlMjIlM0ElMjJlZWM0ZTNkM2YyNjQwMGVmYjc3MjNhNDY3ODJhOGUwZWU0ODU3MzU4YWJkZmU0MDMyYjgzMmM5MTZlMDEzYjU5JTIyJTdEJTdEJTdE\"  target=\"_blank\"> DS </a></td>\n",
       "      <td id=\"T_55e12_row71_col6\" class=\"data row71 col6\" >1207.1179</td>\n",
       "      <td id=\"T_55e12_row71_col7\" class=\"data row71 col7\" >main-text</td>\n",
       "    </tr>\n",
       "    <tr>\n",
       "      <th id=\"T_55e12_level0_row72\" class=\"row_heading level0 row72\" >72</th>\n",
       "      <td id=\"T_55e12_row72_col0\" class=\"data row72 col0\" >High current, high efficiency graded band gap perovskite solar cells</td>\n",
       "      <td id=\"T_55e12_row72_col1\" class=\"data row72 col1\" >Onur Ergen,S. Matt Gilbert,Thang Pham,Sally J. Turner,Mark Tian Zhi Tan,Marcus A. Worsley,Alex Zettl</td>\n",
       "      <td id=\"T_55e12_row72_col2\" class=\"data row72 col2\" >Their high light absorption coefficients and long diffusion lengths suggest high power conversion efficiencies (<span style='font-weight: bold; background-color: #FFFF00'>PCE</span>),1-5 and indeed perovskite-based single band gap and tandem solar cell designs have yielded impressive performances.1-16 One approach to further enhance solar spectrum utilization is the graded band gap, but this has not been previously achieved for perovskites.</td>\n",
       "      <td id=\"T_55e12_row72_col3\" class=\"data row72 col3\" ><a href=\"https://arxiv.org/abs/1608.02150\"  target=\"_blank\"> arXiv </a></td>\n",
       "      <td id=\"T_55e12_row72_col4\" class=\"data row72 col4\" ></td>\n",
       "      <td id=\"T_55e12_row72_col5\" class=\"data row72 col5\" ><a href=\"https://sds.app.accelerate.science/projects/1234567890abcdefghijklmnopqrstvwyz123456/library/public?search=JTdCJTIyY29sbGVjdGlvbnMlMjIlM0ElNUIlMjJhcnhpdi1hYnN0cmFjdCUyMiU1RCUyQyUyMnR5cGUlMjIlM0ElMjJEb2N1bWVudCUyMiUyQyUyMmV4cHJlc3Npb24lMjIlM0ElMjJmaWxlLWluZm8uZG9jdW1lbnQtaGFzaCUzQSUyMCU1QyUyMmYxMzMyZjY3NDg4Y2MyMjc4ZTYxMTViMTQxYzA3ZjliNDQwY2RhMjRiYzQ4OTdiODcxYmJhNTZiOTg4ZDA1NGMlNUMlMjIlMjIlMkMlMjJmaWx0ZXJzJTIyJTNBJTVCJTVEJTJDJTIyc2VsZWN0JTIyJTNBJTVCJTIyX25hbWUlMjIlMkMlMjJkZXNjcmlwdGlvbi5jb2xsZWN0aW9uJTIyJTJDJTIycHJvdiUyMiUyQyUyMmRlc2NyaXB0aW9uLnRpdGxlJTIyJTJDJTIyZGVzY3JpcHRpb24ucHVibGljYXRpb25fZGF0ZSUyMiUyQyUyMmRlc2NyaXB0aW9uLnVybF9yZWZzJTIyJTVEJTJDJTIyaXRlbUluZGV4JTIyJTNBMCUyQyUyMnBhZ2VTaXplJTIyJTNBMTAlMkMlMjJzZWFyY2hBZnRlckhpc3RvcnklMjIlM0ElNUIlNUQlMkMlMjJ2aWV3VHlwZSUyMiUzQSUyMnNuaXBwZXRzJTIyJTJDJTIycmVjb3JkU2VsZWN0aW9uJTIyJTNBJTdCJTIycmVjb3JkJTIyJTNBJTdCJTIyaWQlMjIlM0ElMjJmMTMzMmY2NzQ4OGNjMjI3OGU2MTE1YjE0MWMwN2Y5YjQ0MGNkYTI0YmM0ODk3Yjg3MWJiYTU2Yjk4OGQwNTRjJTIyJTdEJTdEJTdE\"  target=\"_blank\"> DS </a></td>\n",
       "      <td id=\"T_55e12_row72_col6\" class=\"data row72 col6\" >1608.02150</td>\n",
       "      <td id=\"T_55e12_row72_col7\" class=\"data row72 col7\" >main-text</td>\n",
       "    </tr>\n",
       "    <tr>\n",
       "      <th id=\"T_55e12_level0_row73\" class=\"row_heading level0 row73\" >73</th>\n",
       "      <td id=\"T_55e12_row73_col0\" class=\"data row73 col0\" >New hybrid organic-inorganic ferrophotovoltaic perovskites nanoparticles\n",
       "  with high voltage for indoor and IoT applications</td>\n",
       "      <td id=\"T_55e12_row73_col1\" class=\"data row73 col1\" >R\\'emi Ndioukane,Fanta Bald\\'e,Nd\\'eye C. Y. Fall,Diouma Kobor,Laurence Motte Laboratoire de Chimie et de Physique des Mat\\'eriaux,University Assane Seck of Ziguinchor,Senegal,Laboratory for Vascular Translational Science,University Paris 13,France)</td>\n",
       "      <td id=\"T_55e12_row73_col2\" class=\"data row73 col2\" >The objective of this paper is to initiate an innovative photovoltaic technology based on novel inorganic with suitable bandgap widths and <span style='font-weight: bold; background-color: #FFFF00'>organic</span> materials (biopolymer).</td>\n",
       "      <td id=\"T_55e12_row73_col3\" class=\"data row73 col3\" ><a href=\"https://arxiv.org/abs/2207.03340\"  target=\"_blank\"> arXiv </a></td>\n",
       "      <td id=\"T_55e12_row73_col4\" class=\"data row73 col4\" ></td>\n",
       "      <td id=\"T_55e12_row73_col5\" class=\"data row73 col5\" ><a href=\"https://sds.app.accelerate.science/projects/1234567890abcdefghijklmnopqrstvwyz123456/library/public?search=JTdCJTIyY29sbGVjdGlvbnMlMjIlM0ElNUIlMjJhcnhpdi1hYnN0cmFjdCUyMiU1RCUyQyUyMnR5cGUlMjIlM0ElMjJEb2N1bWVudCUyMiUyQyUyMmV4cHJlc3Npb24lMjIlM0ElMjJmaWxlLWluZm8uZG9jdW1lbnQtaGFzaCUzQSUyMCU1QyUyMmYxM2IwYmEzMWM0ZWM0MWViZjIxNGNlODI0YjI5YmIwZmEyMjg0Mzg1Y2JhNmVjNzRiNTc3ODIyYzI5ZjVjOWElNUMlMjIlMjIlMkMlMjJmaWx0ZXJzJTIyJTNBJTVCJTVEJTJDJTIyc2VsZWN0JTIyJTNBJTVCJTIyX25hbWUlMjIlMkMlMjJkZXNjcmlwdGlvbi5jb2xsZWN0aW9uJTIyJTJDJTIycHJvdiUyMiUyQyUyMmRlc2NyaXB0aW9uLnRpdGxlJTIyJTJDJTIyZGVzY3JpcHRpb24ucHVibGljYXRpb25fZGF0ZSUyMiUyQyUyMmRlc2NyaXB0aW9uLnVybF9yZWZzJTIyJTVEJTJDJTIyaXRlbUluZGV4JTIyJTNBMCUyQyUyMnBhZ2VTaXplJTIyJTNBMTAlMkMlMjJzZWFyY2hBZnRlckhpc3RvcnklMjIlM0ElNUIlNUQlMkMlMjJ2aWV3VHlwZSUyMiUzQSUyMnNuaXBwZXRzJTIyJTJDJTIycmVjb3JkU2VsZWN0aW9uJTIyJTNBJTdCJTIycmVjb3JkJTIyJTNBJTdCJTIyaWQlMjIlM0ElMjJmMTNiMGJhMzFjNGVjNDFlYmYyMTRjZTgyNGIyOWJiMGZhMjI4NDM4NWNiYTZlYzc0YjU3NzgyMmMyOWY1YzlhJTIyJTdEJTdEJTdE\"  target=\"_blank\"> DS </a></td>\n",
       "      <td id=\"T_55e12_row73_col6\" class=\"data row73 col6\" >2207.03340</td>\n",
       "      <td id=\"T_55e12_row73_col7\" class=\"data row73 col7\" >main-text</td>\n",
       "    </tr>\n",
       "    <tr>\n",
       "      <th id=\"T_55e12_level0_row74\" class=\"row_heading level0 row74\" >74</th>\n",
       "      <td id=\"T_55e12_row74_col0\" class=\"data row74 col0\" >Synthesis and properties of a novel narrow band gap oligomeric\n",
       "  diketopyrrolopyrrole-based organic semiconductor</td>\n",
       "      <td id=\"T_55e12_row74_col1\" class=\"data row74 col1\" >Mylene Le Borgnea,Jesse Quinn,Jaime Mart\\'in,Natalie Stingelin,Guillaume Wantz,Yuning Li</td>\n",
       "      <td id=\"T_55e12_row74_col2\" class=\"data row74 col2\" ><span style='font-weight: bold; background-color: #FFFF00'>Organic</span> photovoltaic (OPV) cells containing Tri-BTDPP and PC71BM as the donor/acceptor couple exhibited a <span style='font-weight: bold; background-color: #FFFF00'>power</span> <span style='font-weight: bold; background-color: #FFFF00'>conversion</span> <span style='font-weight: bold; background-color: #FFFF00'>efficiency</span> (<span style='font-weight: bold; background-color: #FFFF00'>PCE</span>) of 0.72%.</td>\n",
       "      <td id=\"T_55e12_row74_col3\" class=\"data row74 col3\" ><a href=\"https://arxiv.org/abs/1706.08073\"  target=\"_blank\"> arXiv </a></td>\n",
       "      <td id=\"T_55e12_row74_col4\" class=\"data row74 col4\" ></td>\n",
       "      <td id=\"T_55e12_row74_col5\" class=\"data row74 col5\" ><a href=\"https://sds.app.accelerate.science/projects/1234567890abcdefghijklmnopqrstvwyz123456/library/public?search=JTdCJTIyY29sbGVjdGlvbnMlMjIlM0ElNUIlMjJhcnhpdi1hYnN0cmFjdCUyMiU1RCUyQyUyMnR5cGUlMjIlM0ElMjJEb2N1bWVudCUyMiUyQyUyMmV4cHJlc3Npb24lMjIlM0ElMjJmaWxlLWluZm8uZG9jdW1lbnQtaGFzaCUzQSUyMCU1QyUyMmY0YTJhMWIwNDVjMDZkNzBkOTc2NTA4NThjOTRkZWVjZTE1ZGYxOTZkZDViMGY3MGJjZWY5MjlkMWFhMzEyMDQlNUMlMjIlMjIlMkMlMjJmaWx0ZXJzJTIyJTNBJTVCJTVEJTJDJTIyc2VsZWN0JTIyJTNBJTVCJTIyX25hbWUlMjIlMkMlMjJkZXNjcmlwdGlvbi5jb2xsZWN0aW9uJTIyJTJDJTIycHJvdiUyMiUyQyUyMmRlc2NyaXB0aW9uLnRpdGxlJTIyJTJDJTIyZGVzY3JpcHRpb24ucHVibGljYXRpb25fZGF0ZSUyMiUyQyUyMmRlc2NyaXB0aW9uLnVybF9yZWZzJTIyJTVEJTJDJTIyaXRlbUluZGV4JTIyJTNBMCUyQyUyMnBhZ2VTaXplJTIyJTNBMTAlMkMlMjJzZWFyY2hBZnRlckhpc3RvcnklMjIlM0ElNUIlNUQlMkMlMjJ2aWV3VHlwZSUyMiUzQSUyMnNuaXBwZXRzJTIyJTJDJTIycmVjb3JkU2VsZWN0aW9uJTIyJTNBJTdCJTIycmVjb3JkJTIyJTNBJTdCJTIyaWQlMjIlM0ElMjJmNGEyYTFiMDQ1YzA2ZDcwZDk3NjUwODU4Yzk0ZGVlY2UxNWRmMTk2ZGQ1YjBmNzBiY2VmOTI5ZDFhYTMxMjA0JTIyJTdEJTdEJTdE\"  target=\"_blank\"> DS </a></td>\n",
       "      <td id=\"T_55e12_row74_col6\" class=\"data row74 col6\" >1706.08073</td>\n",
       "      <td id=\"T_55e12_row74_col7\" class=\"data row74 col7\" >main-text</td>\n",
       "    </tr>\n",
       "  </tbody>\n",
       "</table>\n"
      ],
      "text/plain": [
       "<pandas.io.formats.style.Styler at 0x307b32980>"
      ]
     },
     "metadata": {},
     "output_type": "display_data"
    }
   ],
   "source": [
    "%openad ds search collection 'arXiv abstracts' for 'ide(\"power conversion efficiency\" OR PCE) AND organ* ' using (slop=5) show (docs)"
   ]
  },
  {
   "cell_type": "markdown",
   "id": "dfd0425b-8491-4602-bc20-39130d31404e",
   "metadata": {},
   "source": [
    "#### Processing Results\n",
    "Alternatively, you can use the `%openadd` magic command to store the results in a dataframe and process them as you wish."
   ]
  },
  {
   "cell_type": "code",
   "execution_count": null,
   "id": "e0f9c437-d474-456d-820d-33e40209351f",
   "metadata": {
    "tags": []
   },
   "outputs": [],
   "source": [
    "arxiv_df = %openadd ds search collection 'arXiv abstracts' for 'ide(\"power conversion efficiency\" OR PCE) AND organ* ' using (slop=5) show (data docs)"
   ]
  },
  {
   "cell_type": "markdown",
   "id": "50a93aa3-62ca-4a1b-8bd7-e95ebba07157",
   "metadata": {},
   "source": [
    "You can still display your data in a next step, but because we store the raw data, highlighting is not available like this.\n",
    "\n",
    "<div class=\"alert alert-info\"><b>Tip</b> By right-clicking the cell's output, you can enable or disable cell scrolling, for the data not to take up your entire notebook.</div>"
   ]
  },
  {
   "cell_type": "code",
   "execution_count": null,
   "id": "77492a5b-ef54-4f6c-aa63-45b0b7e00a2a",
   "metadata": {
    "scrolled": true,
    "tags": []
   },
   "outputs": [],
   "source": [
    "arxiv_df"
   ]
  },
  {
   "cell_type": "markdown",
   "id": "7f4721dc-7a7f-4cf0-a66e-4ab3da2ef206",
   "metadata": {},
   "source": [
    "Now the data is stored in a dataframe, you can process it however you wish."
   ]
  },
  {
   "cell_type": "code",
   "execution_count": null,
   "id": "b1839724-cfd1-4de0-86d4-a5e4a6150145",
   "metadata": {
    "scrolled": true,
    "tags": []
   },
   "outputs": [],
   "source": [
    "# Count results\n",
    "result_count = len(arxiv_df.index)\n",
    "\n",
    "# Create set of all authors\n",
    "authors_column = list(arxiv_df['Authors'])\n",
    "authors = set()\n",
    "for author_group in authors_column:\n",
    "    paper_authors = author_group.split(',')\n",
    "    for a in paper_authors:\n",
    "        authors.add(a.strip())\n",
    "\n",
    "# Sort by last name\n",
    "authors = list(authors)\n",
    "authors_sorted = []\n",
    "for a in authors:\n",
    "    a = a.split(' ')\n",
    "    a = a[-1] + ', ' + ' '.join(a[:-1])\n",
    "    authors_sorted.append(a)\n",
    "authors_sorted.sort()\n",
    "    \n",
    "# Print result\n",
    "title = f'There are {result_count} results by {len(authors_sorted)} authors:'\n",
    "print(title)\n",
    "print(len(title) * '-' + '\\n')\n",
    "for i, a in enumerate(authors_sorted):\n",
    "    print(f'{i:>3}. {a}')"
   ]
  },
  {
   "cell_type": "markdown",
   "id": "597e029f-ddab-4661-9322-92712337f7b4",
   "metadata": {},
   "source": [
    "## Enriching your Molecules with Deep Search Results"
   ]
  },
  {
   "cell_type": "markdown",
   "id": "bf536af6-1c8f-403e-9da0-344d80b25fd4",
   "metadata": {},
   "source": [
    "After running a Deep Search query, you can add the results to the related molecules in your molecule working set.\n",
    "\n",
    "    enrich molecules with analysis\n",
    "\n",
    "Commands that are supported by this functionality:\n",
    "- `ds search for molecules similar to <smiles>`\n",
    "- `search for patents containing molecule <smiles>`"
   ]
  },
  {
   "cell_type": "code",
   "execution_count": null,
   "id": "c204a225-f7a6-4d81-90ac-0499b7cad4c0",
   "metadata": {
    "tags": []
   },
   "outputs": [],
   "source": [
    "# Clear any previously stored results\n",
    "%openad clear analysis cache\n",
    "\n",
    "# Empty your molecule working set\n",
    "%openad clear mols"
   ]
  },
  {
   "cell_type": "code",
   "execution_count": null,
   "id": "3c271222-d951-4a86-9c41-11b746305547",
   "metadata": {
    "tags": []
   },
   "outputs": [],
   "source": [
    "# Run retrosynthesis query (using %openadd to skip the printout)\n",
    "smiles = 'CC(C)(c1ccccn1)C(CC(=O)O)Nc1nc(-c2c[nH]c3ncc(Cl)cc23)c(C#N)cc1F'\n",
    "_ = %openadd ds search for molecules similar to {smiles}\n",
    "\n",
    "# Add the relevant molecule to your molecule working set (MWS)\n",
    "%openad add molecule {smiles}\n",
    "\n",
    "# Enrich the MWS with the RXN result\n",
    "%openad enrich molecules with analysis\n",
    "\n",
    "# Display the molecule to see the result (scroll down to analysis).\n",
    "# From here you can export the molecule to a new file.\n",
    "%openad show molecule {smiles}"
   ]
  }
 ],
 "metadata": {
  "kernelspec": {
   "display_name": "ad-venv",
   "language": "python",
   "name": "ad-venv"
  },
  "language_info": {
   "codemirror_mode": {
    "name": "ipython",
    "version": 3
   },
   "file_extension": ".py",
   "mimetype": "text/x-python",
   "name": "python",
   "nbconvert_exporter": "python",
   "pygments_lexer": "ipython3",
   "version": "3.10.14"
  }
 },
 "nbformat": 4,
 "nbformat_minor": 5
}
