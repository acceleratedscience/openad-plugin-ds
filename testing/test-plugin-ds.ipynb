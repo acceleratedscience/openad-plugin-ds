{
 "cells": [
  {
   "cell_type": "markdown",
   "id": "64dc2c17-4844-4a62-939c-a27c237e75eb",
   "metadata": {},
   "source": [
    "# Test Deep Search Plugin\n",
    "\n",
    "Just press `►►` and check for errors."
   ]
  },
  {
   "cell_type": "markdown",
   "id": "9292a1f2-b7c0-4438-aa46-fb8482909bd0",
   "metadata": {},
   "source": [
    "### Prep"
   ]
  },
  {
   "cell_type": "code",
   "execution_count": 1,
   "id": "afc509e8-013e-4405-bd5a-f14a10b63213",
   "metadata": {
    "tags": []
   },
   "outputs": [
    {
     "data": {
      "text/markdown": [
       "<span style=\"color: #090\">logging into RXN as: </span> phil.downey1@ibm.com <br> \n",
       " <span style=\"color: #090\">Workspace: </span> DEFAULT <br> \n"
      ],
      "text/plain": [
       "<IPython.core.display.Markdown object>"
      ]
     },
     "metadata": {},
     "output_type": "display_data"
    },
    {
     "data": {
      "text/markdown": [
       "RXN Project has been set to DEFAULT for this Workspace"
      ],
      "text/plain": [
       "<IPython.core.display.Markdown object>"
      ]
     },
     "metadata": {},
     "output_type": "display_data"
    },
    {
     "data": {
      "text/markdown": [
       "<span style=\"color: #dc0\">Destination file already exists. Overwrite?</span> <br> \n"
      ],
      "text/plain": [
       "<IPython.core.display.Markdown object>"
      ]
     },
     "metadata": {},
     "output_type": "display_data"
    },
    {
     "name": "stdin",
     "output_type": "stream",
     "text": [
      "(y/n):  y\n"
     ]
    },
    {
     "data": {
      "text/markdown": [
       "<span style=\"color: #090\">Imported the file /Users/themoenen/Documents/GitHub/openad-plugin-ds/testing/files/my_patents.csv to your DEFAULT workspace</span> <br> \n"
      ],
      "text/plain": [
       "<IPython.core.display.Markdown object>"
      ]
     },
     "execution_count": 1,
     "metadata": {},
     "output_type": "execute_result"
    }
   ],
   "source": [
    "# Move test files into your workspace\n",
    "import os\n",
    "import pandas as pd\n",
    "\n",
    "# Patents csv file\n",
    "patents_path = os.path.join(os.getcwd(), 'files', 'my_patents.csv')\n",
    "%openad import from '{patents_path}' to 'my_patents.csv'\n",
    "\n",
    "# Patents dataframe\n",
    "my_patents_df = pd.read_csv(patents_path)"
   ]
  },
  {
   "cell_type": "markdown",
   "id": "5403b4dd-c113-4586-b8b4-88b06f96a5e4",
   "metadata": {},
   "source": [
    "<br>\n",
    "<h2><u><b>Plugin Help</b></u></h2>"
   ]
  },
  {
   "cell_type": "code",
   "execution_count": 2,
   "id": "9b7a5fad-cc9b-4bac-80d6-11281c8da7c8",
   "metadata": {
    "tags": []
   },
   "outputs": [
    {
     "data": {
      "text/markdown": [
       "<span style=\"color: #dc0\"> PLUGIN </span> Deep Search  <br> \n",
       "<span style=\"color: #dc0\">--------------------------------------------------------------------------------</span> <br> \n",
       "<span style=\"color: #ccc\">v0.0.1 / Author: IBM Research</span> <br> \n",
       "\n",
       "Deep Search leverages state-of-the-art AI methods to continuously collect,  <br> \n",
       "convert, enrich, and link large document collections. <br> \n",
       "\n",
       "<span style=\"color: #ccc\">Website:</span> <a target=\"_blank\" href=\"ds4sd.github.io\">ds4sd.github.io</a> <br> \n",
       "<span style=\"color: #ccc\">GitHub:</span>  <a target=\"_blank\" href=\"github.com/ds4sd\">github.com/ds4sd</a>\n",
       "\n",
       "\n",
       "\n",
       "## Available Commands\n",
       "\n",
       "Molecules <br> \n",
       "`ds find molecules similar to <smiles> [ save as '<filename.csv>' ]` <br> \n",
       "`ds find molecules with substructure <smiles> [ save as '<filename.csv>' ]` <br> \n",
       "`ds find molecules in patents from file '<filename.csv>' [ save as '<filename.csv>' ]` <br> \n",
       "`ds find molecules in patents from list ['<patent_id>','<patent_id>',...] [ save as '<filename.csv>' ]` <br> \n",
       "`ds find molecules in patents from dataframe <dataframe_name> [ save as '<filename.csv>' ]` <br> \n",
       "\n",
       "Collections <br> \n",
       "`ds list all collections [ details ] [ save as '<filename.csv>' ]` <br> \n",
       "`ds list all domains [ save as '<filename.csv>' ]` <br> \n",
       "`ds list collections containing '<search_query>' [ save as '<filename.csv>' ]` <br> \n",
       "`ds list collections for domain '<domain_name>' [ save as '<filename.csv>' ]` <br> \n",
       "`ds list collections for domains ['<domain_name>','<domain_name>',...] [ save as '<filename.csv>' ]` <br> \n",
       "`ds list collection details '<collection_name_or_key>'` <br> \n",
       "`ds search collection '<collection_name_or_key>' for '<search_query>' <br> \n",
       "    [ USING (<parameter>=<value> <parameter>=<value>) ] [ show (data | docs | data docs) ] <br> \n",
       "    [ estimate only ] [ save as '<filename.csv>' ]` <br> \n",
       "\n",
       "System <br> \n",
       "`ds reset login` <br> \n",
       "\n",
       "Patents <br> \n",
       "`ds find patents containing molecule <smiles> | <inchi> | <inchikey> [ save as '<filename.csv>' ]` <br> \n"
      ],
      "text/plain": [
       "<IPython.core.display.Markdown object>"
      ]
     },
     "execution_count": 2,
     "metadata": {},
     "output_type": "execute_result"
    }
   ],
   "source": [
    "%openad deep search"
   ]
  },
  {
   "cell_type": "code",
   "execution_count": 3,
   "id": "4e6b8211-d2d4-4d9a-841f-4a33d7640104",
   "metadata": {},
   "outputs": [
    {
     "data": {
      "text/markdown": [
       "<span style=\"color: #dc0\"> PLUGIN </span> Deep Search  <br> \n",
       "<span style=\"color: #dc0\">--------------------------------------------------------------------------------</span> <br> \n",
       "<span style=\"color: #ccc\">v0.0.1 / Author: IBM Research</span> <br> \n",
       "\n",
       "Deep Search leverages state-of-the-art AI methods to continuously collect,  <br> \n",
       "convert, enrich, and link large document collections. <br> \n",
       "\n",
       "<span style=\"color: #ccc\">Website:</span> <a target=\"_blank\" href=\"ds4sd.github.io\">ds4sd.github.io</a> <br> \n",
       "<span style=\"color: #ccc\">GitHub:</span>  <a target=\"_blank\" href=\"github.com/ds4sd\">github.com/ds4sd</a>\n",
       "\n",
       "\n",
       "\n",
       "## Available Commands\n",
       "\n",
       "Molecules <br> \n",
       "`ds find molecules similar to <smiles> [ save as '<filename.csv>' ]` <br> \n",
       "`ds find molecules with substructure <smiles> [ save as '<filename.csv>' ]` <br> \n",
       "`ds find molecules in patents from file '<filename.csv>' [ save as '<filename.csv>' ]` <br> \n",
       "`ds find molecules in patents from list ['<patent_id>','<patent_id>',...] [ save as '<filename.csv>' ]` <br> \n",
       "`ds find molecules in patents from dataframe <dataframe_name> [ save as '<filename.csv>' ]` <br> \n",
       "\n",
       "Collections <br> \n",
       "`ds list all collections [ details ] [ save as '<filename.csv>' ]` <br> \n",
       "`ds list all domains [ save as '<filename.csv>' ]` <br> \n",
       "`ds list collections containing '<search_query>' [ save as '<filename.csv>' ]` <br> \n",
       "`ds list collections for domain '<domain_name>' [ save as '<filename.csv>' ]` <br> \n",
       "`ds list collections for domains ['<domain_name>','<domain_name>',...] [ save as '<filename.csv>' ]` <br> \n",
       "`ds list collection details '<collection_name_or_key>'` <br> \n",
       "`ds search collection '<collection_name_or_key>' for '<search_query>' <br> \n",
       "    [ USING (<parameter>=<value> <parameter>=<value>) ] [ show (data | docs | data docs) ] <br> \n",
       "    [ estimate only ] [ save as '<filename.csv>' ]` <br> \n",
       "\n",
       "System <br> \n",
       "`ds reset login` <br> \n",
       "\n",
       "Patents <br> \n",
       "`ds find patents containing molecule <smiles> | <inchi> | <inchikey> [ save as '<filename.csv>' ]` <br> \n"
      ],
      "text/plain": [
       "<IPython.core.display.Markdown object>"
      ]
     },
     "execution_count": 3,
     "metadata": {},
     "output_type": "execute_result"
    }
   ],
   "source": [
    "%openad deep search ?"
   ]
  },
  {
   "cell_type": "code",
   "execution_count": 4,
   "id": "45235bd9-b3e7-4ab5-971d-0174671877ca",
   "metadata": {},
   "outputs": [
    {
     "data": {
      "text/markdown": [
       "<span style=\"color: #dc0\"> PLUGIN </span> Deep Search  <br> \n",
       "<span style=\"color: #dc0\">--------------------------------------------------------------------------------</span> <br> \n",
       "<span style=\"color: #ccc\">v0.0.1 / Author: IBM Research</span> <br> \n",
       "\n",
       "Deep Search leverages state-of-the-art AI methods to continuously collect,  <br> \n",
       "convert, enrich, and link large document collections. <br> \n",
       "\n",
       "<span style=\"color: #ccc\">Website:</span> <a target=\"_blank\" href=\"ds4sd.github.io\">ds4sd.github.io</a> <br> \n",
       "<span style=\"color: #ccc\">GitHub:</span>  <a target=\"_blank\" href=\"github.com/ds4sd\">github.com/ds4sd</a>\n",
       "\n",
       "\n",
       "\n",
       "## Available Commands\n",
       "\n",
       "Molecules <br> \n",
       "`ds find molecules similar to <smiles> [ save as '<filename.csv>' ]` <br> \n",
       "`ds find molecules with substructure <smiles> [ save as '<filename.csv>' ]` <br> \n",
       "`ds find molecules in patents from file '<filename.csv>' [ save as '<filename.csv>' ]` <br> \n",
       "`ds find molecules in patents from list ['<patent_id>','<patent_id>',...] [ save as '<filename.csv>' ]` <br> \n",
       "`ds find molecules in patents from dataframe <dataframe_name> [ save as '<filename.csv>' ]` <br> \n",
       "\n",
       "Collections <br> \n",
       "`ds list all collections [ details ] [ save as '<filename.csv>' ]` <br> \n",
       "`ds list all domains [ save as '<filename.csv>' ]` <br> \n",
       "`ds list collections containing '<search_query>' [ save as '<filename.csv>' ]` <br> \n",
       "`ds list collections for domain '<domain_name>' [ save as '<filename.csv>' ]` <br> \n",
       "`ds list collections for domains ['<domain_name>','<domain_name>',...] [ save as '<filename.csv>' ]` <br> \n",
       "`ds list collection details '<collection_name_or_key>'` <br> \n",
       "`ds search collection '<collection_name_or_key>' for '<search_query>' <br> \n",
       "    [ USING (<parameter>=<value> <parameter>=<value>) ] [ show (data | docs | data docs) ] <br> \n",
       "    [ estimate only ] [ save as '<filename.csv>' ]` <br> \n",
       "\n",
       "System <br> \n",
       "`ds reset login` <br> \n",
       "\n",
       "Patents <br> \n",
       "`ds find patents containing molecule <smiles> | <inchi> | <inchikey> [ save as '<filename.csv>' ]` <br> \n"
      ],
      "text/plain": [
       "<IPython.core.display.Markdown object>"
      ]
     },
     "execution_count": 4,
     "metadata": {},
     "output_type": "execute_result"
    }
   ],
   "source": [
    "%openad ? deep search"
   ]
  },
  {
   "cell_type": "code",
   "execution_count": 5,
   "id": "1603f3f6-f982-44e4-9136-c1d6a67fc803",
   "metadata": {},
   "outputs": [
    {
     "data": {
      "text/markdown": [
       "<span style=\"color: #dc0\"> PLUGIN </span> Deep Search  <br> \n",
       "<span style=\"color: #dc0\">--------------------------------------------------------------------------------</span> <br> \n",
       "<span style=\"color: #ccc\">v0.0.1 / Author: IBM Research</span> <br> \n",
       "\n",
       "Deep Search leverages state-of-the-art AI methods to continuously collect,  <br> \n",
       "convert, enrich, and link large document collections. <br> \n",
       "\n",
       "<span style=\"color: #ccc\">Website:</span> <a target=\"_blank\" href=\"ds4sd.github.io\">ds4sd.github.io</a> <br> \n",
       "<span style=\"color: #ccc\">GitHub:</span>  <a target=\"_blank\" href=\"github.com/ds4sd\">github.com/ds4sd</a>\n",
       "\n",
       "\n",
       "\n",
       "## Available Commands\n",
       "\n",
       "Molecules <br> \n",
       "`ds find molecules similar to <smiles> [ save as '<filename.csv>' ]` <br> \n",
       "`ds find molecules with substructure <smiles> [ save as '<filename.csv>' ]` <br> \n",
       "`ds find molecules in patents from file '<filename.csv>' [ save as '<filename.csv>' ]` <br> \n",
       "`ds find molecules in patents from list ['<patent_id>','<patent_id>',...] [ save as '<filename.csv>' ]` <br> \n",
       "`ds find molecules in patents from dataframe <dataframe_name> [ save as '<filename.csv>' ]` <br> \n",
       "\n",
       "Collections <br> \n",
       "`ds list all collections [ details ] [ save as '<filename.csv>' ]` <br> \n",
       "`ds list all domains [ save as '<filename.csv>' ]` <br> \n",
       "`ds list collections containing '<search_query>' [ save as '<filename.csv>' ]` <br> \n",
       "`ds list collections for domain '<domain_name>' [ save as '<filename.csv>' ]` <br> \n",
       "`ds list collections for domains ['<domain_name>','<domain_name>',...] [ save as '<filename.csv>' ]` <br> \n",
       "`ds list collection details '<collection_name_or_key>'` <br> \n",
       "`ds search collection '<collection_name_or_key>' for '<search_query>' <br> \n",
       "    [ USING (<parameter>=<value> <parameter>=<value>) ] [ show (data | docs | data docs) ] <br> \n",
       "    [ estimate only ] [ save as '<filename.csv>' ]` <br> \n",
       "\n",
       "System <br> \n",
       "`ds reset login` <br> \n",
       "\n",
       "Patents <br> \n",
       "`ds find patents containing molecule <smiles> | <inchi> | <inchikey> [ save as '<filename.csv>' ]` <br> \n"
      ],
      "text/plain": [
       "<IPython.core.display.Markdown object>"
      ]
     },
     "execution_count": 5,
     "metadata": {},
     "output_type": "execute_result"
    }
   ],
   "source": [
    "%openad ds"
   ]
  },
  {
   "cell_type": "code",
   "execution_count": 6,
   "id": "9cfbe503-02c8-4898-9ea7-09625142a38e",
   "metadata": {},
   "outputs": [
    {
     "data": {
      "text/markdown": [
       "<span style=\"color: #dc0\"> PLUGIN </span> Deep Search  <br> \n",
       "<span style=\"color: #dc0\">--------------------------------------------------------------------------------</span> <br> \n",
       "<span style=\"color: #ccc\">v0.0.1 / Author: IBM Research</span> <br> \n",
       "\n",
       "Deep Search leverages state-of-the-art AI methods to continuously collect,  <br> \n",
       "convert, enrich, and link large document collections. <br> \n",
       "\n",
       "<span style=\"color: #ccc\">Website:</span> <a target=\"_blank\" href=\"ds4sd.github.io\">ds4sd.github.io</a> <br> \n",
       "<span style=\"color: #ccc\">GitHub:</span>  <a target=\"_blank\" href=\"github.com/ds4sd\">github.com/ds4sd</a>\n",
       "\n",
       "\n",
       "\n",
       "## Available Commands\n",
       "\n",
       "Molecules <br> \n",
       "`ds find molecules similar to <smiles> [ save as '<filename.csv>' ]` <br> \n",
       "`ds find molecules with substructure <smiles> [ save as '<filename.csv>' ]` <br> \n",
       "`ds find molecules in patents from file '<filename.csv>' [ save as '<filename.csv>' ]` <br> \n",
       "`ds find molecules in patents from list ['<patent_id>','<patent_id>',...] [ save as '<filename.csv>' ]` <br> \n",
       "`ds find molecules in patents from dataframe <dataframe_name> [ save as '<filename.csv>' ]` <br> \n",
       "\n",
       "Collections <br> \n",
       "`ds list all collections [ details ] [ save as '<filename.csv>' ]` <br> \n",
       "`ds list all domains [ save as '<filename.csv>' ]` <br> \n",
       "`ds list collections containing '<search_query>' [ save as '<filename.csv>' ]` <br> \n",
       "`ds list collections for domain '<domain_name>' [ save as '<filename.csv>' ]` <br> \n",
       "`ds list collections for domains ['<domain_name>','<domain_name>',...] [ save as '<filename.csv>' ]` <br> \n",
       "`ds list collection details '<collection_name_or_key>'` <br> \n",
       "`ds search collection '<collection_name_or_key>' for '<search_query>' <br> \n",
       "    [ USING (<parameter>=<value> <parameter>=<value>) ] [ show (data | docs | data docs) ] <br> \n",
       "    [ estimate only ] [ save as '<filename.csv>' ]` <br> \n",
       "\n",
       "System <br> \n",
       "`ds reset login` <br> \n",
       "\n",
       "Patents <br> \n",
       "`ds find patents containing molecule <smiles> | <inchi> | <inchikey> [ save as '<filename.csv>' ]` <br> \n"
      ],
      "text/plain": [
       "<IPython.core.display.Markdown object>"
      ]
     },
     "execution_count": 6,
     "metadata": {},
     "output_type": "execute_result"
    }
   ],
   "source": [
    "%openad ds ?"
   ]
  },
  {
   "cell_type": "code",
   "execution_count": 7,
   "id": "ff8b9b18-32f9-40d2-afdf-bc71a5462b56",
   "metadata": {},
   "outputs": [
    {
     "data": {
      "text/markdown": [
       "<span style=\"color: #dc0\"> PLUGIN </span> Deep Search  <br> \n",
       "<span style=\"color: #dc0\">--------------------------------------------------------------------------------</span> <br> \n",
       "<span style=\"color: #ccc\">v0.0.1 / Author: IBM Research</span> <br> \n",
       "\n",
       "Deep Search leverages state-of-the-art AI methods to continuously collect,  <br> \n",
       "convert, enrich, and link large document collections. <br> \n",
       "\n",
       "<span style=\"color: #ccc\">Website:</span> <a target=\"_blank\" href=\"ds4sd.github.io\">ds4sd.github.io</a> <br> \n",
       "<span style=\"color: #ccc\">GitHub:</span>  <a target=\"_blank\" href=\"github.com/ds4sd\">github.com/ds4sd</a>\n",
       "\n",
       "\n",
       "\n",
       "## Available Commands\n",
       "\n",
       "Molecules <br> \n",
       "`ds find molecules similar to <smiles> [ save as '<filename.csv>' ]` <br> \n",
       "`ds find molecules with substructure <smiles> [ save as '<filename.csv>' ]` <br> \n",
       "`ds find molecules in patents from file '<filename.csv>' [ save as '<filename.csv>' ]` <br> \n",
       "`ds find molecules in patents from list ['<patent_id>','<patent_id>',...] [ save as '<filename.csv>' ]` <br> \n",
       "`ds find molecules in patents from dataframe <dataframe_name> [ save as '<filename.csv>' ]` <br> \n",
       "\n",
       "Collections <br> \n",
       "`ds list all collections [ details ] [ save as '<filename.csv>' ]` <br> \n",
       "`ds list all domains [ save as '<filename.csv>' ]` <br> \n",
       "`ds list collections containing '<search_query>' [ save as '<filename.csv>' ]` <br> \n",
       "`ds list collections for domain '<domain_name>' [ save as '<filename.csv>' ]` <br> \n",
       "`ds list collections for domains ['<domain_name>','<domain_name>',...] [ save as '<filename.csv>' ]` <br> \n",
       "`ds list collection details '<collection_name_or_key>'` <br> \n",
       "`ds search collection '<collection_name_or_key>' for '<search_query>' <br> \n",
       "    [ USING (<parameter>=<value> <parameter>=<value>) ] [ show (data | docs | data docs) ] <br> \n",
       "    [ estimate only ] [ save as '<filename.csv>' ]` <br> \n",
       "\n",
       "System <br> \n",
       "`ds reset login` <br> \n",
       "\n",
       "Patents <br> \n",
       "`ds find patents containing molecule <smiles> | <inchi> | <inchikey> [ save as '<filename.csv>' ]` <br> \n"
      ],
      "text/plain": [
       "<IPython.core.display.Markdown object>"
      ]
     },
     "execution_count": 7,
     "metadata": {},
     "output_type": "execute_result"
    }
   ],
   "source": [
    "%openad ? ds"
   ]
  },
  {
   "cell_type": "markdown",
   "id": "1e509217-2377-43a5-8aa6-e5699ec33225",
   "metadata": {
    "tags": []
   },
   "source": [
    "<br>\n",
    "<h2><u><b>Molecules</b></u></h2>"
   ]
  },
  {
   "cell_type": "markdown",
   "id": "4cbb89ea-308d-4467-9ea4-d4016cfbdb96",
   "metadata": {},
   "source": [
    "### Find molecules similar to"
   ]
  },
  {
   "cell_type": "code",
   "execution_count": 8,
   "id": "fdd99bb8-7e6b-480e-aa72-bbcd5473b773",
   "metadata": {
    "tags": []
   },
   "outputs": [
    {
     "data": {
      "text/markdown": [
       "`ds find molecules similar to <smiles> [ save as '<filename.csv>' ]` <br> \n",
       "<span style=\"color: #ccc\">------------------------------------------------------------------</span> <br> \n",
       "Search for molecules that are similar to the provided molecule or substructure as provided in the `<smiles>`. <br> \n",
       "\n",
       "Use the `save as` clause to save the results as a csv file in your current workspace. <br> \n",
       "\n",
       "Examples: <br> \n",
       "- `ds find molecules similar to CC(=CCC/C(=C/CO)/C)C` <br> \n",
       "- `ds find molecules similar to 'C1(C(=C)C([O-])C1C)=O'` <br> \n",
       "- `ds find molecules similar to CC1CCC2C1C(=O)OC=C2C save as 'similar_mols'` <br> \n",
       "- `ds find molecules similar to CC1=CCC2CC1C2(C)C save as 'similar_mols.csv'` <br> \n",
       "\n",
       "\n",
       "\n",
       " i  <span style=\"color: #ccc\">To see all available Deep Search commands, run `ds`</span> <br> \n"
      ],
      "text/plain": [
       "<IPython.core.display.Markdown object>"
      ]
     },
     "execution_count": 8,
     "metadata": {},
     "output_type": "execute_result"
    }
   ],
   "source": [
    "# Command help\n",
    "%openad ds find molecules similar ?"
   ]
  },
  {
   "cell_type": "code",
   "execution_count": 9,
   "id": "ad49cfde-1fab-4d58-a1d7-270d81195ff5",
   "metadata": {
    "tags": []
   },
   "outputs": [
    {
     "data": {
      "text/markdown": [
       "<span style=\"color: #090\">Logged in to <span style=\"color: #dc0\">Deep Search</span> as phil.downey1@ibm.com</span> <br> \n"
      ],
      "text/plain": [
       "<IPython.core.display.Markdown object>"
      ]
     },
     "metadata": {},
     "output_type": "display_data"
    },
    {
     "data": {
      "text/markdown": [
       "<span style=\"color: #d00\">There was an error calling Deep Search</span> <br> \n",
       "<span style=\"color: #ccc\">504 Server Error: Gateway Time-out for url: https://sds.app.accelerate.science//api/orchestrator/api/v1/query/run</span> <br> \n"
      ],
      "text/plain": [
       "<IPython.core.display.Markdown object>"
      ]
     },
     "execution_count": 9,
     "metadata": {},
     "output_type": "execute_result"
    }
   ],
   "source": [
    "# Without quotes\n",
    "%openad ds find molecules similar to CC(=CCC/C(=C/CO)/C)C"
   ]
  },
  {
   "cell_type": "code",
   "execution_count": 10,
   "id": "37b859c6-655e-4464-8490-ba37bd62f0d0",
   "metadata": {
    "tags": []
   },
   "outputs": [
    {
     "data": {
      "text/markdown": [
       "<span style=\"color: #d00\">There was an error calling Deep Search</span> <br> \n",
       "<span style=\"color: #ccc\">504 Server Error: Gateway Time-out for url: https://sds.app.accelerate.science//api/orchestrator/api/v1/query/run</span> <br> \n"
      ],
      "text/plain": [
       "<IPython.core.display.Markdown object>"
      ]
     },
     "execution_count": 10,
     "metadata": {},
     "output_type": "execute_result"
    }
   ],
   "source": [
    "# With quotes\n",
    "%openad ds find molecules similar to 'C1(C(=C)C([O-])C1C)=O'"
   ]
  },
  {
   "cell_type": "code",
   "execution_count": null,
   "id": "c3425f38-6ef3-4923-9731-5d0993ae37a2",
   "metadata": {
    "tags": []
   },
   "outputs": [],
   "source": [
    "# Save as\n",
    "%openad ds find molecules similar to CC1=CCC2CC1C2(C)C save as 'similar_mols.csv'"
   ]
  },
  {
   "cell_type": "code",
   "execution_count": null,
   "id": "f8a5de79-354d-446c-922f-2aa51b308f6e",
   "metadata": {
    "tags": []
   },
   "outputs": [],
   "source": [
    "# Save as, no extension\n",
    "%openad ds find molecules similar to CC1CCC2C1C(=O)OC=C2C save as 'similar_mols'"
   ]
  },
  {
   "cell_type": "code",
   "execution_count": null,
   "id": "254d7279-5f74-4a84-9dcb-01fcc14812d9",
   "metadata": {
    "tags": []
   },
   "outputs": [],
   "source": [
    "# Data API\n",
    "df = %openadd ds find molecules similar to CC(=CCC/C(=C/CO)/C)C\n",
    "df"
   ]
  },
  {
   "cell_type": "markdown",
   "id": "17df4554-acd7-4987-8fe7-ea8258c0f09d",
   "metadata": {},
   "source": [
    "<br>"
   ]
  },
  {
   "cell_type": "markdown",
   "id": "d4fa8b8e-cb22-43f4-a258-fe5ebb5d7feb",
   "metadata": {},
   "source": [
    "### Find molecules with substructure"
   ]
  },
  {
   "cell_type": "code",
   "execution_count": 11,
   "id": "e60ff85d-3721-4150-910f-0a80bf363359",
   "metadata": {
    "tags": []
   },
   "outputs": [
    {
     "data": {
      "text/markdown": [
       "`ds find molecules with substructure <smiles> [ save as '<filename.csv>' ]` <br> \n",
       "<span style=\"color: #ccc\">-------------------------------------------------------------------------</span> <br> \n",
       "Search for molecules by substructure, as defined by the `<smiles>`. <br> \n",
       "\n",
       "Use the `save as` clause to save the results as a csv file in your current workspace. <br> \n",
       "\n",
       "Examples: <br> \n",
       "- `ds find molecules with substructure C1(C(=C)C([O-])C1C)=O` <br> \n",
       "- `ds find molecules with substructure 'C1=CCCCC1' save as 'my_mol'` <br> \n",
       "\n",
       "\n",
       "\n",
       " i  <span style=\"color: #ccc\">To see all available Deep Search commands, run `ds`</span> <br> \n"
      ],
      "text/plain": [
       "<IPython.core.display.Markdown object>"
      ]
     },
     "execution_count": 11,
     "metadata": {},
     "output_type": "execute_result"
    }
   ],
   "source": [
    "# Command help\n",
    "%openad ds find molecules with substructure ?"
   ]
  },
  {
   "cell_type": "code",
   "execution_count": 12,
   "id": "cb597cc0-c12c-403e-8ce5-b24b86e8e6a0",
   "metadata": {
    "tags": []
   },
   "outputs": [
    {
     "data": {
      "text/markdown": [
       "<span style=\"color: #d00\">There was an error calling Deep Search</span> <br> \n",
       "<span style=\"color: #ccc\">504 Server Error: Gateway Time-out for url: https://sds.app.accelerate.science//api/orchestrator/api/v1/query/run</span> <br> \n"
      ],
      "text/plain": [
       "<IPython.core.display.Markdown object>"
      ]
     },
     "execution_count": 12,
     "metadata": {},
     "output_type": "execute_result"
    }
   ],
   "source": [
    "# Without quotes\n",
    "%openad ds find molecules with substructure C1(C(=C)C([O-])C1C)=O"
   ]
  },
  {
   "cell_type": "code",
   "execution_count": null,
   "id": "773ddfd2-fe47-4400-9a40-b85f43d93145",
   "metadata": {
    "tags": []
   },
   "outputs": [],
   "source": [
    "# With quotes, save as\n",
    "%openad ds find molecules with substructure 'C1=CCCCC1' save as 'my_mol'"
   ]
  },
  {
   "cell_type": "code",
   "execution_count": null,
   "id": "689ecdd6-b154-4947-8118-20f27e460cb6",
   "metadata": {
    "tags": []
   },
   "outputs": [],
   "source": [
    "# Data API\n",
    "df = %openadd ds find molecules with substructure C1(C(=C)C([O-])C1C)=O\n",
    "df"
   ]
  },
  {
   "cell_type": "markdown",
   "id": "1b8db4b0-2420-4f71-8535-2880bdd09004",
   "metadata": {},
   "source": [
    "<br>"
   ]
  },
  {
   "cell_type": "markdown",
   "id": "237239b9-f3dd-472f-bf37-602086c2c331",
   "metadata": {},
   "source": [
    "### Find molecules in patents"
   ]
  },
  {
   "cell_type": "code",
   "execution_count": 13,
   "id": "7c6a1250-129d-41ba-90d5-6f4340dbbf7b",
   "metadata": {
    "tags": []
   },
   "outputs": [
    {
     "data": {
      "text/markdown": [
       "`ds find molecules in patents from file '<filename.csv>' [ save as '<filename.csv>' ]` <br> \n",
       "`ds find molecules in patents from list ['<patent_id>','<patent_id>',...] [ save as '<filename.csv>' ]` <br> \n",
       "`ds find molecules in patents from dataframe <dataframe_name> [ save as '<filename.csv>' ]` <br> \n",
       "<span style=\"color: #ccc\">-----------------------------------------------------------------------------------------------------</span> <br> \n",
       "Search for molecules mentioned in a defined list of patents. <br> \n",
       "When sourcing patents from a CSV or dataframe, there must be a column named \"patent id\" (case insensitive). <br> \n",
       "\n",
       "To find patent IDs, run `ds find patents ?` <br> \n",
       "\n",
       "Use the `save as` clause to save the results as a csv file in your current workspace. <br> \n",
       "\n",
       "Examples: <br> \n",
       "- `ds find molecules in patents from list ['CN108473493B','US20190023713A1']` <br> \n",
       "- `ds find molecules in patents from file 'my_patents.csv'` <br> \n",
       "- `ds find molecules in patents from dataframe my_patents_df` <span style=\"color: #ccc\">(Jupyter Notebook only)</span> <br> \n",
       "\n",
       "\n",
       "\n",
       " i  <span style=\"color: #ccc\">To see all available Deep Search commands, run `ds`</span> <br> \n"
      ],
      "text/plain": [
       "<IPython.core.display.Markdown object>"
      ]
     },
     "execution_count": 13,
     "metadata": {},
     "output_type": "execute_result"
    }
   ],
   "source": [
    "# Command help\n",
    "%openad ds find molecules in patents ?"
   ]
  },
  {
   "cell_type": "code",
   "execution_count": 14,
   "id": "10aed1f1-b6fa-49d3-b37f-6ddd7074d968",
   "metadata": {
    "tags": []
   },
   "outputs": [
    {
     "data": {
      "text/markdown": [
       "<span style=\"color: #090\">We found 20 molecules mentioned in the following patents: <br> \n",
       "- CN108473493B <br> \n",
       "- US20190023713A1</span> <br> \n"
      ],
      "text/plain": [
       "<IPython.core.display.Markdown object>"
      ]
     },
     "metadata": {},
     "output_type": "display_data"
    },
    {
     "data": {
      "text/markdown": [
       "<span style=\"color: #ccc\">Next up, you can run: </span>`result open`/`edit`/`copy`/`display`/`as dataframe`/`save [as '<filename.csv>']` <br> \n"
      ],
      "text/plain": [
       "<IPython.core.display.Markdown object>"
      ]
     },
     "metadata": {},
     "output_type": "display_data"
    },
    {
     "data": {
      "text/html": [
       "<style type=\"text/css\">\n",
       "</style>\n",
       "<table id=\"T_4b99a\">\n",
       "  <thead>\n",
       "    <tr>\n",
       "      <th id=\"T_4b99a_level0_col0\" class=\"col_heading level0 col0\" >Id</th>\n",
       "      <th id=\"T_4b99a_level0_col1\" class=\"col_heading level0 col1\" >SMILES</th>\n",
       "      <th id=\"T_4b99a_level0_col2\" class=\"col_heading level0 col2\" >InChIKey</th>\n",
       "      <th id=\"T_4b99a_level0_col3\" class=\"col_heading level0 col3\" >InChI</th>\n",
       "    </tr>\n",
       "  </thead>\n",
       "  <tbody>\n",
       "    <tr>\n",
       "      <td id=\"T_4b99a_row0_col0\" class=\"data row0 col0\" >05254aa456aab76bfd4915eaae6e856ac60288d01d60379e8cb61f202839b53b</td>\n",
       "      <td id=\"T_4b99a_row0_col1\" class=\"data row0 col1\" >CCOC(=O)C=C(N)C(C)(C)c1ccccn1</td>\n",
       "      <td id=\"T_4b99a_row0_col2\" class=\"data row0 col2\" >OPXOXVDSPZXHQT-UHFFFAOYSA-N</td>\n",
       "      <td id=\"T_4b99a_row0_col3\" class=\"data row0 col3\" >InChI=1S/C13H18N2O2/c1-4-17-12(16)9-10(14)13(2,3)11-7-5-6-8-15-11/h5-9H,4,14H2,1-3H3</td>\n",
       "    </tr>\n",
       "    <tr>\n",
       "      <td id=\"T_4b99a_row1_col0\" class=\"data row1 col0\" >06fc1cb7e0818196817db5ffb142ca68ff17ef82c9581f389dfa09ac99c3ac8a</td>\n",
       "      <td id=\"T_4b99a_row1_col1\" class=\"data row1 col1\" >C=CCC(C)(C)C(CCF)Nc1nc(Cl)c(C#N)cc1F</td>\n",
       "      <td id=\"T_4b99a_row1_col2\" class=\"data row1 col2\" >NVXFORHWGCVJTH-UHFFFAOYSA-N</td>\n",
       "      <td id=\"T_4b99a_row1_col3\" class=\"data row1 col3\" >InChI=1S/C15H18ClF2N3/c1-4-6-15(2,3)12(5-7-17)20-14-11(18)8-10(9-19)13(16)21-14/h4,8,12H,1,5-7H2,2-3H3,(H,20,21)</td>\n",
       "    </tr>\n",
       "    <tr>\n",
       "      <td id=\"T_4b99a_row2_col0\" class=\"data row2 col0\" >07ec8a3a0fc49b6f65e8ddcbcf29b6b8720aad905566cb7e88704b1279e273f1</td>\n",
       "      <td id=\"T_4b99a_row2_col1\" class=\"data row2 col1\" >C=C([O-])CC(Nc1nc(-c2c[nH]c3ncc(Cl)cc23)c(C#N)cc1F)C(C)(C)c1cccs1</td>\n",
       "      <td id=\"T_4b99a_row2_col2\" class=\"data row2 col2\" >OYPIIDFYQHIPHW-UHFFFAOYSA-M</td>\n",
       "      <td id=\"T_4b99a_row2_col3\" class=\"data row2 col3\" >InChI=1S/C24H21ClFN5OS/c1-13(32)7-19(24(2,3)20-5-4-6-33-20)30-23-18(26)8-14(10-27)21(31-23)17-12-29-22-16(17)9-15(25)11-28-22/h4-6,8-9,11-12,19,32H,1,7H2,2-3H3,(H,28,29)(H,30,31)/p-1</td>\n",
       "    </tr>\n",
       "    <tr>\n",
       "      <td id=\"T_4b99a_row3_col0\" class=\"data row3 col0\" >08743344ce06860ead6974eb4bcc45c21a9fb77bce9e2ae7d7ae2fe568149ea3</td>\n",
       "      <td id=\"T_4b99a_row3_col1\" class=\"data row3 col1\" >CC(C)(C#N)c1ccccn1</td>\n",
       "      <td id=\"T_4b99a_row3_col2\" class=\"data row3 col2\" >SYILGDLWTPODQG-UHFFFAOYSA-N</td>\n",
       "      <td id=\"T_4b99a_row3_col3\" class=\"data row3 col3\" >InChI=1S/C9H10N2/c1-9(2,7-10)8-5-3-4-6-11-8/h3-6H,1-2H3</td>\n",
       "    </tr>\n",
       "    <tr>\n",
       "      <td id=\"T_4b99a_row4_col0\" class=\"data row4 col0\" >0d3ff5163ea47e9dbdb746ff4ea32411a880855a41b3e4b39bd7044ae32a7557</td>\n",
       "      <td id=\"T_4b99a_row4_col1\" class=\"data row4 col1\" >N#CCc1nccs1</td>\n",
       "      <td id=\"T_4b99a_row4_col2\" class=\"data row4 col2\" >QLBGFCHJCWNVIN-UHFFFAOYSA-N</td>\n",
       "      <td id=\"T_4b99a_row4_col3\" class=\"data row4 col3\" >InChI=1S/C5H4N2S/c6-2-1-5-7-3-4-8-5/h3-4H,1H2</td>\n",
       "    </tr>\n",
       "    <tr>\n",
       "      <td id=\"T_4b99a_row5_col0\" class=\"data row5 col0\" >10fe7b9bc85b488112d32136d08e32cec5d0a97db4f8c123e48d27e3f1cb4edb</td>\n",
       "      <td id=\"T_4b99a_row5_col1\" class=\"data row5 col1\" >C#CC(C)(C)c1ccccn1</td>\n",
       "      <td id=\"T_4b99a_row5_col2\" class=\"data row5 col2\" >IORICXGDTVBUHE-UHFFFAOYSA-N</td>\n",
       "      <td id=\"T_4b99a_row5_col3\" class=\"data row5 col3\" >InChI=1S/C10H11N/c1-4-10(2,3)9-7-5-6-8-11-9/h1,5-8H,2-3H3</td>\n",
       "    </tr>\n",
       "    <tr>\n",
       "      <td id=\"T_4b99a_row6_col0\" class=\"data row6 col0\" >12d7c52a299793a1f2f824dc71a001a459e6d45c4c0665fc2e48a25d31d4bc7f</td>\n",
       "      <td id=\"T_4b99a_row6_col1\" class=\"data row6 col1\" >CCOC(=O)CC(Nc1nc(Cl)ncc1F)C(C)(C)c1cccs1</td>\n",
       "      <td id=\"T_4b99a_row6_col2\" class=\"data row6 col2\" >CFYRRRVOOYRWTP-UHFFFAOYSA-N</td>\n",
       "      <td id=\"T_4b99a_row6_col3\" class=\"data row6 col3\" >InChI=1S/C16H19ClFN3O2S/c1-4-23-13(22)8-11(16(2,3)12-6-5-7-24-12)20-14-10(18)9-19-15(17)21-14/h5-7,9,11H,4,8H2,1-3H3,(H,19,20,21)</td>\n",
       "    </tr>\n",
       "    <tr>\n",
       "      <td id=\"T_4b99a_row7_col0\" class=\"data row7 col0\" >137890107d3dcf3ee3659186864a64d2d4149266a5d947d5b11841e5aee8f0a8</td>\n",
       "      <td id=\"T_4b99a_row7_col1\" class=\"data row7 col1\" >CCOC(=O)C=C(N)C(C)(C)c1ccn(C)n1</td>\n",
       "      <td id=\"T_4b99a_row7_col2\" class=\"data row7 col2\" >WMNOLOMGSDHERX-UHFFFAOYSA-N</td>\n",
       "      <td id=\"T_4b99a_row7_col3\" class=\"data row7 col3\" >InChI=1S/C12H19N3O2/c1-5-17-11(16)8-9(13)12(2,3)10-6-7-15(4)14-10/h6-8H,5,13H2,1-4H3</td>\n",
       "    </tr>\n",
       "    <tr>\n",
       "      <td id=\"T_4b99a_row8_col0\" class=\"data row8 col0\" >1480cb6fc77f0a5ad7ccf5c6701f0d40cbcb6ea7611b65de2deddb88b91ff2d3</td>\n",
       "      <td id=\"T_4b99a_row8_col1\" class=\"data row8 col1\" >CC(C)(C(N)=CCF)c1nccs1</td>\n",
       "      <td id=\"T_4b99a_row8_col2\" class=\"data row8 col2\" >QZJKYIRETNZSNG-UHFFFAOYSA-N</td>\n",
       "      <td id=\"T_4b99a_row8_col3\" class=\"data row8 col3\" >InChI=1S/C9H13FN2S/c1-9(2,7(11)3-4-10)8-12-5-6-13-8/h3,5-6H,4,11H2,1-2H3</td>\n",
       "    </tr>\n",
       "    <tr>\n",
       "      <td id=\"T_4b99a_row9_col0\" class=\"data row9 col0\" >15efbd1f6492a787271a1883acb3d73c8dd889b6b754cac88b847a31c5558221</td>\n",
       "      <td id=\"T_4b99a_row9_col1\" class=\"data row9 col1\" >CCOC(=O)CC(Nc1nc(Cl)c(C#N)cc1F)C(C)(C)c1ccccn1</td>\n",
       "      <td id=\"T_4b99a_row9_col2\" class=\"data row9 col2\" >XYTIEJYCLQDWMM-UHFFFAOYSA-N</td>\n",
       "      <td id=\"T_4b99a_row9_col3\" class=\"data row9 col3\" >InChI=1S/C19H20ClFN4O2/c1-4-27-16(26)10-15(19(2,3)14-7-5-6-8-23-14)24-18-13(21)9-12(11-22)17(20)25-18/h5-9,15H,4,10H2,1-3H3,(H,24,25)</td>\n",
       "    </tr>\n",
       "    <tr>\n",
       "      <td id=\"T_4b99a_row10_col0\" class=\"data row10 col0\" >17a96efd126f184cee547bb3a92e5ef3c81111e4f50a10d1f831ed656aee8d8f</td>\n",
       "      <td id=\"T_4b99a_row10_col1\" class=\"data row10 col1\" >C=CCC(C)(C)C(CCF)NS(=O)C(C)(C)C</td>\n",
       "      <td id=\"T_4b99a_row10_col2\" class=\"data row10 col2\" >AUCXDCUTROJCLO-UHFFFAOYSA-N</td>\n",
       "      <td id=\"T_4b99a_row10_col3\" class=\"data row10 col3\" >InChI=1S/C13H26FNOS/c1-7-9-13(5,6)11(8-10-14)15-17(16)12(2,3)4/h7,11,15H,1,8-10H2,2-6H3</td>\n",
       "    </tr>\n",
       "    <tr>\n",
       "      <td id=\"T_4b99a_row11_col0\" class=\"data row11 col0\" >1933933ff61345e7f2ec58e7fbc6869c56ad8b6d461ac38e91deed37f5253004</td>\n",
       "      <td id=\"T_4b99a_row11_col1\" class=\"data row11 col1\" >CC(C)C(N)C(C)(C)c1ccccn1</td>\n",
       "      <td id=\"T_4b99a_row11_col2\" class=\"data row11 col2\" >XLFHFUBIHHADDJ-UHFFFAOYSA-N</td>\n",
       "      <td id=\"T_4b99a_row11_col3\" class=\"data row11 col3\" >InChI=1S/C12H20N2/c1-9(2)11(13)12(3,4)10-7-5-6-8-14-10/h5-9,11H,13H2,1-4H3</td>\n",
       "    </tr>\n",
       "    <tr>\n",
       "      <td id=\"T_4b99a_row12_col0\" class=\"data row12 col0\" >1efa0e3d37cc29c082fa681206b83c69d7c58e625cbe9b778879aa917d3dd671</td>\n",
       "      <td id=\"T_4b99a_row12_col1\" class=\"data row12 col1\" >CCOC(=O)CC(Nc1nc(-c2cn(S(=O)(=O)c3ccc(C)cc3)c3ncc(Cl)cc23)c(C#N)cc1F)C(C)(C)OC</td>\n",
       "      <td id=\"T_4b99a_row12_col2\" class=\"data row12 col2\" >MPYXWALMNNNNMA-UHFFFAOYSA-N</td>\n",
       "      <td id=\"T_4b99a_row12_col3\" class=\"data row12 col3\" >InChI=1S/C29H29ClFN5O5S/c1-6-41-25(37)13-24(29(3,4)40-5)34-27-23(31)11-18(14-32)26(35-27)22-16-36(28-21(22)12-19(30)15-33-28)42(38,39)20-9-7-17(2)8-10-20/h7-12,15-16,24H,6,13H2,1-5H3,(H,34,35)</td>\n",
       "    </tr>\n",
       "    <tr>\n",
       "      <td id=\"T_4b99a_row13_col0\" class=\"data row13 col0\" >23ac325f1c8e1d2f426a61bdd949658b6504abbf41f04a7ee512a1c83a45434d</td>\n",
       "      <td id=\"T_4b99a_row13_col1\" class=\"data row13 col1\" >N#CCCc1nccs1</td>\n",
       "      <td id=\"T_4b99a_row13_col2\" class=\"data row13 col2\" >QGFZXLFQMGLRKM-UHFFFAOYSA-N</td>\n",
       "      <td id=\"T_4b99a_row13_col3\" class=\"data row13 col3\" >InChI=1S/C6H6N2S/c7-3-1-2-6-8-4-5-9-6/h4-5H,1-2H2</td>\n",
       "    </tr>\n",
       "    <tr>\n",
       "      <td id=\"T_4b99a_row14_col0\" class=\"data row14 col0\" >260a0fa1f2971da780e4552165c71966b2c9ff2e68ae72a7090a6a74fcd38b80</td>\n",
       "      <td id=\"T_4b99a_row14_col1\" class=\"data row14 col1\" >C=CCC(C)(C)C(CC(=O)OC)NC1=C(F)CC(C#N)C(Cl)=N1</td>\n",
       "      <td id=\"T_4b99a_row14_col2\" class=\"data row14 col2\" >QZSWRKHGXMDVBE-UHFFFAOYSA-N</td>\n",
       "      <td id=\"T_4b99a_row14_col3\" class=\"data row14 col3\" >InChI=1S/C16H21ClFN3O2/c1-5-6-16(2,3)12(8-13(22)23-4)20-15-11(18)7-10(9-19)14(17)21-15/h5,10,12,20H,1,6-8H2,2-4H3</td>\n",
       "    </tr>\n",
       "    <tr>\n",
       "      <td id=\"T_4b99a_row15_col0\" class=\"data row15 col0\" >2688505f1816fd8d728403a372070ef2b6317b717d32abca7b8a0568873ba01a</td>\n",
       "      <td id=\"T_4b99a_row15_col1\" class=\"data row15 col1\" >Cc1ccc(S(=O)(=O)n2cc(B3OC(C)(C)C(C)(C)O3)c3cncnc32)cc1</td>\n",
       "      <td id=\"T_4b99a_row15_col2\" class=\"data row15 col2\" >ZYPOBLQBYBAHND-UHFFFAOYSA-N</td>\n",
       "      <td id=\"T_4b99a_row15_col3\" class=\"data row15 col3\" >InChI=1S/C19H22BN3O4S/c1-13-6-8-14(9-7-13)28(24,25)23-11-16(15-10-21-12-22-17(15)23)20-26-18(2,3)19(4,5)27-20/h6-12H,1-5H3</td>\n",
       "    </tr>\n",
       "    <tr>\n",
       "      <td id=\"T_4b99a_row16_col0\" class=\"data row16 col0\" >27521f2625e5f333cd9b3f4cec4f4d0b352d8ab1ee666a9b72957dd2fa4fbbbb</td>\n",
       "      <td id=\"T_4b99a_row16_col1\" class=\"data row16 col1\" >CCOC(=O)CC(Nc1nc(Cl)ncc1F)C1(C)COC1</td>\n",
       "      <td id=\"T_4b99a_row16_col2\" class=\"data row16 col2\" >TUXFEJANEQFTNP-UHFFFAOYSA-N</td>\n",
       "      <td id=\"T_4b99a_row16_col3\" class=\"data row16 col3\" >InChI=1S/C13H17ClFN3O3/c1-3-21-10(19)4-9(13(2)6-20-7-13)17-11-8(15)5-16-12(14)18-11/h5,9H,3-4,6-7H2,1-2H3,(H,16,17,18)</td>\n",
       "    </tr>\n",
       "    <tr>\n",
       "      <td id=\"T_4b99a_row17_col0\" class=\"data row17 col0\" >2962a162fea360167f007f66033433a1eb7faa63705c2f7befd68a61f62ad50c</td>\n",
       "      <td id=\"T_4b99a_row17_col1\" class=\"data row17 col1\" >CCOC(=O)CC(Nc1nc(-c2cn(C)c3ncc(Cl)cc23)ncc1F)C1(C)COC1</td>\n",
       "      <td id=\"T_4b99a_row17_col2\" class=\"data row17 col2\" >BXKSMZPVLZNOSL-UHFFFAOYSA-N</td>\n",
       "      <td id=\"T_4b99a_row17_col3\" class=\"data row17 col3\" >InChI=1S/C21H23ClFN5O3/c1-4-31-17(29)6-16(21(2)10-30-11-21)26-19-15(23)8-24-18(27-19)14-9-28(3)20-13(14)5-12(22)7-25-20/h5,7-9,16H,4,6,10-11H2,1-3H3,(H,24,26,27)</td>\n",
       "    </tr>\n",
       "    <tr>\n",
       "      <td id=\"T_4b99a_row18_col0\" class=\"data row18 col0\" >30c89c989b25ab2d0855372788f3683b13c9f4c8f63ced2210f7d424bc3db46b</td>\n",
       "      <td id=\"T_4b99a_row18_col1\" class=\"data row18 col1\" >CCOC(=O)C=C(N)C(C)(C)C1=[N+](C)C=C1</td>\n",
       "      <td id=\"T_4b99a_row18_col2\" class=\"data row18 col2\" >KSLIOJHMNQDNQD-UHFFFAOYSA-O</td>\n",
       "      <td id=\"T_4b99a_row18_col3\" class=\"data row18 col3\" >InChI=1S/C12H18N2O2/c1-5-16-11(15)8-9(13)12(2,3)10-6-7-14(10)4/h6-8H,5H2,1-4H3,(H-,13,15)/p+1</td>\n",
       "    </tr>\n",
       "    <tr>\n",
       "      <td id=\"T_4b99a_row19_col0\" class=\"data row19 col0\" >3320787739c50d6da032be1b102a707be4202f6e57b56c0cc6a861e8be273706</td>\n",
       "      <td id=\"T_4b99a_row19_col1\" class=\"data row19 col1\" >CCOC(=O)CC(N)C(C)(C)c1nccs1</td>\n",
       "      <td id=\"T_4b99a_row19_col2\" class=\"data row19 col2\" >QBDYCMFWIQKWBT-UHFFFAOYSA-N</td>\n",
       "      <td id=\"T_4b99a_row19_col3\" class=\"data row19 col3\" >InChI=1S/C11H18N2O2S/c1-4-15-9(14)7-8(12)11(2,3)10-13-5-6-16-10/h5-6,8H,4,7,12H2,1-3H3</td>\n",
       "    </tr>\n",
       "  </tbody>\n",
       "</table>\n"
      ],
      "text/plain": [
       "<pandas.io.formats.style.Styler at 0x174d4c1c0>"
      ]
     },
     "metadata": {},
     "output_type": "display_data"
    }
   ],
   "source": [
    "# From list\n",
    "%openad ds find molecules in patents from list ['CN108473493B','US20190023713A1']"
   ]
  },
  {
   "cell_type": "code",
   "execution_count": 15,
   "id": "5f1bb0f8-37ed-4f59-8f9e-9d96dd4bebb2",
   "metadata": {},
   "outputs": [
    {
     "data": {
      "text/markdown": [
       "<span style=\"color: #090\">We found 20 molecules mentioned in the following patents: <br> \n",
       "- CN108473493B <br> \n",
       "- US20190023713A1</span> <br> \n"
      ],
      "text/plain": [
       "<IPython.core.display.Markdown object>"
      ]
     },
     "metadata": {},
     "output_type": "display_data"
    },
    {
     "data": {
      "text/markdown": [
       "<span style=\"color: #ccc\">Next up, you can run: </span>`result open`/`edit`/`copy`/`display`/`as dataframe`/`save [as '<filename.csv>']` <br> \n"
      ],
      "text/plain": [
       "<IPython.core.display.Markdown object>"
      ]
     },
     "metadata": {},
     "output_type": "display_data"
    },
    {
     "data": {
      "text/html": [
       "<style type=\"text/css\">\n",
       "</style>\n",
       "<table id=\"T_c7097\">\n",
       "  <thead>\n",
       "    <tr>\n",
       "      <th id=\"T_c7097_level0_col0\" class=\"col_heading level0 col0\" >Id</th>\n",
       "      <th id=\"T_c7097_level0_col1\" class=\"col_heading level0 col1\" >SMILES</th>\n",
       "      <th id=\"T_c7097_level0_col2\" class=\"col_heading level0 col2\" >InChIKey</th>\n",
       "      <th id=\"T_c7097_level0_col3\" class=\"col_heading level0 col3\" >InChI</th>\n",
       "    </tr>\n",
       "  </thead>\n",
       "  <tbody>\n",
       "    <tr>\n",
       "      <td id=\"T_c7097_row0_col0\" class=\"data row0 col0\" >05254aa456aab76bfd4915eaae6e856ac60288d01d60379e8cb61f202839b53b</td>\n",
       "      <td id=\"T_c7097_row0_col1\" class=\"data row0 col1\" >CCOC(=O)C=C(N)C(C)(C)c1ccccn1</td>\n",
       "      <td id=\"T_c7097_row0_col2\" class=\"data row0 col2\" >OPXOXVDSPZXHQT-UHFFFAOYSA-N</td>\n",
       "      <td id=\"T_c7097_row0_col3\" class=\"data row0 col3\" >InChI=1S/C13H18N2O2/c1-4-17-12(16)9-10(14)13(2,3)11-7-5-6-8-15-11/h5-9H,4,14H2,1-3H3</td>\n",
       "    </tr>\n",
       "    <tr>\n",
       "      <td id=\"T_c7097_row1_col0\" class=\"data row1 col0\" >06fc1cb7e0818196817db5ffb142ca68ff17ef82c9581f389dfa09ac99c3ac8a</td>\n",
       "      <td id=\"T_c7097_row1_col1\" class=\"data row1 col1\" >C=CCC(C)(C)C(CCF)Nc1nc(Cl)c(C#N)cc1F</td>\n",
       "      <td id=\"T_c7097_row1_col2\" class=\"data row1 col2\" >NVXFORHWGCVJTH-UHFFFAOYSA-N</td>\n",
       "      <td id=\"T_c7097_row1_col3\" class=\"data row1 col3\" >InChI=1S/C15H18ClF2N3/c1-4-6-15(2,3)12(5-7-17)20-14-11(18)8-10(9-19)13(16)21-14/h4,8,12H,1,5-7H2,2-3H3,(H,20,21)</td>\n",
       "    </tr>\n",
       "    <tr>\n",
       "      <td id=\"T_c7097_row2_col0\" class=\"data row2 col0\" >07ec8a3a0fc49b6f65e8ddcbcf29b6b8720aad905566cb7e88704b1279e273f1</td>\n",
       "      <td id=\"T_c7097_row2_col1\" class=\"data row2 col1\" >C=C([O-])CC(Nc1nc(-c2c[nH]c3ncc(Cl)cc23)c(C#N)cc1F)C(C)(C)c1cccs1</td>\n",
       "      <td id=\"T_c7097_row2_col2\" class=\"data row2 col2\" >OYPIIDFYQHIPHW-UHFFFAOYSA-M</td>\n",
       "      <td id=\"T_c7097_row2_col3\" class=\"data row2 col3\" >InChI=1S/C24H21ClFN5OS/c1-13(32)7-19(24(2,3)20-5-4-6-33-20)30-23-18(26)8-14(10-27)21(31-23)17-12-29-22-16(17)9-15(25)11-28-22/h4-6,8-9,11-12,19,32H,1,7H2,2-3H3,(H,28,29)(H,30,31)/p-1</td>\n",
       "    </tr>\n",
       "    <tr>\n",
       "      <td id=\"T_c7097_row3_col0\" class=\"data row3 col0\" >08743344ce06860ead6974eb4bcc45c21a9fb77bce9e2ae7d7ae2fe568149ea3</td>\n",
       "      <td id=\"T_c7097_row3_col1\" class=\"data row3 col1\" >CC(C)(C#N)c1ccccn1</td>\n",
       "      <td id=\"T_c7097_row3_col2\" class=\"data row3 col2\" >SYILGDLWTPODQG-UHFFFAOYSA-N</td>\n",
       "      <td id=\"T_c7097_row3_col3\" class=\"data row3 col3\" >InChI=1S/C9H10N2/c1-9(2,7-10)8-5-3-4-6-11-8/h3-6H,1-2H3</td>\n",
       "    </tr>\n",
       "    <tr>\n",
       "      <td id=\"T_c7097_row4_col0\" class=\"data row4 col0\" >0d3ff5163ea47e9dbdb746ff4ea32411a880855a41b3e4b39bd7044ae32a7557</td>\n",
       "      <td id=\"T_c7097_row4_col1\" class=\"data row4 col1\" >N#CCc1nccs1</td>\n",
       "      <td id=\"T_c7097_row4_col2\" class=\"data row4 col2\" >QLBGFCHJCWNVIN-UHFFFAOYSA-N</td>\n",
       "      <td id=\"T_c7097_row4_col3\" class=\"data row4 col3\" >InChI=1S/C5H4N2S/c6-2-1-5-7-3-4-8-5/h3-4H,1H2</td>\n",
       "    </tr>\n",
       "    <tr>\n",
       "      <td id=\"T_c7097_row5_col0\" class=\"data row5 col0\" >10fe7b9bc85b488112d32136d08e32cec5d0a97db4f8c123e48d27e3f1cb4edb</td>\n",
       "      <td id=\"T_c7097_row5_col1\" class=\"data row5 col1\" >C#CC(C)(C)c1ccccn1</td>\n",
       "      <td id=\"T_c7097_row5_col2\" class=\"data row5 col2\" >IORICXGDTVBUHE-UHFFFAOYSA-N</td>\n",
       "      <td id=\"T_c7097_row5_col3\" class=\"data row5 col3\" >InChI=1S/C10H11N/c1-4-10(2,3)9-7-5-6-8-11-9/h1,5-8H,2-3H3</td>\n",
       "    </tr>\n",
       "    <tr>\n",
       "      <td id=\"T_c7097_row6_col0\" class=\"data row6 col0\" >12d7c52a299793a1f2f824dc71a001a459e6d45c4c0665fc2e48a25d31d4bc7f</td>\n",
       "      <td id=\"T_c7097_row6_col1\" class=\"data row6 col1\" >CCOC(=O)CC(Nc1nc(Cl)ncc1F)C(C)(C)c1cccs1</td>\n",
       "      <td id=\"T_c7097_row6_col2\" class=\"data row6 col2\" >CFYRRRVOOYRWTP-UHFFFAOYSA-N</td>\n",
       "      <td id=\"T_c7097_row6_col3\" class=\"data row6 col3\" >InChI=1S/C16H19ClFN3O2S/c1-4-23-13(22)8-11(16(2,3)12-6-5-7-24-12)20-14-10(18)9-19-15(17)21-14/h5-7,9,11H,4,8H2,1-3H3,(H,19,20,21)</td>\n",
       "    </tr>\n",
       "    <tr>\n",
       "      <td id=\"T_c7097_row7_col0\" class=\"data row7 col0\" >137890107d3dcf3ee3659186864a64d2d4149266a5d947d5b11841e5aee8f0a8</td>\n",
       "      <td id=\"T_c7097_row7_col1\" class=\"data row7 col1\" >CCOC(=O)C=C(N)C(C)(C)c1ccn(C)n1</td>\n",
       "      <td id=\"T_c7097_row7_col2\" class=\"data row7 col2\" >WMNOLOMGSDHERX-UHFFFAOYSA-N</td>\n",
       "      <td id=\"T_c7097_row7_col3\" class=\"data row7 col3\" >InChI=1S/C12H19N3O2/c1-5-17-11(16)8-9(13)12(2,3)10-6-7-15(4)14-10/h6-8H,5,13H2,1-4H3</td>\n",
       "    </tr>\n",
       "    <tr>\n",
       "      <td id=\"T_c7097_row8_col0\" class=\"data row8 col0\" >1480cb6fc77f0a5ad7ccf5c6701f0d40cbcb6ea7611b65de2deddb88b91ff2d3</td>\n",
       "      <td id=\"T_c7097_row8_col1\" class=\"data row8 col1\" >CC(C)(C(N)=CCF)c1nccs1</td>\n",
       "      <td id=\"T_c7097_row8_col2\" class=\"data row8 col2\" >QZJKYIRETNZSNG-UHFFFAOYSA-N</td>\n",
       "      <td id=\"T_c7097_row8_col3\" class=\"data row8 col3\" >InChI=1S/C9H13FN2S/c1-9(2,7(11)3-4-10)8-12-5-6-13-8/h3,5-6H,4,11H2,1-2H3</td>\n",
       "    </tr>\n",
       "    <tr>\n",
       "      <td id=\"T_c7097_row9_col0\" class=\"data row9 col0\" >15efbd1f6492a787271a1883acb3d73c8dd889b6b754cac88b847a31c5558221</td>\n",
       "      <td id=\"T_c7097_row9_col1\" class=\"data row9 col1\" >CCOC(=O)CC(Nc1nc(Cl)c(C#N)cc1F)C(C)(C)c1ccccn1</td>\n",
       "      <td id=\"T_c7097_row9_col2\" class=\"data row9 col2\" >XYTIEJYCLQDWMM-UHFFFAOYSA-N</td>\n",
       "      <td id=\"T_c7097_row9_col3\" class=\"data row9 col3\" >InChI=1S/C19H20ClFN4O2/c1-4-27-16(26)10-15(19(2,3)14-7-5-6-8-23-14)24-18-13(21)9-12(11-22)17(20)25-18/h5-9,15H,4,10H2,1-3H3,(H,24,25)</td>\n",
       "    </tr>\n",
       "    <tr>\n",
       "      <td id=\"T_c7097_row10_col0\" class=\"data row10 col0\" >17a96efd126f184cee547bb3a92e5ef3c81111e4f50a10d1f831ed656aee8d8f</td>\n",
       "      <td id=\"T_c7097_row10_col1\" class=\"data row10 col1\" >C=CCC(C)(C)C(CCF)NS(=O)C(C)(C)C</td>\n",
       "      <td id=\"T_c7097_row10_col2\" class=\"data row10 col2\" >AUCXDCUTROJCLO-UHFFFAOYSA-N</td>\n",
       "      <td id=\"T_c7097_row10_col3\" class=\"data row10 col3\" >InChI=1S/C13H26FNOS/c1-7-9-13(5,6)11(8-10-14)15-17(16)12(2,3)4/h7,11,15H,1,8-10H2,2-6H3</td>\n",
       "    </tr>\n",
       "    <tr>\n",
       "      <td id=\"T_c7097_row11_col0\" class=\"data row11 col0\" >1933933ff61345e7f2ec58e7fbc6869c56ad8b6d461ac38e91deed37f5253004</td>\n",
       "      <td id=\"T_c7097_row11_col1\" class=\"data row11 col1\" >CC(C)C(N)C(C)(C)c1ccccn1</td>\n",
       "      <td id=\"T_c7097_row11_col2\" class=\"data row11 col2\" >XLFHFUBIHHADDJ-UHFFFAOYSA-N</td>\n",
       "      <td id=\"T_c7097_row11_col3\" class=\"data row11 col3\" >InChI=1S/C12H20N2/c1-9(2)11(13)12(3,4)10-7-5-6-8-14-10/h5-9,11H,13H2,1-4H3</td>\n",
       "    </tr>\n",
       "    <tr>\n",
       "      <td id=\"T_c7097_row12_col0\" class=\"data row12 col0\" >1efa0e3d37cc29c082fa681206b83c69d7c58e625cbe9b778879aa917d3dd671</td>\n",
       "      <td id=\"T_c7097_row12_col1\" class=\"data row12 col1\" >CCOC(=O)CC(Nc1nc(-c2cn(S(=O)(=O)c3ccc(C)cc3)c3ncc(Cl)cc23)c(C#N)cc1F)C(C)(C)OC</td>\n",
       "      <td id=\"T_c7097_row12_col2\" class=\"data row12 col2\" >MPYXWALMNNNNMA-UHFFFAOYSA-N</td>\n",
       "      <td id=\"T_c7097_row12_col3\" class=\"data row12 col3\" >InChI=1S/C29H29ClFN5O5S/c1-6-41-25(37)13-24(29(3,4)40-5)34-27-23(31)11-18(14-32)26(35-27)22-16-36(28-21(22)12-19(30)15-33-28)42(38,39)20-9-7-17(2)8-10-20/h7-12,15-16,24H,6,13H2,1-5H3,(H,34,35)</td>\n",
       "    </tr>\n",
       "    <tr>\n",
       "      <td id=\"T_c7097_row13_col0\" class=\"data row13 col0\" >23ac325f1c8e1d2f426a61bdd949658b6504abbf41f04a7ee512a1c83a45434d</td>\n",
       "      <td id=\"T_c7097_row13_col1\" class=\"data row13 col1\" >N#CCCc1nccs1</td>\n",
       "      <td id=\"T_c7097_row13_col2\" class=\"data row13 col2\" >QGFZXLFQMGLRKM-UHFFFAOYSA-N</td>\n",
       "      <td id=\"T_c7097_row13_col3\" class=\"data row13 col3\" >InChI=1S/C6H6N2S/c7-3-1-2-6-8-4-5-9-6/h4-5H,1-2H2</td>\n",
       "    </tr>\n",
       "    <tr>\n",
       "      <td id=\"T_c7097_row14_col0\" class=\"data row14 col0\" >260a0fa1f2971da780e4552165c71966b2c9ff2e68ae72a7090a6a74fcd38b80</td>\n",
       "      <td id=\"T_c7097_row14_col1\" class=\"data row14 col1\" >C=CCC(C)(C)C(CC(=O)OC)NC1=C(F)CC(C#N)C(Cl)=N1</td>\n",
       "      <td id=\"T_c7097_row14_col2\" class=\"data row14 col2\" >QZSWRKHGXMDVBE-UHFFFAOYSA-N</td>\n",
       "      <td id=\"T_c7097_row14_col3\" class=\"data row14 col3\" >InChI=1S/C16H21ClFN3O2/c1-5-6-16(2,3)12(8-13(22)23-4)20-15-11(18)7-10(9-19)14(17)21-15/h5,10,12,20H,1,6-8H2,2-4H3</td>\n",
       "    </tr>\n",
       "    <tr>\n",
       "      <td id=\"T_c7097_row15_col0\" class=\"data row15 col0\" >2688505f1816fd8d728403a372070ef2b6317b717d32abca7b8a0568873ba01a</td>\n",
       "      <td id=\"T_c7097_row15_col1\" class=\"data row15 col1\" >Cc1ccc(S(=O)(=O)n2cc(B3OC(C)(C)C(C)(C)O3)c3cncnc32)cc1</td>\n",
       "      <td id=\"T_c7097_row15_col2\" class=\"data row15 col2\" >ZYPOBLQBYBAHND-UHFFFAOYSA-N</td>\n",
       "      <td id=\"T_c7097_row15_col3\" class=\"data row15 col3\" >InChI=1S/C19H22BN3O4S/c1-13-6-8-14(9-7-13)28(24,25)23-11-16(15-10-21-12-22-17(15)23)20-26-18(2,3)19(4,5)27-20/h6-12H,1-5H3</td>\n",
       "    </tr>\n",
       "    <tr>\n",
       "      <td id=\"T_c7097_row16_col0\" class=\"data row16 col0\" >27521f2625e5f333cd9b3f4cec4f4d0b352d8ab1ee666a9b72957dd2fa4fbbbb</td>\n",
       "      <td id=\"T_c7097_row16_col1\" class=\"data row16 col1\" >CCOC(=O)CC(Nc1nc(Cl)ncc1F)C1(C)COC1</td>\n",
       "      <td id=\"T_c7097_row16_col2\" class=\"data row16 col2\" >TUXFEJANEQFTNP-UHFFFAOYSA-N</td>\n",
       "      <td id=\"T_c7097_row16_col3\" class=\"data row16 col3\" >InChI=1S/C13H17ClFN3O3/c1-3-21-10(19)4-9(13(2)6-20-7-13)17-11-8(15)5-16-12(14)18-11/h5,9H,3-4,6-7H2,1-2H3,(H,16,17,18)</td>\n",
       "    </tr>\n",
       "    <tr>\n",
       "      <td id=\"T_c7097_row17_col0\" class=\"data row17 col0\" >2962a162fea360167f007f66033433a1eb7faa63705c2f7befd68a61f62ad50c</td>\n",
       "      <td id=\"T_c7097_row17_col1\" class=\"data row17 col1\" >CCOC(=O)CC(Nc1nc(-c2cn(C)c3ncc(Cl)cc23)ncc1F)C1(C)COC1</td>\n",
       "      <td id=\"T_c7097_row17_col2\" class=\"data row17 col2\" >BXKSMZPVLZNOSL-UHFFFAOYSA-N</td>\n",
       "      <td id=\"T_c7097_row17_col3\" class=\"data row17 col3\" >InChI=1S/C21H23ClFN5O3/c1-4-31-17(29)6-16(21(2)10-30-11-21)26-19-15(23)8-24-18(27-19)14-9-28(3)20-13(14)5-12(22)7-25-20/h5,7-9,16H,4,6,10-11H2,1-3H3,(H,24,26,27)</td>\n",
       "    </tr>\n",
       "    <tr>\n",
       "      <td id=\"T_c7097_row18_col0\" class=\"data row18 col0\" >30c89c989b25ab2d0855372788f3683b13c9f4c8f63ced2210f7d424bc3db46b</td>\n",
       "      <td id=\"T_c7097_row18_col1\" class=\"data row18 col1\" >CCOC(=O)C=C(N)C(C)(C)C1=[N+](C)C=C1</td>\n",
       "      <td id=\"T_c7097_row18_col2\" class=\"data row18 col2\" >KSLIOJHMNQDNQD-UHFFFAOYSA-O</td>\n",
       "      <td id=\"T_c7097_row18_col3\" class=\"data row18 col3\" >InChI=1S/C12H18N2O2/c1-5-16-11(15)8-9(13)12(2,3)10-6-7-14(10)4/h6-8H,5H2,1-4H3,(H-,13,15)/p+1</td>\n",
       "    </tr>\n",
       "    <tr>\n",
       "      <td id=\"T_c7097_row19_col0\" class=\"data row19 col0\" >3320787739c50d6da032be1b102a707be4202f6e57b56c0cc6a861e8be273706</td>\n",
       "      <td id=\"T_c7097_row19_col1\" class=\"data row19 col1\" >CCOC(=O)CC(N)C(C)(C)c1nccs1</td>\n",
       "      <td id=\"T_c7097_row19_col2\" class=\"data row19 col2\" >QBDYCMFWIQKWBT-UHFFFAOYSA-N</td>\n",
       "      <td id=\"T_c7097_row19_col3\" class=\"data row19 col3\" >InChI=1S/C11H18N2O2S/c1-4-15-9(14)7-8(12)11(2,3)10-13-5-6-16-10/h5-6,8H,4,7,12H2,1-3H3</td>\n",
       "    </tr>\n",
       "  </tbody>\n",
       "</table>\n"
      ],
      "text/plain": [
       "<pandas.io.formats.style.Styler at 0x166921510>"
      ]
     },
     "metadata": {},
     "output_type": "display_data"
    }
   ],
   "source": [
    "# From file\n",
    "%openad ds find molecules in patents from file 'my_patents.csv'"
   ]
  },
  {
   "cell_type": "code",
   "execution_count": 16,
   "id": "36b2694d-6299-40aa-bc3f-40e214427849",
   "metadata": {
    "tags": []
   },
   "outputs": [
    {
     "data": {
      "text/markdown": [
       "<span style=\"color: #090\">We found 20 molecules mentioned in the following patents: <br> \n",
       "- CN108473493B <br> \n",
       "- US20190023713A1</span> <br> \n"
      ],
      "text/plain": [
       "<IPython.core.display.Markdown object>"
      ]
     },
     "metadata": {},
     "output_type": "display_data"
    },
    {
     "data": {
      "text/markdown": [
       "<span style=\"color: #ccc\">Next up, you can run: </span>`result open`/`edit`/`copy`/`display`/`as dataframe`/`save [as '<filename.csv>']` <br> \n"
      ],
      "text/plain": [
       "<IPython.core.display.Markdown object>"
      ]
     },
     "metadata": {},
     "output_type": "display_data"
    },
    {
     "data": {
      "text/html": [
       "<style type=\"text/css\">\n",
       "</style>\n",
       "<table id=\"T_2b0e5\">\n",
       "  <thead>\n",
       "    <tr>\n",
       "      <th id=\"T_2b0e5_level0_col0\" class=\"col_heading level0 col0\" >Id</th>\n",
       "      <th id=\"T_2b0e5_level0_col1\" class=\"col_heading level0 col1\" >SMILES</th>\n",
       "      <th id=\"T_2b0e5_level0_col2\" class=\"col_heading level0 col2\" >InChIKey</th>\n",
       "      <th id=\"T_2b0e5_level0_col3\" class=\"col_heading level0 col3\" >InChI</th>\n",
       "    </tr>\n",
       "  </thead>\n",
       "  <tbody>\n",
       "    <tr>\n",
       "      <td id=\"T_2b0e5_row0_col0\" class=\"data row0 col0\" >05254aa456aab76bfd4915eaae6e856ac60288d01d60379e8cb61f202839b53b</td>\n",
       "      <td id=\"T_2b0e5_row0_col1\" class=\"data row0 col1\" >CCOC(=O)C=C(N)C(C)(C)c1ccccn1</td>\n",
       "      <td id=\"T_2b0e5_row0_col2\" class=\"data row0 col2\" >OPXOXVDSPZXHQT-UHFFFAOYSA-N</td>\n",
       "      <td id=\"T_2b0e5_row0_col3\" class=\"data row0 col3\" >InChI=1S/C13H18N2O2/c1-4-17-12(16)9-10(14)13(2,3)11-7-5-6-8-15-11/h5-9H,4,14H2,1-3H3</td>\n",
       "    </tr>\n",
       "    <tr>\n",
       "      <td id=\"T_2b0e5_row1_col0\" class=\"data row1 col0\" >06fc1cb7e0818196817db5ffb142ca68ff17ef82c9581f389dfa09ac99c3ac8a</td>\n",
       "      <td id=\"T_2b0e5_row1_col1\" class=\"data row1 col1\" >C=CCC(C)(C)C(CCF)Nc1nc(Cl)c(C#N)cc1F</td>\n",
       "      <td id=\"T_2b0e5_row1_col2\" class=\"data row1 col2\" >NVXFORHWGCVJTH-UHFFFAOYSA-N</td>\n",
       "      <td id=\"T_2b0e5_row1_col3\" class=\"data row1 col3\" >InChI=1S/C15H18ClF2N3/c1-4-6-15(2,3)12(5-7-17)20-14-11(18)8-10(9-19)13(16)21-14/h4,8,12H,1,5-7H2,2-3H3,(H,20,21)</td>\n",
       "    </tr>\n",
       "    <tr>\n",
       "      <td id=\"T_2b0e5_row2_col0\" class=\"data row2 col0\" >07ec8a3a0fc49b6f65e8ddcbcf29b6b8720aad905566cb7e88704b1279e273f1</td>\n",
       "      <td id=\"T_2b0e5_row2_col1\" class=\"data row2 col1\" >C=C([O-])CC(Nc1nc(-c2c[nH]c3ncc(Cl)cc23)c(C#N)cc1F)C(C)(C)c1cccs1</td>\n",
       "      <td id=\"T_2b0e5_row2_col2\" class=\"data row2 col2\" >OYPIIDFYQHIPHW-UHFFFAOYSA-M</td>\n",
       "      <td id=\"T_2b0e5_row2_col3\" class=\"data row2 col3\" >InChI=1S/C24H21ClFN5OS/c1-13(32)7-19(24(2,3)20-5-4-6-33-20)30-23-18(26)8-14(10-27)21(31-23)17-12-29-22-16(17)9-15(25)11-28-22/h4-6,8-9,11-12,19,32H,1,7H2,2-3H3,(H,28,29)(H,30,31)/p-1</td>\n",
       "    </tr>\n",
       "    <tr>\n",
       "      <td id=\"T_2b0e5_row3_col0\" class=\"data row3 col0\" >08743344ce06860ead6974eb4bcc45c21a9fb77bce9e2ae7d7ae2fe568149ea3</td>\n",
       "      <td id=\"T_2b0e5_row3_col1\" class=\"data row3 col1\" >CC(C)(C#N)c1ccccn1</td>\n",
       "      <td id=\"T_2b0e5_row3_col2\" class=\"data row3 col2\" >SYILGDLWTPODQG-UHFFFAOYSA-N</td>\n",
       "      <td id=\"T_2b0e5_row3_col3\" class=\"data row3 col3\" >InChI=1S/C9H10N2/c1-9(2,7-10)8-5-3-4-6-11-8/h3-6H,1-2H3</td>\n",
       "    </tr>\n",
       "    <tr>\n",
       "      <td id=\"T_2b0e5_row4_col0\" class=\"data row4 col0\" >0d3ff5163ea47e9dbdb746ff4ea32411a880855a41b3e4b39bd7044ae32a7557</td>\n",
       "      <td id=\"T_2b0e5_row4_col1\" class=\"data row4 col1\" >N#CCc1nccs1</td>\n",
       "      <td id=\"T_2b0e5_row4_col2\" class=\"data row4 col2\" >QLBGFCHJCWNVIN-UHFFFAOYSA-N</td>\n",
       "      <td id=\"T_2b0e5_row4_col3\" class=\"data row4 col3\" >InChI=1S/C5H4N2S/c6-2-1-5-7-3-4-8-5/h3-4H,1H2</td>\n",
       "    </tr>\n",
       "    <tr>\n",
       "      <td id=\"T_2b0e5_row5_col0\" class=\"data row5 col0\" >10fe7b9bc85b488112d32136d08e32cec5d0a97db4f8c123e48d27e3f1cb4edb</td>\n",
       "      <td id=\"T_2b0e5_row5_col1\" class=\"data row5 col1\" >C#CC(C)(C)c1ccccn1</td>\n",
       "      <td id=\"T_2b0e5_row5_col2\" class=\"data row5 col2\" >IORICXGDTVBUHE-UHFFFAOYSA-N</td>\n",
       "      <td id=\"T_2b0e5_row5_col3\" class=\"data row5 col3\" >InChI=1S/C10H11N/c1-4-10(2,3)9-7-5-6-8-11-9/h1,5-8H,2-3H3</td>\n",
       "    </tr>\n",
       "    <tr>\n",
       "      <td id=\"T_2b0e5_row6_col0\" class=\"data row6 col0\" >12d7c52a299793a1f2f824dc71a001a459e6d45c4c0665fc2e48a25d31d4bc7f</td>\n",
       "      <td id=\"T_2b0e5_row6_col1\" class=\"data row6 col1\" >CCOC(=O)CC(Nc1nc(Cl)ncc1F)C(C)(C)c1cccs1</td>\n",
       "      <td id=\"T_2b0e5_row6_col2\" class=\"data row6 col2\" >CFYRRRVOOYRWTP-UHFFFAOYSA-N</td>\n",
       "      <td id=\"T_2b0e5_row6_col3\" class=\"data row6 col3\" >InChI=1S/C16H19ClFN3O2S/c1-4-23-13(22)8-11(16(2,3)12-6-5-7-24-12)20-14-10(18)9-19-15(17)21-14/h5-7,9,11H,4,8H2,1-3H3,(H,19,20,21)</td>\n",
       "    </tr>\n",
       "    <tr>\n",
       "      <td id=\"T_2b0e5_row7_col0\" class=\"data row7 col0\" >137890107d3dcf3ee3659186864a64d2d4149266a5d947d5b11841e5aee8f0a8</td>\n",
       "      <td id=\"T_2b0e5_row7_col1\" class=\"data row7 col1\" >CCOC(=O)C=C(N)C(C)(C)c1ccn(C)n1</td>\n",
       "      <td id=\"T_2b0e5_row7_col2\" class=\"data row7 col2\" >WMNOLOMGSDHERX-UHFFFAOYSA-N</td>\n",
       "      <td id=\"T_2b0e5_row7_col3\" class=\"data row7 col3\" >InChI=1S/C12H19N3O2/c1-5-17-11(16)8-9(13)12(2,3)10-6-7-15(4)14-10/h6-8H,5,13H2,1-4H3</td>\n",
       "    </tr>\n",
       "    <tr>\n",
       "      <td id=\"T_2b0e5_row8_col0\" class=\"data row8 col0\" >1480cb6fc77f0a5ad7ccf5c6701f0d40cbcb6ea7611b65de2deddb88b91ff2d3</td>\n",
       "      <td id=\"T_2b0e5_row8_col1\" class=\"data row8 col1\" >CC(C)(C(N)=CCF)c1nccs1</td>\n",
       "      <td id=\"T_2b0e5_row8_col2\" class=\"data row8 col2\" >QZJKYIRETNZSNG-UHFFFAOYSA-N</td>\n",
       "      <td id=\"T_2b0e5_row8_col3\" class=\"data row8 col3\" >InChI=1S/C9H13FN2S/c1-9(2,7(11)3-4-10)8-12-5-6-13-8/h3,5-6H,4,11H2,1-2H3</td>\n",
       "    </tr>\n",
       "    <tr>\n",
       "      <td id=\"T_2b0e5_row9_col0\" class=\"data row9 col0\" >15efbd1f6492a787271a1883acb3d73c8dd889b6b754cac88b847a31c5558221</td>\n",
       "      <td id=\"T_2b0e5_row9_col1\" class=\"data row9 col1\" >CCOC(=O)CC(Nc1nc(Cl)c(C#N)cc1F)C(C)(C)c1ccccn1</td>\n",
       "      <td id=\"T_2b0e5_row9_col2\" class=\"data row9 col2\" >XYTIEJYCLQDWMM-UHFFFAOYSA-N</td>\n",
       "      <td id=\"T_2b0e5_row9_col3\" class=\"data row9 col3\" >InChI=1S/C19H20ClFN4O2/c1-4-27-16(26)10-15(19(2,3)14-7-5-6-8-23-14)24-18-13(21)9-12(11-22)17(20)25-18/h5-9,15H,4,10H2,1-3H3,(H,24,25)</td>\n",
       "    </tr>\n",
       "    <tr>\n",
       "      <td id=\"T_2b0e5_row10_col0\" class=\"data row10 col0\" >17a96efd126f184cee547bb3a92e5ef3c81111e4f50a10d1f831ed656aee8d8f</td>\n",
       "      <td id=\"T_2b0e5_row10_col1\" class=\"data row10 col1\" >C=CCC(C)(C)C(CCF)NS(=O)C(C)(C)C</td>\n",
       "      <td id=\"T_2b0e5_row10_col2\" class=\"data row10 col2\" >AUCXDCUTROJCLO-UHFFFAOYSA-N</td>\n",
       "      <td id=\"T_2b0e5_row10_col3\" class=\"data row10 col3\" >InChI=1S/C13H26FNOS/c1-7-9-13(5,6)11(8-10-14)15-17(16)12(2,3)4/h7,11,15H,1,8-10H2,2-6H3</td>\n",
       "    </tr>\n",
       "    <tr>\n",
       "      <td id=\"T_2b0e5_row11_col0\" class=\"data row11 col0\" >1933933ff61345e7f2ec58e7fbc6869c56ad8b6d461ac38e91deed37f5253004</td>\n",
       "      <td id=\"T_2b0e5_row11_col1\" class=\"data row11 col1\" >CC(C)C(N)C(C)(C)c1ccccn1</td>\n",
       "      <td id=\"T_2b0e5_row11_col2\" class=\"data row11 col2\" >XLFHFUBIHHADDJ-UHFFFAOYSA-N</td>\n",
       "      <td id=\"T_2b0e5_row11_col3\" class=\"data row11 col3\" >InChI=1S/C12H20N2/c1-9(2)11(13)12(3,4)10-7-5-6-8-14-10/h5-9,11H,13H2,1-4H3</td>\n",
       "    </tr>\n",
       "    <tr>\n",
       "      <td id=\"T_2b0e5_row12_col0\" class=\"data row12 col0\" >1efa0e3d37cc29c082fa681206b83c69d7c58e625cbe9b778879aa917d3dd671</td>\n",
       "      <td id=\"T_2b0e5_row12_col1\" class=\"data row12 col1\" >CCOC(=O)CC(Nc1nc(-c2cn(S(=O)(=O)c3ccc(C)cc3)c3ncc(Cl)cc23)c(C#N)cc1F)C(C)(C)OC</td>\n",
       "      <td id=\"T_2b0e5_row12_col2\" class=\"data row12 col2\" >MPYXWALMNNNNMA-UHFFFAOYSA-N</td>\n",
       "      <td id=\"T_2b0e5_row12_col3\" class=\"data row12 col3\" >InChI=1S/C29H29ClFN5O5S/c1-6-41-25(37)13-24(29(3,4)40-5)34-27-23(31)11-18(14-32)26(35-27)22-16-36(28-21(22)12-19(30)15-33-28)42(38,39)20-9-7-17(2)8-10-20/h7-12,15-16,24H,6,13H2,1-5H3,(H,34,35)</td>\n",
       "    </tr>\n",
       "    <tr>\n",
       "      <td id=\"T_2b0e5_row13_col0\" class=\"data row13 col0\" >23ac325f1c8e1d2f426a61bdd949658b6504abbf41f04a7ee512a1c83a45434d</td>\n",
       "      <td id=\"T_2b0e5_row13_col1\" class=\"data row13 col1\" >N#CCCc1nccs1</td>\n",
       "      <td id=\"T_2b0e5_row13_col2\" class=\"data row13 col2\" >QGFZXLFQMGLRKM-UHFFFAOYSA-N</td>\n",
       "      <td id=\"T_2b0e5_row13_col3\" class=\"data row13 col3\" >InChI=1S/C6H6N2S/c7-3-1-2-6-8-4-5-9-6/h4-5H,1-2H2</td>\n",
       "    </tr>\n",
       "    <tr>\n",
       "      <td id=\"T_2b0e5_row14_col0\" class=\"data row14 col0\" >260a0fa1f2971da780e4552165c71966b2c9ff2e68ae72a7090a6a74fcd38b80</td>\n",
       "      <td id=\"T_2b0e5_row14_col1\" class=\"data row14 col1\" >C=CCC(C)(C)C(CC(=O)OC)NC1=C(F)CC(C#N)C(Cl)=N1</td>\n",
       "      <td id=\"T_2b0e5_row14_col2\" class=\"data row14 col2\" >QZSWRKHGXMDVBE-UHFFFAOYSA-N</td>\n",
       "      <td id=\"T_2b0e5_row14_col3\" class=\"data row14 col3\" >InChI=1S/C16H21ClFN3O2/c1-5-6-16(2,3)12(8-13(22)23-4)20-15-11(18)7-10(9-19)14(17)21-15/h5,10,12,20H,1,6-8H2,2-4H3</td>\n",
       "    </tr>\n",
       "    <tr>\n",
       "      <td id=\"T_2b0e5_row15_col0\" class=\"data row15 col0\" >2688505f1816fd8d728403a372070ef2b6317b717d32abca7b8a0568873ba01a</td>\n",
       "      <td id=\"T_2b0e5_row15_col1\" class=\"data row15 col1\" >Cc1ccc(S(=O)(=O)n2cc(B3OC(C)(C)C(C)(C)O3)c3cncnc32)cc1</td>\n",
       "      <td id=\"T_2b0e5_row15_col2\" class=\"data row15 col2\" >ZYPOBLQBYBAHND-UHFFFAOYSA-N</td>\n",
       "      <td id=\"T_2b0e5_row15_col3\" class=\"data row15 col3\" >InChI=1S/C19H22BN3O4S/c1-13-6-8-14(9-7-13)28(24,25)23-11-16(15-10-21-12-22-17(15)23)20-26-18(2,3)19(4,5)27-20/h6-12H,1-5H3</td>\n",
       "    </tr>\n",
       "    <tr>\n",
       "      <td id=\"T_2b0e5_row16_col0\" class=\"data row16 col0\" >27521f2625e5f333cd9b3f4cec4f4d0b352d8ab1ee666a9b72957dd2fa4fbbbb</td>\n",
       "      <td id=\"T_2b0e5_row16_col1\" class=\"data row16 col1\" >CCOC(=O)CC(Nc1nc(Cl)ncc1F)C1(C)COC1</td>\n",
       "      <td id=\"T_2b0e5_row16_col2\" class=\"data row16 col2\" >TUXFEJANEQFTNP-UHFFFAOYSA-N</td>\n",
       "      <td id=\"T_2b0e5_row16_col3\" class=\"data row16 col3\" >InChI=1S/C13H17ClFN3O3/c1-3-21-10(19)4-9(13(2)6-20-7-13)17-11-8(15)5-16-12(14)18-11/h5,9H,3-4,6-7H2,1-2H3,(H,16,17,18)</td>\n",
       "    </tr>\n",
       "    <tr>\n",
       "      <td id=\"T_2b0e5_row17_col0\" class=\"data row17 col0\" >2962a162fea360167f007f66033433a1eb7faa63705c2f7befd68a61f62ad50c</td>\n",
       "      <td id=\"T_2b0e5_row17_col1\" class=\"data row17 col1\" >CCOC(=O)CC(Nc1nc(-c2cn(C)c3ncc(Cl)cc23)ncc1F)C1(C)COC1</td>\n",
       "      <td id=\"T_2b0e5_row17_col2\" class=\"data row17 col2\" >BXKSMZPVLZNOSL-UHFFFAOYSA-N</td>\n",
       "      <td id=\"T_2b0e5_row17_col3\" class=\"data row17 col3\" >InChI=1S/C21H23ClFN5O3/c1-4-31-17(29)6-16(21(2)10-30-11-21)26-19-15(23)8-24-18(27-19)14-9-28(3)20-13(14)5-12(22)7-25-20/h5,7-9,16H,4,6,10-11H2,1-3H3,(H,24,26,27)</td>\n",
       "    </tr>\n",
       "    <tr>\n",
       "      <td id=\"T_2b0e5_row18_col0\" class=\"data row18 col0\" >30c89c989b25ab2d0855372788f3683b13c9f4c8f63ced2210f7d424bc3db46b</td>\n",
       "      <td id=\"T_2b0e5_row18_col1\" class=\"data row18 col1\" >CCOC(=O)C=C(N)C(C)(C)C1=[N+](C)C=C1</td>\n",
       "      <td id=\"T_2b0e5_row18_col2\" class=\"data row18 col2\" >KSLIOJHMNQDNQD-UHFFFAOYSA-O</td>\n",
       "      <td id=\"T_2b0e5_row18_col3\" class=\"data row18 col3\" >InChI=1S/C12H18N2O2/c1-5-16-11(15)8-9(13)12(2,3)10-6-7-14(10)4/h6-8H,5H2,1-4H3,(H-,13,15)/p+1</td>\n",
       "    </tr>\n",
       "    <tr>\n",
       "      <td id=\"T_2b0e5_row19_col0\" class=\"data row19 col0\" >3320787739c50d6da032be1b102a707be4202f6e57b56c0cc6a861e8be273706</td>\n",
       "      <td id=\"T_2b0e5_row19_col1\" class=\"data row19 col1\" >CCOC(=O)CC(N)C(C)(C)c1nccs1</td>\n",
       "      <td id=\"T_2b0e5_row19_col2\" class=\"data row19 col2\" >QBDYCMFWIQKWBT-UHFFFAOYSA-N</td>\n",
       "      <td id=\"T_2b0e5_row19_col3\" class=\"data row19 col3\" >InChI=1S/C11H18N2O2S/c1-4-15-9(14)7-8(12)11(2,3)10-13-5-6-16-10/h5-6,8H,4,7,12H2,1-3H3</td>\n",
       "    </tr>\n",
       "  </tbody>\n",
       "</table>\n"
      ],
      "text/plain": [
       "<pandas.io.formats.style.Styler at 0x166920400>"
      ]
     },
     "metadata": {},
     "output_type": "display_data"
    }
   ],
   "source": [
    "# From dataframe\n",
    "%openad ds find molecules in patents from dataframe my_patents_df"
   ]
  },
  {
   "cell_type": "code",
   "execution_count": 18,
   "id": "cdb0b4dd-b340-465c-933c-6d9caad49b0d",
   "metadata": {
    "tags": []
   },
   "outputs": [
    {
     "data": {
      "text/html": [
       "<div>\n",
       "<style scoped>\n",
       "    .dataframe tbody tr th:only-of-type {\n",
       "        vertical-align: middle;\n",
       "    }\n",
       "\n",
       "    .dataframe tbody tr th {\n",
       "        vertical-align: top;\n",
       "    }\n",
       "\n",
       "    .dataframe thead th {\n",
       "        text-align: right;\n",
       "    }\n",
       "</style>\n",
       "<table border=\"1\" class=\"dataframe\">\n",
       "  <thead>\n",
       "    <tr style=\"text-align: right;\">\n",
       "      <th></th>\n",
       "      <th>Id</th>\n",
       "      <th>SMILES</th>\n",
       "      <th>InChIKey</th>\n",
       "      <th>InChI</th>\n",
       "    </tr>\n",
       "  </thead>\n",
       "  <tbody>\n",
       "    <tr>\n",
       "      <th>0</th>\n",
       "      <td>05254aa456aab76bfd4915eaae6e856ac60288d01d60379e8cb61f202839b53b</td>\n",
       "      <td>CCOC(=O)C=C(N)C(C)(C)c1ccccn1</td>\n",
       "      <td>OPXOXVDSPZXHQT-UHFFFAOYSA-N</td>\n",
       "      <td>InChI=1S/C13H18N2O2/c1-4-17-12(16)9-10(14)13(2,3)11-7-5-6-8-15-11/h5-9H,4,14H2,1-3H3</td>\n",
       "    </tr>\n",
       "    <tr>\n",
       "      <th>1</th>\n",
       "      <td>06fc1cb7e0818196817db5ffb142ca68ff17ef82c9581f389dfa09ac99c3ac8a</td>\n",
       "      <td>C=CCC(C)(C)C(CCF)Nc1nc(Cl)c(C#N)cc1F</td>\n",
       "      <td>NVXFORHWGCVJTH-UHFFFAOYSA-N</td>\n",
       "      <td>InChI=1S/C15H18ClF2N3/c1-4-6-15(2,3)12(5-7-17)20-14-11(18)8-10(9-19)13(16)21-14/h4,8,12H,1,5-7H2,2-3H3,(H,20,21)</td>\n",
       "    </tr>\n",
       "    <tr>\n",
       "      <th>2</th>\n",
       "      <td>07ec8a3a0fc49b6f65e8ddcbcf29b6b8720aad905566cb7e88704b1279e273f1</td>\n",
       "      <td>C=C([O-])CC(Nc1nc(-c2c[nH]c3ncc(Cl)cc23)c(C#N)cc1F)C(C)(C)c1cccs1</td>\n",
       "      <td>OYPIIDFYQHIPHW-UHFFFAOYSA-M</td>\n",
       "      <td>InChI=1S/C24H21ClFN5OS/c1-13(32)7-19(24(2,3)20-5-4-6-33-20)30-23-18(26)8-14(10-27)21(31-23)17-12-29-22-16(17)9-15(25)11-28-22/h4-6,8-9,11-12,19,32H,1,7H2,2-3H3,(H,28,29)(H,30,31)/p-1</td>\n",
       "    </tr>\n",
       "    <tr>\n",
       "      <th>3</th>\n",
       "      <td>08743344ce06860ead6974eb4bcc45c21a9fb77bce9e2ae7d7ae2fe568149ea3</td>\n",
       "      <td>CC(C)(C#N)c1ccccn1</td>\n",
       "      <td>SYILGDLWTPODQG-UHFFFAOYSA-N</td>\n",
       "      <td>InChI=1S/C9H10N2/c1-9(2,7-10)8-5-3-4-6-11-8/h3-6H,1-2H3</td>\n",
       "    </tr>\n",
       "    <tr>\n",
       "      <th>4</th>\n",
       "      <td>0d3ff5163ea47e9dbdb746ff4ea32411a880855a41b3e4b39bd7044ae32a7557</td>\n",
       "      <td>N#CCc1nccs1</td>\n",
       "      <td>QLBGFCHJCWNVIN-UHFFFAOYSA-N</td>\n",
       "      <td>InChI=1S/C5H4N2S/c6-2-1-5-7-3-4-8-5/h3-4H,1H2</td>\n",
       "    </tr>\n",
       "    <tr>\n",
       "      <th>5</th>\n",
       "      <td>10fe7b9bc85b488112d32136d08e32cec5d0a97db4f8c123e48d27e3f1cb4edb</td>\n",
       "      <td>C#CC(C)(C)c1ccccn1</td>\n",
       "      <td>IORICXGDTVBUHE-UHFFFAOYSA-N</td>\n",
       "      <td>InChI=1S/C10H11N/c1-4-10(2,3)9-7-5-6-8-11-9/h1,5-8H,2-3H3</td>\n",
       "    </tr>\n",
       "    <tr>\n",
       "      <th>6</th>\n",
       "      <td>12d7c52a299793a1f2f824dc71a001a459e6d45c4c0665fc2e48a25d31d4bc7f</td>\n",
       "      <td>CCOC(=O)CC(Nc1nc(Cl)ncc1F)C(C)(C)c1cccs1</td>\n",
       "      <td>CFYRRRVOOYRWTP-UHFFFAOYSA-N</td>\n",
       "      <td>InChI=1S/C16H19ClFN3O2S/c1-4-23-13(22)8-11(16(2,3)12-6-5-7-24-12)20-14-10(18)9-19-15(17)21-14/h5-7,9,11H,4,8H2,1-3H3,(H,19,20,21)</td>\n",
       "    </tr>\n",
       "    <tr>\n",
       "      <th>7</th>\n",
       "      <td>137890107d3dcf3ee3659186864a64d2d4149266a5d947d5b11841e5aee8f0a8</td>\n",
       "      <td>CCOC(=O)C=C(N)C(C)(C)c1ccn(C)n1</td>\n",
       "      <td>WMNOLOMGSDHERX-UHFFFAOYSA-N</td>\n",
       "      <td>InChI=1S/C12H19N3O2/c1-5-17-11(16)8-9(13)12(2,3)10-6-7-15(4)14-10/h6-8H,5,13H2,1-4H3</td>\n",
       "    </tr>\n",
       "    <tr>\n",
       "      <th>8</th>\n",
       "      <td>1480cb6fc77f0a5ad7ccf5c6701f0d40cbcb6ea7611b65de2deddb88b91ff2d3</td>\n",
       "      <td>CC(C)(C(N)=CCF)c1nccs1</td>\n",
       "      <td>QZJKYIRETNZSNG-UHFFFAOYSA-N</td>\n",
       "      <td>InChI=1S/C9H13FN2S/c1-9(2,7(11)3-4-10)8-12-5-6-13-8/h3,5-6H,4,11H2,1-2H3</td>\n",
       "    </tr>\n",
       "    <tr>\n",
       "      <th>9</th>\n",
       "      <td>15efbd1f6492a787271a1883acb3d73c8dd889b6b754cac88b847a31c5558221</td>\n",
       "      <td>CCOC(=O)CC(Nc1nc(Cl)c(C#N)cc1F)C(C)(C)c1ccccn1</td>\n",
       "      <td>XYTIEJYCLQDWMM-UHFFFAOYSA-N</td>\n",
       "      <td>InChI=1S/C19H20ClFN4O2/c1-4-27-16(26)10-15(19(2,3)14-7-5-6-8-23-14)24-18-13(21)9-12(11-22)17(20)25-18/h5-9,15H,4,10H2,1-3H3,(H,24,25)</td>\n",
       "    </tr>\n",
       "    <tr>\n",
       "      <th>10</th>\n",
       "      <td>17a96efd126f184cee547bb3a92e5ef3c81111e4f50a10d1f831ed656aee8d8f</td>\n",
       "      <td>C=CCC(C)(C)C(CCF)NS(=O)C(C)(C)C</td>\n",
       "      <td>AUCXDCUTROJCLO-UHFFFAOYSA-N</td>\n",
       "      <td>InChI=1S/C13H26FNOS/c1-7-9-13(5,6)11(8-10-14)15-17(16)12(2,3)4/h7,11,15H,1,8-10H2,2-6H3</td>\n",
       "    </tr>\n",
       "    <tr>\n",
       "      <th>11</th>\n",
       "      <td>1933933ff61345e7f2ec58e7fbc6869c56ad8b6d461ac38e91deed37f5253004</td>\n",
       "      <td>CC(C)C(N)C(C)(C)c1ccccn1</td>\n",
       "      <td>XLFHFUBIHHADDJ-UHFFFAOYSA-N</td>\n",
       "      <td>InChI=1S/C12H20N2/c1-9(2)11(13)12(3,4)10-7-5-6-8-14-10/h5-9,11H,13H2,1-4H3</td>\n",
       "    </tr>\n",
       "    <tr>\n",
       "      <th>12</th>\n",
       "      <td>1efa0e3d37cc29c082fa681206b83c69d7c58e625cbe9b778879aa917d3dd671</td>\n",
       "      <td>CCOC(=O)CC(Nc1nc(-c2cn(S(=O)(=O)c3ccc(C)cc3)c3ncc(Cl)cc23)c(C#N)cc1F)C(C)(C)OC</td>\n",
       "      <td>MPYXWALMNNNNMA-UHFFFAOYSA-N</td>\n",
       "      <td>InChI=1S/C29H29ClFN5O5S/c1-6-41-25(37)13-24(29(3,4)40-5)34-27-23(31)11-18(14-32)26(35-27)22-16-36(28-21(22)12-19(30)15-33-28)42(38,39)20-9-7-17(2)8-10-20/h7-12,15-16,24H,6,13H2,1-5H3,(H,34,35)</td>\n",
       "    </tr>\n",
       "    <tr>\n",
       "      <th>13</th>\n",
       "      <td>23ac325f1c8e1d2f426a61bdd949658b6504abbf41f04a7ee512a1c83a45434d</td>\n",
       "      <td>N#CCCc1nccs1</td>\n",
       "      <td>QGFZXLFQMGLRKM-UHFFFAOYSA-N</td>\n",
       "      <td>InChI=1S/C6H6N2S/c7-3-1-2-6-8-4-5-9-6/h4-5H,1-2H2</td>\n",
       "    </tr>\n",
       "    <tr>\n",
       "      <th>14</th>\n",
       "      <td>260a0fa1f2971da780e4552165c71966b2c9ff2e68ae72a7090a6a74fcd38b80</td>\n",
       "      <td>C=CCC(C)(C)C(CC(=O)OC)NC1=C(F)CC(C#N)C(Cl)=N1</td>\n",
       "      <td>QZSWRKHGXMDVBE-UHFFFAOYSA-N</td>\n",
       "      <td>InChI=1S/C16H21ClFN3O2/c1-5-6-16(2,3)12(8-13(22)23-4)20-15-11(18)7-10(9-19)14(17)21-15/h5,10,12,20H,1,6-8H2,2-4H3</td>\n",
       "    </tr>\n",
       "    <tr>\n",
       "      <th>15</th>\n",
       "      <td>2688505f1816fd8d728403a372070ef2b6317b717d32abca7b8a0568873ba01a</td>\n",
       "      <td>Cc1ccc(S(=O)(=O)n2cc(B3OC(C)(C)C(C)(C)O3)c3cncnc32)cc1</td>\n",
       "      <td>ZYPOBLQBYBAHND-UHFFFAOYSA-N</td>\n",
       "      <td>InChI=1S/C19H22BN3O4S/c1-13-6-8-14(9-7-13)28(24,25)23-11-16(15-10-21-12-22-17(15)23)20-26-18(2,3)19(4,5)27-20/h6-12H,1-5H3</td>\n",
       "    </tr>\n",
       "    <tr>\n",
       "      <th>16</th>\n",
       "      <td>27521f2625e5f333cd9b3f4cec4f4d0b352d8ab1ee666a9b72957dd2fa4fbbbb</td>\n",
       "      <td>CCOC(=O)CC(Nc1nc(Cl)ncc1F)C1(C)COC1</td>\n",
       "      <td>TUXFEJANEQFTNP-UHFFFAOYSA-N</td>\n",
       "      <td>InChI=1S/C13H17ClFN3O3/c1-3-21-10(19)4-9(13(2)6-20-7-13)17-11-8(15)5-16-12(14)18-11/h5,9H,3-4,6-7H2,1-2H3,(H,16,17,18)</td>\n",
       "    </tr>\n",
       "    <tr>\n",
       "      <th>17</th>\n",
       "      <td>2962a162fea360167f007f66033433a1eb7faa63705c2f7befd68a61f62ad50c</td>\n",
       "      <td>CCOC(=O)CC(Nc1nc(-c2cn(C)c3ncc(Cl)cc23)ncc1F)C1(C)COC1</td>\n",
       "      <td>BXKSMZPVLZNOSL-UHFFFAOYSA-N</td>\n",
       "      <td>InChI=1S/C21H23ClFN5O3/c1-4-31-17(29)6-16(21(2)10-30-11-21)26-19-15(23)8-24-18(27-19)14-9-28(3)20-13(14)5-12(22)7-25-20/h5,7-9,16H,4,6,10-11H2,1-3H3,(H,24,26,27)</td>\n",
       "    </tr>\n",
       "    <tr>\n",
       "      <th>18</th>\n",
       "      <td>30c89c989b25ab2d0855372788f3683b13c9f4c8f63ced2210f7d424bc3db46b</td>\n",
       "      <td>CCOC(=O)C=C(N)C(C)(C)C1=[N+](C)C=C1</td>\n",
       "      <td>KSLIOJHMNQDNQD-UHFFFAOYSA-O</td>\n",
       "      <td>InChI=1S/C12H18N2O2/c1-5-16-11(15)8-9(13)12(2,3)10-6-7-14(10)4/h6-8H,5H2,1-4H3,(H-,13,15)/p+1</td>\n",
       "    </tr>\n",
       "    <tr>\n",
       "      <th>19</th>\n",
       "      <td>3320787739c50d6da032be1b102a707be4202f6e57b56c0cc6a861e8be273706</td>\n",
       "      <td>CCOC(=O)CC(N)C(C)(C)c1nccs1</td>\n",
       "      <td>QBDYCMFWIQKWBT-UHFFFAOYSA-N</td>\n",
       "      <td>InChI=1S/C11H18N2O2S/c1-4-15-9(14)7-8(12)11(2,3)10-13-5-6-16-10/h5-6,8H,4,7,12H2,1-3H3</td>\n",
       "    </tr>\n",
       "  </tbody>\n",
       "</table>\n",
       "</div>"
      ],
      "text/plain": [
       "                                                                  Id   \n",
       "0   05254aa456aab76bfd4915eaae6e856ac60288d01d60379e8cb61f202839b53b  \\\n",
       "1   06fc1cb7e0818196817db5ffb142ca68ff17ef82c9581f389dfa09ac99c3ac8a   \n",
       "2   07ec8a3a0fc49b6f65e8ddcbcf29b6b8720aad905566cb7e88704b1279e273f1   \n",
       "3   08743344ce06860ead6974eb4bcc45c21a9fb77bce9e2ae7d7ae2fe568149ea3   \n",
       "4   0d3ff5163ea47e9dbdb746ff4ea32411a880855a41b3e4b39bd7044ae32a7557   \n",
       "5   10fe7b9bc85b488112d32136d08e32cec5d0a97db4f8c123e48d27e3f1cb4edb   \n",
       "6   12d7c52a299793a1f2f824dc71a001a459e6d45c4c0665fc2e48a25d31d4bc7f   \n",
       "7   137890107d3dcf3ee3659186864a64d2d4149266a5d947d5b11841e5aee8f0a8   \n",
       "8   1480cb6fc77f0a5ad7ccf5c6701f0d40cbcb6ea7611b65de2deddb88b91ff2d3   \n",
       "9   15efbd1f6492a787271a1883acb3d73c8dd889b6b754cac88b847a31c5558221   \n",
       "10  17a96efd126f184cee547bb3a92e5ef3c81111e4f50a10d1f831ed656aee8d8f   \n",
       "11  1933933ff61345e7f2ec58e7fbc6869c56ad8b6d461ac38e91deed37f5253004   \n",
       "12  1efa0e3d37cc29c082fa681206b83c69d7c58e625cbe9b778879aa917d3dd671   \n",
       "13  23ac325f1c8e1d2f426a61bdd949658b6504abbf41f04a7ee512a1c83a45434d   \n",
       "14  260a0fa1f2971da780e4552165c71966b2c9ff2e68ae72a7090a6a74fcd38b80   \n",
       "15  2688505f1816fd8d728403a372070ef2b6317b717d32abca7b8a0568873ba01a   \n",
       "16  27521f2625e5f333cd9b3f4cec4f4d0b352d8ab1ee666a9b72957dd2fa4fbbbb   \n",
       "17  2962a162fea360167f007f66033433a1eb7faa63705c2f7befd68a61f62ad50c   \n",
       "18  30c89c989b25ab2d0855372788f3683b13c9f4c8f63ced2210f7d424bc3db46b   \n",
       "19  3320787739c50d6da032be1b102a707be4202f6e57b56c0cc6a861e8be273706   \n",
       "\n",
       "                                                                            SMILES   \n",
       "0                                                    CCOC(=O)C=C(N)C(C)(C)c1ccccn1  \\\n",
       "1                                             C=CCC(C)(C)C(CCF)Nc1nc(Cl)c(C#N)cc1F   \n",
       "2                C=C([O-])CC(Nc1nc(-c2c[nH]c3ncc(Cl)cc23)c(C#N)cc1F)C(C)(C)c1cccs1   \n",
       "3                                                               CC(C)(C#N)c1ccccn1   \n",
       "4                                                                      N#CCc1nccs1   \n",
       "5                                                               C#CC(C)(C)c1ccccn1   \n",
       "6                                         CCOC(=O)CC(Nc1nc(Cl)ncc1F)C(C)(C)c1cccs1   \n",
       "7                                                  CCOC(=O)C=C(N)C(C)(C)c1ccn(C)n1   \n",
       "8                                                           CC(C)(C(N)=CCF)c1nccs1   \n",
       "9                                   CCOC(=O)CC(Nc1nc(Cl)c(C#N)cc1F)C(C)(C)c1ccccn1   \n",
       "10                                                 C=CCC(C)(C)C(CCF)NS(=O)C(C)(C)C   \n",
       "11                                                        CC(C)C(N)C(C)(C)c1ccccn1   \n",
       "12  CCOC(=O)CC(Nc1nc(-c2cn(S(=O)(=O)c3ccc(C)cc3)c3ncc(Cl)cc23)c(C#N)cc1F)C(C)(C)OC   \n",
       "13                                                                    N#CCCc1nccs1   \n",
       "14                                   C=CCC(C)(C)C(CC(=O)OC)NC1=C(F)CC(C#N)C(Cl)=N1   \n",
       "15                          Cc1ccc(S(=O)(=O)n2cc(B3OC(C)(C)C(C)(C)O3)c3cncnc32)cc1   \n",
       "16                                             CCOC(=O)CC(Nc1nc(Cl)ncc1F)C1(C)COC1   \n",
       "17                          CCOC(=O)CC(Nc1nc(-c2cn(C)c3ncc(Cl)cc23)ncc1F)C1(C)COC1   \n",
       "18                                             CCOC(=O)C=C(N)C(C)(C)C1=[N+](C)C=C1   \n",
       "19                                                     CCOC(=O)CC(N)C(C)(C)c1nccs1   \n",
       "\n",
       "                       InChIKey   \n",
       "0   OPXOXVDSPZXHQT-UHFFFAOYSA-N  \\\n",
       "1   NVXFORHWGCVJTH-UHFFFAOYSA-N   \n",
       "2   OYPIIDFYQHIPHW-UHFFFAOYSA-M   \n",
       "3   SYILGDLWTPODQG-UHFFFAOYSA-N   \n",
       "4   QLBGFCHJCWNVIN-UHFFFAOYSA-N   \n",
       "5   IORICXGDTVBUHE-UHFFFAOYSA-N   \n",
       "6   CFYRRRVOOYRWTP-UHFFFAOYSA-N   \n",
       "7   WMNOLOMGSDHERX-UHFFFAOYSA-N   \n",
       "8   QZJKYIRETNZSNG-UHFFFAOYSA-N   \n",
       "9   XYTIEJYCLQDWMM-UHFFFAOYSA-N   \n",
       "10  AUCXDCUTROJCLO-UHFFFAOYSA-N   \n",
       "11  XLFHFUBIHHADDJ-UHFFFAOYSA-N   \n",
       "12  MPYXWALMNNNNMA-UHFFFAOYSA-N   \n",
       "13  QGFZXLFQMGLRKM-UHFFFAOYSA-N   \n",
       "14  QZSWRKHGXMDVBE-UHFFFAOYSA-N   \n",
       "15  ZYPOBLQBYBAHND-UHFFFAOYSA-N   \n",
       "16  TUXFEJANEQFTNP-UHFFFAOYSA-N   \n",
       "17  BXKSMZPVLZNOSL-UHFFFAOYSA-N   \n",
       "18  KSLIOJHMNQDNQD-UHFFFAOYSA-O   \n",
       "19  QBDYCMFWIQKWBT-UHFFFAOYSA-N   \n",
       "\n",
       "                                                                                                                                                                                               InChI  \n",
       "0                                                                                                               InChI=1S/C13H18N2O2/c1-4-17-12(16)9-10(14)13(2,3)11-7-5-6-8-15-11/h5-9H,4,14H2,1-3H3  \n",
       "1                                                                                   InChI=1S/C15H18ClF2N3/c1-4-6-15(2,3)12(5-7-17)20-14-11(18)8-10(9-19)13(16)21-14/h4,8,12H,1,5-7H2,2-3H3,(H,20,21)  \n",
       "2             InChI=1S/C24H21ClFN5OS/c1-13(32)7-19(24(2,3)20-5-4-6-33-20)30-23-18(26)8-14(10-27)21(31-23)17-12-29-22-16(17)9-15(25)11-28-22/h4-6,8-9,11-12,19,32H,1,7H2,2-3H3,(H,28,29)(H,30,31)/p-1  \n",
       "3                                                                                                                                            InChI=1S/C9H10N2/c1-9(2,7-10)8-5-3-4-6-11-8/h3-6H,1-2H3  \n",
       "4                                                                                                                                                      InChI=1S/C5H4N2S/c6-2-1-5-7-3-4-8-5/h3-4H,1H2  \n",
       "5                                                                                                                                          InChI=1S/C10H11N/c1-4-10(2,3)9-7-5-6-8-11-9/h1,5-8H,2-3H3  \n",
       "6                                                                  InChI=1S/C16H19ClFN3O2S/c1-4-23-13(22)8-11(16(2,3)12-6-5-7-24-12)20-14-10(18)9-19-15(17)21-14/h5-7,9,11H,4,8H2,1-3H3,(H,19,20,21)  \n",
       "7                                                                                                               InChI=1S/C12H19N3O2/c1-5-17-11(16)8-9(13)12(2,3)10-6-7-15(4)14-10/h6-8H,5,13H2,1-4H3  \n",
       "8                                                                                                                           InChI=1S/C9H13FN2S/c1-9(2,7(11)3-4-10)8-12-5-6-13-8/h3,5-6H,4,11H2,1-2H3  \n",
       "9                                                              InChI=1S/C19H20ClFN4O2/c1-4-27-16(26)10-15(19(2,3)14-7-5-6-8-23-14)24-18-13(21)9-12(11-22)17(20)25-18/h5-9,15H,4,10H2,1-3H3,(H,24,25)  \n",
       "10                                                                                                           InChI=1S/C13H26FNOS/c1-7-9-13(5,6)11(8-10-14)15-17(16)12(2,3)4/h7,11,15H,1,8-10H2,2-6H3  \n",
       "11                                                                                                                        InChI=1S/C12H20N2/c1-9(2)11(13)12(3,4)10-7-5-6-8-14-10/h5-9,11H,13H2,1-4H3  \n",
       "12  InChI=1S/C29H29ClFN5O5S/c1-6-41-25(37)13-24(29(3,4)40-5)34-27-23(31)11-18(14-32)26(35-27)22-16-36(28-21(22)12-19(30)15-33-28)42(38,39)20-9-7-17(2)8-10-20/h7-12,15-16,24H,6,13H2,1-5H3,(H,34,35)  \n",
       "13                                                                                                                                                 InChI=1S/C6H6N2S/c7-3-1-2-6-8-4-5-9-6/h4-5H,1-2H2  \n",
       "14                                                                                 InChI=1S/C16H21ClFN3O2/c1-5-6-16(2,3)12(8-13(22)23-4)20-15-11(18)7-10(9-19)14(17)21-15/h5,10,12,20H,1,6-8H2,2-4H3  \n",
       "15                                                                        InChI=1S/C19H22BN3O4S/c1-13-6-8-14(9-7-13)28(24,25)23-11-16(15-10-21-12-22-17(15)23)20-26-18(2,3)19(4,5)27-20/h6-12H,1-5H3  \n",
       "16                                                                            InChI=1S/C13H17ClFN3O3/c1-3-21-10(19)4-9(13(2)6-20-7-13)17-11-8(15)5-16-12(14)18-11/h5,9H,3-4,6-7H2,1-2H3,(H,16,17,18)  \n",
       "17                                 InChI=1S/C21H23ClFN5O3/c1-4-31-17(29)6-16(21(2)10-30-11-21)26-19-15(23)8-24-18(27-19)14-9-28(3)20-13(14)5-12(22)7-25-20/h5,7-9,16H,4,6,10-11H2,1-3H3,(H,24,26,27)  \n",
       "18                                                                                                     InChI=1S/C12H18N2O2/c1-5-16-11(15)8-9(13)12(2,3)10-6-7-14(10)4/h6-8H,5H2,1-4H3,(H-,13,15)/p+1  \n",
       "19                                                                                                            InChI=1S/C11H18N2O2S/c1-4-15-9(14)7-8(12)11(2,3)10-13-5-6-16-10/h5-6,8H,4,7,12H2,1-3H3  "
      ]
     },
     "execution_count": 18,
     "metadata": {},
     "output_type": "execute_result"
    }
   ],
   "source": [
    "# Data API\n",
    "data = %openadd ds find molecules in patents from list ['CN108473493B','US20190023713A1']\n",
    "data"
   ]
  },
  {
   "cell_type": "markdown",
   "id": "9da3d409-7d92-41b0-9572-04b76ba74679",
   "metadata": {},
   "source": [
    "<br>\n",
    "<h2><u><b>Collections</b></u></h2>"
   ]
  },
  {
   "cell_type": "markdown",
   "id": "d9e78a54-f453-44d6-aac4-882569136239",
   "metadata": {},
   "source": [
    "### List all collections"
   ]
  },
  {
   "cell_type": "code",
   "execution_count": 19,
   "id": "e5171277-655b-41de-bc5d-c868e9130aab",
   "metadata": {
    "tags": []
   },
   "outputs": [
    {
     "data": {
      "text/markdown": [
       "`ds list all collections [ details ] [ save as '<filename.csv>' ]` <br> \n",
       "<span style=\"color: #ccc\">----------------------------------------------------------------</span> <br> \n",
       "List all available Deep Search collections. <br> \n",
       "\n",
       "Add the `description` clause to include a description of each collection. <br> \n",
       "\n",
       "Use the `save as` clause to save the results as a csv file in your current workspace. <br> \n",
       "\n",
       "Examples: <br> \n",
       "- `ds list all collections` <br> \n",
       "- `ds list all collections details` <br> \n",
       "- `ds list all collections save as 'all_collections.csv'` <br> \n",
       "\n",
       "\n",
       "\n",
       " i  <span style=\"color: #ccc\">To see all available Deep Search commands, run `ds`</span> <br> \n"
      ],
      "text/plain": [
       "<IPython.core.display.Markdown object>"
      ]
     },
     "execution_count": 19,
     "metadata": {},
     "output_type": "execute_result"
    }
   ],
   "source": [
    "# Command help\n",
    "%openad ds list all collections ?"
   ]
  },
  {
   "cell_type": "code",
   "execution_count": 20,
   "id": "30649b48-02e9-412b-95a7-080ce5de088c",
   "metadata": {
    "tags": []
   },
   "outputs": [
    {
     "data": {
      "text/markdown": [
       "<span style=\"color: #ccc\">Next up, you can run: </span>`result open`/`edit`/`copy`/`display`/`as dataframe`/`save [as '<filename.csv>']` <br> \n"
      ],
      "text/plain": [
       "<IPython.core.display.Markdown object>"
      ]
     },
     "metadata": {},
     "output_type": "display_data"
    },
    {
     "data": {
      "text/html": [
       "<style type=\"text/css\">\n",
       "</style>\n",
       "<table id=\"T_7c0a6\">\n",
       "  <thead>\n",
       "    <tr>\n",
       "      <th id=\"T_7c0a6_level0_col0\" class=\"col_heading level0 col0\" >Collection Name</th>\n",
       "      <th id=\"T_7c0a6_level0_col1\" class=\"col_heading level0 col1\" >Collection Key</th>\n",
       "      <th id=\"T_7c0a6_level0_col2\" class=\"col_heading level0 col2\" >Entries</th>\n",
       "      <th id=\"T_7c0a6_level0_col3\" class=\"col_heading level0 col3\" >Domain</th>\n",
       "      <th id=\"T_7c0a6_level0_col4\" class=\"col_heading level0 col4\" >Type</th>\n",
       "      <th id=\"T_7c0a6_level0_col5\" class=\"col_heading level0 col5\" >Created</th>\n",
       "      <th id=\"T_7c0a6_level0_col6\" class=\"col_heading level0 col6\" >Elastic ID</th>\n",
       "    </tr>\n",
       "  </thead>\n",
       "  <tbody>\n",
       "    <tr>\n",
       "      <td id=\"T_7c0a6_row0_col0\" class=\"data row0 col0\" >AAAI</td>\n",
       "      <td id=\"T_7c0a6_row0_col1\" class=\"data row0 col1\" >aaai</td>\n",
       "      <td id=\"T_7c0a6_row0_col2\" class=\"data row0 col2\" >16,021</td>\n",
       "      <td id=\"T_7c0a6_row0_col3\" class=\"data row0 col3\" >Scientific Literature</td>\n",
       "      <td id=\"T_7c0a6_row0_col4\" class=\"data row0 col4\" >Document</td>\n",
       "      <td id=\"T_7c0a6_row0_col5\" class=\"data row0 col5\" >2024-01-23</td>\n",
       "      <td id=\"T_7c0a6_row0_col6\" class=\"data row0 col6\" >default</td>\n",
       "    </tr>\n",
       "    <tr>\n",
       "      <td id=\"T_7c0a6_row1_col0\" class=\"data row1 col0\" >ACL Anthology</td>\n",
       "      <td id=\"T_7c0a6_row1_col1\" class=\"data row1 col1\" >acl</td>\n",
       "      <td id=\"T_7c0a6_row1_col2\" class=\"data row1 col2\" >55,278</td>\n",
       "      <td id=\"T_7c0a6_row1_col3\" class=\"data row1 col3\" >Scientific Literature</td>\n",
       "      <td id=\"T_7c0a6_row1_col4\" class=\"data row1 col4\" >Document</td>\n",
       "      <td id=\"T_7c0a6_row1_col5\" class=\"data row1 col5\" >2023-10-05</td>\n",
       "      <td id=\"T_7c0a6_row1_col6\" class=\"data row1 col6\" >default</td>\n",
       "    </tr>\n",
       "    <tr>\n",
       "      <td id=\"T_7c0a6_row2_col0\" class=\"data row2 col0\" >Annual Reports</td>\n",
       "      <td id=\"T_7c0a6_row2_col1\" class=\"data row2 col1\" >annual-report</td>\n",
       "      <td id=\"T_7c0a6_row2_col2\" class=\"data row2 col2\" >107,375</td>\n",
       "      <td id=\"T_7c0a6_row2_col3\" class=\"data row2 col3\" >Business Insights</td>\n",
       "      <td id=\"T_7c0a6_row2_col4\" class=\"data row2 col4\" >Document</td>\n",
       "      <td id=\"T_7c0a6_row2_col5\" class=\"data row2 col5\" >2024-01-23</td>\n",
       "      <td id=\"T_7c0a6_row2_col6\" class=\"data row2 col6\" >default</td>\n",
       "    </tr>\n",
       "    <tr>\n",
       "      <td id=\"T_7c0a6_row3_col0\" class=\"data row3 col0\" >arXiv abstracts</td>\n",
       "      <td id=\"T_7c0a6_row3_col1\" class=\"data row3 col1\" >arxiv-abstract</td>\n",
       "      <td id=\"T_7c0a6_row3_col2\" class=\"data row3 col2\" >2,346,838</td>\n",
       "      <td id=\"T_7c0a6_row3_col3\" class=\"data row3 col3\" >Scientific Literature</td>\n",
       "      <td id=\"T_7c0a6_row3_col4\" class=\"data row3 col4\" >Document</td>\n",
       "      <td id=\"T_7c0a6_row3_col5\" class=\"data row3 col5\" >2023-10-24</td>\n",
       "      <td id=\"T_7c0a6_row3_col6\" class=\"data row3 col6\" >default</td>\n",
       "    </tr>\n",
       "    <tr>\n",
       "      <td id=\"T_7c0a6_row4_col0\" class=\"data row4 col0\" >arXiv full documents</td>\n",
       "      <td id=\"T_7c0a6_row4_col1\" class=\"data row4 col1\" >arxiv</td>\n",
       "      <td id=\"T_7c0a6_row4_col2\" class=\"data row4 col2\" >2,290,847</td>\n",
       "      <td id=\"T_7c0a6_row4_col3\" class=\"data row4 col3\" >Scientific Literature</td>\n",
       "      <td id=\"T_7c0a6_row4_col4\" class=\"data row4 col4\" >Document</td>\n",
       "      <td id=\"T_7c0a6_row4_col5\" class=\"data row4 col5\" >2024-01-27</td>\n",
       "      <td id=\"T_7c0a6_row4_col6\" class=\"data row4 col6\" >default</td>\n",
       "    </tr>\n",
       "    <tr>\n",
       "      <td id=\"T_7c0a6_row5_col0\" class=\"data row5 col0\" >ClinicalTrials</td>\n",
       "      <td id=\"T_7c0a6_row5_col1\" class=\"data row5 col1\" >clinical-trials</td>\n",
       "      <td id=\"T_7c0a6_row5_col2\" class=\"data row5 col2\" >426,424</td>\n",
       "      <td id=\"T_7c0a6_row5_col3\" class=\"data row5 col3\" >Healthcare & Life Sciences</td>\n",
       "      <td id=\"T_7c0a6_row5_col4\" class=\"data row5 col4\" >Document</td>\n",
       "      <td id=\"T_7c0a6_row5_col5\" class=\"data row5 col5\" >2023-06-01</td>\n",
       "      <td id=\"T_7c0a6_row5_col6\" class=\"data row5 col6\" >default</td>\n",
       "    </tr>\n",
       "    <tr>\n",
       "      <td id=\"T_7c0a6_row6_col0\" class=\"data row6 col0\" >Cord19</td>\n",
       "      <td id=\"T_7c0a6_row6_col1\" class=\"data row6 col1\" >cord19</td>\n",
       "      <td id=\"T_7c0a6_row6_col2\" class=\"data row6 col2\" >655,447</td>\n",
       "      <td id=\"T_7c0a6_row6_col3\" class=\"data row6 col3\" >Healthcare & Life Sciences / Scientific Literature</td>\n",
       "      <td id=\"T_7c0a6_row6_col4\" class=\"data row6 col4\" >Document</td>\n",
       "      <td id=\"T_7c0a6_row6_col5\" class=\"data row6 col5\" >2023-04-14</td>\n",
       "      <td id=\"T_7c0a6_row6_col6\" class=\"data row6 col6\" >default</td>\n",
       "    </tr>\n",
       "    <tr>\n",
       "      <td id=\"T_7c0a6_row7_col0\" class=\"data row7 col0\" >Crossref</td>\n",
       "      <td id=\"T_7c0a6_row7_col1\" class=\"data row7 col1\" >crossref</td>\n",
       "      <td id=\"T_7c0a6_row7_col2\" class=\"data row7 col2\" >131,857,641</td>\n",
       "      <td id=\"T_7c0a6_row7_col3\" class=\"data row7 col3\" >Scientific Literature</td>\n",
       "      <td id=\"T_7c0a6_row7_col4\" class=\"data row7 col4\" >Document</td>\n",
       "      <td id=\"T_7c0a6_row7_col5\" class=\"data row7 col5\" >2023-04-15</td>\n",
       "      <td id=\"T_7c0a6_row7_col6\" class=\"data row7 col6\" >default</td>\n",
       "    </tr>\n",
       "    <tr>\n",
       "      <td id=\"T_7c0a6_row8_col0\" class=\"data row8 col0\" >ESG Reports</td>\n",
       "      <td id=\"T_7c0a6_row8_col1\" class=\"data row8 col1\" >esg-report</td>\n",
       "      <td id=\"T_7c0a6_row8_col2\" class=\"data row8 col2\" >17,358</td>\n",
       "      <td id=\"T_7c0a6_row8_col3\" class=\"data row8 col3\" >Business Insights</td>\n",
       "      <td id=\"T_7c0a6_row8_col4\" class=\"data row8 col4\" >Document</td>\n",
       "      <td id=\"T_7c0a6_row8_col5\" class=\"data row8 col5\" >2024-01-22</td>\n",
       "      <td id=\"T_7c0a6_row8_col6\" class=\"data row8 col6\" >default</td>\n",
       "    </tr>\n",
       "    <tr>\n",
       "      <td id=\"T_7c0a6_row9_col0\" class=\"data row9 col0\" >IBM Redbooks</td>\n",
       "      <td id=\"T_7c0a6_row9_col1\" class=\"data row9 col1\" >ibm-redbooks</td>\n",
       "      <td id=\"T_7c0a6_row9_col2\" class=\"data row9 col2\" >2,751</td>\n",
       "      <td id=\"T_7c0a6_row9_col3\" class=\"data row9 col3\" >Business Insights</td>\n",
       "      <td id=\"T_7c0a6_row9_col4\" class=\"data row9 col4\" >Document</td>\n",
       "      <td id=\"T_7c0a6_row9_col5\" class=\"data row9 col5\" >2023-08-02</td>\n",
       "      <td id=\"T_7c0a6_row9_col6\" class=\"data row9 col6\" >default</td>\n",
       "    </tr>\n",
       "    <tr>\n",
       "      <td id=\"T_7c0a6_row10_col0\" class=\"data row10 col0\" >IPCC</td>\n",
       "      <td id=\"T_7c0a6_row10_col1\" class=\"data row10 col1\" >ipcc</td>\n",
       "      <td id=\"T_7c0a6_row10_col2\" class=\"data row10 col2\" >819</td>\n",
       "      <td id=\"T_7c0a6_row10_col3\" class=\"data row10 col3\" >Climate & Sustainability</td>\n",
       "      <td id=\"T_7c0a6_row10_col4\" class=\"data row10 col4\" >Document</td>\n",
       "      <td id=\"T_7c0a6_row10_col5\" class=\"data row10 col5\" >2023-06-15</td>\n",
       "      <td id=\"T_7c0a6_row10_col6\" class=\"data row10 col6\" >default</td>\n",
       "    </tr>\n",
       "    <tr>\n",
       "      <td id=\"T_7c0a6_row11_col0\" class=\"data row11 col0\" >PatCID</td>\n",
       "      <td id=\"T_7c0a6_row11_col1\" class=\"data row11 col1\" >patcid</td>\n",
       "      <td id=\"T_7c0a6_row11_col2\" class=\"data row11 col2\" >23,913,077</td>\n",
       "      <td id=\"T_7c0a6_row11_col3\" class=\"data row11 col3\" >Materials Science</td>\n",
       "      <td id=\"T_7c0a6_row11_col4\" class=\"data row11 col4\" >Record</td>\n",
       "      <td id=\"T_7c0a6_row11_col5\" class=\"data row11 col5\" >2024-10-04</td>\n",
       "      <td id=\"T_7c0a6_row11_col6\" class=\"data row11 col6\" >default</td>\n",
       "    </tr>\n",
       "    <tr>\n",
       "      <td id=\"T_7c0a6_row12_col0\" class=\"data row12 col0\" >Patent SMILES</td>\n",
       "      <td id=\"T_7c0a6_row12_col1\" class=\"data row12 col1\" >patent-smiles</td>\n",
       "      <td id=\"T_7c0a6_row12_col2\" class=\"data row12 col2\" >4,337,155</td>\n",
       "      <td id=\"T_7c0a6_row12_col3\" class=\"data row12 col3\" >Scientific Literature</td>\n",
       "      <td id=\"T_7c0a6_row12_col4\" class=\"data row12 col4\" >Document</td>\n",
       "      <td id=\"T_7c0a6_row12_col5\" class=\"data row12 col5\" >2024-09-30</td>\n",
       "      <td id=\"T_7c0a6_row12_col6\" class=\"data row12 col6\" >default</td>\n",
       "    </tr>\n",
       "    <tr>\n",
       "      <td id=\"T_7c0a6_row13_col0\" class=\"data row13 col0\" >Patents from USPTO</td>\n",
       "      <td id=\"T_7c0a6_row13_col1\" class=\"data row13 col1\" >patent-uspto</td>\n",
       "      <td id=\"T_7c0a6_row13_col2\" class=\"data row13 col2\" >16,739,269</td>\n",
       "      <td id=\"T_7c0a6_row13_col3\" class=\"data row13 col3\" >Scientific Literature</td>\n",
       "      <td id=\"T_7c0a6_row13_col4\" class=\"data row13 col4\" >Document</td>\n",
       "      <td id=\"T_7c0a6_row13_col5\" class=\"data row13 col5\" >2024-09-01</td>\n",
       "      <td id=\"T_7c0a6_row13_col6\" class=\"data row13 col6\" >default</td>\n",
       "    </tr>\n",
       "    <tr>\n",
       "      <td id=\"T_7c0a6_row14_col0\" class=\"data row14 col0\" >PLOS</td>\n",
       "      <td id=\"T_7c0a6_row14_col1\" class=\"data row14 col1\" >plos</td>\n",
       "      <td id=\"T_7c0a6_row14_col2\" class=\"data row14 col2\" >340,275</td>\n",
       "      <td id=\"T_7c0a6_row14_col3\" class=\"data row14 col3\" >Scientific Literature</td>\n",
       "      <td id=\"T_7c0a6_row14_col4\" class=\"data row14 col4\" >Document</td>\n",
       "      <td id=\"T_7c0a6_row14_col5\" class=\"data row14 col5\" >2024-01-22</td>\n",
       "      <td id=\"T_7c0a6_row14_col6\" class=\"data row14 col6\" >default</td>\n",
       "    </tr>\n",
       "    <tr>\n",
       "      <td id=\"T_7c0a6_row15_col0\" class=\"data row15 col0\" >Press Release</td>\n",
       "      <td id=\"T_7c0a6_row15_col1\" class=\"data row15 col1\" >press-release</td>\n",
       "      <td id=\"T_7c0a6_row15_col2\" class=\"data row15 col2\" >43,042</td>\n",
       "      <td id=\"T_7c0a6_row15_col3\" class=\"data row15 col3\" >Business Insights</td>\n",
       "      <td id=\"T_7c0a6_row15_col4\" class=\"data row15 col4\" >Document</td>\n",
       "      <td id=\"T_7c0a6_row15_col5\" class=\"data row15 col5\" >2024-02-27</td>\n",
       "      <td id=\"T_7c0a6_row15_col6\" class=\"data row15 col6\" >default</td>\n",
       "    </tr>\n",
       "    <tr>\n",
       "      <td id=\"T_7c0a6_row16_col0\" class=\"data row16 col0\" >PubChem</td>\n",
       "      <td id=\"T_7c0a6_row16_col1\" class=\"data row16 col1\" >pubchem</td>\n",
       "      <td id=\"T_7c0a6_row16_col2\" class=\"data row16 col2\" >118,240,842</td>\n",
       "      <td id=\"T_7c0a6_row16_col3\" class=\"data row16 col3\" >Materials Science</td>\n",
       "      <td id=\"T_7c0a6_row16_col4\" class=\"data row16 col4\" >Record</td>\n",
       "      <td id=\"T_7c0a6_row16_col5\" class=\"data row16 col5\" >2023-10-06</td>\n",
       "      <td id=\"T_7c0a6_row16_col6\" class=\"data row16 col6\" >default</td>\n",
       "    </tr>\n",
       "    <tr>\n",
       "      <td id=\"T_7c0a6_row17_col0\" class=\"data row17 col0\" >PubMed Central</td>\n",
       "      <td id=\"T_7c0a6_row17_col1\" class=\"data row17 col1\" >pubmed</td>\n",
       "      <td id=\"T_7c0a6_row17_col2\" class=\"data row17 col2\" >5,084,756</td>\n",
       "      <td id=\"T_7c0a6_row17_col3\" class=\"data row17 col3\" >Healthcare & Life Sciences</td>\n",
       "      <td id=\"T_7c0a6_row17_col4\" class=\"data row17 col4\" >Document</td>\n",
       "      <td id=\"T_7c0a6_row17_col5\" class=\"data row17 col5\" >2023-04-12</td>\n",
       "      <td id=\"T_7c0a6_row17_col6\" class=\"data row17 col6\" >default</td>\n",
       "    </tr>\n",
       "    <tr>\n",
       "      <td id=\"T_7c0a6_row18_col0\" class=\"data row18 col0\" >Red Hat</td>\n",
       "      <td id=\"T_7c0a6_row18_col1\" class=\"data row18 col1\" >redhat</td>\n",
       "      <td id=\"T_7c0a6_row18_col2\" class=\"data row18 col2\" >6,213</td>\n",
       "      <td id=\"T_7c0a6_row18_col3\" class=\"data row18 col3\" >Business Insights</td>\n",
       "      <td id=\"T_7c0a6_row18_col4\" class=\"data row18 col4\" >Document</td>\n",
       "      <td id=\"T_7c0a6_row18_col5\" class=\"data row18 col5\" >2023-07-14</td>\n",
       "      <td id=\"T_7c0a6_row18_col6\" class=\"data row18 col6\" >default</td>\n",
       "    </tr>\n",
       "    <tr>\n",
       "      <td id=\"T_7c0a6_row19_col0\" class=\"data row19 col0\" >Semantic Scholar Academic Graph</td>\n",
       "      <td id=\"T_7c0a6_row19_col1\" class=\"data row19 col1\" >semantic-scholar</td>\n",
       "      <td id=\"T_7c0a6_row19_col2\" class=\"data row19 col2\" >212,110,410</td>\n",
       "      <td id=\"T_7c0a6_row19_col3\" class=\"data row19 col3\" >Scientific Literature</td>\n",
       "      <td id=\"T_7c0a6_row19_col4\" class=\"data row19 col4\" >Document</td>\n",
       "      <td id=\"T_7c0a6_row19_col5\" class=\"data row19 col5\" >2023-05-28</td>\n",
       "      <td id=\"T_7c0a6_row19_col6\" class=\"data row19 col6\" >default</td>\n",
       "    </tr>\n",
       "  </tbody>\n",
       "</table>\n"
      ],
      "text/plain": [
       "<pandas.io.formats.style.Styler at 0x1756f30a0>"
      ]
     },
     "metadata": {},
     "output_type": "display_data"
    },
    {
     "data": {
      "text/markdown": [
       "To see any particular collection's description, run: <br> \n",
       "`ds list collection details '<collection_name_or_key>'` <br> \n",
       "\n",
       "To see all collections' descriptions at once, run: <br> \n",
       "`ds list all collections details` <br> \n"
      ],
      "text/plain": [
       "<IPython.core.display.Markdown object>"
      ]
     },
     "metadata": {},
     "output_type": "display_data"
    }
   ],
   "source": [
    "# Basic\n",
    "%openad ds list all collections"
   ]
  },
  {
   "cell_type": "code",
   "execution_count": 21,
   "id": "5b3528c4-8cf4-4399-befe-7c9d9612ecce",
   "metadata": {
    "tags": []
   },
   "outputs": [
    {
     "data": {
      "text/markdown": [
       "## AAAI\n",
       "The Association for the Advancement of Artificial Intelligence (AAAI) is the premier scientific society dedicated to advancing the scientific understanding of the mechanisms underlying thought and intelligent behavior and their embodiment in machines. AAAI publishes nearly one hundred proceedings, technical reports, edited collections, and magazine issues each year. <br> \n",
       "<span style=\"color: #ccc\">---</span> <br> \n",
       "<span style=\"color: #dc0\">Name     </span> AAAI <br> \n",
       "<span style=\"color: #dc0\">Key      </span> aaai <br> \n",
       "<span style=\"color: #dc0\">Domain   </span> Scientific Literature <br> \n",
       "<span style=\"color: #dc0\">Type     </span> Document <br> \n",
       "<span style=\"color: #dc0\">Entries  </span> 16021 <br> \n",
       "<span style=\"color: #dc0\">Created  </span> Jan 23, 2024 <br> \n"
      ],
      "text/plain": [
       "<IPython.core.display.Markdown object>"
      ]
     },
     "metadata": {},
     "output_type": "display_data"
    },
    {
     "data": {
      "text/markdown": [
       "## ACL Anthology\n",
       "The ACL Anthology currently hosts papers on the study of computational linguistics and natural language processing. <br> \n",
       "<span style=\"color: #ccc\">---</span> <br> \n",
       "<span style=\"color: #dc0\">Name     </span> ACL Anthology <br> \n",
       "<span style=\"color: #dc0\">Key      </span> acl <br> \n",
       "<span style=\"color: #dc0\">Domain   </span> Scientific Literature <br> \n",
       "<span style=\"color: #dc0\">Type     </span> Document <br> \n",
       "<span style=\"color: #dc0\">Entries  </span> 55278 <br> \n",
       "<span style=\"color: #dc0\">Created  </span> Oct 06, 2023 <br> \n"
      ],
      "text/plain": [
       "<IPython.core.display.Markdown object>"
      ]
     },
     "metadata": {},
     "output_type": "display_data"
    },
    {
     "data": {
      "text/markdown": [
       "## Annual Reports\n",
       "Company annual reports, including metadata such as company ticker symbol or reporting year. <br> \n",
       "<span style=\"color: #ccc\">---</span> <br> \n",
       "<span style=\"color: #dc0\">Name     </span> Annual Reports <br> \n",
       "<span style=\"color: #dc0\">Key      </span> annual-report <br> \n",
       "<span style=\"color: #dc0\">Domain   </span> Business Insights <br> \n",
       "<span style=\"color: #dc0\">Type     </span> Document <br> \n",
       "<span style=\"color: #dc0\">Entries  </span> 107375 <br> \n",
       "<span style=\"color: #dc0\">Created  </span> Jan 23, 2024 <br> \n"
      ],
      "text/plain": [
       "<IPython.core.display.Markdown object>"
      ]
     },
     "metadata": {},
     "output_type": "display_data"
    },
    {
     "data": {
      "text/markdown": [
       "## arXiv abstracts\n",
       "arXiv® is a curated research-sharing platform open to anyone. This collection contains the abstract and the metadata of the scholarly articles in arXiv. <br> \n",
       "<span style=\"color: #ccc\">---</span> <br> \n",
       "<span style=\"color: #dc0\">Name     </span> arXiv abstracts <br> \n",
       "<span style=\"color: #dc0\">Key      </span> arxiv-abstract <br> \n",
       "<span style=\"color: #dc0\">Domain   </span> Scientific Literature <br> \n",
       "<span style=\"color: #dc0\">Type     </span> Document <br> \n",
       "<span style=\"color: #dc0\">Entries  </span> 2346838 <br> \n",
       "<span style=\"color: #dc0\">Created  </span> Oct 24, 2023 <br> \n"
      ],
      "text/plain": [
       "<IPython.core.display.Markdown object>"
      ]
     },
     "metadata": {},
     "output_type": "display_data"
    },
    {
     "data": {
      "text/markdown": [
       "## arXiv full documents\n",
       "arXiv® is a curated research-sharing platform open to anyone. It stores scholarly articles in the fields of physics, mathematics, computer science, quantitative biology, quantitative finance, statistics, electrical engineering and systems science, and economics. <br> \n",
       "<span style=\"color: #ccc\">---</span> <br> \n",
       "<span style=\"color: #dc0\">Name     </span> arXiv full documents <br> \n",
       "<span style=\"color: #dc0\">Key      </span> arxiv <br> \n",
       "<span style=\"color: #dc0\">Domain   </span> Scientific Literature <br> \n",
       "<span style=\"color: #dc0\">Type     </span> Document <br> \n",
       "<span style=\"color: #dc0\">Entries  </span> 2290847 <br> \n",
       "<span style=\"color: #dc0\">Created  </span> Jan 27, 2024 <br> \n"
      ],
      "text/plain": [
       "<IPython.core.display.Markdown object>"
      ]
     },
     "metadata": {},
     "output_type": "display_data"
    },
    {
     "data": {
      "text/markdown": [
       "## ClinicalTrials\n",
       "ClinicalTrials.gov is a database of privately and publicly funded clinical studies conducted around the world. ClinicalTrials.gov is a resource provided by the U.S. National Library of Medicine. <br> \n",
       "<span style=\"color: #ccc\">---</span> <br> \n",
       "<span style=\"color: #dc0\">Name     </span> ClinicalTrials <br> \n",
       "<span style=\"color: #dc0\">Key      </span> clinical-trials <br> \n",
       "<span style=\"color: #dc0\">Domain   </span> Healthcare & Life Sciences <br> \n",
       "<span style=\"color: #dc0\">Type     </span> Document <br> \n",
       "<span style=\"color: #dc0\">Entries  </span> 426424 <br> \n",
       "<span style=\"color: #dc0\">Created  </span> Jun 01, 2023 <br> \n"
      ],
      "text/plain": [
       "<IPython.core.display.Markdown object>"
      ]
     },
     "metadata": {},
     "output_type": "display_data"
    },
    {
     "data": {
      "text/markdown": [
       "## Cord19\n",
       "CORD-19: The COVID-19 Open Research Dataset (https://arxiv.org/abs/2004.10706) <br> \n",
       "<span style=\"color: #ccc\">---</span> <br> \n",
       "<span style=\"color: #dc0\">Name     </span> Cord19 <br> \n",
       "<span style=\"color: #dc0\">Key      </span> cord19 <br> \n",
       "<span style=\"color: #dc0\">Domain   </span> Healthcare & Life Sciences / Scientific Literature <br> \n",
       "<span style=\"color: #dc0\">Type     </span> Document <br> \n",
       "<span style=\"color: #dc0\">Entries  </span> 655447 <br> \n",
       "<span style=\"color: #dc0\">Created  </span> Apr 14, 2023 <br> \n"
      ],
      "text/plain": [
       "<IPython.core.display.Markdown object>"
      ]
     },
     "metadata": {},
     "output_type": "display_data"
    },
    {
     "data": {
      "text/markdown": [
       "## Crossref\n",
       "Crossref is an official digital object identifier (DOI) Registration Agency of the International DOI Foundation. It is run by the Publishers International Linking Association Inc. (PILA) and was launched in early 2000 as a cooperative effort among publishers to enable persistent cross-publisher citation linking in online academic journals. <br> \n",
       "<span style=\"color: #ccc\">---</span> <br> \n",
       "<span style=\"color: #dc0\">Name     </span> Crossref <br> \n",
       "<span style=\"color: #dc0\">Key      </span> crossref <br> \n",
       "<span style=\"color: #dc0\">Domain   </span> Scientific Literature <br> \n",
       "<span style=\"color: #dc0\">Type     </span> Document <br> \n",
       "<span style=\"color: #dc0\">Entries  </span> 131857641 <br> \n",
       "<span style=\"color: #dc0\">Created  </span> Apr 15, 2023 <br> \n"
      ],
      "text/plain": [
       "<IPython.core.display.Markdown object>"
      ]
     },
     "metadata": {},
     "output_type": "display_data"
    },
    {
     "data": {
      "text/markdown": [
       "## ESG Reports\n",
       "Responsibility reports from global companies, including sustainability reports, corporate responsibility reports, corporate social responsibility reports, and ESG reports. <br> \n",
       "<span style=\"color: #ccc\">---</span> <br> \n",
       "<span style=\"color: #dc0\">Name     </span> ESG Reports <br> \n",
       "<span style=\"color: #dc0\">Key      </span> esg-report <br> \n",
       "<span style=\"color: #dc0\">Domain   </span> Business Insights <br> \n",
       "<span style=\"color: #dc0\">Type     </span> Document <br> \n",
       "<span style=\"color: #dc0\">Entries  </span> 17358 <br> \n",
       "<span style=\"color: #dc0\">Created  </span> Jan 22, 2024 <br> \n"
      ],
      "text/plain": [
       "<IPython.core.display.Markdown object>"
      ]
     },
     "metadata": {},
     "output_type": "display_data"
    },
    {
     "data": {
      "text/markdown": [
       "## IBM Redbooks\n",
       "IBM Redbooks content is developed and published by IBM Systems. We develop and deliver skills, technical know-how, and materials to IBM technical professionals, Business Partners, clients, and the marketplace in general. We work with IBM Divisions and Business Partners to develop a broad range of IBM Redbooks content. Our value-add information products address product, platform, and solution perspectives. They explore integration, implementation, and operation of realistic client scenarios that include IBM products as well as technologies from Red Hat, SAP, Oracle, Linux and others. <br> \n",
       "<span style=\"color: #ccc\">---</span> <br> \n",
       "<span style=\"color: #dc0\">Name     </span> IBM Redbooks <br> \n",
       "<span style=\"color: #dc0\">Key      </span> ibm-redbooks <br> \n",
       "<span style=\"color: #dc0\">Domain   </span> Business Insights <br> \n",
       "<span style=\"color: #dc0\">Type     </span> Document <br> \n",
       "<span style=\"color: #dc0\">Entries  </span> 2751 <br> \n",
       "<span style=\"color: #dc0\">Created  </span> Aug 02, 2023 <br> \n"
      ],
      "text/plain": [
       "<IPython.core.display.Markdown object>"
      ]
     },
     "metadata": {},
     "output_type": "display_data"
    },
    {
     "data": {
      "text/markdown": [
       "## IPCC\n",
       "The Intergovernmental Panel on Climate Change (IPCC) is the United Nations body for assessing the science related to climate change. The IPCC prepares comprehensive Assessment Reports about knowledge on climate change, its causes, potential impacts and response options. The IPCC also produces Special Reports, which are an assessment on a specific issue and Methodology Reports, which provide practical guidelines for the preparation of greenhouse gas inventories. <br> \n",
       "<span style=\"color: #ccc\">---</span> <br> \n",
       "<span style=\"color: #dc0\">Name     </span> IPCC <br> \n",
       "<span style=\"color: #dc0\">Key      </span> ipcc <br> \n",
       "<span style=\"color: #dc0\">Domain   </span> Climate & Sustainability <br> \n",
       "<span style=\"color: #dc0\">Type     </span> Document <br> \n",
       "<span style=\"color: #dc0\">Entries  </span> 819 <br> \n",
       "<span style=\"color: #dc0\">Created  </span> Jun 15, 2023 <br> \n"
      ],
      "text/plain": [
       "<IPython.core.display.Markdown object>"
      ]
     },
     "metadata": {},
     "output_type": "display_data"
    },
    {
     "data": {
      "text/markdown": [
       "## PatCID\n",
       "Large-scale chemical-structure database from images in patent documents. <br> \n",
       "<span style=\"color: #ccc\">---</span> <br> \n",
       "<span style=\"color: #dc0\">Name     </span> PatCID <br> \n",
       "<span style=\"color: #dc0\">Key      </span> patcid <br> \n",
       "<span style=\"color: #dc0\">Domain   </span> Materials Science <br> \n",
       "<span style=\"color: #dc0\">Type     </span> Record <br> \n",
       "<span style=\"color: #dc0\">Entries  </span> 23913077 <br> \n",
       "<span style=\"color: #dc0\">Created  </span> Oct 04, 2024 <br> \n"
      ],
      "text/plain": [
       "<IPython.core.display.Markdown object>"
      ]
     },
     "metadata": {},
     "output_type": "display_data"
    },
    {
     "data": {
      "text/markdown": [
       "## Patent SMILES\n",
       "Patent SMILES from US, EU, JP, KO and CN. <br> \n",
       "<span style=\"color: #ccc\">---</span> <br> \n",
       "<span style=\"color: #dc0\">Name     </span> Patent SMILES <br> \n",
       "<span style=\"color: #dc0\">Key      </span> patent-smiles <br> \n",
       "<span style=\"color: #dc0\">Domain   </span> Scientific Literature <br> \n",
       "<span style=\"color: #dc0\">Type     </span> Document <br> \n",
       "<span style=\"color: #dc0\">Entries  </span> 4337155 <br> \n",
       "<span style=\"color: #dc0\">Created  </span> Sep 30, 2024 <br> \n"
      ],
      "text/plain": [
       "<IPython.core.display.Markdown object>"
      ]
     },
     "metadata": {},
     "output_type": "display_data"
    },
    {
     "data": {
      "text/markdown": [
       "## Patents from USPTO\n",
       "Patents from the US Patent and Trade Office (USPTO). The collection includes patent grants published in 1976 or later, and patent applications (pre-grant publications) published in March 2001 or later. <br> \n",
       "<span style=\"color: #ccc\">---</span> <br> \n",
       "<span style=\"color: #dc0\">Name     </span> Patents from USPTO <br> \n",
       "<span style=\"color: #dc0\">Key      </span> patent-uspto <br> \n",
       "<span style=\"color: #dc0\">Domain   </span> Scientific Literature <br> \n",
       "<span style=\"color: #dc0\">Type     </span> Document <br> \n",
       "<span style=\"color: #dc0\">Entries  </span> 16739269 <br> \n",
       "<span style=\"color: #dc0\">Created  </span> Sep 01, 2024 <br> \n"
      ],
      "text/plain": [
       "<IPython.core.display.Markdown object>"
      ]
     },
     "metadata": {},
     "output_type": "display_data"
    },
    {
     "data": {
      "text/markdown": [
       "## PLOS\n",
       "PLOS publishes a suite of influential Open Access journals across all areas of science and medicine. Rigorously reported, peer reviewed and immediately available without restrictions, promoting the widest readership and impact possible. <br> \n",
       "<span style=\"color: #ccc\">---</span> <br> \n",
       "<span style=\"color: #dc0\">Name     </span> PLOS <br> \n",
       "<span style=\"color: #dc0\">Key      </span> plos <br> \n",
       "<span style=\"color: #dc0\">Domain   </span> Scientific Literature <br> \n",
       "<span style=\"color: #dc0\">Type     </span> Document <br> \n",
       "<span style=\"color: #dc0\">Entries  </span> 340275 <br> \n",
       "<span style=\"color: #dc0\">Created  </span> Jan 22, 2024 <br> \n"
      ],
      "text/plain": [
       "<IPython.core.display.Markdown object>"
      ]
     },
     "metadata": {},
     "output_type": "display_data"
    },
    {
     "data": {
      "text/markdown": [
       "## Press Release\n",
       "Press releases from several information portals like Reuters, BBC, or the European Comission. <br> \n",
       "<span style=\"color: #ccc\">---</span> <br> \n",
       "<span style=\"color: #dc0\">Name     </span> Press Release <br> \n",
       "<span style=\"color: #dc0\">Key      </span> press-release <br> \n",
       "<span style=\"color: #dc0\">Domain   </span> Business Insights <br> \n",
       "<span style=\"color: #dc0\">Type     </span> Document <br> \n",
       "<span style=\"color: #dc0\">Entries  </span> 43042 <br> \n",
       "<span style=\"color: #dc0\">Created  </span> Feb 27, 2024 <br> \n"
      ],
      "text/plain": [
       "<IPython.core.display.Markdown object>"
      ]
     },
     "metadata": {},
     "output_type": "display_data"
    },
    {
     "data": {
      "text/markdown": [
       "## PubChem\n",
       "PubChem is the world's largest collection of freely accessible chemical information. Search chemicals by name, molecular formula, structure, and other identifiers. Find chemical and physical properties, biological activities, safety and toxicity information, patents, literature citations and more. <br> \n",
       "<span style=\"color: #ccc\">---</span> <br> \n",
       "<span style=\"color: #dc0\">Name     </span> PubChem <br> \n",
       "<span style=\"color: #dc0\">Key      </span> pubchem <br> \n",
       "<span style=\"color: #dc0\">Domain   </span> Materials Science <br> \n",
       "<span style=\"color: #dc0\">Type     </span> Record <br> \n",
       "<span style=\"color: #dc0\">Entries  </span> 118240842 <br> \n",
       "<span style=\"color: #dc0\">Created  </span> Oct 06, 2023 <br> \n"
      ],
      "text/plain": [
       "<IPython.core.display.Markdown object>"
      ]
     },
     "metadata": {},
     "output_type": "display_data"
    },
    {
     "data": {
      "text/markdown": [
       "## PubMed Central\n",
       "PubMed Central® (PMC) is a free full-text archive of biomedical and life sciences journal literature at the U.S. National Institutes of Health's National Library of Medicine (NIH/NLM). <br> \n",
       "<span style=\"color: #ccc\">---</span> <br> \n",
       "<span style=\"color: #dc0\">Name     </span> PubMed Central <br> \n",
       "<span style=\"color: #dc0\">Key      </span> pubmed <br> \n",
       "<span style=\"color: #dc0\">Domain   </span> Healthcare & Life Sciences <br> \n",
       "<span style=\"color: #dc0\">Type     </span> Document <br> \n",
       "<span style=\"color: #dc0\">Entries  </span> 5084756 <br> \n",
       "<span style=\"color: #dc0\">Created  </span> Apr 13, 2023 <br> \n"
      ],
      "text/plain": [
       "<IPython.core.display.Markdown object>"
      ]
     },
     "metadata": {},
     "output_type": "display_data"
    },
    {
     "data": {
      "text/markdown": [
       "## Red Hat\n",
       "IBM Red Hat product documentation. <br> \n",
       "<span style=\"color: #ccc\">---</span> <br> \n",
       "<span style=\"color: #dc0\">Name     </span> Red Hat <br> \n",
       "<span style=\"color: #dc0\">Key      </span> redhat <br> \n",
       "<span style=\"color: #dc0\">Domain   </span> Business Insights <br> \n",
       "<span style=\"color: #dc0\">Type     </span> Document <br> \n",
       "<span style=\"color: #dc0\">Entries  </span> 6213 <br> \n",
       "<span style=\"color: #dc0\">Created  </span> Jul 15, 2023 <br> \n"
      ],
      "text/plain": [
       "<IPython.core.display.Markdown object>"
      ]
     },
     "metadata": {},
     "output_type": "display_data"
    },
    {
     "data": {
      "text/markdown": [
       "## Semantic Scholar Academic Graph\n",
       "Semantic Scholar Academic Graph is a free, AI-powered research tool for scientific literature, based at the Allen Institute for AI. This collection consists of core metadata about papers (S2AG papers dataset) and abstract text for selected papers (S2AG abstracts dataset). <br> \n",
       "<span style=\"color: #ccc\">---</span> <br> \n",
       "<span style=\"color: #dc0\">Name     </span> Semantic Scholar Academic Graph <br> \n",
       "<span style=\"color: #dc0\">Key      </span> semantic-scholar <br> \n",
       "<span style=\"color: #dc0\">Domain   </span> Scientific Literature <br> \n",
       "<span style=\"color: #dc0\">Type     </span> Document <br> \n",
       "<span style=\"color: #dc0\">Entries  </span> 212110410 <br> \n",
       "<span style=\"color: #dc0\">Created  </span> May 28, 2023 <br> \n"
      ],
      "text/plain": [
       "<IPython.core.display.Markdown object>"
      ]
     },
     "metadata": {},
     "output_type": "display_data"
    },
    {
     "data": {
      "text/markdown": [
       "<span style=\"color: #ccc\">Next up, you can run: </span>`result open`/`edit`/`copy`/`display`/`as dataframe`/`save [as '<filename.csv>']` <br> \n"
      ],
      "text/plain": [
       "<IPython.core.display.Markdown object>"
      ]
     },
     "metadata": {},
     "output_type": "display_data"
    },
    {
     "data": {
      "text/html": [
       "<style type=\"text/css\">\n",
       "</style>\n",
       "<table id=\"T_80d70\">\n",
       "  <thead>\n",
       "    <tr>\n",
       "      <th id=\"T_80d70_level0_col0\" class=\"col_heading level0 col0\" >Collection Name</th>\n",
       "      <th id=\"T_80d70_level0_col1\" class=\"col_heading level0 col1\" >Collection Key</th>\n",
       "      <th id=\"T_80d70_level0_col2\" class=\"col_heading level0 col2\" >Entries</th>\n",
       "      <th id=\"T_80d70_level0_col3\" class=\"col_heading level0 col3\" >Domain</th>\n",
       "      <th id=\"T_80d70_level0_col4\" class=\"col_heading level0 col4\" >Type</th>\n",
       "      <th id=\"T_80d70_level0_col5\" class=\"col_heading level0 col5\" >Created</th>\n",
       "      <th id=\"T_80d70_level0_col6\" class=\"col_heading level0 col6\" >Elastic ID</th>\n",
       "    </tr>\n",
       "  </thead>\n",
       "  <tbody>\n",
       "    <tr>\n",
       "      <td id=\"T_80d70_row0_col0\" class=\"data row0 col0\" >AAAI</td>\n",
       "      <td id=\"T_80d70_row0_col1\" class=\"data row0 col1\" >aaai</td>\n",
       "      <td id=\"T_80d70_row0_col2\" class=\"data row0 col2\" >16,021</td>\n",
       "      <td id=\"T_80d70_row0_col3\" class=\"data row0 col3\" >Scientific Literature</td>\n",
       "      <td id=\"T_80d70_row0_col4\" class=\"data row0 col4\" >Document</td>\n",
       "      <td id=\"T_80d70_row0_col5\" class=\"data row0 col5\" >2024-01-23</td>\n",
       "      <td id=\"T_80d70_row0_col6\" class=\"data row0 col6\" >default</td>\n",
       "    </tr>\n",
       "    <tr>\n",
       "      <td id=\"T_80d70_row1_col0\" class=\"data row1 col0\" >ACL Anthology</td>\n",
       "      <td id=\"T_80d70_row1_col1\" class=\"data row1 col1\" >acl</td>\n",
       "      <td id=\"T_80d70_row1_col2\" class=\"data row1 col2\" >55,278</td>\n",
       "      <td id=\"T_80d70_row1_col3\" class=\"data row1 col3\" >Scientific Literature</td>\n",
       "      <td id=\"T_80d70_row1_col4\" class=\"data row1 col4\" >Document</td>\n",
       "      <td id=\"T_80d70_row1_col5\" class=\"data row1 col5\" >2023-10-05</td>\n",
       "      <td id=\"T_80d70_row1_col6\" class=\"data row1 col6\" >default</td>\n",
       "    </tr>\n",
       "    <tr>\n",
       "      <td id=\"T_80d70_row2_col0\" class=\"data row2 col0\" >Annual Reports</td>\n",
       "      <td id=\"T_80d70_row2_col1\" class=\"data row2 col1\" >annual-report</td>\n",
       "      <td id=\"T_80d70_row2_col2\" class=\"data row2 col2\" >107,375</td>\n",
       "      <td id=\"T_80d70_row2_col3\" class=\"data row2 col3\" >Business Insights</td>\n",
       "      <td id=\"T_80d70_row2_col4\" class=\"data row2 col4\" >Document</td>\n",
       "      <td id=\"T_80d70_row2_col5\" class=\"data row2 col5\" >2024-01-23</td>\n",
       "      <td id=\"T_80d70_row2_col6\" class=\"data row2 col6\" >default</td>\n",
       "    </tr>\n",
       "    <tr>\n",
       "      <td id=\"T_80d70_row3_col0\" class=\"data row3 col0\" >arXiv abstracts</td>\n",
       "      <td id=\"T_80d70_row3_col1\" class=\"data row3 col1\" >arxiv-abstract</td>\n",
       "      <td id=\"T_80d70_row3_col2\" class=\"data row3 col2\" >2,346,838</td>\n",
       "      <td id=\"T_80d70_row3_col3\" class=\"data row3 col3\" >Scientific Literature</td>\n",
       "      <td id=\"T_80d70_row3_col4\" class=\"data row3 col4\" >Document</td>\n",
       "      <td id=\"T_80d70_row3_col5\" class=\"data row3 col5\" >2023-10-24</td>\n",
       "      <td id=\"T_80d70_row3_col6\" class=\"data row3 col6\" >default</td>\n",
       "    </tr>\n",
       "    <tr>\n",
       "      <td id=\"T_80d70_row4_col0\" class=\"data row4 col0\" >arXiv full documents</td>\n",
       "      <td id=\"T_80d70_row4_col1\" class=\"data row4 col1\" >arxiv</td>\n",
       "      <td id=\"T_80d70_row4_col2\" class=\"data row4 col2\" >2,290,847</td>\n",
       "      <td id=\"T_80d70_row4_col3\" class=\"data row4 col3\" >Scientific Literature</td>\n",
       "      <td id=\"T_80d70_row4_col4\" class=\"data row4 col4\" >Document</td>\n",
       "      <td id=\"T_80d70_row4_col5\" class=\"data row4 col5\" >2024-01-27</td>\n",
       "      <td id=\"T_80d70_row4_col6\" class=\"data row4 col6\" >default</td>\n",
       "    </tr>\n",
       "    <tr>\n",
       "      <td id=\"T_80d70_row5_col0\" class=\"data row5 col0\" >ClinicalTrials</td>\n",
       "      <td id=\"T_80d70_row5_col1\" class=\"data row5 col1\" >clinical-trials</td>\n",
       "      <td id=\"T_80d70_row5_col2\" class=\"data row5 col2\" >426,424</td>\n",
       "      <td id=\"T_80d70_row5_col3\" class=\"data row5 col3\" >Healthcare & Life Sciences</td>\n",
       "      <td id=\"T_80d70_row5_col4\" class=\"data row5 col4\" >Document</td>\n",
       "      <td id=\"T_80d70_row5_col5\" class=\"data row5 col5\" >2023-06-01</td>\n",
       "      <td id=\"T_80d70_row5_col6\" class=\"data row5 col6\" >default</td>\n",
       "    </tr>\n",
       "    <tr>\n",
       "      <td id=\"T_80d70_row6_col0\" class=\"data row6 col0\" >Cord19</td>\n",
       "      <td id=\"T_80d70_row6_col1\" class=\"data row6 col1\" >cord19</td>\n",
       "      <td id=\"T_80d70_row6_col2\" class=\"data row6 col2\" >655,447</td>\n",
       "      <td id=\"T_80d70_row6_col3\" class=\"data row6 col3\" >Healthcare & Life Sciences / Scientific Literature</td>\n",
       "      <td id=\"T_80d70_row6_col4\" class=\"data row6 col4\" >Document</td>\n",
       "      <td id=\"T_80d70_row6_col5\" class=\"data row6 col5\" >2023-04-14</td>\n",
       "      <td id=\"T_80d70_row6_col6\" class=\"data row6 col6\" >default</td>\n",
       "    </tr>\n",
       "    <tr>\n",
       "      <td id=\"T_80d70_row7_col0\" class=\"data row7 col0\" >Crossref</td>\n",
       "      <td id=\"T_80d70_row7_col1\" class=\"data row7 col1\" >crossref</td>\n",
       "      <td id=\"T_80d70_row7_col2\" class=\"data row7 col2\" >131,857,641</td>\n",
       "      <td id=\"T_80d70_row7_col3\" class=\"data row7 col3\" >Scientific Literature</td>\n",
       "      <td id=\"T_80d70_row7_col4\" class=\"data row7 col4\" >Document</td>\n",
       "      <td id=\"T_80d70_row7_col5\" class=\"data row7 col5\" >2023-04-15</td>\n",
       "      <td id=\"T_80d70_row7_col6\" class=\"data row7 col6\" >default</td>\n",
       "    </tr>\n",
       "    <tr>\n",
       "      <td id=\"T_80d70_row8_col0\" class=\"data row8 col0\" >ESG Reports</td>\n",
       "      <td id=\"T_80d70_row8_col1\" class=\"data row8 col1\" >esg-report</td>\n",
       "      <td id=\"T_80d70_row8_col2\" class=\"data row8 col2\" >17,358</td>\n",
       "      <td id=\"T_80d70_row8_col3\" class=\"data row8 col3\" >Business Insights</td>\n",
       "      <td id=\"T_80d70_row8_col4\" class=\"data row8 col4\" >Document</td>\n",
       "      <td id=\"T_80d70_row8_col5\" class=\"data row8 col5\" >2024-01-22</td>\n",
       "      <td id=\"T_80d70_row8_col6\" class=\"data row8 col6\" >default</td>\n",
       "    </tr>\n",
       "    <tr>\n",
       "      <td id=\"T_80d70_row9_col0\" class=\"data row9 col0\" >IBM Redbooks</td>\n",
       "      <td id=\"T_80d70_row9_col1\" class=\"data row9 col1\" >ibm-redbooks</td>\n",
       "      <td id=\"T_80d70_row9_col2\" class=\"data row9 col2\" >2,751</td>\n",
       "      <td id=\"T_80d70_row9_col3\" class=\"data row9 col3\" >Business Insights</td>\n",
       "      <td id=\"T_80d70_row9_col4\" class=\"data row9 col4\" >Document</td>\n",
       "      <td id=\"T_80d70_row9_col5\" class=\"data row9 col5\" >2023-08-02</td>\n",
       "      <td id=\"T_80d70_row9_col6\" class=\"data row9 col6\" >default</td>\n",
       "    </tr>\n",
       "    <tr>\n",
       "      <td id=\"T_80d70_row10_col0\" class=\"data row10 col0\" >IPCC</td>\n",
       "      <td id=\"T_80d70_row10_col1\" class=\"data row10 col1\" >ipcc</td>\n",
       "      <td id=\"T_80d70_row10_col2\" class=\"data row10 col2\" >819</td>\n",
       "      <td id=\"T_80d70_row10_col3\" class=\"data row10 col3\" >Climate & Sustainability</td>\n",
       "      <td id=\"T_80d70_row10_col4\" class=\"data row10 col4\" >Document</td>\n",
       "      <td id=\"T_80d70_row10_col5\" class=\"data row10 col5\" >2023-06-15</td>\n",
       "      <td id=\"T_80d70_row10_col6\" class=\"data row10 col6\" >default</td>\n",
       "    </tr>\n",
       "    <tr>\n",
       "      <td id=\"T_80d70_row11_col0\" class=\"data row11 col0\" >PatCID</td>\n",
       "      <td id=\"T_80d70_row11_col1\" class=\"data row11 col1\" >patcid</td>\n",
       "      <td id=\"T_80d70_row11_col2\" class=\"data row11 col2\" >23,913,077</td>\n",
       "      <td id=\"T_80d70_row11_col3\" class=\"data row11 col3\" >Materials Science</td>\n",
       "      <td id=\"T_80d70_row11_col4\" class=\"data row11 col4\" >Record</td>\n",
       "      <td id=\"T_80d70_row11_col5\" class=\"data row11 col5\" >2024-10-04</td>\n",
       "      <td id=\"T_80d70_row11_col6\" class=\"data row11 col6\" >default</td>\n",
       "    </tr>\n",
       "    <tr>\n",
       "      <td id=\"T_80d70_row12_col0\" class=\"data row12 col0\" >Patent SMILES</td>\n",
       "      <td id=\"T_80d70_row12_col1\" class=\"data row12 col1\" >patent-smiles</td>\n",
       "      <td id=\"T_80d70_row12_col2\" class=\"data row12 col2\" >4,337,155</td>\n",
       "      <td id=\"T_80d70_row12_col3\" class=\"data row12 col3\" >Scientific Literature</td>\n",
       "      <td id=\"T_80d70_row12_col4\" class=\"data row12 col4\" >Document</td>\n",
       "      <td id=\"T_80d70_row12_col5\" class=\"data row12 col5\" >2024-09-30</td>\n",
       "      <td id=\"T_80d70_row12_col6\" class=\"data row12 col6\" >default</td>\n",
       "    </tr>\n",
       "    <tr>\n",
       "      <td id=\"T_80d70_row13_col0\" class=\"data row13 col0\" >Patents from USPTO</td>\n",
       "      <td id=\"T_80d70_row13_col1\" class=\"data row13 col1\" >patent-uspto</td>\n",
       "      <td id=\"T_80d70_row13_col2\" class=\"data row13 col2\" >16,739,269</td>\n",
       "      <td id=\"T_80d70_row13_col3\" class=\"data row13 col3\" >Scientific Literature</td>\n",
       "      <td id=\"T_80d70_row13_col4\" class=\"data row13 col4\" >Document</td>\n",
       "      <td id=\"T_80d70_row13_col5\" class=\"data row13 col5\" >2024-09-01</td>\n",
       "      <td id=\"T_80d70_row13_col6\" class=\"data row13 col6\" >default</td>\n",
       "    </tr>\n",
       "    <tr>\n",
       "      <td id=\"T_80d70_row14_col0\" class=\"data row14 col0\" >PLOS</td>\n",
       "      <td id=\"T_80d70_row14_col1\" class=\"data row14 col1\" >plos</td>\n",
       "      <td id=\"T_80d70_row14_col2\" class=\"data row14 col2\" >340,275</td>\n",
       "      <td id=\"T_80d70_row14_col3\" class=\"data row14 col3\" >Scientific Literature</td>\n",
       "      <td id=\"T_80d70_row14_col4\" class=\"data row14 col4\" >Document</td>\n",
       "      <td id=\"T_80d70_row14_col5\" class=\"data row14 col5\" >2024-01-22</td>\n",
       "      <td id=\"T_80d70_row14_col6\" class=\"data row14 col6\" >default</td>\n",
       "    </tr>\n",
       "    <tr>\n",
       "      <td id=\"T_80d70_row15_col0\" class=\"data row15 col0\" >Press Release</td>\n",
       "      <td id=\"T_80d70_row15_col1\" class=\"data row15 col1\" >press-release</td>\n",
       "      <td id=\"T_80d70_row15_col2\" class=\"data row15 col2\" >43,042</td>\n",
       "      <td id=\"T_80d70_row15_col3\" class=\"data row15 col3\" >Business Insights</td>\n",
       "      <td id=\"T_80d70_row15_col4\" class=\"data row15 col4\" >Document</td>\n",
       "      <td id=\"T_80d70_row15_col5\" class=\"data row15 col5\" >2024-02-27</td>\n",
       "      <td id=\"T_80d70_row15_col6\" class=\"data row15 col6\" >default</td>\n",
       "    </tr>\n",
       "    <tr>\n",
       "      <td id=\"T_80d70_row16_col0\" class=\"data row16 col0\" >PubChem</td>\n",
       "      <td id=\"T_80d70_row16_col1\" class=\"data row16 col1\" >pubchem</td>\n",
       "      <td id=\"T_80d70_row16_col2\" class=\"data row16 col2\" >118,240,842</td>\n",
       "      <td id=\"T_80d70_row16_col3\" class=\"data row16 col3\" >Materials Science</td>\n",
       "      <td id=\"T_80d70_row16_col4\" class=\"data row16 col4\" >Record</td>\n",
       "      <td id=\"T_80d70_row16_col5\" class=\"data row16 col5\" >2023-10-06</td>\n",
       "      <td id=\"T_80d70_row16_col6\" class=\"data row16 col6\" >default</td>\n",
       "    </tr>\n",
       "    <tr>\n",
       "      <td id=\"T_80d70_row17_col0\" class=\"data row17 col0\" >PubMed Central</td>\n",
       "      <td id=\"T_80d70_row17_col1\" class=\"data row17 col1\" >pubmed</td>\n",
       "      <td id=\"T_80d70_row17_col2\" class=\"data row17 col2\" >5,084,756</td>\n",
       "      <td id=\"T_80d70_row17_col3\" class=\"data row17 col3\" >Healthcare & Life Sciences</td>\n",
       "      <td id=\"T_80d70_row17_col4\" class=\"data row17 col4\" >Document</td>\n",
       "      <td id=\"T_80d70_row17_col5\" class=\"data row17 col5\" >2023-04-12</td>\n",
       "      <td id=\"T_80d70_row17_col6\" class=\"data row17 col6\" >default</td>\n",
       "    </tr>\n",
       "    <tr>\n",
       "      <td id=\"T_80d70_row18_col0\" class=\"data row18 col0\" >Red Hat</td>\n",
       "      <td id=\"T_80d70_row18_col1\" class=\"data row18 col1\" >redhat</td>\n",
       "      <td id=\"T_80d70_row18_col2\" class=\"data row18 col2\" >6,213</td>\n",
       "      <td id=\"T_80d70_row18_col3\" class=\"data row18 col3\" >Business Insights</td>\n",
       "      <td id=\"T_80d70_row18_col4\" class=\"data row18 col4\" >Document</td>\n",
       "      <td id=\"T_80d70_row18_col5\" class=\"data row18 col5\" >2023-07-14</td>\n",
       "      <td id=\"T_80d70_row18_col6\" class=\"data row18 col6\" >default</td>\n",
       "    </tr>\n",
       "    <tr>\n",
       "      <td id=\"T_80d70_row19_col0\" class=\"data row19 col0\" >Semantic Scholar Academic Graph</td>\n",
       "      <td id=\"T_80d70_row19_col1\" class=\"data row19 col1\" >semantic-scholar</td>\n",
       "      <td id=\"T_80d70_row19_col2\" class=\"data row19 col2\" >212,110,410</td>\n",
       "      <td id=\"T_80d70_row19_col3\" class=\"data row19 col3\" >Scientific Literature</td>\n",
       "      <td id=\"T_80d70_row19_col4\" class=\"data row19 col4\" >Document</td>\n",
       "      <td id=\"T_80d70_row19_col5\" class=\"data row19 col5\" >2023-05-28</td>\n",
       "      <td id=\"T_80d70_row19_col6\" class=\"data row19 col6\" >default</td>\n",
       "    </tr>\n",
       "  </tbody>\n",
       "</table>\n"
      ],
      "text/plain": [
       "<pandas.io.formats.style.Styler at 0x17575fbb0>"
      ]
     },
     "metadata": {},
     "output_type": "display_data"
    }
   ],
   "source": [
    "# With details\n",
    "%openad ds list all collections details"
   ]
  },
  {
   "cell_type": "code",
   "execution_count": 22,
   "id": "cfe1fefc-81bf-47a7-ab09-d24e009406c6",
   "metadata": {
    "tags": []
   },
   "outputs": [
    {
     "data": {
      "text/markdown": [
       "<span style=\"color: #ccc\">Next up, you can run: </span>`result open`/`edit`/`copy`/`display`/`as dataframe`/`save [as '<filename.csv>']` <br> \n"
      ],
      "text/plain": [
       "<IPython.core.display.Markdown object>"
      ]
     },
     "metadata": {},
     "output_type": "display_data"
    },
    {
     "data": {
      "text/html": [
       "<style type=\"text/css\">\n",
       "</style>\n",
       "<table id=\"T_8f569\">\n",
       "  <thead>\n",
       "    <tr>\n",
       "      <th id=\"T_8f569_level0_col0\" class=\"col_heading level0 col0\" >Collection Name</th>\n",
       "      <th id=\"T_8f569_level0_col1\" class=\"col_heading level0 col1\" >Collection Key</th>\n",
       "      <th id=\"T_8f569_level0_col2\" class=\"col_heading level0 col2\" >Entries</th>\n",
       "      <th id=\"T_8f569_level0_col3\" class=\"col_heading level0 col3\" >Domain</th>\n",
       "      <th id=\"T_8f569_level0_col4\" class=\"col_heading level0 col4\" >Type</th>\n",
       "      <th id=\"T_8f569_level0_col5\" class=\"col_heading level0 col5\" >Created</th>\n",
       "      <th id=\"T_8f569_level0_col6\" class=\"col_heading level0 col6\" >Elastic ID</th>\n",
       "    </tr>\n",
       "  </thead>\n",
       "  <tbody>\n",
       "    <tr>\n",
       "      <td id=\"T_8f569_row0_col0\" class=\"data row0 col0\" >AAAI</td>\n",
       "      <td id=\"T_8f569_row0_col1\" class=\"data row0 col1\" >aaai</td>\n",
       "      <td id=\"T_8f569_row0_col2\" class=\"data row0 col2\" >16,021</td>\n",
       "      <td id=\"T_8f569_row0_col3\" class=\"data row0 col3\" >Scientific Literature</td>\n",
       "      <td id=\"T_8f569_row0_col4\" class=\"data row0 col4\" >Document</td>\n",
       "      <td id=\"T_8f569_row0_col5\" class=\"data row0 col5\" >2024-01-23</td>\n",
       "      <td id=\"T_8f569_row0_col6\" class=\"data row0 col6\" >default</td>\n",
       "    </tr>\n",
       "    <tr>\n",
       "      <td id=\"T_8f569_row1_col0\" class=\"data row1 col0\" >ACL Anthology</td>\n",
       "      <td id=\"T_8f569_row1_col1\" class=\"data row1 col1\" >acl</td>\n",
       "      <td id=\"T_8f569_row1_col2\" class=\"data row1 col2\" >55,278</td>\n",
       "      <td id=\"T_8f569_row1_col3\" class=\"data row1 col3\" >Scientific Literature</td>\n",
       "      <td id=\"T_8f569_row1_col4\" class=\"data row1 col4\" >Document</td>\n",
       "      <td id=\"T_8f569_row1_col5\" class=\"data row1 col5\" >2023-10-05</td>\n",
       "      <td id=\"T_8f569_row1_col6\" class=\"data row1 col6\" >default</td>\n",
       "    </tr>\n",
       "    <tr>\n",
       "      <td id=\"T_8f569_row2_col0\" class=\"data row2 col0\" >Annual Reports</td>\n",
       "      <td id=\"T_8f569_row2_col1\" class=\"data row2 col1\" >annual-report</td>\n",
       "      <td id=\"T_8f569_row2_col2\" class=\"data row2 col2\" >107,375</td>\n",
       "      <td id=\"T_8f569_row2_col3\" class=\"data row2 col3\" >Business Insights</td>\n",
       "      <td id=\"T_8f569_row2_col4\" class=\"data row2 col4\" >Document</td>\n",
       "      <td id=\"T_8f569_row2_col5\" class=\"data row2 col5\" >2024-01-23</td>\n",
       "      <td id=\"T_8f569_row2_col6\" class=\"data row2 col6\" >default</td>\n",
       "    </tr>\n",
       "    <tr>\n",
       "      <td id=\"T_8f569_row3_col0\" class=\"data row3 col0\" >arXiv abstracts</td>\n",
       "      <td id=\"T_8f569_row3_col1\" class=\"data row3 col1\" >arxiv-abstract</td>\n",
       "      <td id=\"T_8f569_row3_col2\" class=\"data row3 col2\" >2,346,838</td>\n",
       "      <td id=\"T_8f569_row3_col3\" class=\"data row3 col3\" >Scientific Literature</td>\n",
       "      <td id=\"T_8f569_row3_col4\" class=\"data row3 col4\" >Document</td>\n",
       "      <td id=\"T_8f569_row3_col5\" class=\"data row3 col5\" >2023-10-24</td>\n",
       "      <td id=\"T_8f569_row3_col6\" class=\"data row3 col6\" >default</td>\n",
       "    </tr>\n",
       "    <tr>\n",
       "      <td id=\"T_8f569_row4_col0\" class=\"data row4 col0\" >arXiv full documents</td>\n",
       "      <td id=\"T_8f569_row4_col1\" class=\"data row4 col1\" >arxiv</td>\n",
       "      <td id=\"T_8f569_row4_col2\" class=\"data row4 col2\" >2,290,847</td>\n",
       "      <td id=\"T_8f569_row4_col3\" class=\"data row4 col3\" >Scientific Literature</td>\n",
       "      <td id=\"T_8f569_row4_col4\" class=\"data row4 col4\" >Document</td>\n",
       "      <td id=\"T_8f569_row4_col5\" class=\"data row4 col5\" >2024-01-27</td>\n",
       "      <td id=\"T_8f569_row4_col6\" class=\"data row4 col6\" >default</td>\n",
       "    </tr>\n",
       "    <tr>\n",
       "      <td id=\"T_8f569_row5_col0\" class=\"data row5 col0\" >ClinicalTrials</td>\n",
       "      <td id=\"T_8f569_row5_col1\" class=\"data row5 col1\" >clinical-trials</td>\n",
       "      <td id=\"T_8f569_row5_col2\" class=\"data row5 col2\" >426,424</td>\n",
       "      <td id=\"T_8f569_row5_col3\" class=\"data row5 col3\" >Healthcare & Life Sciences</td>\n",
       "      <td id=\"T_8f569_row5_col4\" class=\"data row5 col4\" >Document</td>\n",
       "      <td id=\"T_8f569_row5_col5\" class=\"data row5 col5\" >2023-06-01</td>\n",
       "      <td id=\"T_8f569_row5_col6\" class=\"data row5 col6\" >default</td>\n",
       "    </tr>\n",
       "    <tr>\n",
       "      <td id=\"T_8f569_row6_col0\" class=\"data row6 col0\" >Cord19</td>\n",
       "      <td id=\"T_8f569_row6_col1\" class=\"data row6 col1\" >cord19</td>\n",
       "      <td id=\"T_8f569_row6_col2\" class=\"data row6 col2\" >655,447</td>\n",
       "      <td id=\"T_8f569_row6_col3\" class=\"data row6 col3\" >Healthcare & Life Sciences / Scientific Literature</td>\n",
       "      <td id=\"T_8f569_row6_col4\" class=\"data row6 col4\" >Document</td>\n",
       "      <td id=\"T_8f569_row6_col5\" class=\"data row6 col5\" >2023-04-14</td>\n",
       "      <td id=\"T_8f569_row6_col6\" class=\"data row6 col6\" >default</td>\n",
       "    </tr>\n",
       "    <tr>\n",
       "      <td id=\"T_8f569_row7_col0\" class=\"data row7 col0\" >Crossref</td>\n",
       "      <td id=\"T_8f569_row7_col1\" class=\"data row7 col1\" >crossref</td>\n",
       "      <td id=\"T_8f569_row7_col2\" class=\"data row7 col2\" >131,857,641</td>\n",
       "      <td id=\"T_8f569_row7_col3\" class=\"data row7 col3\" >Scientific Literature</td>\n",
       "      <td id=\"T_8f569_row7_col4\" class=\"data row7 col4\" >Document</td>\n",
       "      <td id=\"T_8f569_row7_col5\" class=\"data row7 col5\" >2023-04-15</td>\n",
       "      <td id=\"T_8f569_row7_col6\" class=\"data row7 col6\" >default</td>\n",
       "    </tr>\n",
       "    <tr>\n",
       "      <td id=\"T_8f569_row8_col0\" class=\"data row8 col0\" >ESG Reports</td>\n",
       "      <td id=\"T_8f569_row8_col1\" class=\"data row8 col1\" >esg-report</td>\n",
       "      <td id=\"T_8f569_row8_col2\" class=\"data row8 col2\" >17,358</td>\n",
       "      <td id=\"T_8f569_row8_col3\" class=\"data row8 col3\" >Business Insights</td>\n",
       "      <td id=\"T_8f569_row8_col4\" class=\"data row8 col4\" >Document</td>\n",
       "      <td id=\"T_8f569_row8_col5\" class=\"data row8 col5\" >2024-01-22</td>\n",
       "      <td id=\"T_8f569_row8_col6\" class=\"data row8 col6\" >default</td>\n",
       "    </tr>\n",
       "    <tr>\n",
       "      <td id=\"T_8f569_row9_col0\" class=\"data row9 col0\" >IBM Redbooks</td>\n",
       "      <td id=\"T_8f569_row9_col1\" class=\"data row9 col1\" >ibm-redbooks</td>\n",
       "      <td id=\"T_8f569_row9_col2\" class=\"data row9 col2\" >2,751</td>\n",
       "      <td id=\"T_8f569_row9_col3\" class=\"data row9 col3\" >Business Insights</td>\n",
       "      <td id=\"T_8f569_row9_col4\" class=\"data row9 col4\" >Document</td>\n",
       "      <td id=\"T_8f569_row9_col5\" class=\"data row9 col5\" >2023-08-02</td>\n",
       "      <td id=\"T_8f569_row9_col6\" class=\"data row9 col6\" >default</td>\n",
       "    </tr>\n",
       "    <tr>\n",
       "      <td id=\"T_8f569_row10_col0\" class=\"data row10 col0\" >IPCC</td>\n",
       "      <td id=\"T_8f569_row10_col1\" class=\"data row10 col1\" >ipcc</td>\n",
       "      <td id=\"T_8f569_row10_col2\" class=\"data row10 col2\" >819</td>\n",
       "      <td id=\"T_8f569_row10_col3\" class=\"data row10 col3\" >Climate & Sustainability</td>\n",
       "      <td id=\"T_8f569_row10_col4\" class=\"data row10 col4\" >Document</td>\n",
       "      <td id=\"T_8f569_row10_col5\" class=\"data row10 col5\" >2023-06-15</td>\n",
       "      <td id=\"T_8f569_row10_col6\" class=\"data row10 col6\" >default</td>\n",
       "    </tr>\n",
       "    <tr>\n",
       "      <td id=\"T_8f569_row11_col0\" class=\"data row11 col0\" >PatCID</td>\n",
       "      <td id=\"T_8f569_row11_col1\" class=\"data row11 col1\" >patcid</td>\n",
       "      <td id=\"T_8f569_row11_col2\" class=\"data row11 col2\" >23,913,077</td>\n",
       "      <td id=\"T_8f569_row11_col3\" class=\"data row11 col3\" >Materials Science</td>\n",
       "      <td id=\"T_8f569_row11_col4\" class=\"data row11 col4\" >Record</td>\n",
       "      <td id=\"T_8f569_row11_col5\" class=\"data row11 col5\" >2024-10-04</td>\n",
       "      <td id=\"T_8f569_row11_col6\" class=\"data row11 col6\" >default</td>\n",
       "    </tr>\n",
       "    <tr>\n",
       "      <td id=\"T_8f569_row12_col0\" class=\"data row12 col0\" >Patent SMILES</td>\n",
       "      <td id=\"T_8f569_row12_col1\" class=\"data row12 col1\" >patent-smiles</td>\n",
       "      <td id=\"T_8f569_row12_col2\" class=\"data row12 col2\" >4,337,155</td>\n",
       "      <td id=\"T_8f569_row12_col3\" class=\"data row12 col3\" >Scientific Literature</td>\n",
       "      <td id=\"T_8f569_row12_col4\" class=\"data row12 col4\" >Document</td>\n",
       "      <td id=\"T_8f569_row12_col5\" class=\"data row12 col5\" >2024-09-30</td>\n",
       "      <td id=\"T_8f569_row12_col6\" class=\"data row12 col6\" >default</td>\n",
       "    </tr>\n",
       "    <tr>\n",
       "      <td id=\"T_8f569_row13_col0\" class=\"data row13 col0\" >Patents from USPTO</td>\n",
       "      <td id=\"T_8f569_row13_col1\" class=\"data row13 col1\" >patent-uspto</td>\n",
       "      <td id=\"T_8f569_row13_col2\" class=\"data row13 col2\" >16,739,269</td>\n",
       "      <td id=\"T_8f569_row13_col3\" class=\"data row13 col3\" >Scientific Literature</td>\n",
       "      <td id=\"T_8f569_row13_col4\" class=\"data row13 col4\" >Document</td>\n",
       "      <td id=\"T_8f569_row13_col5\" class=\"data row13 col5\" >2024-09-01</td>\n",
       "      <td id=\"T_8f569_row13_col6\" class=\"data row13 col6\" >default</td>\n",
       "    </tr>\n",
       "    <tr>\n",
       "      <td id=\"T_8f569_row14_col0\" class=\"data row14 col0\" >PLOS</td>\n",
       "      <td id=\"T_8f569_row14_col1\" class=\"data row14 col1\" >plos</td>\n",
       "      <td id=\"T_8f569_row14_col2\" class=\"data row14 col2\" >340,275</td>\n",
       "      <td id=\"T_8f569_row14_col3\" class=\"data row14 col3\" >Scientific Literature</td>\n",
       "      <td id=\"T_8f569_row14_col4\" class=\"data row14 col4\" >Document</td>\n",
       "      <td id=\"T_8f569_row14_col5\" class=\"data row14 col5\" >2024-01-22</td>\n",
       "      <td id=\"T_8f569_row14_col6\" class=\"data row14 col6\" >default</td>\n",
       "    </tr>\n",
       "    <tr>\n",
       "      <td id=\"T_8f569_row15_col0\" class=\"data row15 col0\" >Press Release</td>\n",
       "      <td id=\"T_8f569_row15_col1\" class=\"data row15 col1\" >press-release</td>\n",
       "      <td id=\"T_8f569_row15_col2\" class=\"data row15 col2\" >43,042</td>\n",
       "      <td id=\"T_8f569_row15_col3\" class=\"data row15 col3\" >Business Insights</td>\n",
       "      <td id=\"T_8f569_row15_col4\" class=\"data row15 col4\" >Document</td>\n",
       "      <td id=\"T_8f569_row15_col5\" class=\"data row15 col5\" >2024-02-27</td>\n",
       "      <td id=\"T_8f569_row15_col6\" class=\"data row15 col6\" >default</td>\n",
       "    </tr>\n",
       "    <tr>\n",
       "      <td id=\"T_8f569_row16_col0\" class=\"data row16 col0\" >PubChem</td>\n",
       "      <td id=\"T_8f569_row16_col1\" class=\"data row16 col1\" >pubchem</td>\n",
       "      <td id=\"T_8f569_row16_col2\" class=\"data row16 col2\" >118,240,842</td>\n",
       "      <td id=\"T_8f569_row16_col3\" class=\"data row16 col3\" >Materials Science</td>\n",
       "      <td id=\"T_8f569_row16_col4\" class=\"data row16 col4\" >Record</td>\n",
       "      <td id=\"T_8f569_row16_col5\" class=\"data row16 col5\" >2023-10-06</td>\n",
       "      <td id=\"T_8f569_row16_col6\" class=\"data row16 col6\" >default</td>\n",
       "    </tr>\n",
       "    <tr>\n",
       "      <td id=\"T_8f569_row17_col0\" class=\"data row17 col0\" >PubMed Central</td>\n",
       "      <td id=\"T_8f569_row17_col1\" class=\"data row17 col1\" >pubmed</td>\n",
       "      <td id=\"T_8f569_row17_col2\" class=\"data row17 col2\" >5,084,756</td>\n",
       "      <td id=\"T_8f569_row17_col3\" class=\"data row17 col3\" >Healthcare & Life Sciences</td>\n",
       "      <td id=\"T_8f569_row17_col4\" class=\"data row17 col4\" >Document</td>\n",
       "      <td id=\"T_8f569_row17_col5\" class=\"data row17 col5\" >2023-04-12</td>\n",
       "      <td id=\"T_8f569_row17_col6\" class=\"data row17 col6\" >default</td>\n",
       "    </tr>\n",
       "    <tr>\n",
       "      <td id=\"T_8f569_row18_col0\" class=\"data row18 col0\" >Red Hat</td>\n",
       "      <td id=\"T_8f569_row18_col1\" class=\"data row18 col1\" >redhat</td>\n",
       "      <td id=\"T_8f569_row18_col2\" class=\"data row18 col2\" >6,213</td>\n",
       "      <td id=\"T_8f569_row18_col3\" class=\"data row18 col3\" >Business Insights</td>\n",
       "      <td id=\"T_8f569_row18_col4\" class=\"data row18 col4\" >Document</td>\n",
       "      <td id=\"T_8f569_row18_col5\" class=\"data row18 col5\" >2023-07-14</td>\n",
       "      <td id=\"T_8f569_row18_col6\" class=\"data row18 col6\" >default</td>\n",
       "    </tr>\n",
       "    <tr>\n",
       "      <td id=\"T_8f569_row19_col0\" class=\"data row19 col0\" >Semantic Scholar Academic Graph</td>\n",
       "      <td id=\"T_8f569_row19_col1\" class=\"data row19 col1\" >semantic-scholar</td>\n",
       "      <td id=\"T_8f569_row19_col2\" class=\"data row19 col2\" >212,110,410</td>\n",
       "      <td id=\"T_8f569_row19_col3\" class=\"data row19 col3\" >Scientific Literature</td>\n",
       "      <td id=\"T_8f569_row19_col4\" class=\"data row19 col4\" >Document</td>\n",
       "      <td id=\"T_8f569_row19_col5\" class=\"data row19 col5\" >2023-05-28</td>\n",
       "      <td id=\"T_8f569_row19_col6\" class=\"data row19 col6\" >default</td>\n",
       "    </tr>\n",
       "  </tbody>\n",
       "</table>\n"
      ],
      "text/plain": [
       "<pandas.io.formats.style.Styler at 0x174700ca0>"
      ]
     },
     "metadata": {},
     "output_type": "display_data"
    },
    {
     "data": {
      "text/markdown": [
       "To see any particular collection's description, run: <br> \n",
       "`ds list collection details '<collection_name_or_key>'` <br> \n",
       "\n",
       "To see all collections' descriptions at once, run: <br> \n",
       "`ds list all collections details` <br> \n"
      ],
      "text/plain": [
       "<IPython.core.display.Markdown object>"
      ]
     },
     "metadata": {},
     "output_type": "display_data"
    },
    {
     "data": {
      "text/markdown": [
       "<span style=\"color: #ffa500\">Warning: A file with the name 'all_collections.csv' already exists. <br> \n",
       "<span style=\"color: #090\">Saved as <span style=\"color: #dc0\">all_collections-4.csv</span> instead.</span></span> <br> \n"
      ],
      "text/plain": [
       "<IPython.core.display.Markdown object>"
      ]
     },
     "metadata": {},
     "output_type": "display_data"
    }
   ],
   "source": [
    "# Save as\n",
    "%openad ds list all collections save as 'all_collections.csv'"
   ]
  },
  {
   "cell_type": "code",
   "execution_count": 24,
   "id": "95ba7592-d953-4f0b-8431-5c2db20bc68c",
   "metadata": {
    "tags": []
   },
   "outputs": [
    {
     "data": {
      "text/html": [
       "<div>\n",
       "<style scoped>\n",
       "    .dataframe tbody tr th:only-of-type {\n",
       "        vertical-align: middle;\n",
       "    }\n",
       "\n",
       "    .dataframe tbody tr th {\n",
       "        vertical-align: top;\n",
       "    }\n",
       "\n",
       "    .dataframe thead th {\n",
       "        text-align: right;\n",
       "    }\n",
       "</style>\n",
       "<table border=\"1\" class=\"dataframe\">\n",
       "  <thead>\n",
       "    <tr style=\"text-align: right;\">\n",
       "      <th></th>\n",
       "      <th>Collection Name</th>\n",
       "      <th>Collection Key</th>\n",
       "      <th>Entries</th>\n",
       "      <th>Domain</th>\n",
       "      <th>Type</th>\n",
       "      <th>Created</th>\n",
       "      <th>Elastic ID</th>\n",
       "    </tr>\n",
       "  </thead>\n",
       "  <tbody>\n",
       "    <tr>\n",
       "      <th>0</th>\n",
       "      <td>AAAI</td>\n",
       "      <td>aaai</td>\n",
       "      <td>16021</td>\n",
       "      <td>Scientific Literature</td>\n",
       "      <td>Document</td>\n",
       "      <td>2024-01-23</td>\n",
       "      <td>default</td>\n",
       "    </tr>\n",
       "    <tr>\n",
       "      <th>1</th>\n",
       "      <td>ACL Anthology</td>\n",
       "      <td>acl</td>\n",
       "      <td>55278</td>\n",
       "      <td>Scientific Literature</td>\n",
       "      <td>Document</td>\n",
       "      <td>2023-10-05</td>\n",
       "      <td>default</td>\n",
       "    </tr>\n",
       "    <tr>\n",
       "      <th>2</th>\n",
       "      <td>Annual Reports</td>\n",
       "      <td>annual-report</td>\n",
       "      <td>107375</td>\n",
       "      <td>Business Insights</td>\n",
       "      <td>Document</td>\n",
       "      <td>2024-01-23</td>\n",
       "      <td>default</td>\n",
       "    </tr>\n",
       "    <tr>\n",
       "      <th>3</th>\n",
       "      <td>arXiv abstracts</td>\n",
       "      <td>arxiv-abstract</td>\n",
       "      <td>2346838</td>\n",
       "      <td>Scientific Literature</td>\n",
       "      <td>Document</td>\n",
       "      <td>2023-10-24</td>\n",
       "      <td>default</td>\n",
       "    </tr>\n",
       "    <tr>\n",
       "      <th>4</th>\n",
       "      <td>arXiv full documents</td>\n",
       "      <td>arxiv</td>\n",
       "      <td>2290847</td>\n",
       "      <td>Scientific Literature</td>\n",
       "      <td>Document</td>\n",
       "      <td>2024-01-27</td>\n",
       "      <td>default</td>\n",
       "    </tr>\n",
       "    <tr>\n",
       "      <th>5</th>\n",
       "      <td>ClinicalTrials</td>\n",
       "      <td>clinical-trials</td>\n",
       "      <td>426424</td>\n",
       "      <td>Healthcare &amp; Life Sciences</td>\n",
       "      <td>Document</td>\n",
       "      <td>2023-06-01</td>\n",
       "      <td>default</td>\n",
       "    </tr>\n",
       "    <tr>\n",
       "      <th>6</th>\n",
       "      <td>Cord19</td>\n",
       "      <td>cord19</td>\n",
       "      <td>655447</td>\n",
       "      <td>Healthcare &amp; Life Sciences / Scientific Literature</td>\n",
       "      <td>Document</td>\n",
       "      <td>2023-04-14</td>\n",
       "      <td>default</td>\n",
       "    </tr>\n",
       "    <tr>\n",
       "      <th>7</th>\n",
       "      <td>Crossref</td>\n",
       "      <td>crossref</td>\n",
       "      <td>131857641</td>\n",
       "      <td>Scientific Literature</td>\n",
       "      <td>Document</td>\n",
       "      <td>2023-04-15</td>\n",
       "      <td>default</td>\n",
       "    </tr>\n",
       "    <tr>\n",
       "      <th>8</th>\n",
       "      <td>ESG Reports</td>\n",
       "      <td>esg-report</td>\n",
       "      <td>17358</td>\n",
       "      <td>Business Insights</td>\n",
       "      <td>Document</td>\n",
       "      <td>2024-01-22</td>\n",
       "      <td>default</td>\n",
       "    </tr>\n",
       "    <tr>\n",
       "      <th>9</th>\n",
       "      <td>IBM Redbooks</td>\n",
       "      <td>ibm-redbooks</td>\n",
       "      <td>2751</td>\n",
       "      <td>Business Insights</td>\n",
       "      <td>Document</td>\n",
       "      <td>2023-08-02</td>\n",
       "      <td>default</td>\n",
       "    </tr>\n",
       "    <tr>\n",
       "      <th>10</th>\n",
       "      <td>IPCC</td>\n",
       "      <td>ipcc</td>\n",
       "      <td>819</td>\n",
       "      <td>Climate &amp; Sustainability</td>\n",
       "      <td>Document</td>\n",
       "      <td>2023-06-15</td>\n",
       "      <td>default</td>\n",
       "    </tr>\n",
       "    <tr>\n",
       "      <th>11</th>\n",
       "      <td>PatCID</td>\n",
       "      <td>patcid</td>\n",
       "      <td>23913077</td>\n",
       "      <td>Materials Science</td>\n",
       "      <td>Record</td>\n",
       "      <td>2024-10-04</td>\n",
       "      <td>default</td>\n",
       "    </tr>\n",
       "    <tr>\n",
       "      <th>12</th>\n",
       "      <td>Patent SMILES</td>\n",
       "      <td>patent-smiles</td>\n",
       "      <td>4337155</td>\n",
       "      <td>Scientific Literature</td>\n",
       "      <td>Document</td>\n",
       "      <td>2024-09-30</td>\n",
       "      <td>default</td>\n",
       "    </tr>\n",
       "    <tr>\n",
       "      <th>13</th>\n",
       "      <td>Patents from USPTO</td>\n",
       "      <td>patent-uspto</td>\n",
       "      <td>16739269</td>\n",
       "      <td>Scientific Literature</td>\n",
       "      <td>Document</td>\n",
       "      <td>2024-09-01</td>\n",
       "      <td>default</td>\n",
       "    </tr>\n",
       "    <tr>\n",
       "      <th>14</th>\n",
       "      <td>PLOS</td>\n",
       "      <td>plos</td>\n",
       "      <td>340275</td>\n",
       "      <td>Scientific Literature</td>\n",
       "      <td>Document</td>\n",
       "      <td>2024-01-22</td>\n",
       "      <td>default</td>\n",
       "    </tr>\n",
       "    <tr>\n",
       "      <th>15</th>\n",
       "      <td>Press Release</td>\n",
       "      <td>press-release</td>\n",
       "      <td>43042</td>\n",
       "      <td>Business Insights</td>\n",
       "      <td>Document</td>\n",
       "      <td>2024-02-27</td>\n",
       "      <td>default</td>\n",
       "    </tr>\n",
       "    <tr>\n",
       "      <th>16</th>\n",
       "      <td>PubChem</td>\n",
       "      <td>pubchem</td>\n",
       "      <td>118240842</td>\n",
       "      <td>Materials Science</td>\n",
       "      <td>Record</td>\n",
       "      <td>2023-10-06</td>\n",
       "      <td>default</td>\n",
       "    </tr>\n",
       "    <tr>\n",
       "      <th>17</th>\n",
       "      <td>PubMed Central</td>\n",
       "      <td>pubmed</td>\n",
       "      <td>5084756</td>\n",
       "      <td>Healthcare &amp; Life Sciences</td>\n",
       "      <td>Document</td>\n",
       "      <td>2023-04-12</td>\n",
       "      <td>default</td>\n",
       "    </tr>\n",
       "    <tr>\n",
       "      <th>18</th>\n",
       "      <td>Red Hat</td>\n",
       "      <td>redhat</td>\n",
       "      <td>6213</td>\n",
       "      <td>Business Insights</td>\n",
       "      <td>Document</td>\n",
       "      <td>2023-07-14</td>\n",
       "      <td>default</td>\n",
       "    </tr>\n",
       "    <tr>\n",
       "      <th>19</th>\n",
       "      <td>Semantic Scholar Academic Graph</td>\n",
       "      <td>semantic-scholar</td>\n",
       "      <td>212110410</td>\n",
       "      <td>Scientific Literature</td>\n",
       "      <td>Document</td>\n",
       "      <td>2023-05-28</td>\n",
       "      <td>default</td>\n",
       "    </tr>\n",
       "  </tbody>\n",
       "</table>\n",
       "</div>"
      ],
      "text/plain": [
       "                    Collection Name    Collection Key    Entries   \n",
       "0                              AAAI              aaai      16021  \\\n",
       "1                     ACL Anthology               acl      55278   \n",
       "2                    Annual Reports     annual-report     107375   \n",
       "3                   arXiv abstracts    arxiv-abstract    2346838   \n",
       "4              arXiv full documents             arxiv    2290847   \n",
       "5                    ClinicalTrials   clinical-trials     426424   \n",
       "6                            Cord19            cord19     655447   \n",
       "7                          Crossref          crossref  131857641   \n",
       "8                       ESG Reports        esg-report      17358   \n",
       "9                      IBM Redbooks      ibm-redbooks       2751   \n",
       "10                             IPCC              ipcc        819   \n",
       "11                           PatCID            patcid   23913077   \n",
       "12                    Patent SMILES     patent-smiles    4337155   \n",
       "13               Patents from USPTO      patent-uspto   16739269   \n",
       "14                             PLOS              plos     340275   \n",
       "15                    Press Release     press-release      43042   \n",
       "16                          PubChem           pubchem  118240842   \n",
       "17                   PubMed Central            pubmed    5084756   \n",
       "18                          Red Hat            redhat       6213   \n",
       "19  Semantic Scholar Academic Graph  semantic-scholar  212110410   \n",
       "\n",
       "                                                Domain      Type     Created   \n",
       "0                                Scientific Literature  Document  2024-01-23  \\\n",
       "1                                Scientific Literature  Document  2023-10-05   \n",
       "2                                    Business Insights  Document  2024-01-23   \n",
       "3                                Scientific Literature  Document  2023-10-24   \n",
       "4                                Scientific Literature  Document  2024-01-27   \n",
       "5                           Healthcare & Life Sciences  Document  2023-06-01   \n",
       "6   Healthcare & Life Sciences / Scientific Literature  Document  2023-04-14   \n",
       "7                                Scientific Literature  Document  2023-04-15   \n",
       "8                                    Business Insights  Document  2024-01-22   \n",
       "9                                    Business Insights  Document  2023-08-02   \n",
       "10                            Climate & Sustainability  Document  2023-06-15   \n",
       "11                                   Materials Science    Record  2024-10-04   \n",
       "12                               Scientific Literature  Document  2024-09-30   \n",
       "13                               Scientific Literature  Document  2024-09-01   \n",
       "14                               Scientific Literature  Document  2024-01-22   \n",
       "15                                   Business Insights  Document  2024-02-27   \n",
       "16                                   Materials Science    Record  2023-10-06   \n",
       "17                          Healthcare & Life Sciences  Document  2023-04-12   \n",
       "18                                   Business Insights  Document  2023-07-14   \n",
       "19                               Scientific Literature  Document  2023-05-28   \n",
       "\n",
       "   Elastic ID  \n",
       "0     default  \n",
       "1     default  \n",
       "2     default  \n",
       "3     default  \n",
       "4     default  \n",
       "5     default  \n",
       "6     default  \n",
       "7     default  \n",
       "8     default  \n",
       "9     default  \n",
       "10    default  \n",
       "11    default  \n",
       "12    default  \n",
       "13    default  \n",
       "14    default  \n",
       "15    default  \n",
       "16    default  \n",
       "17    default  \n",
       "18    default  \n",
       "19    default  "
      ]
     },
     "execution_count": 24,
     "metadata": {},
     "output_type": "execute_result"
    }
   ],
   "source": [
    "# Data API\n",
    "data = %openadd ds list all collections\n",
    "data"
   ]
  },
  {
   "cell_type": "markdown",
   "id": "be9d953a-b019-4b1a-a54c-5120ebf3cb60",
   "metadata": {},
   "source": [
    "<br>"
   ]
  },
  {
   "cell_type": "markdown",
   "id": "4a330b88-ab7c-4a80-9f8e-9ab284fcb7ac",
   "metadata": {},
   "source": [
    "### List all domains"
   ]
  },
  {
   "cell_type": "code",
   "execution_count": 25,
   "id": "905bd1b3-0916-4a3f-ae92-a508a728b983",
   "metadata": {
    "tags": []
   },
   "outputs": [
    {
     "data": {
      "text/markdown": [
       "`ds list all domains [ save as '<filename.csv>' ]` <br> \n",
       "<span style=\"color: #ccc\">------------------------------------------------</span> <br> \n",
       "List all available Deep Search domains. <br> \n",
       "\n",
       "Use the command `list all collections` to find available domains. <br> \n",
       "\n",
       "Use the `save as` clause to save the results as a csv file in your current workspace. <br> \n",
       "\n",
       "Examples: <br> \n",
       "- `ds list all domains` <br> \n",
       "- `ds list all domains save as 'all_domains'` <br> \n",
       "\n",
       "\n",
       "\n",
       " i  <span style=\"color: #ccc\">To see all available Deep Search commands, run `ds`</span> <br> \n"
      ],
      "text/plain": [
       "<IPython.core.display.Markdown object>"
      ]
     },
     "execution_count": 25,
     "metadata": {},
     "output_type": "execute_result"
    }
   ],
   "source": [
    "# Command help\n",
    "%openad ds list all domains ?"
   ]
  },
  {
   "cell_type": "code",
   "execution_count": 26,
   "id": "ec692f96-8afa-4d8b-9905-56b035326276",
   "metadata": {
    "tags": []
   },
   "outputs": [
    {
     "data": {
      "text/markdown": [
       "<span style=\"color: #ccc\">Next up, you can run: </span>`result open`/`edit`/`copy`/`display`/`as dataframe`/`save [as '<filename.csv>']` <br> \n"
      ],
      "text/plain": [
       "<IPython.core.display.Markdown object>"
      ]
     },
     "metadata": {},
     "output_type": "display_data"
    },
    {
     "data": {
      "text/html": [
       "<style type=\"text/css\">\n",
       "</style>\n",
       "<table id=\"T_ea65e\">\n",
       "  <thead>\n",
       "    <tr>\n",
       "      <th id=\"T_ea65e_level0_col0\" class=\"col_heading level0 col0\" >Domain</th>\n",
       "      <th id=\"T_ea65e_level0_col1\" class=\"col_heading level0 col1\" >Collections</th>\n",
       "    </tr>\n",
       "  </thead>\n",
       "  <tbody>\n",
       "    <tr>\n",
       "      <td id=\"T_ea65e_row0_col0\" class=\"data row0 col0\" >Scientific Literature</td>\n",
       "      <td id=\"T_ea65e_row0_col1\" class=\"data row0 col1\" >10</td>\n",
       "    </tr>\n",
       "    <tr>\n",
       "      <td id=\"T_ea65e_row1_col0\" class=\"data row1 col0\" >Business Insights</td>\n",
       "      <td id=\"T_ea65e_row1_col1\" class=\"data row1 col1\" >5</td>\n",
       "    </tr>\n",
       "    <tr>\n",
       "      <td id=\"T_ea65e_row2_col0\" class=\"data row2 col0\" >Healthcare & Life Sciences</td>\n",
       "      <td id=\"T_ea65e_row2_col1\" class=\"data row2 col1\" >3</td>\n",
       "    </tr>\n",
       "    <tr>\n",
       "      <td id=\"T_ea65e_row3_col0\" class=\"data row3 col0\" >Climate & Sustainability</td>\n",
       "      <td id=\"T_ea65e_row3_col1\" class=\"data row3 col1\" >1</td>\n",
       "    </tr>\n",
       "    <tr>\n",
       "      <td id=\"T_ea65e_row4_col0\" class=\"data row4 col0\" >Materials Science</td>\n",
       "      <td id=\"T_ea65e_row4_col1\" class=\"data row4 col1\" >2</td>\n",
       "    </tr>\n",
       "  </tbody>\n",
       "</table>\n"
      ],
      "text/plain": [
       "<pandas.io.formats.style.Styler at 0x174700670>"
      ]
     },
     "metadata": {},
     "output_type": "display_data"
    }
   ],
   "source": [
    "# Basic\n",
    "%openad ds list all domains"
   ]
  },
  {
   "cell_type": "code",
   "execution_count": 27,
   "id": "380de7c8-cdd4-44bd-bfbc-5aef84bfdfcb",
   "metadata": {
    "tags": []
   },
   "outputs": [
    {
     "data": {
      "text/markdown": [
       "<span style=\"color: #ccc\">Next up, you can run: </span>`result open`/`edit`/`copy`/`display`/`as dataframe`/`save [as '<filename.csv>']` <br> \n"
      ],
      "text/plain": [
       "<IPython.core.display.Markdown object>"
      ]
     },
     "metadata": {},
     "output_type": "display_data"
    },
    {
     "data": {
      "text/html": [
       "<style type=\"text/css\">\n",
       "</style>\n",
       "<table id=\"T_73de9\">\n",
       "  <thead>\n",
       "    <tr>\n",
       "      <th id=\"T_73de9_level0_col0\" class=\"col_heading level0 col0\" >Domain</th>\n",
       "      <th id=\"T_73de9_level0_col1\" class=\"col_heading level0 col1\" >Collections</th>\n",
       "    </tr>\n",
       "  </thead>\n",
       "  <tbody>\n",
       "    <tr>\n",
       "      <td id=\"T_73de9_row0_col0\" class=\"data row0 col0\" >Scientific Literature</td>\n",
       "      <td id=\"T_73de9_row0_col1\" class=\"data row0 col1\" >10</td>\n",
       "    </tr>\n",
       "    <tr>\n",
       "      <td id=\"T_73de9_row1_col0\" class=\"data row1 col0\" >Business Insights</td>\n",
       "      <td id=\"T_73de9_row1_col1\" class=\"data row1 col1\" >5</td>\n",
       "    </tr>\n",
       "    <tr>\n",
       "      <td id=\"T_73de9_row2_col0\" class=\"data row2 col0\" >Healthcare & Life Sciences</td>\n",
       "      <td id=\"T_73de9_row2_col1\" class=\"data row2 col1\" >3</td>\n",
       "    </tr>\n",
       "    <tr>\n",
       "      <td id=\"T_73de9_row3_col0\" class=\"data row3 col0\" >Climate & Sustainability</td>\n",
       "      <td id=\"T_73de9_row3_col1\" class=\"data row3 col1\" >1</td>\n",
       "    </tr>\n",
       "    <tr>\n",
       "      <td id=\"T_73de9_row4_col0\" class=\"data row4 col0\" >Materials Science</td>\n",
       "      <td id=\"T_73de9_row4_col1\" class=\"data row4 col1\" >2</td>\n",
       "    </tr>\n",
       "  </tbody>\n",
       "</table>\n"
      ],
      "text/plain": [
       "<pandas.io.formats.style.Styler at 0x17575c550>"
      ]
     },
     "metadata": {},
     "output_type": "display_data"
    },
    {
     "data": {
      "text/markdown": [
       "<span style=\"color: #ffa500\">Warning: A file with the name 'all_domains.csv' already exists. <br> \n",
       "<span style=\"color: #090\">Saved as <span style=\"color: #dc0\">all_domains-4.csv</span> instead.</span></span> <br> \n"
      ],
      "text/plain": [
       "<IPython.core.display.Markdown object>"
      ]
     },
     "metadata": {},
     "output_type": "display_data"
    }
   ],
   "source": [
    "# Save as\n",
    "%openad ds list all domains save as 'all_domains'"
   ]
  },
  {
   "cell_type": "code",
   "execution_count": 29,
   "id": "0dac13c2-7c68-4ac8-bae2-01c7f35cf54f",
   "metadata": {
    "tags": []
   },
   "outputs": [
    {
     "data": {
      "text/html": [
       "<div>\n",
       "<style scoped>\n",
       "    .dataframe tbody tr th:only-of-type {\n",
       "        vertical-align: middle;\n",
       "    }\n",
       "\n",
       "    .dataframe tbody tr th {\n",
       "        vertical-align: top;\n",
       "    }\n",
       "\n",
       "    .dataframe thead th {\n",
       "        text-align: right;\n",
       "    }\n",
       "</style>\n",
       "<table border=\"1\" class=\"dataframe\">\n",
       "  <thead>\n",
       "    <tr style=\"text-align: right;\">\n",
       "      <th></th>\n",
       "      <th>Domain</th>\n",
       "      <th>Collections</th>\n",
       "    </tr>\n",
       "  </thead>\n",
       "  <tbody>\n",
       "    <tr>\n",
       "      <th>0</th>\n",
       "      <td>Scientific Literature</td>\n",
       "      <td>10</td>\n",
       "    </tr>\n",
       "    <tr>\n",
       "      <th>1</th>\n",
       "      <td>Business Insights</td>\n",
       "      <td>5</td>\n",
       "    </tr>\n",
       "    <tr>\n",
       "      <th>2</th>\n",
       "      <td>Healthcare &amp; Life Sciences</td>\n",
       "      <td>3</td>\n",
       "    </tr>\n",
       "    <tr>\n",
       "      <th>3</th>\n",
       "      <td>Climate &amp; Sustainability</td>\n",
       "      <td>1</td>\n",
       "    </tr>\n",
       "    <tr>\n",
       "      <th>4</th>\n",
       "      <td>Materials Science</td>\n",
       "      <td>2</td>\n",
       "    </tr>\n",
       "  </tbody>\n",
       "</table>\n",
       "</div>"
      ],
      "text/plain": [
       "                       Domain  Collections\n",
       "0       Scientific Literature           10\n",
       "1           Business Insights            5\n",
       "2  Healthcare & Life Sciences            3\n",
       "3    Climate & Sustainability            1\n",
       "4           Materials Science            2"
      ]
     },
     "execution_count": 29,
     "metadata": {},
     "output_type": "execute_result"
    }
   ],
   "source": [
    "# Data API\n",
    "data = %openadd ds list all domains\n",
    "data"
   ]
  },
  {
   "cell_type": "markdown",
   "id": "ee66ec6e-1b25-4648-a716-3fcf4cd55e26",
   "metadata": {},
   "source": [
    "<br>"
   ]
  },
  {
   "cell_type": "markdown",
   "id": "4dc6da40-159a-4f63-83e5-303f56dd6e91",
   "metadata": {},
   "source": [
    "### List collections containing"
   ]
  },
  {
   "cell_type": "code",
   "execution_count": 30,
   "id": "19569659-7956-44d3-9d09-3675b24a7848",
   "metadata": {
    "tags": []
   },
   "outputs": [
    {
     "data": {
      "text/markdown": [
       "`ds list collections containing '<search_query>' [ save as '<filename.csv>' ]` <br> \n",
       "<span style=\"color: #ccc\">----------------------------------------------------------------------------</span> <br> \n",
       "Scan all available Deep Search collections for a given term, to see which collections will provide relevant results. This is useful when narrowing down document collections for subsequent searches. <br> \n",
       "\n",
       "When formulating a search query with more than one word, wrap your query in quotes for a literal search, eg. `'\"blood-brain barrier\"'`, or limit the search to only scan the main text field by using `'main-text.text:(\"blood-brain barrier\")'`. <br> \n",
       "\n",
       "You can use the \"Collection Key\" from the returned table to formulate a next query into a specific collection. <br> \n",
       "To learn more, run `ds search collection ?`. <br> \n",
       "\n",
       "Use the `save as` clause to save the results as a csv file in your current workspace. <br> \n",
       "\n",
       "Examples: <br> \n",
       "- `ds list collections containing 'Ibuprofen'` <br> \n",
       "- `ds list collections containing '\"blood-brain barrier\"'` <br> \n",
       "- `ds list collections containing 'main-text.text:(\"power conversion efficiency\" OR PCE) AND organ*'` <br> \n",
       "\n",
       "\n",
       "\n",
       " i  <span style=\"color: #ccc\">To see all available Deep Search commands, run `ds`</span> <br> \n"
      ],
      "text/plain": [
       "<IPython.core.display.Markdown object>"
      ]
     },
     "execution_count": 30,
     "metadata": {},
     "output_type": "execute_result"
    }
   ],
   "source": [
    "# Command help\n",
    "%openad ds list collections containing ?"
   ]
  },
  {
   "cell_type": "code",
   "execution_count": 31,
   "id": "3f04b4b4-213b-409d-ba12-967235bf29db",
   "metadata": {
    "tags": []
   },
   "outputs": [
    {
     "data": {
      "application/vnd.jupyter.widget-view+json": {
       "model_id": "",
       "version_major": 2,
       "version_minor": 0
      },
      "text/plain": [
       "  0%|          "
      ]
     },
     "metadata": {},
     "output_type": "display_data"
    },
    {
     "data": {
      "text/markdown": [
       "<span style=\"color: #090\">Found 14 collections containing <span style=\"color: #dc0\">Ibuprofen</span></span> <br> \n"
      ],
      "text/plain": [
       "<IPython.core.display.Markdown object>"
      ]
     },
     "metadata": {},
     "output_type": "display_data"
    },
    {
     "data": {
      "text/markdown": [
       "<span style=\"color: #ccc\">Next up, you can run: </span>`result open`/`edit`/`copy`/`display`/`as dataframe`/`save [as '<filename.csv>']` <br> \n"
      ],
      "text/plain": [
       "<IPython.core.display.Markdown object>"
      ]
     },
     "metadata": {},
     "output_type": "display_data"
    },
    {
     "data": {
      "text/html": [
       "<style type=\"text/css\">\n",
       "</style>\n",
       "<table id=\"T_ee0dd\">\n",
       "  <thead>\n",
       "    <tr>\n",
       "      <th id=\"T_ee0dd_level0_col0\" class=\"col_heading level0 col0\" >Domain</th>\n",
       "      <th id=\"T_ee0dd_level0_col1\" class=\"col_heading level0 col1\" >Collection Name</th>\n",
       "      <th id=\"T_ee0dd_level0_col2\" class=\"col_heading level0 col2\" >Collection Key</th>\n",
       "      <th id=\"T_ee0dd_level0_col3\" class=\"col_heading level0 col3\" >Matches</th>\n",
       "    </tr>\n",
       "  </thead>\n",
       "  <tbody>\n",
       "    <tr>\n",
       "      <td id=\"T_ee0dd_row0_col0\" class=\"data row0 col0\" >Scientific Literature</td>\n",
       "      <td id=\"T_ee0dd_row0_col1\" class=\"data row0 col1\" >AAAI</td>\n",
       "      <td id=\"T_ee0dd_row0_col2\" class=\"data row0 col2\" >aaai</td>\n",
       "      <td id=\"T_ee0dd_row0_col3\" class=\"data row0 col3\" >6</td>\n",
       "    </tr>\n",
       "    <tr>\n",
       "      <td id=\"T_ee0dd_row1_col0\" class=\"data row1 col0\" >Scientific Literature</td>\n",
       "      <td id=\"T_ee0dd_row1_col1\" class=\"data row1 col1\" >ACL Anthology</td>\n",
       "      <td id=\"T_ee0dd_row1_col2\" class=\"data row1 col2\" >acl</td>\n",
       "      <td id=\"T_ee0dd_row1_col3\" class=\"data row1 col3\" >42</td>\n",
       "    </tr>\n",
       "    <tr>\n",
       "      <td id=\"T_ee0dd_row2_col0\" class=\"data row2 col0\" >Business Insights</td>\n",
       "      <td id=\"T_ee0dd_row2_col1\" class=\"data row2 col1\" >Annual Reports</td>\n",
       "      <td id=\"T_ee0dd_row2_col2\" class=\"data row2 col2\" >annual-report</td>\n",
       "      <td id=\"T_ee0dd_row2_col3\" class=\"data row2 col3\" >284</td>\n",
       "    </tr>\n",
       "    <tr>\n",
       "      <td id=\"T_ee0dd_row3_col0\" class=\"data row3 col0\" >Scientific Literature</td>\n",
       "      <td id=\"T_ee0dd_row3_col1\" class=\"data row3 col1\" >arXiv abstracts</td>\n",
       "      <td id=\"T_ee0dd_row3_col2\" class=\"data row3 col2\" >arxiv-abstract</td>\n",
       "      <td id=\"T_ee0dd_row3_col3\" class=\"data row3 col3\" >15</td>\n",
       "    </tr>\n",
       "    <tr>\n",
       "      <td id=\"T_ee0dd_row4_col0\" class=\"data row4 col0\" >Scientific Literature</td>\n",
       "      <td id=\"T_ee0dd_row4_col1\" class=\"data row4 col1\" >arXiv full documents</td>\n",
       "      <td id=\"T_ee0dd_row4_col2\" class=\"data row4 col2\" >arxiv</td>\n",
       "      <td id=\"T_ee0dd_row4_col3\" class=\"data row4 col3\" >291</td>\n",
       "    </tr>\n",
       "    <tr>\n",
       "      <td id=\"T_ee0dd_row5_col0\" class=\"data row5 col0\" >Healthcare & Life Sciences</td>\n",
       "      <td id=\"T_ee0dd_row5_col1\" class=\"data row5 col1\" >ClinicalTrials</td>\n",
       "      <td id=\"T_ee0dd_row5_col2\" class=\"data row5 col2\" >clinical-trials</td>\n",
       "      <td id=\"T_ee0dd_row5_col3\" class=\"data row5 col3\" >2761</td>\n",
       "    </tr>\n",
       "    <tr>\n",
       "      <td id=\"T_ee0dd_row6_col0\" class=\"data row6 col0\" >Healthcare & Life Sciences / Scientific Literature</td>\n",
       "      <td id=\"T_ee0dd_row6_col1\" class=\"data row6 col1\" >Cord19</td>\n",
       "      <td id=\"T_ee0dd_row6_col2\" class=\"data row6 col2\" >cord19</td>\n",
       "      <td id=\"T_ee0dd_row6_col3\" class=\"data row6 col3\" >984</td>\n",
       "    </tr>\n",
       "    <tr>\n",
       "      <td id=\"T_ee0dd_row7_col0\" class=\"data row7 col0\" >Scientific Literature</td>\n",
       "      <td id=\"T_ee0dd_row7_col1\" class=\"data row7 col1\" >Crossref</td>\n",
       "      <td id=\"T_ee0dd_row7_col2\" class=\"data row7 col2\" >crossref</td>\n",
       "      <td id=\"T_ee0dd_row7_col3\" class=\"data row7 col3\" >11478</td>\n",
       "    </tr>\n",
       "    <tr>\n",
       "      <td id=\"T_ee0dd_row8_col0\" class=\"data row8 col0\" >Business Insights</td>\n",
       "      <td id=\"T_ee0dd_row8_col1\" class=\"data row8 col1\" >ESG Reports</td>\n",
       "      <td id=\"T_ee0dd_row8_col2\" class=\"data row8 col2\" >esg-report</td>\n",
       "      <td id=\"T_ee0dd_row8_col3\" class=\"data row8 col3\" >32</td>\n",
       "    </tr>\n",
       "    <tr>\n",
       "      <td id=\"T_ee0dd_row9_col0\" class=\"data row9 col0\" >Scientific Literature</td>\n",
       "      <td id=\"T_ee0dd_row9_col1\" class=\"data row9 col1\" >Patents from USPTO</td>\n",
       "      <td id=\"T_ee0dd_row9_col2\" class=\"data row9 col2\" >patent-uspto</td>\n",
       "      <td id=\"T_ee0dd_row9_col3\" class=\"data row9 col3\" >81911</td>\n",
       "    </tr>\n",
       "    <tr>\n",
       "      <td id=\"T_ee0dd_row10_col0\" class=\"data row10 col0\" >Scientific Literature</td>\n",
       "      <td id=\"T_ee0dd_row10_col1\" class=\"data row10 col1\" >PLOS</td>\n",
       "      <td id=\"T_ee0dd_row10_col2\" class=\"data row10 col2\" >plos</td>\n",
       "      <td id=\"T_ee0dd_row10_col3\" class=\"data row10 col3\" >1084</td>\n",
       "    </tr>\n",
       "    <tr>\n",
       "      <td id=\"T_ee0dd_row11_col0\" class=\"data row11 col0\" >Business Insights</td>\n",
       "      <td id=\"T_ee0dd_row11_col1\" class=\"data row11 col1\" >Press Release</td>\n",
       "      <td id=\"T_ee0dd_row11_col2\" class=\"data row11 col2\" >press-release</td>\n",
       "      <td id=\"T_ee0dd_row11_col3\" class=\"data row11 col3\" >8</td>\n",
       "    </tr>\n",
       "    <tr>\n",
       "      <td id=\"T_ee0dd_row12_col0\" class=\"data row12 col0\" >Healthcare & Life Sciences</td>\n",
       "      <td id=\"T_ee0dd_row12_col1\" class=\"data row12 col1\" >PubMed Central</td>\n",
       "      <td id=\"T_ee0dd_row12_col2\" class=\"data row12 col2\" >pubmed</td>\n",
       "      <td id=\"T_ee0dd_row12_col3\" class=\"data row12 col3\" >19609</td>\n",
       "    </tr>\n",
       "    <tr>\n",
       "      <td id=\"T_ee0dd_row13_col0\" class=\"data row13 col0\" >Scientific Literature</td>\n",
       "      <td id=\"T_ee0dd_row13_col1\" class=\"data row13 col1\" >Semantic Scholar Academic Graph</td>\n",
       "      <td id=\"T_ee0dd_row13_col2\" class=\"data row13 col2\" >semantic-scholar</td>\n",
       "      <td id=\"T_ee0dd_row13_col3\" class=\"data row13 col3\" >26628</td>\n",
       "    </tr>\n",
       "  </tbody>\n",
       "</table>\n"
      ],
      "text/plain": [
       "<pandas.io.formats.style.Styler at 0x177014430>"
      ]
     },
     "metadata": {},
     "output_type": "display_data"
    }
   ],
   "source": [
    "# Simple search\n",
    "%openad ds list collections containing 'Ibuprofen'"
   ]
  },
  {
   "cell_type": "code",
   "execution_count": 32,
   "id": "83dc1547-fa36-4ca8-8858-18a8a23e0b1b",
   "metadata": {
    "tags": []
   },
   "outputs": [
    {
     "data": {
      "application/vnd.jupyter.widget-view+json": {
       "model_id": "",
       "version_major": 2,
       "version_minor": 0
      },
      "text/plain": [
       "  0%|          "
      ]
     },
     "metadata": {},
     "output_type": "display_data"
    },
    {
     "data": {
      "text/markdown": [
       "<span style=\"color: #090\">Found 14 collections containing <span style=\"color: #dc0\">\"blood-brain barrier\"</span></span> <br> \n"
      ],
      "text/plain": [
       "<IPython.core.display.Markdown object>"
      ]
     },
     "metadata": {},
     "output_type": "display_data"
    },
    {
     "data": {
      "text/markdown": [
       "<span style=\"color: #ccc\">Next up, you can run: </span>`result open`/`edit`/`copy`/`display`/`as dataframe`/`save [as '<filename.csv>']` <br> \n"
      ],
      "text/plain": [
       "<IPython.core.display.Markdown object>"
      ]
     },
     "metadata": {},
     "output_type": "display_data"
    },
    {
     "data": {
      "text/html": [
       "<style type=\"text/css\">\n",
       "</style>\n",
       "<table id=\"T_0b5a8\">\n",
       "  <thead>\n",
       "    <tr>\n",
       "      <th id=\"T_0b5a8_level0_col0\" class=\"col_heading level0 col0\" >Domain</th>\n",
       "      <th id=\"T_0b5a8_level0_col1\" class=\"col_heading level0 col1\" >Collection Name</th>\n",
       "      <th id=\"T_0b5a8_level0_col2\" class=\"col_heading level0 col2\" >Collection Key</th>\n",
       "      <th id=\"T_0b5a8_level0_col3\" class=\"col_heading level0 col3\" >Matches</th>\n",
       "    </tr>\n",
       "  </thead>\n",
       "  <tbody>\n",
       "    <tr>\n",
       "      <td id=\"T_0b5a8_row0_col0\" class=\"data row0 col0\" >Scientific Literature</td>\n",
       "      <td id=\"T_0b5a8_row0_col1\" class=\"data row0 col1\" >AAAI</td>\n",
       "      <td id=\"T_0b5a8_row0_col2\" class=\"data row0 col2\" >aaai</td>\n",
       "      <td id=\"T_0b5a8_row0_col3\" class=\"data row0 col3\" >3</td>\n",
       "    </tr>\n",
       "    <tr>\n",
       "      <td id=\"T_0b5a8_row1_col0\" class=\"data row1 col0\" >Scientific Literature</td>\n",
       "      <td id=\"T_0b5a8_row1_col1\" class=\"data row1 col1\" >ACL Anthology</td>\n",
       "      <td id=\"T_0b5a8_row1_col2\" class=\"data row1 col2\" >acl</td>\n",
       "      <td id=\"T_0b5a8_row1_col3\" class=\"data row1 col3\" >3</td>\n",
       "    </tr>\n",
       "    <tr>\n",
       "      <td id=\"T_0b5a8_row2_col0\" class=\"data row2 col0\" >Business Insights</td>\n",
       "      <td id=\"T_0b5a8_row2_col1\" class=\"data row2 col1\" >Annual Reports</td>\n",
       "      <td id=\"T_0b5a8_row2_col2\" class=\"data row2 col2\" >annual-report</td>\n",
       "      <td id=\"T_0b5a8_row2_col3\" class=\"data row2 col3\" >656</td>\n",
       "    </tr>\n",
       "    <tr>\n",
       "      <td id=\"T_0b5a8_row3_col0\" class=\"data row3 col0\" >Scientific Literature</td>\n",
       "      <td id=\"T_0b5a8_row3_col1\" class=\"data row3 col1\" >arXiv abstracts</td>\n",
       "      <td id=\"T_0b5a8_row3_col2\" class=\"data row3 col2\" >arxiv-abstract</td>\n",
       "      <td id=\"T_0b5a8_row3_col3\" class=\"data row3 col3\" >21</td>\n",
       "    </tr>\n",
       "    <tr>\n",
       "      <td id=\"T_0b5a8_row4_col0\" class=\"data row4 col0\" >Scientific Literature</td>\n",
       "      <td id=\"T_0b5a8_row4_col1\" class=\"data row4 col1\" >arXiv full documents</td>\n",
       "      <td id=\"T_0b5a8_row4_col2\" class=\"data row4 col2\" >arxiv</td>\n",
       "      <td id=\"T_0b5a8_row4_col3\" class=\"data row4 col3\" >614</td>\n",
       "    </tr>\n",
       "    <tr>\n",
       "      <td id=\"T_0b5a8_row5_col0\" class=\"data row5 col0\" >Healthcare & Life Sciences</td>\n",
       "      <td id=\"T_0b5a8_row5_col1\" class=\"data row5 col1\" >ClinicalTrials</td>\n",
       "      <td id=\"T_0b5a8_row5_col2\" class=\"data row5 col2\" >clinical-trials</td>\n",
       "      <td id=\"T_0b5a8_row5_col3\" class=\"data row5 col3\" >1011</td>\n",
       "    </tr>\n",
       "    <tr>\n",
       "      <td id=\"T_0b5a8_row6_col0\" class=\"data row6 col0\" >Healthcare & Life Sciences / Scientific Literature</td>\n",
       "      <td id=\"T_0b5a8_row6_col1\" class=\"data row6 col1\" >Cord19</td>\n",
       "      <td id=\"T_0b5a8_row6_col2\" class=\"data row6 col2\" >cord19</td>\n",
       "      <td id=\"T_0b5a8_row6_col3\" class=\"data row6 col3\" >3470</td>\n",
       "    </tr>\n",
       "    <tr>\n",
       "      <td id=\"T_0b5a8_row7_col0\" class=\"data row7 col0\" >Scientific Literature</td>\n",
       "      <td id=\"T_0b5a8_row7_col1\" class=\"data row7 col1\" >Crossref</td>\n",
       "      <td id=\"T_0b5a8_row7_col2\" class=\"data row7 col2\" >crossref</td>\n",
       "      <td id=\"T_0b5a8_row7_col3\" class=\"data row7 col3\" >23303</td>\n",
       "    </tr>\n",
       "    <tr>\n",
       "      <td id=\"T_0b5a8_row8_col0\" class=\"data row8 col0\" >Business Insights</td>\n",
       "      <td id=\"T_0b5a8_row8_col1\" class=\"data row8 col1\" >ESG Reports</td>\n",
       "      <td id=\"T_0b5a8_row8_col2\" class=\"data row8 col2\" >esg-report</td>\n",
       "      <td id=\"T_0b5a8_row8_col3\" class=\"data row8 col3\" >5</td>\n",
       "    </tr>\n",
       "    <tr>\n",
       "      <td id=\"T_0b5a8_row9_col0\" class=\"data row9 col0\" >Scientific Literature</td>\n",
       "      <td id=\"T_0b5a8_row9_col1\" class=\"data row9 col1\" >Patents from USPTO</td>\n",
       "      <td id=\"T_0b5a8_row9_col2\" class=\"data row9 col2\" >patent-uspto</td>\n",
       "      <td id=\"T_0b5a8_row9_col3\" class=\"data row9 col3\" >66646</td>\n",
       "    </tr>\n",
       "    <tr>\n",
       "      <td id=\"T_0b5a8_row10_col0\" class=\"data row10 col0\" >Scientific Literature</td>\n",
       "      <td id=\"T_0b5a8_row10_col1\" class=\"data row10 col1\" >PLOS</td>\n",
       "      <td id=\"T_0b5a8_row10_col2\" class=\"data row10 col2\" >plos</td>\n",
       "      <td id=\"T_0b5a8_row10_col3\" class=\"data row10 col3\" >5799</td>\n",
       "    </tr>\n",
       "    <tr>\n",
       "      <td id=\"T_0b5a8_row11_col0\" class=\"data row11 col0\" >Business Insights</td>\n",
       "      <td id=\"T_0b5a8_row11_col1\" class=\"data row11 col1\" >Press Release</td>\n",
       "      <td id=\"T_0b5a8_row11_col2\" class=\"data row11 col2\" >press-release</td>\n",
       "      <td id=\"T_0b5a8_row11_col3\" class=\"data row11 col3\" >1</td>\n",
       "    </tr>\n",
       "    <tr>\n",
       "      <td id=\"T_0b5a8_row12_col0\" class=\"data row12 col0\" >Healthcare & Life Sciences</td>\n",
       "      <td id=\"T_0b5a8_row12_col1\" class=\"data row12 col1\" >PubMed Central</td>\n",
       "      <td id=\"T_0b5a8_row12_col2\" class=\"data row12 col2\" >pubmed</td>\n",
       "      <td id=\"T_0b5a8_row12_col3\" class=\"data row12 col3\" >97104</td>\n",
       "    </tr>\n",
       "    <tr>\n",
       "      <td id=\"T_0b5a8_row13_col0\" class=\"data row13 col0\" >Scientific Literature</td>\n",
       "      <td id=\"T_0b5a8_row13_col1\" class=\"data row13 col1\" >Semantic Scholar Academic Graph</td>\n",
       "      <td id=\"T_0b5a8_row13_col2\" class=\"data row13 col2\" >semantic-scholar</td>\n",
       "      <td id=\"T_0b5a8_row13_col3\" class=\"data row13 col3\" >56269</td>\n",
       "    </tr>\n",
       "  </tbody>\n",
       "</table>\n"
      ],
      "text/plain": [
       "<pandas.io.formats.style.Styler at 0x177014b80>"
      ]
     },
     "metadata": {},
     "output_type": "display_data"
    }
   ],
   "source": [
    "# Quoted search\n",
    "%openad ds list collections containing '\"blood-brain barrier\"'"
   ]
  },
  {
   "cell_type": "code",
   "execution_count": 33,
   "id": "a2bbb947-c3b8-4b58-b2e3-6741cdc27ee5",
   "metadata": {
    "tags": []
   },
   "outputs": [
    {
     "data": {
      "application/vnd.jupyter.widget-view+json": {
       "model_id": "",
       "version_major": 2,
       "version_minor": 0
      },
      "text/plain": [
       "  0%|          "
      ]
     },
     "metadata": {},
     "output_type": "display_data"
    },
    {
     "data": {
      "text/markdown": [
       "<span style=\"color: #090\">Found 15 collections containing <span style=\"color: #dc0\">main-text.text:(\"power conversion efficiency\" OR PCE) AND organ*</span></span> <br> \n"
      ],
      "text/plain": [
       "<IPython.core.display.Markdown object>"
      ]
     },
     "metadata": {},
     "output_type": "display_data"
    },
    {
     "data": {
      "text/markdown": [
       "<span style=\"color: #ccc\">Next up, you can run: </span>`result open`/`edit`/`copy`/`display`/`as dataframe`/`save [as '<filename.csv>']` <br> \n"
      ],
      "text/plain": [
       "<IPython.core.display.Markdown object>"
      ]
     },
     "metadata": {},
     "output_type": "display_data"
    },
    {
     "data": {
      "text/html": [
       "<style type=\"text/css\">\n",
       "</style>\n",
       "<table id=\"T_441b6\">\n",
       "  <thead>\n",
       "    <tr>\n",
       "      <th id=\"T_441b6_level0_col0\" class=\"col_heading level0 col0\" >Domain</th>\n",
       "      <th id=\"T_441b6_level0_col1\" class=\"col_heading level0 col1\" >Collection Name</th>\n",
       "      <th id=\"T_441b6_level0_col2\" class=\"col_heading level0 col2\" >Collection Key</th>\n",
       "      <th id=\"T_441b6_level0_col3\" class=\"col_heading level0 col3\" >Matches</th>\n",
       "    </tr>\n",
       "  </thead>\n",
       "  <tbody>\n",
       "    <tr>\n",
       "      <td id=\"T_441b6_row0_col0\" class=\"data row0 col0\" >Scientific Literature</td>\n",
       "      <td id=\"T_441b6_row0_col1\" class=\"data row0 col1\" >AAAI</td>\n",
       "      <td id=\"T_441b6_row0_col2\" class=\"data row0 col2\" >aaai</td>\n",
       "      <td id=\"T_441b6_row0_col3\" class=\"data row0 col3\" >2</td>\n",
       "    </tr>\n",
       "    <tr>\n",
       "      <td id=\"T_441b6_row1_col0\" class=\"data row1 col0\" >Scientific Literature</td>\n",
       "      <td id=\"T_441b6_row1_col1\" class=\"data row1 col1\" >ACL Anthology</td>\n",
       "      <td id=\"T_441b6_row1_col2\" class=\"data row1 col2\" >acl</td>\n",
       "      <td id=\"T_441b6_row1_col3\" class=\"data row1 col3\" >9</td>\n",
       "    </tr>\n",
       "    <tr>\n",
       "      <td id=\"T_441b6_row2_col0\" class=\"data row2 col0\" >Business Insights</td>\n",
       "      <td id=\"T_441b6_row2_col1\" class=\"data row2 col1\" >Annual Reports</td>\n",
       "      <td id=\"T_441b6_row2_col2\" class=\"data row2 col2\" >annual-report</td>\n",
       "      <td id=\"T_441b6_row2_col3\" class=\"data row2 col3\" >194</td>\n",
       "    </tr>\n",
       "    <tr>\n",
       "      <td id=\"T_441b6_row3_col0\" class=\"data row3 col0\" >Scientific Literature</td>\n",
       "      <td id=\"T_441b6_row3_col1\" class=\"data row3 col1\" >arXiv abstracts</td>\n",
       "      <td id=\"T_441b6_row3_col2\" class=\"data row3 col2\" >arxiv-abstract</td>\n",
       "      <td id=\"T_441b6_row3_col3\" class=\"data row3 col3\" >74</td>\n",
       "    </tr>\n",
       "    <tr>\n",
       "      <td id=\"T_441b6_row4_col0\" class=\"data row4 col0\" >Scientific Literature</td>\n",
       "      <td id=\"T_441b6_row4_col1\" class=\"data row4 col1\" >arXiv full documents</td>\n",
       "      <td id=\"T_441b6_row4_col2\" class=\"data row4 col2\" >arxiv</td>\n",
       "      <td id=\"T_441b6_row4_col3\" class=\"data row4 col3\" >2043</td>\n",
       "    </tr>\n",
       "    <tr>\n",
       "      <td id=\"T_441b6_row5_col0\" class=\"data row5 col0\" >Healthcare & Life Sciences</td>\n",
       "      <td id=\"T_441b6_row5_col1\" class=\"data row5 col1\" >ClinicalTrials</td>\n",
       "      <td id=\"T_441b6_row5_col2\" class=\"data row5 col2\" >clinical-trials</td>\n",
       "      <td id=\"T_441b6_row5_col3\" class=\"data row5 col3\" >4</td>\n",
       "    </tr>\n",
       "    <tr>\n",
       "      <td id=\"T_441b6_row6_col0\" class=\"data row6 col0\" >Healthcare & Life Sciences / Scientific Literature</td>\n",
       "      <td id=\"T_441b6_row6_col1\" class=\"data row6 col1\" >Cord19</td>\n",
       "      <td id=\"T_441b6_row6_col2\" class=\"data row6 col2\" >cord19</td>\n",
       "      <td id=\"T_441b6_row6_col3\" class=\"data row6 col3\" >93</td>\n",
       "    </tr>\n",
       "    <tr>\n",
       "      <td id=\"T_441b6_row7_col0\" class=\"data row7 col0\" >Business Insights</td>\n",
       "      <td id=\"T_441b6_row7_col1\" class=\"data row7 col1\" >ESG Reports</td>\n",
       "      <td id=\"T_441b6_row7_col2\" class=\"data row7 col2\" >esg-report</td>\n",
       "      <td id=\"T_441b6_row7_col3\" class=\"data row7 col3\" >33</td>\n",
       "    </tr>\n",
       "    <tr>\n",
       "      <td id=\"T_441b6_row8_col0\" class=\"data row8 col0\" >Business Insights</td>\n",
       "      <td id=\"T_441b6_row8_col1\" class=\"data row8 col1\" >IBM Redbooks</td>\n",
       "      <td id=\"T_441b6_row8_col2\" class=\"data row8 col2\" >ibm-redbooks</td>\n",
       "      <td id=\"T_441b6_row8_col3\" class=\"data row8 col3\" >20</td>\n",
       "    </tr>\n",
       "    <tr>\n",
       "      <td id=\"T_441b6_row9_col0\" class=\"data row9 col0\" >Climate & Sustainability</td>\n",
       "      <td id=\"T_441b6_row9_col1\" class=\"data row9 col1\" >IPCC</td>\n",
       "      <td id=\"T_441b6_row9_col2\" class=\"data row9 col2\" >ipcc</td>\n",
       "      <td id=\"T_441b6_row9_col3\" class=\"data row9 col3\" >7</td>\n",
       "    </tr>\n",
       "    <tr>\n",
       "      <td id=\"T_441b6_row10_col0\" class=\"data row10 col0\" >Scientific Literature</td>\n",
       "      <td id=\"T_441b6_row10_col1\" class=\"data row10 col1\" >Patents from USPTO</td>\n",
       "      <td id=\"T_441b6_row10_col2\" class=\"data row10 col2\" >patent-uspto</td>\n",
       "      <td id=\"T_441b6_row10_col3\" class=\"data row10 col3\" >11595</td>\n",
       "    </tr>\n",
       "    <tr>\n",
       "      <td id=\"T_441b6_row11_col0\" class=\"data row11 col0\" >Scientific Literature</td>\n",
       "      <td id=\"T_441b6_row11_col1\" class=\"data row11 col1\" >PLOS</td>\n",
       "      <td id=\"T_441b6_row11_col2\" class=\"data row11 col2\" >plos</td>\n",
       "      <td id=\"T_441b6_row11_col3\" class=\"data row11 col3\" >576</td>\n",
       "    </tr>\n",
       "    <tr>\n",
       "      <td id=\"T_441b6_row12_col0\" class=\"data row12 col0\" >Business Insights</td>\n",
       "      <td id=\"T_441b6_row12_col1\" class=\"data row12 col1\" >Press Release</td>\n",
       "      <td id=\"T_441b6_row12_col2\" class=\"data row12 col2\" >press-release</td>\n",
       "      <td id=\"T_441b6_row12_col3\" class=\"data row12 col3\" >4</td>\n",
       "    </tr>\n",
       "    <tr>\n",
       "      <td id=\"T_441b6_row13_col0\" class=\"data row13 col0\" >Healthcare & Life Sciences</td>\n",
       "      <td id=\"T_441b6_row13_col1\" class=\"data row13 col1\" >PubMed Central</td>\n",
       "      <td id=\"T_441b6_row13_col2\" class=\"data row13 col2\" >pubmed</td>\n",
       "      <td id=\"T_441b6_row13_col3\" class=\"data row13 col3\" >6075</td>\n",
       "    </tr>\n",
       "    <tr>\n",
       "      <td id=\"T_441b6_row14_col0\" class=\"data row14 col0\" >Scientific Literature</td>\n",
       "      <td id=\"T_441b6_row14_col1\" class=\"data row14 col1\" >Semantic Scholar Academic Graph</td>\n",
       "      <td id=\"T_441b6_row14_col2\" class=\"data row14 col2\" >semantic-scholar</td>\n",
       "      <td id=\"T_441b6_row14_col3\" class=\"data row14 col3\" >10949</td>\n",
       "    </tr>\n",
       "  </tbody>\n",
       "</table>\n"
      ],
      "text/plain": [
       "<pandas.io.formats.style.Styler at 0x17707e5c0>"
      ]
     },
     "metadata": {},
     "output_type": "display_data"
    }
   ],
   "source": [
    "# Complex search\n",
    "%openad ds list collections containing 'main-text.text:(\"power conversion efficiency\" OR PCE) AND organ*'"
   ]
  },
  {
   "cell_type": "code",
   "execution_count": 35,
   "id": "ca562ce9-f70c-41f0-b568-f6c4343e7440",
   "metadata": {
    "tags": []
   },
   "outputs": [
    {
     "data": {
      "text/html": [
       "<div>\n",
       "<style scoped>\n",
       "    .dataframe tbody tr th:only-of-type {\n",
       "        vertical-align: middle;\n",
       "    }\n",
       "\n",
       "    .dataframe tbody tr th {\n",
       "        vertical-align: top;\n",
       "    }\n",
       "\n",
       "    .dataframe thead th {\n",
       "        text-align: right;\n",
       "    }\n",
       "</style>\n",
       "<table border=\"1\" class=\"dataframe\">\n",
       "  <thead>\n",
       "    <tr style=\"text-align: right;\">\n",
       "      <th></th>\n",
       "      <th>Domain</th>\n",
       "      <th>Collection Name</th>\n",
       "      <th>Collection Key</th>\n",
       "      <th>Matches</th>\n",
       "    </tr>\n",
       "  </thead>\n",
       "  <tbody>\n",
       "    <tr>\n",
       "      <th>0</th>\n",
       "      <td>Scientific Literature</td>\n",
       "      <td>AAAI</td>\n",
       "      <td>aaai</td>\n",
       "      <td>6</td>\n",
       "    </tr>\n",
       "    <tr>\n",
       "      <th>1</th>\n",
       "      <td>Scientific Literature</td>\n",
       "      <td>ACL Anthology</td>\n",
       "      <td>acl</td>\n",
       "      <td>42</td>\n",
       "    </tr>\n",
       "    <tr>\n",
       "      <th>2</th>\n",
       "      <td>Business Insights</td>\n",
       "      <td>Annual Reports</td>\n",
       "      <td>annual-report</td>\n",
       "      <td>284</td>\n",
       "    </tr>\n",
       "    <tr>\n",
       "      <th>3</th>\n",
       "      <td>Scientific Literature</td>\n",
       "      <td>arXiv abstracts</td>\n",
       "      <td>arxiv-abstract</td>\n",
       "      <td>15</td>\n",
       "    </tr>\n",
       "    <tr>\n",
       "      <th>4</th>\n",
       "      <td>Scientific Literature</td>\n",
       "      <td>arXiv full documents</td>\n",
       "      <td>arxiv</td>\n",
       "      <td>291</td>\n",
       "    </tr>\n",
       "    <tr>\n",
       "      <th>5</th>\n",
       "      <td>Healthcare &amp; Life Sciences</td>\n",
       "      <td>ClinicalTrials</td>\n",
       "      <td>clinical-trials</td>\n",
       "      <td>2761</td>\n",
       "    </tr>\n",
       "    <tr>\n",
       "      <th>6</th>\n",
       "      <td>Healthcare &amp; Life Sciences / Scientific Literature</td>\n",
       "      <td>Cord19</td>\n",
       "      <td>cord19</td>\n",
       "      <td>984</td>\n",
       "    </tr>\n",
       "    <tr>\n",
       "      <th>7</th>\n",
       "      <td>Scientific Literature</td>\n",
       "      <td>Crossref</td>\n",
       "      <td>crossref</td>\n",
       "      <td>11478</td>\n",
       "    </tr>\n",
       "    <tr>\n",
       "      <th>8</th>\n",
       "      <td>Business Insights</td>\n",
       "      <td>ESG Reports</td>\n",
       "      <td>esg-report</td>\n",
       "      <td>32</td>\n",
       "    </tr>\n",
       "    <tr>\n",
       "      <th>9</th>\n",
       "      <td>Scientific Literature</td>\n",
       "      <td>Patents from USPTO</td>\n",
       "      <td>patent-uspto</td>\n",
       "      <td>81911</td>\n",
       "    </tr>\n",
       "    <tr>\n",
       "      <th>10</th>\n",
       "      <td>Scientific Literature</td>\n",
       "      <td>PLOS</td>\n",
       "      <td>plos</td>\n",
       "      <td>1084</td>\n",
       "    </tr>\n",
       "    <tr>\n",
       "      <th>11</th>\n",
       "      <td>Business Insights</td>\n",
       "      <td>Press Release</td>\n",
       "      <td>press-release</td>\n",
       "      <td>8</td>\n",
       "    </tr>\n",
       "    <tr>\n",
       "      <th>12</th>\n",
       "      <td>Healthcare &amp; Life Sciences</td>\n",
       "      <td>PubMed Central</td>\n",
       "      <td>pubmed</td>\n",
       "      <td>19609</td>\n",
       "    </tr>\n",
       "    <tr>\n",
       "      <th>13</th>\n",
       "      <td>Scientific Literature</td>\n",
       "      <td>Semantic Scholar Academic Graph</td>\n",
       "      <td>semantic-scholar</td>\n",
       "      <td>26628</td>\n",
       "    </tr>\n",
       "  </tbody>\n",
       "</table>\n",
       "</div>"
      ],
      "text/plain": [
       "                                                Domain   \n",
       "0                                Scientific Literature  \\\n",
       "1                                Scientific Literature   \n",
       "2                                    Business Insights   \n",
       "3                                Scientific Literature   \n",
       "4                                Scientific Literature   \n",
       "5                           Healthcare & Life Sciences   \n",
       "6   Healthcare & Life Sciences / Scientific Literature   \n",
       "7                                Scientific Literature   \n",
       "8                                    Business Insights   \n",
       "9                                Scientific Literature   \n",
       "10                               Scientific Literature   \n",
       "11                                   Business Insights   \n",
       "12                          Healthcare & Life Sciences   \n",
       "13                               Scientific Literature   \n",
       "\n",
       "                    Collection Name    Collection Key  Matches  \n",
       "0                              AAAI              aaai        6  \n",
       "1                     ACL Anthology               acl       42  \n",
       "2                    Annual Reports     annual-report      284  \n",
       "3                   arXiv abstracts    arxiv-abstract       15  \n",
       "4              arXiv full documents             arxiv      291  \n",
       "5                    ClinicalTrials   clinical-trials     2761  \n",
       "6                            Cord19            cord19      984  \n",
       "7                          Crossref          crossref    11478  \n",
       "8                       ESG Reports        esg-report       32  \n",
       "9                Patents from USPTO      patent-uspto    81911  \n",
       "10                             PLOS              plos     1084  \n",
       "11                    Press Release     press-release        8  \n",
       "12                   PubMed Central            pubmed    19609  \n",
       "13  Semantic Scholar Academic Graph  semantic-scholar    26628  "
      ]
     },
     "execution_count": 35,
     "metadata": {},
     "output_type": "execute_result"
    }
   ],
   "source": [
    "# Data API\n",
    "data = %openadd ds list collections containing 'Ibuprofen'\n",
    "data"
   ]
  },
  {
   "cell_type": "markdown",
   "id": "46bccf72-a65c-42d2-9e13-3642f9037a64",
   "metadata": {},
   "source": [
    "<br>"
   ]
  },
  {
   "cell_type": "markdown",
   "id": "ce643c08-b783-46ed-8e9f-9b3b7828c983",
   "metadata": {},
   "source": [
    "### List collections for domain(s)"
   ]
  },
  {
   "cell_type": "code",
   "execution_count": 36,
   "id": "6cfac7df-3de0-476e-a756-8556a4a2a40c",
   "metadata": {
    "tags": []
   },
   "outputs": [
    {
     "data": {
      "text/markdown": [
       "`ds list collections for domain '<domain_name>' [ save as '<filename.csv>' ]` <br> \n",
       "`ds list collections for domains ['<domain_name>','<domain_name>',...] [ save as '<filename.csv>' ]` <br> \n",
       "<span style=\"color: #ccc\">--------------------------------------------------------------------------------------------------</span> <br> \n",
       "List the available collections for a certain Deep Search domain, or a list of domains. <br> \n",
       "\n",
       "Use the command `list all collections` to find available domains. <br> \n",
       "\n",
       "Use the `save as` clause to save the results as a csv file in your current workspace. <br> \n",
       "\n",
       "Examples: <br> \n",
       "- `ds list collections for domain 'Business Insights'` <br> \n",
       "- `ds list collections for domains ['Materials Science','Scientific Literature']` <br> \n",
       "\n",
       "\n",
       "\n",
       " i  <span style=\"color: #ccc\">To see all available Deep Search commands, run `ds`</span> <br> \n"
      ],
      "text/plain": [
       "<IPython.core.display.Markdown object>"
      ]
     },
     "execution_count": 36,
     "metadata": {},
     "output_type": "execute_result"
    }
   ],
   "source": [
    "# Command help\n",
    "%openad ds list collections for domain ?"
   ]
  },
  {
   "cell_type": "code",
   "execution_count": 37,
   "id": "5e7babd3-a318-4f6c-be0d-663e7650e233",
   "metadata": {
    "tags": []
   },
   "outputs": [
    {
     "data": {
      "text/markdown": [
       "<span style=\"color: #ccc\">Next up, you can run: </span>`result open`/`edit`/`copy`/`display`/`as dataframe`/`save [as '<filename.csv>']` <br> \n"
      ],
      "text/plain": [
       "<IPython.core.display.Markdown object>"
      ]
     },
     "metadata": {},
     "output_type": "display_data"
    },
    {
     "data": {
      "text/html": [
       "<style type=\"text/css\">\n",
       "</style>\n",
       "<table id=\"T_04819\">\n",
       "  <thead>\n",
       "    <tr>\n",
       "      <th id=\"T_04819_level0_col0\" class=\"col_heading level0 col0\" >Collection Name</th>\n",
       "      <th id=\"T_04819_level0_col1\" class=\"col_heading level0 col1\" >Collection Key</th>\n",
       "      <th id=\"T_04819_level0_col2\" class=\"col_heading level0 col2\" >Entries</th>\n",
       "      <th id=\"T_04819_level0_col3\" class=\"col_heading level0 col3\" >Domain</th>\n",
       "      <th id=\"T_04819_level0_col4\" class=\"col_heading level0 col4\" >Type</th>\n",
       "      <th id=\"T_04819_level0_col5\" class=\"col_heading level0 col5\" >Created</th>\n",
       "      <th id=\"T_04819_level0_col6\" class=\"col_heading level0 col6\" >Elastic ID</th>\n",
       "    </tr>\n",
       "  </thead>\n",
       "  <tbody>\n",
       "    <tr>\n",
       "      <td id=\"T_04819_row0_col0\" class=\"data row0 col0\" >Annual Reports</td>\n",
       "      <td id=\"T_04819_row0_col1\" class=\"data row0 col1\" >annual-report</td>\n",
       "      <td id=\"T_04819_row0_col2\" class=\"data row0 col2\" >107,375</td>\n",
       "      <td id=\"T_04819_row0_col3\" class=\"data row0 col3\" >Business Insights</td>\n",
       "      <td id=\"T_04819_row0_col4\" class=\"data row0 col4\" >Document</td>\n",
       "      <td id=\"T_04819_row0_col5\" class=\"data row0 col5\" >2024-01-23</td>\n",
       "      <td id=\"T_04819_row0_col6\" class=\"data row0 col6\" >default</td>\n",
       "    </tr>\n",
       "    <tr>\n",
       "      <td id=\"T_04819_row1_col0\" class=\"data row1 col0\" >ESG Reports</td>\n",
       "      <td id=\"T_04819_row1_col1\" class=\"data row1 col1\" >esg-report</td>\n",
       "      <td id=\"T_04819_row1_col2\" class=\"data row1 col2\" >17,358</td>\n",
       "      <td id=\"T_04819_row1_col3\" class=\"data row1 col3\" >Business Insights</td>\n",
       "      <td id=\"T_04819_row1_col4\" class=\"data row1 col4\" >Document</td>\n",
       "      <td id=\"T_04819_row1_col5\" class=\"data row1 col5\" >2024-01-22</td>\n",
       "      <td id=\"T_04819_row1_col6\" class=\"data row1 col6\" >default</td>\n",
       "    </tr>\n",
       "    <tr>\n",
       "      <td id=\"T_04819_row2_col0\" class=\"data row2 col0\" >IBM Redbooks</td>\n",
       "      <td id=\"T_04819_row2_col1\" class=\"data row2 col1\" >ibm-redbooks</td>\n",
       "      <td id=\"T_04819_row2_col2\" class=\"data row2 col2\" >2,751</td>\n",
       "      <td id=\"T_04819_row2_col3\" class=\"data row2 col3\" >Business Insights</td>\n",
       "      <td id=\"T_04819_row2_col4\" class=\"data row2 col4\" >Document</td>\n",
       "      <td id=\"T_04819_row2_col5\" class=\"data row2 col5\" >2023-08-02</td>\n",
       "      <td id=\"T_04819_row2_col6\" class=\"data row2 col6\" >default</td>\n",
       "    </tr>\n",
       "    <tr>\n",
       "      <td id=\"T_04819_row3_col0\" class=\"data row3 col0\" >Press Release</td>\n",
       "      <td id=\"T_04819_row3_col1\" class=\"data row3 col1\" >press-release</td>\n",
       "      <td id=\"T_04819_row3_col2\" class=\"data row3 col2\" >43,042</td>\n",
       "      <td id=\"T_04819_row3_col3\" class=\"data row3 col3\" >Business Insights</td>\n",
       "      <td id=\"T_04819_row3_col4\" class=\"data row3 col4\" >Document</td>\n",
       "      <td id=\"T_04819_row3_col5\" class=\"data row3 col5\" >2024-02-27</td>\n",
       "      <td id=\"T_04819_row3_col6\" class=\"data row3 col6\" >default</td>\n",
       "    </tr>\n",
       "    <tr>\n",
       "      <td id=\"T_04819_row4_col0\" class=\"data row4 col0\" >Red Hat</td>\n",
       "      <td id=\"T_04819_row4_col1\" class=\"data row4 col1\" >redhat</td>\n",
       "      <td id=\"T_04819_row4_col2\" class=\"data row4 col2\" >6,213</td>\n",
       "      <td id=\"T_04819_row4_col3\" class=\"data row4 col3\" >Business Insights</td>\n",
       "      <td id=\"T_04819_row4_col4\" class=\"data row4 col4\" >Document</td>\n",
       "      <td id=\"T_04819_row4_col5\" class=\"data row4 col5\" >2023-07-14</td>\n",
       "      <td id=\"T_04819_row4_col6\" class=\"data row4 col6\" >default</td>\n",
       "    </tr>\n",
       "  </tbody>\n",
       "</table>\n"
      ],
      "text/plain": [
       "<pandas.io.formats.style.Styler at 0x17575f7f0>"
      ]
     },
     "metadata": {},
     "output_type": "display_data"
    }
   ],
   "source": [
    "# Single domain\n",
    "%openad ds list collections for domain 'Business Insights'"
   ]
  },
  {
   "cell_type": "code",
   "execution_count": 38,
   "id": "e9c7cf36-0704-4402-a678-c3768ce26281",
   "metadata": {
    "tags": []
   },
   "outputs": [
    {
     "data": {
      "text/markdown": [
       "<span style=\"color: #ccc\">Next up, you can run: </span>`result open`/`edit`/`copy`/`display`/`as dataframe`/`save [as '<filename.csv>']` <br> \n"
      ],
      "text/plain": [
       "<IPython.core.display.Markdown object>"
      ]
     },
     "metadata": {},
     "output_type": "display_data"
    },
    {
     "data": {
      "text/html": [
       "<style type=\"text/css\">\n",
       "</style>\n",
       "<table id=\"T_26fbf\">\n",
       "  <thead>\n",
       "    <tr>\n",
       "      <th id=\"T_26fbf_level0_col0\" class=\"col_heading level0 col0\" >Collection Name</th>\n",
       "      <th id=\"T_26fbf_level0_col1\" class=\"col_heading level0 col1\" >Collection Key</th>\n",
       "      <th id=\"T_26fbf_level0_col2\" class=\"col_heading level0 col2\" >Entries</th>\n",
       "      <th id=\"T_26fbf_level0_col3\" class=\"col_heading level0 col3\" >Domain</th>\n",
       "      <th id=\"T_26fbf_level0_col4\" class=\"col_heading level0 col4\" >Type</th>\n",
       "      <th id=\"T_26fbf_level0_col5\" class=\"col_heading level0 col5\" >Created</th>\n",
       "      <th id=\"T_26fbf_level0_col6\" class=\"col_heading level0 col6\" >Elastic ID</th>\n",
       "    </tr>\n",
       "  </thead>\n",
       "  <tbody>\n",
       "    <tr>\n",
       "      <td id=\"T_26fbf_row0_col0\" class=\"data row0 col0\" >AAAI</td>\n",
       "      <td id=\"T_26fbf_row0_col1\" class=\"data row0 col1\" >aaai</td>\n",
       "      <td id=\"T_26fbf_row0_col2\" class=\"data row0 col2\" >16,021</td>\n",
       "      <td id=\"T_26fbf_row0_col3\" class=\"data row0 col3\" >Scientific Literature</td>\n",
       "      <td id=\"T_26fbf_row0_col4\" class=\"data row0 col4\" >Document</td>\n",
       "      <td id=\"T_26fbf_row0_col5\" class=\"data row0 col5\" >2024-01-23</td>\n",
       "      <td id=\"T_26fbf_row0_col6\" class=\"data row0 col6\" >default</td>\n",
       "    </tr>\n",
       "    <tr>\n",
       "      <td id=\"T_26fbf_row1_col0\" class=\"data row1 col0\" >ACL Anthology</td>\n",
       "      <td id=\"T_26fbf_row1_col1\" class=\"data row1 col1\" >acl</td>\n",
       "      <td id=\"T_26fbf_row1_col2\" class=\"data row1 col2\" >55,278</td>\n",
       "      <td id=\"T_26fbf_row1_col3\" class=\"data row1 col3\" >Scientific Literature</td>\n",
       "      <td id=\"T_26fbf_row1_col4\" class=\"data row1 col4\" >Document</td>\n",
       "      <td id=\"T_26fbf_row1_col5\" class=\"data row1 col5\" >2023-10-05</td>\n",
       "      <td id=\"T_26fbf_row1_col6\" class=\"data row1 col6\" >default</td>\n",
       "    </tr>\n",
       "    <tr>\n",
       "      <td id=\"T_26fbf_row2_col0\" class=\"data row2 col0\" >arXiv abstracts</td>\n",
       "      <td id=\"T_26fbf_row2_col1\" class=\"data row2 col1\" >arxiv-abstract</td>\n",
       "      <td id=\"T_26fbf_row2_col2\" class=\"data row2 col2\" >2,346,838</td>\n",
       "      <td id=\"T_26fbf_row2_col3\" class=\"data row2 col3\" >Scientific Literature</td>\n",
       "      <td id=\"T_26fbf_row2_col4\" class=\"data row2 col4\" >Document</td>\n",
       "      <td id=\"T_26fbf_row2_col5\" class=\"data row2 col5\" >2023-10-24</td>\n",
       "      <td id=\"T_26fbf_row2_col6\" class=\"data row2 col6\" >default</td>\n",
       "    </tr>\n",
       "    <tr>\n",
       "      <td id=\"T_26fbf_row3_col0\" class=\"data row3 col0\" >arXiv full documents</td>\n",
       "      <td id=\"T_26fbf_row3_col1\" class=\"data row3 col1\" >arxiv</td>\n",
       "      <td id=\"T_26fbf_row3_col2\" class=\"data row3 col2\" >2,290,847</td>\n",
       "      <td id=\"T_26fbf_row3_col3\" class=\"data row3 col3\" >Scientific Literature</td>\n",
       "      <td id=\"T_26fbf_row3_col4\" class=\"data row3 col4\" >Document</td>\n",
       "      <td id=\"T_26fbf_row3_col5\" class=\"data row3 col5\" >2024-01-27</td>\n",
       "      <td id=\"T_26fbf_row3_col6\" class=\"data row3 col6\" >default</td>\n",
       "    </tr>\n",
       "    <tr>\n",
       "      <td id=\"T_26fbf_row4_col0\" class=\"data row4 col0\" >Cord19</td>\n",
       "      <td id=\"T_26fbf_row4_col1\" class=\"data row4 col1\" >cord19</td>\n",
       "      <td id=\"T_26fbf_row4_col2\" class=\"data row4 col2\" >655,447</td>\n",
       "      <td id=\"T_26fbf_row4_col3\" class=\"data row4 col3\" >Healthcare & Life Sciences / Scientific Literature</td>\n",
       "      <td id=\"T_26fbf_row4_col4\" class=\"data row4 col4\" >Document</td>\n",
       "      <td id=\"T_26fbf_row4_col5\" class=\"data row4 col5\" >2023-04-14</td>\n",
       "      <td id=\"T_26fbf_row4_col6\" class=\"data row4 col6\" >default</td>\n",
       "    </tr>\n",
       "    <tr>\n",
       "      <td id=\"T_26fbf_row5_col0\" class=\"data row5 col0\" >Crossref</td>\n",
       "      <td id=\"T_26fbf_row5_col1\" class=\"data row5 col1\" >crossref</td>\n",
       "      <td id=\"T_26fbf_row5_col2\" class=\"data row5 col2\" >131,857,641</td>\n",
       "      <td id=\"T_26fbf_row5_col3\" class=\"data row5 col3\" >Scientific Literature</td>\n",
       "      <td id=\"T_26fbf_row5_col4\" class=\"data row5 col4\" >Document</td>\n",
       "      <td id=\"T_26fbf_row5_col5\" class=\"data row5 col5\" >2023-04-15</td>\n",
       "      <td id=\"T_26fbf_row5_col6\" class=\"data row5 col6\" >default</td>\n",
       "    </tr>\n",
       "    <tr>\n",
       "      <td id=\"T_26fbf_row6_col0\" class=\"data row6 col0\" >PatCID</td>\n",
       "      <td id=\"T_26fbf_row6_col1\" class=\"data row6 col1\" >patcid</td>\n",
       "      <td id=\"T_26fbf_row6_col2\" class=\"data row6 col2\" >23,913,077</td>\n",
       "      <td id=\"T_26fbf_row6_col3\" class=\"data row6 col3\" >Materials Science</td>\n",
       "      <td id=\"T_26fbf_row6_col4\" class=\"data row6 col4\" >Record</td>\n",
       "      <td id=\"T_26fbf_row6_col5\" class=\"data row6 col5\" >2024-10-04</td>\n",
       "      <td id=\"T_26fbf_row6_col6\" class=\"data row6 col6\" >default</td>\n",
       "    </tr>\n",
       "    <tr>\n",
       "      <td id=\"T_26fbf_row7_col0\" class=\"data row7 col0\" >Patent SMILES</td>\n",
       "      <td id=\"T_26fbf_row7_col1\" class=\"data row7 col1\" >patent-smiles</td>\n",
       "      <td id=\"T_26fbf_row7_col2\" class=\"data row7 col2\" >4,337,155</td>\n",
       "      <td id=\"T_26fbf_row7_col3\" class=\"data row7 col3\" >Scientific Literature</td>\n",
       "      <td id=\"T_26fbf_row7_col4\" class=\"data row7 col4\" >Document</td>\n",
       "      <td id=\"T_26fbf_row7_col5\" class=\"data row7 col5\" >2024-09-30</td>\n",
       "      <td id=\"T_26fbf_row7_col6\" class=\"data row7 col6\" >default</td>\n",
       "    </tr>\n",
       "    <tr>\n",
       "      <td id=\"T_26fbf_row8_col0\" class=\"data row8 col0\" >Patents from USPTO</td>\n",
       "      <td id=\"T_26fbf_row8_col1\" class=\"data row8 col1\" >patent-uspto</td>\n",
       "      <td id=\"T_26fbf_row8_col2\" class=\"data row8 col2\" >16,739,269</td>\n",
       "      <td id=\"T_26fbf_row8_col3\" class=\"data row8 col3\" >Scientific Literature</td>\n",
       "      <td id=\"T_26fbf_row8_col4\" class=\"data row8 col4\" >Document</td>\n",
       "      <td id=\"T_26fbf_row8_col5\" class=\"data row8 col5\" >2024-09-01</td>\n",
       "      <td id=\"T_26fbf_row8_col6\" class=\"data row8 col6\" >default</td>\n",
       "    </tr>\n",
       "    <tr>\n",
       "      <td id=\"T_26fbf_row9_col0\" class=\"data row9 col0\" >PLOS</td>\n",
       "      <td id=\"T_26fbf_row9_col1\" class=\"data row9 col1\" >plos</td>\n",
       "      <td id=\"T_26fbf_row9_col2\" class=\"data row9 col2\" >340,275</td>\n",
       "      <td id=\"T_26fbf_row9_col3\" class=\"data row9 col3\" >Scientific Literature</td>\n",
       "      <td id=\"T_26fbf_row9_col4\" class=\"data row9 col4\" >Document</td>\n",
       "      <td id=\"T_26fbf_row9_col5\" class=\"data row9 col5\" >2024-01-22</td>\n",
       "      <td id=\"T_26fbf_row9_col6\" class=\"data row9 col6\" >default</td>\n",
       "    </tr>\n",
       "    <tr>\n",
       "      <td id=\"T_26fbf_row10_col0\" class=\"data row10 col0\" >PubChem</td>\n",
       "      <td id=\"T_26fbf_row10_col1\" class=\"data row10 col1\" >pubchem</td>\n",
       "      <td id=\"T_26fbf_row10_col2\" class=\"data row10 col2\" >118,240,842</td>\n",
       "      <td id=\"T_26fbf_row10_col3\" class=\"data row10 col3\" >Materials Science</td>\n",
       "      <td id=\"T_26fbf_row10_col4\" class=\"data row10 col4\" >Record</td>\n",
       "      <td id=\"T_26fbf_row10_col5\" class=\"data row10 col5\" >2023-10-06</td>\n",
       "      <td id=\"T_26fbf_row10_col6\" class=\"data row10 col6\" >default</td>\n",
       "    </tr>\n",
       "    <tr>\n",
       "      <td id=\"T_26fbf_row11_col0\" class=\"data row11 col0\" >Semantic Scholar Academic Graph</td>\n",
       "      <td id=\"T_26fbf_row11_col1\" class=\"data row11 col1\" >semantic-scholar</td>\n",
       "      <td id=\"T_26fbf_row11_col2\" class=\"data row11 col2\" >212,110,410</td>\n",
       "      <td id=\"T_26fbf_row11_col3\" class=\"data row11 col3\" >Scientific Literature</td>\n",
       "      <td id=\"T_26fbf_row11_col4\" class=\"data row11 col4\" >Document</td>\n",
       "      <td id=\"T_26fbf_row11_col5\" class=\"data row11 col5\" >2023-05-28</td>\n",
       "      <td id=\"T_26fbf_row11_col6\" class=\"data row11 col6\" >default</td>\n",
       "    </tr>\n",
       "  </tbody>\n",
       "</table>\n"
      ],
      "text/plain": [
       "<pandas.io.formats.style.Styler at 0x174d4c1c0>"
      ]
     },
     "metadata": {},
     "output_type": "display_data"
    }
   ],
   "source": [
    "# Multiple domains\n",
    "%openad ds list collections for domains ['Materials Science','Scientific Literature']"
   ]
  },
  {
   "cell_type": "code",
   "execution_count": 40,
   "id": "c98167a1-4b81-4823-823d-fdbac7b7f253",
   "metadata": {
    "tags": []
   },
   "outputs": [
    {
     "data": {
      "text/html": [
       "<div>\n",
       "<style scoped>\n",
       "    .dataframe tbody tr th:only-of-type {\n",
       "        vertical-align: middle;\n",
       "    }\n",
       "\n",
       "    .dataframe tbody tr th {\n",
       "        vertical-align: top;\n",
       "    }\n",
       "\n",
       "    .dataframe thead th {\n",
       "        text-align: right;\n",
       "    }\n",
       "</style>\n",
       "<table border=\"1\" class=\"dataframe\">\n",
       "  <thead>\n",
       "    <tr style=\"text-align: right;\">\n",
       "      <th></th>\n",
       "      <th>Collection Name</th>\n",
       "      <th>Collection Key</th>\n",
       "      <th>Entries</th>\n",
       "      <th>Domain</th>\n",
       "      <th>Type</th>\n",
       "      <th>Created</th>\n",
       "      <th>Elastic ID</th>\n",
       "    </tr>\n",
       "  </thead>\n",
       "  <tbody>\n",
       "    <tr>\n",
       "      <th>0</th>\n",
       "      <td>Annual Reports</td>\n",
       "      <td>annual-report</td>\n",
       "      <td>107375</td>\n",
       "      <td>Business Insights</td>\n",
       "      <td>Document</td>\n",
       "      <td>2024-01-23</td>\n",
       "      <td>default</td>\n",
       "    </tr>\n",
       "    <tr>\n",
       "      <th>1</th>\n",
       "      <td>ESG Reports</td>\n",
       "      <td>esg-report</td>\n",
       "      <td>17358</td>\n",
       "      <td>Business Insights</td>\n",
       "      <td>Document</td>\n",
       "      <td>2024-01-22</td>\n",
       "      <td>default</td>\n",
       "    </tr>\n",
       "    <tr>\n",
       "      <th>2</th>\n",
       "      <td>IBM Redbooks</td>\n",
       "      <td>ibm-redbooks</td>\n",
       "      <td>2751</td>\n",
       "      <td>Business Insights</td>\n",
       "      <td>Document</td>\n",
       "      <td>2023-08-02</td>\n",
       "      <td>default</td>\n",
       "    </tr>\n",
       "    <tr>\n",
       "      <th>3</th>\n",
       "      <td>Press Release</td>\n",
       "      <td>press-release</td>\n",
       "      <td>43042</td>\n",
       "      <td>Business Insights</td>\n",
       "      <td>Document</td>\n",
       "      <td>2024-02-27</td>\n",
       "      <td>default</td>\n",
       "    </tr>\n",
       "    <tr>\n",
       "      <th>4</th>\n",
       "      <td>Red Hat</td>\n",
       "      <td>redhat</td>\n",
       "      <td>6213</td>\n",
       "      <td>Business Insights</td>\n",
       "      <td>Document</td>\n",
       "      <td>2023-07-14</td>\n",
       "      <td>default</td>\n",
       "    </tr>\n",
       "  </tbody>\n",
       "</table>\n",
       "</div>"
      ],
      "text/plain": [
       "  Collection Name Collection Key  Entries             Domain      Type   \n",
       "0  Annual Reports  annual-report   107375  Business Insights  Document  \\\n",
       "1     ESG Reports     esg-report    17358  Business Insights  Document   \n",
       "2    IBM Redbooks   ibm-redbooks     2751  Business Insights  Document   \n",
       "3   Press Release  press-release    43042  Business Insights  Document   \n",
       "4         Red Hat         redhat     6213  Business Insights  Document   \n",
       "\n",
       "      Created Elastic ID  \n",
       "0  2024-01-23    default  \n",
       "1  2024-01-22    default  \n",
       "2  2023-08-02    default  \n",
       "3  2024-02-27    default  \n",
       "4  2023-07-14    default  "
      ]
     },
     "execution_count": 40,
     "metadata": {},
     "output_type": "execute_result"
    }
   ],
   "source": [
    "# Data API\n",
    "data = %openadd ds list collections for domain 'Business Insights'\n",
    "data"
   ]
  },
  {
   "cell_type": "markdown",
   "id": "1d1e1dc0-0ff9-466b-b78b-6e1e2913fe4a",
   "metadata": {
    "tags": []
   },
   "source": [
    "<br>"
   ]
  },
  {
   "cell_type": "markdown",
   "id": "b8bc3e08-2ec3-4eed-a3e8-f3287115c473",
   "metadata": {},
   "source": [
    "### List collection details"
   ]
  },
  {
   "cell_type": "code",
   "execution_count": 41,
   "id": "560ead97-9811-41af-94ed-7c023cfa09e5",
   "metadata": {
    "tags": []
   },
   "outputs": [
    {
     "data": {
      "text/markdown": [
       "`ds list collection details '<collection_name_or_key>'` <br> \n",
       "<span style=\"color: #ccc\">-----------------------------------------------------</span> <br> \n",
       "Display the details for a collection by providing the collection name or key. <br> \n",
       "\n",
       "Run `list all collections` to list available collections. <br> \n",
       "\n",
       "Examples: <br> \n",
       "- `ds list collection details 'Patents from USPTO'` <br> \n",
       "- `ds list collection details 'patent-uspto'` <br> \n",
       "\n",
       "\n",
       "\n",
       " i  <span style=\"color: #ccc\">To see all available Deep Search commands, run `ds`</span> <br> \n"
      ],
      "text/plain": [
       "<IPython.core.display.Markdown object>"
      ]
     },
     "execution_count": 41,
     "metadata": {},
     "output_type": "execute_result"
    }
   ],
   "source": [
    "# Command help\n",
    "%openad ds list collection details ?"
   ]
  },
  {
   "cell_type": "code",
   "execution_count": 42,
   "id": "a2c26fe5-297c-46d6-ac6f-a65108a0aca7",
   "metadata": {
    "tags": []
   },
   "outputs": [
    {
     "data": {
      "text/markdown": [
       "## Patents from USPTO\n",
       "Patents from the US Patent and Trade Office (USPTO). The collection includes patent grants published in 1976 or later, and patent applications (pre-grant publications) published in March 2001 or later. <br> \n",
       "<span style=\"color: #ccc\">---</span> <br> \n",
       "<span style=\"color: #dc0\">Name     </span> Patents from USPTO <br> \n",
       "<span style=\"color: #dc0\">Key      </span> patent-uspto <br> \n",
       "<span style=\"color: #dc0\">Domain   </span> Scientific Literature <br> \n",
       "<span style=\"color: #dc0\">Type     </span> Document <br> \n",
       "<span style=\"color: #dc0\">Entries  </span> 16,739,269 <br> \n",
       "<span style=\"color: #dc0\">Created  </span> Sep 01, 2024 <br> \n"
      ],
      "text/plain": [
       "<IPython.core.display.Markdown object>"
      ]
     },
     "metadata": {},
     "output_type": "display_data"
    }
   ],
   "source": [
    "# By name\n",
    "%openad ds list collection details 'Patents from USPTO'"
   ]
  },
  {
   "cell_type": "code",
   "execution_count": 43,
   "id": "9af0aa4d-aac3-4be9-967f-137e6fe711af",
   "metadata": {
    "tags": []
   },
   "outputs": [
    {
     "data": {
      "text/markdown": [
       "## Patents from USPTO\n",
       "Patents from the US Patent and Trade Office (USPTO). The collection includes patent grants published in 1976 or later, and patent applications (pre-grant publications) published in March 2001 or later. <br> \n",
       "<span style=\"color: #ccc\">---</span> <br> \n",
       "<span style=\"color: #dc0\">Name     </span> Patents from USPTO <br> \n",
       "<span style=\"color: #dc0\">Key      </span> patent-uspto <br> \n",
       "<span style=\"color: #dc0\">Domain   </span> Scientific Literature <br> \n",
       "<span style=\"color: #dc0\">Type     </span> Document <br> \n",
       "<span style=\"color: #dc0\">Entries  </span> 16,739,269 <br> \n",
       "<span style=\"color: #dc0\">Created  </span> Sep 01, 2024 <br> \n"
      ],
      "text/plain": [
       "<IPython.core.display.Markdown object>"
      ]
     },
     "metadata": {},
     "output_type": "display_data"
    }
   ],
   "source": [
    "# By key\n",
    "%openad ds list collection details 'patent-uspto'"
   ]
  },
  {
   "cell_type": "code",
   "execution_count": 45,
   "id": "7f70c7a1-791b-4750-b7ad-0033dab943b0",
   "metadata": {
    "tags": []
   },
   "outputs": [
    {
     "data": {
      "text/html": [
       "<div>\n",
       "<style scoped>\n",
       "    .dataframe tbody tr th:only-of-type {\n",
       "        vertical-align: middle;\n",
       "    }\n",
       "\n",
       "    .dataframe tbody tr th {\n",
       "        vertical-align: top;\n",
       "    }\n",
       "\n",
       "    .dataframe thead th {\n",
       "        text-align: right;\n",
       "    }\n",
       "</style>\n",
       "<table border=\"1\" class=\"dataframe\">\n",
       "  <thead>\n",
       "    <tr style=\"text-align: right;\">\n",
       "      <th></th>\n",
       "      <th>Collection Name</th>\n",
       "      <th>Collection Key</th>\n",
       "      <th>Description</th>\n",
       "      <th>Domain</th>\n",
       "      <th>Type</th>\n",
       "      <th>Entries</th>\n",
       "      <th>Created</th>\n",
       "      <th>Created timestamp</th>\n",
       "    </tr>\n",
       "  </thead>\n",
       "  <tbody>\n",
       "    <tr>\n",
       "      <th>0</th>\n",
       "      <td>Patents from USPTO</td>\n",
       "      <td>patent-uspto</td>\n",
       "      <td>Patents from the US Patent and Trade Office (USPTO). The collection includes patent grants published in 1976 or later, and patent applications (pre-grant publications) published in March 2001 or later.</td>\n",
       "      <td>Scientific Literature</td>\n",
       "      <td>Document</td>\n",
       "      <td>16739269</td>\n",
       "      <td>2024-09-01</td>\n",
       "      <td>2024-09-01 08:14:33.876000+00:00</td>\n",
       "    </tr>\n",
       "  </tbody>\n",
       "</table>\n",
       "</div>"
      ],
      "text/plain": [
       "      Collection Name Collection Key   \n",
       "0  Patents from USPTO   patent-uspto  \\\n",
       "\n",
       "                                                                                                                                                                                                 Description   \n",
       "0  Patents from the US Patent and Trade Office (USPTO). The collection includes patent grants published in 1976 or later, and patent applications (pre-grant publications) published in March 2001 or later.  \\\n",
       "\n",
       "                  Domain      Type   Entries     Created   \n",
       "0  Scientific Literature  Document  16739269  2024-09-01  \\\n",
       "\n",
       "                 Created timestamp  \n",
       "0 2024-09-01 08:14:33.876000+00:00  "
      ]
     },
     "execution_count": 45,
     "metadata": {},
     "output_type": "execute_result"
    }
   ],
   "source": [
    "# Data API\n",
    "data = %openadd ds list collection details 'Patents from USPTO'\n",
    "data"
   ]
  },
  {
   "cell_type": "markdown",
   "id": "1d382f13-113d-45fe-8016-c9bf8744d107",
   "metadata": {},
   "source": [
    "<br>"
   ]
  },
  {
   "cell_type": "markdown",
   "id": "1760df37-e308-42a9-b75d-30c0bf4dbf28",
   "metadata": {},
   "source": [
    "### Search collection"
   ]
  },
  {
   "cell_type": "code",
   "execution_count": 46,
   "id": "06fface6-19be-4256-add2-f1c3c01f4e34",
   "metadata": {
    "tags": []
   },
   "outputs": [
    {
     "data": {
      "text/markdown": [
       "`ds search collection '<collection_name_or_key>' for '<search_query>' <br> \n",
       "    [ USING (<parameter>=<value> <parameter>=<value>) ] [ show (data | docs | data docs) ] <br> \n",
       "    [ estimate only ] [ save as '<filename.csv>' ]` <br> \n",
       "<span style=\"color: #ccc\">------------------------------------------------------------------------------------------------------------------------</span> <br> \n",
       "Search a given collection in the Deep Search repository.\n",
       "\n",
       "\n",
       "## Parameters\n",
       "\n",
       "`<collection_name_or_key>` <br> \n",
       "    The name or index key for a collection. <br> \n",
       "    Run `list all collections` to list available collections. <br> \n",
       "\n",
       "`<search_query>` <br> \n",
       "    The search string to search for. <br> \n",
       "    Supports elastic search string query syntax: <br> \n",
       "        `+`  AND operation <br> \n",
       "        `|`  OR operation <br> \n",
       "        `-`  Negate a single token <br> \n",
       "        `\"`  Wrap a number of tokens to signify a phrase for searching <br> \n",
       "        `*`  Prefix query when placed at the end of a term <br> \n",
       "        `()` Grouping for precedence <br> \n",
       "        `~N` Edit distance (fuzziness) when placed after a word, or slop amount when placed after a phrase <br> \n",
       "           More information can be found at: <br> \n",
       "           https://www.elastic.co/guide/en/elasticsearch/reference/current/query-dsl-simple-query-string-query.html#simple-query-string-query-notes <br> \n",
       "\n",
       "    \n",
       "## The USING clause\n",
       "\n",
       "`slop=<integer>` <br> \n",
       "    The slop amount of your elastic query. This is the maximum number of positions allowed between matching tokens. Recommended to be between 0-5, defaults to 3. <br> \n",
       "    Note that a higher slop will slow down the search process. <br> \n",
       "    Eg. searching for 'power efficiency' will match 'power conversion efficiency' with a slop of 1 or higher, but not with a slop of 0. <br> \n",
       "\n",
       "`limit_results=<integer>` <br> \n",
       "    Limit the number of results returned. Note that this does not speed up the search process. <br> \n",
       "\n",
       "`elastic_page_size=<integer>` <br> \n",
       "    The number of records to scan in each iteration of the paginated elastic query, reflected by the progress bar. <br> \n",
       "    Defaults to 50. Increasing this number may speed up the search process but will cause the search to consume more memory. <br> \n",
       "\n",
       "`elastic_id=<elastic_id>` <br> \n",
       "    Advanced: The elastic search engine used. This will always be 'default' for publicly available collections, but could be customized if you're running a local instance of Deep Search.\n",
       "\n",
       "\n",
       "## Clauses\n",
       "\n",
       "`show (data)` <br> \n",
       "    Display structured data from within the documents. <br> \n",
       "\n",
       "`show (docs)` <br> \n",
       "    Display document context and preview snippet. <br> \n",
       "\n",
       "`show (data docs)` <br> \n",
       "    Combine both data and docs. <br> \n",
       "\n",
       "`estimate only` <br> \n",
       "    Determine the potential number of hits. <br> \n",
       "\n",
       "`save as` <br> \n",
       "    save the results as a csv file in your current workspace.\n",
       "\n",
       "\n",
       "## Examples\n",
       "\n",
       "Look for documents that contain discussions on power conversion efficiency: <br> \n",
       "- `ds search collection 'arxiv-abstract' for 'ide(\"power conversion efficiency\" OR PCE) AND organ*' USING (limit_results=10 slop=0) show (docs)` <br> \n",
       "\n",
       "Compare result count with differenty slop amounts: <br> \n",
       "- `ds search collection 'arxiv-abstract' for '\"power efficiency\"' USING (slop=0) estimate only` <br> \n",
       "- `ds search collection 'arxiv-abstract' for '\"power efficiency\"' USING (slop=1) estimate only` <br> \n",
       "- `ds search collection 'arxiv-abstract' for '\"power efficiency\"' USING (slop=5) estimate only` <br> \n",
       "\n",
       "Search the PubChem archive for 'Ibuprofen', list related molecules' data, then inspect molecules in the GUI. <br> \n",
       "- `ds search collection 'pubchem' for 'Ibuprofen' show (data)` <br> \n",
       "- `result open` <br> \n",
       "\n",
       "Search for patents which mention a specific SMILES molecule: <br> \n",
       "- `ds search collection 'patent-uspto' for '\"CC(CCO)CCCC(C)C\"' show (data)` <br> \n",
       "- `ds search collection 'patent-uspto' for '\"CC(CCO)CCCC(C)C\"' show (docs)` <br> \n",
       "\n",
       "\n",
       "\n",
       " i  <span style=\"color: #ccc\">To see all available Deep Search commands, run `ds`</span> <br> \n"
      ],
      "text/plain": [
       "<IPython.core.display.Markdown object>"
      ]
     },
     "execution_count": 46,
     "metadata": {},
     "output_type": "execute_result"
    }
   ],
   "source": [
    "# Command help\n",
    "%openad ds search collection ?"
   ]
  },
  {
   "cell_type": "code",
   "execution_count": 47,
   "id": "927d30a6-04c0-42d0-99c4-ff6b617b585f",
   "metadata": {
    "tags": []
   },
   "outputs": [
    {
     "data": {
      "text/markdown": [
       "Estimated results: 75 <br> \n"
      ],
      "text/plain": [
       "<IPython.core.display.Markdown object>"
      ]
     },
     "metadata": {},
     "output_type": "display_data"
    },
    {
     "data": {
      "application/vnd.jupyter.widget-view+json": {
       "model_id": "",
       "version_major": 2,
       "version_minor": 0
      },
      "text/plain": [
       "  0%|          "
      ]
     },
     "metadata": {},
     "output_type": "display_data"
    },
    {
     "data": {
      "text/markdown": [
       "**Result distribution by year** <br> \n"
      ],
      "text/plain": [
       "<IPython.core.display.Markdown object>"
      ]
     },
     "metadata": {},
     "output_type": "display_data"
    },
    {
     "data": {
      "text/html": [
       "<style type=\"text/css\">\n",
       "</style>\n",
       "<table id=\"T_25925\">\n",
       "  <thead>\n",
       "    <tr>\n",
       "      <th id=\"T_25925_level0_col0\" class=\"col_heading level0 col0\" >2008</th>\n",
       "      <th id=\"T_25925_level0_col1\" class=\"col_heading level0 col1\" >2009</th>\n",
       "      <th id=\"T_25925_level0_col2\" class=\"col_heading level0 col2\" >2010</th>\n",
       "      <th id=\"T_25925_level0_col3\" class=\"col_heading level0 col3\" >2011</th>\n",
       "      <th id=\"T_25925_level0_col4\" class=\"col_heading level0 col4\" >2012</th>\n",
       "      <th id=\"T_25925_level0_col5\" class=\"col_heading level0 col5\" >2013</th>\n",
       "      <th id=\"T_25925_level0_col6\" class=\"col_heading level0 col6\" >2014</th>\n",
       "      <th id=\"T_25925_level0_col7\" class=\"col_heading level0 col7\" >2015</th>\n",
       "      <th id=\"T_25925_level0_col8\" class=\"col_heading level0 col8\" >2016</th>\n",
       "      <th id=\"T_25925_level0_col9\" class=\"col_heading level0 col9\" >2017</th>\n",
       "      <th id=\"T_25925_level0_col10\" class=\"col_heading level0 col10\" >2018</th>\n",
       "      <th id=\"T_25925_level0_col11\" class=\"col_heading level0 col11\" >2019</th>\n",
       "      <th id=\"T_25925_level0_col12\" class=\"col_heading level0 col12\" >2020</th>\n",
       "      <th id=\"T_25925_level0_col13\" class=\"col_heading level0 col13\" >2021</th>\n",
       "      <th id=\"T_25925_level0_col14\" class=\"col_heading level0 col14\" >2022</th>\n",
       "      <th id=\"T_25925_level0_col15\" class=\"col_heading level0 col15\" >2023</th>\n",
       "    </tr>\n",
       "  </thead>\n",
       "  <tbody>\n",
       "    <tr>\n",
       "      <td id=\"T_25925_row0_col0\" class=\"data row0 col0\" >4</td>\n",
       "      <td id=\"T_25925_row0_col1\" class=\"data row0 col1\" >0</td>\n",
       "      <td id=\"T_25925_row0_col2\" class=\"data row0 col2\" >4</td>\n",
       "      <td id=\"T_25925_row0_col3\" class=\"data row0 col3\" >12</td>\n",
       "      <td id=\"T_25925_row0_col4\" class=\"data row0 col4\" >8</td>\n",
       "      <td id=\"T_25925_row0_col5\" class=\"data row0 col5\" >8</td>\n",
       "      <td id=\"T_25925_row0_col6\" class=\"data row0 col6\" >4</td>\n",
       "      <td id=\"T_25925_row0_col7\" class=\"data row0 col7\" >28</td>\n",
       "      <td id=\"T_25925_row0_col8\" class=\"data row0 col8\" >20</td>\n",
       "      <td id=\"T_25925_row0_col9\" class=\"data row0 col9\" >52</td>\n",
       "      <td id=\"T_25925_row0_col10\" class=\"data row0 col10\" >28</td>\n",
       "      <td id=\"T_25925_row0_col11\" class=\"data row0 col11\" >32</td>\n",
       "      <td id=\"T_25925_row0_col12\" class=\"data row0 col12\" >28</td>\n",
       "      <td id=\"T_25925_row0_col13\" class=\"data row0 col13\" >32</td>\n",
       "      <td id=\"T_25925_row0_col14\" class=\"data row0 col14\" >20</td>\n",
       "      <td id=\"T_25925_row0_col15\" class=\"data row0 col15\" >20</td>\n",
       "    </tr>\n",
       "  </tbody>\n",
       "</table>\n"
      ],
      "text/plain": [
       "<pandas.io.formats.style.Styler at 0x177326c20>"
      ]
     },
     "metadata": {},
     "output_type": "display_data"
    },
    {
     "data": {
      "text/markdown": [
       "<span style=\"color: #ccc\">Next up, you can run: </span>`result open`/`edit`/`copy`/`display`/`as dataframe`/`save [as '<filename.csv>']` <br> \n"
      ],
      "text/plain": [
       "<IPython.core.display.Markdown object>"
      ]
     },
     "metadata": {},
     "output_type": "display_data"
    },
    {
     "data": {
      "text/html": [
       "<style type=\"text/css\">\n",
       "#T_178e8 th {\n",
       "  text-align: left;\n",
       "}\n",
       "#T_178e8_row0_col0, #T_178e8_row0_col1, #T_178e8_row0_col2, #T_178e8_row0_col3, #T_178e8_row0_col4, #T_178e8_row0_col5, #T_178e8_row0_col6, #T_178e8_row0_col7, #T_178e8_row1_col0, #T_178e8_row1_col1, #T_178e8_row1_col2, #T_178e8_row1_col3, #T_178e8_row1_col4, #T_178e8_row1_col5, #T_178e8_row1_col6, #T_178e8_row1_col7, #T_178e8_row2_col0, #T_178e8_row2_col1, #T_178e8_row2_col2, #T_178e8_row2_col3, #T_178e8_row2_col4, #T_178e8_row2_col5, #T_178e8_row2_col6, #T_178e8_row2_col7, #T_178e8_row3_col0, #T_178e8_row3_col1, #T_178e8_row3_col2, #T_178e8_row3_col3, #T_178e8_row3_col4, #T_178e8_row3_col5, #T_178e8_row3_col6, #T_178e8_row3_col7, #T_178e8_row4_col0, #T_178e8_row4_col1, #T_178e8_row4_col2, #T_178e8_row4_col3, #T_178e8_row4_col4, #T_178e8_row4_col5, #T_178e8_row4_col6, #T_178e8_row4_col7, #T_178e8_row5_col0, #T_178e8_row5_col1, #T_178e8_row5_col2, #T_178e8_row5_col3, #T_178e8_row5_col4, #T_178e8_row5_col5, #T_178e8_row5_col6, #T_178e8_row5_col7, #T_178e8_row6_col0, #T_178e8_row6_col1, #T_178e8_row6_col2, #T_178e8_row6_col3, #T_178e8_row6_col4, #T_178e8_row6_col5, #T_178e8_row6_col6, #T_178e8_row6_col7, #T_178e8_row7_col0, #T_178e8_row7_col1, #T_178e8_row7_col2, #T_178e8_row7_col3, #T_178e8_row7_col4, #T_178e8_row7_col5, #T_178e8_row7_col6, #T_178e8_row7_col7, #T_178e8_row8_col0, #T_178e8_row8_col1, #T_178e8_row8_col2, #T_178e8_row8_col3, #T_178e8_row8_col4, #T_178e8_row8_col5, #T_178e8_row8_col6, #T_178e8_row8_col7, #T_178e8_row9_col0, #T_178e8_row9_col1, #T_178e8_row9_col2, #T_178e8_row9_col3, #T_178e8_row9_col4, #T_178e8_row9_col5, #T_178e8_row9_col6, #T_178e8_row9_col7 {\n",
       "  text-align: left;\n",
       "}\n",
       "</style>\n",
       "<table id=\"T_178e8\">\n",
       "  <thead>\n",
       "    <tr>\n",
       "      <th class=\"blank level0\" >&nbsp;</th>\n",
       "      <th id=\"T_178e8_level0_col0\" class=\"col_heading level0 col0\" >Title</th>\n",
       "      <th id=\"T_178e8_level0_col1\" class=\"col_heading level0 col1\" >Authors</th>\n",
       "      <th id=\"T_178e8_level0_col2\" class=\"col_heading level0 col2\" >Snippet</th>\n",
       "      <th id=\"T_178e8_level0_col3\" class=\"col_heading level0 col3\" >arXiv</th>\n",
       "      <th id=\"T_178e8_level0_col4\" class=\"col_heading level0 col4\" >DOI</th>\n",
       "      <th id=\"T_178e8_level0_col5\" class=\"col_heading level0 col5\" >DS_URL</th>\n",
       "      <th id=\"T_178e8_level0_col6\" class=\"col_heading level0 col6\" >Report</th>\n",
       "      <th id=\"T_178e8_level0_col7\" class=\"col_heading level0 col7\" >Field</th>\n",
       "    </tr>\n",
       "  </thead>\n",
       "  <tbody>\n",
       "    <tr>\n",
       "      <th id=\"T_178e8_level0_row0\" class=\"row_heading level0 row0\" >0</th>\n",
       "      <td id=\"T_178e8_row0_col0\" class=\"data row0 col0\" >Energetics and Kinetics Requirements for Organic Solar Cells to 2 Break\n",
       "  the 20% Power Conversion Efficiency Barrier</td>\n",
       "      <td id=\"T_178e8_row0_col1\" class=\"data row0 col1\" >Oskar J Sandberg,Ardalan Armin</td>\n",
       "      <td id=\"T_178e8_row0_col2\" class=\"data row0 col2\" >These findings provide vital insights into the operation of state-of-art non-fullerene <span style='font-weight: bold; background-color: #FFFF00'>organic</span> solar cells with low offsets.</td>\n",
       "      <td id=\"T_178e8_row0_col3\" class=\"data row0 col3\" ><a href=\"https://arxiv.org/abs/2104.11357\"  target=\"_blank\"> arXiv </a></td>\n",
       "      <td id=\"T_178e8_row0_col4\" class=\"data row0 col4\" ><a href=\"https://doi.org/10.1021/acs.jpcc.1c03656\"  target=\"_blank\"> DOI </a></td>\n",
       "      <td id=\"T_178e8_row0_col5\" class=\"data row0 col5\" ><a href=\"https://sds.app.accelerate.science/projects/1234567890abcdefghijklmnopqrstvwyz123456/library/public?search=JTdCJTIyY29sbGVjdGlvbnMlMjIlM0ElNUIlMjJhcnhpdi1hYnN0cmFjdCUyMiU1RCUyQyUyMnR5cGUlMjIlM0ElMjJEb2N1bWVudCUyMiUyQyUyMmV4cHJlc3Npb24lMjIlM0ElMjJmaWxlLWluZm8uZG9jdW1lbnQtaGFzaCUzQSUyMCU1QyUyMjAyNjkyNjg4ZTRjMjA0ZWQxNWRkZDVmYmUxODE3MDQ3MmY0MTg4NzJmZWUwOTFhMzU3NmJjMWE0YzAyZTA1MmUlNUMlMjIlMjIlMkMlMjJmaWx0ZXJzJTIyJTNBJTVCJTVEJTJDJTIyc2VsZWN0JTIyJTNBJTVCJTIyX25hbWUlMjIlMkMlMjJkZXNjcmlwdGlvbi5jb2xsZWN0aW9uJTIyJTJDJTIycHJvdiUyMiUyQyUyMmRlc2NyaXB0aW9uLnRpdGxlJTIyJTJDJTIyZGVzY3JpcHRpb24ucHVibGljYXRpb25fZGF0ZSUyMiUyQyUyMmRlc2NyaXB0aW9uLnVybF9yZWZzJTIyJTVEJTJDJTIyaXRlbUluZGV4JTIyJTNBMCUyQyUyMnBhZ2VTaXplJTIyJTNBMTAlMkMlMjJzZWFyY2hBZnRlckhpc3RvcnklMjIlM0ElNUIlNUQlMkMlMjJ2aWV3VHlwZSUyMiUzQSUyMnNuaXBwZXRzJTIyJTJDJTIycmVjb3JkU2VsZWN0aW9uJTIyJTNBJTdCJTIycmVjb3JkJTIyJTNBJTdCJTIyaWQlMjIlM0ElMjIwMjY5MjY4OGU0YzIwNGVkMTVkZGQ1ZmJlMTgxNzA0NzJmNDE4ODcyZmVlMDkxYTM1NzZiYzFhNGMwMmUwNTJlJTIyJTdEJTdEJTdE\"  target=\"_blank\"> DS </a></td>\n",
       "      <td id=\"T_178e8_row0_col6\" class=\"data row0 col6\" >2104.11357</td>\n",
       "      <td id=\"T_178e8_row0_col7\" class=\"data row0 col7\" >main-text</td>\n",
       "    </tr>\n",
       "    <tr>\n",
       "      <th id=\"T_178e8_level0_row1\" class=\"row_heading level0 row1\" >1</th>\n",
       "      <td id=\"T_178e8_row1_col0\" class=\"data row1 col0\" >New 3,3'-(ethane-1, 2-diylidene)bis(indolin-2-one) (EBI)-based small\n",
       "  molecule semiconductors for organic solar cells</td>\n",
       "      <td id=\"T_178e8_row1_col1\" class=\"data row1 col1\" >Mylene Le Borgne,Jesse Quinn,Jaime Mart\\'in,Natalie Stingelin,Yuning Li,Guillaume Wantz</td>\n",
       "      <td id=\"T_178e8_row1_col2\" class=\"data row1 col2\" >The best performing photovoltaic devices are based on the EBI derivative using the bithiophene end-capping moiety (EBI-2T) with a maximum <span style='font-weight: bold; background-color: #FFFF00'>power</span> <span style='font-weight: bold; background-color: #FFFF00'>conversion</span> <span style='font-weight: bold; background-color: #FFFF00'>efficiency</span> (<span style='font-weight: bold; background-color: #FFFF00'>PCE</span>) of 1.92%, owing to the broad absorption spectra of EBI-2T and the appropriate morphology of the BHJ.</td>\n",
       "      <td id=\"T_178e8_row1_col3\" class=\"data row1 col3\" ><a href=\"https://arxiv.org/abs/1706.08074\"  target=\"_blank\"> arXiv </a></td>\n",
       "      <td id=\"T_178e8_row1_col4\" class=\"data row1 col4\" ></td>\n",
       "      <td id=\"T_178e8_row1_col5\" class=\"data row1 col5\" ><a href=\"https://sds.app.accelerate.science/projects/1234567890abcdefghijklmnopqrstvwyz123456/library/public?search=JTdCJTIyY29sbGVjdGlvbnMlMjIlM0ElNUIlMjJhcnhpdi1hYnN0cmFjdCUyMiU1RCUyQyUyMnR5cGUlMjIlM0ElMjJEb2N1bWVudCUyMiUyQyUyMmV4cHJlc3Npb24lMjIlM0ElMjJmaWxlLWluZm8uZG9jdW1lbnQtaGFzaCUzQSUyMCU1QyUyMjAzNmY2MGYwZDhiY2NjNTdjNjdkZjY3OWMwZTUwNGFjMzM2ZTJjZWQxODhmNDg4YTg4ZDk3MjkyZmI2ZDc2MjklNUMlMjIlMjIlMkMlMjJmaWx0ZXJzJTIyJTNBJTVCJTVEJTJDJTIyc2VsZWN0JTIyJTNBJTVCJTIyX25hbWUlMjIlMkMlMjJkZXNjcmlwdGlvbi5jb2xsZWN0aW9uJTIyJTJDJTIycHJvdiUyMiUyQyUyMmRlc2NyaXB0aW9uLnRpdGxlJTIyJTJDJTIyZGVzY3JpcHRpb24ucHVibGljYXRpb25fZGF0ZSUyMiUyQyUyMmRlc2NyaXB0aW9uLnVybF9yZWZzJTIyJTVEJTJDJTIyaXRlbUluZGV4JTIyJTNBMCUyQyUyMnBhZ2VTaXplJTIyJTNBMTAlMkMlMjJzZWFyY2hBZnRlckhpc3RvcnklMjIlM0ElNUIlNUQlMkMlMjJ2aWV3VHlwZSUyMiUzQSUyMnNuaXBwZXRzJTIyJTJDJTIycmVjb3JkU2VsZWN0aW9uJTIyJTNBJTdCJTIycmVjb3JkJTIyJTNBJTdCJTIyaWQlMjIlM0ElMjIwMzZmNjBmMGQ4YmNjYzU3YzY3ZGY2NzljMGU1MDRhYzMzNmUyY2VkMTg4ZjQ4OGE4OGQ5NzI5MmZiNmQ3NjI5JTIyJTdEJTdEJTdE\"  target=\"_blank\"> DS </a></td>\n",
       "      <td id=\"T_178e8_row1_col6\" class=\"data row1 col6\" >1706.08074</td>\n",
       "      <td id=\"T_178e8_row1_col7\" class=\"data row1 col7\" >main-text</td>\n",
       "    </tr>\n",
       "    <tr>\n",
       "      <th id=\"T_178e8_level0_row2\" class=\"row_heading level0 row2\" >2</th>\n",
       "      <td id=\"T_178e8_row2_col0\" class=\"data row2 col0\" >How Good Can 2D Excitonic Solar Cells Be?</td>\n",
       "      <td id=\"T_178e8_row2_col1\" class=\"data row2 col1\" >Zekun Hu,Da Lin,Jason Lynch,Kevin Xu,Deep Jariwala</td>\n",
       "      <td id=\"T_178e8_row2_col2\" class=\"data row2 col2\" >Our analysis suggests that, while the <span style='font-weight: bold; background-color: #FFFF00'>PCE</span> for 2D excitonic solar cells may be limited to < 10%, a specific power > 100 W g-1 may be achieved with our proposed designs, making them attractive in aerospace, distributed remote sensing, and wearable electronics.</td>\n",
       "      <td id=\"T_178e8_row2_col3\" class=\"data row2 col3\" ><a href=\"https://arxiv.org/abs/2302.04788\"  target=\"_blank\"> arXiv </a></td>\n",
       "      <td id=\"T_178e8_row2_col4\" class=\"data row2 col4\" ></td>\n",
       "      <td id=\"T_178e8_row2_col5\" class=\"data row2 col5\" ><a href=\"https://sds.app.accelerate.science/projects/1234567890abcdefghijklmnopqrstvwyz123456/library/public?search=JTdCJTIyY29sbGVjdGlvbnMlMjIlM0ElNUIlMjJhcnhpdi1hYnN0cmFjdCUyMiU1RCUyQyUyMnR5cGUlMjIlM0ElMjJEb2N1bWVudCUyMiUyQyUyMmV4cHJlc3Npb24lMjIlM0ElMjJmaWxlLWluZm8uZG9jdW1lbnQtaGFzaCUzQSUyMCU1QyUyMjA0NzBkMmJmODI3YWRiMWVmN2EyOTk3M2I3NjhkNmE0ZDVlZGE1NWE5ZWI0ZGIwN2M2ODJjNzY3NDgzODFkZGYlNUMlMjIlMjIlMkMlMjJmaWx0ZXJzJTIyJTNBJTVCJTVEJTJDJTIyc2VsZWN0JTIyJTNBJTVCJTIyX25hbWUlMjIlMkMlMjJkZXNjcmlwdGlvbi5jb2xsZWN0aW9uJTIyJTJDJTIycHJvdiUyMiUyQyUyMmRlc2NyaXB0aW9uLnRpdGxlJTIyJTJDJTIyZGVzY3JpcHRpb24ucHVibGljYXRpb25fZGF0ZSUyMiUyQyUyMmRlc2NyaXB0aW9uLnVybF9yZWZzJTIyJTVEJTJDJTIyaXRlbUluZGV4JTIyJTNBMCUyQyUyMnBhZ2VTaXplJTIyJTNBMTAlMkMlMjJzZWFyY2hBZnRlckhpc3RvcnklMjIlM0ElNUIlNUQlMkMlMjJ2aWV3VHlwZSUyMiUzQSUyMnNuaXBwZXRzJTIyJTJDJTIycmVjb3JkU2VsZWN0aW9uJTIyJTNBJTdCJTIycmVjb3JkJTIyJTNBJTdCJTIyaWQlMjIlM0ElMjIwNDcwZDJiZjgyN2FkYjFlZjdhMjk5NzNiNzY4ZDZhNGQ1ZWRhNTVhOWViNGRiMDdjNjgyYzc2NzQ4MzgxZGRmJTIyJTdEJTdEJTdE\"  target=\"_blank\"> DS </a></td>\n",
       "      <td id=\"T_178e8_row2_col6\" class=\"data row2 col6\" >2302.04788</td>\n",
       "      <td id=\"T_178e8_row2_col7\" class=\"data row2 col7\" >main-text</td>\n",
       "    </tr>\n",
       "    <tr>\n",
       "      <th id=\"T_178e8_level0_row3\" class=\"row_heading level0 row3\" >3</th>\n",
       "      <td id=\"T_178e8_row3_col0\" class=\"data row3 col0\" >The role of charge recombination to spin-triplet excitons in\n",
       "  non-fullerene acceptor organic solar cells</td>\n",
       "      <td id=\"T_178e8_row3_col1\" class=\"data row3 col1\" >Alexander J. Gillett,Alberto Privitera,Rishat Dilmurat,Akchheta Karki,Deping Qian,Anton Pershin,Giacomo Londi,William K. Myers,Jaewon Lee,Jun Yuan,Seo-Jin Ko,Moritz K. Riede,Feng Gao,Guillermo C. Bazan,Akshay Rao,Thuc-Quyen Nguyen,David Beljonne,Richard H. Friend</td>\n",
       "      <td id=\"T_178e8_row3_col2\" class=\"data row3 col2\" >This work therefore provides a clear design pathway for improved OSC performance to 20% <span style='font-weight: bold; background-color: #FFFF00'>PCE</span> and beyond.</td>\n",
       "      <td id=\"T_178e8_row3_col3\" class=\"data row3 col3\" ><a href=\"https://arxiv.org/abs/2010.10978\"  target=\"_blank\"> arXiv </a></td>\n",
       "      <td id=\"T_178e8_row3_col4\" class=\"data row3 col4\" ><a href=\"https://doi.org/10.1038/s41586-021-03840-5\"  target=\"_blank\"> DOI </a></td>\n",
       "      <td id=\"T_178e8_row3_col5\" class=\"data row3 col5\" ><a href=\"https://sds.app.accelerate.science/projects/1234567890abcdefghijklmnopqrstvwyz123456/library/public?search=JTdCJTIyY29sbGVjdGlvbnMlMjIlM0ElNUIlMjJhcnhpdi1hYnN0cmFjdCUyMiU1RCUyQyUyMnR5cGUlMjIlM0ElMjJEb2N1bWVudCUyMiUyQyUyMmV4cHJlc3Npb24lMjIlM0ElMjJmaWxlLWluZm8uZG9jdW1lbnQtaGFzaCUzQSUyMCU1QyUyMjBhMDg2MTY0NTFhNDY5NDZlODBjYzIyNmUyYThkMGNmMGJhNmVmNDZjOGYzYjIwODVhNjY4NzA0MzRmZThjYzIlNUMlMjIlMjIlMkMlMjJmaWx0ZXJzJTIyJTNBJTVCJTVEJTJDJTIyc2VsZWN0JTIyJTNBJTVCJTIyX25hbWUlMjIlMkMlMjJkZXNjcmlwdGlvbi5jb2xsZWN0aW9uJTIyJTJDJTIycHJvdiUyMiUyQyUyMmRlc2NyaXB0aW9uLnRpdGxlJTIyJTJDJTIyZGVzY3JpcHRpb24ucHVibGljYXRpb25fZGF0ZSUyMiUyQyUyMmRlc2NyaXB0aW9uLnVybF9yZWZzJTIyJTVEJTJDJTIyaXRlbUluZGV4JTIyJTNBMCUyQyUyMnBhZ2VTaXplJTIyJTNBMTAlMkMlMjJzZWFyY2hBZnRlckhpc3RvcnklMjIlM0ElNUIlNUQlMkMlMjJ2aWV3VHlwZSUyMiUzQSUyMnNuaXBwZXRzJTIyJTJDJTIycmVjb3JkU2VsZWN0aW9uJTIyJTNBJTdCJTIycmVjb3JkJTIyJTNBJTdCJTIyaWQlMjIlM0ElMjIwYTA4NjE2NDUxYTQ2OTQ2ZTgwY2MyMjZlMmE4ZDBjZjBiYTZlZjQ2YzhmM2IyMDg1YTY2ODcwNDM0ZmU4Y2MyJTIyJTdEJTdEJTdE\"  target=\"_blank\"> DS </a></td>\n",
       "      <td id=\"T_178e8_row3_col6\" class=\"data row3 col6\" >2010.10978</td>\n",
       "      <td id=\"T_178e8_row3_col7\" class=\"data row3 col7\" >main-text</td>\n",
       "    </tr>\n",
       "    <tr>\n",
       "      <th id=\"T_178e8_level0_row4\" class=\"row_heading level0 row4\" >4</th>\n",
       "      <td id=\"T_178e8_row4_col0\" class=\"data row4 col0\" >Design of Lead-Free Inorganic Halide Perovskites for Solar Cells via\n",
       "  Cation-Transmutation</td>\n",
       "      <td id=\"T_178e8_row4_col1\" class=\"data row4 col1\" >Xin-Gang Zhao,Ji-Hui Yang,Yuhao Fu,Dongwen Yang,Qiaoling Xu,Liping Yu,Su-Huai Wei,Lijun Zhang</td>\n",
       "      <td id=\"T_178e8_row4_col2\" class=\"data row4 col2\" >Despite the high <span style='font-weight: bold; background-color: #FFFF00'>power</span> <span style='font-weight: bold; background-color: #FFFF00'>conversion</span> <span style='font-weight: bold; background-color: #FFFF00'>efficiency</span> exceeding 20% achieved by their solar cells, two key issues -- the poor device stabilities associated with their intrinsic material instability and the toxicity due to water soluble Pb$^{2+}$ -- need to be resolved before large-scale commercialization.</td>\n",
       "      <td id=\"T_178e8_row4_col3\" class=\"data row4 col3\" ><a href=\"https://arxiv.org/abs/1705.10014\"  target=\"_blank\"> arXiv </a></td>\n",
       "      <td id=\"T_178e8_row4_col4\" class=\"data row4 col4\" ><a href=\"https://doi.org/10.1021/jacs.6b09645\"  target=\"_blank\"> DOI </a></td>\n",
       "      <td id=\"T_178e8_row4_col5\" class=\"data row4 col5\" ><a href=\"https://sds.app.accelerate.science/projects/1234567890abcdefghijklmnopqrstvwyz123456/library/public?search=JTdCJTIyY29sbGVjdGlvbnMlMjIlM0ElNUIlMjJhcnhpdi1hYnN0cmFjdCUyMiU1RCUyQyUyMnR5cGUlMjIlM0ElMjJEb2N1bWVudCUyMiUyQyUyMmV4cHJlc3Npb24lMjIlM0ElMjJmaWxlLWluZm8uZG9jdW1lbnQtaGFzaCUzQSUyMCU1QyUyMjBkNTkyYTNlYmJjNTEyYTY3YjRlODFjNDc3N2EyYmQ4NjY0NDI0YTkwZGJhNjY1MTNmNDgyM2Y2NzdmZjkyZjAlNUMlMjIlMjIlMkMlMjJmaWx0ZXJzJTIyJTNBJTVCJTVEJTJDJTIyc2VsZWN0JTIyJTNBJTVCJTIyX25hbWUlMjIlMkMlMjJkZXNjcmlwdGlvbi5jb2xsZWN0aW9uJTIyJTJDJTIycHJvdiUyMiUyQyUyMmRlc2NyaXB0aW9uLnRpdGxlJTIyJTJDJTIyZGVzY3JpcHRpb24ucHVibGljYXRpb25fZGF0ZSUyMiUyQyUyMmRlc2NyaXB0aW9uLnVybF9yZWZzJTIyJTVEJTJDJTIyaXRlbUluZGV4JTIyJTNBMCUyQyUyMnBhZ2VTaXplJTIyJTNBMTAlMkMlMjJzZWFyY2hBZnRlckhpc3RvcnklMjIlM0ElNUIlNUQlMkMlMjJ2aWV3VHlwZSUyMiUzQSUyMnNuaXBwZXRzJTIyJTJDJTIycmVjb3JkU2VsZWN0aW9uJTIyJTNBJTdCJTIycmVjb3JkJTIyJTNBJTdCJTIyaWQlMjIlM0ElMjIwZDU5MmEzZWJiYzUxMmE2N2I0ZTgxYzQ3NzdhMmJkODY2NDQyNGE5MGRiYTY2NTEzZjQ4MjNmNjc3ZmY5MmYwJTIyJTdEJTdEJTdE\"  target=\"_blank\"> DS </a></td>\n",
       "      <td id=\"T_178e8_row4_col6\" class=\"data row4 col6\" >1705.10014</td>\n",
       "      <td id=\"T_178e8_row4_col7\" class=\"data row4 col7\" >main-text</td>\n",
       "    </tr>\n",
       "    <tr>\n",
       "      <th id=\"T_178e8_level0_row5\" class=\"row_heading level0 row5\" >5</th>\n",
       "      <td id=\"T_178e8_row5_col0\" class=\"data row5 col0\" >On the Absence of Triplet Exciton Loss Pathways in Non-Fullerene\n",
       "  Acceptor based Organic Solar Cells</td>\n",
       "      <td id=\"T_178e8_row5_col1\" class=\"data row5 col1\" >Maria S. Kotova,Giacomo Londi,Johannes Junker,Stefanie Dietz,Alberto Privitera,Kristofer Tvingstedt,David Beljonne,Andreas Sperlich,Vladimir Dyakonov</td>\n",
       "      <td id=\"T_178e8_row5_col2\" class=\"data row5 col2\" >These results correlate well with the high <span style='font-weight: bold; background-color: #FFFF00'>power</span> <span style='font-weight: bold; background-color: #FFFF00'>conversion</span> <span style='font-weight: bold; background-color: #FFFF00'>efficiency</span> of the PBDB-T:ITIC-based OSCs and their high stability.</td>\n",
       "      <td id=\"T_178e8_row5_col3\" class=\"data row5 col3\" ><a href=\"https://arxiv.org/abs/2002.07531\"  target=\"_blank\"> arXiv </a></td>\n",
       "      <td id=\"T_178e8_row5_col4\" class=\"data row5 col4\" ><a href=\"https://doi.org/10.1039/D0MH00286K\"  target=\"_blank\"> DOI </a></td>\n",
       "      <td id=\"T_178e8_row5_col5\" class=\"data row5 col5\" ><a href=\"https://sds.app.accelerate.science/projects/1234567890abcdefghijklmnopqrstvwyz123456/library/public?search=JTdCJTIyY29sbGVjdGlvbnMlMjIlM0ElNUIlMjJhcnhpdi1hYnN0cmFjdCUyMiU1RCUyQyUyMnR5cGUlMjIlM0ElMjJEb2N1bWVudCUyMiUyQyUyMmV4cHJlc3Npb24lMjIlM0ElMjJmaWxlLWluZm8uZG9jdW1lbnQtaGFzaCUzQSUyMCU1QyUyMjBkNjlmZWJlYjk0NGQzMWNhMmY1MTA3ZTFjNDMxY2YzOGRiNjc1NGRmNjk2ZjlmODE3Yjg4N2JlOGNkOWNkYjYlNUMlMjIlMjIlMkMlMjJmaWx0ZXJzJTIyJTNBJTVCJTVEJTJDJTIyc2VsZWN0JTIyJTNBJTVCJTIyX25hbWUlMjIlMkMlMjJkZXNjcmlwdGlvbi5jb2xsZWN0aW9uJTIyJTJDJTIycHJvdiUyMiUyQyUyMmRlc2NyaXB0aW9uLnRpdGxlJTIyJTJDJTIyZGVzY3JpcHRpb24ucHVibGljYXRpb25fZGF0ZSUyMiUyQyUyMmRlc2NyaXB0aW9uLnVybF9yZWZzJTIyJTVEJTJDJTIyaXRlbUluZGV4JTIyJTNBMCUyQyUyMnBhZ2VTaXplJTIyJTNBMTAlMkMlMjJzZWFyY2hBZnRlckhpc3RvcnklMjIlM0ElNUIlNUQlMkMlMjJ2aWV3VHlwZSUyMiUzQSUyMnNuaXBwZXRzJTIyJTJDJTIycmVjb3JkU2VsZWN0aW9uJTIyJTNBJTdCJTIycmVjb3JkJTIyJTNBJTdCJTIyaWQlMjIlM0ElMjIwZDY5ZmViZWI5NDRkMzFjYTJmNTEwN2UxYzQzMWNmMzhkYjY3NTRkZjY5NmY5ZjgxN2I4ODdiZThjZDljZGI2JTIyJTdEJTdEJTdE\"  target=\"_blank\"> DS </a></td>\n",
       "      <td id=\"T_178e8_row5_col6\" class=\"data row5 col6\" >2002.07531</td>\n",
       "      <td id=\"T_178e8_row5_col7\" class=\"data row5 col7\" >main-text</td>\n",
       "    </tr>\n",
       "    <tr>\n",
       "      <th id=\"T_178e8_level0_row6\" class=\"row_heading level0 row6\" >6</th>\n",
       "      <td id=\"T_178e8_row6_col0\" class=\"data row6 col0\" >Correlated In-Situ Low-Frequency Noise and Impedance Spectroscopy Reveal\n",
       "  Recombination Dynamics in Organic Solar Cells using Fullerene and\n",
       "  Non-Fullerene Acceptors</td>\n",
       "      <td id=\"T_178e8_row6_col1\" class=\"data row6 col1\" >Kyle A. Luck,Vinod K. Sangwan,Patrick E. Hartnett,Heather N. Arnold,Michael R. Wasielewski,Tobin J. Marks,Mark C. Hersam</td>\n",
       "      <td id=\"T_178e8_row6_col2\" class=\"data row6 col2\" >An inverse correlation is also observed between noise spectral density and <span style='font-weight: bold; background-color: #FFFF00'>power</span> <span style='font-weight: bold; background-color: #FFFF00'>conversion</span> <span style='font-weight: bold; background-color: #FFFF00'>efficiency</span>.</td>\n",
       "      <td id=\"T_178e8_row6_col3\" class=\"data row6 col3\" ><a href=\"https://arxiv.org/abs/1709.07133\"  target=\"_blank\"> arXiv </a></td>\n",
       "      <td id=\"T_178e8_row6_col4\" class=\"data row6 col4\" ></td>\n",
       "      <td id=\"T_178e8_row6_col5\" class=\"data row6 col5\" ><a href=\"https://sds.app.accelerate.science/projects/1234567890abcdefghijklmnopqrstvwyz123456/library/public?search=JTdCJTIyY29sbGVjdGlvbnMlMjIlM0ElNUIlMjJhcnhpdi1hYnN0cmFjdCUyMiU1RCUyQyUyMnR5cGUlMjIlM0ElMjJEb2N1bWVudCUyMiUyQyUyMmV4cHJlc3Npb24lMjIlM0ElMjJmaWxlLWluZm8uZG9jdW1lbnQtaGFzaCUzQSUyMCU1QyUyMjBkOTE5MGViZjI0YWJkNmFhYzM0MTgwODEyMTg2N2JkMGUwODdlMzZlY2FmNWViZGI0MDBlYmRkMjhlYmE0MjklNUMlMjIlMjIlMkMlMjJmaWx0ZXJzJTIyJTNBJTVCJTVEJTJDJTIyc2VsZWN0JTIyJTNBJTVCJTIyX25hbWUlMjIlMkMlMjJkZXNjcmlwdGlvbi5jb2xsZWN0aW9uJTIyJTJDJTIycHJvdiUyMiUyQyUyMmRlc2NyaXB0aW9uLnRpdGxlJTIyJTJDJTIyZGVzY3JpcHRpb24ucHVibGljYXRpb25fZGF0ZSUyMiUyQyUyMmRlc2NyaXB0aW9uLnVybF9yZWZzJTIyJTVEJTJDJTIyaXRlbUluZGV4JTIyJTNBMCUyQyUyMnBhZ2VTaXplJTIyJTNBMTAlMkMlMjJzZWFyY2hBZnRlckhpc3RvcnklMjIlM0ElNUIlNUQlMkMlMjJ2aWV3VHlwZSUyMiUzQSUyMnNuaXBwZXRzJTIyJTJDJTIycmVjb3JkU2VsZWN0aW9uJTIyJTNBJTdCJTIycmVjb3JkJTIyJTNBJTdCJTIyaWQlMjIlM0ElMjIwZDkxOTBlYmYyNGFiZDZhYWMzNDE4MDgxMjE4NjdiZDBlMDg3ZTM2ZWNhZjVlYmRiNDAwZWJkZDI4ZWJhNDI5JTIyJTdEJTdEJTdE\"  target=\"_blank\"> DS </a></td>\n",
       "      <td id=\"T_178e8_row6_col6\" class=\"data row6 col6\" >1709.07133</td>\n",
       "      <td id=\"T_178e8_row6_col7\" class=\"data row6 col7\" >main-text</td>\n",
       "    </tr>\n",
       "    <tr>\n",
       "      <th id=\"T_178e8_level0_row7\" class=\"row_heading level0 row7\" >7</th>\n",
       "      <td id=\"T_178e8_row7_col0\" class=\"data row7 col0\" >Organic solar cell design as a function of radiative quantum efficiency</td>\n",
       "      <td id=\"T_178e8_row7_col1\" class=\"data row7 col1\" >Blaise Godefroid,Gregory Kozyreff</td>\n",
       "      <td id=\"T_178e8_row7_col2\" class=\"data row7 col2\" >To demonstrate this fact, we use realistic material parameters inspired from literature data and obtain an increase of <span style='font-weight: bold; background-color: #FFFF00'>power</span> <span style='font-weight: bold; background-color: #FFFF00'>conversion</span> <span style='font-weight: bold; background-color: #FFFF00'>efficiency</span> from 11.3% to 12.7%.</td>\n",
       "      <td id=\"T_178e8_row7_col3\" class=\"data row7 col3\" ><a href=\"https://arxiv.org/abs/1705.07814\"  target=\"_blank\"> arXiv </a></td>\n",
       "      <td id=\"T_178e8_row7_col4\" class=\"data row7 col4\" ><a href=\"https://doi.org/10.1103/PhysRevApplied.8.034024\"  target=\"_blank\"> DOI </a></td>\n",
       "      <td id=\"T_178e8_row7_col5\" class=\"data row7 col5\" ><a href=\"https://sds.app.accelerate.science/projects/1234567890abcdefghijklmnopqrstvwyz123456/library/public?search=JTdCJTIyY29sbGVjdGlvbnMlMjIlM0ElNUIlMjJhcnhpdi1hYnN0cmFjdCUyMiU1RCUyQyUyMnR5cGUlMjIlM0ElMjJEb2N1bWVudCUyMiUyQyUyMmV4cHJlc3Npb24lMjIlM0ElMjJmaWxlLWluZm8uZG9jdW1lbnQtaGFzaCUzQSUyMCU1QyUyMjE3ZTY0NGQ1N2UzZTA4NjcwYWRkYzg4OTA3MzM2ZjdjYzdlZmUwMTJlMzRmZDgzYzI2MzI0MDM1MTBjM2MwNmElNUMlMjIlMjIlMkMlMjJmaWx0ZXJzJTIyJTNBJTVCJTVEJTJDJTIyc2VsZWN0JTIyJTNBJTVCJTIyX25hbWUlMjIlMkMlMjJkZXNjcmlwdGlvbi5jb2xsZWN0aW9uJTIyJTJDJTIycHJvdiUyMiUyQyUyMmRlc2NyaXB0aW9uLnRpdGxlJTIyJTJDJTIyZGVzY3JpcHRpb24ucHVibGljYXRpb25fZGF0ZSUyMiUyQyUyMmRlc2NyaXB0aW9uLnVybF9yZWZzJTIyJTVEJTJDJTIyaXRlbUluZGV4JTIyJTNBMCUyQyUyMnBhZ2VTaXplJTIyJTNBMTAlMkMlMjJzZWFyY2hBZnRlckhpc3RvcnklMjIlM0ElNUIlNUQlMkMlMjJ2aWV3VHlwZSUyMiUzQSUyMnNuaXBwZXRzJTIyJTJDJTIycmVjb3JkU2VsZWN0aW9uJTIyJTNBJTdCJTIycmVjb3JkJTIyJTNBJTdCJTIyaWQlMjIlM0ElMjIxN2U2NDRkNTdlM2UwODY3MGFkZGM4ODkwNzMzNmY3Y2M3ZWZlMDEyZTM0ZmQ4M2MyNjMyNDAzNTEwYzNjMDZhJTIyJTdEJTdEJTdE\"  target=\"_blank\"> DS </a></td>\n",
       "      <td id=\"T_178e8_row7_col6\" class=\"data row7 col6\" >1705.07814</td>\n",
       "      <td id=\"T_178e8_row7_col7\" class=\"data row7 col7\" >main-text</td>\n",
       "    </tr>\n",
       "    <tr>\n",
       "      <th id=\"T_178e8_level0_row8\" class=\"row_heading level0 row8\" >8</th>\n",
       "      <td id=\"T_178e8_row8_col0\" class=\"data row8 col0\" >Enhanced Organic Solar Cells Efficiency through Additive Electronic and\n",
       "  Electro-optic Effects Resulting from Doping a Polymer Hole Transport Layer</td>\n",
       "      <td id=\"T_178e8_row8_col1\" class=\"data row8 col1\" >C.T. Howells,K. Marbou,H. Kim,K.J. Lee,B. Heinrich,S.J. Kim,A. Nakao,T. Aoyama,S. Furukawa,J.-H. Kim,E.S. Kim,F. Mathevet,S. Mery,I.D.W. Samuel,A. Al Ghaferi,M. S. Dahlem,M. Uchiyama,S.Y. Kim,J.W. Wu,J.-C. Ribierre,C. Adachi,D.-W. Kim,P. Andr\\'e</td>\n",
       "      <td id=\"T_178e8_row8_col2\" class=\"data row8 col2\" >This work points towards fluorination as a promising strategy toward combining both external quantum efficiency modulation and <span style='font-weight: bold; background-color: #FFFF00'>power</span> <span style='font-weight: bold; background-color: #FFFF00'>conversion</span> <span style='font-weight: bold; background-color: #FFFF00'>efficiency</span> enhancement in OPVs.</td>\n",
       "      <td id=\"T_178e8_row8_col3\" class=\"data row8 col3\" ><a href=\"https://arxiv.org/abs/1512.04314\"  target=\"_blank\"> arXiv </a></td>\n",
       "      <td id=\"T_178e8_row8_col4\" class=\"data row8 col4\" ><a href=\"https://doi.org/10.1039/C6TA00677A\"  target=\"_blank\"> DOI </a></td>\n",
       "      <td id=\"T_178e8_row8_col5\" class=\"data row8 col5\" ><a href=\"https://sds.app.accelerate.science/projects/1234567890abcdefghijklmnopqrstvwyz123456/library/public?search=JTdCJTIyY29sbGVjdGlvbnMlMjIlM0ElNUIlMjJhcnhpdi1hYnN0cmFjdCUyMiU1RCUyQyUyMnR5cGUlMjIlM0ElMjJEb2N1bWVudCUyMiUyQyUyMmV4cHJlc3Npb24lMjIlM0ElMjJmaWxlLWluZm8uZG9jdW1lbnQtaGFzaCUzQSUyMCU1QyUyMjFjOWY2MGNiNzAxN2EzNjlhNjI2NzMwYWM5Njg0NmI4N2Y1MTdhZWY5OWQyZDY2YzAyZGFkMWQxMWFkZWU0MzUlNUMlMjIlMjIlMkMlMjJmaWx0ZXJzJTIyJTNBJTVCJTVEJTJDJTIyc2VsZWN0JTIyJTNBJTVCJTIyX25hbWUlMjIlMkMlMjJkZXNjcmlwdGlvbi5jb2xsZWN0aW9uJTIyJTJDJTIycHJvdiUyMiUyQyUyMmRlc2NyaXB0aW9uLnRpdGxlJTIyJTJDJTIyZGVzY3JpcHRpb24ucHVibGljYXRpb25fZGF0ZSUyMiUyQyUyMmRlc2NyaXB0aW9uLnVybF9yZWZzJTIyJTVEJTJDJTIyaXRlbUluZGV4JTIyJTNBMCUyQyUyMnBhZ2VTaXplJTIyJTNBMTAlMkMlMjJzZWFyY2hBZnRlckhpc3RvcnklMjIlM0ElNUIlNUQlMkMlMjJ2aWV3VHlwZSUyMiUzQSUyMnNuaXBwZXRzJTIyJTJDJTIycmVjb3JkU2VsZWN0aW9uJTIyJTNBJTdCJTIycmVjb3JkJTIyJTNBJTdCJTIyaWQlMjIlM0ElMjIxYzlmNjBjYjcwMTdhMzY5YTYyNjczMGFjOTY4NDZiODdmNTE3YWVmOTlkMmQ2NmMwMmRhZDFkMTFhZGVlNDM1JTIyJTdEJTdEJTdE\"  target=\"_blank\"> DS </a></td>\n",
       "      <td id=\"T_178e8_row8_col6\" class=\"data row8 col6\" >1512.04314</td>\n",
       "      <td id=\"T_178e8_row8_col7\" class=\"data row8 col7\" >main-text</td>\n",
       "    </tr>\n",
       "    <tr>\n",
       "      <th id=\"T_178e8_level0_row9\" class=\"row_heading level0 row9\" >9</th>\n",
       "      <td id=\"T_178e8_row9_col0\" class=\"data row9 col0\" >Molecular-Level Switching of Polymer/Nanocrystal Non-Covalent\n",
       "  Interactions and Application in Hybrid Solar Cells</td>\n",
       "      <td id=\"T_178e8_row9_col1\" class=\"data row9 col1\" >Carlo Giansante,Rosanna Mastria,Giovanni Lerario,Luca Moretti,Ilka Kriegel,Francesco Scotognella,Guglielmo Lanzani,Sonia Carallo,Marco Esposito,Mariano Biasiucci,Aurora Rizzo,Giuseppe Gigli</td>\n",
       "      <td id=\"T_178e8_row9_col2\" class=\"data row9 col2\" >Upon (quasi)steady-state and time-resolved analisys of the photo-induced processes in the nanocomposites and their <span style='font-weight: bold; background-color: #FFFF00'>organic</span> and inorganic components, we ascertained that electron transfer occurs at the hybrid interface yielding long-lived separated charge carriers, whereas interfacial hole transfer appears slow.</td>\n",
       "      <td id=\"T_178e8_row9_col3\" class=\"data row9 col3\" ><a href=\"https://arxiv.org/abs/1312.6240\"  target=\"_blank\"> arXiv </a></td>\n",
       "      <td id=\"T_178e8_row9_col4\" class=\"data row9 col4\" ><a href=\"https://doi.org/10.1002/adfm.201401841\"  target=\"_blank\"> DOI </a></td>\n",
       "      <td id=\"T_178e8_row9_col5\" class=\"data row9 col5\" ><a href=\"https://sds.app.accelerate.science/projects/1234567890abcdefghijklmnopqrstvwyz123456/library/public?search=JTdCJTIyY29sbGVjdGlvbnMlMjIlM0ElNUIlMjJhcnhpdi1hYnN0cmFjdCUyMiU1RCUyQyUyMnR5cGUlMjIlM0ElMjJEb2N1bWVudCUyMiUyQyUyMmV4cHJlc3Npb24lMjIlM0ElMjJmaWxlLWluZm8uZG9jdW1lbnQtaGFzaCUzQSUyMCU1QyUyMjIyMjI3ZDlkYTZjMzMyOWYyZWMwMTEwOTk3ZDJkZDYxZjcyYTBjMzE0ZjliY2RkYWNkYjUxMGY4NDVlNzY4YWYlNUMlMjIlMjIlMkMlMjJmaWx0ZXJzJTIyJTNBJTVCJTVEJTJDJTIyc2VsZWN0JTIyJTNBJTVCJTIyX25hbWUlMjIlMkMlMjJkZXNjcmlwdGlvbi5jb2xsZWN0aW9uJTIyJTJDJTIycHJvdiUyMiUyQyUyMmRlc2NyaXB0aW9uLnRpdGxlJTIyJTJDJTIyZGVzY3JpcHRpb24ucHVibGljYXRpb25fZGF0ZSUyMiUyQyUyMmRlc2NyaXB0aW9uLnVybF9yZWZzJTIyJTVEJTJDJTIyaXRlbUluZGV4JTIyJTNBMCUyQyUyMnBhZ2VTaXplJTIyJTNBMTAlMkMlMjJzZWFyY2hBZnRlckhpc3RvcnklMjIlM0ElNUIlNUQlMkMlMjJ2aWV3VHlwZSUyMiUzQSUyMnNuaXBwZXRzJTIyJTJDJTIycmVjb3JkU2VsZWN0aW9uJTIyJTNBJTdCJTIycmVjb3JkJTIyJTNBJTdCJTIyaWQlMjIlM0ElMjIyMjIyN2Q5ZGE2YzMzMjlmMmVjMDExMDk5N2QyZGQ2MWY3MmEwYzMxNGY5YmNkZGFjZGI1MTBmODQ1ZTc2OGFmJTIyJTdEJTdEJTdE\"  target=\"_blank\"> DS </a></td>\n",
       "      <td id=\"T_178e8_row9_col6\" class=\"data row9 col6\" >1312.6240</td>\n",
       "      <td id=\"T_178e8_row9_col7\" class=\"data row9 col7\" >main-text</td>\n",
       "    </tr>\n",
       "  </tbody>\n",
       "</table>\n"
      ],
      "text/plain": [
       "<pandas.io.formats.style.Styler at 0x177324bb0>"
      ]
     },
     "metadata": {},
     "output_type": "display_data"
    }
   ],
   "source": [
    "# regular search\n",
    "%openad ds search collection 'arxiv-abstract' for 'ide(\"power conversion efficiency\" OR PCE) AND organ*' USING (limit_results=10 slop=0) show (docs)"
   ]
  },
  {
   "cell_type": "code",
   "execution_count": 48,
   "id": "a6736dba-4b1d-43dc-aa00-a3a7fb6f3feb",
   "metadata": {
    "tags": []
   },
   "outputs": [
    {
     "data": {
      "text/markdown": [
       "Estimated results: 562 <br> \n"
      ],
      "text/plain": [
       "<IPython.core.display.Markdown object>"
      ]
     },
     "metadata": {},
     "output_type": "display_data"
    },
    {
     "data": {
      "text/markdown": [
       "Estimated results: 1063 <br> \n"
      ],
      "text/plain": [
       "<IPython.core.display.Markdown object>"
      ]
     },
     "metadata": {},
     "output_type": "display_data"
    },
    {
     "data": {
      "text/markdown": [
       "Estimated results: 2172 <br> \n"
      ],
      "text/plain": [
       "<IPython.core.display.Markdown object>"
      ]
     },
     "metadata": {},
     "output_type": "display_data"
    }
   ],
   "source": [
    "# Slop\n",
    "%openad ds search collection 'arxiv-abstract' for '\"power efficiency\"' USING (slop=0) estimate only\n",
    "%openad ds search collection 'arxiv-abstract' for '\"power efficiency\"' USING (slop=1) estimate only\n",
    "%openad ds search collection 'arxiv-abstract' for '\"power efficiency\"' USING (slop=5) estimate only"
   ]
  },
  {
   "cell_type": "code",
   "execution_count": 49,
   "id": "05d13af7-2d4d-497d-9910-5ca5829041c7",
   "metadata": {
    "tags": []
   },
   "outputs": [
    {
     "data": {
      "text/markdown": [
       "Estimated results: 9 <br> \n"
      ],
      "text/plain": [
       "<IPython.core.display.Markdown object>"
      ]
     },
     "metadata": {},
     "output_type": "display_data"
    },
    {
     "data": {
      "application/vnd.jupyter.widget-view+json": {
       "model_id": "",
       "version_major": 2,
       "version_minor": 0
      },
      "text/plain": [
       "  0%|          "
      ]
     },
     "metadata": {},
     "output_type": "display_data"
    },
    {
     "data": {
      "text/markdown": [
       "<span style=\"color: #ccc\">Next up, you can run: </span>`result open`/`edit`/`copy`/`display`/`as dataframe`/`save [as '<filename.csv>']` <br> \n"
      ],
      "text/plain": [
       "<IPython.core.display.Markdown object>"
      ]
     },
     "metadata": {},
     "output_type": "display_data"
    },
    {
     "data": {
      "text/html": [
       "<style type=\"text/css\">\n",
       "#T_765e3 th {\n",
       "  text-align: left;\n",
       "}\n",
       "#T_765e3_row0_col0, #T_765e3_row0_col1, #T_765e3_row0_col2, #T_765e3_row0_col3, #T_765e3_row0_col4, #T_765e3_row0_col5, #T_765e3_row0_col6, #T_765e3_row0_col7, #T_765e3_row0_col8, #T_765e3_row0_col9, #T_765e3_row0_col10, #T_765e3_row0_col11, #T_765e3_row0_col12, #T_765e3_row0_col13, #T_765e3_row0_col14, #T_765e3_row0_col15, #T_765e3_row0_col16, #T_765e3_row0_col17, #T_765e3_row0_col18, #T_765e3_row0_col19, #T_765e3_row0_col20, #T_765e3_row0_col21, #T_765e3_row1_col0, #T_765e3_row1_col1, #T_765e3_row1_col2, #T_765e3_row1_col3, #T_765e3_row1_col4, #T_765e3_row1_col5, #T_765e3_row1_col6, #T_765e3_row1_col7, #T_765e3_row1_col8, #T_765e3_row1_col9, #T_765e3_row1_col10, #T_765e3_row1_col11, #T_765e3_row1_col12, #T_765e3_row1_col13, #T_765e3_row1_col14, #T_765e3_row1_col15, #T_765e3_row1_col16, #T_765e3_row1_col17, #T_765e3_row1_col18, #T_765e3_row1_col19, #T_765e3_row1_col20, #T_765e3_row1_col21, #T_765e3_row2_col0, #T_765e3_row2_col1, #T_765e3_row2_col2, #T_765e3_row2_col3, #T_765e3_row2_col4, #T_765e3_row2_col5, #T_765e3_row2_col6, #T_765e3_row2_col7, #T_765e3_row2_col8, #T_765e3_row2_col9, #T_765e3_row2_col10, #T_765e3_row2_col11, #T_765e3_row2_col12, #T_765e3_row2_col13, #T_765e3_row2_col14, #T_765e3_row2_col15, #T_765e3_row2_col16, #T_765e3_row2_col17, #T_765e3_row2_col18, #T_765e3_row2_col19, #T_765e3_row2_col20, #T_765e3_row2_col21, #T_765e3_row3_col0, #T_765e3_row3_col1, #T_765e3_row3_col2, #T_765e3_row3_col3, #T_765e3_row3_col4, #T_765e3_row3_col5, #T_765e3_row3_col6, #T_765e3_row3_col7, #T_765e3_row3_col8, #T_765e3_row3_col9, #T_765e3_row3_col10, #T_765e3_row3_col11, #T_765e3_row3_col12, #T_765e3_row3_col13, #T_765e3_row3_col14, #T_765e3_row3_col15, #T_765e3_row3_col16, #T_765e3_row3_col17, #T_765e3_row3_col18, #T_765e3_row3_col19, #T_765e3_row3_col20, #T_765e3_row3_col21, #T_765e3_row4_col0, #T_765e3_row4_col1, #T_765e3_row4_col2, #T_765e3_row4_col3, #T_765e3_row4_col4, #T_765e3_row4_col5, #T_765e3_row4_col6, #T_765e3_row4_col7, #T_765e3_row4_col8, #T_765e3_row4_col9, #T_765e3_row4_col10, #T_765e3_row4_col11, #T_765e3_row4_col12, #T_765e3_row4_col13, #T_765e3_row4_col14, #T_765e3_row4_col15, #T_765e3_row4_col16, #T_765e3_row4_col17, #T_765e3_row4_col18, #T_765e3_row4_col19, #T_765e3_row4_col20, #T_765e3_row4_col21, #T_765e3_row5_col0, #T_765e3_row5_col1, #T_765e3_row5_col2, #T_765e3_row5_col3, #T_765e3_row5_col4, #T_765e3_row5_col5, #T_765e3_row5_col6, #T_765e3_row5_col7, #T_765e3_row5_col8, #T_765e3_row5_col9, #T_765e3_row5_col10, #T_765e3_row5_col11, #T_765e3_row5_col12, #T_765e3_row5_col13, #T_765e3_row5_col14, #T_765e3_row5_col15, #T_765e3_row5_col16, #T_765e3_row5_col17, #T_765e3_row5_col18, #T_765e3_row5_col19, #T_765e3_row5_col20, #T_765e3_row5_col21, #T_765e3_row6_col0, #T_765e3_row6_col1, #T_765e3_row6_col2, #T_765e3_row6_col3, #T_765e3_row6_col4, #T_765e3_row6_col5, #T_765e3_row6_col6, #T_765e3_row6_col7, #T_765e3_row6_col8, #T_765e3_row6_col9, #T_765e3_row6_col10, #T_765e3_row6_col11, #T_765e3_row6_col12, #T_765e3_row6_col13, #T_765e3_row6_col14, #T_765e3_row6_col15, #T_765e3_row6_col16, #T_765e3_row6_col17, #T_765e3_row6_col18, #T_765e3_row6_col19, #T_765e3_row6_col20, #T_765e3_row6_col21, #T_765e3_row7_col0, #T_765e3_row7_col1, #T_765e3_row7_col2, #T_765e3_row7_col3, #T_765e3_row7_col4, #T_765e3_row7_col5, #T_765e3_row7_col6, #T_765e3_row7_col7, #T_765e3_row7_col8, #T_765e3_row7_col9, #T_765e3_row7_col10, #T_765e3_row7_col11, #T_765e3_row7_col12, #T_765e3_row7_col13, #T_765e3_row7_col14, #T_765e3_row7_col15, #T_765e3_row7_col16, #T_765e3_row7_col17, #T_765e3_row7_col18, #T_765e3_row7_col19, #T_765e3_row7_col20, #T_765e3_row7_col21, #T_765e3_row8_col0, #T_765e3_row8_col1, #T_765e3_row8_col2, #T_765e3_row8_col3, #T_765e3_row8_col4, #T_765e3_row8_col5, #T_765e3_row8_col6, #T_765e3_row8_col7, #T_765e3_row8_col8, #T_765e3_row8_col9, #T_765e3_row8_col10, #T_765e3_row8_col11, #T_765e3_row8_col12, #T_765e3_row8_col13, #T_765e3_row8_col14, #T_765e3_row8_col15, #T_765e3_row8_col16, #T_765e3_row8_col17, #T_765e3_row8_col18, #T_765e3_row8_col19, #T_765e3_row8_col20, #T_765e3_row8_col21 {\n",
       "  text-align: left;\n",
       "}\n",
       "</style>\n",
       "<table id=\"T_765e3\">\n",
       "  <thead>\n",
       "    <tr>\n",
       "      <th class=\"blank level0\" >&nbsp;</th>\n",
       "      <th id=\"T_765e3_level0_col0\" class=\"col_heading level0 col0\" >cid</th>\n",
       "      <th id=\"T_765e3_level0_col1\" class=\"col_heading level0 col1\" >cas_number</th>\n",
       "      <th id=\"T_765e3_level0_col2\" class=\"col_heading level0 col2\" >ec_number</th>\n",
       "      <th id=\"T_765e3_level0_col3\" class=\"col_heading level0 col3\" >SMILES</th>\n",
       "      <th id=\"T_765e3_level0_col4\" class=\"col_heading level0 col4\" >chemical_name</th>\n",
       "      <th id=\"T_765e3_level0_col5\" class=\"col_heading level0 col5\" >DS_URL</th>\n",
       "      <th id=\"T_765e3_level0_col6\" class=\"col_heading level0 col6\" >molecular weight</th>\n",
       "      <th id=\"T_765e3_level0_col7\" class=\"col_heading level0 col7\" >xlogp3</th>\n",
       "      <th id=\"T_765e3_level0_col8\" class=\"col_heading level0 col8\" >hydrogen bond donor count</th>\n",
       "      <th id=\"T_765e3_level0_col9\" class=\"col_heading level0 col9\" >hydrogen bond acceptor count</th>\n",
       "      <th id=\"T_765e3_level0_col10\" class=\"col_heading level0 col10\" >rotatable bond count</th>\n",
       "      <th id=\"T_765e3_level0_col11\" class=\"col_heading level0 col11\" >exact mass</th>\n",
       "      <th id=\"T_765e3_level0_col12\" class=\"col_heading level0 col12\" >monoisotopic mass</th>\n",
       "      <th id=\"T_765e3_level0_col13\" class=\"col_heading level0 col13\" >topological polar surface area</th>\n",
       "      <th id=\"T_765e3_level0_col14\" class=\"col_heading level0 col14\" >heavy atom count</th>\n",
       "      <th id=\"T_765e3_level0_col15\" class=\"col_heading level0 col15\" >formal charge</th>\n",
       "      <th id=\"T_765e3_level0_col16\" class=\"col_heading level0 col16\" >complexity</th>\n",
       "      <th id=\"T_765e3_level0_col17\" class=\"col_heading level0 col17\" >isotope atom count</th>\n",
       "      <th id=\"T_765e3_level0_col18\" class=\"col_heading level0 col18\" >defined atom stereocenter count</th>\n",
       "      <th id=\"T_765e3_level0_col19\" class=\"col_heading level0 col19\" >undefined atom stereocenter count</th>\n",
       "      <th id=\"T_765e3_level0_col20\" class=\"col_heading level0 col20\" >covalently-bonded unit count</th>\n",
       "      <th id=\"T_765e3_level0_col21\" class=\"col_heading level0 col21\" >compound is canonicalized</th>\n",
       "    </tr>\n",
       "  </thead>\n",
       "  <tbody>\n",
       "    <tr>\n",
       "      <th id=\"T_765e3_level0_row0\" class=\"row_heading level0 row0\" >0</th>\n",
       "      <td id=\"T_765e3_row0_col0\" class=\"data row0 col0\" >114864</td>\n",
       "      <td id=\"T_765e3_row0_col1\" class=\"data row0 col1\" >51146-57-7</td>\n",
       "      <td id=\"T_765e3_row0_col2\" class=\"data row0 col2\" >610-621-4</td>\n",
       "      <td id=\"T_765e3_row0_col3\" class=\"data row0 col3\" >CC(C)CC1=CC=C(C=C1)C(C)C(=O)O</td>\n",
       "      <td id=\"T_765e3_row0_col4\" class=\"data row0 col4\" >(-)-ibuprofen</td>\n",
       "      <td id=\"T_765e3_row0_col5\" class=\"data row0 col5\" ><a href=\"https://sds.app.accelerate.science/projects/1234567890abcdefghijklmnopqrstvwyz123456/library/public?search=JTdCJTIyY29sbGVjdGlvbnMlMjIlM0ElNUIlMjJwdWJjaGVtJTIyJTVEJTJDJTIydHlwZSUyMiUzQSUyMkRvY3VtZW50JTIyJTJDJTIyZXhwcmVzc2lvbiUyMiUzQSUyMmZpbGUtaW5mby5kb2N1bWVudC1oYXNoJTNBJTIwJTVDJTIyMzI2NzM1MzkwMmQ4YTA3NmVhZDJmZjcwMmJjYzJjMWM4NmM0MDA1MDIyOWUzY2JiOWU5NmEzMmViNzA2NjYzYiU1QyUyMiUyMiUyQyUyMmZpbHRlcnMlMjIlM0ElNUIlNUQlMkMlMjJzZWxlY3QlMjIlM0ElNUIlMjJfbmFtZSUyMiUyQyUyMmRlc2NyaXB0aW9uLmNvbGxlY3Rpb24lMjIlMkMlMjJwcm92JTIyJTJDJTIyZGVzY3JpcHRpb24udGl0bGUlMjIlMkMlMjJkZXNjcmlwdGlvbi5wdWJsaWNhdGlvbl9kYXRlJTIyJTJDJTIyZGVzY3JpcHRpb24udXJsX3JlZnMlMjIlNUQlMkMlMjJpdGVtSW5kZXglMjIlM0EwJTJDJTIycGFnZVNpemUlMjIlM0ExMCUyQyUyMnNlYXJjaEFmdGVySGlzdG9yeSUyMiUzQSU1QiU1RCUyQyUyMnZpZXdUeXBlJTIyJTNBJTIyc25pcHBldHMlMjIlMkMlMjJyZWNvcmRTZWxlY3Rpb24lMjIlM0ElN0IlMjJyZWNvcmQlMjIlM0ElN0IlMjJpZCUyMiUzQSUyMjMyNjczNTM5MDJkOGEwNzZlYWQyZmY3MDJiY2MyYzFjODZjNDAwNTAyMjllM2NiYjllOTZhMzJlYjcwNjY2M2IlMjIlN0QlN0QlN0Q%3D\"  target=\"_blank\"> DS </a></td>\n",
       "      <td id=\"T_765e3_row0_col6\" class=\"data row0 col6\" >206.280000</td>\n",
       "      <td id=\"T_765e3_row0_col7\" class=\"data row0 col7\" >3.500000</td>\n",
       "      <td id=\"T_765e3_row0_col8\" class=\"data row0 col8\" >1.000000</td>\n",
       "      <td id=\"T_765e3_row0_col9\" class=\"data row0 col9\" >2.000000</td>\n",
       "      <td id=\"T_765e3_row0_col10\" class=\"data row0 col10\" >4.000000</td>\n",
       "      <td id=\"T_765e3_row0_col11\" class=\"data row0 col11\" >206.130680</td>\n",
       "      <td id=\"T_765e3_row0_col12\" class=\"data row0 col12\" >206.130680</td>\n",
       "      <td id=\"T_765e3_row0_col13\" class=\"data row0 col13\" >37.300000</td>\n",
       "      <td id=\"T_765e3_row0_col14\" class=\"data row0 col14\" >15.000000</td>\n",
       "      <td id=\"T_765e3_row0_col15\" class=\"data row0 col15\" >0.000000</td>\n",
       "      <td id=\"T_765e3_row0_col16\" class=\"data row0 col16\" >203.000000</td>\n",
       "      <td id=\"T_765e3_row0_col17\" class=\"data row0 col17\" >0.000000</td>\n",
       "      <td id=\"T_765e3_row0_col18\" class=\"data row0 col18\" >1.000000</td>\n",
       "      <td id=\"T_765e3_row0_col19\" class=\"data row0 col19\" >0.000000</td>\n",
       "      <td id=\"T_765e3_row0_col20\" class=\"data row0 col20\" >1.000000</td>\n",
       "      <td id=\"T_765e3_row0_col21\" class=\"data row0 col21\" >Yes</td>\n",
       "    </tr>\n",
       "    <tr>\n",
       "      <th id=\"T_765e3_level0_row1\" class=\"row_heading level0 row1\" >1</th>\n",
       "      <td id=\"T_765e3_row1_col0\" class=\"data row1 col0\" >175781</td>\n",
       "      <td id=\"T_765e3_row1_col1\" class=\"data row1 col1\" >98207-12-6</td>\n",
       "      <td id=\"T_765e3_row1_col2\" class=\"data row1 col2\" ></td>\n",
       "      <td id=\"T_765e3_row1_col3\" class=\"data row1 col3\" >CC(C)CC1=CC=C(C=C1)C(C)C(=O)OCCN2CCN(CC2)C3=CC(=CC=C3)Cl</td>\n",
       "      <td id=\"T_765e3_row1_col4\" class=\"data row1 col4\" >Lobuprofen</td>\n",
       "      <td id=\"T_765e3_row1_col5\" class=\"data row1 col5\" ><a href=\"https://sds.app.accelerate.science/projects/1234567890abcdefghijklmnopqrstvwyz123456/library/public?search=JTdCJTIyY29sbGVjdGlvbnMlMjIlM0ElNUIlMjJwdWJjaGVtJTIyJTVEJTJDJTIydHlwZSUyMiUzQSUyMkRvY3VtZW50JTIyJTJDJTIyZXhwcmVzc2lvbiUyMiUzQSUyMmZpbGUtaW5mby5kb2N1bWVudC1oYXNoJTNBJTIwJTVDJTIyNDc5ZjMxZGEwMTY3MGJjMzIxN2U5NjUxYzIwZTQ3MmRhZTE1MzE5ODhlNTcwNDI4MjgwZWU2MDQ2MDFmNzU4ZiU1QyUyMiUyMiUyQyUyMmZpbHRlcnMlMjIlM0ElNUIlNUQlMkMlMjJzZWxlY3QlMjIlM0ElNUIlMjJfbmFtZSUyMiUyQyUyMmRlc2NyaXB0aW9uLmNvbGxlY3Rpb24lMjIlMkMlMjJwcm92JTIyJTJDJTIyZGVzY3JpcHRpb24udGl0bGUlMjIlMkMlMjJkZXNjcmlwdGlvbi5wdWJsaWNhdGlvbl9kYXRlJTIyJTJDJTIyZGVzY3JpcHRpb24udXJsX3JlZnMlMjIlNUQlMkMlMjJpdGVtSW5kZXglMjIlM0EwJTJDJTIycGFnZVNpemUlMjIlM0ExMCUyQyUyMnNlYXJjaEFmdGVySGlzdG9yeSUyMiUzQSU1QiU1RCUyQyUyMnZpZXdUeXBlJTIyJTNBJTIyc25pcHBldHMlMjIlMkMlMjJyZWNvcmRTZWxlY3Rpb24lMjIlM0ElN0IlMjJyZWNvcmQlMjIlM0ElN0IlMjJpZCUyMiUzQSUyMjQ3OWYzMWRhMDE2NzBiYzMyMTdlOTY1MWMyMGU0NzJkYWUxNTMxOTg4ZTU3MDQyODI4MGVlNjA0NjAxZjc1OGYlMjIlN0QlN0QlN0Q%3D\"  target=\"_blank\"> DS </a></td>\n",
       "      <td id=\"T_765e3_row1_col6\" class=\"data row1 col6\" >429.000000</td>\n",
       "      <td id=\"T_765e3_row1_col7\" class=\"data row1 col7\" >6.100000</td>\n",
       "      <td id=\"T_765e3_row1_col8\" class=\"data row1 col8\" >0.000000</td>\n",
       "      <td id=\"T_765e3_row1_col9\" class=\"data row1 col9\" >4.000000</td>\n",
       "      <td id=\"T_765e3_row1_col10\" class=\"data row1 col10\" >9.000000</td>\n",
       "      <td id=\"T_765e3_row1_col11\" class=\"data row1 col11\" >428.223056</td>\n",
       "      <td id=\"T_765e3_row1_col12\" class=\"data row1 col12\" >428.223056</td>\n",
       "      <td id=\"T_765e3_row1_col13\" class=\"data row1 col13\" >32.800000</td>\n",
       "      <td id=\"T_765e3_row1_col14\" class=\"data row1 col14\" >30.000000</td>\n",
       "      <td id=\"T_765e3_row1_col15\" class=\"data row1 col15\" >0.000000</td>\n",
       "      <td id=\"T_765e3_row1_col16\" class=\"data row1 col16\" >513.000000</td>\n",
       "      <td id=\"T_765e3_row1_col17\" class=\"data row1 col17\" >0.000000</td>\n",
       "      <td id=\"T_765e3_row1_col18\" class=\"data row1 col18\" >0.000000</td>\n",
       "      <td id=\"T_765e3_row1_col19\" class=\"data row1 col19\" >1.000000</td>\n",
       "      <td id=\"T_765e3_row1_col20\" class=\"data row1 col20\" >1.000000</td>\n",
       "      <td id=\"T_765e3_row1_col21\" class=\"data row1 col21\" >Yes</td>\n",
       "    </tr>\n",
       "    <tr>\n",
       "      <th id=\"T_765e3_level0_row2\" class=\"row_heading level0 row2\" >2</th>\n",
       "      <td id=\"T_765e3_row2_col0\" class=\"data row2 col0\" >39912</td>\n",
       "      <td id=\"T_765e3_row2_col1\" class=\"data row2 col1\" >51146-56-6</td>\n",
       "      <td id=\"T_765e3_row2_col2\" class=\"data row2 col2\" ></td>\n",
       "      <td id=\"T_765e3_row2_col3\" class=\"data row2 col3\" >CC(C)CC1=CC=C(C=C1)C(C)C(=O)O</td>\n",
       "      <td id=\"T_765e3_row2_col4\" class=\"data row2 col4\" >Dexibuprofen</td>\n",
       "      <td id=\"T_765e3_row2_col5\" class=\"data row2 col5\" ><a href=\"https://sds.app.accelerate.science/projects/1234567890abcdefghijklmnopqrstvwyz123456/library/public?search=JTdCJTIyY29sbGVjdGlvbnMlMjIlM0ElNUIlMjJwdWJjaGVtJTIyJTVEJTJDJTIydHlwZSUyMiUzQSUyMkRvY3VtZW50JTIyJTJDJTIyZXhwcmVzc2lvbiUyMiUzQSUyMmZpbGUtaW5mby5kb2N1bWVudC1oYXNoJTNBJTIwJTVDJTIyODg1MWM2NzYxOGMyODM2NGIyNzg1NTA0Njk2ODMxMmI1MDA5YTk2MmRiZmVjY2I5NDE1YzRjNDAyYzc1MzUwMiU1QyUyMiUyMiUyQyUyMmZpbHRlcnMlMjIlM0ElNUIlNUQlMkMlMjJzZWxlY3QlMjIlM0ElNUIlMjJfbmFtZSUyMiUyQyUyMmRlc2NyaXB0aW9uLmNvbGxlY3Rpb24lMjIlMkMlMjJwcm92JTIyJTJDJTIyZGVzY3JpcHRpb24udGl0bGUlMjIlMkMlMjJkZXNjcmlwdGlvbi5wdWJsaWNhdGlvbl9kYXRlJTIyJTJDJTIyZGVzY3JpcHRpb24udXJsX3JlZnMlMjIlNUQlMkMlMjJpdGVtSW5kZXglMjIlM0EwJTJDJTIycGFnZVNpemUlMjIlM0ExMCUyQyUyMnNlYXJjaEFmdGVySGlzdG9yeSUyMiUzQSU1QiU1RCUyQyUyMnZpZXdUeXBlJTIyJTNBJTIyc25pcHBldHMlMjIlMkMlMjJyZWNvcmRTZWxlY3Rpb24lMjIlM0ElN0IlMjJyZWNvcmQlMjIlM0ElN0IlMjJpZCUyMiUzQSUyMjg4NTFjNjc2MThjMjgzNjRiMjc4NTUwNDY5NjgzMTJiNTAwOWE5NjJkYmZlY2NiOTQxNWM0YzQwMmM3NTM1MDIlMjIlN0QlN0QlN0Q%3D\"  target=\"_blank\"> DS </a></td>\n",
       "      <td id=\"T_765e3_row2_col6\" class=\"data row2 col6\" >206.280000</td>\n",
       "      <td id=\"T_765e3_row2_col7\" class=\"data row2 col7\" >3.500000</td>\n",
       "      <td id=\"T_765e3_row2_col8\" class=\"data row2 col8\" >1.000000</td>\n",
       "      <td id=\"T_765e3_row2_col9\" class=\"data row2 col9\" >2.000000</td>\n",
       "      <td id=\"T_765e3_row2_col10\" class=\"data row2 col10\" >4.000000</td>\n",
       "      <td id=\"T_765e3_row2_col11\" class=\"data row2 col11\" >206.130680</td>\n",
       "      <td id=\"T_765e3_row2_col12\" class=\"data row2 col12\" >206.130680</td>\n",
       "      <td id=\"T_765e3_row2_col13\" class=\"data row2 col13\" >37.300000</td>\n",
       "      <td id=\"T_765e3_row2_col14\" class=\"data row2 col14\" >15.000000</td>\n",
       "      <td id=\"T_765e3_row2_col15\" class=\"data row2 col15\" >0.000000</td>\n",
       "      <td id=\"T_765e3_row2_col16\" class=\"data row2 col16\" >203.000000</td>\n",
       "      <td id=\"T_765e3_row2_col17\" class=\"data row2 col17\" >0.000000</td>\n",
       "      <td id=\"T_765e3_row2_col18\" class=\"data row2 col18\" >1.000000</td>\n",
       "      <td id=\"T_765e3_row2_col19\" class=\"data row2 col19\" >0.000000</td>\n",
       "      <td id=\"T_765e3_row2_col20\" class=\"data row2 col20\" >1.000000</td>\n",
       "      <td id=\"T_765e3_row2_col21\" class=\"data row2 col21\" >Yes</td>\n",
       "    </tr>\n",
       "    <tr>\n",
       "      <th id=\"T_765e3_level0_row3\" class=\"row_heading level0 row3\" >3</th>\n",
       "      <td id=\"T_765e3_row3_col0\" class=\"data row3 col0\" >219068</td>\n",
       "      <td id=\"T_765e3_row3_col1\" class=\"data row3 col1\" >17692-38-5</td>\n",
       "      <td id=\"T_765e3_row3_col2\" class=\"data row3 col2\" ></td>\n",
       "      <td id=\"T_765e3_row3_col3\" class=\"data row3 col3\" >CC(C1=CC=C(C=C1)C2=CC(=CC=C2)F)C(=O)O</td>\n",
       "      <td id=\"T_765e3_row3_col4\" class=\"data row3 col4\" >Fluprofen</td>\n",
       "      <td id=\"T_765e3_row3_col5\" class=\"data row3 col5\" ><a href=\"https://sds.app.accelerate.science/projects/1234567890abcdefghijklmnopqrstvwyz123456/library/public?search=JTdCJTIyY29sbGVjdGlvbnMlMjIlM0ElNUIlMjJwdWJjaGVtJTIyJTVEJTJDJTIydHlwZSUyMiUzQSUyMkRvY3VtZW50JTIyJTJDJTIyZXhwcmVzc2lvbiUyMiUzQSUyMmZpbGUtaW5mby5kb2N1bWVudC1oYXNoJTNBJTIwJTVDJTIyOTFiNmUxMzlkYTRmODM4NzRmMDI4NDFiOTZmYmVjMmU1MDQyZTQ2YzNmNWU4MWY5ZDY5NTk4YWRjNTk0OGQxZSU1QyUyMiUyMiUyQyUyMmZpbHRlcnMlMjIlM0ElNUIlNUQlMkMlMjJzZWxlY3QlMjIlM0ElNUIlMjJfbmFtZSUyMiUyQyUyMmRlc2NyaXB0aW9uLmNvbGxlY3Rpb24lMjIlMkMlMjJwcm92JTIyJTJDJTIyZGVzY3JpcHRpb24udGl0bGUlMjIlMkMlMjJkZXNjcmlwdGlvbi5wdWJsaWNhdGlvbl9kYXRlJTIyJTJDJTIyZGVzY3JpcHRpb24udXJsX3JlZnMlMjIlNUQlMkMlMjJpdGVtSW5kZXglMjIlM0EwJTJDJTIycGFnZVNpemUlMjIlM0ExMCUyQyUyMnNlYXJjaEFmdGVySGlzdG9yeSUyMiUzQSU1QiU1RCUyQyUyMnZpZXdUeXBlJTIyJTNBJTIyc25pcHBldHMlMjIlMkMlMjJyZWNvcmRTZWxlY3Rpb24lMjIlM0ElN0IlMjJyZWNvcmQlMjIlM0ElN0IlMjJpZCUyMiUzQSUyMjkxYjZlMTM5ZGE0ZjgzODc0ZjAyODQxYjk2ZmJlYzJlNTA0MmU0NmMzZjVlODFmOWQ2OTU5OGFkYzU5NDhkMWUlMjIlN0QlN0QlN0Q%3D\"  target=\"_blank\"> DS </a></td>\n",
       "      <td id=\"T_765e3_row3_col6\" class=\"data row3 col6\" >244.260000</td>\n",
       "      <td id=\"T_765e3_row3_col7\" class=\"data row3 col7\" >3.700000</td>\n",
       "      <td id=\"T_765e3_row3_col8\" class=\"data row3 col8\" >1.000000</td>\n",
       "      <td id=\"T_765e3_row3_col9\" class=\"data row3 col9\" >3.000000</td>\n",
       "      <td id=\"T_765e3_row3_col10\" class=\"data row3 col10\" >3.000000</td>\n",
       "      <td id=\"T_765e3_row3_col11\" class=\"data row3 col11\" >244.089958</td>\n",
       "      <td id=\"T_765e3_row3_col12\" class=\"data row3 col12\" >244.089958</td>\n",
       "      <td id=\"T_765e3_row3_col13\" class=\"data row3 col13\" >37.300000</td>\n",
       "      <td id=\"T_765e3_row3_col14\" class=\"data row3 col14\" >18.000000</td>\n",
       "      <td id=\"T_765e3_row3_col15\" class=\"data row3 col15\" >0.000000</td>\n",
       "      <td id=\"T_765e3_row3_col16\" class=\"data row3 col16\" >284.000000</td>\n",
       "      <td id=\"T_765e3_row3_col17\" class=\"data row3 col17\" >0.000000</td>\n",
       "      <td id=\"T_765e3_row3_col18\" class=\"data row3 col18\" >0.000000</td>\n",
       "      <td id=\"T_765e3_row3_col19\" class=\"data row3 col19\" >1.000000</td>\n",
       "      <td id=\"T_765e3_row3_col20\" class=\"data row3 col20\" >1.000000</td>\n",
       "      <td id=\"T_765e3_row3_col21\" class=\"data row3 col21\" >Yes</td>\n",
       "    </tr>\n",
       "    <tr>\n",
       "      <th id=\"T_765e3_level0_row4\" class=\"row_heading level0 row4\" >4</th>\n",
       "      <td id=\"T_765e3_row4_col0\" class=\"data row4 col0\" >3672</td>\n",
       "      <td id=\"T_765e3_row4_col1\" class=\"data row4 col1\" >79261-49-7 (potassium salt)</td>\n",
       "      <td id=\"T_765e3_row4_col2\" class=\"data row4 col2\" >239-784-6</td>\n",
       "      <td id=\"T_765e3_row4_col3\" class=\"data row4 col3\" >CC(C)CC1=CC=C(C=C1)C(C)C(=O)O</td>\n",
       "      <td id=\"T_765e3_row4_col4\" class=\"data row4 col4\" >Ibuprofen</td>\n",
       "      <td id=\"T_765e3_row4_col5\" class=\"data row4 col5\" ><a href=\"https://sds.app.accelerate.science/projects/1234567890abcdefghijklmnopqrstvwyz123456/library/public?search=JTdCJTIyY29sbGVjdGlvbnMlMjIlM0ElNUIlMjJwdWJjaGVtJTIyJTVEJTJDJTIydHlwZSUyMiUzQSUyMkRvY3VtZW50JTIyJTJDJTIyZXhwcmVzc2lvbiUyMiUzQSUyMmZpbGUtaW5mby5kb2N1bWVudC1oYXNoJTNBJTIwJTVDJTIyOWU0MGY4NjM2MGJhOGMxMGM4NjU1NDZlMzI0ZjBjNGMzMDI4MTAxZTMwYjQ2MTkzYzg0YzNkMjg0MzEwODU5NiU1QyUyMiUyMiUyQyUyMmZpbHRlcnMlMjIlM0ElNUIlNUQlMkMlMjJzZWxlY3QlMjIlM0ElNUIlMjJfbmFtZSUyMiUyQyUyMmRlc2NyaXB0aW9uLmNvbGxlY3Rpb24lMjIlMkMlMjJwcm92JTIyJTJDJTIyZGVzY3JpcHRpb24udGl0bGUlMjIlMkMlMjJkZXNjcmlwdGlvbi5wdWJsaWNhdGlvbl9kYXRlJTIyJTJDJTIyZGVzY3JpcHRpb24udXJsX3JlZnMlMjIlNUQlMkMlMjJpdGVtSW5kZXglMjIlM0EwJTJDJTIycGFnZVNpemUlMjIlM0ExMCUyQyUyMnNlYXJjaEFmdGVySGlzdG9yeSUyMiUzQSU1QiU1RCUyQyUyMnZpZXdUeXBlJTIyJTNBJTIyc25pcHBldHMlMjIlMkMlMjJyZWNvcmRTZWxlY3Rpb24lMjIlM0ElN0IlMjJyZWNvcmQlMjIlM0ElN0IlMjJpZCUyMiUzQSUyMjllNDBmODYzNjBiYThjMTBjODY1NTQ2ZTMyNGYwYzRjMzAyODEwMWUzMGI0NjE5M2M4NGMzZDI4NDMxMDg1OTYlMjIlN0QlN0QlN0Q%3D\"  target=\"_blank\"> DS </a></td>\n",
       "      <td id=\"T_765e3_row4_col6\" class=\"data row4 col6\" >206.280000</td>\n",
       "      <td id=\"T_765e3_row4_col7\" class=\"data row4 col7\" >3.500000</td>\n",
       "      <td id=\"T_765e3_row4_col8\" class=\"data row4 col8\" >1.000000</td>\n",
       "      <td id=\"T_765e3_row4_col9\" class=\"data row4 col9\" >2.000000</td>\n",
       "      <td id=\"T_765e3_row4_col10\" class=\"data row4 col10\" >4.000000</td>\n",
       "      <td id=\"T_765e3_row4_col11\" class=\"data row4 col11\" >206.130680</td>\n",
       "      <td id=\"T_765e3_row4_col12\" class=\"data row4 col12\" >206.130680</td>\n",
       "      <td id=\"T_765e3_row4_col13\" class=\"data row4 col13\" >37.300000</td>\n",
       "      <td id=\"T_765e3_row4_col14\" class=\"data row4 col14\" >15.000000</td>\n",
       "      <td id=\"T_765e3_row4_col15\" class=\"data row4 col15\" >0.000000</td>\n",
       "      <td id=\"T_765e3_row4_col16\" class=\"data row4 col16\" >203.000000</td>\n",
       "      <td id=\"T_765e3_row4_col17\" class=\"data row4 col17\" >0.000000</td>\n",
       "      <td id=\"T_765e3_row4_col18\" class=\"data row4 col18\" >0.000000</td>\n",
       "      <td id=\"T_765e3_row4_col19\" class=\"data row4 col19\" >1.000000</td>\n",
       "      <td id=\"T_765e3_row4_col20\" class=\"data row4 col20\" >1.000000</td>\n",
       "      <td id=\"T_765e3_row4_col21\" class=\"data row4 col21\" >Yes</td>\n",
       "    </tr>\n",
       "    <tr>\n",
       "      <th id=\"T_765e3_level0_row5\" class=\"row_heading level0 row5\" >5</th>\n",
       "      <td id=\"T_765e3_row5_col0\" class=\"data row5 col0\" >68769</td>\n",
       "      <td id=\"T_765e3_row5_col1\" class=\"data row5 col1\" >57144-56-6</td>\n",
       "      <td id=\"T_765e3_row5_col2\" class=\"data row5 col2\" ></td>\n",
       "      <td id=\"T_765e3_row5_col3\" class=\"data row5 col3\" >CC(C)C1CC2=C(C1)C=C(C=C2)C(C)C(=O)O</td>\n",
       "      <td id=\"T_765e3_row5_col4\" class=\"data row5 col4\" >Isoprofen</td>\n",
       "      <td id=\"T_765e3_row5_col5\" class=\"data row5 col5\" ><a href=\"https://sds.app.accelerate.science/projects/1234567890abcdefghijklmnopqrstvwyz123456/library/public?search=JTdCJTIyY29sbGVjdGlvbnMlMjIlM0ElNUIlMjJwdWJjaGVtJTIyJTVEJTJDJTIydHlwZSUyMiUzQSUyMkRvY3VtZW50JTIyJTJDJTIyZXhwcmVzc2lvbiUyMiUzQSUyMmZpbGUtaW5mby5kb2N1bWVudC1oYXNoJTNBJTIwJTVDJTIyYTc1ZDA1ZjMxOTliOTZjOTQwYTc3MTQwZWJkNWEwMDczOTgyOWRmMGMwZTRmYzBlZmEzYmIyNGE5OGMyMTRjNCU1QyUyMiUyMiUyQyUyMmZpbHRlcnMlMjIlM0ElNUIlNUQlMkMlMjJzZWxlY3QlMjIlM0ElNUIlMjJfbmFtZSUyMiUyQyUyMmRlc2NyaXB0aW9uLmNvbGxlY3Rpb24lMjIlMkMlMjJwcm92JTIyJTJDJTIyZGVzY3JpcHRpb24udGl0bGUlMjIlMkMlMjJkZXNjcmlwdGlvbi5wdWJsaWNhdGlvbl9kYXRlJTIyJTJDJTIyZGVzY3JpcHRpb24udXJsX3JlZnMlMjIlNUQlMkMlMjJpdGVtSW5kZXglMjIlM0EwJTJDJTIycGFnZVNpemUlMjIlM0ExMCUyQyUyMnNlYXJjaEFmdGVySGlzdG9yeSUyMiUzQSU1QiU1RCUyQyUyMnZpZXdUeXBlJTIyJTNBJTIyc25pcHBldHMlMjIlMkMlMjJyZWNvcmRTZWxlY3Rpb24lMjIlM0ElN0IlMjJyZWNvcmQlMjIlM0ElN0IlMjJpZCUyMiUzQSUyMmE3NWQwNWYzMTk5Yjk2Yzk0MGE3NzE0MGViZDVhMDA3Mzk4MjlkZjBjMGU0ZmMwZWZhM2JiMjRhOThjMjE0YzQlMjIlN0QlN0QlN0Q%3D\"  target=\"_blank\"> DS </a></td>\n",
       "      <td id=\"T_765e3_row5_col6\" class=\"data row5 col6\" >232.320000</td>\n",
       "      <td id=\"T_765e3_row5_col7\" class=\"data row5 col7\" >3.800000</td>\n",
       "      <td id=\"T_765e3_row5_col8\" class=\"data row5 col8\" >1.000000</td>\n",
       "      <td id=\"T_765e3_row5_col9\" class=\"data row5 col9\" >2.000000</td>\n",
       "      <td id=\"T_765e3_row5_col10\" class=\"data row5 col10\" >3.000000</td>\n",
       "      <td id=\"T_765e3_row5_col11\" class=\"data row5 col11\" >232.146330</td>\n",
       "      <td id=\"T_765e3_row5_col12\" class=\"data row5 col12\" >232.146330</td>\n",
       "      <td id=\"T_765e3_row5_col13\" class=\"data row5 col13\" >37.300000</td>\n",
       "      <td id=\"T_765e3_row5_col14\" class=\"data row5 col14\" >17.000000</td>\n",
       "      <td id=\"T_765e3_row5_col15\" class=\"data row5 col15\" >0.000000</td>\n",
       "      <td id=\"T_765e3_row5_col16\" class=\"data row5 col16\" >285.000000</td>\n",
       "      <td id=\"T_765e3_row5_col17\" class=\"data row5 col17\" >0.000000</td>\n",
       "      <td id=\"T_765e3_row5_col18\" class=\"data row5 col18\" >0.000000</td>\n",
       "      <td id=\"T_765e3_row5_col19\" class=\"data row5 col19\" >2.000000</td>\n",
       "      <td id=\"T_765e3_row5_col20\" class=\"data row5 col20\" >1.000000</td>\n",
       "      <td id=\"T_765e3_row5_col21\" class=\"data row5 col21\" >Yes</td>\n",
       "    </tr>\n",
       "    <tr>\n",
       "      <th id=\"T_765e3_level0_row6\" class=\"row_heading level0 row6\" >6</th>\n",
       "      <td id=\"T_765e3_row6_col0\" class=\"data row6 col0\" >5359</td>\n",
       "      <td id=\"T_765e3_row6_col1\" class=\"data row6 col1\" >40828-46-4</td>\n",
       "      <td id=\"T_765e3_row6_col2\" class=\"data row6 col2\" >255-096-9</td>\n",
       "      <td id=\"T_765e3_row6_col3\" class=\"data row6 col3\" >CC(C1=CC=C(C=C1)C(=O)C2=CC=CS2)C(=O)O</td>\n",
       "      <td id=\"T_765e3_row6_col4\" class=\"data row6 col4\" >Suprofen</td>\n",
       "      <td id=\"T_765e3_row6_col5\" class=\"data row6 col5\" ><a href=\"https://sds.app.accelerate.science/projects/1234567890abcdefghijklmnopqrstvwyz123456/library/public?search=JTdCJTIyY29sbGVjdGlvbnMlMjIlM0ElNUIlMjJwdWJjaGVtJTIyJTVEJTJDJTIydHlwZSUyMiUzQSUyMkRvY3VtZW50JTIyJTJDJTIyZXhwcmVzc2lvbiUyMiUzQSUyMmZpbGUtaW5mby5kb2N1bWVudC1oYXNoJTNBJTIwJTVDJTIyYzVkMjdhZjIzNDQxZmQyZmIyMTI5MDMyYjdmYTZkNDAxZDRlMDIwZmQyYjA4ZjYwNDk1OGI0MTZjMWNlMTdjYyU1QyUyMiUyMiUyQyUyMmZpbHRlcnMlMjIlM0ElNUIlNUQlMkMlMjJzZWxlY3QlMjIlM0ElNUIlMjJfbmFtZSUyMiUyQyUyMmRlc2NyaXB0aW9uLmNvbGxlY3Rpb24lMjIlMkMlMjJwcm92JTIyJTJDJTIyZGVzY3JpcHRpb24udGl0bGUlMjIlMkMlMjJkZXNjcmlwdGlvbi5wdWJsaWNhdGlvbl9kYXRlJTIyJTJDJTIyZGVzY3JpcHRpb24udXJsX3JlZnMlMjIlNUQlMkMlMjJpdGVtSW5kZXglMjIlM0EwJTJDJTIycGFnZVNpemUlMjIlM0ExMCUyQyUyMnNlYXJjaEFmdGVySGlzdG9yeSUyMiUzQSU1QiU1RCUyQyUyMnZpZXdUeXBlJTIyJTNBJTIyc25pcHBldHMlMjIlMkMlMjJyZWNvcmRTZWxlY3Rpb24lMjIlM0ElN0IlMjJyZWNvcmQlMjIlM0ElN0IlMjJpZCUyMiUzQSUyMmM1ZDI3YWYyMzQ0MWZkMmZiMjEyOTAzMmI3ZmE2ZDQwMWQ0ZTAyMGZkMmIwOGY2MDQ5NThiNDE2YzFjZTE3Y2MlMjIlN0QlN0QlN0Q%3D\"  target=\"_blank\"> DS </a></td>\n",
       "      <td id=\"T_765e3_row6_col6\" class=\"data row6 col6\" >260.310000</td>\n",
       "      <td id=\"T_765e3_row6_col7\" class=\"data row6 col7\" >3.300000</td>\n",
       "      <td id=\"T_765e3_row6_col8\" class=\"data row6 col8\" >1.000000</td>\n",
       "      <td id=\"T_765e3_row6_col9\" class=\"data row6 col9\" >4.000000</td>\n",
       "      <td id=\"T_765e3_row6_col10\" class=\"data row6 col10\" >4.000000</td>\n",
       "      <td id=\"T_765e3_row6_col11\" class=\"data row6 col11\" >260.050715</td>\n",
       "      <td id=\"T_765e3_row6_col12\" class=\"data row6 col12\" >260.050715</td>\n",
       "      <td id=\"T_765e3_row6_col13\" class=\"data row6 col13\" >82.600000</td>\n",
       "      <td id=\"T_765e3_row6_col14\" class=\"data row6 col14\" >18.000000</td>\n",
       "      <td id=\"T_765e3_row6_col15\" class=\"data row6 col15\" >0.000000</td>\n",
       "      <td id=\"T_765e3_row6_col16\" class=\"data row6 col16\" >321.000000</td>\n",
       "      <td id=\"T_765e3_row6_col17\" class=\"data row6 col17\" >0.000000</td>\n",
       "      <td id=\"T_765e3_row6_col18\" class=\"data row6 col18\" >0.000000</td>\n",
       "      <td id=\"T_765e3_row6_col19\" class=\"data row6 col19\" >1.000000</td>\n",
       "      <td id=\"T_765e3_row6_col20\" class=\"data row6 col20\" >1.000000</td>\n",
       "      <td id=\"T_765e3_row6_col21\" class=\"data row6 col21\" >Yes</td>\n",
       "    </tr>\n",
       "    <tr>\n",
       "      <th id=\"T_765e3_level0_row7\" class=\"row_heading level0 row7\" >7</th>\n",
       "      <td id=\"T_765e3_row7_col0\" class=\"data row7 col0\" >595160</td>\n",
       "      <td id=\"T_765e3_row7_col1\" class=\"data row7 col1\" >36039-36-8</td>\n",
       "      <td id=\"T_765e3_row7_col2\" class=\"data row7 col2\" ></td>\n",
       "      <td id=\"T_765e3_row7_col3\" class=\"data row7 col3\" >CC(C)CC1=CC=C(C=C1)C(C)CO</td>\n",
       "      <td id=\"T_765e3_row7_col4\" class=\"data row7 col4\" >Ibuprofen alcohol</td>\n",
       "      <td id=\"T_765e3_row7_col5\" class=\"data row7 col5\" ><a href=\"https://sds.app.accelerate.science/projects/1234567890abcdefghijklmnopqrstvwyz123456/library/public?search=JTdCJTIyY29sbGVjdGlvbnMlMjIlM0ElNUIlMjJwdWJjaGVtJTIyJTVEJTJDJTIydHlwZSUyMiUzQSUyMkRvY3VtZW50JTIyJTJDJTIyZXhwcmVzc2lvbiUyMiUzQSUyMmZpbGUtaW5mby5kb2N1bWVudC1oYXNoJTNBJTIwJTVDJTIyZjRlMTE2YjA1NjVhM2NhNWQxNjU5YzI3ZjJlMTkzMzBkMDBmODkzM2MwZmU3NWEyODNmNmViMTk0NmY5ZDhiZCU1QyUyMiUyMiUyQyUyMmZpbHRlcnMlMjIlM0ElNUIlNUQlMkMlMjJzZWxlY3QlMjIlM0ElNUIlMjJfbmFtZSUyMiUyQyUyMmRlc2NyaXB0aW9uLmNvbGxlY3Rpb24lMjIlMkMlMjJwcm92JTIyJTJDJTIyZGVzY3JpcHRpb24udGl0bGUlMjIlMkMlMjJkZXNjcmlwdGlvbi5wdWJsaWNhdGlvbl9kYXRlJTIyJTJDJTIyZGVzY3JpcHRpb24udXJsX3JlZnMlMjIlNUQlMkMlMjJpdGVtSW5kZXglMjIlM0EwJTJDJTIycGFnZVNpemUlMjIlM0ExMCUyQyUyMnNlYXJjaEFmdGVySGlzdG9yeSUyMiUzQSU1QiU1RCUyQyUyMnZpZXdUeXBlJTIyJTNBJTIyc25pcHBldHMlMjIlMkMlMjJyZWNvcmRTZWxlY3Rpb24lMjIlM0ElN0IlMjJyZWNvcmQlMjIlM0ElN0IlMjJpZCUyMiUzQSUyMmY0ZTExNmIwNTY1YTNjYTVkMTY1OWMyN2YyZTE5MzMwZDAwZjg5MzNjMGZlNzVhMjgzZjZlYjE5NDZmOWQ4YmQlMjIlN0QlN0QlN0Q%3D\"  target=\"_blank\"> DS </a></td>\n",
       "      <td id=\"T_765e3_row7_col6\" class=\"data row7 col6\" >192.300000</td>\n",
       "      <td id=\"T_765e3_row7_col7\" class=\"data row7 col7\" >3.400000</td>\n",
       "      <td id=\"T_765e3_row7_col8\" class=\"data row7 col8\" >1.000000</td>\n",
       "      <td id=\"T_765e3_row7_col9\" class=\"data row7 col9\" >1.000000</td>\n",
       "      <td id=\"T_765e3_row7_col10\" class=\"data row7 col10\" >4.000000</td>\n",
       "      <td id=\"T_765e3_row7_col11\" class=\"data row7 col11\" >192.151415</td>\n",
       "      <td id=\"T_765e3_row7_col12\" class=\"data row7 col12\" >192.151415</td>\n",
       "      <td id=\"T_765e3_row7_col13\" class=\"data row7 col13\" >20.200000</td>\n",
       "      <td id=\"T_765e3_row7_col14\" class=\"data row7 col14\" >14.000000</td>\n",
       "      <td id=\"T_765e3_row7_col15\" class=\"data row7 col15\" >0.000000</td>\n",
       "      <td id=\"T_765e3_row7_col16\" class=\"data row7 col16\" >145.000000</td>\n",
       "      <td id=\"T_765e3_row7_col17\" class=\"data row7 col17\" >0.000000</td>\n",
       "      <td id=\"T_765e3_row7_col18\" class=\"data row7 col18\" >0.000000</td>\n",
       "      <td id=\"T_765e3_row7_col19\" class=\"data row7 col19\" >1.000000</td>\n",
       "      <td id=\"T_765e3_row7_col20\" class=\"data row7 col20\" >1.000000</td>\n",
       "      <td id=\"T_765e3_row7_col21\" class=\"data row7 col21\" >Yes</td>\n",
       "    </tr>\n",
       "    <tr>\n",
       "      <th id=\"T_765e3_level0_row8\" class=\"row_heading level0 row8\" >8</th>\n",
       "      <td id=\"T_765e3_row8_col0\" class=\"data row8 col0\" >71261</td>\n",
       "      <td id=\"T_765e3_row8_col1\" class=\"data row8 col1\" >83394-44-9</td>\n",
       "      <td id=\"T_765e3_row8_col2\" class=\"data row8 col2\" >280-048-9</td>\n",
       "      <td id=\"T_765e3_row8_col3\" class=\"data row8 col3\" >CC(C)CC1=CC=C(C=C1)C(C)C(=O)NCCO</td>\n",
       "      <td id=\"T_765e3_row8_col4\" class=\"data row8 col4\" >Mabuprofen</td>\n",
       "      <td id=\"T_765e3_row8_col5\" class=\"data row8 col5\" ><a href=\"https://sds.app.accelerate.science/projects/1234567890abcdefghijklmnopqrstvwyz123456/library/public?search=JTdCJTIyY29sbGVjdGlvbnMlMjIlM0ElNUIlMjJwdWJjaGVtJTIyJTVEJTJDJTIydHlwZSUyMiUzQSUyMkRvY3VtZW50JTIyJTJDJTIyZXhwcmVzc2lvbiUyMiUzQSUyMmZpbGUtaW5mby5kb2N1bWVudC1oYXNoJTNBJTIwJTVDJTIyZjYyOWI4NmE3Y2RhNzRhYzczNWI4NWRkMzYxOTUwM2ZhMTIyNWU5MzBhMmMwODMxZmY0NWIxYjA4ODAwOTEyZSU1QyUyMiUyMiUyQyUyMmZpbHRlcnMlMjIlM0ElNUIlNUQlMkMlMjJzZWxlY3QlMjIlM0ElNUIlMjJfbmFtZSUyMiUyQyUyMmRlc2NyaXB0aW9uLmNvbGxlY3Rpb24lMjIlMkMlMjJwcm92JTIyJTJDJTIyZGVzY3JpcHRpb24udGl0bGUlMjIlMkMlMjJkZXNjcmlwdGlvbi5wdWJsaWNhdGlvbl9kYXRlJTIyJTJDJTIyZGVzY3JpcHRpb24udXJsX3JlZnMlMjIlNUQlMkMlMjJpdGVtSW5kZXglMjIlM0EwJTJDJTIycGFnZVNpemUlMjIlM0ExMCUyQyUyMnNlYXJjaEFmdGVySGlzdG9yeSUyMiUzQSU1QiU1RCUyQyUyMnZpZXdUeXBlJTIyJTNBJTIyc25pcHBldHMlMjIlMkMlMjJyZWNvcmRTZWxlY3Rpb24lMjIlM0ElN0IlMjJyZWNvcmQlMjIlM0ElN0IlMjJpZCUyMiUzQSUyMmY2MjliODZhN2NkYTc0YWM3MzViODVkZDM2MTk1MDNmYTEyMjVlOTMwYTJjMDgzMWZmNDViMWIwODgwMDkxMmUlMjIlN0QlN0QlN0Q%3D\"  target=\"_blank\"> DS </a></td>\n",
       "      <td id=\"T_765e3_row8_col6\" class=\"data row8 col6\" >249.350000</td>\n",
       "      <td id=\"T_765e3_row8_col7\" class=\"data row8 col7\" >2.600000</td>\n",
       "      <td id=\"T_765e3_row8_col8\" class=\"data row8 col8\" >2.000000</td>\n",
       "      <td id=\"T_765e3_row8_col9\" class=\"data row8 col9\" >2.000000</td>\n",
       "      <td id=\"T_765e3_row8_col10\" class=\"data row8 col10\" >6.000000</td>\n",
       "      <td id=\"T_765e3_row8_col11\" class=\"data row8 col11\" >249.172879</td>\n",
       "      <td id=\"T_765e3_row8_col12\" class=\"data row8 col12\" >249.172879</td>\n",
       "      <td id=\"T_765e3_row8_col13\" class=\"data row8 col13\" >49.300000</td>\n",
       "      <td id=\"T_765e3_row8_col14\" class=\"data row8 col14\" >18.000000</td>\n",
       "      <td id=\"T_765e3_row8_col15\" class=\"data row8 col15\" >0.000000</td>\n",
       "      <td id=\"T_765e3_row8_col16\" class=\"data row8 col16\" >245.000000</td>\n",
       "      <td id=\"T_765e3_row8_col17\" class=\"data row8 col17\" >0.000000</td>\n",
       "      <td id=\"T_765e3_row8_col18\" class=\"data row8 col18\" >0.000000</td>\n",
       "      <td id=\"T_765e3_row8_col19\" class=\"data row8 col19\" >1.000000</td>\n",
       "      <td id=\"T_765e3_row8_col20\" class=\"data row8 col20\" >1.000000</td>\n",
       "      <td id=\"T_765e3_row8_col21\" class=\"data row8 col21\" >Yes</td>\n",
       "    </tr>\n",
       "  </tbody>\n",
       "</table>\n"
      ],
      "text/plain": [
       "<pandas.io.formats.style.Styler at 0x17707e890>"
      ]
     },
     "metadata": {},
     "output_type": "display_data"
    },
    {
     "data": {
      "text/html": [
       "\n",
       "            <style>\n",
       "                #btn-wrap-1736424014 { height:12px; right:20px; display:flex; flex-direction:row-reverse; position:relative }\n",
       "                #btn-wrap-1736424014 a { color:#393939; width:24px; height:24px; padding:4px; box-sizing:border-box; background:white }\n",
       "                #btn-wrap-1736424014 a:hover { color: #0f62fe }\n",
       "            </style>\n",
       "            <div id=\"btn-wrap-1736424014\"><a target=\"_blank\" href=\"http://127.0.0.1:8025/result\"><svg width=\"16\" height=\"16\" viewBox=\"0 0 16 16\" fill=\"none\" xmlns=\"http://www.w3.org/2000/svg\"><path d=\"M13 14H3C2.73489 13.9996 2.48075 13.8942 2.29329 13.7067C2.10583 13.5193 2.00036 13.2651 2 13V3C2.00036 2.73489 2.10583 2.48075 2.29329 2.29329C2.48075 2.10583 2.73489 2.00036 3 2H8V3H3V13H13V8H14V13C13.9996 13.2651 13.8942 13.5193 13.7067 13.7067C13.5193 13.8942 13.2651 13.9996 13 14Z\" fill=\"currentColor\"/><path d=\"M10 1V2H13.293L9 6.293L9.707 7L14 2.707V6H15V1H10Z\" fill=\"currentColor\"/></svg></a><a href=\"#\" onclick=\"event.preventDefault(); document.querySelector('#btn-wrap-1736424014 + iframe').src=document.querySelector('#btn-wrap-1736424014 + iframe').src;\"><svg width=\"16\" height=\"16\" viewBox=\"0 0 16 16\" fill=\"none\" xmlns=\"http://www.w3.org/2000/svg\"><path d=\"M9 14C10.1867 14 11.3467 13.6481 12.3334 12.9888C13.3201 12.3295 14.0892 11.3925 14.5433 10.2961C14.9974 9.19975 15.1162 7.99335 14.8847 6.82946C14.6532 5.66558 14.0818 4.59648 13.2426 3.75736C12.4035 2.91825 11.3344 2.3468 10.1705 2.11529C9.00666 1.88378 7.80026 2.0026 6.7039 2.45673C5.60754 2.91085 4.67047 3.67989 4.01118 4.66658C3.35189 5.65328 3 6.81331 3 8V11.1L1.2 9.3L0.5 10L3.5 13L6.5 10L5.8 9.3L4 11.1V8C4 7.0111 4.29324 6.0444 4.84265 5.22215C5.39206 4.39991 6.17295 3.75904 7.08658 3.38061C8.00021 3.00217 9.00555 2.90315 9.97545 3.09608C10.9454 3.289 11.8363 3.76521 12.5355 4.46447C13.2348 5.16373 13.711 6.05465 13.9039 7.02455C14.0969 7.99446 13.9978 8.99979 13.6194 9.91342C13.241 10.8271 12.6001 11.6079 11.7779 12.1574C10.9556 12.7068 9.98891 13 9 13V14Z\" fill=\"currentColor\"/></svg></a></div><iframe src=\"http://127.0.0.1:8025/headless/result\" crossorigin=\"anonymous\" width=\"100%\" height=\"700\" style=\"border:solid 1px #ddd;box-sizing:border-box;width:calc(100% + 20px)\"></iframe>"
      ],
      "text/plain": [
       "<IPython.core.display.HTML object>"
      ]
     },
     "metadata": {},
     "output_type": "display_data"
    }
   ],
   "source": [
    "# Show data with molecules\n",
    "%openad ds search collection 'pubchem' for 'Ibuprofen' show (data)\n",
    "%openad result open"
   ]
  },
  {
   "cell_type": "code",
   "execution_count": 50,
   "id": "33d0a64d-9cfd-4527-87f3-84cdd31c1dbe",
   "metadata": {
    "tags": []
   },
   "outputs": [
    {
     "data": {
      "text/markdown": [
       "Estimated results: 1 <br> \n"
      ],
      "text/plain": [
       "<IPython.core.display.Markdown object>"
      ]
     },
     "metadata": {},
     "output_type": "display_data"
    },
    {
     "data": {
      "application/vnd.jupyter.widget-view+json": {
       "model_id": "",
       "version_major": 2,
       "version_minor": 0
      },
      "text/plain": [
       "  0%|          "
      ]
     },
     "metadata": {},
     "output_type": "display_data"
    },
    {
     "data": {
      "text/markdown": [
       "<span style=\"color: #ccc\">Next up, you can run: </span>`result open`/`edit`/`copy`/`display`/`as dataframe`/`save [as '<filename.csv>']` <br> \n"
      ],
      "text/plain": [
       "<IPython.core.display.Markdown object>"
      ]
     },
     "metadata": {},
     "output_type": "display_data"
    },
    {
     "data": {
      "text/html": [
       "<style type=\"text/css\">\n",
       "#T_85d98 th {\n",
       "  text-align: left;\n",
       "}\n",
       "#T_85d98_row0_col0, #T_85d98_row0_col1, #T_85d98_row0_col2, #T_85d98_row0_col3 {\n",
       "  text-align: left;\n",
       "}\n",
       "</style>\n",
       "<table id=\"T_85d98\">\n",
       "  <thead>\n",
       "    <tr>\n",
       "      <th class=\"blank level0\" >&nbsp;</th>\n",
       "      <th id=\"T_85d98_level0_col0\" class=\"col_heading level0 col0\" >patentid</th>\n",
       "      <th id=\"T_85d98_level0_col1\" class=\"col_heading level0 col1\" >patent_publ_id</th>\n",
       "      <th id=\"T_85d98_level0_col2\" class=\"col_heading level0 col2\" >patent_appl_id</th>\n",
       "      <th id=\"T_85d98_level0_col3\" class=\"col_heading level0 col3\" >DS_URL</th>\n",
       "    </tr>\n",
       "  </thead>\n",
       "  <tbody>\n",
       "    <tr>\n",
       "      <th id=\"T_85d98_level0_row0\" class=\"row_heading level0 row0\" >0</th>\n",
       "      <td id=\"T_85d98_row0_col0\" class=\"data row0 col0\" >US20180021467</td>\n",
       "      <td id=\"T_85d98_row0_col1\" class=\"data row0 col1\" >US20180021467A1</td>\n",
       "      <td id=\"T_85d98_row0_col2\" class=\"data row0 col2\" >US15547916</td>\n",
       "      <td id=\"T_85d98_row0_col3\" class=\"data row0 col3\" ><a href=\"https://sds.app.accelerate.science/projects/1234567890abcdefghijklmnopqrstvwyz123456/library/public?search=JTdCJTIyY29sbGVjdGlvbnMlMjIlM0ElNUIlMjJwYXRlbnQtdXNwdG8lMjIlNUQlMkMlMjJ0eXBlJTIyJTNBJTIyRG9jdW1lbnQlMjIlMkMlMjJleHByZXNzaW9uJTIyJTNBJTIyZmlsZS1pbmZvLmRvY3VtZW50LWhhc2glM0ElMjAlNUMlMjJmNWQyNTRlMmMyNGUwNGE1NzNjMWNjMWE1MWJjNDA3M2VhYzRkZDMwODRlZGZlMjE5ZmRhMjU1NzllZTllZWNkJTVDJTIyJTIyJTJDJTIyZmlsdGVycyUyMiUzQSU1QiU1RCUyQyUyMnNlbGVjdCUyMiUzQSU1QiUyMl9uYW1lJTIyJTJDJTIyZGVzY3JpcHRpb24uY29sbGVjdGlvbiUyMiUyQyUyMnByb3YlMjIlMkMlMjJkZXNjcmlwdGlvbi50aXRsZSUyMiUyQyUyMmRlc2NyaXB0aW9uLnB1YmxpY2F0aW9uX2RhdGUlMjIlMkMlMjJkZXNjcmlwdGlvbi51cmxfcmVmcyUyMiU1RCUyQyUyMml0ZW1JbmRleCUyMiUzQTAlMkMlMjJwYWdlU2l6ZSUyMiUzQTEwJTJDJTIyc2VhcmNoQWZ0ZXJIaXN0b3J5JTIyJTNBJTVCJTVEJTJDJTIydmlld1R5cGUlMjIlM0ElMjJzbmlwcGV0cyUyMiUyQyUyMnJlY29yZFNlbGVjdGlvbiUyMiUzQSU3QiUyMnJlY29yZCUyMiUzQSU3QiUyMmlkJTIyJTNBJTIyZjVkMjU0ZTJjMjRlMDRhNTczYzFjYzFhNTFiYzQwNzNlYWM0ZGQzMDg0ZWRmZTIxOWZkYTI1NTc5ZWU5ZWVjZCUyMiU3RCU3RCU3RA%3D%3D\"  target=\"_blank\"> DS </a></td>\n",
       "    </tr>\n",
       "  </tbody>\n",
       "</table>\n"
      ],
      "text/plain": [
       "<pandas.io.formats.style.Styler at 0x177363bb0>"
      ]
     },
     "metadata": {},
     "output_type": "display_data"
    }
   ],
   "source": [
    "# Show data\n",
    "%openad ds search collection 'patent-uspto' for '\"CC(CCO)CCCC(C)C\"' show (data)"
   ]
  },
  {
   "cell_type": "code",
   "execution_count": 51,
   "id": "54d3eb9a-bf2a-44e2-bace-553fd23c2d1b",
   "metadata": {
    "tags": []
   },
   "outputs": [
    {
     "data": {
      "text/markdown": [
       "Estimated results: 1 <br> \n"
      ],
      "text/plain": [
       "<IPython.core.display.Markdown object>"
      ]
     },
     "metadata": {},
     "output_type": "display_data"
    },
    {
     "data": {
      "application/vnd.jupyter.widget-view+json": {
       "model_id": "",
       "version_major": 2,
       "version_minor": 0
      },
      "text/plain": [
       "  0%|          "
      ]
     },
     "metadata": {},
     "output_type": "display_data"
    },
    {
     "data": {
      "text/markdown": [
       "<span style=\"color: #ccc\">Next up, you can run: </span>`result open`/`edit`/`copy`/`display`/`as dataframe`/`save [as '<filename.csv>']` <br> \n"
      ],
      "text/plain": [
       "<IPython.core.display.Markdown object>"
      ]
     },
     "metadata": {},
     "output_type": "display_data"
    },
    {
     "data": {
      "text/html": [
       "<style type=\"text/css\">\n",
       "#T_f54c8 th {\n",
       "  text-align: left;\n",
       "}\n",
       "#T_f54c8_row0_col0, #T_f54c8_row0_col1, #T_f54c8_row0_col2, #T_f54c8_row0_col3, #T_f54c8_row0_col4, #T_f54c8_row0_col5, #T_f54c8_row0_col6, #T_f54c8_row0_col7, #T_f54c8_row0_col8 {\n",
       "  text-align: left;\n",
       "}\n",
       "</style>\n",
       "<table id=\"T_f54c8\">\n",
       "  <thead>\n",
       "    <tr>\n",
       "      <th class=\"blank level0\" >&nbsp;</th>\n",
       "      <th id=\"T_f54c8_level0_col0\" class=\"col_heading level0 col0\" >Title</th>\n",
       "      <th id=\"T_f54c8_level0_col1\" class=\"col_heading level0 col1\" >Authors</th>\n",
       "      <th id=\"T_f54c8_level0_col2\" class=\"col_heading level0 col2\" >Snippet</th>\n",
       "      <th id=\"T_f54c8_level0_col3\" class=\"col_heading level0 col3\" >patentid</th>\n",
       "      <th id=\"T_f54c8_level0_col4\" class=\"col_heading level0 col4\" >patent_publ_id</th>\n",
       "      <th id=\"T_f54c8_level0_col5\" class=\"col_heading level0 col5\" >patent_appl_id</th>\n",
       "      <th id=\"T_f54c8_level0_col6\" class=\"col_heading level0 col6\" >DS_URL</th>\n",
       "      <th id=\"T_f54c8_level0_col7\" class=\"col_heading level0 col7\" >Report</th>\n",
       "      <th id=\"T_f54c8_level0_col8\" class=\"col_heading level0 col8\" >Field</th>\n",
       "    </tr>\n",
       "  </thead>\n",
       "  <tbody>\n",
       "    <tr>\n",
       "      <th id=\"T_f54c8_level0_row0\" class=\"row_heading level0 row0\" >0</th>\n",
       "      <td id=\"T_f54c8_row0_col0\" class=\"data row0 col0\" >METHOD OF BLOCKING PERCEPTION OF MALODOR</td>\n",
       "      <td id=\"T_f54c8_row0_col1\" class=\"data row0 col1\" >Mainland; Joel Drewery,Wise; Paul</td>\n",
       "      <td id=\"T_f54c8_row0_col2\" class=\"data row0 col2\" ><span style='font-weight: bold; background-color: #FFFF00'>CC</span>(<span style='font-weight: bold; background-color: #FFFF00'>CCO</span>)<span style='font-weight: bold; background-color: #FFFF00'>CCCC</span> (<span style='font-weight: bold; background-color: #FFFF00'>C</span>)C</td>\n",
       "      <td id=\"T_f54c8_row0_col3\" class=\"data row0 col3\" >US20180021467</td>\n",
       "      <td id=\"T_f54c8_row0_col4\" class=\"data row0 col4\" >US20180021467A1</td>\n",
       "      <td id=\"T_f54c8_row0_col5\" class=\"data row0 col5\" >US15547916</td>\n",
       "      <td id=\"T_f54c8_row0_col6\" class=\"data row0 col6\" ><a href=\"https://sds.app.accelerate.science/projects/1234567890abcdefghijklmnopqrstvwyz123456/library/public?search=JTdCJTIyY29sbGVjdGlvbnMlMjIlM0ElNUIlMjJwYXRlbnQtdXNwdG8lMjIlNUQlMkMlMjJ0eXBlJTIyJTNBJTIyRG9jdW1lbnQlMjIlMkMlMjJleHByZXNzaW9uJTIyJTNBJTIyZmlsZS1pbmZvLmRvY3VtZW50LWhhc2glM0ElMjAlNUMlMjJmNWQyNTRlMmMyNGUwNGE1NzNjMWNjMWE1MWJjNDA3M2VhYzRkZDMwODRlZGZlMjE5ZmRhMjU1NzllZTllZWNkJTVDJTIyJTIyJTJDJTIyZmlsdGVycyUyMiUzQSU1QiU1RCUyQyUyMnNlbGVjdCUyMiUzQSU1QiUyMl9uYW1lJTIyJTJDJTIyZGVzY3JpcHRpb24uY29sbGVjdGlvbiUyMiUyQyUyMnByb3YlMjIlMkMlMjJkZXNjcmlwdGlvbi50aXRsZSUyMiUyQyUyMmRlc2NyaXB0aW9uLnB1YmxpY2F0aW9uX2RhdGUlMjIlMkMlMjJkZXNjcmlwdGlvbi51cmxfcmVmcyUyMiU1RCUyQyUyMml0ZW1JbmRleCUyMiUzQTAlMkMlMjJwYWdlU2l6ZSUyMiUzQTEwJTJDJTIyc2VhcmNoQWZ0ZXJIaXN0b3J5JTIyJTNBJTVCJTVEJTJDJTIydmlld1R5cGUlMjIlM0ElMjJzbmlwcGV0cyUyMiUyQyUyMnJlY29yZFNlbGVjdGlvbiUyMiUzQSU3QiUyMnJlY29yZCUyMiUzQSU3QiUyMmlkJTIyJTNBJTIyZjVkMjU0ZTJjMjRlMDRhNTczYzFjYzFhNTFiYzQwNzNlYWM0ZGQzMDg0ZWRmZTIxOWZkYTI1NTc5ZWU5ZWVjZCUyMiU3RCU3RCU3RA%3D%3D\"  target=\"_blank\"> DS </a></td>\n",
       "      <td id=\"T_f54c8_row0_col7\" class=\"data row0 col7\" >US20180021467A1</td>\n",
       "      <td id=\"T_f54c8_row0_col8\" class=\"data row0 col8\" >tables</td>\n",
       "    </tr>\n",
       "  </tbody>\n",
       "</table>\n"
      ],
      "text/plain": [
       "<pandas.io.formats.style.Styler at 0x17736b220>"
      ]
     },
     "metadata": {},
     "output_type": "display_data"
    }
   ],
   "source": [
    "# Show docs\n",
    "%openad ds search collection 'patent-uspto' for '\"CC(CCO)CCCC(C)C\"' show (docs)"
   ]
  },
  {
   "cell_type": "code",
   "execution_count": 52,
   "id": "fa7d9220-5cc2-4446-8bce-202f46ee9b06",
   "metadata": {
    "tags": []
   },
   "outputs": [
    {
     "data": {
      "text/html": [
       "<div>\n",
       "<style scoped>\n",
       "    .dataframe tbody tr th:only-of-type {\n",
       "        vertical-align: middle;\n",
       "    }\n",
       "\n",
       "    .dataframe tbody tr th {\n",
       "        vertical-align: top;\n",
       "    }\n",
       "\n",
       "    .dataframe thead th {\n",
       "        text-align: right;\n",
       "    }\n",
       "</style>\n",
       "<table border=\"1\" class=\"dataframe\">\n",
       "  <thead>\n",
       "    <tr style=\"text-align: right;\">\n",
       "      <th></th>\n",
       "      <th>arXiv</th>\n",
       "      <th>DOI</th>\n",
       "    </tr>\n",
       "  </thead>\n",
       "  <tbody>\n",
       "    <tr>\n",
       "      <th>0</th>\n",
       "      <td>https://arxiv.org/abs/2304.12901</td>\n",
       "      <td></td>\n",
       "    </tr>\n",
       "    <tr>\n",
       "      <th>1</th>\n",
       "      <td>https://arxiv.org/abs/1610.01240</td>\n",
       "      <td>https://doi.org/10.1103/PhysRevA.95.053808</td>\n",
       "    </tr>\n",
       "    <tr>\n",
       "      <th>2</th>\n",
       "      <td>https://arxiv.org/abs/2104.11357</td>\n",
       "      <td>https://doi.org/10.1021/acs.jpcc.1c03656</td>\n",
       "    </tr>\n",
       "    <tr>\n",
       "      <th>3</th>\n",
       "      <td>https://arxiv.org/abs/1706.08074</td>\n",
       "      <td></td>\n",
       "    </tr>\n",
       "    <tr>\n",
       "      <th>4</th>\n",
       "      <td>https://arxiv.org/abs/1811.00702</td>\n",
       "      <td></td>\n",
       "    </tr>\n",
       "    <tr>\n",
       "      <th>...</th>\n",
       "      <td>...</td>\n",
       "      <td>...</td>\n",
       "    </tr>\n",
       "    <tr>\n",
       "      <th>241</th>\n",
       "      <td>https://arxiv.org/abs/1706.08073</td>\n",
       "      <td></td>\n",
       "    </tr>\n",
       "    <tr>\n",
       "      <th>242</th>\n",
       "      <td>https://arxiv.org/abs/1609.09846</td>\n",
       "      <td></td>\n",
       "    </tr>\n",
       "    <tr>\n",
       "      <th>243</th>\n",
       "      <td>https://arxiv.org/abs/1512.06230</td>\n",
       "      <td></td>\n",
       "    </tr>\n",
       "    <tr>\n",
       "      <th>244</th>\n",
       "      <td>https://arxiv.org/abs/2210.09760</td>\n",
       "      <td>https://doi.org/10.1103/PhysRevA.108.023505</td>\n",
       "    </tr>\n",
       "    <tr>\n",
       "      <th>245</th>\n",
       "      <td>https://arxiv.org/abs/2006.15990</td>\n",
       "      <td></td>\n",
       "    </tr>\n",
       "  </tbody>\n",
       "</table>\n",
       "<p>246 rows × 2 columns</p>\n",
       "</div>"
      ],
      "text/plain": [
       "                                arXiv   \n",
       "0    https://arxiv.org/abs/2304.12901  \\\n",
       "1    https://arxiv.org/abs/1610.01240   \n",
       "2    https://arxiv.org/abs/2104.11357   \n",
       "3    https://arxiv.org/abs/1706.08074   \n",
       "4    https://arxiv.org/abs/1811.00702   \n",
       "..                                ...   \n",
       "241  https://arxiv.org/abs/1706.08073   \n",
       "242  https://arxiv.org/abs/1609.09846   \n",
       "243  https://arxiv.org/abs/1512.06230   \n",
       "244  https://arxiv.org/abs/2210.09760   \n",
       "245  https://arxiv.org/abs/2006.15990   \n",
       "\n",
       "                                             DOI  \n",
       "0                                                 \n",
       "1     https://doi.org/10.1103/PhysRevA.95.053808  \n",
       "2       https://doi.org/10.1021/acs.jpcc.1c03656  \n",
       "3                                                 \n",
       "4                                                 \n",
       "..                                           ...  \n",
       "241                                               \n",
       "242                                               \n",
       "243                                               \n",
       "244  https://doi.org/10.1103/PhysRevA.108.023505  \n",
       "245                                               \n",
       "\n",
       "[246 rows x 2 columns]"
      ]
     },
     "execution_count": 52,
     "metadata": {},
     "output_type": "execute_result"
    }
   ],
   "source": [
    "# Data API\n",
    "data = %openadd ds search collection 'arxiv-abstract' for '\"power conversion efficiency\"' USING (slop=0)\n",
    "data"
   ]
  },
  {
   "cell_type": "markdown",
   "id": "720920e1-4b11-4103-9f24-3389cbdc8f78",
   "metadata": {},
   "source": [
    "<br>\n",
    "<h2><u><b>Patents</b></u></h2>"
   ]
  },
  {
   "cell_type": "markdown",
   "id": "d11c89aa-a31a-463e-821f-d95160ecc8a9",
   "metadata": {},
   "source": [
    "### Find patents"
   ]
  },
  {
   "cell_type": "code",
   "execution_count": 53,
   "id": "1a870315-ae57-4232-9bf4-e2dcf3de9468",
   "metadata": {
    "tags": []
   },
   "outputs": [
    {
     "data": {
      "text/markdown": [
       "`ds find patents containing molecule <smiles> | <inchi> | <inchikey> [ save as '<filename.csv>' ]` <br> \n",
       "<span style=\"color: #ccc\">------------------------------------------------------------------------------------------------</span> <br> \n",
       "Searches for patents that contain mentions of a given molecule. The queried molecule can be described by its SMILES, InChI or InChIKey. <br> \n",
       "\n",
       "Use the `save as` clause to save the results as a csv file in your current workspace. <br> \n",
       "\n",
       "Examples: <br> \n",
       "- `ds find patents containing molecule CC(C)(c1ccccn1)C(CC(=O)O)Nc1nc(-c2c[nH]c3ncc(Cl)cc23)c(C#N)cc1F` <br> \n",
       "- `ds find patents containing molecule 'CC(C)(c1ccccn1)C(CC(=O)O)Nc1nc(-c2c[nH]c3ncc(Cl)cc23)c(C#N)cc1F' save as 'patents'` <br> \n",
       "- `ds find patents containing molecule InChI=1S/C24H20ClFN6O2/c1-24(2,18-5-3-4-6-28-18)19(9-20(33)34)31-23-17(26)7-13(10-27)21(32-23)16-12-30-22-15(16)8-14(25)11-29-22/h3-8,11-12,19H,9H2,1-2H3,(H,29,30)(H,31,32)(H,33,34)` <br> \n",
       "- `ds find patents containing molecule JUPUMSRQQQUOLP-UHFFFAOYSA-N save as 'patents'` <br> \n",
       "- `ds find patents containing molecule 'JUPUMSRQQQUOLP-UHFFFAOYSA-N'` <br> \n",
       "\n",
       "\n",
       "\n",
       " i  <span style=\"color: #ccc\">To see all available Deep Search commands, run `ds`</span> <br> \n"
      ],
      "text/plain": [
       "<IPython.core.display.Markdown object>"
      ]
     },
     "execution_count": 53,
     "metadata": {},
     "output_type": "execute_result"
    }
   ],
   "source": [
    "# Command help\n",
    "%openad ds find patents ?"
   ]
  },
  {
   "cell_type": "code",
   "execution_count": 54,
   "id": "a0b2f928-2818-480a-b753-e8b4d5a32027",
   "metadata": {
    "tags": []
   },
   "outputs": [
    {
     "data": {
      "text/markdown": [
       "<span style=\"color: #090\">We found 7 patents containing the requested SMILES: <br> \n",
       "<span style=\"color: #dc0\">CC(C)(c1ccccn1)C(CC(=O)O)Nc1nc(-c2c[nH]c3ncc(Cl)cc23)c(C#N)cc1F</span></span> <br> \n"
      ],
      "text/plain": [
       "<IPython.core.display.Markdown object>"
      ]
     },
     "metadata": {},
     "output_type": "display_data"
    },
    {
     "data": {
      "text/html": [
       "<div style=\"width:300px; height: 300px; margin: 30px 0; border: solid 1px #ddd; display: inline-block; padding: 32px; position: relative\"><div style=\"position: absolute; top: 8px; left: 8px; font-size: 12px; line-height: 12px; color: #999;\">INPUT MOLECULE</div><?xml version='1.0' encoding='iso-8859-1'?>\n",
       "<svg version='1.1' baseProfile='full'\n",
       "              xmlns='http://www.w3.org/2000/svg'\n",
       "                      xmlns:rdkit='http://www.rdkit.org/xml'\n",
       "                      xmlns:xlink='http://www.w3.org/1999/xlink'\n",
       "                  xml:space='preserve'\n",
       "width='300px' height='300px' viewBox='0 0 300 300'>\n",
       "<!-- END OF HEADER -->\n",
       "<rect style='opacity:1.0;fill:#FFFFFF;stroke:none' width='300.0' height='300.0' x='0.0' y='0.0'> </rect>\n",
       "<path class='bond-0 atom-0 atom-1' d='M 130.4,149.6 L 106.5,162.0' style='fill:none;fill-rule:evenodd;stroke:#000000;stroke-width:2.0px;stroke-linecap:butt;stroke-linejoin:miter;stroke-opacity:1' />\n",
       "<path class='bond-1 atom-1 atom-2' d='M 106.5,162.0 L 82.7,174.3' style='fill:none;fill-rule:evenodd;stroke:#000000;stroke-width:2.0px;stroke-linecap:butt;stroke-linejoin:miter;stroke-opacity:1' />\n",
       "<path class='bond-2 atom-1 atom-3' d='M 106.5,162.0 L 118.9,185.8' style='fill:none;fill-rule:evenodd;stroke:#000000;stroke-width:2.0px;stroke-linecap:butt;stroke-linejoin:miter;stroke-opacity:1' />\n",
       "<path class='bond-3 atom-3 atom-4' d='M 118.9,185.8 L 145.7,187.1' style='fill:none;fill-rule:evenodd;stroke:#000000;stroke-width:2.0px;stroke-linecap:butt;stroke-linejoin:miter;stroke-opacity:1' />\n",
       "<path class='bond-3 atom-3 atom-4' d='M 121.0,190.0 L 143.2,191.0' style='fill:none;fill-rule:evenodd;stroke:#000000;stroke-width:2.0px;stroke-linecap:butt;stroke-linejoin:miter;stroke-opacity:1' />\n",
       "<path class='bond-4 atom-4 atom-5' d='M 145.7,187.1 L 158.1,210.9' style='fill:none;fill-rule:evenodd;stroke:#000000;stroke-width:2.0px;stroke-linecap:butt;stroke-linejoin:miter;stroke-opacity:1' />\n",
       "<path class='bond-5 atom-5 atom-6' d='M 158.1,210.9 L 143.6,233.6' style='fill:none;fill-rule:evenodd;stroke:#000000;stroke-width:2.0px;stroke-linecap:butt;stroke-linejoin:miter;stroke-opacity:1' />\n",
       "<path class='bond-5 atom-5 atom-6' d='M 153.4,210.7 L 141.4,229.4' style='fill:none;fill-rule:evenodd;stroke:#000000;stroke-width:2.0px;stroke-linecap:butt;stroke-linejoin:miter;stroke-opacity:1' />\n",
       "<path class='bond-6 atom-6 atom-7' d='M 143.6,233.6 L 116.7,232.3' style='fill:none;fill-rule:evenodd;stroke:#000000;stroke-width:2.0px;stroke-linecap:butt;stroke-linejoin:miter;stroke-opacity:1' />\n",
       "<path class='bond-7 atom-7 atom-8' d='M 116.7,232.3 L 111.8,222.7' style='fill:none;fill-rule:evenodd;stroke:#000000;stroke-width:2.0px;stroke-linecap:butt;stroke-linejoin:miter;stroke-opacity:1' />\n",
       "<path class='bond-7 atom-7 atom-8' d='M 111.8,222.7 L 106.8,213.2' style='fill:none;fill-rule:evenodd;stroke:#0000FF;stroke-width:2.0px;stroke-linecap:butt;stroke-linejoin:miter;stroke-opacity:1' />\n",
       "<path class='bond-7 atom-7 atom-8' d='M 119.3,228.4 L 114.8,219.9' style='fill:none;fill-rule:evenodd;stroke:#000000;stroke-width:2.0px;stroke-linecap:butt;stroke-linejoin:miter;stroke-opacity:1' />\n",
       "<path class='bond-7 atom-7 atom-8' d='M 114.8,219.9 L 110.4,211.3' style='fill:none;fill-rule:evenodd;stroke:#0000FF;stroke-width:2.0px;stroke-linecap:butt;stroke-linejoin:miter;stroke-opacity:1' />\n",
       "<path class='bond-8 atom-1 atom-9' d='M 106.5,162.0 L 94.2,138.1' style='fill:none;fill-rule:evenodd;stroke:#000000;stroke-width:2.0px;stroke-linecap:butt;stroke-linejoin:miter;stroke-opacity:1' />\n",
       "<path class='bond-9 atom-9 atom-10' d='M 94.2,138.1 L 67.3,136.9' style='fill:none;fill-rule:evenodd;stroke:#000000;stroke-width:2.0px;stroke-linecap:butt;stroke-linejoin:miter;stroke-opacity:1' />\n",
       "<path class='bond-10 atom-10 atom-11' d='M 67.3,136.9 L 52.8,159.5' style='fill:none;fill-rule:evenodd;stroke:#000000;stroke-width:2.0px;stroke-linecap:butt;stroke-linejoin:miter;stroke-opacity:1' />\n",
       "<path class='bond-11 atom-11 atom-12' d='M 50.5,159.4 L 55.7,169.5' style='fill:none;fill-rule:evenodd;stroke:#000000;stroke-width:2.0px;stroke-linecap:butt;stroke-linejoin:miter;stroke-opacity:1' />\n",
       "<path class='bond-11 atom-11 atom-12' d='M 55.7,169.5 L 61.0,179.6' style='fill:none;fill-rule:evenodd;stroke:#FF0000;stroke-width:2.0px;stroke-linecap:butt;stroke-linejoin:miter;stroke-opacity:1' />\n",
       "<path class='bond-11 atom-11 atom-12' d='M 54.1,157.6 L 59.3,167.6' style='fill:none;fill-rule:evenodd;stroke:#000000;stroke-width:2.0px;stroke-linecap:butt;stroke-linejoin:miter;stroke-opacity:1' />\n",
       "<path class='bond-11 atom-11 atom-12' d='M 59.3,167.6 L 64.5,177.7' style='fill:none;fill-rule:evenodd;stroke:#FF0000;stroke-width:2.0px;stroke-linecap:butt;stroke-linejoin:miter;stroke-opacity:1' />\n",
       "<path class='bond-12 atom-11 atom-13' d='M 52.8,159.5 L 41.6,159.0' style='fill:none;fill-rule:evenodd;stroke:#000000;stroke-width:2.0px;stroke-linecap:butt;stroke-linejoin:miter;stroke-opacity:1' />\n",
       "<path class='bond-12 atom-11 atom-13' d='M 41.6,159.0 L 30.4,158.5' style='fill:none;fill-rule:evenodd;stroke:#FF0000;stroke-width:2.0px;stroke-linecap:butt;stroke-linejoin:miter;stroke-opacity:1' />\n",
       "<path class='bond-13 atom-9 atom-14' d='M 94.2,138.1 L 99.9,129.2' style='fill:none;fill-rule:evenodd;stroke:#000000;stroke-width:2.0px;stroke-linecap:butt;stroke-linejoin:miter;stroke-opacity:1' />\n",
       "<path class='bond-13 atom-9 atom-14' d='M 99.9,129.2 L 105.7,120.2' style='fill:none;fill-rule:evenodd;stroke:#0000FF;stroke-width:2.0px;stroke-linecap:butt;stroke-linejoin:miter;stroke-opacity:1' />\n",
       "<path class='bond-14 atom-14 atom-15' d='M 112.4,115.7 L 124.0,116.2' style='fill:none;fill-rule:evenodd;stroke:#0000FF;stroke-width:2.0px;stroke-linecap:butt;stroke-linejoin:miter;stroke-opacity:1' />\n",
       "<path class='bond-14 atom-14 atom-15' d='M 124.0,116.2 L 135.5,116.7' style='fill:none;fill-rule:evenodd;stroke:#000000;stroke-width:2.0px;stroke-linecap:butt;stroke-linejoin:miter;stroke-opacity:1' />\n",
       "<path class='bond-15 atom-15 atom-16' d='M 135.5,116.7 L 140.5,126.3' style='fill:none;fill-rule:evenodd;stroke:#000000;stroke-width:2.0px;stroke-linecap:butt;stroke-linejoin:miter;stroke-opacity:1' />\n",
       "<path class='bond-15 atom-15 atom-16' d='M 140.5,126.3 L 145.4,135.9' style='fill:none;fill-rule:evenodd;stroke:#0000FF;stroke-width:2.0px;stroke-linecap:butt;stroke-linejoin:miter;stroke-opacity:1' />\n",
       "<path class='bond-15 atom-15 atom-16' d='M 140.2,116.9 L 144.6,125.5' style='fill:none;fill-rule:evenodd;stroke:#000000;stroke-width:2.0px;stroke-linecap:butt;stroke-linejoin:miter;stroke-opacity:1' />\n",
       "<path class='bond-15 atom-15 atom-16' d='M 144.6,125.5 L 149.0,134.0' style='fill:none;fill-rule:evenodd;stroke:#0000FF;stroke-width:2.0px;stroke-linecap:butt;stroke-linejoin:miter;stroke-opacity:1' />\n",
       "<path class='bond-16 atom-16 atom-17' d='M 151.6,140.8 L 163.2,141.3' style='fill:none;fill-rule:evenodd;stroke:#0000FF;stroke-width:2.0px;stroke-linecap:butt;stroke-linejoin:miter;stroke-opacity:1' />\n",
       "<path class='bond-16 atom-16 atom-17' d='M 163.2,141.3 L 174.7,141.8' style='fill:none;fill-rule:evenodd;stroke:#000000;stroke-width:2.0px;stroke-linecap:butt;stroke-linejoin:miter;stroke-opacity:1' />\n",
       "<path class='bond-17 atom-17 atom-18' d='M 174.7,141.8 L 187.0,165.7' style='fill:none;fill-rule:evenodd;stroke:#000000;stroke-width:2.0px;stroke-linecap:butt;stroke-linejoin:miter;stroke-opacity:1' />\n",
       "<path class='bond-18 atom-18 atom-19' d='M 187.0,165.7 L 175.0,189.7' style='fill:none;fill-rule:evenodd;stroke:#000000;stroke-width:2.0px;stroke-linecap:butt;stroke-linejoin:miter;stroke-opacity:1' />\n",
       "<path class='bond-18 atom-18 atom-19' d='M 189.3,170.1 L 179.9,188.9' style='fill:none;fill-rule:evenodd;stroke:#000000;stroke-width:2.0px;stroke-linecap:butt;stroke-linejoin:miter;stroke-opacity:1' />\n",
       "<path class='bond-19 atom-19 atom-20' d='M 175.0,189.7 L 182.7,197.3' style='fill:none;fill-rule:evenodd;stroke:#000000;stroke-width:2.0px;stroke-linecap:butt;stroke-linejoin:miter;stroke-opacity:1' />\n",
       "<path class='bond-19 atom-19 atom-20' d='M 182.7,197.3 L 190.4,204.9' style='fill:none;fill-rule:evenodd;stroke:#0000FF;stroke-width:2.0px;stroke-linecap:butt;stroke-linejoin:miter;stroke-opacity:1' />\n",
       "<path class='bond-20 atom-20 atom-21' d='M 197.9,206.6 L 207.9,201.4' style='fill:none;fill-rule:evenodd;stroke:#0000FF;stroke-width:2.0px;stroke-linecap:butt;stroke-linejoin:miter;stroke-opacity:1' />\n",
       "<path class='bond-20 atom-20 atom-21' d='M 207.9,201.4 L 218.0,196.2' style='fill:none;fill-rule:evenodd;stroke:#000000;stroke-width:2.0px;stroke-linecap:butt;stroke-linejoin:miter;stroke-opacity:1' />\n",
       "<path class='bond-21 atom-21 atom-22' d='M 218.0,196.2 L 228.7,200.3' style='fill:none;fill-rule:evenodd;stroke:#000000;stroke-width:2.0px;stroke-linecap:butt;stroke-linejoin:miter;stroke-opacity:1' />\n",
       "<path class='bond-21 atom-21 atom-22' d='M 228.7,200.3 L 239.4,204.3' style='fill:none;fill-rule:evenodd;stroke:#0000FF;stroke-width:2.0px;stroke-linecap:butt;stroke-linejoin:miter;stroke-opacity:1' />\n",
       "<path class='bond-21 atom-21 atom-22' d='M 221.6,193.3 L 231.2,196.9' style='fill:none;fill-rule:evenodd;stroke:#000000;stroke-width:2.0px;stroke-linecap:butt;stroke-linejoin:miter;stroke-opacity:1' />\n",
       "<path class='bond-21 atom-21 atom-22' d='M 231.2,196.9 L 240.8,200.5' style='fill:none;fill-rule:evenodd;stroke:#0000FF;stroke-width:2.0px;stroke-linecap:butt;stroke-linejoin:miter;stroke-opacity:1' />\n",
       "<path class='bond-22 atom-22 atom-23' d='M 246.9,202.6 L 255.4,195.6' style='fill:none;fill-rule:evenodd;stroke:#0000FF;stroke-width:2.0px;stroke-linecap:butt;stroke-linejoin:miter;stroke-opacity:1' />\n",
       "<path class='bond-22 atom-22 atom-23' d='M 255.4,195.6 L 263.9,188.7' style='fill:none;fill-rule:evenodd;stroke:#000000;stroke-width:2.0px;stroke-linecap:butt;stroke-linejoin:miter;stroke-opacity:1' />\n",
       "<path class='bond-23 atom-23 atom-24' d='M 263.9,188.7 L 259.5,162.1' style='fill:none;fill-rule:evenodd;stroke:#000000;stroke-width:2.0px;stroke-linecap:butt;stroke-linejoin:miter;stroke-opacity:1' />\n",
       "<path class='bond-23 atom-23 atom-24' d='M 259.5,187.0 L 255.9,165.1' style='fill:none;fill-rule:evenodd;stroke:#000000;stroke-width:2.0px;stroke-linecap:butt;stroke-linejoin:miter;stroke-opacity:1' />\n",
       "<path class='bond-24 atom-24 atom-25' d='M 259.5,162.1 L 268.0,155.2' style='fill:none;fill-rule:evenodd;stroke:#000000;stroke-width:2.0px;stroke-linecap:butt;stroke-linejoin:miter;stroke-opacity:1' />\n",
       "<path class='bond-24 atom-24 atom-25' d='M 268.0,155.2 L 276.5,148.2' style='fill:none;fill-rule:evenodd;stroke:#00CC00;stroke-width:2.0px;stroke-linecap:butt;stroke-linejoin:miter;stroke-opacity:1' />\n",
       "<path class='bond-25 atom-24 atom-26' d='M 259.5,162.1 L 234.4,152.7' style='fill:none;fill-rule:evenodd;stroke:#000000;stroke-width:2.0px;stroke-linecap:butt;stroke-linejoin:miter;stroke-opacity:1' />\n",
       "<path class='bond-26 atom-26 atom-27' d='M 234.4,152.7 L 213.6,169.7' style='fill:none;fill-rule:evenodd;stroke:#000000;stroke-width:2.0px;stroke-linecap:butt;stroke-linejoin:miter;stroke-opacity:1' />\n",
       "<path class='bond-26 atom-26 atom-27' d='M 235.1,157.3 L 218.0,171.4' style='fill:none;fill-rule:evenodd;stroke:#000000;stroke-width:2.0px;stroke-linecap:butt;stroke-linejoin:miter;stroke-opacity:1' />\n",
       "<path class='bond-27 atom-17 atom-28' d='M 174.7,141.8 L 189.2,119.2' style='fill:none;fill-rule:evenodd;stroke:#000000;stroke-width:2.0px;stroke-linecap:butt;stroke-linejoin:miter;stroke-opacity:1' />\n",
       "<path class='bond-27 atom-17 atom-28' d='M 172.6,137.7 L 184.5,119.0' style='fill:none;fill-rule:evenodd;stroke:#000000;stroke-width:2.0px;stroke-linecap:butt;stroke-linejoin:miter;stroke-opacity:1' />\n",
       "<path class='bond-28 atom-28 atom-29' d='M 189.2,119.2 L 216.0,120.4' style='fill:none;fill-rule:evenodd;stroke:#000000;stroke-width:2.0px;stroke-linecap:butt;stroke-linejoin:miter;stroke-opacity:1' />\n",
       "<path class='bond-29 atom-29 atom-30' d='M 216.0,120.4 L 227.6,121.0' style='fill:none;fill-rule:evenodd;stroke:#000000;stroke-width:2.0px;stroke-linecap:butt;stroke-linejoin:miter;stroke-opacity:1' />\n",
       "<path class='bond-29 atom-29 atom-30' d='M 227.6,121.0 L 239.1,121.5' style='fill:none;fill-rule:evenodd;stroke:#0000FF;stroke-width:2.0px;stroke-linecap:butt;stroke-linejoin:miter;stroke-opacity:1' />\n",
       "<path class='bond-29 atom-29 atom-30' d='M 216.2,116.4 L 227.7,116.9' style='fill:none;fill-rule:evenodd;stroke:#000000;stroke-width:2.0px;stroke-linecap:butt;stroke-linejoin:miter;stroke-opacity:1' />\n",
       "<path class='bond-29 atom-29 atom-30' d='M 227.7,116.9 L 239.3,117.5' style='fill:none;fill-rule:evenodd;stroke:#0000FF;stroke-width:2.0px;stroke-linecap:butt;stroke-linejoin:miter;stroke-opacity:1' />\n",
       "<path class='bond-29 atom-29 atom-30' d='M 215.8,124.5 L 227.4,125.0' style='fill:none;fill-rule:evenodd;stroke:#000000;stroke-width:2.0px;stroke-linecap:butt;stroke-linejoin:miter;stroke-opacity:1' />\n",
       "<path class='bond-29 atom-29 atom-30' d='M 227.4,125.0 L 238.9,125.5' style='fill:none;fill-rule:evenodd;stroke:#0000FF;stroke-width:2.0px;stroke-linecap:butt;stroke-linejoin:miter;stroke-opacity:1' />\n",
       "<path class='bond-30 atom-28 atom-31' d='M 189.2,119.2 L 176.8,95.3' style='fill:none;fill-rule:evenodd;stroke:#000000;stroke-width:2.0px;stroke-linecap:butt;stroke-linejoin:miter;stroke-opacity:1' />\n",
       "<path class='bond-31 atom-31 atom-32' d='M 176.8,95.3 L 150.0,94.1' style='fill:none;fill-rule:evenodd;stroke:#000000;stroke-width:2.0px;stroke-linecap:butt;stroke-linejoin:miter;stroke-opacity:1' />\n",
       "<path class='bond-31 atom-31 atom-32' d='M 174.3,99.3 L 152.1,98.2' style='fill:none;fill-rule:evenodd;stroke:#000000;stroke-width:2.0px;stroke-linecap:butt;stroke-linejoin:miter;stroke-opacity:1' />\n",
       "<path class='bond-32 atom-32 atom-33' d='M 150.0,94.1 L 145.0,84.5' style='fill:none;fill-rule:evenodd;stroke:#000000;stroke-width:2.0px;stroke-linecap:butt;stroke-linejoin:miter;stroke-opacity:1' />\n",
       "<path class='bond-32 atom-32 atom-33' d='M 145.0,84.5 L 140.1,74.9' style='fill:none;fill-rule:evenodd;stroke:#33CCCC;stroke-width:2.0px;stroke-linecap:butt;stroke-linejoin:miter;stroke-opacity:1' />\n",
       "<path class='bond-33 atom-8 atom-3' d='M 107.4,203.8 L 113.1,194.8' style='fill:none;fill-rule:evenodd;stroke:#0000FF;stroke-width:2.0px;stroke-linecap:butt;stroke-linejoin:miter;stroke-opacity:1' />\n",
       "<path class='bond-33 atom-8 atom-3' d='M 113.1,194.8 L 118.9,185.8' style='fill:none;fill-rule:evenodd;stroke:#000000;stroke-width:2.0px;stroke-linecap:butt;stroke-linejoin:miter;stroke-opacity:1' />\n",
       "<path class='bond-34 atom-32 atom-15' d='M 150.0,94.1 L 135.5,116.7' style='fill:none;fill-rule:evenodd;stroke:#000000;stroke-width:2.0px;stroke-linecap:butt;stroke-linejoin:miter;stroke-opacity:1' />\n",
       "<path class='bond-35 atom-27 atom-18' d='M 213.6,169.7 L 187.0,165.7' style='fill:none;fill-rule:evenodd;stroke:#000000;stroke-width:2.0px;stroke-linecap:butt;stroke-linejoin:miter;stroke-opacity:1' />\n",
       "<path class='bond-36 atom-27 atom-21' d='M 213.6,169.7 L 218.0,196.2' style='fill:none;fill-rule:evenodd;stroke:#000000;stroke-width:2.0px;stroke-linecap:butt;stroke-linejoin:miter;stroke-opacity:1' />\n",
       "<path d='M 144.4,187.0 L 145.7,187.1 L 146.3,188.3' style='fill:none;stroke:#000000;stroke-width:2.0px;stroke-linecap:butt;stroke-linejoin:miter;stroke-opacity:1;' />\n",
       "<path d='M 157.5,209.7 L 158.1,210.9 L 157.3,212.1' style='fill:none;stroke:#000000;stroke-width:2.0px;stroke-linecap:butt;stroke-linejoin:miter;stroke-opacity:1;' />\n",
       "<path d='M 144.3,232.4 L 143.6,233.6 L 142.2,233.5' style='fill:none;stroke:#000000;stroke-width:2.0px;stroke-linecap:butt;stroke-linejoin:miter;stroke-opacity:1;' />\n",
       "<path d='M 118.1,232.4 L 116.7,232.3 L 116.5,231.9' style='fill:none;stroke:#000000;stroke-width:2.0px;stroke-linecap:butt;stroke-linejoin:miter;stroke-opacity:1;' />\n",
       "<path d='M 68.7,136.9 L 67.3,136.9 L 66.6,138.0' style='fill:none;stroke:#000000;stroke-width:2.0px;stroke-linecap:butt;stroke-linejoin:miter;stroke-opacity:1;' />\n",
       "<path d='M 53.6,158.4 L 52.8,159.5 L 52.3,159.5' style='fill:none;stroke:#000000;stroke-width:2.0px;stroke-linecap:butt;stroke-linejoin:miter;stroke-opacity:1;' />\n",
       "<path d='M 175.6,188.5 L 175.0,189.7 L 175.4,190.1' style='fill:none;stroke:#000000;stroke-width:2.0px;stroke-linecap:butt;stroke-linejoin:miter;stroke-opacity:1;' />\n",
       "<path d='M 263.5,189.0 L 263.9,188.7 L 263.7,187.3' style='fill:none;stroke:#000000;stroke-width:2.0px;stroke-linecap:butt;stroke-linejoin:miter;stroke-opacity:1;' />\n",
       "<path d='M 235.6,153.1 L 234.4,152.7 L 233.3,153.5' style='fill:none;stroke:#000000;stroke-width:2.0px;stroke-linecap:butt;stroke-linejoin:miter;stroke-opacity:1;' />\n",
       "<path d='M 214.7,120.4 L 216.0,120.4 L 216.6,120.5' style='fill:none;stroke:#000000;stroke-width:2.0px;stroke-linecap:butt;stroke-linejoin:miter;stroke-opacity:1;' />\n",
       "<path d='M 177.5,96.5 L 176.8,95.3 L 175.5,95.3' style='fill:none;stroke:#000000;stroke-width:2.0px;stroke-linecap:butt;stroke-linejoin:miter;stroke-opacity:1;' />\n",
       "<path class='atom-8' d='M 102.7 204.7\n",
       "L 105.2 208.7\n",
       "Q 105.4 209.1, 105.8 209.8\n",
       "Q 106.2 210.5, 106.3 210.6\n",
       "L 106.3 204.7\n",
       "L 107.3 204.7\n",
       "L 107.3 212.3\n",
       "L 106.2 212.3\n",
       "L 103.6 207.9\n",
       "Q 103.2 207.4, 102.9 206.8\n",
       "Q 102.6 206.2, 102.5 206.0\n",
       "L 102.5 212.3\n",
       "L 101.5 212.3\n",
       "L 101.5 204.7\n",
       "L 102.7 204.7\n",
       "' fill='#0000FF'/>\n",
       "<path class='atom-12' d='M 61.7 183.4\n",
       "Q 61.7 181.6, 62.6 180.5\n",
       "Q 63.5 179.5, 65.2 179.5\n",
       "Q 66.9 179.5, 67.8 180.5\n",
       "Q 68.7 181.6, 68.7 183.4\n",
       "Q 68.7 185.2, 67.8 186.3\n",
       "Q 66.9 187.3, 65.2 187.3\n",
       "Q 63.5 187.3, 62.6 186.3\n",
       "Q 61.7 185.3, 61.7 183.4\n",
       "M 65.2 186.5\n",
       "Q 66.4 186.5, 67.0 185.7\n",
       "Q 67.6 184.9, 67.6 183.4\n",
       "Q 67.6 181.9, 67.0 181.1\n",
       "Q 66.4 180.4, 65.2 180.4\n",
       "Q 64.0 180.4, 63.4 181.1\n",
       "Q 62.8 181.9, 62.8 183.4\n",
       "Q 62.8 184.9, 63.4 185.7\n",
       "Q 64.0 186.5, 65.2 186.5\n",
       "' fill='#FF0000'/>\n",
       "<path class='atom-13' d='M 15.0 154.5\n",
       "L 16.0 154.5\n",
       "L 16.0 157.8\n",
       "L 19.9 157.8\n",
       "L 19.9 154.5\n",
       "L 21.0 154.5\n",
       "L 21.0 162.1\n",
       "L 19.9 162.1\n",
       "L 19.9 158.6\n",
       "L 16.0 158.6\n",
       "L 16.0 162.1\n",
       "L 15.0 162.1\n",
       "L 15.0 154.5\n",
       "' fill='#FF0000'/>\n",
       "<path class='atom-13' d='M 22.5 158.3\n",
       "Q 22.5 156.5, 23.4 155.5\n",
       "Q 24.3 154.4, 26.0 154.4\n",
       "Q 27.7 154.4, 28.6 155.5\n",
       "Q 29.5 156.5, 29.5 158.3\n",
       "Q 29.5 160.1, 28.6 161.2\n",
       "Q 27.7 162.2, 26.0 162.2\n",
       "Q 24.3 162.2, 23.4 161.2\n",
       "Q 22.5 160.2, 22.5 158.3\n",
       "M 26.0 161.4\n",
       "Q 27.2 161.4, 27.8 160.6\n",
       "Q 28.4 159.8, 28.4 158.3\n",
       "Q 28.4 156.8, 27.8 156.1\n",
       "Q 27.2 155.3, 26.0 155.3\n",
       "Q 24.8 155.3, 24.2 156.0\n",
       "Q 23.6 156.8, 23.6 158.3\n",
       "Q 23.6 159.8, 24.2 160.6\n",
       "Q 24.8 161.4, 26.0 161.4\n",
       "' fill='#FF0000'/>\n",
       "<path class='atom-14' d='M 98.3 111.7\n",
       "L 99.4 111.7\n",
       "L 99.4 114.9\n",
       "L 103.3 114.9\n",
       "L 103.3 111.7\n",
       "L 104.3 111.7\n",
       "L 104.3 119.3\n",
       "L 103.3 119.3\n",
       "L 103.3 115.8\n",
       "L 99.4 115.8\n",
       "L 99.4 119.3\n",
       "L 98.3 119.3\n",
       "L 98.3 111.7\n",
       "' fill='#0000FF'/>\n",
       "<path class='atom-14' d='M 107.0 111.7\n",
       "L 109.5 115.7\n",
       "Q 109.7 116.1, 110.1 116.8\n",
       "Q 110.5 117.6, 110.5 117.6\n",
       "L 110.5 111.7\n",
       "L 111.6 111.7\n",
       "L 111.6 119.3\n",
       "L 110.5 119.3\n",
       "L 107.8 114.9\n",
       "Q 107.5 114.4, 107.2 113.8\n",
       "Q 106.9 113.2, 106.8 113.0\n",
       "L 106.8 119.3\n",
       "L 105.8 119.3\n",
       "L 105.8 111.7\n",
       "L 107.0 111.7\n",
       "' fill='#0000FF'/>\n",
       "<path class='atom-16' d='M 146.2 136.8\n",
       "L 148.7 140.8\n",
       "Q 148.9 141.2, 149.3 141.9\n",
       "Q 149.7 142.7, 149.7 142.7\n",
       "L 149.7 136.8\n",
       "L 150.7 136.8\n",
       "L 150.7 144.4\n",
       "L 149.7 144.4\n",
       "L 147.0 140.0\n",
       "Q 146.7 139.5, 146.4 138.9\n",
       "Q 146.1 138.3, 146.0 138.1\n",
       "L 146.0 144.4\n",
       "L 145.0 144.4\n",
       "L 145.0 136.8\n",
       "L 146.2 136.8\n",
       "' fill='#0000FF'/>\n",
       "<path class='atom-20' d='M 192.4 204.8\n",
       "L 194.9 208.8\n",
       "Q 195.2 209.2, 195.6 209.9\n",
       "Q 196.0 210.6, 196.0 210.7\n",
       "L 196.0 204.8\n",
       "L 197.0 204.8\n",
       "L 197.0 212.4\n",
       "L 196.0 212.4\n",
       "L 193.3 208.0\n",
       "Q 193.0 207.5, 192.6 206.9\n",
       "Q 192.3 206.3, 192.2 206.1\n",
       "L 192.2 212.4\n",
       "L 191.2 212.4\n",
       "L 191.2 204.8\n",
       "L 192.4 204.8\n",
       "' fill='#0000FF'/>\n",
       "<path class='atom-20' d='M 191.1 213.1\n",
       "L 192.2 213.1\n",
       "L 192.2 216.4\n",
       "L 196.1 216.4\n",
       "L 196.1 213.1\n",
       "L 197.1 213.1\n",
       "L 197.1 220.8\n",
       "L 196.1 220.8\n",
       "L 196.1 217.2\n",
       "L 192.2 217.2\n",
       "L 192.2 220.8\n",
       "L 191.1 220.8\n",
       "L 191.1 213.1\n",
       "' fill='#0000FF'/>\n",
       "<path class='atom-22' d='M 241.5 201.9\n",
       "L 243.9 205.9\n",
       "Q 244.2 206.3, 244.6 207.0\n",
       "Q 245.0 207.8, 245.0 207.8\n",
       "L 245.0 201.9\n",
       "L 246.0 201.9\n",
       "L 246.0 209.5\n",
       "L 245.0 209.5\n",
       "L 242.3 205.1\n",
       "Q 242.0 204.6, 241.7 204.0\n",
       "Q 241.3 203.4, 241.2 203.2\n",
       "L 241.2 209.5\n",
       "L 240.2 209.5\n",
       "L 240.2 201.9\n",
       "L 241.5 201.9\n",
       "' fill='#0000FF'/>\n",
       "<path class='atom-25' d='M 277.4 145.4\n",
       "Q 277.4 143.5, 278.3 142.5\n",
       "Q 279.1 141.5, 280.8 141.5\n",
       "Q 282.4 141.5, 283.2 142.6\n",
       "L 282.5 143.2\n",
       "Q 281.9 142.4, 280.8 142.4\n",
       "Q 279.7 142.4, 279.1 143.1\n",
       "Q 278.5 143.9, 278.5 145.4\n",
       "Q 278.5 146.9, 279.1 147.6\n",
       "Q 279.7 148.4, 280.9 148.4\n",
       "Q 281.8 148.4, 282.8 147.9\n",
       "L 283.1 148.7\n",
       "Q 282.7 149.0, 282.1 149.1\n",
       "Q 281.5 149.3, 280.8 149.3\n",
       "Q 279.1 149.3, 278.3 148.3\n",
       "Q 277.4 147.3, 277.4 145.4\n",
       "' fill='#00CC00'/>\n",
       "<path class='atom-25' d='M 284.0 141.0\n",
       "L 285.0 141.0\n",
       "L 285.0 149.2\n",
       "L 284.0 149.2\n",
       "L 284.0 141.0\n",
       "' fill='#00CC00'/>\n",
       "<path class='atom-30' d='M 241.2 117.9\n",
       "L 243.7 121.9\n",
       "Q 243.9 122.3, 244.3 123.0\n",
       "Q 244.7 123.7, 244.7 123.8\n",
       "L 244.7 117.9\n",
       "L 245.8 117.9\n",
       "L 245.8 125.5\n",
       "L 244.7 125.5\n",
       "L 242.0 121.1\n",
       "Q 241.7 120.5, 241.4 120.0\n",
       "Q 241.1 119.4, 241.0 119.2\n",
       "L 241.0 125.5\n",
       "L 240.0 125.5\n",
       "L 240.0 117.9\n",
       "L 241.2 117.9\n",
       "' fill='#0000FF'/>\n",
       "<path class='atom-33' d='M 135.4 66.4\n",
       "L 139.9 66.4\n",
       "L 139.9 67.3\n",
       "L 136.4 67.3\n",
       "L 136.4 69.6\n",
       "L 139.5 69.6\n",
       "L 139.5 70.5\n",
       "L 136.4 70.5\n",
       "L 136.4 74.0\n",
       "L 135.4 74.0\n",
       "L 135.4 66.4\n",
       "' fill='#33CCCC'/>\n",
       "</svg>\n",
       "</div>"
      ],
      "text/plain": [
       "<IPython.core.display.HTML object>"
      ]
     },
     "metadata": {},
     "output_type": "display_data"
    },
    {
     "data": {
      "text/markdown": [
       "<span style=\"color: #ccc\">Next up, you can run: </span>`result open`/`edit`/`copy`/`display`/`as dataframe`/`save [as '<filename.csv>']` <br> \n"
      ],
      "text/plain": [
       "<IPython.core.display.Markdown object>"
      ]
     },
     "metadata": {},
     "output_type": "display_data"
    },
    {
     "data": {
      "text/html": [
       "<style type=\"text/css\">\n",
       "</style>\n",
       "<table id=\"T_8812c\">\n",
       "  <thead>\n",
       "    <tr>\n",
       "      <th id=\"T_8812c_level0_col0\" class=\"col_heading level0 col0\" >Patent ID</th>\n",
       "    </tr>\n",
       "  </thead>\n",
       "  <tbody>\n",
       "    <tr>\n",
       "      <td id=\"T_8812c_row0_col0\" class=\"data row0 col0\" >CN108473493A</td>\n",
       "    </tr>\n",
       "    <tr>\n",
       "      <td id=\"T_8812c_row1_col0\" class=\"data row1 col0\" >CN108473493B</td>\n",
       "    </tr>\n",
       "    <tr>\n",
       "      <td id=\"T_8812c_row2_col0\" class=\"data row2 col0\" >JP0007001601B1</td>\n",
       "    </tr>\n",
       "    <tr>\n",
       "      <td id=\"T_8812c_row3_col0\" class=\"data row3 col0\" >JP2019505518T</td>\n",
       "    </tr>\n",
       "    <tr>\n",
       "      <td id=\"T_8812c_row4_col0\" class=\"data row4 col0\" >KR1020187022012</td>\n",
       "    </tr>\n",
       "    <tr>\n",
       "      <td id=\"T_8812c_row5_col0\" class=\"data row5 col0\" >US10526338</td>\n",
       "    </tr>\n",
       "    <tr>\n",
       "      <td id=\"T_8812c_row6_col0\" class=\"data row6 col0\" >US20190023713A1</td>\n",
       "    </tr>\n",
       "  </tbody>\n",
       "</table>\n"
      ],
      "text/plain": [
       "<pandas.io.formats.style.Styler at 0x17736b730>"
      ]
     },
     "metadata": {},
     "output_type": "display_data"
    }
   ],
   "source": [
    "# Smiles unquoted \n",
    "%openad ds find patents containing molecule CC(C)(c1ccccn1)C(CC(=O)O)Nc1nc(-c2c[nH]c3ncc(Cl)cc23)c(C#N)cc1F"
   ]
  },
  {
   "cell_type": "code",
   "execution_count": 55,
   "id": "2271ff5e-c257-45db-9f9a-e0f96da95fed",
   "metadata": {
    "tags": []
   },
   "outputs": [
    {
     "data": {
      "text/markdown": [
       "<span style=\"color: #090\">We found 7 patents containing the requested SMILES: <br> \n",
       "<span style=\"color: #dc0\">CC(C)(c1ccccn1)C(CC(=O)O)Nc1nc(-c2c[nH]c3ncc(Cl)cc23)c(C#N)cc1F</span></span> <br> \n"
      ],
      "text/plain": [
       "<IPython.core.display.Markdown object>"
      ]
     },
     "metadata": {},
     "output_type": "display_data"
    },
    {
     "data": {
      "text/html": [
       "<div style=\"width:300px; height: 300px; margin: 30px 0; border: solid 1px #ddd; display: inline-block; padding: 32px; position: relative\"><div style=\"position: absolute; top: 8px; left: 8px; font-size: 12px; line-height: 12px; color: #999;\">INPUT MOLECULE</div><?xml version='1.0' encoding='iso-8859-1'?>\n",
       "<svg version='1.1' baseProfile='full'\n",
       "              xmlns='http://www.w3.org/2000/svg'\n",
       "                      xmlns:rdkit='http://www.rdkit.org/xml'\n",
       "                      xmlns:xlink='http://www.w3.org/1999/xlink'\n",
       "                  xml:space='preserve'\n",
       "width='300px' height='300px' viewBox='0 0 300 300'>\n",
       "<!-- END OF HEADER -->\n",
       "<rect style='opacity:1.0;fill:#FFFFFF;stroke:none' width='300.0' height='300.0' x='0.0' y='0.0'> </rect>\n",
       "<path class='bond-0 atom-0 atom-1' d='M 130.4,149.6 L 106.5,162.0' style='fill:none;fill-rule:evenodd;stroke:#000000;stroke-width:2.0px;stroke-linecap:butt;stroke-linejoin:miter;stroke-opacity:1' />\n",
       "<path class='bond-1 atom-1 atom-2' d='M 106.5,162.0 L 82.7,174.3' style='fill:none;fill-rule:evenodd;stroke:#000000;stroke-width:2.0px;stroke-linecap:butt;stroke-linejoin:miter;stroke-opacity:1' />\n",
       "<path class='bond-2 atom-1 atom-3' d='M 106.5,162.0 L 118.9,185.8' style='fill:none;fill-rule:evenodd;stroke:#000000;stroke-width:2.0px;stroke-linecap:butt;stroke-linejoin:miter;stroke-opacity:1' />\n",
       "<path class='bond-3 atom-3 atom-4' d='M 118.9,185.8 L 145.7,187.1' style='fill:none;fill-rule:evenodd;stroke:#000000;stroke-width:2.0px;stroke-linecap:butt;stroke-linejoin:miter;stroke-opacity:1' />\n",
       "<path class='bond-3 atom-3 atom-4' d='M 121.0,190.0 L 143.2,191.0' style='fill:none;fill-rule:evenodd;stroke:#000000;stroke-width:2.0px;stroke-linecap:butt;stroke-linejoin:miter;stroke-opacity:1' />\n",
       "<path class='bond-4 atom-4 atom-5' d='M 145.7,187.1 L 158.1,210.9' style='fill:none;fill-rule:evenodd;stroke:#000000;stroke-width:2.0px;stroke-linecap:butt;stroke-linejoin:miter;stroke-opacity:1' />\n",
       "<path class='bond-5 atom-5 atom-6' d='M 158.1,210.9 L 143.6,233.6' style='fill:none;fill-rule:evenodd;stroke:#000000;stroke-width:2.0px;stroke-linecap:butt;stroke-linejoin:miter;stroke-opacity:1' />\n",
       "<path class='bond-5 atom-5 atom-6' d='M 153.4,210.7 L 141.4,229.4' style='fill:none;fill-rule:evenodd;stroke:#000000;stroke-width:2.0px;stroke-linecap:butt;stroke-linejoin:miter;stroke-opacity:1' />\n",
       "<path class='bond-6 atom-6 atom-7' d='M 143.6,233.6 L 116.7,232.3' style='fill:none;fill-rule:evenodd;stroke:#000000;stroke-width:2.0px;stroke-linecap:butt;stroke-linejoin:miter;stroke-opacity:1' />\n",
       "<path class='bond-7 atom-7 atom-8' d='M 116.7,232.3 L 111.8,222.7' style='fill:none;fill-rule:evenodd;stroke:#000000;stroke-width:2.0px;stroke-linecap:butt;stroke-linejoin:miter;stroke-opacity:1' />\n",
       "<path class='bond-7 atom-7 atom-8' d='M 111.8,222.7 L 106.8,213.2' style='fill:none;fill-rule:evenodd;stroke:#0000FF;stroke-width:2.0px;stroke-linecap:butt;stroke-linejoin:miter;stroke-opacity:1' />\n",
       "<path class='bond-7 atom-7 atom-8' d='M 119.3,228.4 L 114.8,219.9' style='fill:none;fill-rule:evenodd;stroke:#000000;stroke-width:2.0px;stroke-linecap:butt;stroke-linejoin:miter;stroke-opacity:1' />\n",
       "<path class='bond-7 atom-7 atom-8' d='M 114.8,219.9 L 110.4,211.3' style='fill:none;fill-rule:evenodd;stroke:#0000FF;stroke-width:2.0px;stroke-linecap:butt;stroke-linejoin:miter;stroke-opacity:1' />\n",
       "<path class='bond-8 atom-1 atom-9' d='M 106.5,162.0 L 94.2,138.1' style='fill:none;fill-rule:evenodd;stroke:#000000;stroke-width:2.0px;stroke-linecap:butt;stroke-linejoin:miter;stroke-opacity:1' />\n",
       "<path class='bond-9 atom-9 atom-10' d='M 94.2,138.1 L 67.3,136.9' style='fill:none;fill-rule:evenodd;stroke:#000000;stroke-width:2.0px;stroke-linecap:butt;stroke-linejoin:miter;stroke-opacity:1' />\n",
       "<path class='bond-10 atom-10 atom-11' d='M 67.3,136.9 L 52.8,159.5' style='fill:none;fill-rule:evenodd;stroke:#000000;stroke-width:2.0px;stroke-linecap:butt;stroke-linejoin:miter;stroke-opacity:1' />\n",
       "<path class='bond-11 atom-11 atom-12' d='M 50.5,159.4 L 55.7,169.5' style='fill:none;fill-rule:evenodd;stroke:#000000;stroke-width:2.0px;stroke-linecap:butt;stroke-linejoin:miter;stroke-opacity:1' />\n",
       "<path class='bond-11 atom-11 atom-12' d='M 55.7,169.5 L 61.0,179.6' style='fill:none;fill-rule:evenodd;stroke:#FF0000;stroke-width:2.0px;stroke-linecap:butt;stroke-linejoin:miter;stroke-opacity:1' />\n",
       "<path class='bond-11 atom-11 atom-12' d='M 54.1,157.6 L 59.3,167.6' style='fill:none;fill-rule:evenodd;stroke:#000000;stroke-width:2.0px;stroke-linecap:butt;stroke-linejoin:miter;stroke-opacity:1' />\n",
       "<path class='bond-11 atom-11 atom-12' d='M 59.3,167.6 L 64.5,177.7' style='fill:none;fill-rule:evenodd;stroke:#FF0000;stroke-width:2.0px;stroke-linecap:butt;stroke-linejoin:miter;stroke-opacity:1' />\n",
       "<path class='bond-12 atom-11 atom-13' d='M 52.8,159.5 L 41.6,159.0' style='fill:none;fill-rule:evenodd;stroke:#000000;stroke-width:2.0px;stroke-linecap:butt;stroke-linejoin:miter;stroke-opacity:1' />\n",
       "<path class='bond-12 atom-11 atom-13' d='M 41.6,159.0 L 30.4,158.5' style='fill:none;fill-rule:evenodd;stroke:#FF0000;stroke-width:2.0px;stroke-linecap:butt;stroke-linejoin:miter;stroke-opacity:1' />\n",
       "<path class='bond-13 atom-9 atom-14' d='M 94.2,138.1 L 99.9,129.2' style='fill:none;fill-rule:evenodd;stroke:#000000;stroke-width:2.0px;stroke-linecap:butt;stroke-linejoin:miter;stroke-opacity:1' />\n",
       "<path class='bond-13 atom-9 atom-14' d='M 99.9,129.2 L 105.7,120.2' style='fill:none;fill-rule:evenodd;stroke:#0000FF;stroke-width:2.0px;stroke-linecap:butt;stroke-linejoin:miter;stroke-opacity:1' />\n",
       "<path class='bond-14 atom-14 atom-15' d='M 112.4,115.7 L 124.0,116.2' style='fill:none;fill-rule:evenodd;stroke:#0000FF;stroke-width:2.0px;stroke-linecap:butt;stroke-linejoin:miter;stroke-opacity:1' />\n",
       "<path class='bond-14 atom-14 atom-15' d='M 124.0,116.2 L 135.5,116.7' style='fill:none;fill-rule:evenodd;stroke:#000000;stroke-width:2.0px;stroke-linecap:butt;stroke-linejoin:miter;stroke-opacity:1' />\n",
       "<path class='bond-15 atom-15 atom-16' d='M 135.5,116.7 L 140.5,126.3' style='fill:none;fill-rule:evenodd;stroke:#000000;stroke-width:2.0px;stroke-linecap:butt;stroke-linejoin:miter;stroke-opacity:1' />\n",
       "<path class='bond-15 atom-15 atom-16' d='M 140.5,126.3 L 145.4,135.9' style='fill:none;fill-rule:evenodd;stroke:#0000FF;stroke-width:2.0px;stroke-linecap:butt;stroke-linejoin:miter;stroke-opacity:1' />\n",
       "<path class='bond-15 atom-15 atom-16' d='M 140.2,116.9 L 144.6,125.5' style='fill:none;fill-rule:evenodd;stroke:#000000;stroke-width:2.0px;stroke-linecap:butt;stroke-linejoin:miter;stroke-opacity:1' />\n",
       "<path class='bond-15 atom-15 atom-16' d='M 144.6,125.5 L 149.0,134.0' style='fill:none;fill-rule:evenodd;stroke:#0000FF;stroke-width:2.0px;stroke-linecap:butt;stroke-linejoin:miter;stroke-opacity:1' />\n",
       "<path class='bond-16 atom-16 atom-17' d='M 151.6,140.8 L 163.2,141.3' style='fill:none;fill-rule:evenodd;stroke:#0000FF;stroke-width:2.0px;stroke-linecap:butt;stroke-linejoin:miter;stroke-opacity:1' />\n",
       "<path class='bond-16 atom-16 atom-17' d='M 163.2,141.3 L 174.7,141.8' style='fill:none;fill-rule:evenodd;stroke:#000000;stroke-width:2.0px;stroke-linecap:butt;stroke-linejoin:miter;stroke-opacity:1' />\n",
       "<path class='bond-17 atom-17 atom-18' d='M 174.7,141.8 L 187.0,165.7' style='fill:none;fill-rule:evenodd;stroke:#000000;stroke-width:2.0px;stroke-linecap:butt;stroke-linejoin:miter;stroke-opacity:1' />\n",
       "<path class='bond-18 atom-18 atom-19' d='M 187.0,165.7 L 175.0,189.7' style='fill:none;fill-rule:evenodd;stroke:#000000;stroke-width:2.0px;stroke-linecap:butt;stroke-linejoin:miter;stroke-opacity:1' />\n",
       "<path class='bond-18 atom-18 atom-19' d='M 189.3,170.1 L 179.9,188.9' style='fill:none;fill-rule:evenodd;stroke:#000000;stroke-width:2.0px;stroke-linecap:butt;stroke-linejoin:miter;stroke-opacity:1' />\n",
       "<path class='bond-19 atom-19 atom-20' d='M 175.0,189.7 L 182.7,197.3' style='fill:none;fill-rule:evenodd;stroke:#000000;stroke-width:2.0px;stroke-linecap:butt;stroke-linejoin:miter;stroke-opacity:1' />\n",
       "<path class='bond-19 atom-19 atom-20' d='M 182.7,197.3 L 190.4,204.9' style='fill:none;fill-rule:evenodd;stroke:#0000FF;stroke-width:2.0px;stroke-linecap:butt;stroke-linejoin:miter;stroke-opacity:1' />\n",
       "<path class='bond-20 atom-20 atom-21' d='M 197.9,206.6 L 207.9,201.4' style='fill:none;fill-rule:evenodd;stroke:#0000FF;stroke-width:2.0px;stroke-linecap:butt;stroke-linejoin:miter;stroke-opacity:1' />\n",
       "<path class='bond-20 atom-20 atom-21' d='M 207.9,201.4 L 218.0,196.2' style='fill:none;fill-rule:evenodd;stroke:#000000;stroke-width:2.0px;stroke-linecap:butt;stroke-linejoin:miter;stroke-opacity:1' />\n",
       "<path class='bond-21 atom-21 atom-22' d='M 218.0,196.2 L 228.7,200.3' style='fill:none;fill-rule:evenodd;stroke:#000000;stroke-width:2.0px;stroke-linecap:butt;stroke-linejoin:miter;stroke-opacity:1' />\n",
       "<path class='bond-21 atom-21 atom-22' d='M 228.7,200.3 L 239.4,204.3' style='fill:none;fill-rule:evenodd;stroke:#0000FF;stroke-width:2.0px;stroke-linecap:butt;stroke-linejoin:miter;stroke-opacity:1' />\n",
       "<path class='bond-21 atom-21 atom-22' d='M 221.6,193.3 L 231.2,196.9' style='fill:none;fill-rule:evenodd;stroke:#000000;stroke-width:2.0px;stroke-linecap:butt;stroke-linejoin:miter;stroke-opacity:1' />\n",
       "<path class='bond-21 atom-21 atom-22' d='M 231.2,196.9 L 240.8,200.5' style='fill:none;fill-rule:evenodd;stroke:#0000FF;stroke-width:2.0px;stroke-linecap:butt;stroke-linejoin:miter;stroke-opacity:1' />\n",
       "<path class='bond-22 atom-22 atom-23' d='M 246.9,202.6 L 255.4,195.6' style='fill:none;fill-rule:evenodd;stroke:#0000FF;stroke-width:2.0px;stroke-linecap:butt;stroke-linejoin:miter;stroke-opacity:1' />\n",
       "<path class='bond-22 atom-22 atom-23' d='M 255.4,195.6 L 263.9,188.7' style='fill:none;fill-rule:evenodd;stroke:#000000;stroke-width:2.0px;stroke-linecap:butt;stroke-linejoin:miter;stroke-opacity:1' />\n",
       "<path class='bond-23 atom-23 atom-24' d='M 263.9,188.7 L 259.5,162.1' style='fill:none;fill-rule:evenodd;stroke:#000000;stroke-width:2.0px;stroke-linecap:butt;stroke-linejoin:miter;stroke-opacity:1' />\n",
       "<path class='bond-23 atom-23 atom-24' d='M 259.5,187.0 L 255.9,165.1' style='fill:none;fill-rule:evenodd;stroke:#000000;stroke-width:2.0px;stroke-linecap:butt;stroke-linejoin:miter;stroke-opacity:1' />\n",
       "<path class='bond-24 atom-24 atom-25' d='M 259.5,162.1 L 268.0,155.2' style='fill:none;fill-rule:evenodd;stroke:#000000;stroke-width:2.0px;stroke-linecap:butt;stroke-linejoin:miter;stroke-opacity:1' />\n",
       "<path class='bond-24 atom-24 atom-25' d='M 268.0,155.2 L 276.5,148.2' style='fill:none;fill-rule:evenodd;stroke:#00CC00;stroke-width:2.0px;stroke-linecap:butt;stroke-linejoin:miter;stroke-opacity:1' />\n",
       "<path class='bond-25 atom-24 atom-26' d='M 259.5,162.1 L 234.4,152.7' style='fill:none;fill-rule:evenodd;stroke:#000000;stroke-width:2.0px;stroke-linecap:butt;stroke-linejoin:miter;stroke-opacity:1' />\n",
       "<path class='bond-26 atom-26 atom-27' d='M 234.4,152.7 L 213.6,169.7' style='fill:none;fill-rule:evenodd;stroke:#000000;stroke-width:2.0px;stroke-linecap:butt;stroke-linejoin:miter;stroke-opacity:1' />\n",
       "<path class='bond-26 atom-26 atom-27' d='M 235.1,157.3 L 218.0,171.4' style='fill:none;fill-rule:evenodd;stroke:#000000;stroke-width:2.0px;stroke-linecap:butt;stroke-linejoin:miter;stroke-opacity:1' />\n",
       "<path class='bond-27 atom-17 atom-28' d='M 174.7,141.8 L 189.2,119.2' style='fill:none;fill-rule:evenodd;stroke:#000000;stroke-width:2.0px;stroke-linecap:butt;stroke-linejoin:miter;stroke-opacity:1' />\n",
       "<path class='bond-27 atom-17 atom-28' d='M 172.6,137.7 L 184.5,119.0' style='fill:none;fill-rule:evenodd;stroke:#000000;stroke-width:2.0px;stroke-linecap:butt;stroke-linejoin:miter;stroke-opacity:1' />\n",
       "<path class='bond-28 atom-28 atom-29' d='M 189.2,119.2 L 216.0,120.4' style='fill:none;fill-rule:evenodd;stroke:#000000;stroke-width:2.0px;stroke-linecap:butt;stroke-linejoin:miter;stroke-opacity:1' />\n",
       "<path class='bond-29 atom-29 atom-30' d='M 216.0,120.4 L 227.6,121.0' style='fill:none;fill-rule:evenodd;stroke:#000000;stroke-width:2.0px;stroke-linecap:butt;stroke-linejoin:miter;stroke-opacity:1' />\n",
       "<path class='bond-29 atom-29 atom-30' d='M 227.6,121.0 L 239.1,121.5' style='fill:none;fill-rule:evenodd;stroke:#0000FF;stroke-width:2.0px;stroke-linecap:butt;stroke-linejoin:miter;stroke-opacity:1' />\n",
       "<path class='bond-29 atom-29 atom-30' d='M 216.2,116.4 L 227.7,116.9' style='fill:none;fill-rule:evenodd;stroke:#000000;stroke-width:2.0px;stroke-linecap:butt;stroke-linejoin:miter;stroke-opacity:1' />\n",
       "<path class='bond-29 atom-29 atom-30' d='M 227.7,116.9 L 239.3,117.5' style='fill:none;fill-rule:evenodd;stroke:#0000FF;stroke-width:2.0px;stroke-linecap:butt;stroke-linejoin:miter;stroke-opacity:1' />\n",
       "<path class='bond-29 atom-29 atom-30' d='M 215.8,124.5 L 227.4,125.0' style='fill:none;fill-rule:evenodd;stroke:#000000;stroke-width:2.0px;stroke-linecap:butt;stroke-linejoin:miter;stroke-opacity:1' />\n",
       "<path class='bond-29 atom-29 atom-30' d='M 227.4,125.0 L 238.9,125.5' style='fill:none;fill-rule:evenodd;stroke:#0000FF;stroke-width:2.0px;stroke-linecap:butt;stroke-linejoin:miter;stroke-opacity:1' />\n",
       "<path class='bond-30 atom-28 atom-31' d='M 189.2,119.2 L 176.8,95.3' style='fill:none;fill-rule:evenodd;stroke:#000000;stroke-width:2.0px;stroke-linecap:butt;stroke-linejoin:miter;stroke-opacity:1' />\n",
       "<path class='bond-31 atom-31 atom-32' d='M 176.8,95.3 L 150.0,94.1' style='fill:none;fill-rule:evenodd;stroke:#000000;stroke-width:2.0px;stroke-linecap:butt;stroke-linejoin:miter;stroke-opacity:1' />\n",
       "<path class='bond-31 atom-31 atom-32' d='M 174.3,99.3 L 152.1,98.2' style='fill:none;fill-rule:evenodd;stroke:#000000;stroke-width:2.0px;stroke-linecap:butt;stroke-linejoin:miter;stroke-opacity:1' />\n",
       "<path class='bond-32 atom-32 atom-33' d='M 150.0,94.1 L 145.0,84.5' style='fill:none;fill-rule:evenodd;stroke:#000000;stroke-width:2.0px;stroke-linecap:butt;stroke-linejoin:miter;stroke-opacity:1' />\n",
       "<path class='bond-32 atom-32 atom-33' d='M 145.0,84.5 L 140.1,74.9' style='fill:none;fill-rule:evenodd;stroke:#33CCCC;stroke-width:2.0px;stroke-linecap:butt;stroke-linejoin:miter;stroke-opacity:1' />\n",
       "<path class='bond-33 atom-8 atom-3' d='M 107.4,203.8 L 113.1,194.8' style='fill:none;fill-rule:evenodd;stroke:#0000FF;stroke-width:2.0px;stroke-linecap:butt;stroke-linejoin:miter;stroke-opacity:1' />\n",
       "<path class='bond-33 atom-8 atom-3' d='M 113.1,194.8 L 118.9,185.8' style='fill:none;fill-rule:evenodd;stroke:#000000;stroke-width:2.0px;stroke-linecap:butt;stroke-linejoin:miter;stroke-opacity:1' />\n",
       "<path class='bond-34 atom-32 atom-15' d='M 150.0,94.1 L 135.5,116.7' style='fill:none;fill-rule:evenodd;stroke:#000000;stroke-width:2.0px;stroke-linecap:butt;stroke-linejoin:miter;stroke-opacity:1' />\n",
       "<path class='bond-35 atom-27 atom-18' d='M 213.6,169.7 L 187.0,165.7' style='fill:none;fill-rule:evenodd;stroke:#000000;stroke-width:2.0px;stroke-linecap:butt;stroke-linejoin:miter;stroke-opacity:1' />\n",
       "<path class='bond-36 atom-27 atom-21' d='M 213.6,169.7 L 218.0,196.2' style='fill:none;fill-rule:evenodd;stroke:#000000;stroke-width:2.0px;stroke-linecap:butt;stroke-linejoin:miter;stroke-opacity:1' />\n",
       "<path d='M 144.4,187.0 L 145.7,187.1 L 146.3,188.3' style='fill:none;stroke:#000000;stroke-width:2.0px;stroke-linecap:butt;stroke-linejoin:miter;stroke-opacity:1;' />\n",
       "<path d='M 157.5,209.7 L 158.1,210.9 L 157.3,212.1' style='fill:none;stroke:#000000;stroke-width:2.0px;stroke-linecap:butt;stroke-linejoin:miter;stroke-opacity:1;' />\n",
       "<path d='M 144.3,232.4 L 143.6,233.6 L 142.2,233.5' style='fill:none;stroke:#000000;stroke-width:2.0px;stroke-linecap:butt;stroke-linejoin:miter;stroke-opacity:1;' />\n",
       "<path d='M 118.1,232.4 L 116.7,232.3 L 116.5,231.9' style='fill:none;stroke:#000000;stroke-width:2.0px;stroke-linecap:butt;stroke-linejoin:miter;stroke-opacity:1;' />\n",
       "<path d='M 68.7,136.9 L 67.3,136.9 L 66.6,138.0' style='fill:none;stroke:#000000;stroke-width:2.0px;stroke-linecap:butt;stroke-linejoin:miter;stroke-opacity:1;' />\n",
       "<path d='M 53.6,158.4 L 52.8,159.5 L 52.3,159.5' style='fill:none;stroke:#000000;stroke-width:2.0px;stroke-linecap:butt;stroke-linejoin:miter;stroke-opacity:1;' />\n",
       "<path d='M 175.6,188.5 L 175.0,189.7 L 175.4,190.1' style='fill:none;stroke:#000000;stroke-width:2.0px;stroke-linecap:butt;stroke-linejoin:miter;stroke-opacity:1;' />\n",
       "<path d='M 263.5,189.0 L 263.9,188.7 L 263.7,187.3' style='fill:none;stroke:#000000;stroke-width:2.0px;stroke-linecap:butt;stroke-linejoin:miter;stroke-opacity:1;' />\n",
       "<path d='M 235.6,153.1 L 234.4,152.7 L 233.3,153.5' style='fill:none;stroke:#000000;stroke-width:2.0px;stroke-linecap:butt;stroke-linejoin:miter;stroke-opacity:1;' />\n",
       "<path d='M 214.7,120.4 L 216.0,120.4 L 216.6,120.5' style='fill:none;stroke:#000000;stroke-width:2.0px;stroke-linecap:butt;stroke-linejoin:miter;stroke-opacity:1;' />\n",
       "<path d='M 177.5,96.5 L 176.8,95.3 L 175.5,95.3' style='fill:none;stroke:#000000;stroke-width:2.0px;stroke-linecap:butt;stroke-linejoin:miter;stroke-opacity:1;' />\n",
       "<path class='atom-8' d='M 102.7 204.7\n",
       "L 105.2 208.7\n",
       "Q 105.4 209.1, 105.8 209.8\n",
       "Q 106.2 210.5, 106.3 210.6\n",
       "L 106.3 204.7\n",
       "L 107.3 204.7\n",
       "L 107.3 212.3\n",
       "L 106.2 212.3\n",
       "L 103.6 207.9\n",
       "Q 103.2 207.4, 102.9 206.8\n",
       "Q 102.6 206.2, 102.5 206.0\n",
       "L 102.5 212.3\n",
       "L 101.5 212.3\n",
       "L 101.5 204.7\n",
       "L 102.7 204.7\n",
       "' fill='#0000FF'/>\n",
       "<path class='atom-12' d='M 61.7 183.4\n",
       "Q 61.7 181.6, 62.6 180.5\n",
       "Q 63.5 179.5, 65.2 179.5\n",
       "Q 66.9 179.5, 67.8 180.5\n",
       "Q 68.7 181.6, 68.7 183.4\n",
       "Q 68.7 185.2, 67.8 186.3\n",
       "Q 66.9 187.3, 65.2 187.3\n",
       "Q 63.5 187.3, 62.6 186.3\n",
       "Q 61.7 185.3, 61.7 183.4\n",
       "M 65.2 186.5\n",
       "Q 66.4 186.5, 67.0 185.7\n",
       "Q 67.6 184.9, 67.6 183.4\n",
       "Q 67.6 181.9, 67.0 181.1\n",
       "Q 66.4 180.4, 65.2 180.4\n",
       "Q 64.0 180.4, 63.4 181.1\n",
       "Q 62.8 181.9, 62.8 183.4\n",
       "Q 62.8 184.9, 63.4 185.7\n",
       "Q 64.0 186.5, 65.2 186.5\n",
       "' fill='#FF0000'/>\n",
       "<path class='atom-13' d='M 15.0 154.5\n",
       "L 16.0 154.5\n",
       "L 16.0 157.8\n",
       "L 19.9 157.8\n",
       "L 19.9 154.5\n",
       "L 21.0 154.5\n",
       "L 21.0 162.1\n",
       "L 19.9 162.1\n",
       "L 19.9 158.6\n",
       "L 16.0 158.6\n",
       "L 16.0 162.1\n",
       "L 15.0 162.1\n",
       "L 15.0 154.5\n",
       "' fill='#FF0000'/>\n",
       "<path class='atom-13' d='M 22.5 158.3\n",
       "Q 22.5 156.5, 23.4 155.5\n",
       "Q 24.3 154.4, 26.0 154.4\n",
       "Q 27.7 154.4, 28.6 155.5\n",
       "Q 29.5 156.5, 29.5 158.3\n",
       "Q 29.5 160.1, 28.6 161.2\n",
       "Q 27.7 162.2, 26.0 162.2\n",
       "Q 24.3 162.2, 23.4 161.2\n",
       "Q 22.5 160.2, 22.5 158.3\n",
       "M 26.0 161.4\n",
       "Q 27.2 161.4, 27.8 160.6\n",
       "Q 28.4 159.8, 28.4 158.3\n",
       "Q 28.4 156.8, 27.8 156.1\n",
       "Q 27.2 155.3, 26.0 155.3\n",
       "Q 24.8 155.3, 24.2 156.0\n",
       "Q 23.6 156.8, 23.6 158.3\n",
       "Q 23.6 159.8, 24.2 160.6\n",
       "Q 24.8 161.4, 26.0 161.4\n",
       "' fill='#FF0000'/>\n",
       "<path class='atom-14' d='M 98.3 111.7\n",
       "L 99.4 111.7\n",
       "L 99.4 114.9\n",
       "L 103.3 114.9\n",
       "L 103.3 111.7\n",
       "L 104.3 111.7\n",
       "L 104.3 119.3\n",
       "L 103.3 119.3\n",
       "L 103.3 115.8\n",
       "L 99.4 115.8\n",
       "L 99.4 119.3\n",
       "L 98.3 119.3\n",
       "L 98.3 111.7\n",
       "' fill='#0000FF'/>\n",
       "<path class='atom-14' d='M 107.0 111.7\n",
       "L 109.5 115.7\n",
       "Q 109.7 116.1, 110.1 116.8\n",
       "Q 110.5 117.6, 110.5 117.6\n",
       "L 110.5 111.7\n",
       "L 111.6 111.7\n",
       "L 111.6 119.3\n",
       "L 110.5 119.3\n",
       "L 107.8 114.9\n",
       "Q 107.5 114.4, 107.2 113.8\n",
       "Q 106.9 113.2, 106.8 113.0\n",
       "L 106.8 119.3\n",
       "L 105.8 119.3\n",
       "L 105.8 111.7\n",
       "L 107.0 111.7\n",
       "' fill='#0000FF'/>\n",
       "<path class='atom-16' d='M 146.2 136.8\n",
       "L 148.7 140.8\n",
       "Q 148.9 141.2, 149.3 141.9\n",
       "Q 149.7 142.7, 149.7 142.7\n",
       "L 149.7 136.8\n",
       "L 150.7 136.8\n",
       "L 150.7 144.4\n",
       "L 149.7 144.4\n",
       "L 147.0 140.0\n",
       "Q 146.7 139.5, 146.4 138.9\n",
       "Q 146.1 138.3, 146.0 138.1\n",
       "L 146.0 144.4\n",
       "L 145.0 144.4\n",
       "L 145.0 136.8\n",
       "L 146.2 136.8\n",
       "' fill='#0000FF'/>\n",
       "<path class='atom-20' d='M 192.4 204.8\n",
       "L 194.9 208.8\n",
       "Q 195.2 209.2, 195.6 209.9\n",
       "Q 196.0 210.6, 196.0 210.7\n",
       "L 196.0 204.8\n",
       "L 197.0 204.8\n",
       "L 197.0 212.4\n",
       "L 196.0 212.4\n",
       "L 193.3 208.0\n",
       "Q 193.0 207.5, 192.6 206.9\n",
       "Q 192.3 206.3, 192.2 206.1\n",
       "L 192.2 212.4\n",
       "L 191.2 212.4\n",
       "L 191.2 204.8\n",
       "L 192.4 204.8\n",
       "' fill='#0000FF'/>\n",
       "<path class='atom-20' d='M 191.1 213.1\n",
       "L 192.2 213.1\n",
       "L 192.2 216.4\n",
       "L 196.1 216.4\n",
       "L 196.1 213.1\n",
       "L 197.1 213.1\n",
       "L 197.1 220.8\n",
       "L 196.1 220.8\n",
       "L 196.1 217.2\n",
       "L 192.2 217.2\n",
       "L 192.2 220.8\n",
       "L 191.1 220.8\n",
       "L 191.1 213.1\n",
       "' fill='#0000FF'/>\n",
       "<path class='atom-22' d='M 241.5 201.9\n",
       "L 243.9 205.9\n",
       "Q 244.2 206.3, 244.6 207.0\n",
       "Q 245.0 207.8, 245.0 207.8\n",
       "L 245.0 201.9\n",
       "L 246.0 201.9\n",
       "L 246.0 209.5\n",
       "L 245.0 209.5\n",
       "L 242.3 205.1\n",
       "Q 242.0 204.6, 241.7 204.0\n",
       "Q 241.3 203.4, 241.2 203.2\n",
       "L 241.2 209.5\n",
       "L 240.2 209.5\n",
       "L 240.2 201.9\n",
       "L 241.5 201.9\n",
       "' fill='#0000FF'/>\n",
       "<path class='atom-25' d='M 277.4 145.4\n",
       "Q 277.4 143.5, 278.3 142.5\n",
       "Q 279.1 141.5, 280.8 141.5\n",
       "Q 282.4 141.5, 283.2 142.6\n",
       "L 282.5 143.2\n",
       "Q 281.9 142.4, 280.8 142.4\n",
       "Q 279.7 142.4, 279.1 143.1\n",
       "Q 278.5 143.9, 278.5 145.4\n",
       "Q 278.5 146.9, 279.1 147.6\n",
       "Q 279.7 148.4, 280.9 148.4\n",
       "Q 281.8 148.4, 282.8 147.9\n",
       "L 283.1 148.7\n",
       "Q 282.7 149.0, 282.1 149.1\n",
       "Q 281.5 149.3, 280.8 149.3\n",
       "Q 279.1 149.3, 278.3 148.3\n",
       "Q 277.4 147.3, 277.4 145.4\n",
       "' fill='#00CC00'/>\n",
       "<path class='atom-25' d='M 284.0 141.0\n",
       "L 285.0 141.0\n",
       "L 285.0 149.2\n",
       "L 284.0 149.2\n",
       "L 284.0 141.0\n",
       "' fill='#00CC00'/>\n",
       "<path class='atom-30' d='M 241.2 117.9\n",
       "L 243.7 121.9\n",
       "Q 243.9 122.3, 244.3 123.0\n",
       "Q 244.7 123.7, 244.7 123.8\n",
       "L 244.7 117.9\n",
       "L 245.8 117.9\n",
       "L 245.8 125.5\n",
       "L 244.7 125.5\n",
       "L 242.0 121.1\n",
       "Q 241.7 120.5, 241.4 120.0\n",
       "Q 241.1 119.4, 241.0 119.2\n",
       "L 241.0 125.5\n",
       "L 240.0 125.5\n",
       "L 240.0 117.9\n",
       "L 241.2 117.9\n",
       "' fill='#0000FF'/>\n",
       "<path class='atom-33' d='M 135.4 66.4\n",
       "L 139.9 66.4\n",
       "L 139.9 67.3\n",
       "L 136.4 67.3\n",
       "L 136.4 69.6\n",
       "L 139.5 69.6\n",
       "L 139.5 70.5\n",
       "L 136.4 70.5\n",
       "L 136.4 74.0\n",
       "L 135.4 74.0\n",
       "L 135.4 66.4\n",
       "' fill='#33CCCC'/>\n",
       "</svg>\n",
       "</div>"
      ],
      "text/plain": [
       "<IPython.core.display.HTML object>"
      ]
     },
     "metadata": {},
     "output_type": "display_data"
    },
    {
     "data": {
      "text/markdown": [
       "<span style=\"color: #ccc\">Next up, you can run: </span>`result open`/`edit`/`copy`/`display`/`as dataframe`/`save [as '<filename.csv>']` <br> \n"
      ],
      "text/plain": [
       "<IPython.core.display.Markdown object>"
      ]
     },
     "metadata": {},
     "output_type": "display_data"
    },
    {
     "data": {
      "text/html": [
       "<style type=\"text/css\">\n",
       "</style>\n",
       "<table id=\"T_cbe55\">\n",
       "  <thead>\n",
       "    <tr>\n",
       "      <th id=\"T_cbe55_level0_col0\" class=\"col_heading level0 col0\" >Patent ID</th>\n",
       "    </tr>\n",
       "  </thead>\n",
       "  <tbody>\n",
       "    <tr>\n",
       "      <td id=\"T_cbe55_row0_col0\" class=\"data row0 col0\" >CN108473493A</td>\n",
       "    </tr>\n",
       "    <tr>\n",
       "      <td id=\"T_cbe55_row1_col0\" class=\"data row1 col0\" >CN108473493B</td>\n",
       "    </tr>\n",
       "    <tr>\n",
       "      <td id=\"T_cbe55_row2_col0\" class=\"data row2 col0\" >JP0007001601B1</td>\n",
       "    </tr>\n",
       "    <tr>\n",
       "      <td id=\"T_cbe55_row3_col0\" class=\"data row3 col0\" >JP2019505518T</td>\n",
       "    </tr>\n",
       "    <tr>\n",
       "      <td id=\"T_cbe55_row4_col0\" class=\"data row4 col0\" >KR1020187022012</td>\n",
       "    </tr>\n",
       "    <tr>\n",
       "      <td id=\"T_cbe55_row5_col0\" class=\"data row5 col0\" >US10526338</td>\n",
       "    </tr>\n",
       "    <tr>\n",
       "      <td id=\"T_cbe55_row6_col0\" class=\"data row6 col0\" >US20190023713A1</td>\n",
       "    </tr>\n",
       "  </tbody>\n",
       "</table>\n"
      ],
      "text/plain": [
       "<pandas.io.formats.style.Styler at 0x17736a980>"
      ]
     },
     "metadata": {},
     "output_type": "display_data"
    },
    {
     "data": {
      "text/markdown": [
       "<span style=\"color: #ffa500\">Warning: A file with the name 'patents.csv' already exists. <br> \n",
       "<span style=\"color: #090\">Saved as <span style=\"color: #dc0\">patents-13.csv</span> instead.</span></span> <br> \n"
      ],
      "text/plain": [
       "<IPython.core.display.Markdown object>"
      ]
     },
     "metadata": {},
     "output_type": "display_data"
    }
   ],
   "source": [
    "# Smiles quoted\n",
    "%openad ds find patents containing molecule 'CC(C)(c1ccccn1)C(CC(=O)O)Nc1nc(-c2c[nH]c3ncc(Cl)cc23)c(C#N)cc1F' save as 'patents'"
   ]
  },
  {
   "cell_type": "code",
   "execution_count": 56,
   "id": "6313867a-94d9-4a1d-bafe-e038c744eb41",
   "metadata": {
    "tags": []
   },
   "outputs": [
    {
     "data": {
      "text/markdown": [
       "<span style=\"color: #090\">We found 7 patents containing the requested InChI: <br> \n",
       "<span style=\"color: #dc0\">InChI=1S/C24H20ClFN6O2/c1-24(2,18-5-3-4-6-28-18)19(9-20(33)34)31-23-17(26)7-13(10-27)21(32-23)16-12-30-22-15(16)8-14(25)11-29-22/h3-8,11-12,19H,9H2,1-2H3,(H,29,30)(H,31,32)(H,33,34)</span></span> <br> \n"
      ],
      "text/plain": [
       "<IPython.core.display.Markdown object>"
      ]
     },
     "metadata": {},
     "output_type": "display_data"
    },
    {
     "data": {
      "text/html": [
       "<div style=\"width:300px; height: 300px; margin: 30px 0; border: solid 1px #ddd; display: inline-block; padding: 32px; position: relative\"><div style=\"position: absolute; top: 8px; left: 8px; font-size: 12px; line-height: 12px; color: #999;\">INPUT MOLECULE</div><?xml version='1.0' encoding='iso-8859-1'?>\n",
       "<svg version='1.1' baseProfile='full'\n",
       "              xmlns='http://www.w3.org/2000/svg'\n",
       "                      xmlns:rdkit='http://www.rdkit.org/xml'\n",
       "                      xmlns:xlink='http://www.w3.org/1999/xlink'\n",
       "                  xml:space='preserve'\n",
       "width='300px' height='300px' viewBox='0 0 300 300'>\n",
       "<!-- END OF HEADER -->\n",
       "<rect style='opacity:1.0;fill:#FFFFFF;stroke:none' width='300.0' height='300.0' x='0.0' y='0.0'> </rect>\n",
       "<path class='bond-0 atom-0 atom-23' d='M 223.7,125.2 L 199.4,137.8' style='fill:none;fill-rule:evenodd;stroke:#000000;stroke-width:2.0px;stroke-linecap:butt;stroke-linejoin:miter;stroke-opacity:1' />\n",
       "<path class='bond-1 atom-1 atom-23' d='M 175.1,150.4 L 199.4,137.8' style='fill:none;fill-rule:evenodd;stroke:#000000;stroke-width:2.0px;stroke-linecap:butt;stroke-linejoin:miter;stroke-opacity:1' />\n",
       "<path class='bond-2 atom-2 atom-3' d='M 146.8,87.9 L 161.6,64.8' style='fill:none;fill-rule:evenodd;stroke:#000000;stroke-width:2.0px;stroke-linecap:butt;stroke-linejoin:miter;stroke-opacity:1' />\n",
       "<path class='bond-2 atom-2 atom-3' d='M 151.6,88.1 L 163.8,69.0' style='fill:none;fill-rule:evenodd;stroke:#000000;stroke-width:2.0px;stroke-linecap:butt;stroke-linejoin:miter;stroke-opacity:1' />\n",
       "<path class='bond-3 atom-2 atom-4' d='M 146.8,87.9 L 159.4,112.2' style='fill:none;fill-rule:evenodd;stroke:#000000;stroke-width:2.0px;stroke-linecap:butt;stroke-linejoin:miter;stroke-opacity:1' />\n",
       "<path class='bond-4 atom-3 atom-5' d='M 161.6,64.8 L 189.0,66.1' style='fill:none;fill-rule:evenodd;stroke:#000000;stroke-width:2.0px;stroke-linecap:butt;stroke-linejoin:miter;stroke-opacity:1' />\n",
       "<path class='bond-5 atom-4 atom-17' d='M 159.4,112.2 L 186.8,113.5' style='fill:none;fill-rule:evenodd;stroke:#000000;stroke-width:2.0px;stroke-linecap:butt;stroke-linejoin:miter;stroke-opacity:1' />\n",
       "<path class='bond-5 atom-4 atom-17' d='M 162.0,108.2 L 184.6,109.3' style='fill:none;fill-rule:evenodd;stroke:#000000;stroke-width:2.0px;stroke-linecap:butt;stroke-linejoin:miter;stroke-opacity:1' />\n",
       "<path class='bond-6 atom-5 atom-27' d='M 189.0,66.1 L 194.0,75.9' style='fill:none;fill-rule:evenodd;stroke:#000000;stroke-width:2.0px;stroke-linecap:butt;stroke-linejoin:miter;stroke-opacity:1' />\n",
       "<path class='bond-6 atom-5 atom-27' d='M 194.0,75.9 L 199.1,85.6' style='fill:none;fill-rule:evenodd;stroke:#0000FF;stroke-width:2.0px;stroke-linecap:butt;stroke-linejoin:miter;stroke-opacity:1' />\n",
       "<path class='bond-6 atom-5 atom-27' d='M 186.4,70.1 L 190.9,78.8' style='fill:none;fill-rule:evenodd;stroke:#000000;stroke-width:2.0px;stroke-linecap:butt;stroke-linejoin:miter;stroke-opacity:1' />\n",
       "<path class='bond-6 atom-5 atom-27' d='M 190.9,78.8 L 195.4,87.5' style='fill:none;fill-rule:evenodd;stroke:#0000FF;stroke-width:2.0px;stroke-linecap:butt;stroke-linejoin:miter;stroke-opacity:1' />\n",
       "<path class='bond-7 atom-6 atom-12' d='M 127.7,205.7 L 115.1,181.4' style='fill:none;fill-rule:evenodd;stroke:#000000;stroke-width:2.0px;stroke-linecap:butt;stroke-linejoin:miter;stroke-opacity:1' />\n",
       "<path class='bond-7 atom-6 atom-12' d='M 130.3,201.7 L 119.9,181.6' style='fill:none;fill-rule:evenodd;stroke:#000000;stroke-width:2.0px;stroke-linecap:butt;stroke-linejoin:miter;stroke-opacity:1' />\n",
       "<path class='bond-8 atom-6 atom-16' d='M 127.7,205.7 L 155.1,207.0' style='fill:none;fill-rule:evenodd;stroke:#000000;stroke-width:2.0px;stroke-linecap:butt;stroke-linejoin:miter;stroke-opacity:1' />\n",
       "<path class='bond-9 atom-7 atom-13' d='M 69.1,147.3 L 43.4,137.6' style='fill:none;fill-rule:evenodd;stroke:#000000;stroke-width:2.0px;stroke-linecap:butt;stroke-linejoin:miter;stroke-opacity:1' />\n",
       "<path class='bond-9 atom-7 atom-13' d='M 68.3,142.6 L 47.1,134.6' style='fill:none;fill-rule:evenodd;stroke:#000000;stroke-width:2.0px;stroke-linecap:butt;stroke-linejoin:miter;stroke-opacity:1' />\n",
       "<path class='bond-10 atom-7 atom-14' d='M 69.1,147.3 L 90.2,129.9' style='fill:none;fill-rule:evenodd;stroke:#000000;stroke-width:2.0px;stroke-linecap:butt;stroke-linejoin:miter;stroke-opacity:1' />\n",
       "<path class='bond-11 atom-8 atom-18' d='M 239.3,163.4 L 212.0,162.1' style='fill:none;fill-rule:evenodd;stroke:#000000;stroke-width:2.0px;stroke-linecap:butt;stroke-linejoin:miter;stroke-opacity:1' />\n",
       "<path class='bond-12 atom-8 atom-19' d='M 239.3,163.4 L 254.1,140.3' style='fill:none;fill-rule:evenodd;stroke:#000000;stroke-width:2.0px;stroke-linecap:butt;stroke-linejoin:miter;stroke-opacity:1' />\n",
       "<path class='bond-13 atom-9 atom-12' d='M 87.8,180.1 L 115.1,181.4' style='fill:none;fill-rule:evenodd;stroke:#000000;stroke-width:2.0px;stroke-linecap:butt;stroke-linejoin:miter;stroke-opacity:1' />\n",
       "<path class='bond-14 atom-9 atom-26' d='M 87.8,180.1 L 76.0,179.6' style='fill:none;fill-rule:evenodd;stroke:#000000;stroke-width:2.0px;stroke-linecap:butt;stroke-linejoin:miter;stroke-opacity:1' />\n",
       "<path class='bond-14 atom-9 atom-26' d='M 76.0,179.6 L 64.3,179.1' style='fill:none;fill-rule:evenodd;stroke:#0000FF;stroke-width:2.0px;stroke-linecap:butt;stroke-linejoin:miter;stroke-opacity:1' />\n",
       "<path class='bond-14 atom-9 atom-26' d='M 87.6,184.2 L 75.8,183.7' style='fill:none;fill-rule:evenodd;stroke:#000000;stroke-width:2.0px;stroke-linecap:butt;stroke-linejoin:miter;stroke-opacity:1' />\n",
       "<path class='bond-14 atom-9 atom-26' d='M 75.8,183.7 L 64.1,183.2' style='fill:none;fill-rule:evenodd;stroke:#0000FF;stroke-width:2.0px;stroke-linecap:butt;stroke-linejoin:miter;stroke-opacity:1' />\n",
       "<path class='bond-14 atom-9 atom-26' d='M 88.0,176.0 L 76.2,175.5' style='fill:none;fill-rule:evenodd;stroke:#000000;stroke-width:2.0px;stroke-linecap:butt;stroke-linejoin:miter;stroke-opacity:1' />\n",
       "<path class='bond-14 atom-9 atom-26' d='M 76.2,175.5 L 64.5,175.0' style='fill:none;fill-rule:evenodd;stroke:#0000FF;stroke-width:2.0px;stroke-linecap:butt;stroke-linejoin:miter;stroke-opacity:1' />\n",
       "<path class='bond-15 atom-10 atom-13' d='M 39.0,110.6 L 43.4,137.6' style='fill:none;fill-rule:evenodd;stroke:#000000;stroke-width:2.0px;stroke-linecap:butt;stroke-linejoin:miter;stroke-opacity:1' />\n",
       "<path class='bond-16 atom-10 atom-28' d='M 39.0,110.6 L 47.6,103.5' style='fill:none;fill-rule:evenodd;stroke:#000000;stroke-width:2.0px;stroke-linecap:butt;stroke-linejoin:miter;stroke-opacity:1' />\n",
       "<path class='bond-16 atom-10 atom-28' d='M 47.6,103.5 L 56.3,96.4' style='fill:none;fill-rule:evenodd;stroke:#0000FF;stroke-width:2.0px;stroke-linecap:butt;stroke-linejoin:miter;stroke-opacity:1' />\n",
       "<path class='bond-16 atom-10 atom-28' d='M 43.4,112.3 L 51.2,105.9' style='fill:none;fill-rule:evenodd;stroke:#000000;stroke-width:2.0px;stroke-linecap:butt;stroke-linejoin:miter;stroke-opacity:1' />\n",
       "<path class='bond-16 atom-10 atom-28' d='M 51.2,105.9 L 58.9,99.6' style='fill:none;fill-rule:evenodd;stroke:#0000FF;stroke-width:2.0px;stroke-linecap:butt;stroke-linejoin:miter;stroke-opacity:1' />\n",
       "<path class='bond-17 atom-11 atom-15' d='M 129.6,109.5 L 117.3,134.0' style='fill:none;fill-rule:evenodd;stroke:#000000;stroke-width:2.0px;stroke-linecap:butt;stroke-linejoin:miter;stroke-opacity:1' />\n",
       "<path class='bond-17 atom-11 atom-15' d='M 124.6,110.4 L 115.0,129.5' style='fill:none;fill-rule:evenodd;stroke:#000000;stroke-width:2.0px;stroke-linecap:butt;stroke-linejoin:miter;stroke-opacity:1' />\n",
       "<path class='bond-18 atom-11 atom-29' d='M 129.6,109.5 L 121.8,101.8' style='fill:none;fill-rule:evenodd;stroke:#000000;stroke-width:2.0px;stroke-linecap:butt;stroke-linejoin:miter;stroke-opacity:1' />\n",
       "<path class='bond-18 atom-11 atom-29' d='M 121.8,101.8 L 113.9,94.1' style='fill:none;fill-rule:evenodd;stroke:#0000FF;stroke-width:2.0px;stroke-linecap:butt;stroke-linejoin:miter;stroke-opacity:1' />\n",
       "<path class='bond-19 atom-12 atom-20' d='M 115.1,181.4 L 129.9,158.3' style='fill:none;fill-rule:evenodd;stroke:#000000;stroke-width:2.0px;stroke-linecap:butt;stroke-linejoin:miter;stroke-opacity:1' />\n",
       "<path class='bond-20 atom-13 atom-24' d='M 43.4,137.6 L 33.6,145.7' style='fill:none;fill-rule:evenodd;stroke:#000000;stroke-width:2.0px;stroke-linecap:butt;stroke-linejoin:miter;stroke-opacity:1' />\n",
       "<path class='bond-20 atom-13 atom-24' d='M 33.6,145.7 L 23.7,153.8' style='fill:none;fill-rule:evenodd;stroke:#00CC00;stroke-width:2.0px;stroke-linecap:butt;stroke-linejoin:miter;stroke-opacity:1' />\n",
       "<path class='bond-21 atom-14 atom-15' d='M 90.2,129.9 L 117.3,134.0' style='fill:none;fill-rule:evenodd;stroke:#000000;stroke-width:2.0px;stroke-linecap:butt;stroke-linejoin:miter;stroke-opacity:1' />\n",
       "<path class='bond-22 atom-14 atom-21' d='M 90.2,129.9 L 85.8,102.9' style='fill:none;fill-rule:evenodd;stroke:#000000;stroke-width:2.0px;stroke-linecap:butt;stroke-linejoin:miter;stroke-opacity:1' />\n",
       "<path class='bond-22 atom-14 atom-21' d='M 85.8,128.2 L 82.1,105.9' style='fill:none;fill-rule:evenodd;stroke:#000000;stroke-width:2.0px;stroke-linecap:butt;stroke-linejoin:miter;stroke-opacity:1' />\n",
       "<path class='bond-23 atom-15 atom-20' d='M 117.3,134.0 L 129.9,158.3' style='fill:none;fill-rule:evenodd;stroke:#000000;stroke-width:2.0px;stroke-linecap:butt;stroke-linejoin:miter;stroke-opacity:1' />\n",
       "<path class='bond-24 atom-16 atom-22' d='M 155.1,207.0 L 169.8,183.9' style='fill:none;fill-rule:evenodd;stroke:#000000;stroke-width:2.0px;stroke-linecap:butt;stroke-linejoin:miter;stroke-opacity:1' />\n",
       "<path class='bond-24 atom-16 atom-22' d='M 152.9,202.8 L 165.1,183.7' style='fill:none;fill-rule:evenodd;stroke:#000000;stroke-width:2.0px;stroke-linecap:butt;stroke-linejoin:miter;stroke-opacity:1' />\n",
       "<path class='bond-25 atom-16 atom-25' d='M 155.1,207.0 L 160.1,216.7' style='fill:none;fill-rule:evenodd;stroke:#000000;stroke-width:2.0px;stroke-linecap:butt;stroke-linejoin:miter;stroke-opacity:1' />\n",
       "<path class='bond-25 atom-16 atom-25' d='M 160.1,216.7 L 165.2,226.5' style='fill:none;fill-rule:evenodd;stroke:#33CCCC;stroke-width:2.0px;stroke-linecap:butt;stroke-linejoin:miter;stroke-opacity:1' />\n",
       "<path class='bond-26 atom-17 atom-23' d='M 186.8,113.5 L 199.4,137.8' style='fill:none;fill-rule:evenodd;stroke:#000000;stroke-width:2.0px;stroke-linecap:butt;stroke-linejoin:miter;stroke-opacity:1' />\n",
       "<path class='bond-27 atom-17 atom-27' d='M 186.8,113.5 L 192.6,104.3' style='fill:none;fill-rule:evenodd;stroke:#000000;stroke-width:2.0px;stroke-linecap:butt;stroke-linejoin:miter;stroke-opacity:1' />\n",
       "<path class='bond-27 atom-17 atom-27' d='M 192.6,104.3 L 198.5,95.2' style='fill:none;fill-rule:evenodd;stroke:#0000FF;stroke-width:2.0px;stroke-linecap:butt;stroke-linejoin:miter;stroke-opacity:1' />\n",
       "<path class='bond-28 atom-18 atom-23' d='M 212.0,162.1 L 199.4,137.8' style='fill:none;fill-rule:evenodd;stroke:#000000;stroke-width:2.0px;stroke-linecap:butt;stroke-linejoin:miter;stroke-opacity:1' />\n",
       "<path class='bond-29 atom-18 atom-30' d='M 212.0,162.1 L 206.1,171.2' style='fill:none;fill-rule:evenodd;stroke:#000000;stroke-width:2.0px;stroke-linecap:butt;stroke-linejoin:miter;stroke-opacity:1' />\n",
       "<path class='bond-29 atom-18 atom-30' d='M 206.1,171.2 L 200.3,180.4' style='fill:none;fill-rule:evenodd;stroke:#0000FF;stroke-width:2.0px;stroke-linecap:butt;stroke-linejoin:miter;stroke-opacity:1' />\n",
       "<path class='bond-30 atom-19 atom-32' d='M 252.8,142.3 L 264.8,142.9' style='fill:none;fill-rule:evenodd;stroke:#000000;stroke-width:2.0px;stroke-linecap:butt;stroke-linejoin:miter;stroke-opacity:1' />\n",
       "<path class='bond-30 atom-19 atom-32' d='M 264.8,142.9 L 276.9,143.4' style='fill:none;fill-rule:evenodd;stroke:#FF0000;stroke-width:2.0px;stroke-linecap:butt;stroke-linejoin:miter;stroke-opacity:1' />\n",
       "<path class='bond-30 atom-19 atom-32' d='M 253.0,138.2 L 265.0,138.8' style='fill:none;fill-rule:evenodd;stroke:#000000;stroke-width:2.0px;stroke-linecap:butt;stroke-linejoin:miter;stroke-opacity:1' />\n",
       "<path class='bond-30 atom-19 atom-32' d='M 265.0,138.8 L 277.1,139.3' style='fill:none;fill-rule:evenodd;stroke:#FF0000;stroke-width:2.0px;stroke-linecap:butt;stroke-linejoin:miter;stroke-opacity:1' />\n",
       "<path class='bond-31 atom-19 atom-33' d='M 254.1,140.3 L 249.1,130.6' style='fill:none;fill-rule:evenodd;stroke:#000000;stroke-width:2.0px;stroke-linecap:butt;stroke-linejoin:miter;stroke-opacity:1' />\n",
       "<path class='bond-31 atom-19 atom-33' d='M 249.1,130.6 L 244.1,120.9' style='fill:none;fill-rule:evenodd;stroke:#FF0000;stroke-width:2.0px;stroke-linecap:butt;stroke-linejoin:miter;stroke-opacity:1' />\n",
       "<path class='bond-32 atom-20 atom-31' d='M 129.9,158.3 L 141.7,158.9' style='fill:none;fill-rule:evenodd;stroke:#000000;stroke-width:2.0px;stroke-linecap:butt;stroke-linejoin:miter;stroke-opacity:1' />\n",
       "<path class='bond-32 atom-20 atom-31' d='M 141.7,158.9 L 153.4,159.4' style='fill:none;fill-rule:evenodd;stroke:#0000FF;stroke-width:2.0px;stroke-linecap:butt;stroke-linejoin:miter;stroke-opacity:1' />\n",
       "<path class='bond-32 atom-20 atom-31' d='M 132.1,162.5 L 142.7,163.0' style='fill:none;fill-rule:evenodd;stroke:#000000;stroke-width:2.0px;stroke-linecap:butt;stroke-linejoin:miter;stroke-opacity:1' />\n",
       "<path class='bond-32 atom-20 atom-31' d='M 142.7,163.0 L 153.2,163.5' style='fill:none;fill-rule:evenodd;stroke:#0000FF;stroke-width:2.0px;stroke-linecap:butt;stroke-linejoin:miter;stroke-opacity:1' />\n",
       "<path class='bond-33 atom-21 atom-28' d='M 85.8,102.9 L 74.9,98.8' style='fill:none;fill-rule:evenodd;stroke:#000000;stroke-width:2.0px;stroke-linecap:butt;stroke-linejoin:miter;stroke-opacity:1' />\n",
       "<path class='bond-33 atom-21 atom-28' d='M 74.9,98.8 L 64.0,94.7' style='fill:none;fill-rule:evenodd;stroke:#0000FF;stroke-width:2.0px;stroke-linecap:butt;stroke-linejoin:miter;stroke-opacity:1' />\n",
       "<path class='bond-34 atom-21 atom-29' d='M 85.8,102.9 L 96.0,97.6' style='fill:none;fill-rule:evenodd;stroke:#000000;stroke-width:2.0px;stroke-linecap:butt;stroke-linejoin:miter;stroke-opacity:1' />\n",
       "<path class='bond-34 atom-21 atom-29' d='M 96.0,97.6 L 106.3,92.3' style='fill:none;fill-rule:evenodd;stroke:#0000FF;stroke-width:2.0px;stroke-linecap:butt;stroke-linejoin:miter;stroke-opacity:1' />\n",
       "<path class='bond-35 atom-22 atom-30' d='M 169.8,183.9 L 181.6,184.5' style='fill:none;fill-rule:evenodd;stroke:#000000;stroke-width:2.0px;stroke-linecap:butt;stroke-linejoin:miter;stroke-opacity:1' />\n",
       "<path class='bond-35 atom-22 atom-30' d='M 181.6,184.5 L 193.4,185.0' style='fill:none;fill-rule:evenodd;stroke:#0000FF;stroke-width:2.0px;stroke-linecap:butt;stroke-linejoin:miter;stroke-opacity:1' />\n",
       "<path class='bond-36 atom-22 atom-31' d='M 169.8,183.9 L 164.8,174.1' style='fill:none;fill-rule:evenodd;stroke:#000000;stroke-width:2.0px;stroke-linecap:butt;stroke-linejoin:miter;stroke-opacity:1' />\n",
       "<path class='bond-36 atom-22 atom-31' d='M 164.8,174.1 L 159.7,164.4' style='fill:none;fill-rule:evenodd;stroke:#0000FF;stroke-width:2.0px;stroke-linecap:butt;stroke-linejoin:miter;stroke-opacity:1' />\n",
       "<path d='M 147.6,86.7 L 146.8,87.9 L 147.5,89.1' style='fill:none;stroke:#000000;stroke-width:2.0px;stroke-linecap:butt;stroke-linejoin:miter;stroke-opacity:1;' />\n",
       "<path d='M 160.9,66.0 L 161.6,64.8 L 163.0,64.9' style='fill:none;stroke:#000000;stroke-width:2.0px;stroke-linecap:butt;stroke-linejoin:miter;stroke-opacity:1;' />\n",
       "<path d='M 158.8,111.0 L 159.4,112.2 L 160.8,112.3' style='fill:none;stroke:#000000;stroke-width:2.0px;stroke-linecap:butt;stroke-linejoin:miter;stroke-opacity:1;' />\n",
       "<path d='M 187.6,66.0 L 189.0,66.1 L 189.2,66.6' style='fill:none;stroke:#000000;stroke-width:2.0px;stroke-linecap:butt;stroke-linejoin:miter;stroke-opacity:1;' />\n",
       "<path d='M 127.1,204.5 L 127.7,205.7 L 129.1,205.8' style='fill:none;stroke:#000000;stroke-width:2.0px;stroke-linecap:butt;stroke-linejoin:miter;stroke-opacity:1;' />\n",
       "<path d='M 67.8,146.8 L 69.1,147.3 L 70.1,146.4' style='fill:none;stroke:#000000;stroke-width:2.0px;stroke-linecap:butt;stroke-linejoin:miter;stroke-opacity:1;' />\n",
       "<path d='M 238.0,163.3 L 239.3,163.4 L 240.1,162.2' style='fill:none;stroke:#000000;stroke-width:2.0px;stroke-linecap:butt;stroke-linejoin:miter;stroke-opacity:1;' />\n",
       "<path d='M 89.1,180.2 L 87.8,180.1 L 87.2,180.1' style='fill:none;stroke:#000000;stroke-width:2.0px;stroke-linecap:butt;stroke-linejoin:miter;stroke-opacity:1;' />\n",
       "<path d='M 39.2,112.0 L 39.0,110.6 L 39.4,110.2' style='fill:none;stroke:#000000;stroke-width:2.0px;stroke-linecap:butt;stroke-linejoin:miter;stroke-opacity:1;' />\n",
       "<path d='M 129.0,110.8 L 129.6,109.5 L 129.2,109.2' style='fill:none;stroke:#000000;stroke-width:2.0px;stroke-linecap:butt;stroke-linejoin:miter;stroke-opacity:1;' />\n",
       "<path d='M 253.3,141.5 L 254.1,140.3 L 253.8,139.8' style='fill:none;stroke:#000000;stroke-width:2.0px;stroke-linecap:butt;stroke-linejoin:miter;stroke-opacity:1;' />\n",
       "<path class='atom-24' d='M 15.0 155.3\n",
       "Q 15.0 153.3, 15.9 152.3\n",
       "Q 16.8 151.3, 18.5 151.3\n",
       "Q 20.1 151.3, 21.0 152.4\n",
       "L 20.3 153.0\n",
       "Q 19.6 152.2, 18.5 152.2\n",
       "Q 17.4 152.2, 16.7 153.0\n",
       "Q 16.1 153.8, 16.1 155.3\n",
       "Q 16.1 156.8, 16.8 157.6\n",
       "Q 17.4 158.4, 18.6 158.4\n",
       "Q 19.5 158.4, 20.5 157.9\n",
       "L 20.8 158.7\n",
       "Q 20.4 158.9, 19.8 159.1\n",
       "Q 19.2 159.2, 18.5 159.2\n",
       "Q 16.8 159.2, 15.9 158.2\n",
       "Q 15.0 157.2, 15.0 155.3\n",
       "' fill='#00CC00'/>\n",
       "<path class='atom-24' d='M 21.8 150.8\n",
       "L 22.8 150.8\n",
       "L 22.8 159.1\n",
       "L 21.8 159.1\n",
       "L 21.8 150.8\n",
       "' fill='#00CC00'/>\n",
       "<path class='atom-25' d='M 165.4 227.4\n",
       "L 170.0 227.4\n",
       "L 170.0 228.3\n",
       "L 166.4 228.3\n",
       "L 166.4 230.7\n",
       "L 169.6 230.7\n",
       "L 169.6 231.6\n",
       "L 166.4 231.6\n",
       "L 166.4 235.2\n",
       "L 165.4 235.2\n",
       "L 165.4 227.4\n",
       "' fill='#33CCCC'/>\n",
       "<path class='atom-26' d='M 58.7 175.0\n",
       "L 61.3 179.1\n",
       "Q 61.5 179.5, 61.9 180.2\n",
       "Q 62.3 181.0, 62.3 181.0\n",
       "L 62.3 175.0\n",
       "L 63.4 175.0\n",
       "L 63.4 182.8\n",
       "L 62.3 182.8\n",
       "L 59.6 178.3\n",
       "Q 59.3 177.7, 58.9 177.1\n",
       "Q 58.6 176.5, 58.5 176.3\n",
       "L 58.5 182.8\n",
       "L 57.5 182.8\n",
       "L 57.5 175.0\n",
       "L 58.7 175.0\n",
       "' fill='#0000FF'/>\n",
       "<path class='atom-27' d='M 199.8 86.5\n",
       "L 202.4 90.6\n",
       "Q 202.6 91.0, 203.0 91.8\n",
       "Q 203.4 92.5, 203.5 92.6\n",
       "L 203.5 86.5\n",
       "L 204.5 86.5\n",
       "L 204.5 94.3\n",
       "L 203.4 94.3\n",
       "L 200.7 89.8\n",
       "Q 200.4 89.3, 200.0 88.7\n",
       "Q 199.7 88.1, 199.6 87.9\n",
       "L 199.6 94.3\n",
       "L 198.6 94.3\n",
       "L 198.6 86.5\n",
       "L 199.8 86.5\n",
       "' fill='#0000FF'/>\n",
       "<path class='atom-28' d='M 58.4 89.4\n",
       "L 61.0 93.5\n",
       "Q 61.2 93.9, 61.6 94.6\n",
       "Q 62.0 95.3, 62.1 95.4\n",
       "L 62.1 89.4\n",
       "L 63.1 89.4\n",
       "L 63.1 97.1\n",
       "L 62.0 97.1\n",
       "L 59.3 92.6\n",
       "Q 59.0 92.1, 58.7 91.5\n",
       "Q 58.3 90.9, 58.2 90.7\n",
       "L 58.2 97.1\n",
       "L 57.2 97.1\n",
       "L 57.2 89.4\n",
       "L 58.4 89.4\n",
       "' fill='#0000FF'/>\n",
       "<path class='atom-29' d='M 108.4 86.4\n",
       "L 110.9 90.5\n",
       "Q 111.2 90.9, 111.6 91.7\n",
       "Q 112.0 92.4, 112.0 92.4\n",
       "L 112.0 86.4\n",
       "L 113.0 86.4\n",
       "L 113.0 94.2\n",
       "L 112.0 94.2\n",
       "L 109.3 89.7\n",
       "Q 108.9 89.2, 108.6 88.6\n",
       "Q 108.3 88.0, 108.2 87.8\n",
       "L 108.2 94.2\n",
       "L 107.2 94.2\n",
       "L 107.2 86.4\n",
       "L 108.4 86.4\n",
       "' fill='#0000FF'/>\n",
       "<path class='atom-29' d='M 107.1 77.9\n",
       "L 108.1 77.9\n",
       "L 108.1 81.2\n",
       "L 112.1 81.2\n",
       "L 112.1 77.9\n",
       "L 113.1 77.9\n",
       "L 113.1 85.6\n",
       "L 112.1 85.6\n",
       "L 112.1 82.1\n",
       "L 108.1 82.1\n",
       "L 108.1 85.6\n",
       "L 107.1 85.6\n",
       "L 107.1 77.9\n",
       "' fill='#0000FF'/>\n",
       "<path class='atom-30' d='M 195.5 181.3\n",
       "L 198.0 185.4\n",
       "Q 198.3 185.8, 198.7 186.5\n",
       "Q 199.1 187.3, 199.1 187.3\n",
       "L 199.1 181.3\n",
       "L 200.1 181.3\n",
       "L 200.1 189.0\n",
       "L 199.1 189.0\n",
       "L 196.3 184.6\n",
       "Q 196.0 184.0, 195.7 183.4\n",
       "Q 195.4 182.8, 195.3 182.6\n",
       "L 195.3 189.0\n",
       "L 194.3 189.0\n",
       "L 194.3 181.3\n",
       "L 195.5 181.3\n",
       "' fill='#0000FF'/>\n",
       "<path class='atom-30' d='M 201.6 181.3\n",
       "L 202.7 181.3\n",
       "L 202.7 184.6\n",
       "L 206.7 184.6\n",
       "L 206.7 181.3\n",
       "L 207.7 181.3\n",
       "L 207.7 189.0\n",
       "L 206.7 189.0\n",
       "L 206.7 185.5\n",
       "L 202.7 185.5\n",
       "L 202.7 189.0\n",
       "L 201.6 189.0\n",
       "L 201.6 181.3\n",
       "' fill='#0000FF'/>\n",
       "<path class='atom-31' d='M 155.5 155.7\n",
       "L 158.1 159.8\n",
       "Q 158.3 160.2, 158.7 161.0\n",
       "Q 159.1 161.7, 159.2 161.7\n",
       "L 159.2 155.7\n",
       "L 160.2 155.7\n",
       "L 160.2 163.5\n",
       "L 159.1 163.5\n",
       "L 156.4 159.0\n",
       "Q 156.1 158.5, 155.7 157.8\n",
       "Q 155.4 157.2, 155.3 157.1\n",
       "L 155.3 163.5\n",
       "L 154.3 163.5\n",
       "L 154.3 155.7\n",
       "L 155.5 155.7\n",
       "' fill='#0000FF'/>\n",
       "<path class='atom-32' d='M 277.9 141.6\n",
       "Q 277.9 139.7, 278.8 138.7\n",
       "Q 279.7 137.6, 281.4 137.6\n",
       "Q 283.2 137.6, 284.1 138.7\n",
       "Q 285.0 139.7, 285.0 141.6\n",
       "Q 285.0 143.5, 284.1 144.5\n",
       "Q 283.1 145.6, 281.4 145.6\n",
       "Q 279.7 145.6, 278.8 144.5\n",
       "Q 277.9 143.5, 277.9 141.6\n",
       "M 281.4 144.7\n",
       "Q 282.6 144.7, 283.3 143.9\n",
       "Q 283.9 143.1, 283.9 141.6\n",
       "Q 283.9 140.1, 283.3 139.3\n",
       "Q 282.6 138.5, 281.4 138.5\n",
       "Q 280.3 138.5, 279.6 139.3\n",
       "Q 279.0 140.1, 279.0 141.6\n",
       "Q 279.0 143.2, 279.6 143.9\n",
       "Q 280.3 144.7, 281.4 144.7\n",
       "' fill='#FF0000'/>\n",
       "<path class='atom-33' d='M 230.3 112.2\n",
       "L 231.3 112.2\n",
       "L 231.3 115.5\n",
       "L 235.3 115.5\n",
       "L 235.3 112.2\n",
       "L 236.3 112.2\n",
       "L 236.3 119.9\n",
       "L 235.3 119.9\n",
       "L 235.3 116.3\n",
       "L 231.3 116.3\n",
       "L 231.3 119.9\n",
       "L 230.3 119.9\n",
       "L 230.3 112.2\n",
       "' fill='#FF0000'/>\n",
       "<path class='atom-33' d='M 237.9 116.0\n",
       "Q 237.9 114.1, 238.9 113.1\n",
       "Q 239.8 112.1, 241.5 112.1\n",
       "Q 243.2 112.1, 244.1 113.1\n",
       "Q 245.1 114.1, 245.1 116.0\n",
       "Q 245.1 117.9, 244.1 119.0\n",
       "Q 243.2 120.0, 241.5 120.0\n",
       "Q 239.8 120.0, 238.9 119.0\n",
       "Q 237.9 117.9, 237.9 116.0\n",
       "M 241.5 119.2\n",
       "Q 242.7 119.2, 243.3 118.4\n",
       "Q 244.0 117.6, 244.0 116.0\n",
       "Q 244.0 114.5, 243.3 113.7\n",
       "Q 242.7 112.9, 241.5 112.9\n",
       "Q 240.3 112.9, 239.7 113.7\n",
       "Q 239.0 114.5, 239.0 116.0\n",
       "Q 239.0 117.6, 239.7 118.4\n",
       "Q 240.3 119.2, 241.5 119.2\n",
       "' fill='#FF0000'/>\n",
       "</svg>\n",
       "</div>"
      ],
      "text/plain": [
       "<IPython.core.display.HTML object>"
      ]
     },
     "metadata": {},
     "output_type": "display_data"
    },
    {
     "data": {
      "text/markdown": [
       "<span style=\"color: #ccc\">Next up, you can run: </span>`result open`/`edit`/`copy`/`display`/`as dataframe`/`save [as '<filename.csv>']` <br> \n"
      ],
      "text/plain": [
       "<IPython.core.display.Markdown object>"
      ]
     },
     "metadata": {},
     "output_type": "display_data"
    },
    {
     "data": {
      "text/html": [
       "<style type=\"text/css\">\n",
       "</style>\n",
       "<table id=\"T_ab7d7\">\n",
       "  <thead>\n",
       "    <tr>\n",
       "      <th id=\"T_ab7d7_level0_col0\" class=\"col_heading level0 col0\" >Patent ID</th>\n",
       "    </tr>\n",
       "  </thead>\n",
       "  <tbody>\n",
       "    <tr>\n",
       "      <td id=\"T_ab7d7_row0_col0\" class=\"data row0 col0\" >CN108473493A</td>\n",
       "    </tr>\n",
       "    <tr>\n",
       "      <td id=\"T_ab7d7_row1_col0\" class=\"data row1 col0\" >CN108473493B</td>\n",
       "    </tr>\n",
       "    <tr>\n",
       "      <td id=\"T_ab7d7_row2_col0\" class=\"data row2 col0\" >JP0007001601B1</td>\n",
       "    </tr>\n",
       "    <tr>\n",
       "      <td id=\"T_ab7d7_row3_col0\" class=\"data row3 col0\" >JP2019505518T</td>\n",
       "    </tr>\n",
       "    <tr>\n",
       "      <td id=\"T_ab7d7_row4_col0\" class=\"data row4 col0\" >KR1020187022012</td>\n",
       "    </tr>\n",
       "    <tr>\n",
       "      <td id=\"T_ab7d7_row5_col0\" class=\"data row5 col0\" >US10526338</td>\n",
       "    </tr>\n",
       "    <tr>\n",
       "      <td id=\"T_ab7d7_row6_col0\" class=\"data row6 col0\" >US20190023713A1</td>\n",
       "    </tr>\n",
       "  </tbody>\n",
       "</table>\n"
      ],
      "text/plain": [
       "<pandas.io.formats.style.Styler at 0x177369900>"
      ]
     },
     "metadata": {},
     "output_type": "display_data"
    }
   ],
   "source": [
    "# InChI\n",
    "%openad ds find patents containing molecule InChI=1S/C24H20ClFN6O2/c1-24(2,18-5-3-4-6-28-18)19(9-20(33)34)31-23-17(26)7-13(10-27)21(32-23)16-12-30-22-15(16)8-14(25)11-29-22/h3-8,11-12,19H,9H2,1-2H3,(H,29,30)(H,31,32)(H,33,34)"
   ]
  },
  {
   "cell_type": "code",
   "execution_count": 57,
   "id": "8b88dd2d-9b0d-4ca1-8267-8092a17534ce",
   "metadata": {
    "tags": []
   },
   "outputs": [
    {
     "data": {
      "text/markdown": [
       "<span style=\"color: #090\">We found 7 patents containing the requested InChIKey: <br> \n",
       "<span style=\"color: #dc0\">JUPUMSRQQQUOLP-UHFFFAOYSA-N</span></span> <br> \n"
      ],
      "text/plain": [
       "<IPython.core.display.Markdown object>"
      ]
     },
     "metadata": {},
     "output_type": "display_data"
    },
    {
     "data": {
      "text/markdown": [
       "<span style=\"color: #ccc\">Next up, you can run: </span>`result open`/`edit`/`copy`/`display`/`as dataframe`/`save [as '<filename.csv>']` <br> \n"
      ],
      "text/plain": [
       "<IPython.core.display.Markdown object>"
      ]
     },
     "metadata": {},
     "output_type": "display_data"
    },
    {
     "data": {
      "text/html": [
       "<style type=\"text/css\">\n",
       "</style>\n",
       "<table id=\"T_80f57\">\n",
       "  <thead>\n",
       "    <tr>\n",
       "      <th id=\"T_80f57_level0_col0\" class=\"col_heading level0 col0\" >Patent ID</th>\n",
       "    </tr>\n",
       "  </thead>\n",
       "  <tbody>\n",
       "    <tr>\n",
       "      <td id=\"T_80f57_row0_col0\" class=\"data row0 col0\" >CN108473493A</td>\n",
       "    </tr>\n",
       "    <tr>\n",
       "      <td id=\"T_80f57_row1_col0\" class=\"data row1 col0\" >CN108473493B</td>\n",
       "    </tr>\n",
       "    <tr>\n",
       "      <td id=\"T_80f57_row2_col0\" class=\"data row2 col0\" >JP0007001601B1</td>\n",
       "    </tr>\n",
       "    <tr>\n",
       "      <td id=\"T_80f57_row3_col0\" class=\"data row3 col0\" >JP2019505518T</td>\n",
       "    </tr>\n",
       "    <tr>\n",
       "      <td id=\"T_80f57_row4_col0\" class=\"data row4 col0\" >KR1020187022012</td>\n",
       "    </tr>\n",
       "    <tr>\n",
       "      <td id=\"T_80f57_row5_col0\" class=\"data row5 col0\" >US10526338</td>\n",
       "    </tr>\n",
       "    <tr>\n",
       "      <td id=\"T_80f57_row6_col0\" class=\"data row6 col0\" >US20190023713A1</td>\n",
       "    </tr>\n",
       "  </tbody>\n",
       "</table>\n"
      ],
      "text/plain": [
       "<pandas.io.formats.style.Styler at 0x1773687c0>"
      ]
     },
     "metadata": {},
     "output_type": "display_data"
    },
    {
     "data": {
      "text/markdown": [
       "<span style=\"color: #ffa500\">Warning: A file with the name 'patents.csv' already exists. <br> \n",
       "<span style=\"color: #090\">Saved as <span style=\"color: #dc0\">patents-14.csv</span> instead.</span></span> <br> \n"
      ],
      "text/plain": [
       "<IPython.core.display.Markdown object>"
      ]
     },
     "metadata": {},
     "output_type": "display_data"
    }
   ],
   "source": [
    "# InChIKey unquoted\n",
    "# Note: No molecule preview for InChIKey identifier\n",
    "%openad ds find patents containing molecule JUPUMSRQQQUOLP-UHFFFAOYSA-N save as 'patents'"
   ]
  },
  {
   "cell_type": "code",
   "execution_count": 58,
   "id": "b6149683-db5c-41c7-88c8-8c38e90128bc",
   "metadata": {
    "tags": []
   },
   "outputs": [
    {
     "data": {
      "text/markdown": [
       "<span style=\"color: #090\">We found 7 patents containing the requested InChIKey: <br> \n",
       "<span style=\"color: #dc0\">JUPUMSRQQQUOLP-UHFFFAOYSA-N</span></span> <br> \n"
      ],
      "text/plain": [
       "<IPython.core.display.Markdown object>"
      ]
     },
     "metadata": {},
     "output_type": "display_data"
    },
    {
     "data": {
      "text/markdown": [
       "<span style=\"color: #ccc\">Next up, you can run: </span>`result open`/`edit`/`copy`/`display`/`as dataframe`/`save [as '<filename.csv>']` <br> \n"
      ],
      "text/plain": [
       "<IPython.core.display.Markdown object>"
      ]
     },
     "metadata": {},
     "output_type": "display_data"
    },
    {
     "data": {
      "text/html": [
       "<style type=\"text/css\">\n",
       "</style>\n",
       "<table id=\"T_b6784\">\n",
       "  <thead>\n",
       "    <tr>\n",
       "      <th id=\"T_b6784_level0_col0\" class=\"col_heading level0 col0\" >Patent ID</th>\n",
       "    </tr>\n",
       "  </thead>\n",
       "  <tbody>\n",
       "    <tr>\n",
       "      <td id=\"T_b6784_row0_col0\" class=\"data row0 col0\" >CN108473493A</td>\n",
       "    </tr>\n",
       "    <tr>\n",
       "      <td id=\"T_b6784_row1_col0\" class=\"data row1 col0\" >CN108473493B</td>\n",
       "    </tr>\n",
       "    <tr>\n",
       "      <td id=\"T_b6784_row2_col0\" class=\"data row2 col0\" >JP0007001601B1</td>\n",
       "    </tr>\n",
       "    <tr>\n",
       "      <td id=\"T_b6784_row3_col0\" class=\"data row3 col0\" >JP2019505518T</td>\n",
       "    </tr>\n",
       "    <tr>\n",
       "      <td id=\"T_b6784_row4_col0\" class=\"data row4 col0\" >KR1020187022012</td>\n",
       "    </tr>\n",
       "    <tr>\n",
       "      <td id=\"T_b6784_row5_col0\" class=\"data row5 col0\" >US10526338</td>\n",
       "    </tr>\n",
       "    <tr>\n",
       "      <td id=\"T_b6784_row6_col0\" class=\"data row6 col0\" >US20190023713A1</td>\n",
       "    </tr>\n",
       "  </tbody>\n",
       "</table>\n"
      ],
      "text/plain": [
       "<pandas.io.formats.style.Styler at 0x17736af80>"
      ]
     },
     "metadata": {},
     "output_type": "display_data"
    }
   ],
   "source": [
    "# InChIKey quoted\n",
    "%openad ds find patents containing molecule 'JUPUMSRQQQUOLP-UHFFFAOYSA-N'"
   ]
  },
  {
   "cell_type": "code",
   "execution_count": 60,
   "id": "9750b54d-ab05-448b-ab3f-d668ca60eba1",
   "metadata": {
    "tags": []
   },
   "outputs": [
    {
     "data": {
      "text/html": [
       "<div>\n",
       "<style scoped>\n",
       "    .dataframe tbody tr th:only-of-type {\n",
       "        vertical-align: middle;\n",
       "    }\n",
       "\n",
       "    .dataframe tbody tr th {\n",
       "        vertical-align: top;\n",
       "    }\n",
       "\n",
       "    .dataframe thead th {\n",
       "        text-align: right;\n",
       "    }\n",
       "</style>\n",
       "<table border=\"1\" class=\"dataframe\">\n",
       "  <thead>\n",
       "    <tr style=\"text-align: right;\">\n",
       "      <th></th>\n",
       "      <th>Patent ID</th>\n",
       "    </tr>\n",
       "  </thead>\n",
       "  <tbody>\n",
       "    <tr>\n",
       "      <th>0</th>\n",
       "      <td>CN108473493A</td>\n",
       "    </tr>\n",
       "    <tr>\n",
       "      <th>1</th>\n",
       "      <td>CN108473493B</td>\n",
       "    </tr>\n",
       "    <tr>\n",
       "      <th>2</th>\n",
       "      <td>JP0007001601B1</td>\n",
       "    </tr>\n",
       "    <tr>\n",
       "      <th>3</th>\n",
       "      <td>JP2019505518T</td>\n",
       "    </tr>\n",
       "    <tr>\n",
       "      <th>4</th>\n",
       "      <td>KR1020187022012</td>\n",
       "    </tr>\n",
       "    <tr>\n",
       "      <th>5</th>\n",
       "      <td>US10526338</td>\n",
       "    </tr>\n",
       "    <tr>\n",
       "      <th>6</th>\n",
       "      <td>US20190023713A1</td>\n",
       "    </tr>\n",
       "  </tbody>\n",
       "</table>\n",
       "</div>"
      ],
      "text/plain": [
       "         Patent ID\n",
       "0     CN108473493A\n",
       "1     CN108473493B\n",
       "2   JP0007001601B1\n",
       "3    JP2019505518T\n",
       "4  KR1020187022012\n",
       "5       US10526338\n",
       "6  US20190023713A1"
      ]
     },
     "execution_count": 60,
     "metadata": {},
     "output_type": "execute_result"
    }
   ],
   "source": [
    "# Data API\n",
    "data = %openadd ds find patents containing molecule JUPUMSRQQQUOLP-UHFFFAOYSA-N\n",
    "data"
   ]
  },
  {
   "cell_type": "markdown",
   "id": "c7023c88-ed0f-4d9c-9dd2-229f86d77e50",
   "metadata": {},
   "source": [
    "<br>"
   ]
  },
  {
   "cell_type": "markdown",
   "id": "575948ca-bf1f-4a3a-9aa2-75ecb1103f0d",
   "metadata": {},
   "source": [
    "### Enrich molecule working set with Deep Search analysis"
   ]
  },
  {
   "cell_type": "code",
   "execution_count": 61,
   "id": "7ea49c41-1a52-457b-a0e1-d153e91cb7bf",
   "metadata": {
    "tags": []
   },
   "outputs": [
    {
     "data": {
      "text/markdown": [
       "<span style=\"color: #090\">Analysis results have been cleared</span> <br> \n"
      ],
      "text/plain": [
       "<IPython.core.display.Markdown object>"
      ]
     },
     "execution_count": 61,
     "metadata": {},
     "output_type": "execute_result"
    },
    {
     "data": {
      "text/markdown": [
       "<span style=\"color: #dc0\">Clear the molecule working set?</span> <br> \n"
      ],
      "text/plain": [
       "<IPython.core.display.Markdown object>"
      ]
     },
     "metadata": {},
     "output_type": "display_data"
    },
    {
     "name": "stdin",
     "output_type": "stream",
     "text": [
      "(y/n):  y\n"
     ]
    },
    {
     "data": {
      "text/markdown": [
       "<span style=\"color: #090\">Molecule working set was cleared</span> <br> \n"
      ],
      "text/plain": [
       "<IPython.core.display.Markdown object>"
      ]
     },
     "metadata": {},
     "output_type": "display_data"
    },
    {
     "data": {
      "text/markdown": [
       "<span style=\"color: #090\">We found 20 patents containing the requested SMILES: <br> \n",
       "<span style=\"color: #dc0\">CC(=O)N1CCC2(CC1)c1cc(C#CC3OC(CO)C(O)C(O)C3O)ccc1-c1ccc(C#CC3OC(CO)C(O)C(O)C3O)cc12</span></span> <br> \n"
      ],
      "text/plain": [
       "<IPython.core.display.Markdown object>"
      ]
     },
     "metadata": {},
     "output_type": "display_data"
    },
    {
     "data": {
      "text/html": [
       "<div style=\"width:300px; height: 300px; margin: 30px 0; border: solid 1px #ddd; display: inline-block; padding: 32px; position: relative\"><div style=\"position: absolute; top: 8px; left: 8px; font-size: 12px; line-height: 12px; color: #999;\">INPUT MOLECULE</div><?xml version='1.0' encoding='iso-8859-1'?>\n",
       "<svg version='1.1' baseProfile='full'\n",
       "              xmlns='http://www.w3.org/2000/svg'\n",
       "                      xmlns:rdkit='http://www.rdkit.org/xml'\n",
       "                      xmlns:xlink='http://www.w3.org/1999/xlink'\n",
       "                  xml:space='preserve'\n",
       "width='300px' height='300px' viewBox='0 0 300 300'>\n",
       "<!-- END OF HEADER -->\n",
       "<rect style='opacity:1.0;fill:#FFFFFF;stroke:none' width='300.0' height='300.0' x='0.0' y='0.0'> </rect>\n",
       "<path class='bond-0 atom-0 atom-1' d='M 137.6,197.5 L 150.8,189.6' style='fill:none;fill-rule:evenodd;stroke:#000000;stroke-width:2.0px;stroke-linecap:butt;stroke-linejoin:miter;stroke-opacity:1' />\n",
       "<path class='bond-1 atom-1 atom-2' d='M 149.7,190.3 L 155.5,193.5' style='fill:none;fill-rule:evenodd;stroke:#000000;stroke-width:2.0px;stroke-linecap:butt;stroke-linejoin:miter;stroke-opacity:1' />\n",
       "<path class='bond-1 atom-1 atom-2' d='M 155.5,193.5 L 161.3,196.7' style='fill:none;fill-rule:evenodd;stroke:#FF0000;stroke-width:2.0px;stroke-linecap:butt;stroke-linejoin:miter;stroke-opacity:1' />\n",
       "<path class='bond-1 atom-1 atom-2' d='M 150.8,188.2 L 156.6,191.4' style='fill:none;fill-rule:evenodd;stroke:#000000;stroke-width:2.0px;stroke-linecap:butt;stroke-linejoin:miter;stroke-opacity:1' />\n",
       "<path class='bond-1 atom-1 atom-2' d='M 156.6,191.4 L 162.4,194.7' style='fill:none;fill-rule:evenodd;stroke:#FF0000;stroke-width:2.0px;stroke-linecap:butt;stroke-linejoin:miter;stroke-opacity:1' />\n",
       "<path class='bond-2 atom-1 atom-3' d='M 150.8,189.6 L 150.7,183.2' style='fill:none;fill-rule:evenodd;stroke:#000000;stroke-width:2.0px;stroke-linecap:butt;stroke-linejoin:miter;stroke-opacity:1' />\n",
       "<path class='bond-2 atom-1 atom-3' d='M 150.7,183.2 L 150.6,176.8' style='fill:none;fill-rule:evenodd;stroke:#0000FF;stroke-width:2.0px;stroke-linecap:butt;stroke-linejoin:miter;stroke-opacity:1' />\n",
       "<path class='bond-3 atom-3 atom-4' d='M 148.4,172.9 L 142.7,169.7' style='fill:none;fill-rule:evenodd;stroke:#0000FF;stroke-width:2.0px;stroke-linecap:butt;stroke-linejoin:miter;stroke-opacity:1' />\n",
       "<path class='bond-3 atom-3 atom-4' d='M 142.7,169.7 L 137.1,166.6' style='fill:none;fill-rule:evenodd;stroke:#000000;stroke-width:2.0px;stroke-linecap:butt;stroke-linejoin:miter;stroke-opacity:1' />\n",
       "<path class='bond-4 atom-4 atom-5' d='M 137.1,166.6 L 136.8,151.1' style='fill:none;fill-rule:evenodd;stroke:#000000;stroke-width:2.0px;stroke-linecap:butt;stroke-linejoin:miter;stroke-opacity:1' />\n",
       "<path class='bond-5 atom-5 atom-6' d='M 136.8,151.1 L 150.1,143.2' style='fill:none;fill-rule:evenodd;stroke:#000000;stroke-width:2.0px;stroke-linecap:butt;stroke-linejoin:miter;stroke-opacity:1' />\n",
       "<path class='bond-6 atom-6 atom-7' d='M 150.1,143.2 L 163.6,150.7' style='fill:none;fill-rule:evenodd;stroke:#000000;stroke-width:2.0px;stroke-linecap:butt;stroke-linejoin:miter;stroke-opacity:1' />\n",
       "<path class='bond-7 atom-7 atom-8' d='M 163.6,150.7 L 163.9,166.1' style='fill:none;fill-rule:evenodd;stroke:#000000;stroke-width:2.0px;stroke-linecap:butt;stroke-linejoin:miter;stroke-opacity:1' />\n",
       "<path class='bond-8 atom-6 atom-9' d='M 150.1,143.2 L 162.4,133.9' style='fill:none;fill-rule:evenodd;stroke:#000000;stroke-width:2.0px;stroke-linecap:butt;stroke-linejoin:miter;stroke-opacity:1' />\n",
       "<path class='bond-9 atom-9 atom-10' d='M 162.4,133.9 L 177.6,136.8' style='fill:none;fill-rule:evenodd;stroke:#000000;stroke-width:2.0px;stroke-linecap:butt;stroke-linejoin:miter;stroke-opacity:1' />\n",
       "<path class='bond-9 atom-9 atom-10' d='M 164.2,131.8 L 176.8,134.3' style='fill:none;fill-rule:evenodd;stroke:#000000;stroke-width:2.0px;stroke-linecap:butt;stroke-linejoin:miter;stroke-opacity:1' />\n",
       "<path class='bond-10 atom-10 atom-11' d='M 177.6,136.8 L 187.8,125.2' style='fill:none;fill-rule:evenodd;stroke:#000000;stroke-width:2.0px;stroke-linecap:butt;stroke-linejoin:miter;stroke-opacity:1' />\n",
       "<path class='bond-11 atom-11 atom-12' d='M 187.8,125.2 L 203.0,128.1' style='fill:none;fill-rule:evenodd;stroke:#000000;stroke-width:2.0px;stroke-linecap:butt;stroke-linejoin:miter;stroke-opacity:1' />\n",
       "<path class='bond-12 atom-12 atom-13' d='M 203.0,128.1 L 218.1,131.1' style='fill:none;fill-rule:evenodd;stroke:#000000;stroke-width:2.0px;stroke-linecap:butt;stroke-linejoin:miter;stroke-opacity:1' />\n",
       "<path class='bond-12 atom-12 atom-13' d='M 203.4,125.9 L 218.6,128.8' style='fill:none;fill-rule:evenodd;stroke:#000000;stroke-width:2.0px;stroke-linecap:butt;stroke-linejoin:miter;stroke-opacity:1' />\n",
       "<path class='bond-12 atom-12 atom-13' d='M 202.5,130.4 L 217.7,133.4' style='fill:none;fill-rule:evenodd;stroke:#000000;stroke-width:2.0px;stroke-linecap:butt;stroke-linejoin:miter;stroke-opacity:1' />\n",
       "<path class='bond-13 atom-13 atom-14' d='M 218.1,131.1 L 233.3,134.1' style='fill:none;fill-rule:evenodd;stroke:#000000;stroke-width:2.0px;stroke-linecap:butt;stroke-linejoin:miter;stroke-opacity:1' />\n",
       "<path class='bond-14 atom-14 atom-15' d='M 233.3,134.1 L 235.4,140.0' style='fill:none;fill-rule:evenodd;stroke:#000000;stroke-width:2.0px;stroke-linecap:butt;stroke-linejoin:miter;stroke-opacity:1' />\n",
       "<path class='bond-14 atom-14 atom-15' d='M 235.4,140.0 L 237.4,146.0' style='fill:none;fill-rule:evenodd;stroke:#FF0000;stroke-width:2.0px;stroke-linecap:butt;stroke-linejoin:miter;stroke-opacity:1' />\n",
       "<path class='bond-15 atom-15 atom-16' d='M 240.9,149.2 L 247.2,150.4' style='fill:none;fill-rule:evenodd;stroke:#FF0000;stroke-width:2.0px;stroke-linecap:butt;stroke-linejoin:miter;stroke-opacity:1' />\n",
       "<path class='bond-15 atom-15 atom-16' d='M 247.2,150.4 L 253.5,151.7' style='fill:none;fill-rule:evenodd;stroke:#000000;stroke-width:2.0px;stroke-linecap:butt;stroke-linejoin:miter;stroke-opacity:1' />\n",
       "<path class='bond-16 atom-16 atom-17' d='M 253.5,151.7 L 258.6,166.3' style='fill:none;fill-rule:evenodd;stroke:#000000;stroke-width:2.0px;stroke-linecap:butt;stroke-linejoin:miter;stroke-opacity:1' />\n",
       "<path class='bond-17 atom-17 atom-18' d='M 258.6,166.3 L 254.7,170.8' style='fill:none;fill-rule:evenodd;stroke:#000000;stroke-width:2.0px;stroke-linecap:butt;stroke-linejoin:miter;stroke-opacity:1' />\n",
       "<path class='bond-17 atom-17 atom-18' d='M 254.7,170.8 L 250.8,175.2' style='fill:none;fill-rule:evenodd;stroke:#FF0000;stroke-width:2.0px;stroke-linecap:butt;stroke-linejoin:miter;stroke-opacity:1' />\n",
       "<path class='bond-18 atom-16 atom-19' d='M 253.5,151.7 L 263.7,140.0' style='fill:none;fill-rule:evenodd;stroke:#000000;stroke-width:2.0px;stroke-linecap:butt;stroke-linejoin:miter;stroke-opacity:1' />\n",
       "<path class='bond-19 atom-19 atom-20' d='M 263.7,140.0 L 270.0,141.2' style='fill:none;fill-rule:evenodd;stroke:#000000;stroke-width:2.0px;stroke-linecap:butt;stroke-linejoin:miter;stroke-opacity:1' />\n",
       "<path class='bond-19 atom-19 atom-20' d='M 270.0,141.2 L 276.4,142.5' style='fill:none;fill-rule:evenodd;stroke:#FF0000;stroke-width:2.0px;stroke-linecap:butt;stroke-linejoin:miter;stroke-opacity:1' />\n",
       "<path class='bond-20 atom-19 atom-21' d='M 263.7,140.0 L 258.7,125.4' style='fill:none;fill-rule:evenodd;stroke:#000000;stroke-width:2.0px;stroke-linecap:butt;stroke-linejoin:miter;stroke-opacity:1' />\n",
       "<path class='bond-21 atom-21 atom-22' d='M 258.7,125.4 L 262.5,120.9' style='fill:none;fill-rule:evenodd;stroke:#000000;stroke-width:2.0px;stroke-linecap:butt;stroke-linejoin:miter;stroke-opacity:1' />\n",
       "<path class='bond-21 atom-21 atom-22' d='M 262.5,120.9 L 266.4,116.5' style='fill:none;fill-rule:evenodd;stroke:#FF0000;stroke-width:2.0px;stroke-linecap:butt;stroke-linejoin:miter;stroke-opacity:1' />\n",
       "<path class='bond-22 atom-21 atom-23' d='M 258.7,125.4 L 243.5,122.4' style='fill:none;fill-rule:evenodd;stroke:#000000;stroke-width:2.0px;stroke-linecap:butt;stroke-linejoin:miter;stroke-opacity:1' />\n",
       "<path class='bond-23 atom-23 atom-24' d='M 243.5,122.4 L 241.5,116.5' style='fill:none;fill-rule:evenodd;stroke:#000000;stroke-width:2.0px;stroke-linecap:butt;stroke-linejoin:miter;stroke-opacity:1' />\n",
       "<path class='bond-23 atom-23 atom-24' d='M 241.5,116.5 L 239.4,110.6' style='fill:none;fill-rule:evenodd;stroke:#FF0000;stroke-width:2.0px;stroke-linecap:butt;stroke-linejoin:miter;stroke-opacity:1' />\n",
       "<path class='bond-24 atom-11 atom-25' d='M 187.8,125.2 L 182.8,110.5' style='fill:none;fill-rule:evenodd;stroke:#000000;stroke-width:2.0px;stroke-linecap:butt;stroke-linejoin:miter;stroke-opacity:1' />\n",
       "<path class='bond-24 atom-11 atom-25' d='M 185.2,124.7 L 181.0,112.6' style='fill:none;fill-rule:evenodd;stroke:#000000;stroke-width:2.0px;stroke-linecap:butt;stroke-linejoin:miter;stroke-opacity:1' />\n",
       "<path class='bond-25 atom-25 atom-26' d='M 182.8,110.5 L 167.6,107.6' style='fill:none;fill-rule:evenodd;stroke:#000000;stroke-width:2.0px;stroke-linecap:butt;stroke-linejoin:miter;stroke-opacity:1' />\n",
       "<path class='bond-26 atom-26 atom-27' d='M 167.6,107.6 L 157.4,119.2' style='fill:none;fill-rule:evenodd;stroke:#000000;stroke-width:2.0px;stroke-linecap:butt;stroke-linejoin:miter;stroke-opacity:1' />\n",
       "<path class='bond-26 atom-26 atom-27' d='M 168.4,110.1 L 160.0,119.8' style='fill:none;fill-rule:evenodd;stroke:#000000;stroke-width:2.0px;stroke-linecap:butt;stroke-linejoin:miter;stroke-opacity:1' />\n",
       "<path class='bond-27 atom-27 atom-28' d='M 157.4,119.2 L 141.9,119.5' style='fill:none;fill-rule:evenodd;stroke:#000000;stroke-width:2.0px;stroke-linecap:butt;stroke-linejoin:miter;stroke-opacity:1' />\n",
       "<path class='bond-28 atom-28 atom-29' d='M 141.9,119.5 L 131.4,108.2' style='fill:none;fill-rule:evenodd;stroke:#000000;stroke-width:2.0px;stroke-linecap:butt;stroke-linejoin:miter;stroke-opacity:1' />\n",
       "<path class='bond-28 atom-28 atom-29' d='M 139.3,120.1 L 130.6,110.7' style='fill:none;fill-rule:evenodd;stroke:#000000;stroke-width:2.0px;stroke-linecap:butt;stroke-linejoin:miter;stroke-opacity:1' />\n",
       "<path class='bond-29 atom-29 atom-30' d='M 131.4,108.2 L 116.3,111.6' style='fill:none;fill-rule:evenodd;stroke:#000000;stroke-width:2.0px;stroke-linecap:butt;stroke-linejoin:miter;stroke-opacity:1' />\n",
       "<path class='bond-30 atom-30 atom-31' d='M 116.3,111.6 L 111.8,126.4' style='fill:none;fill-rule:evenodd;stroke:#000000;stroke-width:2.0px;stroke-linecap:butt;stroke-linejoin:miter;stroke-opacity:1' />\n",
       "<path class='bond-30 atom-30 atom-31' d='M 118.2,113.6 L 114.4,125.8' style='fill:none;fill-rule:evenodd;stroke:#000000;stroke-width:2.0px;stroke-linecap:butt;stroke-linejoin:miter;stroke-opacity:1' />\n",
       "<path class='bond-31 atom-31 atom-32' d='M 111.8,126.4 L 96.7,129.9' style='fill:none;fill-rule:evenodd;stroke:#000000;stroke-width:2.0px;stroke-linecap:butt;stroke-linejoin:miter;stroke-opacity:1' />\n",
       "<path class='bond-32 atom-32 atom-33' d='M 96.7,129.9 L 81.6,133.4' style='fill:none;fill-rule:evenodd;stroke:#000000;stroke-width:2.0px;stroke-linecap:butt;stroke-linejoin:miter;stroke-opacity:1' />\n",
       "<path class='bond-32 atom-32 atom-33' d='M 97.2,132.2 L 82.2,135.6' style='fill:none;fill-rule:evenodd;stroke:#000000;stroke-width:2.0px;stroke-linecap:butt;stroke-linejoin:miter;stroke-opacity:1' />\n",
       "<path class='bond-32 atom-32 atom-33' d='M 96.2,127.6 L 81.1,131.1' style='fill:none;fill-rule:evenodd;stroke:#000000;stroke-width:2.0px;stroke-linecap:butt;stroke-linejoin:miter;stroke-opacity:1' />\n",
       "<path class='bond-33 atom-33 atom-34' d='M 81.6,133.4 L 66.6,136.8' style='fill:none;fill-rule:evenodd;stroke:#000000;stroke-width:2.0px;stroke-linecap:butt;stroke-linejoin:miter;stroke-opacity:1' />\n",
       "<path class='bond-34 atom-34 atom-35' d='M 66.6,136.8 L 62.6,132.5' style='fill:none;fill-rule:evenodd;stroke:#000000;stroke-width:2.0px;stroke-linecap:butt;stroke-linejoin:miter;stroke-opacity:1' />\n",
       "<path class='bond-34 atom-34 atom-35' d='M 62.6,132.5 L 58.5,128.2' style='fill:none;fill-rule:evenodd;stroke:#FF0000;stroke-width:2.0px;stroke-linecap:butt;stroke-linejoin:miter;stroke-opacity:1' />\n",
       "<path class='bond-35 atom-35 atom-36' d='M 53.5,126.1 L 47.2,127.5' style='fill:none;fill-rule:evenodd;stroke:#FF0000;stroke-width:2.0px;stroke-linecap:butt;stroke-linejoin:miter;stroke-opacity:1' />\n",
       "<path class='bond-35 atom-35 atom-36' d='M 47.2,127.5 L 41.0,129.0' style='fill:none;fill-rule:evenodd;stroke:#000000;stroke-width:2.0px;stroke-linecap:butt;stroke-linejoin:miter;stroke-opacity:1' />\n",
       "<path class='bond-36 atom-36 atom-37' d='M 41.0,129.0 L 30.4,117.6' style='fill:none;fill-rule:evenodd;stroke:#000000;stroke-width:2.0px;stroke-linecap:butt;stroke-linejoin:miter;stroke-opacity:1' />\n",
       "<path class='bond-37 atom-37 atom-38' d='M 30.4,117.6 L 32.3,111.6' style='fill:none;fill-rule:evenodd;stroke:#000000;stroke-width:2.0px;stroke-linecap:butt;stroke-linejoin:miter;stroke-opacity:1' />\n",
       "<path class='bond-37 atom-37 atom-38' d='M 32.3,111.6 L 34.1,105.6' style='fill:none;fill-rule:evenodd;stroke:#FF0000;stroke-width:2.0px;stroke-linecap:butt;stroke-linejoin:miter;stroke-opacity:1' />\n",
       "<path class='bond-38 atom-36 atom-39' d='M 41.0,129.0 L 36.4,143.8' style='fill:none;fill-rule:evenodd;stroke:#000000;stroke-width:2.0px;stroke-linecap:butt;stroke-linejoin:miter;stroke-opacity:1' />\n",
       "<path class='bond-39 atom-39 atom-40' d='M 36.4,143.8 L 30.1,145.2' style='fill:none;fill-rule:evenodd;stroke:#000000;stroke-width:2.0px;stroke-linecap:butt;stroke-linejoin:miter;stroke-opacity:1' />\n",
       "<path class='bond-39 atom-39 atom-40' d='M 30.1,145.2 L 23.9,146.6' style='fill:none;fill-rule:evenodd;stroke:#FF0000;stroke-width:2.0px;stroke-linecap:butt;stroke-linejoin:miter;stroke-opacity:1' />\n",
       "<path class='bond-40 atom-39 atom-41' d='M 36.4,143.8 L 47.0,155.1' style='fill:none;fill-rule:evenodd;stroke:#000000;stroke-width:2.0px;stroke-linecap:butt;stroke-linejoin:miter;stroke-opacity:1' />\n",
       "<path class='bond-41 atom-41 atom-42' d='M 47.0,155.1 L 45.1,161.1' style='fill:none;fill-rule:evenodd;stroke:#000000;stroke-width:2.0px;stroke-linecap:butt;stroke-linejoin:miter;stroke-opacity:1' />\n",
       "<path class='bond-41 atom-41 atom-42' d='M 45.1,161.1 L 43.3,167.1' style='fill:none;fill-rule:evenodd;stroke:#FF0000;stroke-width:2.0px;stroke-linecap:butt;stroke-linejoin:miter;stroke-opacity:1' />\n",
       "<path class='bond-42 atom-41 atom-43' d='M 47.0,155.1 L 62.0,151.6' style='fill:none;fill-rule:evenodd;stroke:#000000;stroke-width:2.0px;stroke-linecap:butt;stroke-linejoin:miter;stroke-opacity:1' />\n",
       "<path class='bond-43 atom-43 atom-44' d='M 62.0,151.6 L 66.0,155.9' style='fill:none;fill-rule:evenodd;stroke:#000000;stroke-width:2.0px;stroke-linecap:butt;stroke-linejoin:miter;stroke-opacity:1' />\n",
       "<path class='bond-43 atom-43 atom-44' d='M 66.0,155.9 L 70.0,160.2' style='fill:none;fill-rule:evenodd;stroke:#FF0000;stroke-width:2.0px;stroke-linecap:butt;stroke-linejoin:miter;stroke-opacity:1' />\n",
       "<path class='bond-44 atom-31 atom-45' d='M 111.8,126.4 L 122.3,137.7' style='fill:none;fill-rule:evenodd;stroke:#000000;stroke-width:2.0px;stroke-linecap:butt;stroke-linejoin:miter;stroke-opacity:1' />\n",
       "<path class='bond-45 atom-45 atom-46' d='M 122.3,137.7 L 137.4,134.3' style='fill:none;fill-rule:evenodd;stroke:#000000;stroke-width:2.0px;stroke-linecap:butt;stroke-linejoin:miter;stroke-opacity:1' />\n",
       "<path class='bond-45 atom-45 atom-46' d='M 123.1,135.2 L 135.6,132.3' style='fill:none;fill-rule:evenodd;stroke:#000000;stroke-width:2.0px;stroke-linecap:butt;stroke-linejoin:miter;stroke-opacity:1' />\n",
       "<path class='bond-46 atom-8 atom-3' d='M 163.9,166.1 L 158.3,169.5' style='fill:none;fill-rule:evenodd;stroke:#000000;stroke-width:2.0px;stroke-linecap:butt;stroke-linejoin:miter;stroke-opacity:1' />\n",
       "<path class='bond-46 atom-8 atom-3' d='M 158.3,169.5 L 152.8,172.8' style='fill:none;fill-rule:evenodd;stroke:#0000FF;stroke-width:2.0px;stroke-linecap:butt;stroke-linejoin:miter;stroke-opacity:1' />\n",
       "<path class='bond-47 atom-27 atom-9' d='M 157.4,119.2 L 162.4,133.9' style='fill:none;fill-rule:evenodd;stroke:#000000;stroke-width:2.0px;stroke-linecap:butt;stroke-linejoin:miter;stroke-opacity:1' />\n",
       "<path class='bond-48 atom-46 atom-28' d='M 137.4,134.3 L 141.9,119.5' style='fill:none;fill-rule:evenodd;stroke:#000000;stroke-width:2.0px;stroke-linecap:butt;stroke-linejoin:miter;stroke-opacity:1' />\n",
       "<path class='bond-49 atom-46 atom-6' d='M 137.4,134.3 L 150.1,143.2' style='fill:none;fill-rule:evenodd;stroke:#000000;stroke-width:2.0px;stroke-linecap:butt;stroke-linejoin:miter;stroke-opacity:1' />\n",
       "<path class='bond-50 atom-23 atom-14' d='M 243.5,122.4 L 233.3,134.1' style='fill:none;fill-rule:evenodd;stroke:#000000;stroke-width:2.0px;stroke-linecap:butt;stroke-linejoin:miter;stroke-opacity:1' />\n",
       "<path class='bond-51 atom-43 atom-34' d='M 62.0,151.6 L 66.6,136.8' style='fill:none;fill-rule:evenodd;stroke:#000000;stroke-width:2.0px;stroke-linecap:butt;stroke-linejoin:miter;stroke-opacity:1' />\n",
       "<path d='M 150.2,190.0 L 150.8,189.6 L 150.8,189.3' style='fill:none;stroke:#000000;stroke-width:2.0px;stroke-linecap:butt;stroke-linejoin:miter;stroke-opacity:1;' />\n",
       "<path d='M 137.3,166.7 L 137.1,166.6 L 137.1,165.8' style='fill:none;stroke:#000000;stroke-width:2.0px;stroke-linecap:butt;stroke-linejoin:miter;stroke-opacity:1;' />\n",
       "<path d='M 136.8,151.9 L 136.8,151.1 L 137.5,150.7' style='fill:none;stroke:#000000;stroke-width:2.0px;stroke-linecap:butt;stroke-linejoin:miter;stroke-opacity:1;' />\n",
       "<path d='M 162.9,150.3 L 163.6,150.7 L 163.6,151.5' style='fill:none;stroke:#000000;stroke-width:2.0px;stroke-linecap:butt;stroke-linejoin:miter;stroke-opacity:1;' />\n",
       "<path d='M 163.8,165.4 L 163.9,166.1 L 163.6,166.3' style='fill:none;stroke:#000000;stroke-width:2.0px;stroke-linecap:butt;stroke-linejoin:miter;stroke-opacity:1;' />\n",
       "<path d='M 176.9,136.7 L 177.6,136.8 L 178.1,136.3' style='fill:none;stroke:#000000;stroke-width:2.0px;stroke-linecap:butt;stroke-linejoin:miter;stroke-opacity:1;' />\n",
       "<path d='M 202.2,128.0 L 203.0,128.1 L 203.7,128.3' style='fill:none;stroke:#000000;stroke-width:2.0px;stroke-linecap:butt;stroke-linejoin:miter;stroke-opacity:1;' />\n",
       "<path d='M 217.4,131.0 L 218.1,131.1 L 218.9,131.2' style='fill:none;stroke:#000000;stroke-width:2.0px;stroke-linecap:butt;stroke-linejoin:miter;stroke-opacity:1;' />\n",
       "<path d='M 258.3,165.6 L 258.6,166.3 L 258.4,166.5' style='fill:none;stroke:#000000;stroke-width:2.0px;stroke-linecap:butt;stroke-linejoin:miter;stroke-opacity:1;' />\n",
       "<path d='M 183.0,111.3 L 182.8,110.5 L 182.0,110.4' style='fill:none;stroke:#000000;stroke-width:2.0px;stroke-linecap:butt;stroke-linejoin:miter;stroke-opacity:1;' />\n",
       "<path d='M 168.3,107.7 L 167.6,107.6 L 167.1,108.2' style='fill:none;stroke:#000000;stroke-width:2.0px;stroke-linecap:butt;stroke-linejoin:miter;stroke-opacity:1;' />\n",
       "<path d='M 131.9,108.7 L 131.4,108.2 L 130.7,108.3' style='fill:none;stroke:#000000;stroke-width:2.0px;stroke-linecap:butt;stroke-linejoin:miter;stroke-opacity:1;' />\n",
       "<path d='M 117.1,111.5 L 116.3,111.6 L 116.1,112.4' style='fill:none;stroke:#000000;stroke-width:2.0px;stroke-linecap:butt;stroke-linejoin:miter;stroke-opacity:1;' />\n",
       "<path d='M 97.5,129.7 L 96.7,129.9 L 96.0,130.1' style='fill:none;stroke:#000000;stroke-width:2.0px;stroke-linecap:butt;stroke-linejoin:miter;stroke-opacity:1;' />\n",
       "<path d='M 82.4,133.2 L 81.6,133.4 L 80.9,133.5' style='fill:none;stroke:#000000;stroke-width:2.0px;stroke-linecap:butt;stroke-linejoin:miter;stroke-opacity:1;' />\n",
       "<path d='M 30.9,118.2 L 30.4,117.6 L 30.5,117.3' style='fill:none;stroke:#000000;stroke-width:2.0px;stroke-linecap:butt;stroke-linejoin:miter;stroke-opacity:1;' />\n",
       "<path d='M 121.8,137.2 L 122.3,137.7 L 123.1,137.6' style='fill:none;stroke:#000000;stroke-width:2.0px;stroke-linecap:butt;stroke-linejoin:miter;stroke-opacity:1;' />\n",
       "<path class='atom-2' d='M 162.4 197.1\n",
       "Q 162.4 196.0, 162.9 195.5\n",
       "Q 163.4 194.9, 164.4 194.9\n",
       "Q 165.3 194.9, 165.9 195.5\n",
       "Q 166.4 196.0, 166.4 197.1\n",
       "Q 166.4 198.2, 165.9 198.8\n",
       "Q 165.3 199.4, 164.4 199.4\n",
       "Q 163.4 199.4, 162.9 198.8\n",
       "Q 162.4 198.2, 162.4 197.1\n",
       "M 164.4 198.9\n",
       "Q 165.0 198.9, 165.4 198.4\n",
       "Q 165.8 198.0, 165.8 197.1\n",
       "Q 165.8 196.2, 165.4 195.8\n",
       "Q 165.0 195.4, 164.4 195.4\n",
       "Q 163.7 195.4, 163.3 195.8\n",
       "Q 163.0 196.2, 163.0 197.1\n",
       "Q 163.0 198.0, 163.3 198.4\n",
       "Q 163.7 198.9, 164.4 198.9\n",
       "' fill='#FF0000'/>\n",
       "<path class='atom-3' d='M 149.6 171.9\n",
       "L 151.1 174.2\n",
       "Q 151.2 174.5, 151.4 174.9\n",
       "Q 151.7 175.3, 151.7 175.3\n",
       "L 151.7 171.9\n",
       "L 152.2 171.9\n",
       "L 152.2 176.3\n",
       "L 151.6 176.3\n",
       "L 150.1 173.8\n",
       "Q 149.9 173.5, 149.7 173.1\n",
       "Q 149.6 172.8, 149.5 172.7\n",
       "L 149.5 176.3\n",
       "L 148.9 176.3\n",
       "L 148.9 171.9\n",
       "L 149.6 171.9\n",
       "' fill='#0000FF'/>\n",
       "<path class='atom-15' d='M 236.3 148.7\n",
       "Q 236.3 147.7, 236.9 147.1\n",
       "Q 237.4 146.5, 238.4 146.5\n",
       "Q 239.3 146.5, 239.8 147.1\n",
       "Q 240.4 147.7, 240.4 148.7\n",
       "Q 240.4 149.8, 239.8 150.4\n",
       "Q 239.3 151.0, 238.4 151.0\n",
       "Q 237.4 151.0, 236.9 150.4\n",
       "Q 236.3 149.8, 236.3 148.7\n",
       "M 238.4 150.5\n",
       "Q 239.0 150.5, 239.4 150.0\n",
       "Q 239.7 149.6, 239.7 148.7\n",
       "Q 239.7 147.9, 239.4 147.4\n",
       "Q 239.0 147.0, 238.4 147.0\n",
       "Q 237.7 147.0, 237.3 147.4\n",
       "Q 237.0 147.8, 237.0 148.7\n",
       "Q 237.0 149.6, 237.3 150.0\n",
       "Q 237.7 150.5, 238.4 150.5\n",
       "' fill='#FF0000'/>\n",
       "<path class='atom-18' d='M 242.1 175.8\n",
       "L 242.7 175.8\n",
       "L 242.7 177.7\n",
       "L 244.9 177.7\n",
       "L 244.9 175.8\n",
       "L 245.5 175.8\n",
       "L 245.5 180.2\n",
       "L 244.9 180.2\n",
       "L 244.9 178.2\n",
       "L 242.7 178.2\n",
       "L 242.7 180.2\n",
       "L 242.1 180.2\n",
       "L 242.1 175.8\n",
       "' fill='#FF0000'/>\n",
       "<path class='atom-18' d='M 246.4 178.0\n",
       "Q 246.4 176.9, 246.9 176.3\n",
       "Q 247.4 175.7, 248.4 175.7\n",
       "Q 249.4 175.7, 249.9 176.3\n",
       "Q 250.4 176.9, 250.4 178.0\n",
       "Q 250.4 179.0, 249.9 179.6\n",
       "Q 249.4 180.2, 248.4 180.2\n",
       "Q 247.4 180.2, 246.9 179.6\n",
       "Q 246.4 179.0, 246.4 178.0\n",
       "M 248.4 179.8\n",
       "Q 249.1 179.8, 249.4 179.3\n",
       "Q 249.8 178.9, 249.8 178.0\n",
       "Q 249.8 177.1, 249.4 176.7\n",
       "Q 249.1 176.2, 248.4 176.2\n",
       "Q 247.7 176.2, 247.4 176.7\n",
       "Q 247.0 177.1, 247.0 178.0\n",
       "Q 247.0 178.9, 247.4 179.3\n",
       "Q 247.7 179.8, 248.4 179.8\n",
       "' fill='#FF0000'/>\n",
       "<path class='atom-20' d='M 276.9 143.0\n",
       "Q 276.9 141.9, 277.4 141.3\n",
       "Q 277.9 140.8, 278.9 140.8\n",
       "Q 279.9 140.8, 280.4 141.3\n",
       "Q 280.9 141.9, 280.9 143.0\n",
       "Q 280.9 144.0, 280.4 144.6\n",
       "Q 279.8 145.2, 278.9 145.2\n",
       "Q 277.9 145.2, 277.4 144.6\n",
       "Q 276.9 144.0, 276.9 143.0\n",
       "M 278.9 144.8\n",
       "Q 279.5 144.8, 279.9 144.3\n",
       "Q 280.3 143.9, 280.3 143.0\n",
       "Q 280.3 142.1, 279.9 141.7\n",
       "Q 279.5 141.2, 278.9 141.2\n",
       "Q 278.2 141.2, 277.8 141.7\n",
       "Q 277.5 142.1, 277.5 143.0\n",
       "Q 277.5 143.9, 277.8 144.3\n",
       "Q 278.2 144.8, 278.9 144.8\n",
       "' fill='#FF0000'/>\n",
       "<path class='atom-20' d='M 281.6 140.8\n",
       "L 282.2 140.8\n",
       "L 282.2 142.7\n",
       "L 284.4 142.7\n",
       "L 284.4 140.8\n",
       "L 285.0 140.8\n",
       "L 285.0 145.2\n",
       "L 284.4 145.2\n",
       "L 284.4 143.2\n",
       "L 282.2 143.2\n",
       "L 282.2 145.2\n",
       "L 281.6 145.2\n",
       "L 281.6 140.8\n",
       "' fill='#FF0000'/>\n",
       "<path class='atom-22' d='M 266.8 113.7\n",
       "Q 266.8 112.7, 267.3 112.1\n",
       "Q 267.9 111.5, 268.8 111.5\n",
       "Q 269.8 111.5, 270.3 112.1\n",
       "Q 270.8 112.7, 270.8 113.7\n",
       "Q 270.8 114.8, 270.3 115.4\n",
       "Q 269.8 116.0, 268.8 116.0\n",
       "Q 267.9 116.0, 267.3 115.4\n",
       "Q 266.8 114.8, 266.8 113.7\n",
       "M 268.8 115.5\n",
       "Q 269.5 115.5, 269.9 115.0\n",
       "Q 270.2 114.6, 270.2 113.7\n",
       "Q 270.2 112.9, 269.9 112.4\n",
       "Q 269.5 112.0, 268.8 112.0\n",
       "Q 268.2 112.0, 267.8 112.4\n",
       "Q 267.4 112.8, 267.4 113.7\n",
       "Q 267.4 114.6, 267.8 115.0\n",
       "Q 268.2 115.5, 268.8 115.5\n",
       "' fill='#FF0000'/>\n",
       "<path class='atom-22' d='M 271.5 111.5\n",
       "L 272.1 111.5\n",
       "L 272.1 113.4\n",
       "L 274.4 113.4\n",
       "L 274.4 111.5\n",
       "L 275.0 111.5\n",
       "L 275.0 115.9\n",
       "L 274.4 115.9\n",
       "L 274.4 113.9\n",
       "L 272.1 113.9\n",
       "L 272.1 115.9\n",
       "L 271.5 115.9\n",
       "L 271.5 111.5\n",
       "' fill='#FF0000'/>\n",
       "<path class='atom-24' d='M 236.5 107.8\n",
       "Q 236.5 106.7, 237.0 106.1\n",
       "Q 237.5 105.6, 238.5 105.6\n",
       "Q 239.4 105.6, 240.0 106.1\n",
       "Q 240.5 106.7, 240.5 107.8\n",
       "Q 240.5 108.8, 240.0 109.5\n",
       "Q 239.4 110.1, 238.5 110.1\n",
       "Q 237.5 110.1, 237.0 109.5\n",
       "Q 236.5 108.9, 236.5 107.8\n",
       "M 238.5 109.6\n",
       "Q 239.1 109.6, 239.5 109.1\n",
       "Q 239.9 108.7, 239.9 107.8\n",
       "Q 239.9 106.9, 239.5 106.5\n",
       "Q 239.1 106.1, 238.5 106.1\n",
       "Q 237.8 106.1, 237.4 106.5\n",
       "Q 237.1 106.9, 237.1 107.8\n",
       "Q 237.1 108.7, 237.4 109.1\n",
       "Q 237.8 109.6, 238.5 109.6\n",
       "' fill='#FF0000'/>\n",
       "<path class='atom-24' d='M 241.2 105.6\n",
       "L 241.8 105.6\n",
       "L 241.8 107.5\n",
       "L 244.0 107.5\n",
       "L 244.0 105.6\n",
       "L 244.6 105.6\n",
       "L 244.6 110.0\n",
       "L 244.0 110.0\n",
       "L 244.0 108.0\n",
       "L 241.8 108.0\n",
       "L 241.8 110.0\n",
       "L 241.2 110.0\n",
       "L 241.2 105.6\n",
       "' fill='#FF0000'/>\n",
       "<path class='atom-35' d='M 54.0 125.5\n",
       "Q 54.0 124.5, 54.5 123.9\n",
       "Q 55.1 123.3, 56.0 123.3\n",
       "Q 57.0 123.3, 57.5 123.9\n",
       "Q 58.0 124.5, 58.0 125.5\n",
       "Q 58.0 126.6, 57.5 127.2\n",
       "Q 57.0 127.8, 56.0 127.8\n",
       "Q 55.1 127.8, 54.5 127.2\n",
       "Q 54.0 126.6, 54.0 125.5\n",
       "M 56.0 127.3\n",
       "Q 56.7 127.3, 57.1 126.8\n",
       "Q 57.4 126.4, 57.4 125.5\n",
       "Q 57.4 124.6, 57.1 124.2\n",
       "Q 56.7 123.8, 56.0 123.8\n",
       "Q 55.4 123.8, 55.0 124.2\n",
       "Q 54.6 124.6, 54.6 125.5\n",
       "Q 54.6 126.4, 55.0 126.8\n",
       "Q 55.4 127.3, 56.0 127.3\n",
       "' fill='#FF0000'/>\n",
       "<path class='atom-38' d='M 32.9 102.9\n",
       "Q 32.9 101.8, 33.5 101.2\n",
       "Q 34.0 100.6, 34.9 100.6\n",
       "Q 35.9 100.6, 36.4 101.2\n",
       "Q 37.0 101.8, 37.0 102.9\n",
       "Q 37.0 103.9, 36.4 104.5\n",
       "Q 35.9 105.1, 34.9 105.1\n",
       "Q 34.0 105.1, 33.5 104.5\n",
       "Q 32.9 103.9, 32.9 102.9\n",
       "M 34.9 104.6\n",
       "Q 35.6 104.6, 36.0 104.2\n",
       "Q 36.3 103.7, 36.3 102.9\n",
       "Q 36.3 102.0, 36.0 101.6\n",
       "Q 35.6 101.1, 34.9 101.1\n",
       "Q 34.3 101.1, 33.9 101.6\n",
       "Q 33.6 102.0, 33.6 102.9\n",
       "Q 33.6 103.7, 33.9 104.2\n",
       "Q 34.3 104.6, 34.9 104.6\n",
       "' fill='#FF0000'/>\n",
       "<path class='atom-38' d='M 37.6 100.7\n",
       "L 38.2 100.7\n",
       "L 38.2 102.5\n",
       "L 40.5 102.5\n",
       "L 40.5 100.7\n",
       "L 41.1 100.7\n",
       "L 41.1 105.1\n",
       "L 40.5 105.1\n",
       "L 40.5 103.0\n",
       "L 38.2 103.0\n",
       "L 38.2 105.1\n",
       "L 37.6 105.1\n",
       "L 37.6 100.7\n",
       "' fill='#FF0000'/>\n",
       "<path class='atom-40' d='M 15.0 145.1\n",
       "L 15.6 145.1\n",
       "L 15.6 146.9\n",
       "L 17.8 146.9\n",
       "L 17.8 145.1\n",
       "L 18.4 145.1\n",
       "L 18.4 149.4\n",
       "L 17.8 149.4\n",
       "L 17.8 147.4\n",
       "L 15.6 147.4\n",
       "L 15.6 149.4\n",
       "L 15.0 149.4\n",
       "L 15.0 145.1\n",
       "' fill='#FF0000'/>\n",
       "<path class='atom-40' d='M 19.3 147.2\n",
       "Q 19.3 146.2, 19.8 145.6\n",
       "Q 20.4 145.0, 21.3 145.0\n",
       "Q 22.3 145.0, 22.8 145.6\n",
       "Q 23.3 146.2, 23.3 147.2\n",
       "Q 23.3 148.3, 22.8 148.9\n",
       "Q 22.3 149.5, 21.3 149.5\n",
       "Q 20.4 149.5, 19.8 148.9\n",
       "Q 19.3 148.3, 19.3 147.2\n",
       "M 21.3 149.0\n",
       "Q 22.0 149.0, 22.4 148.6\n",
       "Q 22.7 148.1, 22.7 147.2\n",
       "Q 22.7 146.4, 22.4 145.9\n",
       "Q 22.0 145.5, 21.3 145.5\n",
       "Q 20.7 145.5, 20.3 145.9\n",
       "Q 19.9 146.4, 19.9 147.2\n",
       "Q 19.9 148.1, 20.3 148.6\n",
       "Q 20.7 149.0, 21.3 149.0\n",
       "' fill='#FF0000'/>\n",
       "<path class='atom-42' d='M 40.4 169.9\n",
       "Q 40.4 168.8, 40.9 168.2\n",
       "Q 41.4 167.7, 42.4 167.7\n",
       "Q 43.4 167.7, 43.9 168.2\n",
       "Q 44.4 168.8, 44.4 169.9\n",
       "Q 44.4 170.9, 43.9 171.5\n",
       "Q 43.4 172.1, 42.4 172.1\n",
       "Q 41.5 172.1, 40.9 171.5\n",
       "Q 40.4 170.9, 40.4 169.9\n",
       "M 42.4 171.7\n",
       "Q 43.1 171.7, 43.4 171.2\n",
       "Q 43.8 170.8, 43.8 169.9\n",
       "Q 43.8 169.0, 43.4 168.6\n",
       "Q 43.1 168.1, 42.4 168.1\n",
       "Q 41.7 168.1, 41.4 168.6\n",
       "Q 41.0 169.0, 41.0 169.9\n",
       "Q 41.0 170.8, 41.4 171.2\n",
       "Q 41.7 171.7, 42.4 171.7\n",
       "' fill='#FF0000'/>\n",
       "<path class='atom-42' d='M 45.1 167.7\n",
       "L 45.7 167.7\n",
       "L 45.7 169.6\n",
       "L 47.9 169.6\n",
       "L 47.9 167.7\n",
       "L 48.5 167.7\n",
       "L 48.5 172.1\n",
       "L 47.9 172.1\n",
       "L 47.9 170.1\n",
       "L 45.7 170.1\n",
       "L 45.7 172.1\n",
       "L 45.1 172.1\n",
       "L 45.1 167.7\n",
       "' fill='#FF0000'/>\n",
       "<path class='atom-44' d='M 70.6 162.9\n",
       "Q 70.6 161.9, 71.1 161.3\n",
       "Q 71.6 160.7, 72.6 160.7\n",
       "Q 73.5 160.7, 74.1 161.3\n",
       "Q 74.6 161.9, 74.6 162.9\n",
       "Q 74.6 164.0, 74.1 164.6\n",
       "Q 73.5 165.2, 72.6 165.2\n",
       "Q 71.6 165.2, 71.1 164.6\n",
       "Q 70.6 164.0, 70.6 162.9\n",
       "M 72.6 164.7\n",
       "Q 73.2 164.7, 73.6 164.3\n",
       "Q 74.0 163.8, 74.0 162.9\n",
       "Q 74.0 162.1, 73.6 161.7\n",
       "Q 73.2 161.2, 72.6 161.2\n",
       "Q 71.9 161.2, 71.5 161.6\n",
       "Q 71.2 162.1, 71.2 162.9\n",
       "Q 71.2 163.8, 71.5 164.3\n",
       "Q 71.9 164.7, 72.6 164.7\n",
       "' fill='#FF0000'/>\n",
       "<path class='atom-44' d='M 75.3 160.8\n",
       "L 75.9 160.8\n",
       "L 75.9 162.6\n",
       "L 78.1 162.6\n",
       "L 78.1 160.8\n",
       "L 78.7 160.8\n",
       "L 78.7 165.1\n",
       "L 78.1 165.1\n",
       "L 78.1 163.1\n",
       "L 75.9 163.1\n",
       "L 75.9 165.1\n",
       "L 75.3 165.1\n",
       "L 75.3 160.8\n",
       "' fill='#FF0000'/>\n",
       "</svg>\n",
       "</div>"
      ],
      "text/plain": [
       "<IPython.core.display.HTML object>"
      ]
     },
     "metadata": {},
     "output_type": "display_data"
    },
    {
     "data": {
      "text/markdown": [
       "<span style=\"color: #ccc\">Next up, you can run: </span>`result open`/`edit`/`copy`/`display`/`as dataframe`/`save [as '<filename.csv>']` <br> \n"
      ],
      "text/plain": [
       "<IPython.core.display.Markdown object>"
      ]
     },
     "metadata": {},
     "output_type": "display_data"
    },
    {
     "data": {
      "text/html": [
       "<style type=\"text/css\">\n",
       "</style>\n",
       "<table id=\"T_8823f\">\n",
       "  <thead>\n",
       "    <tr>\n",
       "      <th id=\"T_8823f_level0_col0\" class=\"col_heading level0 col0\" >Patent ID</th>\n",
       "    </tr>\n",
       "  </thead>\n",
       "  <tbody>\n",
       "    <tr>\n",
       "      <td id=\"T_8823f_row0_col0\" class=\"data row0 col0\" >CN112771035A</td>\n",
       "    </tr>\n",
       "    <tr>\n",
       "      <td id=\"T_8823f_row1_col0\" class=\"data row1 col0\" >CN201310071000</td>\n",
       "    </tr>\n",
       "    <tr>\n",
       "      <td id=\"T_8823f_row2_col0\" class=\"data row2 col0\" >EP13818136B1</td>\n",
       "    </tr>\n",
       "    <tr>\n",
       "      <td id=\"T_8823f_row3_col0\" class=\"data row3 col0\" >EP18174910A1</td>\n",
       "    </tr>\n",
       "    <tr>\n",
       "      <td id=\"T_8823f_row4_col0\" class=\"data row4 col0\" >JP0006412506B9</td>\n",
       "    </tr>\n",
       "    <tr>\n",
       "      <td id=\"T_8823f_row5_col0\" class=\"data row5 col0\" >JP2016503032T</td>\n",
       "    </tr>\n",
       "    <tr>\n",
       "      <td id=\"T_8823f_row6_col0\" class=\"data row6 col0\" >JP2016503032T5</td>\n",
       "    </tr>\n",
       "    <tr>\n",
       "      <td id=\"T_8823f_row7_col0\" class=\"data row7 col0\" >KR1020157019548</td>\n",
       "    </tr>\n",
       "    <tr>\n",
       "      <td id=\"T_8823f_row8_col0\" class=\"data row8 col0\" >KR1020157019548</td>\n",
       "    </tr>\n",
       "    <tr>\n",
       "      <td id=\"T_8823f_row9_col0\" class=\"data row9 col0\" >US10669298</td>\n",
       "    </tr>\n",
       "    <tr>\n",
       "      <td id=\"T_8823f_row10_col0\" class=\"data row10 col0\" >US10913761</td>\n",
       "    </tr>\n",
       "    <tr>\n",
       "      <td id=\"T_8823f_row11_col0\" class=\"data row11 col0\" >US11560399</td>\n",
       "    </tr>\n",
       "    <tr>\n",
       "      <td id=\"T_8823f_row12_col0\" class=\"data row12 col0\" >US11634447</td>\n",
       "    </tr>\n",
       "    <tr>\n",
       "      <td id=\"T_8823f_row13_col0\" class=\"data row13 col0\" >US11898210</td>\n",
       "    </tr>\n",
       "    <tr>\n",
       "      <td id=\"T_8823f_row14_col0\" class=\"data row14 col0\" >US20140243283A1</td>\n",
       "    </tr>\n",
       "    <tr>\n",
       "      <td id=\"T_8823f_row15_col0\" class=\"data row15 col0\" >US20160235775A1</td>\n",
       "    </tr>\n",
       "    <tr>\n",
       "      <td id=\"T_8823f_row16_col0\" class=\"data row16 col0\" >US20190106450A1</td>\n",
       "    </tr>\n",
       "    <tr>\n",
       "      <td id=\"T_8823f_row17_col0\" class=\"data row17 col0\" >US20200270293A1</td>\n",
       "    </tr>\n",
       "    <tr>\n",
       "      <td id=\"T_8823f_row18_col0\" class=\"data row18 col0\" >US20200277655A1</td>\n",
       "    </tr>\n",
       "    <tr>\n",
       "      <td id=\"T_8823f_row19_col0\" class=\"data row19 col0\" >US20210309682A1</td>\n",
       "    </tr>\n",
       "  </tbody>\n",
       "</table>\n"
      ],
      "text/plain": [
       "<pandas.io.formats.style.Styler at 0x177327190>"
      ]
     },
     "metadata": {},
     "output_type": "display_data"
    },
    {
     "data": {
      "text/markdown": [
       "<span style=\"color: #090\">Molecule <span style=\"color: #dc0\">Unknown</span> was added</span> <br> \n"
      ],
      "text/plain": [
       "<IPython.core.display.Markdown object>"
      ]
     },
     "metadata": {},
     "output_type": "display_data"
    },
    {
     "data": {
      "text/markdown": [
       "<span style=\"color: #090\">Molecule <span style=\"color: #dc0\">C1(C(=C)C([O-])C1C)=O</span> was added</span> <br> \n"
      ],
      "text/plain": [
       "<IPython.core.display.Markdown object>"
      ]
     },
     "metadata": {},
     "output_type": "display_data"
    },
    {
     "data": {
      "text/markdown": [
       "<span style=\"color: #090\">1/2 molecules in your working set have been enriched with the latest analysis results</span> <br> \n",
       "<span style=\"color: #ccc\">Run `show mols` to view the updated working set</span> <br> \n"
      ],
      "text/plain": [
       "<IPython.core.display.Markdown object>"
      ]
     },
     "execution_count": 61,
     "metadata": {},
     "output_type": "execute_result"
    },
    {
     "data": {
      "text/html": [
       "\n",
       "            <style>\n",
       "                #btn-wrap-1736424109 { height:12px; right:20px; display:flex; flex-direction:row-reverse; position:relative }\n",
       "                #btn-wrap-1736424109 a { color:#393939; width:24px; height:24px; padding:4px; box-sizing:border-box; background:white }\n",
       "                #btn-wrap-1736424109 a:hover { color: #0f62fe }\n",
       "            </style>\n",
       "            <div id=\"btn-wrap-1736424109\"><a target=\"_blank\" href=\"http://127.0.0.1:8025/smol/CC%28%3DO%29N1CCC2%28CC1%29C3%3DC%28C%3DCC%28%3DC3%29C%23CC4C%28C%28C%28C%28O4%29CO%29O%29O%29O%29C5%3DC2C%3DC%28C%3DC5%29C%23CC6C%28C%28C%28C%28O6%29CO%29O%29O%29O\"><svg width=\"16\" height=\"16\" viewBox=\"0 0 16 16\" fill=\"none\" xmlns=\"http://www.w3.org/2000/svg\"><path d=\"M13 14H3C2.73489 13.9996 2.48075 13.8942 2.29329 13.7067C2.10583 13.5193 2.00036 13.2651 2 13V3C2.00036 2.73489 2.10583 2.48075 2.29329 2.29329C2.48075 2.10583 2.73489 2.00036 3 2H8V3H3V13H13V8H14V13C13.9996 13.2651 13.8942 13.5193 13.7067 13.7067C13.5193 13.8942 13.2651 13.9996 13 14Z\" fill=\"currentColor\"/><path d=\"M10 1V2H13.293L9 6.293L9.707 7L14 2.707V6H15V1H10Z\" fill=\"currentColor\"/></svg></a><a href=\"#\" onclick=\"event.preventDefault(); document.querySelector('#btn-wrap-1736424109 + iframe').src=document.querySelector('#btn-wrap-1736424109 + iframe').src;\"><svg width=\"16\" height=\"16\" viewBox=\"0 0 16 16\" fill=\"none\" xmlns=\"http://www.w3.org/2000/svg\"><path d=\"M9 14C10.1867 14 11.3467 13.6481 12.3334 12.9888C13.3201 12.3295 14.0892 11.3925 14.5433 10.2961C14.9974 9.19975 15.1162 7.99335 14.8847 6.82946C14.6532 5.66558 14.0818 4.59648 13.2426 3.75736C12.4035 2.91825 11.3344 2.3468 10.1705 2.11529C9.00666 1.88378 7.80026 2.0026 6.7039 2.45673C5.60754 2.91085 4.67047 3.67989 4.01118 4.66658C3.35189 5.65328 3 6.81331 3 8V11.1L1.2 9.3L0.5 10L3.5 13L6.5 10L5.8 9.3L4 11.1V8C4 7.0111 4.29324 6.0444 4.84265 5.22215C5.39206 4.39991 6.17295 3.75904 7.08658 3.38061C8.00021 3.00217 9.00555 2.90315 9.97545 3.09608C10.9454 3.289 11.8363 3.76521 12.5355 4.46447C13.2348 5.16373 13.711 6.05465 13.9039 7.02455C14.0969 7.99446 13.9978 8.99979 13.6194 9.91342C13.241 10.8271 12.6001 11.6079 11.7779 12.1574C10.9556 12.7068 9.98891 13 9 13V14Z\" fill=\"currentColor\"/></svg></a></div><iframe src=\"http://127.0.0.1:8025/headless/smol/CC%28%3DO%29N1CCC2%28CC1%29C3%3DC%28C%3DCC%28%3DC3%29C%23CC4C%28C%28C%28C%28O4%29CO%29O%29O%29O%29C5%3DC2C%3DC%28C%3DC5%29C%23CC6C%28C%28C%28C%28O6%29CO%29O%29O%29O\" crossorigin=\"anonymous\" width=\"100%\" height=\"700\" style=\"border:solid 1px #ddd;box-sizing:border-box;width:calc(100% + 20px)\"></iframe>"
      ],
      "text/plain": [
       "<IPython.core.display.HTML object>"
      ]
     },
     "metadata": {},
     "output_type": "display_data"
    },
    {
     "data": {
      "text/html": [
       "\n",
       "            <style>\n",
       "                #btn-wrap-1736424109 { height:12px; right:20px; display:flex; flex-direction:row-reverse; position:relative }\n",
       "                #btn-wrap-1736424109 a { color:#393939; width:24px; height:24px; padding:4px; box-sizing:border-box; background:white }\n",
       "                #btn-wrap-1736424109 a:hover { color: #0f62fe }\n",
       "            </style>\n",
       "            <div id=\"btn-wrap-1736424109\"><a target=\"_blank\" href=\"http://127.0.0.1:8025/smol/C1%28C%28%3DC%29C%28%5BO-%5D%29C1C%29%3DO\"><svg width=\"16\" height=\"16\" viewBox=\"0 0 16 16\" fill=\"none\" xmlns=\"http://www.w3.org/2000/svg\"><path d=\"M13 14H3C2.73489 13.9996 2.48075 13.8942 2.29329 13.7067C2.10583 13.5193 2.00036 13.2651 2 13V3C2.00036 2.73489 2.10583 2.48075 2.29329 2.29329C2.48075 2.10583 2.73489 2.00036 3 2H8V3H3V13H13V8H14V13C13.9996 13.2651 13.8942 13.5193 13.7067 13.7067C13.5193 13.8942 13.2651 13.9996 13 14Z\" fill=\"currentColor\"/><path d=\"M10 1V2H13.293L9 6.293L9.707 7L14 2.707V6H15V1H10Z\" fill=\"currentColor\"/></svg></a><a href=\"#\" onclick=\"event.preventDefault(); document.querySelector('#btn-wrap-1736424109 + iframe').src=document.querySelector('#btn-wrap-1736424109 + iframe').src;\"><svg width=\"16\" height=\"16\" viewBox=\"0 0 16 16\" fill=\"none\" xmlns=\"http://www.w3.org/2000/svg\"><path d=\"M9 14C10.1867 14 11.3467 13.6481 12.3334 12.9888C13.3201 12.3295 14.0892 11.3925 14.5433 10.2961C14.9974 9.19975 15.1162 7.99335 14.8847 6.82946C14.6532 5.66558 14.0818 4.59648 13.2426 3.75736C12.4035 2.91825 11.3344 2.3468 10.1705 2.11529C9.00666 1.88378 7.80026 2.0026 6.7039 2.45673C5.60754 2.91085 4.67047 3.67989 4.01118 4.66658C3.35189 5.65328 3 6.81331 3 8V11.1L1.2 9.3L0.5 10L3.5 13L6.5 10L5.8 9.3L4 11.1V8C4 7.0111 4.29324 6.0444 4.84265 5.22215C5.39206 4.39991 6.17295 3.75904 7.08658 3.38061C8.00021 3.00217 9.00555 2.90315 9.97545 3.09608C10.9454 3.289 11.8363 3.76521 12.5355 4.46447C13.2348 5.16373 13.711 6.05465 13.9039 7.02455C14.0969 7.99446 13.9978 8.99979 13.6194 9.91342C13.241 10.8271 12.6001 11.6079 11.7779 12.1574C10.9556 12.7068 9.98891 13 9 13V14Z\" fill=\"currentColor\"/></svg></a></div><iframe src=\"http://127.0.0.1:8025/headless/smol/C1%28C%28%3DC%29C%28%5BO-%5D%29C1C%29%3DO\" crossorigin=\"anonymous\" width=\"100%\" height=\"700\" style=\"border:solid 1px #ddd;box-sizing:border-box;width:calc(100% + 20px)\"></iframe>"
      ],
      "text/plain": [
       "<IPython.core.display.HTML object>"
      ]
     },
     "metadata": {},
     "output_type": "display_data"
    }
   ],
   "source": [
    "%openad clear analysis cache\n",
    "%openad clear mols\n",
    "\n",
    "sm1 = 'CC(=O)N1CCC2(CC1)C3=C(C=CC(=C3)C#CC4C(C(C(C(O4)CO)O)O)O)C5=C2C=C(C=C5)C#CC6C(C(C(C(O6)CO)O)O)O'\n",
    "sm2 = 'C1(C(=C)C([O-])C1C)=O'\n",
    "x = %openadd ds find patents containing molecule '{sm1}'\n",
    "x = %openadd ds find molecules similar to '{sm2}'\n",
    "%openad add molecule '{sm1}' force\n",
    "%openad add molecule '{sm2}' force\n",
    "%openad enrich molecules with analysis\n",
    "# %openad display mol '{sm}'\n",
    "%openad show mol '{sm1}'\n",
    "%openad show mol '{sm2}'"
   ]
  },
  {
   "cell_type": "code",
   "execution_count": null,
   "id": "0ac0b9b8-757f-46d6-b3e2-afa0453bcb72",
   "metadata": {},
   "outputs": [],
   "source": []
  }
 ],
 "metadata": {
  "kernelspec": {
   "display_name": "ad-venv",
   "language": "python",
   "name": "ad-venv"
  },
  "language_info": {
   "codemirror_mode": {
    "name": "ipython",
    "version": 3
   },
   "file_extension": ".py",
   "mimetype": "text/x-python",
   "name": "python",
   "nbconvert_exporter": "python",
   "pygments_lexer": "ipython3",
   "version": "3.10.14"
  }
 },
 "nbformat": 4,
 "nbformat_minor": 5
}
