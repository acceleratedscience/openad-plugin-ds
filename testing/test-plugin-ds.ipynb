{
 "cells": [
  {
   "cell_type": "markdown",
   "id": "64dc2c17-4844-4a62-939c-a27c237e75eb",
   "metadata": {},
   "source": [
    "# Test Deep Search Plugin\n",
    "\n",
    "Just press `►►` and check for errors."
   ]
  },
  {
   "cell_type": "markdown",
   "id": "9292a1f2-b7c0-4438-aa46-fb8482909bd0",
   "metadata": {},
   "source": [
    "### Prep"
   ]
  },
  {
   "cell_type": "code",
   "execution_count": null,
   "id": "afc509e8-013e-4405-bd5a-f14a10b63213",
   "metadata": {
    "tags": []
   },
   "outputs": [],
   "source": [
    "# Move test files into your workspace\n",
    "import os\n",
    "import pandas as pd\n",
    "\n",
    "# Patents csv file\n",
    "patents_path = os.path.join(os.getcwd(), 'files', 'my_patents.csv')\n",
    "%openad import from '{patents_path}' to 'my_patents.csv'\n",
    "\n",
    "# Patents dataframe\n",
    "my_patents_df = pd.read_csv(patents_path)"
   ]
  },
  {
   "cell_type": "markdown",
   "id": "5403b4dd-c113-4586-b8b4-88b06f96a5e4",
   "metadata": {},
   "source": [
    "<br>\n",
    "<h2><u><b>Plugin Help</b></u></h2>"
   ]
  },
  {
   "cell_type": "code",
   "execution_count": null,
   "id": "9b7a5fad-cc9b-4bac-80d6-11281c8da7c8",
   "metadata": {
    "tags": []
   },
   "outputs": [],
   "source": [
    "%openad deep search"
   ]
  },
  {
   "cell_type": "code",
   "execution_count": null,
   "id": "4e6b8211-d2d4-4d9a-841f-4a33d7640104",
   "metadata": {},
   "outputs": [],
   "source": [
    "%openad deep search ?"
   ]
  },
  {
   "cell_type": "code",
   "execution_count": null,
   "id": "45235bd9-b3e7-4ab5-971d-0174671877ca",
   "metadata": {},
   "outputs": [],
   "source": [
    "%openad ? deep search"
   ]
  },
  {
   "cell_type": "code",
   "execution_count": null,
   "id": "1603f3f6-f982-44e4-9136-c1d6a67fc803",
   "metadata": {},
   "outputs": [],
   "source": [
    "%openad ds"
   ]
  },
  {
   "cell_type": "code",
   "execution_count": null,
   "id": "9cfbe503-02c8-4898-9ea7-09625142a38e",
   "metadata": {},
   "outputs": [],
   "source": [
    "%openad ds ?"
   ]
  },
  {
   "cell_type": "code",
   "execution_count": null,
   "id": "ff8b9b18-32f9-40d2-afdf-bc71a5462b56",
   "metadata": {},
   "outputs": [],
   "source": [
    "%openad ? ds"
   ]
  },
  {
   "cell_type": "markdown",
   "id": "1e509217-2377-43a5-8aa6-e5699ec33225",
   "metadata": {
    "tags": []
   },
   "source": [
    "<br>\n",
    "<h2><u><b>Molecules</b></u></h2>"
   ]
  },
  {
   "cell_type": "markdown",
   "id": "4cbb89ea-308d-4467-9ea4-d4016cfbdb96",
   "metadata": {},
   "source": [
    "### Search for molecules similar to"
   ]
  },
  {
   "cell_type": "code",
   "execution_count": null,
   "id": "fdd99bb8-7e6b-480e-aa72-bbcd5473b773",
   "metadata": {
    "tags": []
   },
   "outputs": [],
   "source": [
    "# Command help\n",
    "%openad ds search for molecules similar ?"
   ]
  },
  {
   "cell_type": "code",
   "execution_count": null,
   "id": "ad49cfde-1fab-4d58-a1d7-270d81195ff5",
   "metadata": {
    "tags": []
   },
   "outputs": [],
   "source": [
    "# Without quotes\n",
    "%openad ds search for molecules similar to CC(=CCC/C(=C/CO)/C)C"
   ]
  },
  {
   "cell_type": "code",
   "execution_count": null,
   "id": "37b859c6-655e-4464-8490-ba37bd62f0d0",
   "metadata": {
    "tags": []
   },
   "outputs": [],
   "source": [
    "# With quotes\n",
    "%openad ds search for molecules similar to 'C1(C(=C)C([O-])C1C)=O'"
   ]
  },
  {
   "cell_type": "code",
   "execution_count": null,
   "id": "c3425f38-6ef3-4923-9731-5d0993ae37a2",
   "metadata": {
    "tags": []
   },
   "outputs": [],
   "source": [
    "# Save as\n",
    "%openad ds search for molecules similar to CC1=CCC2CC1C2(C)C save as 'similar_mols.csv'"
   ]
  },
  {
   "cell_type": "code",
   "execution_count": null,
   "id": "f8a5de79-354d-446c-922f-2aa51b308f6e",
   "metadata": {
    "tags": []
   },
   "outputs": [],
   "source": [
    "# Save as, no extension\n",
    "%openad ds search for molecules similar to CC1CCC2C1C(=O)OC=C2C save as 'similar_mols'"
   ]
  },
  {
   "cell_type": "code",
   "execution_count": null,
   "id": "254d7279-5f74-4a84-9dcb-01fcc14812d9",
   "metadata": {
    "tags": []
   },
   "outputs": [],
   "source": [
    "# Data API\n",
    "df = %openadd ds search for molecules similar to CC(=CCC/C(=C/CO)/C)C\n",
    "df"
   ]
  },
  {
   "cell_type": "markdown",
   "id": "17df4554-acd7-4987-8fe7-ea8258c0f09d",
   "metadata": {},
   "source": [
    "<br>"
   ]
  },
  {
   "cell_type": "markdown",
   "id": "d4fa8b8e-cb22-43f4-a258-fe5ebb5d7feb",
   "metadata": {},
   "source": [
    "### Searchj for molecules with substructure"
   ]
  },
  {
   "cell_type": "code",
   "execution_count": null,
   "id": "e60ff85d-3721-4150-910f-0a80bf363359",
   "metadata": {
    "tags": []
   },
   "outputs": [],
   "source": [
    "# Command help\n",
    "%openad ds search for molecules with substructure ?"
   ]
  },
  {
   "cell_type": "code",
   "execution_count": null,
   "id": "cb597cc0-c12c-403e-8ce5-b24b86e8e6a0",
   "metadata": {
    "tags": []
   },
   "outputs": [],
   "source": [
    "# Without quotes\n",
    "%openad ds search for molecules with substructure C1(C(=C)C([O-])C1C)=O"
   ]
  },
  {
   "cell_type": "code",
   "execution_count": null,
   "id": "773ddfd2-fe47-4400-9a40-b85f43d93145",
   "metadata": {
    "tags": []
   },
   "outputs": [],
   "source": [
    "# With quotes, save as\n",
    "%openad ds search for molecules with substructure 'C1=CCCCC1' save as 'my_mol'"
   ]
  },
  {
   "cell_type": "code",
   "execution_count": null,
   "id": "689ecdd6-b154-4947-8118-20f27e460cb6",
   "metadata": {
    "tags": []
   },
   "outputs": [],
   "source": [
    "# Data API\n",
    "df = %openadd ds search for molecules with substructure C1(C(=C)C([O-])C1C)=O\n",
    "df"
   ]
  },
  {
   "cell_type": "markdown",
   "id": "1b8db4b0-2420-4f71-8535-2880bdd09004",
   "metadata": {},
   "source": [
    "<br>"
   ]
  },
  {
   "cell_type": "markdown",
   "id": "237239b9-f3dd-472f-bf37-602086c2c331",
   "metadata": {},
   "source": [
    "### Search for molecules in patents"
   ]
  },
  {
   "cell_type": "code",
   "execution_count": null,
   "id": "7c6a1250-129d-41ba-90d5-6f4340dbbf7b",
   "metadata": {
    "tags": []
   },
   "outputs": [],
   "source": [
    "# Command help\n",
    "%openad ds search for molecules in patents ?"
   ]
  },
  {
   "cell_type": "code",
   "execution_count": null,
   "id": "10aed1f1-b6fa-49d3-b37f-6ddd7074d968",
   "metadata": {
    "tags": []
   },
   "outputs": [],
   "source": [
    "# From list\n",
    "%openad ds search for molecules in patents from list ['CN108473493B','US20190023713A1']"
   ]
  },
  {
   "cell_type": "code",
   "execution_count": null,
   "id": "5f1bb0f8-37ed-4f59-8f9e-9d96dd4bebb2",
   "metadata": {},
   "outputs": [],
   "source": [
    "# From file\n",
    "%openad ds search for molecules in patents from file 'my_patents.csv'"
   ]
  },
  {
   "cell_type": "code",
   "execution_count": null,
   "id": "36b2694d-6299-40aa-bc3f-40e214427849",
   "metadata": {
    "tags": []
   },
   "outputs": [],
   "source": [
    "# From dataframe\n",
    "%openad ds search for molecules in patents from dataframe my_patents_df"
   ]
  },
  {
   "cell_type": "code",
   "execution_count": null,
   "id": "cdb0b4dd-b340-465c-933c-6d9caad49b0d",
   "metadata": {
    "tags": []
   },
   "outputs": [],
   "source": [
    "# Data API\n",
    "data = %openadd ds search for molecules in patents from list ['CN108473493B','US20190023713A1']\n",
    "data"
   ]
  },
  {
   "cell_type": "markdown",
   "id": "9da3d409-7d92-41b0-9572-04b76ba74679",
   "metadata": {},
   "source": [
    "<br>\n",
    "<h2><u><b>Collections</b></u></h2>"
   ]
  },
  {
   "cell_type": "markdown",
   "id": "d9e78a54-f453-44d6-aac4-882569136239",
   "metadata": {},
   "source": [
    "### List all collections"
   ]
  },
  {
   "cell_type": "code",
   "execution_count": null,
   "id": "e5171277-655b-41de-bc5d-c868e9130aab",
   "metadata": {
    "tags": []
   },
   "outputs": [],
   "source": [
    "# Command help\n",
    "%openad ds list all collections ?"
   ]
  },
  {
   "cell_type": "code",
   "execution_count": null,
   "id": "30649b48-02e9-412b-95a7-080ce5de088c",
   "metadata": {
    "tags": []
   },
   "outputs": [],
   "source": [
    "# Basic\n",
    "%openad ds list all collections"
   ]
  },
  {
   "cell_type": "code",
   "execution_count": null,
   "id": "5b3528c4-8cf4-4399-befe-7c9d9612ecce",
   "metadata": {
    "tags": []
   },
   "outputs": [],
   "source": [
    "# With details\n",
    "%openad ds list all collections details"
   ]
  },
  {
   "cell_type": "code",
   "execution_count": null,
   "id": "cfe1fefc-81bf-47a7-ab09-d24e009406c6",
   "metadata": {
    "tags": []
   },
   "outputs": [],
   "source": [
    "# Save as\n",
    "%openad ds list all collections save as 'all_collections.csv'"
   ]
  },
  {
   "cell_type": "code",
   "execution_count": null,
   "id": "95ba7592-d953-4f0b-8431-5c2db20bc68c",
   "metadata": {
    "tags": []
   },
   "outputs": [],
   "source": [
    "# Data API\n",
    "data = %openadd ds list all collections\n",
    "data"
   ]
  },
  {
   "cell_type": "markdown",
   "id": "be9d953a-b019-4b1a-a54c-5120ebf3cb60",
   "metadata": {},
   "source": [
    "<br>"
   ]
  },
  {
   "cell_type": "markdown",
   "id": "4a330b88-ab7c-4a80-9f8e-9ab284fcb7ac",
   "metadata": {},
   "source": [
    "### List all domains"
   ]
  },
  {
   "cell_type": "code",
   "execution_count": null,
   "id": "905bd1b3-0916-4a3f-ae92-a508a728b983",
   "metadata": {
    "tags": []
   },
   "outputs": [],
   "source": [
    "# Command help\n",
    "%openad ds list all domains ?"
   ]
  },
  {
   "cell_type": "code",
   "execution_count": null,
   "id": "ec692f96-8afa-4d8b-9905-56b035326276",
   "metadata": {
    "tags": []
   },
   "outputs": [],
   "source": [
    "# Basic\n",
    "%openad ds list all domains"
   ]
  },
  {
   "cell_type": "code",
   "execution_count": null,
   "id": "380de7c8-cdd4-44bd-bfbc-5aef84bfdfcb",
   "metadata": {
    "tags": []
   },
   "outputs": [],
   "source": [
    "# Save as\n",
    "%openad ds list all domains save as 'all_domains'"
   ]
  },
  {
   "cell_type": "code",
   "execution_count": null,
   "id": "0dac13c2-7c68-4ac8-bae2-01c7f35cf54f",
   "metadata": {
    "tags": []
   },
   "outputs": [],
   "source": [
    "# Data API\n",
    "data = %openadd ds list all domains\n",
    "data"
   ]
  },
  {
   "cell_type": "markdown",
   "id": "ee66ec6e-1b25-4648-a716-3fcf4cd55e26",
   "metadata": {},
   "source": [
    "<br>"
   ]
  },
  {
   "cell_type": "markdown",
   "id": "4dc6da40-159a-4f63-83e5-303f56dd6e91",
   "metadata": {},
   "source": [
    "### List collections containing"
   ]
  },
  {
   "cell_type": "code",
   "execution_count": null,
   "id": "19569659-7956-44d3-9d09-3675b24a7848",
   "metadata": {
    "tags": []
   },
   "outputs": [],
   "source": [
    "# Command help\n",
    "%openad ds list collections containing ?"
   ]
  },
  {
   "cell_type": "code",
   "execution_count": null,
   "id": "3f04b4b4-213b-409d-ba12-967235bf29db",
   "metadata": {
    "tags": []
   },
   "outputs": [],
   "source": [
    "# Simple search\n",
    "%openad ds list collections containing 'Ibuprofen'"
   ]
  },
  {
   "cell_type": "code",
   "execution_count": null,
   "id": "83dc1547-fa36-4ca8-8858-18a8a23e0b1b",
   "metadata": {
    "tags": []
   },
   "outputs": [],
   "source": [
    "# Quoted search\n",
    "%openad ds list collections containing '\"blood-brain barrier\"'"
   ]
  },
  {
   "cell_type": "code",
   "execution_count": null,
   "id": "a2bbb947-c3b8-4b58-b2e3-6741cdc27ee5",
   "metadata": {
    "tags": []
   },
   "outputs": [],
   "source": [
    "# Complex search\n",
    "%openad ds list collections containing 'main-text.text:(\"power conversion efficiency\" OR PCE) AND organ*'"
   ]
  },
  {
   "cell_type": "code",
   "execution_count": null,
   "id": "ca562ce9-f70c-41f0-b568-f6c4343e7440",
   "metadata": {
    "tags": []
   },
   "outputs": [],
   "source": [
    "# Data API\n",
    "data = %openadd ds list collections containing 'Ibuprofen'\n",
    "data"
   ]
  },
  {
   "cell_type": "markdown",
   "id": "46bccf72-a65c-42d2-9e13-3642f9037a64",
   "metadata": {},
   "source": [
    "<br>"
   ]
  },
  {
   "cell_type": "markdown",
   "id": "ce643c08-b783-46ed-8e9f-9b3b7828c983",
   "metadata": {},
   "source": [
    "### List collections for domain(s)"
   ]
  },
  {
   "cell_type": "code",
   "execution_count": null,
   "id": "6cfac7df-3de0-476e-a756-8556a4a2a40c",
   "metadata": {
    "tags": []
   },
   "outputs": [],
   "source": [
    "# Command help\n",
    "%openad ds list collections for domain ?"
   ]
  },
  {
   "cell_type": "code",
   "execution_count": null,
   "id": "5e7babd3-a318-4f6c-be0d-663e7650e233",
   "metadata": {
    "tags": []
   },
   "outputs": [],
   "source": [
    "# Single domain\n",
    "%openad ds list collections for domain 'Business Insights'"
   ]
  },
  {
   "cell_type": "code",
   "execution_count": null,
   "id": "e9c7cf36-0704-4402-a678-c3768ce26281",
   "metadata": {
    "tags": []
   },
   "outputs": [],
   "source": [
    "# Multiple domains\n",
    "%openad ds list collections for domains ['Materials Science','Scientific Literature']"
   ]
  },
  {
   "cell_type": "code",
   "execution_count": null,
   "id": "c98167a1-4b81-4823-823d-fdbac7b7f253",
   "metadata": {
    "tags": []
   },
   "outputs": [],
   "source": [
    "# Data API\n",
    "data = %openadd ds list collections for domain 'Business Insights'\n",
    "data"
   ]
  },
  {
   "cell_type": "markdown",
   "id": "1d1e1dc0-0ff9-466b-b78b-6e1e2913fe4a",
   "metadata": {
    "tags": []
   },
   "source": [
    "<br>"
   ]
  },
  {
   "cell_type": "markdown",
   "id": "b8bc3e08-2ec3-4eed-a3e8-f3287115c473",
   "metadata": {},
   "source": [
    "### List collection details"
   ]
  },
  {
   "cell_type": "code",
   "execution_count": null,
   "id": "560ead97-9811-41af-94ed-7c023cfa09e5",
   "metadata": {
    "tags": []
   },
   "outputs": [],
   "source": [
    "# Command help\n",
    "%openad ds list collection details ?"
   ]
  },
  {
   "cell_type": "code",
   "execution_count": null,
   "id": "a2c26fe5-297c-46d6-ac6f-a65108a0aca7",
   "metadata": {
    "tags": []
   },
   "outputs": [],
   "source": [
    "# By name\n",
    "%openad ds list collection details 'Patents from USPTO'"
   ]
  },
  {
   "cell_type": "code",
   "execution_count": null,
   "id": "9af0aa4d-aac3-4be9-967f-137e6fe711af",
   "metadata": {
    "tags": []
   },
   "outputs": [],
   "source": [
    "# By key\n",
    "%openad ds list collection details 'patent-uspto'"
   ]
  },
  {
   "cell_type": "code",
   "execution_count": null,
   "id": "7f70c7a1-791b-4750-b7ad-0033dab943b0",
   "metadata": {
    "tags": []
   },
   "outputs": [],
   "source": [
    "# Data API\n",
    "data = %openadd ds list collection details 'Patents from USPTO'\n",
    "data"
   ]
  },
  {
   "cell_type": "markdown",
   "id": "1d382f13-113d-45fe-8016-c9bf8744d107",
   "metadata": {},
   "source": [
    "<br>"
   ]
  },
  {
   "cell_type": "markdown",
   "id": "1760df37-e308-42a9-b75d-30c0bf4dbf28",
   "metadata": {},
   "source": [
    "### Search collection"
   ]
  },
  {
   "cell_type": "code",
   "execution_count": null,
   "id": "06fface6-19be-4256-add2-f1c3c01f4e34",
   "metadata": {
    "tags": []
   },
   "outputs": [],
   "source": [
    "# Command help\n",
    "%openad ds search collection ?"
   ]
  },
  {
   "cell_type": "code",
   "execution_count": null,
   "id": "927d30a6-04c0-42d0-99c4-ff6b617b585f",
   "metadata": {
    "tags": []
   },
   "outputs": [],
   "source": [
    "# regular search\n",
    "%openad ds search collection 'arxiv-abstract' for 'ide(\"power conversion efficiency\" OR PCE) AND organ*' USING (limit_results=10 slop=0) show (docs)"
   ]
  },
  {
   "cell_type": "code",
   "execution_count": null,
   "id": "a6736dba-4b1d-43dc-aa00-a3a7fb6f3feb",
   "metadata": {
    "tags": []
   },
   "outputs": [],
   "source": [
    "# Slop\n",
    "%openad ds search collection 'arxiv-abstract' for '\"power efficiency\"' USING (slop=0) estimate only\n",
    "%openad ds search collection 'arxiv-abstract' for '\"power efficiency\"' USING (slop=1) estimate only\n",
    "%openad ds search collection 'arxiv-abstract' for '\"power efficiency\"' USING (slop=5) estimate only"
   ]
  },
  {
   "cell_type": "code",
   "execution_count": null,
   "id": "05d13af7-2d4d-497d-9910-5ca5829041c7",
   "metadata": {
    "tags": []
   },
   "outputs": [],
   "source": [
    "# Show data with molecules\n",
    "%openad ds search collection 'pubchem' for 'Ibuprofen' show (data)\n",
    "%openad result open"
   ]
  },
  {
   "cell_type": "code",
   "execution_count": null,
   "id": "33d0a64d-9cfd-4527-87f3-84cdd31c1dbe",
   "metadata": {
    "tags": []
   },
   "outputs": [],
   "source": [
    "# Show data\n",
    "%openad ds search collection 'patent-uspto' for '\"CC(CCO)CCCC(C)C\"' show (data)"
   ]
  },
  {
   "cell_type": "code",
   "execution_count": null,
   "id": "54d3eb9a-bf2a-44e2-bace-553fd23c2d1b",
   "metadata": {
    "tags": []
   },
   "outputs": [],
   "source": [
    "# Show docs\n",
    "%openad ds search collection 'patent-uspto' for '\"CC(CCO)CCCC(C)C\"' show (docs)"
   ]
  },
  {
   "cell_type": "code",
   "execution_count": null,
   "id": "fa7d9220-5cc2-4446-8bce-202f46ee9b06",
   "metadata": {
    "tags": []
   },
   "outputs": [],
   "source": [
    "# Data API\n",
    "data = %openadd ds search collection 'arxiv-abstract' for '\"power conversion efficiency\"' USING (slop=0)\n",
    "data"
   ]
  },
  {
   "cell_type": "markdown",
   "id": "720920e1-4b11-4103-9f24-3389cbdc8f78",
   "metadata": {},
   "source": [
    "<br>\n",
    "<h2><u><b>Patents</b></u></h2>"
   ]
  },
  {
   "cell_type": "markdown",
   "id": "d11c89aa-a31a-463e-821f-d95160ecc8a9",
   "metadata": {},
   "source": [
    "### Search for patents"
   ]
  },
  {
   "cell_type": "code",
   "execution_count": null,
   "id": "1a870315-ae57-4232-9bf4-e2dcf3de9468",
   "metadata": {
    "tags": []
   },
   "outputs": [],
   "source": [
    "# Command help\n",
    "%openad ds search for patents ?"
   ]
  },
  {
   "cell_type": "code",
   "execution_count": null,
   "id": "a0b2f928-2818-480a-b753-e8b4d5a32027",
   "metadata": {
    "tags": []
   },
   "outputs": [],
   "source": [
    "# Smiles unquoted \n",
    "%openad ds search for patents containing molecule CC(C)(c1ccccn1)C(CC(=O)O)Nc1nc(-c2c[nH]c3ncc(Cl)cc23)c(C#N)cc1F"
   ]
  },
  {
   "cell_type": "code",
   "execution_count": null,
   "id": "2271ff5e-c257-45db-9f9a-e0f96da95fed",
   "metadata": {
    "tags": []
   },
   "outputs": [],
   "source": [
    "# Smiles quoted\n",
    "%openad ds search for patents containing molecule 'CC(C)(c1ccccn1)C(CC(=O)O)Nc1nc(-c2c[nH]c3ncc(Cl)cc23)c(C#N)cc1F' save as 'patents'"
   ]
  },
  {
   "cell_type": "code",
   "execution_count": null,
   "id": "6313867a-94d9-4a1d-bafe-e038c744eb41",
   "metadata": {
    "tags": []
   },
   "outputs": [],
   "source": [
    "# InChI\n",
    "%openad ds search for patents containing molecule InChI=1S/C24H20ClFN6O2/c1-24(2,18-5-3-4-6-28-18)19(9-20(33)34)31-23-17(26)7-13(10-27)21(32-23)16-12-30-22-15(16)8-14(25)11-29-22/h3-8,11-12,19H,9H2,1-2H3,(H,29,30)(H,31,32)(H,33,34)"
   ]
  },
  {
   "cell_type": "code",
   "execution_count": null,
   "id": "8b88dd2d-9b0d-4ca1-8267-8092a17534ce",
   "metadata": {
    "tags": []
   },
   "outputs": [],
   "source": [
    "# InChIKey unquoted\n",
    "# Note: No molecule preview for InChIKey identifier\n",
    "%openad ds search for patents containing molecule JUPUMSRQQQUOLP-UHFFFAOYSA-N save as 'patents'"
   ]
  },
  {
   "cell_type": "code",
   "execution_count": null,
   "id": "b6149683-db5c-41c7-88c8-8c38e90128bc",
   "metadata": {
    "tags": []
   },
   "outputs": [],
   "source": [
    "# InChIKey quoted\n",
    "%openad ds search for patents containing molecule 'JUPUMSRQQQUOLP-UHFFFAOYSA-N'"
   ]
  },
  {
   "cell_type": "code",
   "execution_count": null,
   "id": "9750b54d-ab05-448b-ab3f-d668ca60eba1",
   "metadata": {
    "tags": []
   },
   "outputs": [],
   "source": [
    "# Data API\n",
    "data = %openadd ds search for patents containing molecule JUPUMSRQQQUOLP-UHFFFAOYSA-N\n",
    "data"
   ]
  },
  {
   "cell_type": "markdown",
   "id": "c7023c88-ed0f-4d9c-9dd2-229f86d77e50",
   "metadata": {},
   "source": [
    "<br>"
   ]
  },
  {
   "cell_type": "markdown",
   "id": "575948ca-bf1f-4a3a-9aa2-75ecb1103f0d",
   "metadata": {},
   "source": [
    "### Enrich molecule working set with Deep Search analysis"
   ]
  },
  {
   "cell_type": "code",
   "execution_count": null,
   "id": "7ea49c41-1a52-457b-a0e1-d153e91cb7bf",
   "metadata": {
    "tags": []
   },
   "outputs": [],
   "source": [
    "%openad clear analysis cache\n",
    "%openad clear mols\n",
    "\n",
    "sm1 = 'CC(=O)N1CCC2(CC1)C3=C(C=CC(=C3)C#CC4C(C(C(C(O4)CO)O)O)O)C5=C2C=C(C=C5)C#CC6C(C(C(C(O6)CO)O)O)O'\n",
    "sm2 = 'C1(C(=C)C([O-])C1C)=O'\n",
    "x = %openadd ds search for patents containing molecule '{sm1}'\n",
    "x = %openadd ds search for molecules similar to '{sm2}'\n",
    "%openad add molecule '{sm1}' force\n",
    "%openad add molecule '{sm2}' force\n",
    "%openad enrich molecules with analysis\n",
    "# %openad display mol '{sm}'\n",
    "%openad show mol '{sm1}'\n",
    "%openad show mol '{sm2}'"
   ]
  }
 ],
 "metadata": {
  "kernelspec": {
   "display_name": "ad-venv",
   "language": "python",
   "name": "ad-venv"
  },
  "language_info": {
   "codemirror_mode": {
    "name": "ipython",
    "version": 3
   },
   "file_extension": ".py",
   "mimetype": "text/x-python",
   "name": "python",
   "nbconvert_exporter": "python",
   "pygments_lexer": "ipython3",
   "version": "3.10.14"
  }
 },
 "nbformat": 4,
 "nbformat_minor": 5
}
