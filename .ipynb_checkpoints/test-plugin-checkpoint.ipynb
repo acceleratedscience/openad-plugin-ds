{
 "cells": [
  {
   "cell_type": "markdown",
   "id": "64dc2c17-4844-4a62-939c-a27c237e75eb",
   "metadata": {},
   "source": [
    "# Deep Search Plugin Testing"
   ]
  },
  {
   "cell_type": "code",
   "execution_count": null,
   "id": "9b7a5fad-cc9b-4bac-80d6-11281c8da7c8",
   "metadata": {
    "tags": []
   },
   "outputs": [],
   "source": [
    "# %openad deep search ?\n",
    "%openad ds ?"
   ]
  },
  {
   "cell_type": "markdown",
   "id": "1e509217-2377-43a5-8aa6-e5699ec33225",
   "metadata": {},
   "source": [
    "\n",
    "<br><br>\n",
    "<hr>\n",
    "\n",
    "## Molecules"
   ]
  },
  {
   "cell_type": "markdown",
   "id": "4cbb89ea-308d-4467-9ea4-d4016cfbdb96",
   "metadata": {},
   "source": [
    "### Find molecules similar to..."
   ]
  },
  {
   "cell_type": "code",
   "execution_count": null,
   "id": "fdd99bb8-7e6b-480e-aa72-bbcd5473b773",
   "metadata": {
    "tags": []
   },
   "outputs": [],
   "source": [
    "%openad ds find molecules similar ?"
   ]
  },
  {
   "cell_type": "code",
   "execution_count": null,
   "id": "ad49cfde-1fab-4d58-a1d7-270d81195ff5",
   "metadata": {
    "tags": []
   },
   "outputs": [],
   "source": [
    "%openad ds find molecules similar to CC(=CCC/C(=C/CO)/C)C"
   ]
  },
  {
   "cell_type": "code",
   "execution_count": null,
   "id": "37b859c6-655e-4464-8490-ba37bd62f0d0",
   "metadata": {
    "tags": []
   },
   "outputs": [],
   "source": [
    "%openad ds find molecules similar to 'C1(C(=C)C([O-])C1C)=O'"
   ]
  },
  {
   "cell_type": "code",
   "execution_count": null,
   "id": "f8a5de79-354d-446c-922f-2aa51b308f6e",
   "metadata": {
    "tags": []
   },
   "outputs": [],
   "source": [
    "%openad ds find molecules similar to CC1CCC2C1C(=O)OC=C2C save as 'similar_mols'"
   ]
  },
  {
   "cell_type": "code",
   "execution_count": null,
   "id": "c3425f38-6ef3-4923-9731-5d0993ae37a2",
   "metadata": {
    "tags": []
   },
   "outputs": [],
   "source": [
    "%openad ds find molecules similar to CC1=CCC2CC1C2(C)C save as 'similar_mols.csv'"
   ]
  },
  {
   "cell_type": "code",
   "execution_count": null,
   "id": "254d7279-5f74-4a84-9dcb-01fcc14812d9",
   "metadata": {
    "tags": []
   },
   "outputs": [],
   "source": [
    "# Data API\n",
    "df = %openadd ds find molecules similar to CC(=CCC/C(=C/CO)/C)C\n",
    "df"
   ]
  },
  {
   "cell_type": "markdown",
   "id": "d4fa8b8e-cb22-43f4-a258-fe5ebb5d7feb",
   "metadata": {},
   "source": [
    "<br>\n",
    "\n",
    "### Find molecules with substructure..."
   ]
  },
  {
   "cell_type": "code",
   "execution_count": null,
   "id": "e60ff85d-3721-4150-910f-0a80bf363359",
   "metadata": {
    "tags": []
   },
   "outputs": [],
   "source": [
    "%openad ds find molecules with substructure ?"
   ]
  },
  {
   "cell_type": "code",
   "execution_count": null,
   "id": "cb597cc0-c12c-403e-8ce5-b24b86e8e6a0",
   "metadata": {
    "tags": []
   },
   "outputs": [],
   "source": [
    "%openad ds find molecules with substructure C1(C(=C)C([O-])C1C)=O"
   ]
  },
  {
   "cell_type": "code",
   "execution_count": null,
   "id": "773ddfd2-fe47-4400-9a40-b85f43d93145",
   "metadata": {
    "tags": []
   },
   "outputs": [],
   "source": [
    "%openad ds find molecules with substructure 'C1=CCCCC1' save as 'my_mol'"
   ]
  },
  {
   "cell_type": "code",
   "execution_count": null,
   "id": "689ecdd6-b154-4947-8118-20f27e460cb6",
   "metadata": {
    "tags": []
   },
   "outputs": [],
   "source": [
    "# Data API\n",
    "df = %openadd ds find molecules with substructure C1(C(=C)C([O-])C1C)=O\n",
    "df"
   ]
  },
  {
   "cell_type": "markdown",
   "id": "237239b9-f3dd-472f-bf37-602086c2c331",
   "metadata": {},
   "source": [
    "<br>\n",
    "\n",
    "### Find molecules in patents"
   ]
  },
  {
   "cell_type": "code",
   "execution_count": null,
   "id": "7c6a1250-129d-41ba-90d5-6f4340dbbf7b",
   "metadata": {
    "tags": []
   },
   "outputs": [],
   "source": [
    "%openad ds find molecules in patents ?"
   ]
  },
  {
   "cell_type": "code",
   "execution_count": null,
   "id": "10aed1f1-b6fa-49d3-b37f-6ddd7074d968",
   "metadata": {
    "tags": []
   },
   "outputs": [],
   "source": [
    "%openad ds find molecules in patents from list ['CN108473493B','US20190023713A1']"
   ]
  },
  {
   "cell_type": "code",
   "execution_count": null,
   "id": "4fcf1808-b651-4f0d-bbf8-bf444dc172d6",
   "metadata": {
    "tags": []
   },
   "outputs": [],
   "source": [
    "import os\n",
    "import pandas as pd\n",
    "from openad.helpers.jupyter import save_df_as_csv\n",
    "\n",
    "cmd_pointer = %openad cmd_pointer\n",
    "workspace_path = cmd_pointer.workspace_path()\n",
    "\n",
    "filename = 'my_patents_testfile.csv'\n",
    "file_path = os.path.join(workspace_path, filename)\n",
    "my_patents = ['CN108473493B','US20190023713A1']\n",
    "my_patents_df = pd.DataFrame(my_patents, columns=['patent id'])\n",
    "\n",
    "if not os.path.isfile(file_path):\n",
    "    save_df_as_csv(cmd_pointer, my_patents_df, filename)\n",
    "\n",
    "\n",
    "%openad ds find molecules in patents from file '{filename}'"
   ]
  },
  {
   "cell_type": "code",
   "execution_count": null,
   "id": "36b2694d-6299-40aa-bc3f-40e214427849",
   "metadata": {
    "tags": []
   },
   "outputs": [],
   "source": [
    "my_patents = ['CN108473493B','US20190023713A1']\n",
    "my_patents_df = pd.DataFrame(my_patents, columns=['patent id'])\n",
    "\n",
    "%openad ds find molecules in patents from dataframe my_patents_df"
   ]
  },
  {
   "cell_type": "code",
   "execution_count": null,
   "id": "cdb0b4dd-b340-465c-933c-6d9caad49b0d",
   "metadata": {
    "tags": []
   },
   "outputs": [],
   "source": [
    "# Data API\n",
    "df = %openadd ds find molecules in patents from list ['CN108473493B','US20190023713A1']\n",
    "df"
   ]
  },
  {
   "cell_type": "markdown",
   "id": "9da3d409-7d92-41b0-9572-04b76ba74679",
   "metadata": {},
   "source": [
    "<br><br>\n",
    "<hr>\n",
    "\n",
    "## Collections"
   ]
  },
  {
   "cell_type": "markdown",
   "id": "d9e78a54-f453-44d6-aac4-882569136239",
   "metadata": {},
   "source": [
    "<br><br>\n",
    "\n",
    "## List all collections"
   ]
  },
  {
   "cell_type": "code",
   "execution_count": null,
   "id": "e5171277-655b-41de-bc5d-c868e9130aab",
   "metadata": {
    "tags": []
   },
   "outputs": [],
   "source": [
    "%openad ds list all collections ?"
   ]
  },
  {
   "cell_type": "code",
   "execution_count": null,
   "id": "30649b48-02e9-412b-95a7-080ce5de088c",
   "metadata": {
    "tags": []
   },
   "outputs": [],
   "source": [
    "%openad ds list all collections"
   ]
  },
  {
   "cell_type": "code",
   "execution_count": null,
   "id": "5b3528c4-8cf4-4399-befe-7c9d9612ecce",
   "metadata": {
    "tags": []
   },
   "outputs": [],
   "source": [
    "%openad ds list all collections details"
   ]
  },
  {
   "cell_type": "code",
   "execution_count": null,
   "id": "cfe1fefc-81bf-47a7-ab09-d24e009406c6",
   "metadata": {
    "tags": []
   },
   "outputs": [],
   "source": [
    "%openad ds list all collections save as 'all_collections.csv'"
   ]
  },
  {
   "cell_type": "code",
   "execution_count": null,
   "id": "95ba7592-d953-4f0b-8431-5c2db20bc68c",
   "metadata": {
    "tags": []
   },
   "outputs": [],
   "source": [
    "# Data API\n",
    "df = %openadd ds list all collections\n",
    "df"
   ]
  },
  {
   "cell_type": "markdown",
   "id": "4a330b88-ab7c-4a80-9f8e-9ab284fcb7ac",
   "metadata": {},
   "source": [
    "<br><br>\n",
    "\n",
    "## List all domains"
   ]
  },
  {
   "cell_type": "code",
   "execution_count": null,
   "id": "905bd1b3-0916-4a3f-ae92-a508a728b983",
   "metadata": {
    "tags": []
   },
   "outputs": [],
   "source": [
    "%openad ds list all domains ?"
   ]
  },
  {
   "cell_type": "code",
   "execution_count": null,
   "id": "ec692f96-8afa-4d8b-9905-56b035326276",
   "metadata": {
    "tags": []
   },
   "outputs": [],
   "source": [
    "%openad ds list all domains"
   ]
  },
  {
   "cell_type": "code",
   "execution_count": null,
   "id": "380de7c8-cdd4-44bd-bfbc-5aef84bfdfcb",
   "metadata": {
    "tags": []
   },
   "outputs": [],
   "source": [
    "%openad ds list all domains save as 'all_domains'"
   ]
  },
  {
   "cell_type": "code",
   "execution_count": null,
   "id": "0dac13c2-7c68-4ac8-bae2-01c7f35cf54f",
   "metadata": {
    "tags": []
   },
   "outputs": [],
   "source": [
    "# Data API\n",
    "df = %openadd ds list all domains\n",
    "df"
   ]
  },
  {
   "cell_type": "markdown",
   "id": "4dc6da40-159a-4f63-83e5-303f56dd6e91",
   "metadata": {},
   "source": [
    "<br><br>\n",
    "\n",
    "## List collections containing"
   ]
  },
  {
   "cell_type": "code",
   "execution_count": null,
   "id": "19569659-7956-44d3-9d09-3675b24a7848",
   "metadata": {
    "tags": []
   },
   "outputs": [],
   "source": [
    "%openad ds list collections containing ?"
   ]
  },
  {
   "cell_type": "code",
   "execution_count": null,
   "id": "3f04b4b4-213b-409d-ba12-967235bf29db",
   "metadata": {
    "tags": []
   },
   "outputs": [],
   "source": [
    "%openad ds list collections containing 'Ibuprofen'"
   ]
  },
  {
   "cell_type": "code",
   "execution_count": null,
   "id": "83dc1547-fa36-4ca8-8858-18a8a23e0b1b",
   "metadata": {
    "tags": []
   },
   "outputs": [],
   "source": [
    "%openad ds list collections containing '\"blood-brain barrier\"'"
   ]
  },
  {
   "cell_type": "code",
   "execution_count": null,
   "id": "a2bbb947-c3b8-4b58-b2e3-6741cdc27ee5",
   "metadata": {
    "tags": []
   },
   "outputs": [],
   "source": [
    "%openad ds list collections containing 'main-text.text:(\"power conversion efficiency\" OR PCE) AND organ*'"
   ]
  },
  {
   "cell_type": "code",
   "execution_count": null,
   "id": "ca562ce9-f70c-41f0-b568-f6c4343e7440",
   "metadata": {
    "tags": []
   },
   "outputs": [],
   "source": [
    "# Data API\n",
    "df = %openadd ds list collections containing 'Ibuprofen'\n",
    "df"
   ]
  },
  {
   "cell_type": "markdown",
   "id": "ce643c08-b783-46ed-8e9f-9b3b7828c983",
   "metadata": {},
   "source": [
    "<br><br>\n",
    "\n",
    "## List collections for domain(s)"
   ]
  },
  {
   "cell_type": "code",
   "execution_count": null,
   "id": "6cfac7df-3de0-476e-a756-8556a4a2a40c",
   "metadata": {
    "tags": []
   },
   "outputs": [],
   "source": [
    "%openad ds list collections for domain ?"
   ]
  },
  {
   "cell_type": "code",
   "execution_count": null,
   "id": "5e7babd3-a318-4f6c-be0d-663e7650e233",
   "metadata": {
    "tags": []
   },
   "outputs": [],
   "source": [
    "%openad ds list collections for domain 'Business Insights'"
   ]
  },
  {
   "cell_type": "code",
   "execution_count": null,
   "id": "e9c7cf36-0704-4402-a678-c3768ce26281",
   "metadata": {
    "tags": []
   },
   "outputs": [],
   "source": [
    "%openad ds list collections for domains ['Materials Science','Scientific Literature']"
   ]
  },
  {
   "cell_type": "code",
   "execution_count": null,
   "id": "c98167a1-4b81-4823-823d-fdbac7b7f253",
   "metadata": {
    "tags": []
   },
   "outputs": [],
   "source": [
    "# Data API\n",
    "df = %openadd ds list collections for domain 'Business Insights'\n",
    "df"
   ]
  },
  {
   "cell_type": "markdown",
   "id": "b8bc3e08-2ec3-4eed-a3e8-f3287115c473",
   "metadata": {},
   "source": [
    "<br><br>\n",
    "\n",
    "## List collection details"
   ]
  },
  {
   "cell_type": "code",
   "execution_count": null,
   "id": "560ead97-9811-41af-94ed-7c023cfa09e5",
   "metadata": {
    "tags": []
   },
   "outputs": [],
   "source": [
    "%openad ds list collection details ?"
   ]
  },
  {
   "cell_type": "code",
   "execution_count": null,
   "id": "a2c26fe5-297c-46d6-ac6f-a65108a0aca7",
   "metadata": {
    "tags": []
   },
   "outputs": [],
   "source": [
    "%openad ds list collection details 'Patents from USPTO'"
   ]
  },
  {
   "cell_type": "code",
   "execution_count": null,
   "id": "9af0aa4d-aac3-4be9-967f-137e6fe711af",
   "metadata": {
    "tags": []
   },
   "outputs": [],
   "source": [
    "%openad ds list collection details 'patent-uspto'"
   ]
  },
  {
   "cell_type": "code",
   "execution_count": null,
   "id": "7f70c7a1-791b-4750-b7ad-0033dab943b0",
   "metadata": {
    "tags": []
   },
   "outputs": [],
   "source": [
    "# Data API\n",
    "df = %openadd ds list collection details 'Patents from USPTO'\n",
    "df"
   ]
  },
  {
   "cell_type": "markdown",
   "id": "1760df37-e308-42a9-b75d-30c0bf4dbf28",
   "metadata": {},
   "source": [
    "<br><br>\n",
    "\n",
    "## Search collection"
   ]
  },
  {
   "cell_type": "code",
   "execution_count": null,
   "id": "06fface6-19be-4256-add2-f1c3c01f4e34",
   "metadata": {
    "tags": []
   },
   "outputs": [],
   "source": [
    "%openad ds search collection ?"
   ]
  },
  {
   "cell_type": "code",
   "execution_count": null,
   "id": "927d30a6-04c0-42d0-99c4-ff6b617b585f",
   "metadata": {
    "tags": []
   },
   "outputs": [],
   "source": [
    "%openad ds search collection 'arxiv-abstract' for 'ide(\"power conversion efficiency\" OR PCE) AND organ*' USING (limit_results=10 slop=0) show (docs)"
   ]
  },
  {
   "cell_type": "code",
   "execution_count": null,
   "id": "a6736dba-4b1d-43dc-aa00-a3a7fb6f3feb",
   "metadata": {
    "tags": []
   },
   "outputs": [],
   "source": [
    "%openad ds search collection 'arxiv-abstract' for '\"power efficiency\"' USING (slop=0) estimate only\n",
    "%openad ds search collection 'arxiv-abstract' for '\"power efficiency\"' USING (slop=1) estimate only\n",
    "%openad ds search collection 'arxiv-abstract' for '\"power efficiency\"' USING (slop=5) estimate only"
   ]
  },
  {
   "cell_type": "code",
   "execution_count": null,
   "id": "05d13af7-2d4d-497d-9910-5ca5829041c7",
   "metadata": {
    "tags": []
   },
   "outputs": [],
   "source": [
    "%openad ds search collection 'pubchem' for 'Ibuprofen' show (data)\n",
    "%openad result open"
   ]
  },
  {
   "cell_type": "code",
   "execution_count": null,
   "id": "33d0a64d-9cfd-4527-87f3-84cdd31c1dbe",
   "metadata": {
    "tags": []
   },
   "outputs": [],
   "source": [
    "%openad ds search collection 'patent-uspto' for '\"CC(CCO)CCCC(C)C\"' show (data)"
   ]
  },
  {
   "cell_type": "code",
   "execution_count": null,
   "id": "54d3eb9a-bf2a-44e2-bace-553fd23c2d1b",
   "metadata": {
    "tags": []
   },
   "outputs": [],
   "source": [
    "%openad ds search collection 'patent-uspto' for '\"CC(CCO)CCCC(C)C\"' show (docs)"
   ]
  },
  {
   "cell_type": "code",
   "execution_count": null,
   "id": "fa7d9220-5cc2-4446-8bce-202f46ee9b06",
   "metadata": {
    "tags": []
   },
   "outputs": [],
   "source": [
    "# Data API\n",
    "df = %openadd ds search collection 'arxiv-abstract' for '\"power conversion efficiency\"' USING (slop=0)\n",
    "df"
   ]
  },
  {
   "cell_type": "markdown",
   "id": "720920e1-4b11-4103-9f24-3389cbdc8f78",
   "metadata": {},
   "source": [
    "<br><br>\n",
    "<hr>\n",
    "\n",
    "## Patents"
   ]
  },
  {
   "cell_type": "markdown",
   "id": "d11c89aa-a31a-463e-821f-d95160ecc8a9",
   "metadata": {},
   "source": [
    "<br><br>\n",
    "\n",
    "## Find patents"
   ]
  },
  {
   "cell_type": "code",
   "execution_count": null,
   "id": "1a870315-ae57-4232-9bf4-e2dcf3de9468",
   "metadata": {
    "tags": []
   },
   "outputs": [],
   "source": [
    "%openad ds find patents ?"
   ]
  },
  {
   "cell_type": "code",
   "execution_count": null,
   "id": "a0b2f928-2818-480a-b753-e8b4d5a32027",
   "metadata": {
    "tags": []
   },
   "outputs": [],
   "source": [
    "%openad ds find patents containing molecule CC(C)(c1ccccn1)C(CC(=O)O)Nc1nc(-c2c[nH]c3ncc(Cl)cc23)c(C#N)cc1F"
   ]
  },
  {
   "cell_type": "code",
   "execution_count": null,
   "id": "2271ff5e-c257-45db-9f9a-e0f96da95fed",
   "metadata": {
    "tags": []
   },
   "outputs": [],
   "source": [
    "%openad ds find patents containing molecule 'CC(C)(c1ccccn1)C(CC(=O)O)Nc1nc(-c2c[nH]c3ncc(Cl)cc23)c(C#N)cc1F' save as 'patents'"
   ]
  },
  {
   "cell_type": "code",
   "execution_count": null,
   "id": "6313867a-94d9-4a1d-bafe-e038c744eb41",
   "metadata": {
    "tags": []
   },
   "outputs": [],
   "source": [
    "%openad ds find patents containing molecule InChI=1S/C24H20ClFN6O2/c1-24(2,18-5-3-4-6-28-18)19(9-20(33)34)31-23-17(26)7-13(10-27)21(32-23)16-12-30-22-15(16)8-14(25)11-29-22/h3-8,11-12,19H,9H2,1-2H3,(H,29,30)(H,31,32)(H,33,34)"
   ]
  },
  {
   "cell_type": "code",
   "execution_count": null,
   "id": "8b88dd2d-9b0d-4ca1-8267-8092a17534ce",
   "metadata": {
    "tags": []
   },
   "outputs": [],
   "source": [
    "# Note: No molecule preview for InChIKey identifier\n",
    "%openad ds find patents containing molecule JUPUMSRQQQUOLP-UHFFFAOYSA-N save as 'patents'"
   ]
  },
  {
   "cell_type": "code",
   "execution_count": null,
   "id": "b6149683-db5c-41c7-88c8-8c38e90128bc",
   "metadata": {
    "tags": []
   },
   "outputs": [],
   "source": [
    "%openad ds find patents containing molecule 'JUPUMSRQQQUOLP-UHFFFAOYSA-N'"
   ]
  },
  {
   "cell_type": "code",
   "execution_count": null,
   "id": "9750b54d-ab05-448b-ab3f-d668ca60eba1",
   "metadata": {
    "tags": []
   },
   "outputs": [],
   "source": [
    "# Data API\n",
    "df = %openadd ds find patents containing molecule JUPUMSRQQQUOLP-UHFFFAOYSA-N\n",
    "df"
   ]
  }
 ],
 "metadata": {
  "kernelspec": {
   "display_name": "venv",
   "language": "python",
   "name": "venv"
  },
  "language_info": {
   "codemirror_mode": {
    "name": "ipython",
    "version": 3
   },
   "file_extension": ".py",
   "mimetype": "text/x-python",
   "name": "python",
   "nbconvert_exporter": "python",
   "pygments_lexer": "ipython3",
   "version": "3.10.14"
  }
 },
 "nbformat": 4,
 "nbformat_minor": 5
}
