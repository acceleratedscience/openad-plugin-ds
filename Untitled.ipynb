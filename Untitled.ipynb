{
 "cells": [
  {
   "cell_type": "code",
   "execution_count": null,
   "id": "828e8a57-a7b8-4cbf-85bf-f94f3f324998",
   "metadata": {
    "tags": []
   },
   "outputs": [],
   "source": [
    "%openad ds search collection 'arxiv-abstract' for 'ide(\"power conversion efficiency\" OR PCE) AND organ*' USING (limit_results=10 slop=0) show (docs) return as data"
   ]
  },
  {
   "cell_type": "code",
   "execution_count": 2,
   "id": "865c526d-b57c-4f3a-93ee-f02ea3faa967",
   "metadata": {
    "tags": []
   },
   "outputs": [
    {
     "name": "stdout",
     "output_type": "stream",
     "text": [
      "return_data True\n"
     ]
    },
    {
     "data": {
      "text/markdown": [
       "Estimated results: 9 <br> \n"
      ],
      "text/plain": [
       "<IPython.core.display.Markdown object>"
      ]
     },
     "metadata": {},
     "output_type": "display_data"
    },
    {
     "data": {
      "application/vnd.jupyter.widget-view+json": {
       "model_id": "",
       "version_major": 2,
       "version_minor": 0
      },
      "text/plain": [
       "  0%|          "
      ]
     },
     "metadata": {},
     "output_type": "display_data"
    },
    {
     "data": {
      "text/markdown": [
       "<span style=\"color: #ccc\">Next up, you can run: </span>`result open`/`edit`/`copy`/`display`/`as dataframe`/`save [as '<filename.csv>']` <br> \n"
      ],
      "text/plain": [
       "<IPython.core.display.Markdown object>"
      ]
     },
     "metadata": {},
     "output_type": "display_data"
    }
   ],
   "source": [
    "x = %openad ds search collection 'pubchem' for 'Ibuprofen' show (data) return as data"
   ]
  },
  {
   "cell_type": "code",
   "execution_count": 1,
   "id": "11439506-2079-4758-93a6-27808b9b4ec1",
   "metadata": {
    "tags": []
   },
   "outputs": [
    {
     "name": "stdout",
     "output_type": "stream",
     "text": [
      "return_data True\n"
     ]
    }
   ],
   "source": [
    "x = %openadd ds search collection 'pubchem' for 'Ibuprofen' show (data)"
   ]
  },
  {
   "cell_type": "code",
   "execution_count": 3,
   "id": "6f6f67c6-7a2a-46e8-bab7-f9234852cec7",
   "metadata": {
    "tags": []
   },
   "outputs": [
    {
     "name": "stdout",
     "output_type": "stream",
     "text": [
      "return_data False\n"
     ]
    },
    {
     "data": {
      "text/markdown": [
       "Estimated results: 9 <br> \n"
      ],
      "text/plain": [
       "<IPython.core.display.Markdown object>"
      ]
     },
     "metadata": {},
     "output_type": "display_data"
    },
    {
     "data": {
      "application/vnd.jupyter.widget-view+json": {
       "model_id": "",
       "version_major": 2,
       "version_minor": 0
      },
      "text/plain": [
       "  0%|          "
      ]
     },
     "metadata": {},
     "output_type": "display_data"
    },
    {
     "data": {
      "text/markdown": [
       "<span style=\"color: #ccc\">Next up, you can run: </span>`result open`/`edit`/`copy`/`display`/`as dataframe`/`save [as '<filename.csv>']` <br> \n"
      ],
      "text/plain": [
       "<IPython.core.display.Markdown object>"
      ]
     },
     "metadata": {},
     "output_type": "display_data"
    },
    {
     "data": {
      "text/html": [
       "<style type=\"text/css\">\n",
       "#T_f9dc1 th {\n",
       "  text-align: left;\n",
       "}\n",
       "#T_f9dc1_row0_col0, #T_f9dc1_row0_col1, #T_f9dc1_row0_col2, #T_f9dc1_row0_col3, #T_f9dc1_row0_col4, #T_f9dc1_row0_col5, #T_f9dc1_row0_col6, #T_f9dc1_row0_col7, #T_f9dc1_row0_col8, #T_f9dc1_row0_col9, #T_f9dc1_row0_col10, #T_f9dc1_row0_col11, #T_f9dc1_row0_col12, #T_f9dc1_row0_col13, #T_f9dc1_row0_col14, #T_f9dc1_row0_col15, #T_f9dc1_row0_col16, #T_f9dc1_row0_col17, #T_f9dc1_row0_col18, #T_f9dc1_row0_col19, #T_f9dc1_row0_col20, #T_f9dc1_row0_col21, #T_f9dc1_row1_col0, #T_f9dc1_row1_col1, #T_f9dc1_row1_col2, #T_f9dc1_row1_col3, #T_f9dc1_row1_col4, #T_f9dc1_row1_col5, #T_f9dc1_row1_col6, #T_f9dc1_row1_col7, #T_f9dc1_row1_col8, #T_f9dc1_row1_col9, #T_f9dc1_row1_col10, #T_f9dc1_row1_col11, #T_f9dc1_row1_col12, #T_f9dc1_row1_col13, #T_f9dc1_row1_col14, #T_f9dc1_row1_col15, #T_f9dc1_row1_col16, #T_f9dc1_row1_col17, #T_f9dc1_row1_col18, #T_f9dc1_row1_col19, #T_f9dc1_row1_col20, #T_f9dc1_row1_col21, #T_f9dc1_row2_col0, #T_f9dc1_row2_col1, #T_f9dc1_row2_col2, #T_f9dc1_row2_col3, #T_f9dc1_row2_col4, #T_f9dc1_row2_col5, #T_f9dc1_row2_col6, #T_f9dc1_row2_col7, #T_f9dc1_row2_col8, #T_f9dc1_row2_col9, #T_f9dc1_row2_col10, #T_f9dc1_row2_col11, #T_f9dc1_row2_col12, #T_f9dc1_row2_col13, #T_f9dc1_row2_col14, #T_f9dc1_row2_col15, #T_f9dc1_row2_col16, #T_f9dc1_row2_col17, #T_f9dc1_row2_col18, #T_f9dc1_row2_col19, #T_f9dc1_row2_col20, #T_f9dc1_row2_col21, #T_f9dc1_row3_col0, #T_f9dc1_row3_col1, #T_f9dc1_row3_col2, #T_f9dc1_row3_col3, #T_f9dc1_row3_col4, #T_f9dc1_row3_col5, #T_f9dc1_row3_col6, #T_f9dc1_row3_col7, #T_f9dc1_row3_col8, #T_f9dc1_row3_col9, #T_f9dc1_row3_col10, #T_f9dc1_row3_col11, #T_f9dc1_row3_col12, #T_f9dc1_row3_col13, #T_f9dc1_row3_col14, #T_f9dc1_row3_col15, #T_f9dc1_row3_col16, #T_f9dc1_row3_col17, #T_f9dc1_row3_col18, #T_f9dc1_row3_col19, #T_f9dc1_row3_col20, #T_f9dc1_row3_col21, #T_f9dc1_row4_col0, #T_f9dc1_row4_col1, #T_f9dc1_row4_col2, #T_f9dc1_row4_col3, #T_f9dc1_row4_col4, #T_f9dc1_row4_col5, #T_f9dc1_row4_col6, #T_f9dc1_row4_col7, #T_f9dc1_row4_col8, #T_f9dc1_row4_col9, #T_f9dc1_row4_col10, #T_f9dc1_row4_col11, #T_f9dc1_row4_col12, #T_f9dc1_row4_col13, #T_f9dc1_row4_col14, #T_f9dc1_row4_col15, #T_f9dc1_row4_col16, #T_f9dc1_row4_col17, #T_f9dc1_row4_col18, #T_f9dc1_row4_col19, #T_f9dc1_row4_col20, #T_f9dc1_row4_col21, #T_f9dc1_row5_col0, #T_f9dc1_row5_col1, #T_f9dc1_row5_col2, #T_f9dc1_row5_col3, #T_f9dc1_row5_col4, #T_f9dc1_row5_col5, #T_f9dc1_row5_col6, #T_f9dc1_row5_col7, #T_f9dc1_row5_col8, #T_f9dc1_row5_col9, #T_f9dc1_row5_col10, #T_f9dc1_row5_col11, #T_f9dc1_row5_col12, #T_f9dc1_row5_col13, #T_f9dc1_row5_col14, #T_f9dc1_row5_col15, #T_f9dc1_row5_col16, #T_f9dc1_row5_col17, #T_f9dc1_row5_col18, #T_f9dc1_row5_col19, #T_f9dc1_row5_col20, #T_f9dc1_row5_col21, #T_f9dc1_row6_col0, #T_f9dc1_row6_col1, #T_f9dc1_row6_col2, #T_f9dc1_row6_col3, #T_f9dc1_row6_col4, #T_f9dc1_row6_col5, #T_f9dc1_row6_col6, #T_f9dc1_row6_col7, #T_f9dc1_row6_col8, #T_f9dc1_row6_col9, #T_f9dc1_row6_col10, #T_f9dc1_row6_col11, #T_f9dc1_row6_col12, #T_f9dc1_row6_col13, #T_f9dc1_row6_col14, #T_f9dc1_row6_col15, #T_f9dc1_row6_col16, #T_f9dc1_row6_col17, #T_f9dc1_row6_col18, #T_f9dc1_row6_col19, #T_f9dc1_row6_col20, #T_f9dc1_row6_col21, #T_f9dc1_row7_col0, #T_f9dc1_row7_col1, #T_f9dc1_row7_col2, #T_f9dc1_row7_col3, #T_f9dc1_row7_col4, #T_f9dc1_row7_col5, #T_f9dc1_row7_col6, #T_f9dc1_row7_col7, #T_f9dc1_row7_col8, #T_f9dc1_row7_col9, #T_f9dc1_row7_col10, #T_f9dc1_row7_col11, #T_f9dc1_row7_col12, #T_f9dc1_row7_col13, #T_f9dc1_row7_col14, #T_f9dc1_row7_col15, #T_f9dc1_row7_col16, #T_f9dc1_row7_col17, #T_f9dc1_row7_col18, #T_f9dc1_row7_col19, #T_f9dc1_row7_col20, #T_f9dc1_row7_col21, #T_f9dc1_row8_col0, #T_f9dc1_row8_col1, #T_f9dc1_row8_col2, #T_f9dc1_row8_col3, #T_f9dc1_row8_col4, #T_f9dc1_row8_col5, #T_f9dc1_row8_col6, #T_f9dc1_row8_col7, #T_f9dc1_row8_col8, #T_f9dc1_row8_col9, #T_f9dc1_row8_col10, #T_f9dc1_row8_col11, #T_f9dc1_row8_col12, #T_f9dc1_row8_col13, #T_f9dc1_row8_col14, #T_f9dc1_row8_col15, #T_f9dc1_row8_col16, #T_f9dc1_row8_col17, #T_f9dc1_row8_col18, #T_f9dc1_row8_col19, #T_f9dc1_row8_col20, #T_f9dc1_row8_col21 {\n",
       "  text-align: left;\n",
       "}\n",
       "</style>\n",
       "<table id=\"T_f9dc1\">\n",
       "  <thead>\n",
       "    <tr>\n",
       "      <th class=\"blank level0\" >&nbsp;</th>\n",
       "      <th id=\"T_f9dc1_level0_col0\" class=\"col_heading level0 col0\" >cid</th>\n",
       "      <th id=\"T_f9dc1_level0_col1\" class=\"col_heading level0 col1\" >cas_number</th>\n",
       "      <th id=\"T_f9dc1_level0_col2\" class=\"col_heading level0 col2\" >ec_number</th>\n",
       "      <th id=\"T_f9dc1_level0_col3\" class=\"col_heading level0 col3\" >SMILES</th>\n",
       "      <th id=\"T_f9dc1_level0_col4\" class=\"col_heading level0 col4\" >chemical_name</th>\n",
       "      <th id=\"T_f9dc1_level0_col5\" class=\"col_heading level0 col5\" >DS_URL</th>\n",
       "      <th id=\"T_f9dc1_level0_col6\" class=\"col_heading level0 col6\" >molecular weight</th>\n",
       "      <th id=\"T_f9dc1_level0_col7\" class=\"col_heading level0 col7\" >xlogp3</th>\n",
       "      <th id=\"T_f9dc1_level0_col8\" class=\"col_heading level0 col8\" >hydrogen bond donor count</th>\n",
       "      <th id=\"T_f9dc1_level0_col9\" class=\"col_heading level0 col9\" >hydrogen bond acceptor count</th>\n",
       "      <th id=\"T_f9dc1_level0_col10\" class=\"col_heading level0 col10\" >rotatable bond count</th>\n",
       "      <th id=\"T_f9dc1_level0_col11\" class=\"col_heading level0 col11\" >exact mass</th>\n",
       "      <th id=\"T_f9dc1_level0_col12\" class=\"col_heading level0 col12\" >monoisotopic mass</th>\n",
       "      <th id=\"T_f9dc1_level0_col13\" class=\"col_heading level0 col13\" >topological polar surface area</th>\n",
       "      <th id=\"T_f9dc1_level0_col14\" class=\"col_heading level0 col14\" >heavy atom count</th>\n",
       "      <th id=\"T_f9dc1_level0_col15\" class=\"col_heading level0 col15\" >formal charge</th>\n",
       "      <th id=\"T_f9dc1_level0_col16\" class=\"col_heading level0 col16\" >complexity</th>\n",
       "      <th id=\"T_f9dc1_level0_col17\" class=\"col_heading level0 col17\" >isotope atom count</th>\n",
       "      <th id=\"T_f9dc1_level0_col18\" class=\"col_heading level0 col18\" >defined atom stereocenter count</th>\n",
       "      <th id=\"T_f9dc1_level0_col19\" class=\"col_heading level0 col19\" >undefined atom stereocenter count</th>\n",
       "      <th id=\"T_f9dc1_level0_col20\" class=\"col_heading level0 col20\" >covalently-bonded unit count</th>\n",
       "      <th id=\"T_f9dc1_level0_col21\" class=\"col_heading level0 col21\" >compound is canonicalized</th>\n",
       "    </tr>\n",
       "  </thead>\n",
       "  <tbody>\n",
       "    <tr>\n",
       "      <th id=\"T_f9dc1_level0_row0\" class=\"row_heading level0 row0\" >0</th>\n",
       "      <td id=\"T_f9dc1_row0_col0\" class=\"data row0 col0\" >114864</td>\n",
       "      <td id=\"T_f9dc1_row0_col1\" class=\"data row0 col1\" >51146-57-7</td>\n",
       "      <td id=\"T_f9dc1_row0_col2\" class=\"data row0 col2\" >610-621-4</td>\n",
       "      <td id=\"T_f9dc1_row0_col3\" class=\"data row0 col3\" >CC(C)CC1=CC=C(C=C1)C(C)C(=O)O</td>\n",
       "      <td id=\"T_f9dc1_row0_col4\" class=\"data row0 col4\" >(-)-ibuprofen</td>\n",
       "      <td id=\"T_f9dc1_row0_col5\" class=\"data row0 col5\" ><a href=\"https://sds.app.accelerate.science/projects/1234567890abcdefghijklmnopqrstvwyz123456/library/public?search=JTdCJTIyY29sbGVjdGlvbnMlMjIlM0ElNUIlMjJwdWJjaGVtJTIyJTVEJTJDJTIydHlwZSUyMiUzQSUyMkRvY3VtZW50JTIyJTJDJTIyZXhwcmVzc2lvbiUyMiUzQSUyMmZpbGUtaW5mby5kb2N1bWVudC1oYXNoJTNBJTIwJTVDJTIyMzI2NzM1MzkwMmQ4YTA3NmVhZDJmZjcwMmJjYzJjMWM4NmM0MDA1MDIyOWUzY2JiOWU5NmEzMmViNzA2NjYzYiU1QyUyMiUyMiUyQyUyMmZpbHRlcnMlMjIlM0ElNUIlNUQlMkMlMjJzZWxlY3QlMjIlM0ElNUIlMjJfbmFtZSUyMiUyQyUyMmRlc2NyaXB0aW9uLmNvbGxlY3Rpb24lMjIlMkMlMjJwcm92JTIyJTJDJTIyZGVzY3JpcHRpb24udGl0bGUlMjIlMkMlMjJkZXNjcmlwdGlvbi5wdWJsaWNhdGlvbl9kYXRlJTIyJTJDJTIyZGVzY3JpcHRpb24udXJsX3JlZnMlMjIlNUQlMkMlMjJpdGVtSW5kZXglMjIlM0EwJTJDJTIycGFnZVNpemUlMjIlM0ExMCUyQyUyMnNlYXJjaEFmdGVySGlzdG9yeSUyMiUzQSU1QiU1RCUyQyUyMnZpZXdUeXBlJTIyJTNBJTIyc25pcHBldHMlMjIlMkMlMjJyZWNvcmRTZWxlY3Rpb24lMjIlM0ElN0IlMjJyZWNvcmQlMjIlM0ElN0IlMjJpZCUyMiUzQSUyMjMyNjczNTM5MDJkOGEwNzZlYWQyZmY3MDJiY2MyYzFjODZjNDAwNTAyMjllM2NiYjllOTZhMzJlYjcwNjY2M2IlMjIlN0QlN0QlN0Q%3D\"  target=\"_blank\"> DS </a></td>\n",
       "      <td id=\"T_f9dc1_row0_col6\" class=\"data row0 col6\" >206.280000</td>\n",
       "      <td id=\"T_f9dc1_row0_col7\" class=\"data row0 col7\" >3.500000</td>\n",
       "      <td id=\"T_f9dc1_row0_col8\" class=\"data row0 col8\" >1.000000</td>\n",
       "      <td id=\"T_f9dc1_row0_col9\" class=\"data row0 col9\" >2.000000</td>\n",
       "      <td id=\"T_f9dc1_row0_col10\" class=\"data row0 col10\" >4.000000</td>\n",
       "      <td id=\"T_f9dc1_row0_col11\" class=\"data row0 col11\" >206.130680</td>\n",
       "      <td id=\"T_f9dc1_row0_col12\" class=\"data row0 col12\" >206.130680</td>\n",
       "      <td id=\"T_f9dc1_row0_col13\" class=\"data row0 col13\" >37.300000</td>\n",
       "      <td id=\"T_f9dc1_row0_col14\" class=\"data row0 col14\" >15.000000</td>\n",
       "      <td id=\"T_f9dc1_row0_col15\" class=\"data row0 col15\" >0.000000</td>\n",
       "      <td id=\"T_f9dc1_row0_col16\" class=\"data row0 col16\" >203.000000</td>\n",
       "      <td id=\"T_f9dc1_row0_col17\" class=\"data row0 col17\" >0.000000</td>\n",
       "      <td id=\"T_f9dc1_row0_col18\" class=\"data row0 col18\" >1.000000</td>\n",
       "      <td id=\"T_f9dc1_row0_col19\" class=\"data row0 col19\" >0.000000</td>\n",
       "      <td id=\"T_f9dc1_row0_col20\" class=\"data row0 col20\" >1.000000</td>\n",
       "      <td id=\"T_f9dc1_row0_col21\" class=\"data row0 col21\" >Yes</td>\n",
       "    </tr>\n",
       "    <tr>\n",
       "      <th id=\"T_f9dc1_level0_row1\" class=\"row_heading level0 row1\" >1</th>\n",
       "      <td id=\"T_f9dc1_row1_col0\" class=\"data row1 col0\" >175781</td>\n",
       "      <td id=\"T_f9dc1_row1_col1\" class=\"data row1 col1\" >98207-12-6</td>\n",
       "      <td id=\"T_f9dc1_row1_col2\" class=\"data row1 col2\" ></td>\n",
       "      <td id=\"T_f9dc1_row1_col3\" class=\"data row1 col3\" >CC(C)CC1=CC=C(C=C1)C(C)C(=O)OCCN2CCN(CC2)C3=CC(=CC=C3)Cl</td>\n",
       "      <td id=\"T_f9dc1_row1_col4\" class=\"data row1 col4\" >Lobuprofen</td>\n",
       "      <td id=\"T_f9dc1_row1_col5\" class=\"data row1 col5\" ><a href=\"https://sds.app.accelerate.science/projects/1234567890abcdefghijklmnopqrstvwyz123456/library/public?search=JTdCJTIyY29sbGVjdGlvbnMlMjIlM0ElNUIlMjJwdWJjaGVtJTIyJTVEJTJDJTIydHlwZSUyMiUzQSUyMkRvY3VtZW50JTIyJTJDJTIyZXhwcmVzc2lvbiUyMiUzQSUyMmZpbGUtaW5mby5kb2N1bWVudC1oYXNoJTNBJTIwJTVDJTIyNDc5ZjMxZGEwMTY3MGJjMzIxN2U5NjUxYzIwZTQ3MmRhZTE1MzE5ODhlNTcwNDI4MjgwZWU2MDQ2MDFmNzU4ZiU1QyUyMiUyMiUyQyUyMmZpbHRlcnMlMjIlM0ElNUIlNUQlMkMlMjJzZWxlY3QlMjIlM0ElNUIlMjJfbmFtZSUyMiUyQyUyMmRlc2NyaXB0aW9uLmNvbGxlY3Rpb24lMjIlMkMlMjJwcm92JTIyJTJDJTIyZGVzY3JpcHRpb24udGl0bGUlMjIlMkMlMjJkZXNjcmlwdGlvbi5wdWJsaWNhdGlvbl9kYXRlJTIyJTJDJTIyZGVzY3JpcHRpb24udXJsX3JlZnMlMjIlNUQlMkMlMjJpdGVtSW5kZXglMjIlM0EwJTJDJTIycGFnZVNpemUlMjIlM0ExMCUyQyUyMnNlYXJjaEFmdGVySGlzdG9yeSUyMiUzQSU1QiU1RCUyQyUyMnZpZXdUeXBlJTIyJTNBJTIyc25pcHBldHMlMjIlMkMlMjJyZWNvcmRTZWxlY3Rpb24lMjIlM0ElN0IlMjJyZWNvcmQlMjIlM0ElN0IlMjJpZCUyMiUzQSUyMjQ3OWYzMWRhMDE2NzBiYzMyMTdlOTY1MWMyMGU0NzJkYWUxNTMxOTg4ZTU3MDQyODI4MGVlNjA0NjAxZjc1OGYlMjIlN0QlN0QlN0Q%3D\"  target=\"_blank\"> DS </a></td>\n",
       "      <td id=\"T_f9dc1_row1_col6\" class=\"data row1 col6\" >429.000000</td>\n",
       "      <td id=\"T_f9dc1_row1_col7\" class=\"data row1 col7\" >6.100000</td>\n",
       "      <td id=\"T_f9dc1_row1_col8\" class=\"data row1 col8\" >0.000000</td>\n",
       "      <td id=\"T_f9dc1_row1_col9\" class=\"data row1 col9\" >4.000000</td>\n",
       "      <td id=\"T_f9dc1_row1_col10\" class=\"data row1 col10\" >9.000000</td>\n",
       "      <td id=\"T_f9dc1_row1_col11\" class=\"data row1 col11\" >428.223056</td>\n",
       "      <td id=\"T_f9dc1_row1_col12\" class=\"data row1 col12\" >428.223056</td>\n",
       "      <td id=\"T_f9dc1_row1_col13\" class=\"data row1 col13\" >32.800000</td>\n",
       "      <td id=\"T_f9dc1_row1_col14\" class=\"data row1 col14\" >30.000000</td>\n",
       "      <td id=\"T_f9dc1_row1_col15\" class=\"data row1 col15\" >0.000000</td>\n",
       "      <td id=\"T_f9dc1_row1_col16\" class=\"data row1 col16\" >513.000000</td>\n",
       "      <td id=\"T_f9dc1_row1_col17\" class=\"data row1 col17\" >0.000000</td>\n",
       "      <td id=\"T_f9dc1_row1_col18\" class=\"data row1 col18\" >0.000000</td>\n",
       "      <td id=\"T_f9dc1_row1_col19\" class=\"data row1 col19\" >1.000000</td>\n",
       "      <td id=\"T_f9dc1_row1_col20\" class=\"data row1 col20\" >1.000000</td>\n",
       "      <td id=\"T_f9dc1_row1_col21\" class=\"data row1 col21\" >Yes</td>\n",
       "    </tr>\n",
       "    <tr>\n",
       "      <th id=\"T_f9dc1_level0_row2\" class=\"row_heading level0 row2\" >2</th>\n",
       "      <td id=\"T_f9dc1_row2_col0\" class=\"data row2 col0\" >39912</td>\n",
       "      <td id=\"T_f9dc1_row2_col1\" class=\"data row2 col1\" >51146-56-6</td>\n",
       "      <td id=\"T_f9dc1_row2_col2\" class=\"data row2 col2\" ></td>\n",
       "      <td id=\"T_f9dc1_row2_col3\" class=\"data row2 col3\" >CC(C)CC1=CC=C(C=C1)C(C)C(=O)O</td>\n",
       "      <td id=\"T_f9dc1_row2_col4\" class=\"data row2 col4\" >Dexibuprofen</td>\n",
       "      <td id=\"T_f9dc1_row2_col5\" class=\"data row2 col5\" ><a href=\"https://sds.app.accelerate.science/projects/1234567890abcdefghijklmnopqrstvwyz123456/library/public?search=JTdCJTIyY29sbGVjdGlvbnMlMjIlM0ElNUIlMjJwdWJjaGVtJTIyJTVEJTJDJTIydHlwZSUyMiUzQSUyMkRvY3VtZW50JTIyJTJDJTIyZXhwcmVzc2lvbiUyMiUzQSUyMmZpbGUtaW5mby5kb2N1bWVudC1oYXNoJTNBJTIwJTVDJTIyODg1MWM2NzYxOGMyODM2NGIyNzg1NTA0Njk2ODMxMmI1MDA5YTk2MmRiZmVjY2I5NDE1YzRjNDAyYzc1MzUwMiU1QyUyMiUyMiUyQyUyMmZpbHRlcnMlMjIlM0ElNUIlNUQlMkMlMjJzZWxlY3QlMjIlM0ElNUIlMjJfbmFtZSUyMiUyQyUyMmRlc2NyaXB0aW9uLmNvbGxlY3Rpb24lMjIlMkMlMjJwcm92JTIyJTJDJTIyZGVzY3JpcHRpb24udGl0bGUlMjIlMkMlMjJkZXNjcmlwdGlvbi5wdWJsaWNhdGlvbl9kYXRlJTIyJTJDJTIyZGVzY3JpcHRpb24udXJsX3JlZnMlMjIlNUQlMkMlMjJpdGVtSW5kZXglMjIlM0EwJTJDJTIycGFnZVNpemUlMjIlM0ExMCUyQyUyMnNlYXJjaEFmdGVySGlzdG9yeSUyMiUzQSU1QiU1RCUyQyUyMnZpZXdUeXBlJTIyJTNBJTIyc25pcHBldHMlMjIlMkMlMjJyZWNvcmRTZWxlY3Rpb24lMjIlM0ElN0IlMjJyZWNvcmQlMjIlM0ElN0IlMjJpZCUyMiUzQSUyMjg4NTFjNjc2MThjMjgzNjRiMjc4NTUwNDY5NjgzMTJiNTAwOWE5NjJkYmZlY2NiOTQxNWM0YzQwMmM3NTM1MDIlMjIlN0QlN0QlN0Q%3D\"  target=\"_blank\"> DS </a></td>\n",
       "      <td id=\"T_f9dc1_row2_col6\" class=\"data row2 col6\" >206.280000</td>\n",
       "      <td id=\"T_f9dc1_row2_col7\" class=\"data row2 col7\" >3.500000</td>\n",
       "      <td id=\"T_f9dc1_row2_col8\" class=\"data row2 col8\" >1.000000</td>\n",
       "      <td id=\"T_f9dc1_row2_col9\" class=\"data row2 col9\" >2.000000</td>\n",
       "      <td id=\"T_f9dc1_row2_col10\" class=\"data row2 col10\" >4.000000</td>\n",
       "      <td id=\"T_f9dc1_row2_col11\" class=\"data row2 col11\" >206.130680</td>\n",
       "      <td id=\"T_f9dc1_row2_col12\" class=\"data row2 col12\" >206.130680</td>\n",
       "      <td id=\"T_f9dc1_row2_col13\" class=\"data row2 col13\" >37.300000</td>\n",
       "      <td id=\"T_f9dc1_row2_col14\" class=\"data row2 col14\" >15.000000</td>\n",
       "      <td id=\"T_f9dc1_row2_col15\" class=\"data row2 col15\" >0.000000</td>\n",
       "      <td id=\"T_f9dc1_row2_col16\" class=\"data row2 col16\" >203.000000</td>\n",
       "      <td id=\"T_f9dc1_row2_col17\" class=\"data row2 col17\" >0.000000</td>\n",
       "      <td id=\"T_f9dc1_row2_col18\" class=\"data row2 col18\" >1.000000</td>\n",
       "      <td id=\"T_f9dc1_row2_col19\" class=\"data row2 col19\" >0.000000</td>\n",
       "      <td id=\"T_f9dc1_row2_col20\" class=\"data row2 col20\" >1.000000</td>\n",
       "      <td id=\"T_f9dc1_row2_col21\" class=\"data row2 col21\" >Yes</td>\n",
       "    </tr>\n",
       "    <tr>\n",
       "      <th id=\"T_f9dc1_level0_row3\" class=\"row_heading level0 row3\" >3</th>\n",
       "      <td id=\"T_f9dc1_row3_col0\" class=\"data row3 col0\" >219068</td>\n",
       "      <td id=\"T_f9dc1_row3_col1\" class=\"data row3 col1\" >17692-38-5</td>\n",
       "      <td id=\"T_f9dc1_row3_col2\" class=\"data row3 col2\" ></td>\n",
       "      <td id=\"T_f9dc1_row3_col3\" class=\"data row3 col3\" >CC(C1=CC=C(C=C1)C2=CC(=CC=C2)F)C(=O)O</td>\n",
       "      <td id=\"T_f9dc1_row3_col4\" class=\"data row3 col4\" >Fluprofen</td>\n",
       "      <td id=\"T_f9dc1_row3_col5\" class=\"data row3 col5\" ><a href=\"https://sds.app.accelerate.science/projects/1234567890abcdefghijklmnopqrstvwyz123456/library/public?search=JTdCJTIyY29sbGVjdGlvbnMlMjIlM0ElNUIlMjJwdWJjaGVtJTIyJTVEJTJDJTIydHlwZSUyMiUzQSUyMkRvY3VtZW50JTIyJTJDJTIyZXhwcmVzc2lvbiUyMiUzQSUyMmZpbGUtaW5mby5kb2N1bWVudC1oYXNoJTNBJTIwJTVDJTIyOTFiNmUxMzlkYTRmODM4NzRmMDI4NDFiOTZmYmVjMmU1MDQyZTQ2YzNmNWU4MWY5ZDY5NTk4YWRjNTk0OGQxZSU1QyUyMiUyMiUyQyUyMmZpbHRlcnMlMjIlM0ElNUIlNUQlMkMlMjJzZWxlY3QlMjIlM0ElNUIlMjJfbmFtZSUyMiUyQyUyMmRlc2NyaXB0aW9uLmNvbGxlY3Rpb24lMjIlMkMlMjJwcm92JTIyJTJDJTIyZGVzY3JpcHRpb24udGl0bGUlMjIlMkMlMjJkZXNjcmlwdGlvbi5wdWJsaWNhdGlvbl9kYXRlJTIyJTJDJTIyZGVzY3JpcHRpb24udXJsX3JlZnMlMjIlNUQlMkMlMjJpdGVtSW5kZXglMjIlM0EwJTJDJTIycGFnZVNpemUlMjIlM0ExMCUyQyUyMnNlYXJjaEFmdGVySGlzdG9yeSUyMiUzQSU1QiU1RCUyQyUyMnZpZXdUeXBlJTIyJTNBJTIyc25pcHBldHMlMjIlMkMlMjJyZWNvcmRTZWxlY3Rpb24lMjIlM0ElN0IlMjJyZWNvcmQlMjIlM0ElN0IlMjJpZCUyMiUzQSUyMjkxYjZlMTM5ZGE0ZjgzODc0ZjAyODQxYjk2ZmJlYzJlNTA0MmU0NmMzZjVlODFmOWQ2OTU5OGFkYzU5NDhkMWUlMjIlN0QlN0QlN0Q%3D\"  target=\"_blank\"> DS </a></td>\n",
       "      <td id=\"T_f9dc1_row3_col6\" class=\"data row3 col6\" >244.260000</td>\n",
       "      <td id=\"T_f9dc1_row3_col7\" class=\"data row3 col7\" >3.700000</td>\n",
       "      <td id=\"T_f9dc1_row3_col8\" class=\"data row3 col8\" >1.000000</td>\n",
       "      <td id=\"T_f9dc1_row3_col9\" class=\"data row3 col9\" >3.000000</td>\n",
       "      <td id=\"T_f9dc1_row3_col10\" class=\"data row3 col10\" >3.000000</td>\n",
       "      <td id=\"T_f9dc1_row3_col11\" class=\"data row3 col11\" >244.089958</td>\n",
       "      <td id=\"T_f9dc1_row3_col12\" class=\"data row3 col12\" >244.089958</td>\n",
       "      <td id=\"T_f9dc1_row3_col13\" class=\"data row3 col13\" >37.300000</td>\n",
       "      <td id=\"T_f9dc1_row3_col14\" class=\"data row3 col14\" >18.000000</td>\n",
       "      <td id=\"T_f9dc1_row3_col15\" class=\"data row3 col15\" >0.000000</td>\n",
       "      <td id=\"T_f9dc1_row3_col16\" class=\"data row3 col16\" >284.000000</td>\n",
       "      <td id=\"T_f9dc1_row3_col17\" class=\"data row3 col17\" >0.000000</td>\n",
       "      <td id=\"T_f9dc1_row3_col18\" class=\"data row3 col18\" >0.000000</td>\n",
       "      <td id=\"T_f9dc1_row3_col19\" class=\"data row3 col19\" >1.000000</td>\n",
       "      <td id=\"T_f9dc1_row3_col20\" class=\"data row3 col20\" >1.000000</td>\n",
       "      <td id=\"T_f9dc1_row3_col21\" class=\"data row3 col21\" >Yes</td>\n",
       "    </tr>\n",
       "    <tr>\n",
       "      <th id=\"T_f9dc1_level0_row4\" class=\"row_heading level0 row4\" >4</th>\n",
       "      <td id=\"T_f9dc1_row4_col0\" class=\"data row4 col0\" >3672</td>\n",
       "      <td id=\"T_f9dc1_row4_col1\" class=\"data row4 col1\" >79261-49-7 (potassium salt)</td>\n",
       "      <td id=\"T_f9dc1_row4_col2\" class=\"data row4 col2\" >239-784-6</td>\n",
       "      <td id=\"T_f9dc1_row4_col3\" class=\"data row4 col3\" >CC(C)CC1=CC=C(C=C1)C(C)C(=O)O</td>\n",
       "      <td id=\"T_f9dc1_row4_col4\" class=\"data row4 col4\" >Ibuprofen</td>\n",
       "      <td id=\"T_f9dc1_row4_col5\" class=\"data row4 col5\" ><a href=\"https://sds.app.accelerate.science/projects/1234567890abcdefghijklmnopqrstvwyz123456/library/public?search=JTdCJTIyY29sbGVjdGlvbnMlMjIlM0ElNUIlMjJwdWJjaGVtJTIyJTVEJTJDJTIydHlwZSUyMiUzQSUyMkRvY3VtZW50JTIyJTJDJTIyZXhwcmVzc2lvbiUyMiUzQSUyMmZpbGUtaW5mby5kb2N1bWVudC1oYXNoJTNBJTIwJTVDJTIyOWU0MGY4NjM2MGJhOGMxMGM4NjU1NDZlMzI0ZjBjNGMzMDI4MTAxZTMwYjQ2MTkzYzg0YzNkMjg0MzEwODU5NiU1QyUyMiUyMiUyQyUyMmZpbHRlcnMlMjIlM0ElNUIlNUQlMkMlMjJzZWxlY3QlMjIlM0ElNUIlMjJfbmFtZSUyMiUyQyUyMmRlc2NyaXB0aW9uLmNvbGxlY3Rpb24lMjIlMkMlMjJwcm92JTIyJTJDJTIyZGVzY3JpcHRpb24udGl0bGUlMjIlMkMlMjJkZXNjcmlwdGlvbi5wdWJsaWNhdGlvbl9kYXRlJTIyJTJDJTIyZGVzY3JpcHRpb24udXJsX3JlZnMlMjIlNUQlMkMlMjJpdGVtSW5kZXglMjIlM0EwJTJDJTIycGFnZVNpemUlMjIlM0ExMCUyQyUyMnNlYXJjaEFmdGVySGlzdG9yeSUyMiUzQSU1QiU1RCUyQyUyMnZpZXdUeXBlJTIyJTNBJTIyc25pcHBldHMlMjIlMkMlMjJyZWNvcmRTZWxlY3Rpb24lMjIlM0ElN0IlMjJyZWNvcmQlMjIlM0ElN0IlMjJpZCUyMiUzQSUyMjllNDBmODYzNjBiYThjMTBjODY1NTQ2ZTMyNGYwYzRjMzAyODEwMWUzMGI0NjE5M2M4NGMzZDI4NDMxMDg1OTYlMjIlN0QlN0QlN0Q%3D\"  target=\"_blank\"> DS </a></td>\n",
       "      <td id=\"T_f9dc1_row4_col6\" class=\"data row4 col6\" >206.280000</td>\n",
       "      <td id=\"T_f9dc1_row4_col7\" class=\"data row4 col7\" >3.500000</td>\n",
       "      <td id=\"T_f9dc1_row4_col8\" class=\"data row4 col8\" >1.000000</td>\n",
       "      <td id=\"T_f9dc1_row4_col9\" class=\"data row4 col9\" >2.000000</td>\n",
       "      <td id=\"T_f9dc1_row4_col10\" class=\"data row4 col10\" >4.000000</td>\n",
       "      <td id=\"T_f9dc1_row4_col11\" class=\"data row4 col11\" >206.130680</td>\n",
       "      <td id=\"T_f9dc1_row4_col12\" class=\"data row4 col12\" >206.130680</td>\n",
       "      <td id=\"T_f9dc1_row4_col13\" class=\"data row4 col13\" >37.300000</td>\n",
       "      <td id=\"T_f9dc1_row4_col14\" class=\"data row4 col14\" >15.000000</td>\n",
       "      <td id=\"T_f9dc1_row4_col15\" class=\"data row4 col15\" >0.000000</td>\n",
       "      <td id=\"T_f9dc1_row4_col16\" class=\"data row4 col16\" >203.000000</td>\n",
       "      <td id=\"T_f9dc1_row4_col17\" class=\"data row4 col17\" >0.000000</td>\n",
       "      <td id=\"T_f9dc1_row4_col18\" class=\"data row4 col18\" >0.000000</td>\n",
       "      <td id=\"T_f9dc1_row4_col19\" class=\"data row4 col19\" >1.000000</td>\n",
       "      <td id=\"T_f9dc1_row4_col20\" class=\"data row4 col20\" >1.000000</td>\n",
       "      <td id=\"T_f9dc1_row4_col21\" class=\"data row4 col21\" >Yes</td>\n",
       "    </tr>\n",
       "    <tr>\n",
       "      <th id=\"T_f9dc1_level0_row5\" class=\"row_heading level0 row5\" >5</th>\n",
       "      <td id=\"T_f9dc1_row5_col0\" class=\"data row5 col0\" >68769</td>\n",
       "      <td id=\"T_f9dc1_row5_col1\" class=\"data row5 col1\" >57144-56-6</td>\n",
       "      <td id=\"T_f9dc1_row5_col2\" class=\"data row5 col2\" ></td>\n",
       "      <td id=\"T_f9dc1_row5_col3\" class=\"data row5 col3\" >CC(C)C1CC2=C(C1)C=C(C=C2)C(C)C(=O)O</td>\n",
       "      <td id=\"T_f9dc1_row5_col4\" class=\"data row5 col4\" >Isoprofen</td>\n",
       "      <td id=\"T_f9dc1_row5_col5\" class=\"data row5 col5\" ><a href=\"https://sds.app.accelerate.science/projects/1234567890abcdefghijklmnopqrstvwyz123456/library/public?search=JTdCJTIyY29sbGVjdGlvbnMlMjIlM0ElNUIlMjJwdWJjaGVtJTIyJTVEJTJDJTIydHlwZSUyMiUzQSUyMkRvY3VtZW50JTIyJTJDJTIyZXhwcmVzc2lvbiUyMiUzQSUyMmZpbGUtaW5mby5kb2N1bWVudC1oYXNoJTNBJTIwJTVDJTIyYTc1ZDA1ZjMxOTliOTZjOTQwYTc3MTQwZWJkNWEwMDczOTgyOWRmMGMwZTRmYzBlZmEzYmIyNGE5OGMyMTRjNCU1QyUyMiUyMiUyQyUyMmZpbHRlcnMlMjIlM0ElNUIlNUQlMkMlMjJzZWxlY3QlMjIlM0ElNUIlMjJfbmFtZSUyMiUyQyUyMmRlc2NyaXB0aW9uLmNvbGxlY3Rpb24lMjIlMkMlMjJwcm92JTIyJTJDJTIyZGVzY3JpcHRpb24udGl0bGUlMjIlMkMlMjJkZXNjcmlwdGlvbi5wdWJsaWNhdGlvbl9kYXRlJTIyJTJDJTIyZGVzY3JpcHRpb24udXJsX3JlZnMlMjIlNUQlMkMlMjJpdGVtSW5kZXglMjIlM0EwJTJDJTIycGFnZVNpemUlMjIlM0ExMCUyQyUyMnNlYXJjaEFmdGVySGlzdG9yeSUyMiUzQSU1QiU1RCUyQyUyMnZpZXdUeXBlJTIyJTNBJTIyc25pcHBldHMlMjIlMkMlMjJyZWNvcmRTZWxlY3Rpb24lMjIlM0ElN0IlMjJyZWNvcmQlMjIlM0ElN0IlMjJpZCUyMiUzQSUyMmE3NWQwNWYzMTk5Yjk2Yzk0MGE3NzE0MGViZDVhMDA3Mzk4MjlkZjBjMGU0ZmMwZWZhM2JiMjRhOThjMjE0YzQlMjIlN0QlN0QlN0Q%3D\"  target=\"_blank\"> DS </a></td>\n",
       "      <td id=\"T_f9dc1_row5_col6\" class=\"data row5 col6\" >232.320000</td>\n",
       "      <td id=\"T_f9dc1_row5_col7\" class=\"data row5 col7\" >3.800000</td>\n",
       "      <td id=\"T_f9dc1_row5_col8\" class=\"data row5 col8\" >1.000000</td>\n",
       "      <td id=\"T_f9dc1_row5_col9\" class=\"data row5 col9\" >2.000000</td>\n",
       "      <td id=\"T_f9dc1_row5_col10\" class=\"data row5 col10\" >3.000000</td>\n",
       "      <td id=\"T_f9dc1_row5_col11\" class=\"data row5 col11\" >232.146330</td>\n",
       "      <td id=\"T_f9dc1_row5_col12\" class=\"data row5 col12\" >232.146330</td>\n",
       "      <td id=\"T_f9dc1_row5_col13\" class=\"data row5 col13\" >37.300000</td>\n",
       "      <td id=\"T_f9dc1_row5_col14\" class=\"data row5 col14\" >17.000000</td>\n",
       "      <td id=\"T_f9dc1_row5_col15\" class=\"data row5 col15\" >0.000000</td>\n",
       "      <td id=\"T_f9dc1_row5_col16\" class=\"data row5 col16\" >285.000000</td>\n",
       "      <td id=\"T_f9dc1_row5_col17\" class=\"data row5 col17\" >0.000000</td>\n",
       "      <td id=\"T_f9dc1_row5_col18\" class=\"data row5 col18\" >0.000000</td>\n",
       "      <td id=\"T_f9dc1_row5_col19\" class=\"data row5 col19\" >2.000000</td>\n",
       "      <td id=\"T_f9dc1_row5_col20\" class=\"data row5 col20\" >1.000000</td>\n",
       "      <td id=\"T_f9dc1_row5_col21\" class=\"data row5 col21\" >Yes</td>\n",
       "    </tr>\n",
       "    <tr>\n",
       "      <th id=\"T_f9dc1_level0_row6\" class=\"row_heading level0 row6\" >6</th>\n",
       "      <td id=\"T_f9dc1_row6_col0\" class=\"data row6 col0\" >5359</td>\n",
       "      <td id=\"T_f9dc1_row6_col1\" class=\"data row6 col1\" >40828-46-4</td>\n",
       "      <td id=\"T_f9dc1_row6_col2\" class=\"data row6 col2\" >255-096-9</td>\n",
       "      <td id=\"T_f9dc1_row6_col3\" class=\"data row6 col3\" >CC(C1=CC=C(C=C1)C(=O)C2=CC=CS2)C(=O)O</td>\n",
       "      <td id=\"T_f9dc1_row6_col4\" class=\"data row6 col4\" >Suprofen</td>\n",
       "      <td id=\"T_f9dc1_row6_col5\" class=\"data row6 col5\" ><a href=\"https://sds.app.accelerate.science/projects/1234567890abcdefghijklmnopqrstvwyz123456/library/public?search=JTdCJTIyY29sbGVjdGlvbnMlMjIlM0ElNUIlMjJwdWJjaGVtJTIyJTVEJTJDJTIydHlwZSUyMiUzQSUyMkRvY3VtZW50JTIyJTJDJTIyZXhwcmVzc2lvbiUyMiUzQSUyMmZpbGUtaW5mby5kb2N1bWVudC1oYXNoJTNBJTIwJTVDJTIyYzVkMjdhZjIzNDQxZmQyZmIyMTI5MDMyYjdmYTZkNDAxZDRlMDIwZmQyYjA4ZjYwNDk1OGI0MTZjMWNlMTdjYyU1QyUyMiUyMiUyQyUyMmZpbHRlcnMlMjIlM0ElNUIlNUQlMkMlMjJzZWxlY3QlMjIlM0ElNUIlMjJfbmFtZSUyMiUyQyUyMmRlc2NyaXB0aW9uLmNvbGxlY3Rpb24lMjIlMkMlMjJwcm92JTIyJTJDJTIyZGVzY3JpcHRpb24udGl0bGUlMjIlMkMlMjJkZXNjcmlwdGlvbi5wdWJsaWNhdGlvbl9kYXRlJTIyJTJDJTIyZGVzY3JpcHRpb24udXJsX3JlZnMlMjIlNUQlMkMlMjJpdGVtSW5kZXglMjIlM0EwJTJDJTIycGFnZVNpemUlMjIlM0ExMCUyQyUyMnNlYXJjaEFmdGVySGlzdG9yeSUyMiUzQSU1QiU1RCUyQyUyMnZpZXdUeXBlJTIyJTNBJTIyc25pcHBldHMlMjIlMkMlMjJyZWNvcmRTZWxlY3Rpb24lMjIlM0ElN0IlMjJyZWNvcmQlMjIlM0ElN0IlMjJpZCUyMiUzQSUyMmM1ZDI3YWYyMzQ0MWZkMmZiMjEyOTAzMmI3ZmE2ZDQwMWQ0ZTAyMGZkMmIwOGY2MDQ5NThiNDE2YzFjZTE3Y2MlMjIlN0QlN0QlN0Q%3D\"  target=\"_blank\"> DS </a></td>\n",
       "      <td id=\"T_f9dc1_row6_col6\" class=\"data row6 col6\" >260.310000</td>\n",
       "      <td id=\"T_f9dc1_row6_col7\" class=\"data row6 col7\" >3.300000</td>\n",
       "      <td id=\"T_f9dc1_row6_col8\" class=\"data row6 col8\" >1.000000</td>\n",
       "      <td id=\"T_f9dc1_row6_col9\" class=\"data row6 col9\" >4.000000</td>\n",
       "      <td id=\"T_f9dc1_row6_col10\" class=\"data row6 col10\" >4.000000</td>\n",
       "      <td id=\"T_f9dc1_row6_col11\" class=\"data row6 col11\" >260.050715</td>\n",
       "      <td id=\"T_f9dc1_row6_col12\" class=\"data row6 col12\" >260.050715</td>\n",
       "      <td id=\"T_f9dc1_row6_col13\" class=\"data row6 col13\" >82.600000</td>\n",
       "      <td id=\"T_f9dc1_row6_col14\" class=\"data row6 col14\" >18.000000</td>\n",
       "      <td id=\"T_f9dc1_row6_col15\" class=\"data row6 col15\" >0.000000</td>\n",
       "      <td id=\"T_f9dc1_row6_col16\" class=\"data row6 col16\" >321.000000</td>\n",
       "      <td id=\"T_f9dc1_row6_col17\" class=\"data row6 col17\" >0.000000</td>\n",
       "      <td id=\"T_f9dc1_row6_col18\" class=\"data row6 col18\" >0.000000</td>\n",
       "      <td id=\"T_f9dc1_row6_col19\" class=\"data row6 col19\" >1.000000</td>\n",
       "      <td id=\"T_f9dc1_row6_col20\" class=\"data row6 col20\" >1.000000</td>\n",
       "      <td id=\"T_f9dc1_row6_col21\" class=\"data row6 col21\" >Yes</td>\n",
       "    </tr>\n",
       "    <tr>\n",
       "      <th id=\"T_f9dc1_level0_row7\" class=\"row_heading level0 row7\" >7</th>\n",
       "      <td id=\"T_f9dc1_row7_col0\" class=\"data row7 col0\" >595160</td>\n",
       "      <td id=\"T_f9dc1_row7_col1\" class=\"data row7 col1\" >36039-36-8</td>\n",
       "      <td id=\"T_f9dc1_row7_col2\" class=\"data row7 col2\" ></td>\n",
       "      <td id=\"T_f9dc1_row7_col3\" class=\"data row7 col3\" >CC(C)CC1=CC=C(C=C1)C(C)CO</td>\n",
       "      <td id=\"T_f9dc1_row7_col4\" class=\"data row7 col4\" >Ibuprofen alcohol</td>\n",
       "      <td id=\"T_f9dc1_row7_col5\" class=\"data row7 col5\" ><a href=\"https://sds.app.accelerate.science/projects/1234567890abcdefghijklmnopqrstvwyz123456/library/public?search=JTdCJTIyY29sbGVjdGlvbnMlMjIlM0ElNUIlMjJwdWJjaGVtJTIyJTVEJTJDJTIydHlwZSUyMiUzQSUyMkRvY3VtZW50JTIyJTJDJTIyZXhwcmVzc2lvbiUyMiUzQSUyMmZpbGUtaW5mby5kb2N1bWVudC1oYXNoJTNBJTIwJTVDJTIyZjRlMTE2YjA1NjVhM2NhNWQxNjU5YzI3ZjJlMTkzMzBkMDBmODkzM2MwZmU3NWEyODNmNmViMTk0NmY5ZDhiZCU1QyUyMiUyMiUyQyUyMmZpbHRlcnMlMjIlM0ElNUIlNUQlMkMlMjJzZWxlY3QlMjIlM0ElNUIlMjJfbmFtZSUyMiUyQyUyMmRlc2NyaXB0aW9uLmNvbGxlY3Rpb24lMjIlMkMlMjJwcm92JTIyJTJDJTIyZGVzY3JpcHRpb24udGl0bGUlMjIlMkMlMjJkZXNjcmlwdGlvbi5wdWJsaWNhdGlvbl9kYXRlJTIyJTJDJTIyZGVzY3JpcHRpb24udXJsX3JlZnMlMjIlNUQlMkMlMjJpdGVtSW5kZXglMjIlM0EwJTJDJTIycGFnZVNpemUlMjIlM0ExMCUyQyUyMnNlYXJjaEFmdGVySGlzdG9yeSUyMiUzQSU1QiU1RCUyQyUyMnZpZXdUeXBlJTIyJTNBJTIyc25pcHBldHMlMjIlMkMlMjJyZWNvcmRTZWxlY3Rpb24lMjIlM0ElN0IlMjJyZWNvcmQlMjIlM0ElN0IlMjJpZCUyMiUzQSUyMmY0ZTExNmIwNTY1YTNjYTVkMTY1OWMyN2YyZTE5MzMwZDAwZjg5MzNjMGZlNzVhMjgzZjZlYjE5NDZmOWQ4YmQlMjIlN0QlN0QlN0Q%3D\"  target=\"_blank\"> DS </a></td>\n",
       "      <td id=\"T_f9dc1_row7_col6\" class=\"data row7 col6\" >192.300000</td>\n",
       "      <td id=\"T_f9dc1_row7_col7\" class=\"data row7 col7\" >3.400000</td>\n",
       "      <td id=\"T_f9dc1_row7_col8\" class=\"data row7 col8\" >1.000000</td>\n",
       "      <td id=\"T_f9dc1_row7_col9\" class=\"data row7 col9\" >1.000000</td>\n",
       "      <td id=\"T_f9dc1_row7_col10\" class=\"data row7 col10\" >4.000000</td>\n",
       "      <td id=\"T_f9dc1_row7_col11\" class=\"data row7 col11\" >192.151415</td>\n",
       "      <td id=\"T_f9dc1_row7_col12\" class=\"data row7 col12\" >192.151415</td>\n",
       "      <td id=\"T_f9dc1_row7_col13\" class=\"data row7 col13\" >20.200000</td>\n",
       "      <td id=\"T_f9dc1_row7_col14\" class=\"data row7 col14\" >14.000000</td>\n",
       "      <td id=\"T_f9dc1_row7_col15\" class=\"data row7 col15\" >0.000000</td>\n",
       "      <td id=\"T_f9dc1_row7_col16\" class=\"data row7 col16\" >145.000000</td>\n",
       "      <td id=\"T_f9dc1_row7_col17\" class=\"data row7 col17\" >0.000000</td>\n",
       "      <td id=\"T_f9dc1_row7_col18\" class=\"data row7 col18\" >0.000000</td>\n",
       "      <td id=\"T_f9dc1_row7_col19\" class=\"data row7 col19\" >1.000000</td>\n",
       "      <td id=\"T_f9dc1_row7_col20\" class=\"data row7 col20\" >1.000000</td>\n",
       "      <td id=\"T_f9dc1_row7_col21\" class=\"data row7 col21\" >Yes</td>\n",
       "    </tr>\n",
       "    <tr>\n",
       "      <th id=\"T_f9dc1_level0_row8\" class=\"row_heading level0 row8\" >8</th>\n",
       "      <td id=\"T_f9dc1_row8_col0\" class=\"data row8 col0\" >71261</td>\n",
       "      <td id=\"T_f9dc1_row8_col1\" class=\"data row8 col1\" >83394-44-9</td>\n",
       "      <td id=\"T_f9dc1_row8_col2\" class=\"data row8 col2\" >280-048-9</td>\n",
       "      <td id=\"T_f9dc1_row8_col3\" class=\"data row8 col3\" >CC(C)CC1=CC=C(C=C1)C(C)C(=O)NCCO</td>\n",
       "      <td id=\"T_f9dc1_row8_col4\" class=\"data row8 col4\" >Mabuprofen</td>\n",
       "      <td id=\"T_f9dc1_row8_col5\" class=\"data row8 col5\" ><a href=\"https://sds.app.accelerate.science/projects/1234567890abcdefghijklmnopqrstvwyz123456/library/public?search=JTdCJTIyY29sbGVjdGlvbnMlMjIlM0ElNUIlMjJwdWJjaGVtJTIyJTVEJTJDJTIydHlwZSUyMiUzQSUyMkRvY3VtZW50JTIyJTJDJTIyZXhwcmVzc2lvbiUyMiUzQSUyMmZpbGUtaW5mby5kb2N1bWVudC1oYXNoJTNBJTIwJTVDJTIyZjYyOWI4NmE3Y2RhNzRhYzczNWI4NWRkMzYxOTUwM2ZhMTIyNWU5MzBhMmMwODMxZmY0NWIxYjA4ODAwOTEyZSU1QyUyMiUyMiUyQyUyMmZpbHRlcnMlMjIlM0ElNUIlNUQlMkMlMjJzZWxlY3QlMjIlM0ElNUIlMjJfbmFtZSUyMiUyQyUyMmRlc2NyaXB0aW9uLmNvbGxlY3Rpb24lMjIlMkMlMjJwcm92JTIyJTJDJTIyZGVzY3JpcHRpb24udGl0bGUlMjIlMkMlMjJkZXNjcmlwdGlvbi5wdWJsaWNhdGlvbl9kYXRlJTIyJTJDJTIyZGVzY3JpcHRpb24udXJsX3JlZnMlMjIlNUQlMkMlMjJpdGVtSW5kZXglMjIlM0EwJTJDJTIycGFnZVNpemUlMjIlM0ExMCUyQyUyMnNlYXJjaEFmdGVySGlzdG9yeSUyMiUzQSU1QiU1RCUyQyUyMnZpZXdUeXBlJTIyJTNBJTIyc25pcHBldHMlMjIlMkMlMjJyZWNvcmRTZWxlY3Rpb24lMjIlM0ElN0IlMjJyZWNvcmQlMjIlM0ElN0IlMjJpZCUyMiUzQSUyMmY2MjliODZhN2NkYTc0YWM3MzViODVkZDM2MTk1MDNmYTEyMjVlOTMwYTJjMDgzMWZmNDViMWIwODgwMDkxMmUlMjIlN0QlN0QlN0Q%3D\"  target=\"_blank\"> DS </a></td>\n",
       "      <td id=\"T_f9dc1_row8_col6\" class=\"data row8 col6\" >249.350000</td>\n",
       "      <td id=\"T_f9dc1_row8_col7\" class=\"data row8 col7\" >2.600000</td>\n",
       "      <td id=\"T_f9dc1_row8_col8\" class=\"data row8 col8\" >2.000000</td>\n",
       "      <td id=\"T_f9dc1_row8_col9\" class=\"data row8 col9\" >2.000000</td>\n",
       "      <td id=\"T_f9dc1_row8_col10\" class=\"data row8 col10\" >6.000000</td>\n",
       "      <td id=\"T_f9dc1_row8_col11\" class=\"data row8 col11\" >249.172879</td>\n",
       "      <td id=\"T_f9dc1_row8_col12\" class=\"data row8 col12\" >249.172879</td>\n",
       "      <td id=\"T_f9dc1_row8_col13\" class=\"data row8 col13\" >49.300000</td>\n",
       "      <td id=\"T_f9dc1_row8_col14\" class=\"data row8 col14\" >18.000000</td>\n",
       "      <td id=\"T_f9dc1_row8_col15\" class=\"data row8 col15\" >0.000000</td>\n",
       "      <td id=\"T_f9dc1_row8_col16\" class=\"data row8 col16\" >245.000000</td>\n",
       "      <td id=\"T_f9dc1_row8_col17\" class=\"data row8 col17\" >0.000000</td>\n",
       "      <td id=\"T_f9dc1_row8_col18\" class=\"data row8 col18\" >0.000000</td>\n",
       "      <td id=\"T_f9dc1_row8_col19\" class=\"data row8 col19\" >1.000000</td>\n",
       "      <td id=\"T_f9dc1_row8_col20\" class=\"data row8 col20\" >1.000000</td>\n",
       "      <td id=\"T_f9dc1_row8_col21\" class=\"data row8 col21\" >Yes</td>\n",
       "    </tr>\n",
       "  </tbody>\n",
       "</table>\n"
      ],
      "text/plain": [
       "<pandas.io.formats.style.Styler at 0x300e23b50>"
      ]
     },
     "metadata": {},
     "output_type": "display_data"
    }
   ],
   "source": [
    "%openad ds search collection 'pubchem' for 'Ibuprofen' show (data)"
   ]
  }
 ],
 "metadata": {
  "kernelspec": {
   "display_name": "ad-venv",
   "language": "python",
   "name": "ad-venv"
  },
  "language_info": {
   "codemirror_mode": {
    "name": "ipython",
    "version": 3
   },
   "file_extension": ".py",
   "mimetype": "text/x-python",
   "name": "python",
   "nbconvert_exporter": "python",
   "pygments_lexer": "ipython3",
   "version": "3.10.14"
  }
 },
 "nbformat": 4,
 "nbformat_minor": 5
}
